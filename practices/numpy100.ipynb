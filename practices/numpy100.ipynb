{
 "cells": [
  {
   "cell_type": "markdown",
   "metadata": {
    "id": "1Rk3MCirx-gA"
   },
   "source": [
    "1. `numpy`를 `np`라는 이름으로 불러온다."
   ]
  },
  {
   "cell_type": "code",
   "execution_count": 1,
   "metadata": {
    "id": "J71Fcvihxzi9"
   },
   "outputs": [],
   "source": [
    "import numpy as np"
   ]
  },
  {
   "cell_type": "markdown",
   "metadata": {
    "id": "yFXYJspQyIPT"
   },
   "source": [
    "2. `numpy`버전을 확인한다."
   ]
  },
  {
   "cell_type": "code",
   "execution_count": 2,
   "metadata": {
    "colab": {
     "base_uri": "https://localhost:8080/"
    },
    "id": "pXMIfvi9yHG5",
    "outputId": "52689172-7c05-458a-a6a7-db854de1e5b7"
   },
   "outputs": [
    {
     "name": "stdout",
     "output_type": "stream",
     "text": [
      "1.22.4\n"
     ]
    }
   ],
   "source": [
    "print(np.__version__)"
   ]
  },
  {
   "cell_type": "markdown",
   "metadata": {
    "id": "D52rYqifyYtK"
   },
   "source": [
    "3. 크기가 10인 0-벡터를 생성하라."
   ]
  },
  {
   "cell_type": "code",
   "execution_count": 3,
   "metadata": {
    "colab": {
     "base_uri": "https://localhost:8080/"
    },
    "id": "9a2qagIByT5-",
    "outputId": "589d76c7-cd60-42fc-a6a1-3ffd0fc10176"
   },
   "outputs": [
    {
     "name": "stdout",
     "output_type": "stream",
     "text": [
      "[0. 0. 0. 0. 0. 0. 0. 0. 0. 0.]\n"
     ]
    }
   ],
   "source": [
    "Z = np.zeros(10)\n",
    "print(Z)"
   ]
  },
  {
   "cell_type": "markdown",
   "metadata": {
    "id": "4ZozwEqVyZy8"
   },
   "source": [
    "6. 크기 10인 0-벡터를 생성한 후에 다섯 번쨰 값(4번 인덱스)은 1로 지정하라."
   ]
  },
  {
   "cell_type": "code",
   "execution_count": null,
   "metadata": {
    "colab": {
     "base_uri": "https://localhost:8080/"
    },
    "id": "DjZdhoKuKfqn",
    "outputId": "ae4710f0-6732-474f-c012-212148b2f073"
   },
   "outputs": [
    {
     "name": "stdout",
     "output_type": "stream",
     "text": [
      "[0. 0. 0. 0. 1. 0. 0. 0. 0. 0.]\n"
     ]
    }
   ],
   "source": [
    "Z = np.zeros(10)\n",
    "Z[4] = 1\n",
    "print(Z)"
   ]
  },
  {
   "cell_type": "markdown",
   "metadata": {
    "id": "Bly_H3ozyaSd"
   },
   "source": [
    "7. 10에서 49까지의 정수로 구성된 벡터를 생성하라."
   ]
  },
  {
   "cell_type": "code",
   "execution_count": null,
   "metadata": {
    "colab": {
     "base_uri": "https://localhost:8080/"
    },
    "id": "0VkfsWyPKvcE",
    "outputId": "8f0595ac-90ff-4742-d964-1522e57d5061"
   },
   "outputs": [
    {
     "name": "stdout",
     "output_type": "stream",
     "text": [
      "[10 11 12 13 14 15 16 17 18 19 20 21 22 23 24 25 26 27 28 29 30 31 32 33\n",
      " 34 35 36 37 38 39 40 41 42 43 44 45 46 47 48 49]\n"
     ]
    }
   ],
   "source": [
    "Z = np.arange(10,50)\n",
    "print(Z)"
   ]
  },
  {
   "cell_type": "markdown",
   "metadata": {
    "id": "Ca86zp_azgIf"
   },
   "source": [
    "8. 7번으로 만든 벡터를 반전하는 방법 (요소를 거꾸로 만들기)"
   ]
  },
  {
   "cell_type": "code",
   "execution_count": null,
   "metadata": {
    "colab": {
     "base_uri": "https://localhost:8080/"
    },
    "id": "Dfx0n5g1KxfA",
    "outputId": "ce2a1ae3-dc41-4ffd-d143-1859cc12ee69"
   },
   "outputs": [
    {
     "name": "stdout",
     "output_type": "stream",
     "text": [
      "[49 48 47 46 45 44 43 42 41 40 39 38 37 36 35 34 33 32 31 30 29 28 27 26\n",
      " 25 24 23 22 21 20 19 18 17 16 15 14 13 12 11 10  9  8  7  6  5  4  3  2\n",
      "  1  0]\n"
     ]
    }
   ],
   "source": [
    "Z = np.arange(50)\n",
    "Z = Z[::-1]\n",
    "print(Z)"
   ]
  },
  {
   "cell_type": "markdown",
   "metadata": {
    "id": "K3IRP0_yzg5h"
   },
   "source": [
    "9. 0~8로 이루어진 3*3의 매트릭스 만드는 방법"
   ]
  },
  {
   "cell_type": "code",
   "execution_count": null,
   "metadata": {
    "colab": {
     "base_uri": "https://localhost:8080/"
    },
    "id": "3TnVoMehK1vg",
    "outputId": "0f3168c7-72c4-4ee9-cac1-67d6c3cbfed7"
   },
   "outputs": [
    {
     "name": "stdout",
     "output_type": "stream",
     "text": [
      "[[0 1 2]\n",
      " [3 4 5]\n",
      " [6 7 8]]\n"
     ]
    }
   ],
   "source": [
    "Z = np.arange(9).reshape(3, 3) # reshape 사용하면 배열 모양 바꿀 수 있음\n",
    "print(Z)"
   ]
  },
  {
   "cell_type": "markdown",
   "metadata": {
    "id": "YZHt6yYXzhTB"
   },
   "source": [
    "10. [1,2,0,0,4]에서 0이 아닌 요소의 인덱스를 찾아보자"
   ]
  },
  {
   "cell_type": "code",
   "execution_count": null,
   "metadata": {
    "colab": {
     "base_uri": "https://localhost:8080/"
    },
    "id": "ZtsZ8LlSK7xr",
    "outputId": "a067b685-2a73-44a2-8739-09515572b09f"
   },
   "outputs": [
    {
     "name": "stdout",
     "output_type": "stream",
     "text": [
      "(array([0, 1, 4]),)\n"
     ]
    }
   ],
   "source": [
    "nz = np.nonzero([1,2,0,0,4,0]) # 0이 아닌 요소의 인덱스 찾는 nonzero\n",
    "print(nz)"
   ]
  },
  {
   "cell_type": "markdown",
   "metadata": {
    "id": "d_jDSYNEzlvt"
   },
   "source": [
    "11. 3*3 크기의 매트릭스 만들기\n",
    "\n",
    "- `eye()`를 사용하면 대각선으로 1 출력"
   ]
  },
  {
   "cell_type": "code",
   "execution_count": null,
   "metadata": {
    "colab": {
     "base_uri": "https://localhost:8080/"
    },
    "id": "hF_WIcFkLDEM",
    "outputId": "9e40eb70-bab8-4fc2-8bcb-c5893568da8b"
   },
   "outputs": [
    {
     "name": "stdout",
     "output_type": "stream",
     "text": [
      "[[1. 0. 0.]\n",
      " [0. 1. 0.]\n",
      " [0. 0. 1.]]\n"
     ]
    }
   ],
   "source": [
    "Z = np.eye(3)\n",
    "print(Z)"
   ]
  },
  {
   "cell_type": "markdown",
   "metadata": {
    "id": "hdDYKGJ5znEx"
   },
   "source": [
    "12. 랜덤 값으로 이루어진 3 * 3 * 3의 배열을 만들자"
   ]
  },
  {
   "cell_type": "code",
   "execution_count": null,
   "metadata": {
    "colab": {
     "base_uri": "https://localhost:8080/"
    },
    "id": "v-K8hejPLP11",
    "outputId": "ee6f9246-a41f-4fce-919d-3abed55ad592"
   },
   "outputs": [
    {
     "name": "stdout",
     "output_type": "stream",
     "text": [
      "[[[0.09459229 0.14737168 0.41721605]\n",
      "  [0.38540425 0.55182027 0.97161004]\n",
      "  [0.79326517 0.5772105  0.23933223]]\n",
      "\n",
      " [[0.14222829 0.85243657 0.40166772]\n",
      "  [0.26999547 0.05794391 0.75573631]\n",
      "  [0.87822531 0.28717044 0.54248102]]\n",
      "\n",
      " [[0.38021322 0.65998256 0.24996781]\n",
      "  [0.04232617 0.14662342 0.62342034]\n",
      "  [0.94015502 0.66010189 0.54795589]]]\n"
     ]
    }
   ],
   "source": [
    "Z = np.random.random((3,3,3))\n",
    "print(Z)"
   ]
  },
  {
   "cell_type": "markdown",
   "metadata": {
    "id": "9prE0bsdznbj"
   },
   "source": [
    "13. 랜덤 값으로 이루어진 10*10의 배열을 만들고 최솟값과 최대값을 찾아보자\n",
    "\n",
    "- 최대값`.max()`\n",
    "- 최솟값 `.min()`"
   ]
  },
  {
   "cell_type": "code",
   "execution_count": null,
   "metadata": {
    "colab": {
     "base_uri": "https://localhost:8080/"
    },
    "id": "QKv01_LqLV0G",
    "outputId": "c2c3e09f-2868-4886-ab95-911bf4a38d25"
   },
   "outputs": [
    {
     "name": "stdout",
     "output_type": "stream",
     "text": [
      "0.047110099558293816 0.9993781873241879\n"
     ]
    }
   ],
   "source": [
    "Z = np.random.random((10,10))\n",
    "Zmin, Zmax = Z.min(), Z.max()\n",
    "print(Zmin, Zmax)"
   ]
  },
  {
   "cell_type": "markdown",
   "metadata": {
    "id": "cN6sf81vzoTG"
   },
   "source": [
    "14. 30 크기의 랜덤 벡터를 만들고 평균값을 찾아보자.\n",
    "\n",
    "- 평균 `.mean()`"
   ]
  },
  {
   "cell_type": "code",
   "execution_count": null,
   "metadata": {
    "colab": {
     "base_uri": "https://localhost:8080/"
    },
    "id": "Md1d0kNPLYJ1",
    "outputId": "21272cb9-9ffd-4518-989d-5b3d29df82f9"
   },
   "outputs": [
    {
     "name": "stdout",
     "output_type": "stream",
     "text": [
      "0.4973834688788036\n"
     ]
    }
   ],
   "source": [
    "Z = np.random.random(30)\n",
    "m = Z.mean()\n",
    "print(m)"
   ]
  },
  {
   "cell_type": "markdown",
   "metadata": {
    "id": "fBkVVQfv-xNy"
   },
   "source": [
    "15. 경계가 1이고 내부가 0으로 이루어진 2차원 배열 만들기"
   ]
  },
  {
   "cell_type": "code",
   "execution_count": null,
   "metadata": {
    "colab": {
     "base_uri": "https://localhost:8080/"
    },
    "id": "A4x4Rb2bLnfr",
    "outputId": "6c33b679-c95a-4800-94dc-88f6daf8854b"
   },
   "outputs": [
    {
     "name": "stdout",
     "output_type": "stream",
     "text": [
      "[[1. 1. 1. 1. 1. 1. 1. 1. 1. 1.]\n",
      " [1. 0. 0. 0. 0. 0. 0. 0. 0. 1.]\n",
      " [1. 0. 0. 0. 0. 0. 0. 0. 0. 1.]\n",
      " [1. 0. 0. 0. 0. 0. 0. 0. 0. 1.]\n",
      " [1. 0. 0. 0. 0. 0. 0. 0. 0. 1.]\n",
      " [1. 0. 0. 0. 0. 0. 0. 0. 0. 1.]\n",
      " [1. 0. 0. 0. 0. 0. 0. 0. 0. 1.]\n",
      " [1. 0. 0. 0. 0. 0. 0. 0. 0. 1.]\n",
      " [1. 0. 0. 0. 0. 0. 0. 0. 0. 1.]\n",
      " [1. 1. 1. 1. 1. 1. 1. 1. 1. 1.]]\n"
     ]
    }
   ],
   "source": [
    "Z = np.ones((10,10)) # 1로 만들고\n",
    "Z[1:-1,1:-1] = 0    # 0을 채운다\n",
    "print(Z)"
   ]
  },
  {
   "cell_type": "markdown",
   "metadata": {
    "id": "Z_sQ7vfi-zZt"
   },
   "source": [
    "16. 기존 배열에 테두리를 0으로 채우는 방법"
   ]
  },
  {
   "cell_type": "code",
   "execution_count": null,
   "metadata": {
    "colab": {
     "base_uri": "https://localhost:8080/"
    },
    "id": "h_PqgRM4LyPG",
    "outputId": "abb4c038-8945-46f0-9c17-9b9ca1795485"
   },
   "outputs": [
    {
     "name": "stdout",
     "output_type": "stream",
     "text": [
      "[[0. 0. 0. 0. 0. 0. 0.]\n",
      " [0. 1. 1. 1. 1. 1. 0.]\n",
      " [0. 1. 1. 1. 1. 1. 0.]\n",
      " [0. 1. 1. 1. 1. 1. 0.]\n",
      " [0. 1. 1. 1. 1. 1. 0.]\n",
      " [0. 1. 1. 1. 1. 1. 0.]\n",
      " [0. 0. 0. 0. 0. 0. 0.]]\n"
     ]
    }
   ],
   "source": [
    "Z = np.ones((5,5)) # 1로 이루어진 5*5배열을 만들고\n",
    "Z = np.pad(Z, pad_width=1, mode='constant', constant_values=0) # 크기 1만큼의 0으로 패딩\n",
    "print(Z)"
   ]
  },
  {
   "cell_type": "code",
   "execution_count": null,
   "metadata": {
    "colab": {
     "base_uri": "https://localhost:8080/"
    },
    "id": "VgdWpaJ-MJ4u",
    "outputId": "12ba928d-69dc-4a62-c8f7-d611660dffd6"
   },
   "outputs": [
    {
     "name": "stdout",
     "output_type": "stream",
     "text": [
      "[[0. 0. 0. 0. 0. 0. 0.]\n",
      " [0. 1. 1. 1. 1. 1. 0.]\n",
      " [0. 1. 1. 1. 1. 1. 0.]\n",
      " [0. 1. 1. 1. 1. 1. 0.]\n",
      " [0. 1. 1. 1. 1. 1. 0.]\n",
      " [0. 1. 1. 1. 1. 1. 0.]\n",
      " [0. 0. 0. 0. 0. 0. 0.]]\n"
     ]
    }
   ],
   "source": [
    "# 이것도 같은 동작\n",
    "Z[:, [0, -1]] = 0\n",
    "Z[[0, -1], :] = 0\n",
    "print(Z)"
   ]
  },
  {
   "cell_type": "markdown",
   "metadata": {
    "id": "g4MnEmjc-zWR"
   },
   "source": [
    "17. 아래의 결과를 확인하자\n",
    "\n",
    "0 * np.nan  \n",
    "np.nan == np.nan  \n",
    "np.inf > np.nan  \n",
    "np.nan - np.nan  \n",
    "np.nan in set([np.nan])  \n",
    "0.3 == 3 * 0.1\n",
    "\n"
   ]
  },
  {
   "cell_type": "code",
   "execution_count": null,
   "metadata": {
    "colab": {
     "base_uri": "https://localhost:8080/"
    },
    "id": "yftDQ-FZMUOo",
    "outputId": "18c08a87-63f0-4c74-e80c-833f75b39147"
   },
   "outputs": [
    {
     "name": "stdout",
     "output_type": "stream",
     "text": [
      "nan\n",
      "False\n",
      "False\n",
      "nan\n",
      "True\n",
      "False\n"
     ]
    }
   ],
   "source": [
    "print(0 * np.nan)\n",
    "print(np.nan == np.nan)\n",
    "print(np.inf > np.nan)\n",
    "print(np.nan - np.nan)\n",
    "print(np.nan in set([np.nan]))\n",
    "print(0.3 == 3 * 0.1)"
   ]
  },
  {
   "cell_type": "markdown",
   "metadata": {
    "id": "K7HsN1ba-zTs"
   },
   "source": [
    "18. 5*5 매트릭스를 생성하고 대각선으로 1,2,3,4의 값이 나올 수 있도록 "
   ]
  },
  {
   "cell_type": "code",
   "execution_count": null,
   "metadata": {
    "colab": {
     "base_uri": "https://localhost:8080/"
    },
    "id": "yqe6rLXMMbiN",
    "outputId": "e17e9a66-45a8-4b7b-8c3f-d4ecb42f7f8f"
   },
   "outputs": [
    {
     "name": "stdout",
     "output_type": "stream",
     "text": [
      "[[0 0 0 0 0]\n",
      " [1 0 0 0 0]\n",
      " [0 2 0 0 0]\n",
      " [0 0 3 0 0]\n",
      " [0 0 0 4 0]]\n"
     ]
    }
   ],
   "source": [
    "Z = np.diag(1+np.arange(4),k=-1)  # 지정 열을 기준으로 대각선으로 지정 행렬 생성\n",
    "print(Z)"
   ]
  },
  {
   "cell_type": "markdown",
   "metadata": {
    "id": "K5tGXQPh-zRF"
   },
   "source": [
    "19. 8*8 매트릭스 생성해 체크보드 패턴 채우기"
   ]
  },
  {
   "cell_type": "code",
   "execution_count": null,
   "metadata": {
    "colab": {
     "base_uri": "https://localhost:8080/"
    },
    "id": "gsEsLUngNdrp",
    "outputId": "8d1b0538-236d-42fb-84e2-85bede114901"
   },
   "outputs": [
    {
     "name": "stdout",
     "output_type": "stream",
     "text": [
      "[[0 1 0 1 0 1 0 1]\n",
      " [1 0 1 0 1 0 1 0]\n",
      " [0 1 0 1 0 1 0 1]\n",
      " [1 0 1 0 1 0 1 0]\n",
      " [0 1 0 1 0 1 0 1]\n",
      " [1 0 1 0 1 0 1 0]\n",
      " [0 1 0 1 0 1 0 1]\n",
      " [1 0 1 0 1 0 1 0]]\n"
     ]
    }
   ],
   "source": [
    "Z = np.zeros((8,8),dtype=int)\n",
    "Z[1::2,::2] = 1 # 1번 행부터 격행으로, 요소들을 하나씩 건너뛰며 1로 지정\n",
    "Z[::2,1::2] = 1 # 0번 행부터 격행으로, 요소들을 하나씩 건너뛰며 1로 지정\n",
    "print(Z)"
   ]
  },
  {
   "cell_type": "markdown",
   "metadata": {
    "id": "mDcMos0d-zLn"
   },
   "source": [
    "20. 100번째 원소의 인덱스(x,y,z)은 무엇인가\n",
    "\n",
    "(형상 배열(6,7,8)을 고려해라)"
   ]
  },
  {
   "cell_type": "code",
   "execution_count": null,
   "metadata": {
    "colab": {
     "base_uri": "https://localhost:8080/"
    },
    "id": "RLUQqQcuN_Nj",
    "outputId": "8bb2723c-e937-4595-97b2-08e6a16730f3"
   },
   "outputs": [
    {
     "name": "stdout",
     "output_type": "stream",
     "text": [
      "(1, 5, 3)\n"
     ]
    }
   ],
   "source": [
    "print(np.unravel_index(99,(6,7,8)))  # 6*7*8의 행렬에서 100번째 월소의 위치"
   ]
  },
  {
   "cell_type": "code",
   "execution_count": null,
   "metadata": {
    "colab": {
     "base_uri": "https://localhost:8080/"
    },
    "id": "bhJAs8APOmUP",
    "outputId": "75d76cb5-8988-4d84-8323-097091bab10d"
   },
   "outputs": [
    {
     "data": {
      "text/plain": [
       "array([[[  0,   1,   2,   3,   4,   5,   6,   7],\n",
       "        [  8,   9,  10,  11,  12,  13,  14,  15],\n",
       "        [ 16,  17,  18,  19,  20,  21,  22,  23],\n",
       "        [ 24,  25,  26,  27,  28,  29,  30,  31],\n",
       "        [ 32,  33,  34,  35,  36,  37,  38,  39],\n",
       "        [ 40,  41,  42,  43,  44,  45,  46,  47],\n",
       "        [ 48,  49,  50,  51,  52,  53,  54,  55]],\n",
       "\n",
       "       [[ 56,  57,  58,  59,  60,  61,  62,  63],\n",
       "        [ 64,  65,  66,  67,  68,  69,  70,  71],\n",
       "        [ 72,  73,  74,  75,  76,  77,  78,  79],\n",
       "        [ 80,  81,  82,  83,  84,  85,  86,  87],\n",
       "        [ 88,  89,  90,  91,  92,  93,  94,  95],\n",
       "        [ 96,  97,  98,  99, 100, 101, 102, 103],\n",
       "        [104, 105, 106, 107, 108, 109, 110, 111]],\n",
       "\n",
       "       [[112, 113, 114, 115, 116, 117, 118, 119],\n",
       "        [120, 121, 122, 123, 124, 125, 126, 127],\n",
       "        [128, 129, 130, 131, 132, 133, 134, 135],\n",
       "        [136, 137, 138, 139, 140, 141, 142, 143],\n",
       "        [144, 145, 146, 147, 148, 149, 150, 151],\n",
       "        [152, 153, 154, 155, 156, 157, 158, 159],\n",
       "        [160, 161, 162, 163, 164, 165, 166, 167]],\n",
       "\n",
       "       [[168, 169, 170, 171, 172, 173, 174, 175],\n",
       "        [176, 177, 178, 179, 180, 181, 182, 183],\n",
       "        [184, 185, 186, 187, 188, 189, 190, 191],\n",
       "        [192, 193, 194, 195, 196, 197, 198, 199],\n",
       "        [200, 201, 202, 203, 204, 205, 206, 207],\n",
       "        [208, 209, 210, 211, 212, 213, 214, 215],\n",
       "        [216, 217, 218, 219, 220, 221, 222, 223]],\n",
       "\n",
       "       [[224, 225, 226, 227, 228, 229, 230, 231],\n",
       "        [232, 233, 234, 235, 236, 237, 238, 239],\n",
       "        [240, 241, 242, 243, 244, 245, 246, 247],\n",
       "        [248, 249, 250, 251, 252, 253, 254, 255],\n",
       "        [256, 257, 258, 259, 260, 261, 262, 263],\n",
       "        [264, 265, 266, 267, 268, 269, 270, 271],\n",
       "        [272, 273, 274, 275, 276, 277, 278, 279]],\n",
       "\n",
       "       [[280, 281, 282, 283, 284, 285, 286, 287],\n",
       "        [288, 289, 290, 291, 292, 293, 294, 295],\n",
       "        [296, 297, 298, 299, 300, 301, 302, 303],\n",
       "        [304, 305, 306, 307, 308, 309, 310, 311],\n",
       "        [312, 313, 314, 315, 316, 317, 318, 319],\n",
       "        [320, 321, 322, 323, 324, 325, 326, 327],\n",
       "        [328, 329, 330, 331, 332, 333, 334, 335]]])"
      ]
     },
     "execution_count": 37,
     "metadata": {},
     "output_type": "execute_result"
    }
   ],
   "source": [
    "# 확인 가능\n",
    "x = np.arange(6*7*8).reshape(6,7,8)\n",
    "x"
   ]
  },
  {
   "cell_type": "markdown",
   "metadata": {
    "id": "YRhD2PYI-zIW"
   },
   "source": [
    "21. `tile()`를 사용해 체크보드 8*8 매트릭스 만들기"
   ]
  },
  {
   "cell_type": "code",
   "execution_count": null,
   "metadata": {
    "colab": {
     "base_uri": "https://localhost:8080/"
    },
    "id": "KDnu1YX1UntQ",
    "outputId": "dceb3180-641a-4609-a2eb-30001b013965"
   },
   "outputs": [
    {
     "name": "stdout",
     "output_type": "stream",
     "text": [
      "[[0 1 0 1 0 1 0 1]\n",
      " [1 0 1 0 1 0 1 0]\n",
      " [0 1 0 1 0 1 0 1]\n",
      " [1 0 1 0 1 0 1 0]\n",
      " [0 1 0 1 0 1 0 1]\n",
      " [1 0 1 0 1 0 1 0]\n",
      " [0 1 0 1 0 1 0 1]\n",
      " [1 0 1 0 1 0 1 0]]\n"
     ]
    }
   ],
   "source": [
    "Z = np.tile( np.array([[0,1],[1,0]]), (4,4)) # 주어진 배열을 주어진 만큼 행, 열로 반복\n",
    "print(Z)"
   ]
  },
  {
   "cell_type": "markdown",
   "metadata": {
    "id": "xGbR7LB2-zF9"
   },
   "source": [
    "22. 5*5 랜덤 행렬 정규화하기"
   ]
  },
  {
   "cell_type": "code",
   "execution_count": null,
   "metadata": {
    "colab": {
     "base_uri": "https://localhost:8080/"
    },
    "id": "qMnshZ5lU-Iy",
    "outputId": "7857e7bf-f321-4a9e-db60-d5f0538cfbfc"
   },
   "outputs": [
    {
     "name": "stdout",
     "output_type": "stream",
     "text": [
      "[[-0.79488334  1.15310695  1.34094896 -0.892641    1.00830168]\n",
      " [-0.56541184 -1.22964083 -1.25959608  0.31237877 -0.08993814]\n",
      " [-1.12422539 -0.55133242 -1.08154543  1.72365301 -0.40321279]\n",
      " [ 1.53513601  1.07292269  1.32206867 -0.20954948 -1.00990786]\n",
      " [ 0.78841009 -0.90155817 -1.14119748  0.0100677   0.98764571]]\n"
     ]
    }
   ],
   "source": [
    "Z = np.random.random((5,5))\n",
    "Z = (Z - np.mean (Z)) / (np.std (Z))\n",
    "print(Z)"
   ]
  },
  {
   "cell_type": "markdown",
   "metadata": {
    "id": "x16XOMc5-zDk"
   },
   "source": [
    "23. 색상을 4바이트(RGBA)로 나타내는 사용자 지정 dtype 생성하기"
   ]
  },
  {
   "cell_type": "code",
   "execution_count": null,
   "metadata": {
    "colab": {
     "base_uri": "https://localhost:8080/"
    },
    "id": "XCq_CKcbVHyI",
    "outputId": "986c68ec-a9da-447e-dfcf-74f91ce91825"
   },
   "outputs": [
    {
     "name": "stderr",
     "output_type": "stream",
     "text": [
      "/usr/local/lib/python3.7/dist-packages/ipykernel_launcher.py:4: FutureWarning: Passing (type, 1) or '1type' as a synonym of type is deprecated; in a future version of numpy, it will be understood as (type, (1,)) / '(1,)type'.\n",
      "  after removing the cwd from sys.path.\n"
     ]
    }
   ],
   "source": [
    "color = np.dtype([(\"r\", np.ubyte, 1),\n",
    "                  (\"g\", np.ubyte, 1),\n",
    "                  (\"b\", np.ubyte, 1),\n",
    "                  (\"a\", np.ubyte, 1)])"
   ]
  },
  {
   "cell_type": "markdown",
   "metadata": {
    "id": "3hW-b5Wb-zBI"
   },
   "source": [
    "24. 5 * 3 매트릭스에 3 * 2 매트릭스를 곱합니다.\n",
    "\n",
    "- 행렬의 곱"
   ]
  },
  {
   "cell_type": "code",
   "execution_count": null,
   "metadata": {
    "colab": {
     "base_uri": "https://localhost:8080/"
    },
    "id": "jBpxA7YRWvK8",
    "outputId": "794db565-6e50-49be-b61c-eb1112da90d3"
   },
   "outputs": [
    {
     "name": "stdout",
     "output_type": "stream",
     "text": [
      "[[3. 3.]\n",
      " [3. 3.]\n",
      " [3. 3.]\n",
      " [3. 3.]\n",
      " [3. 3.]]\n"
     ]
    }
   ],
   "source": [
    "Z = np.dot(np.ones((5,3)), np.ones((3,2)))\n",
    "print(Z)"
   ]
  },
  {
   "cell_type": "code",
   "execution_count": null,
   "metadata": {
    "colab": {
     "base_uri": "https://localhost:8080/"
    },
    "id": "7wZ8xrs3XSyE",
    "outputId": "2e2dcf97-c749-4a70-f115-1e091268b362"
   },
   "outputs": [
    {
     "name": "stdout",
     "output_type": "stream",
     "text": [
      "[[3. 3.]\n",
      " [3. 3.]\n",
      " [3. 3.]\n",
      " [3. 3.]\n",
      " [3. 3.]]\n"
     ]
    }
   ],
   "source": [
    "# 또는 (@이용)\n",
    "Z = np.ones((5,3)) @ np.ones((3,2))\n",
    "print(Z)"
   ]
  },
  {
   "cell_type": "markdown",
   "metadata": {
    "id": "jY6MtbSO-y-v"
   },
   "source": [
    "25. 1차원 배열이 주어지면 3과 8 사이의 모든 요소를 부정하기(-1을 곱해 출력).\n"
   ]
  },
  {
   "cell_type": "code",
   "execution_count": null,
   "metadata": {
    "colab": {
     "base_uri": "https://localhost:8080/"
    },
    "id": "3ipYric0XRMw",
    "outputId": "96de1898-27fd-4b3c-a726-a65ad270da23"
   },
   "outputs": [
    {
     "name": "stdout",
     "output_type": "stream",
     "text": [
      "[ 0  1  2  3 -4 -5 -6 -7  8  9 10]\n"
     ]
    }
   ],
   "source": [
    "Z = np.arange(11)\n",
    "Z[(3 < Z) & (Z < 8)] *= -1 # 3과 8 사이의 수에 -1을 곱한다\n",
    "print(Z)"
   ]
  },
  {
   "cell_type": "markdown",
   "metadata": {
    "id": "xWsziHD5-y8K"
   },
   "source": [
    "26. 아래의 코드의 결과를 확인하자.\n",
    "\n",
    "print(sum(range(5),-1))  \n",
    "from numpy import *  \n",
    "print(sum(range(5),-1))  \n"
   ]
  },
  {
   "cell_type": "code",
   "execution_count": null,
   "metadata": {
    "colab": {
     "base_uri": "https://localhost:8080/"
    },
    "id": "jQPtkC7XXlL1",
    "outputId": "ae85dd90-2116-4f92-e7e2-27434216e934"
   },
   "outputs": [
    {
     "name": "stdout",
     "output_type": "stream",
     "text": [
      "9\n"
     ]
    }
   ],
   "source": [
    "#0+1+2+3+4-1\n",
    "print(sum(range(5),-1))"
   ]
  },
  {
   "cell_type": "code",
   "execution_count": null,
   "metadata": {
    "colab": {
     "base_uri": "https://localhost:8080/"
    },
    "id": "_TxUv_gEYiJ6",
    "outputId": "0b013e23-4df6-4b6f-acff-e97212bb5b1d"
   },
   "outputs": [
    {
     "name": "stdout",
     "output_type": "stream",
     "text": [
      "10\n"
     ]
    }
   ],
   "source": [
    "# 0+1+2+3+4, axis=-1\n",
    "from numpy import *\n",
    "print(sum(range(5),-1))"
   ]
  },
  {
   "cell_type": "markdown",
   "metadata": {
    "id": "pocSZJSY-y56"
   },
   "source": [
    "27. 아래의 표현들 중 맞는 표현찾기(정수 벡터 Z를 생각)\n",
    "\n",
    "Z**Z   ❌  \n",
    "2 << Z >> 2 🆗     \n",
    "Z <- Z  🆗    \n",
    "1j*Z  🆗    \n",
    "Z/1/1 🆗   \n",
    "Z<Z>Z    ❌ \n"
   ]
  },
  {
   "cell_type": "code",
   "execution_count": null,
   "metadata": {
    "id": "ZMAOCK-mZVbd"
   },
   "outputs": [],
   "source": [
    "Z**Z"
   ]
  },
  {
   "cell_type": "code",
   "execution_count": null,
   "metadata": {
    "colab": {
     "base_uri": "https://localhost:8080/"
    },
    "id": "WwOUHhBwZdpx",
    "outputId": "937a8baf-1613-45b3-b1b0-da3815f88e3b"
   },
   "outputs": [
    {
     "data": {
      "text/plain": [
       "array([  0,   1,   2,   4,   0,   0,   0,   0, 128, 256, 512])"
      ]
     },
     "execution_count": 8,
     "metadata": {},
     "output_type": "execute_result"
    }
   ],
   "source": [
    "2 << Z >> 2"
   ]
  },
  {
   "cell_type": "code",
   "execution_count": null,
   "metadata": {
    "colab": {
     "base_uri": "https://localhost:8080/"
    },
    "id": "CJfJkqQ8ZhZI",
    "outputId": "fbee2806-2780-414e-b191-550df4648338"
   },
   "outputs": [
    {
     "data": {
      "text/plain": [
       "array([False, False, False, False,  True,  True,  True,  True, False,\n",
       "       False, False])"
      ]
     },
     "execution_count": 9,
     "metadata": {},
     "output_type": "execute_result"
    }
   ],
   "source": [
    "Z <- Z"
   ]
  },
  {
   "cell_type": "code",
   "execution_count": null,
   "metadata": {
    "colab": {
     "base_uri": "https://localhost:8080/"
    },
    "id": "ongqrOntZlIG",
    "outputId": "0fb8193b-e01d-4c64-a4e8-9705579ad4db"
   },
   "outputs": [
    {
     "data": {
      "text/plain": [
       "array([ 0. +0.j,  0. +1.j,  0. +2.j,  0. +3.j, -0. -4.j, -0. -5.j,\n",
       "       -0. -6.j, -0. -7.j,  0. +8.j,  0. +9.j,  0.+10.j])"
      ]
     },
     "execution_count": 10,
     "metadata": {},
     "output_type": "execute_result"
    }
   ],
   "source": [
    "1j*Z"
   ]
  },
  {
   "cell_type": "code",
   "execution_count": null,
   "metadata": {
    "colab": {
     "base_uri": "https://localhost:8080/"
    },
    "id": "wYc9wQ29ZoHt",
    "outputId": "3a5cf067-1451-4a2b-93df-d483e8ab99c5"
   },
   "outputs": [
    {
     "data": {
      "text/plain": [
       "array([ 0.,  1.,  2.,  3., -4., -5., -6., -7.,  8.,  9., 10.])"
      ]
     },
     "execution_count": 11,
     "metadata": {},
     "output_type": "execute_result"
    }
   ],
   "source": [
    "Z/1/1"
   ]
  },
  {
   "cell_type": "code",
   "execution_count": null,
   "metadata": {
    "id": "rlj3dPfLZqdp"
   },
   "outputs": [],
   "source": [
    "Z<Z>Z"
   ]
  },
  {
   "cell_type": "markdown",
   "metadata": {
    "id": "hHkh5iaV-y3T"
   },
   "source": [
    "28. 다음 표현식의 결과 확인하기\n",
    "\n",
    "np.array(0) / np.array(0)  \n",
    "np.array(0) // np.array(0)  \n",
    "np.array([np.nan]).astype(int).astype(float)  \n"
   ]
  },
  {
   "cell_type": "code",
   "execution_count": null,
   "metadata": {
    "colab": {
     "base_uri": "https://localhost:8080/"
    },
    "id": "cmzIJrzjaRXK",
    "outputId": "266f10b1-61c3-4cc9-a480-fb5d5f9210a6"
   },
   "outputs": [
    {
     "name": "stdout",
     "output_type": "stream",
     "text": [
      "nan\n",
      "0\n",
      "[-9.22337204e+18]\n"
     ]
    },
    {
     "name": "stderr",
     "output_type": "stream",
     "text": [
      "/usr/local/lib/python3.7/dist-packages/ipykernel_launcher.py:1: RuntimeWarning: invalid value encountered in true_divide\n",
      "  \"\"\"Entry point for launching an IPython kernel.\n",
      "/usr/local/lib/python3.7/dist-packages/ipykernel_launcher.py:2: RuntimeWarning: divide by zero encountered in floor_divide\n",
      "  \n"
     ]
    }
   ],
   "source": [
    "print(np.array(0) / np.array(0)) # 나눗셈 결과 float\n",
    "print(np.array(0) // np.array(0)) # 나눗셈 결과 int\n",
    "print(np.array([np.nan]).astype(int).astype(float)) # int형으로 바꾼걸 float형으로 바꿔 출력"
   ]
  },
  {
   "cell_type": "markdown",
   "metadata": {
    "id": "4oYGTHcE-y1d"
   },
   "source": [
    "29. 실수형 배열 0에서 반올림하는 방법 "
   ]
  },
  {
   "cell_type": "code",
   "execution_count": null,
   "metadata": {
    "colab": {
     "base_uri": "https://localhost:8080/"
    },
    "id": "oenmIMwGbuYG",
    "outputId": "c1a4cc76-58a6-4d6a-fd9c-65c25cc635b2"
   },
   "outputs": [
    {
     "data": {
      "text/plain": [
       "array([-5.14356706, -8.15103206,  2.23074448, -3.3070881 ,  7.23778262,\n",
       "       -4.34943066, -4.52501116, -5.79355815, -6.03999354, -7.92532272])"
      ]
     },
     "execution_count": 21,
     "metadata": {},
     "output_type": "execute_result"
    }
   ],
   "source": [
    "Z = np.random.uniform(-10,+10,10)\n",
    "Z"
   ]
  },
  {
   "cell_type": "code",
   "execution_count": null,
   "metadata": {
    "colab": {
     "base_uri": "https://localhost:8080/"
    },
    "id": "ocQI3U26a1t2",
    "outputId": "1c22ff4b-2dd5-4b9d-dfea-3824d2d8c2dd"
   },
   "outputs": [
    {
     "name": "stdout",
     "output_type": "stream",
     "text": [
      "[-6. -9.  3. -4.  8. -5. -5. -6. -7. -8.]\n"
     ]
    }
   ],
   "source": [
    "print(np.copysign(np.ceil(np.abs(Z)), Z))"
   ]
  },
  {
   "cell_type": "code",
   "execution_count": null,
   "metadata": {
    "colab": {
     "base_uri": "https://localhost:8080/"
    },
    "id": "9cgw_Gs9a5DN",
    "outputId": "bca36313-b072-45b7-ee05-5f1a9e0d7b9a"
   },
   "outputs": [
    {
     "name": "stdout",
     "output_type": "stream",
     "text": [
      "[-6. -9.  3. -4.  8. -5. -5. -6. -7. -8.]\n"
     ]
    }
   ],
   "source": [
    "# 또 다른 방법\n",
    "print(np.where(Z>0, np.ceil(Z), np.floor(Z)))\n",
    "\n",
    "# where() : 조건에 맞는 것과 아닌 것을 구분해 값을 나타낸다\n",
    "# ceil() : 주어진 숫자와 같은 정수 또는 주어진 숫자보다 크며 가장 가까운 정수 반환\n",
    "# floor() : 주어진 숫자와 같은 정수 또는 주어진 숫자보다 작으며 가장 가까운 정수를 반환"
   ]
  },
  {
   "cell_type": "markdown",
   "metadata": {
    "id": "j4BGIzDz-yyd"
   },
   "source": [
    "30. 두 어레이 간의 공통 값을 찾는 방법"
   ]
  },
  {
   "cell_type": "code",
   "execution_count": null,
   "metadata": {
    "colab": {
     "base_uri": "https://localhost:8080/"
    },
    "id": "Yta67bq-cBms",
    "outputId": "e73d2a7c-9fc1-453b-c59b-e2eaee6b1fb4"
   },
   "outputs": [
    {
     "name": "stdout",
     "output_type": "stream",
     "text": [
      "[2 4 5 7]\n"
     ]
    }
   ],
   "source": [
    "Z1 = np.random.randint(0,10,10)\n",
    "Z2 = np.random.randint(0,10,10)\n",
    "print(np.intersect1d(Z1,Z2))"
   ]
  },
  {
   "cell_type": "markdown",
   "metadata": {
    "id": "pP3h5m_N-yvo"
   },
   "source": [
    "31. 모든 numpy 경고를 무시하는 방법(권장되지 않음)\n"
   ]
  },
  {
   "cell_type": "code",
   "execution_count": null,
   "metadata": {
    "id": "ibzK-boOcEah"
   },
   "outputs": [],
   "source": [
    "# 무시 설정\n",
    "defaults = np.seterr(all=\"ignore\")"
   ]
  },
  {
   "cell_type": "code",
   "execution_count": null,
   "metadata": {
    "id": "Vq0bppO8cUz3"
   },
   "outputs": [],
   "source": [
    "with np.errstate(all=\"ignore\"):\n",
    "    np.arange(3) / 0"
   ]
  },
  {
   "cell_type": "code",
   "execution_count": null,
   "metadata": {
    "id": "eFCo6mXJcKBV"
   },
   "outputs": [],
   "source": [
    "# 확인 \n",
    "Z = np.ones(1) / 0"
   ]
  },
  {
   "cell_type": "code",
   "execution_count": null,
   "metadata": {
    "id": "Kesb6OHRcL3g"
   },
   "outputs": [],
   "source": [
    "# 돌아가기\n",
    "_ = np.seterr(**defaults)"
   ]
  },
  {
   "cell_type": "code",
   "execution_count": null,
   "metadata": {
    "colab": {
     "base_uri": "https://localhost:8080/"
    },
    "id": "GJobF8KtcNqb",
    "outputId": "72b653e1-a648-4211-a84a-4f56738d4d4b"
   },
   "outputs": [
    {
     "name": "stderr",
     "output_type": "stream",
     "text": [
      "/usr/local/lib/python3.7/dist-packages/ipykernel_launcher.py:2: RuntimeWarning: divide by zero encountered in true_divide\n",
      "  \n"
     ]
    }
   ],
   "source": [
    "# 확인 \n",
    "Z = np.ones(1) / 0"
   ]
  },
  {
   "cell_type": "markdown",
   "metadata": {
    "id": "PMMJayib-ytU"
   },
   "source": [
    "32. 다음 표현이 참일까? "
   ]
  },
  {
   "cell_type": "code",
   "execution_count": null,
   "metadata": {
    "colab": {
     "base_uri": "https://localhost:8080/"
    },
    "id": "_HLBnj7fcHX8",
    "outputId": "eb721c55-2d20-4e7a-c201-21f9e023f94d"
   },
   "outputs": [
    {
     "name": "stderr",
     "output_type": "stream",
     "text": [
      "/usr/local/lib/python3.7/dist-packages/ipykernel_launcher.py:1: RuntimeWarning: invalid value encountered in sqrt\n",
      "  \"\"\"Entry point for launching an IPython kernel.\n"
     ]
    },
    {
     "data": {
      "text/plain": [
       "False"
      ]
     },
     "execution_count": 35,
     "metadata": {},
     "output_type": "execute_result"
    }
   ],
   "source": [
    "np.sqrt(-1) == np.emath.sqrt(-1)"
   ]
  },
  {
   "cell_type": "markdown",
   "metadata": {
    "id": "u9GhV2hB-yra"
   },
   "source": [
    "33. 어제, 오늘, 그리고 내일의 날짜를 확인하는 방법"
   ]
  },
  {
   "cell_type": "code",
   "execution_count": null,
   "metadata": {
    "colab": {
     "base_uri": "https://localhost:8080/"
    },
    "id": "tAMG2LiPceev",
    "outputId": "c5cc493c-36d1-4e3b-807d-5a358c43528e"
   },
   "outputs": [
    {
     "name": "stdout",
     "output_type": "stream",
     "text": [
      "2022-09-07\n",
      "2022-09-08\n",
      "2022-09-09\n"
     ]
    }
   ],
   "source": [
    "yesterday = np.datetime64('today') - np.timedelta64(1)\n",
    "today     = np.datetime64('today')\n",
    "tomorrow  = np.datetime64('today') + np.timedelta64(1)\n",
    "print(yesterday)\n",
    "print(today)\n",
    "print(tomorrow)"
   ]
  },
  {
   "cell_type": "markdown",
   "metadata": {
    "id": "9pQ7RzXG-yoj"
   },
   "source": [
    "34.  2016년 7월에 해당하는 모든 날짜를 확인하는 방법"
   ]
  },
  {
   "cell_type": "code",
   "execution_count": null,
   "metadata": {
    "colab": {
     "base_uri": "https://localhost:8080/"
    },
    "id": "tv211e0dcnZ0",
    "outputId": "7c43ac18-236d-4935-a296-15fbf8746e8c"
   },
   "outputs": [
    {
     "name": "stdout",
     "output_type": "stream",
     "text": [
      "['2016-07-01' '2016-07-02' '2016-07-03' '2016-07-04' '2016-07-05'\n",
      " '2016-07-06' '2016-07-07' '2016-07-08' '2016-07-09' '2016-07-10'\n",
      " '2016-07-11' '2016-07-12' '2016-07-13' '2016-07-14' '2016-07-15'\n",
      " '2016-07-16' '2016-07-17' '2016-07-18' '2016-07-19' '2016-07-20'\n",
      " '2016-07-21' '2016-07-22' '2016-07-23' '2016-07-24' '2016-07-25'\n",
      " '2016-07-26' '2016-07-27' '2016-07-28' '2016-07-29' '2016-07-30'\n",
      " '2016-07-31']\n"
     ]
    }
   ],
   "source": [
    "Z = np.arange('2016-07', '2016-08', dtype='datetime64[D]')\n",
    "print(Z)"
   ]
  },
  {
   "cell_type": "markdown",
   "metadata": {
    "id": "ZFpq0wWO-ymG"
   },
   "source": [
    "35. (A+B)*(-A/2)를 제 자리에서 계산하는 방법(복사본 없이)"
   ]
  },
  {
   "cell_type": "code",
   "execution_count": null,
   "metadata": {
    "colab": {
     "base_uri": "https://localhost:8080/"
    },
    "id": "gZjpyuvocqMR",
    "outputId": "5c90a79e-dbb4-41ca-b4d8-e9c62056623e"
   },
   "outputs": [
    {
     "data": {
      "text/plain": [
       "array([-1.5, -1.5, -1.5])"
      ]
     },
     "execution_count": 40,
     "metadata": {},
     "output_type": "execute_result"
    }
   ],
   "source": [
    "A = np.ones(3)*1\n",
    "B = np.ones(3)*2\n",
    "C = np.ones(3)*3\n",
    "\n",
    "np.add(A,B,out=B)\n",
    "np.divide(A,2,out=A)\n",
    "np.negative(A,out=A)\n",
    "np.multiply(A,B,out=A)"
   ]
  },
  {
   "cell_type": "markdown",
   "metadata": {
    "id": "69d0llxv-yjp"
   },
   "source": [
    "36. 4가지 다른 방법을 사용하여 양수 배열의 정수 부분 추출하기\n"
   ]
  },
  {
   "cell_type": "code",
   "execution_count": null,
   "metadata": {
    "colab": {
     "base_uri": "https://localhost:8080/"
    },
    "id": "xTXPBTuVct_B",
    "outputId": "1f54011b-1753-409b-b835-50c3bdfe2401"
   },
   "outputs": [
    {
     "name": "stdout",
     "output_type": "stream",
     "text": [
      "[6. 4. 0. 3. 0. 4. 3. 7. 5. 4.]\n",
      "[6. 4. 0. 3. 0. 4. 3. 7. 5. 4.]\n",
      "[6. 4. 0. 3. 0. 4. 3. 7. 5. 4.]\n",
      "[6 4 0 3 0 4 3 7 5 4]\n",
      "[6. 4. 0. 3. 0. 4. 3. 7. 5. 4.]\n"
     ]
    }
   ],
   "source": [
    "Z = np.random.uniform(0,10,10)\n",
    "\n",
    "print(Z - Z%1)\n",
    "print(Z // 1)\n",
    "print(np.floor(Z))\n",
    "print(Z.astype(int))\n",
    "print(np.trunc(Z))"
   ]
  },
  {
   "cell_type": "markdown",
   "metadata": {
    "id": "n1c_xYgu-yhW"
   },
   "source": [
    "37. 행 값이 0~4인 5*5 매트릭스 만들기\n"
   ]
  },
  {
   "cell_type": "code",
   "execution_count": null,
   "metadata": {
    "colab": {
     "base_uri": "https://localhost:8080/"
    },
    "id": "1eXRQS31czdk",
    "outputId": "93678b1c-4ce6-48df-ea94-2912b7dad370"
   },
   "outputs": [
    {
     "name": "stdout",
     "output_type": "stream",
     "text": [
      "[[0. 1. 2. 3. 4.]\n",
      " [0. 1. 2. 3. 4.]\n",
      " [0. 1. 2. 3. 4.]\n",
      " [0. 1. 2. 3. 4.]\n",
      " [0. 1. 2. 3. 4.]]\n"
     ]
    }
   ],
   "source": [
    "Z = np.zeros((5,5))\n",
    "Z += np.arange(5)\n",
    "print(Z)"
   ]
  },
  {
   "cell_type": "markdown",
   "metadata": {
    "id": "QQHmPqDv-yex"
   },
   "source": [
    "38. 10개의 정수 생성 후 이것을 사용하여 배열을 만드는 함수를 구현하기"
   ]
  },
  {
   "cell_type": "code",
   "execution_count": null,
   "metadata": {
    "colab": {
     "base_uri": "https://localhost:8080/"
    },
    "id": "w6emojo2c232",
    "outputId": "4925a9be-304d-4229-e149-27ed931df643"
   },
   "outputs": [
    {
     "name": "stdout",
     "output_type": "stream",
     "text": [
      "[0. 1. 2. 3. 4. 5. 6. 7. 8. 9.]\n"
     ]
    }
   ],
   "source": [
    "def generate():\n",
    "    for x in range(10):\n",
    "        yield x\n",
    "\n",
    "Z = np.fromiter(generate(),dtype=float,count=-1) # 함수대로, 지정한 타입대로 배열 생성\n",
    "\n",
    "print(Z)"
   ]
  },
  {
   "cell_type": "markdown",
   "metadata": {
    "id": "WRJMQ5VF-ycH"
   },
   "source": [
    "39. 0에서 1 사이의 값으로 크기 10의 벡터를 만듭니다(0 과 1 제외)."
   ]
  },
  {
   "cell_type": "code",
   "execution_count": null,
   "metadata": {
    "colab": {
     "base_uri": "https://localhost:8080/"
    },
    "id": "Ds1NgUjzdKaw",
    "outputId": "6dd98a60-e3a5-405a-d9d5-12b64e045d15"
   },
   "outputs": [
    {
     "name": "stdout",
     "output_type": "stream",
     "text": [
      "[0.09090909 0.18181818 0.27272727 0.36363636 0.45454545 0.54545455\n",
      " 0.63636364 0.72727273 0.81818182 0.90909091]\n"
     ]
    }
   ],
   "source": [
    "Z = np.linspace(0,1,11,endpoint=False)[1:]\n",
    "print(Z)"
   ]
  },
  {
   "cell_type": "markdown",
   "metadata": {
    "id": "jw_cKFWs-ySb"
   },
   "source": [
    "40. 크기가 10이고 랜덤의 수로 이뤄진 벡터를 만들어 정렬하기"
   ]
  },
  {
   "cell_type": "code",
   "execution_count": null,
   "metadata": {
    "colab": {
     "base_uri": "https://localhost:8080/"
    },
    "id": "RxICnm5IdNYQ",
    "outputId": "548d780c-b88b-4195-8f84-9a2e69d75dab"
   },
   "outputs": [
    {
     "name": "stdout",
     "output_type": "stream",
     "text": [
      "[0.03111353 0.12705453 0.16773354 0.2069788  0.23817002 0.46907439\n",
      " 0.57705274 0.67439564 0.69101664 0.95728674]\n"
     ]
    }
   ],
   "source": [
    "Z = np.random.random(10)\n",
    "Z.sort()\n",
    "print(Z)"
   ]
  },
  {
   "cell_type": "markdown",
   "metadata": {
    "id": "gRGsFEiN-xpk"
   },
   "source": [
    "41. `np.sum`보다 1차원 배열을 더 빨리 더하는 방법"
   ]
  },
  {
   "cell_type": "code",
   "execution_count": null,
   "metadata": {
    "colab": {
     "base_uri": "https://localhost:8080/"
    },
    "id": "N0le8AXrzfVU",
    "outputId": "5b7fb280-44ee-4006-dbe2-28e036c6ef47"
   },
   "outputs": [
    {
     "data": {
      "text/plain": [
       "45"
      ]
     },
     "execution_count": 46,
     "metadata": {},
     "output_type": "execute_result"
    }
   ],
   "source": [
    "Z = np.arange(10)\n",
    "np.add.reduce(Z)"
   ]
  },
  {
   "cell_type": "markdown",
   "metadata": {
    "id": "kB7BF0KWeHIP"
   },
   "source": [
    "42. 두 개의 랜덤 배열 A와 B가 같은지 확인"
   ]
  },
  {
   "cell_type": "code",
   "execution_count": null,
   "metadata": {
    "colab": {
     "base_uri": "https://localhost:8080/"
    },
    "id": "F31QpEn0eDKB",
    "outputId": "f62e16d8-3d8b-4e16-d9ba-537e27466786"
   },
   "outputs": [
    {
     "name": "stdout",
     "output_type": "stream",
     "text": [
      "[0 1 1 1 1]\n",
      "[1 1 0 1 1]\n"
     ]
    }
   ],
   "source": [
    "A = np.random.randint(0,2,5)\n",
    "B = np.random.randint(0,2,5)\n",
    "\n",
    "print(A)\n",
    "print(B)"
   ]
  },
  {
   "cell_type": "code",
   "execution_count": null,
   "metadata": {
    "colab": {
     "base_uri": "https://localhost:8080/"
    },
    "id": "QiXLt22se0J2",
    "outputId": "bbc7e4f9-6f19-40f3-ec02-ece59f1077dd"
   },
   "outputs": [
    {
     "name": "stdout",
     "output_type": "stream",
     "text": [
      "False\n"
     ]
    }
   ],
   "source": [
    "# 허용오차 있음\n",
    "equal = np.allclose(A,B)\n",
    "print(equal)"
   ]
  },
  {
   "cell_type": "code",
   "execution_count": null,
   "metadata": {
    "colab": {
     "base_uri": "https://localhost:8080/"
    },
    "id": "TcVt1pjyeO2p",
    "outputId": "510dfbd1-43df-4b47-fe41-2af6a4fc46a3"
   },
   "outputs": [
    {
     "name": "stdout",
     "output_type": "stream",
     "text": [
      "False\n"
     ]
    }
   ],
   "source": [
    "# 허용오차 두지 않음\n",
    "equal = np.array_equal(A,B)\n",
    "print(equal)"
   ]
  },
  {
   "cell_type": "markdown",
   "metadata": {
    "id": "Vw6P5gefevM1"
   },
   "source": [
    "43. 배열을 불변으로 만들기(읽기 전용)"
   ]
  },
  {
   "cell_type": "code",
   "execution_count": null,
   "metadata": {
    "id": "DxBgzXmteNug"
   },
   "outputs": [],
   "source": [
    "Z = np.zeros(10)\n",
    "Z.flags.writeable = False\n",
    "\n",
    "# 읽기 전용이라 오류 발생\n",
    "Z[0] = 1"
   ]
  },
  {
   "cell_type": "markdown",
   "metadata": {
    "id": "JMdM88M_fUNZ"
   },
   "source": [
    "44. 데카르트 좌표를 나타내는 랜덤 10*2 행렬로 극좌표로 변환"
   ]
  },
  {
   "cell_type": "code",
   "execution_count": null,
   "metadata": {
    "colab": {
     "base_uri": "https://localhost:8080/"
    },
    "id": "BByLdvFQfTWy",
    "outputId": "d498a3c2-81e1-41d2-9b89-bd3ce6b27918"
   },
   "outputs": [
    {
     "name": "stdout",
     "output_type": "stream",
     "text": [
      "[0.87392394 0.41747507 0.70195353 0.74476017 0.96983561 0.51741106\n",
      " 0.63076853 0.60737934 0.7902613  0.82775279]\n",
      "[1.38190663 0.65105408 0.23841712 0.02259636 1.03849932 0.32412973\n",
      " 0.85989012 1.55651199 0.47852956 0.37343637]\n"
     ]
    }
   ],
   "source": [
    "Z = np.random.random((10,2))\n",
    "\n",
    "X,Y = Z[:,0], Z[:,1]\n",
    "\n",
    "R = np.sqrt(X**2+Y**2)\n",
    "T = np.arctan2(Y,X)\n",
    "\n",
    "print(R)\n",
    "print(T)"
   ]
  },
  {
   "cell_type": "markdown",
   "metadata": {
    "id": "iYJqb0d6feXe"
   },
   "source": [
    "\n",
    "45. 크기 10의 랜덤 벡터를 만들고 최대값을 0으로 바꾸기"
   ]
  },
  {
   "cell_type": "code",
   "execution_count": null,
   "metadata": {
    "colab": {
     "base_uri": "https://localhost:8080/"
    },
    "id": "3y-9_C7cfMnc",
    "outputId": "4a6ee8f3-f274-48fc-a9f9-1fa558133ff2"
   },
   "outputs": [
    {
     "name": "stdout",
     "output_type": "stream",
     "text": [
      "[0.23707336 0.59120316 0.26432786 0.36317177 0.44294633 0.\n",
      " 0.80747097 0.11853117 0.91659084 0.80581196]\n"
     ]
    }
   ],
   "source": [
    "Z = np.random.random(10)\n",
    "Z[Z.argmax()] = 0\n",
    "print(Z)"
   ]
  },
  {
   "cell_type": "markdown",
   "metadata": {
    "id": "2kKMj53TflrH"
   },
   "source": [
    "46. [0,1]x[0,1] 영역을 포함하는 (x,y) 좌표로 구성된 배열 만들기"
   ]
  },
  {
   "cell_type": "code",
   "execution_count": null,
   "metadata": {
    "colab": {
     "base_uri": "https://localhost:8080/"
    },
    "id": "W-aLhxnhfj0z",
    "outputId": "16b7723b-ed3b-4125-d9f1-59a89b6eeeb6"
   },
   "outputs": [
    {
     "name": "stdout",
     "output_type": "stream",
     "text": [
      "[[(0.  , 0.  ) (0.25, 0.  ) (0.5 , 0.  ) (0.75, 0.  ) (1.  , 0.  )]\n",
      " [(0.  , 0.25) (0.25, 0.25) (0.5 , 0.25) (0.75, 0.25) (1.  , 0.25)]\n",
      " [(0.  , 0.5 ) (0.25, 0.5 ) (0.5 , 0.5 ) (0.75, 0.5 ) (1.  , 0.5 )]\n",
      " [(0.  , 0.75) (0.25, 0.75) (0.5 , 0.75) (0.75, 0.75) (1.  , 0.75)]\n",
      " [(0.  , 1.  ) (0.25, 1.  ) (0.5 , 1.  ) (0.75, 1.  ) (1.  , 1.  )]]\n"
     ]
    }
   ],
   "source": [
    "Z = np.zeros((5,5), [('x',float),('y',float)])\n",
    "Z['x'], Z['y'] = np.meshgrid(np.linspace(0,1,5),np.linspace(0,1,5))                     \n",
    "print(Z)"
   ]
  },
  {
   "cell_type": "markdown",
   "metadata": {
    "id": "TgTKNYQJf10x"
   },
   "source": [
    "47. X와 Y의 두 배열이 주어지면 Cauchy 행렬 `C(Cij = 1/(xi - yj)`를 구성하도록 하기"
   ]
  },
  {
   "cell_type": "code",
   "execution_count": null,
   "metadata": {
    "colab": {
     "base_uri": "https://localhost:8080/"
    },
    "id": "ggBX0rrvfq5w",
    "outputId": "610280c1-f1a7-4d4a-8435-fa6a26c8cc87"
   },
   "outputs": [
    {
     "name": "stdout",
     "output_type": "stream",
     "text": [
      "3638.163637117973\n"
     ]
    }
   ],
   "source": [
    "X = np.arange(8)\n",
    "Y = X + 0.5\n",
    "\n",
    "C = 1.0 / np.subtract.outer(X, Y)\n",
    "\n",
    "print(np.linalg.det(C))"
   ]
  },
  {
   "cell_type": "markdown",
   "metadata": {
    "id": "3EMebiWVgC41"
   },
   "source": [
    "48.  각 numpy 스칼라 유형에 대해 표현 가능한 최소값과 최대값을 출력하기"
   ]
  },
  {
   "cell_type": "code",
   "execution_count": null,
   "metadata": {
    "colab": {
     "base_uri": "https://localhost:8080/"
    },
    "id": "R96RtvxngAfb",
    "outputId": "bac86697-a521-495b-aa67-52833669b459"
   },
   "outputs": [
    {
     "name": "stdout",
     "output_type": "stream",
     "text": [
      "-128\n",
      "127\n",
      "-2147483648\n",
      "2147483647\n",
      "-9223372036854775808\n",
      "9223372036854775807\n",
      "---------\n",
      "-3.4028235e+38\n",
      "3.4028235e+38\n",
      "1.1920929e-07\n",
      "-1.7976931348623157e+308\n",
      "1.7976931348623157e+308\n",
      "2.220446049250313e-16\n"
     ]
    }
   ],
   "source": [
    "# 정수\n",
    "for dtype in [np.int8, np.int32, np.int64]:\n",
    "   print(np.iinfo(dtype).min)\n",
    "   print(np.iinfo(dtype).max)\n",
    "\n",
    "print(\"---------\")\n",
    "\n",
    "# 실수\n",
    "for dtype in [np.float32, np.float64]:\n",
    "   print(np.finfo(dtype).min)\n",
    "   print(np.finfo(dtype).max)\n",
    "   print(np.finfo(dtype).eps)"
   ]
  },
  {
   "cell_type": "markdown",
   "metadata": {
    "id": "Tf5_tgtsgTJp"
   },
   "source": [
    "49. 배열의 모든 값을 인쇄하는 방법"
   ]
  },
  {
   "cell_type": "code",
   "execution_count": null,
   "metadata": {
    "colab": {
     "base_uri": "https://localhost:8080/"
    },
    "id": "1nGGsUYogI0j",
    "outputId": "7d9e59c6-d14e-4437-d4d6-bed6a3fad4ce"
   },
   "outputs": [
    {
     "name": "stdout",
     "output_type": "stream",
     "text": [
      "[[0. 0. 0. 0. 0. 0. 0. 0. 0. 0. 0. 0. 0. 0. 0. 0.]\n",
      " [0. 0. 0. 0. 0. 0. 0. 0. 0. 0. 0. 0. 0. 0. 0. 0.]\n",
      " [0. 0. 0. 0. 0. 0. 0. 0. 0. 0. 0. 0. 0. 0. 0. 0.]\n",
      " [0. 0. 0. 0. 0. 0. 0. 0. 0. 0. 0. 0. 0. 0. 0. 0.]\n",
      " [0. 0. 0. 0. 0. 0. 0. 0. 0. 0. 0. 0. 0. 0. 0. 0.]\n",
      " [0. 0. 0. 0. 0. 0. 0. 0. 0. 0. 0. 0. 0. 0. 0. 0.]\n",
      " [0. 0. 0. 0. 0. 0. 0. 0. 0. 0. 0. 0. 0. 0. 0. 0.]\n",
      " [0. 0. 0. 0. 0. 0. 0. 0. 0. 0. 0. 0. 0. 0. 0. 0.]\n",
      " [0. 0. 0. 0. 0. 0. 0. 0. 0. 0. 0. 0. 0. 0. 0. 0.]\n",
      " [0. 0. 0. 0. 0. 0. 0. 0. 0. 0. 0. 0. 0. 0. 0. 0.]\n",
      " [0. 0. 0. 0. 0. 0. 0. 0. 0. 0. 0. 0. 0. 0. 0. 0.]\n",
      " [0. 0. 0. 0. 0. 0. 0. 0. 0. 0. 0. 0. 0. 0. 0. 0.]\n",
      " [0. 0. 0. 0. 0. 0. 0. 0. 0. 0. 0. 0. 0. 0. 0. 0.]\n",
      " [0. 0. 0. 0. 0. 0. 0. 0. 0. 0. 0. 0. 0. 0. 0. 0.]\n",
      " [0. 0. 0. 0. 0. 0. 0. 0. 0. 0. 0. 0. 0. 0. 0. 0.]\n",
      " [0. 0. 0. 0. 0. 0. 0. 0. 0. 0. 0. 0. 0. 0. 0. 0.]]\n"
     ]
    }
   ],
   "source": [
    "np.set_printoptions(threshold=float(\"inf\"))\n",
    "Z = np.zeros((16,16))\n",
    "print(Z)"
   ]
  },
  {
   "cell_type": "markdown",
   "metadata": {
    "id": "jJ3DUjFUgXL7"
   },
   "source": [
    "50. 벡터에서 (특정 스칼라에) 가장 가까운 값을 찾는 방법"
   ]
  },
  {
   "cell_type": "code",
   "execution_count": null,
   "metadata": {
    "colab": {
     "base_uri": "https://localhost:8080/"
    },
    "id": "9id1trT9gVn6",
    "outputId": "ed202018-d53c-4b53-91c8-e0c63ab6acf8"
   },
   "outputs": [
    {
     "name": "stdout",
     "output_type": "stream",
     "text": [
      "84\n"
     ]
    }
   ],
   "source": [
    "Z = np.arange(100)\n",
    "v = np.random.uniform(0,100)\n",
    "\n",
    "index = (np.abs(Z-v)).argmin()\n",
    "\n",
    "print(Z[index])"
   ]
  },
  {
   "cell_type": "markdown",
   "metadata": {
    "id": "Fnb0MkVlgeN2"
   },
   "source": [
    "51. 위치(x,y)와 색상(r,g,b)을 나타내는 구조화된 배열을 만들기"
   ]
  },
  {
   "cell_type": "code",
   "execution_count": null,
   "metadata": {
    "colab": {
     "base_uri": "https://localhost:8080/"
    },
    "id": "5BZ3Rw9YgbJK",
    "outputId": "f06b42bd-ee0a-4f1d-a09f-339d8f742de1"
   },
   "outputs": [
    {
     "name": "stdout",
     "output_type": "stream",
     "text": [
      "[((0., 0.), (0., 0., 0.)) ((0., 0.), (0., 0., 0.))\n",
      " ((0., 0.), (0., 0., 0.)) ((0., 0.), (0., 0., 0.))\n",
      " ((0., 0.), (0., 0., 0.)) ((0., 0.), (0., 0., 0.))\n",
      " ((0., 0.), (0., 0., 0.)) ((0., 0.), (0., 0., 0.))\n",
      " ((0., 0.), (0., 0., 0.)) ((0., 0.), (0., 0., 0.))]\n"
     ]
    },
    {
     "name": "stderr",
     "output_type": "stream",
     "text": [
      "/usr/local/lib/python3.7/dist-packages/ipykernel_launcher.py:5: FutureWarning: Passing (type, 1) or '1type' as a synonym of type is deprecated; in a future version of numpy, it will be understood as (type, (1,)) / '(1,)type'.\n",
      "  \"\"\"\n"
     ]
    }
   ],
   "source": [
    "Z = np.zeros(10, [ ('position', [ ('x', float, 1),\n",
    "                                  ('y', float, 1)]),\n",
    "                   ('color',    [ ('r', float, 1),\n",
    "                                  ('g', float, 1),\n",
    "                                  ('b', float, 1)])])\n",
    "print(Z)"
   ]
  },
  {
   "cell_type": "markdown",
   "metadata": {
    "id": "gxVOHH3jgoTU"
   },
   "source": [
    "52. 점 거리별 점 찾기\n",
    "\n",
    "(좌표를 나타내는 형상(100,2)이 있는 랜덤 벡터 고려)"
   ]
  },
  {
   "cell_type": "code",
   "execution_count": null,
   "metadata": {
    "colab": {
     "base_uri": "https://localhost:8080/"
    },
    "id": "O2D3BId1ghaq",
    "outputId": "37690a85-9252-46ec-92ad-9b8e8f80b6a7"
   },
   "outputs": [
    {
     "name": "stdout",
     "output_type": "stream",
     "text": [
      "[[0.         0.30878813 0.42531078 0.5911404  0.07894676 0.18141047\n",
      "  0.16253179 0.28096098 0.45433849 0.5626375 ]\n",
      " [0.30878813 0.         0.35506001 0.31183052 0.38080816 0.45275872\n",
      "  0.21994529 0.522721   0.35581687 0.49401073]\n",
      " [0.42531078 0.35506001 0.         0.36109618 0.49634413 0.42658196\n",
      "  0.26857176 0.420328   0.04091463 0.14651058]\n",
      " [0.5911404  0.31183052 0.36109618 0.         0.66918981 0.68874886\n",
      "  0.44943092 0.72471831 0.32894218 0.42641584]\n",
      " [0.07894676 0.38080816 0.49634413 0.66918981 0.         0.17649406\n",
      "  0.23941338 0.28141468 0.52727026 0.62957668]\n",
      " [0.18141047 0.45275872 0.42658196 0.68874886 0.17649406 0.\n",
      "  0.24401337 0.10497157 0.46473844 0.53551591]\n",
      " [0.16253179 0.21994529 0.26857176 0.44943092 0.23941338 0.24401337\n",
      "  0.         0.30373251 0.2944795  0.41125471]\n",
      " [0.28096098 0.522721   0.420328   0.72471831 0.28141468 0.10497157\n",
      "  0.30373251 0.         0.46088739 0.50517693]\n",
      " [0.45433849 0.35581687 0.04091463 0.32894218 0.52727026 0.46473844\n",
      "  0.2944795  0.46088739 0.         0.13820496]\n",
      " [0.5626375  0.49401073 0.14651058 0.42641584 0.62957668 0.53551591\n",
      "  0.41125471 0.50517693 0.13820496 0.        ]]\n"
     ]
    }
   ],
   "source": [
    "Z = np.random.random((10,2))\n",
    "\n",
    "X,Y = np.atleast_2d(Z[:,0], Z[:,1])\n",
    "\n",
    "# 거리구하기\n",
    "D = np.sqrt( (X-X.T)**2 + (Y-Y.T)**2)\n",
    "print(D)"
   ]
  },
  {
   "cell_type": "code",
   "execution_count": null,
   "metadata": {
    "colab": {
     "base_uri": "https://localhost:8080/"
    },
    "id": "omg4KuV5gvg9",
    "outputId": "ebb5b809-4c7d-4718-efca-ec594f782fda"
   },
   "outputs": [
    {
     "name": "stdout",
     "output_type": "stream",
     "text": [
      "[[0.         0.34425642 0.98050933 0.64156454 0.67423418 0.58214021\n",
      "  0.3968415  0.21844155 0.6366557  0.30534859]\n",
      " [0.34425642 0.         0.63645583 0.29808653 0.38608961 0.31549806\n",
      "  0.16085981 0.16295085 0.46981953 0.0891937 ]\n",
      " [0.98050933 0.63645583 0.         0.3392504  0.44025526 0.51691291\n",
      "  0.63095249 0.77913343 0.72710368 0.68581565]\n",
      " [0.64156454 0.29808653 0.3392504  0.         0.24627804 0.26242679\n",
      "  0.30669491 0.44105647 0.52883458 0.34790356]\n",
      " [0.67423418 0.38608961 0.44025526 0.24627804 0.         0.09688982\n",
      "  0.27740411 0.45604101 0.75500833 0.37693177]\n",
      " [0.58214021 0.31549806 0.51691291 0.26242679 0.09688982 0.\n",
      "  0.18703637 0.36502697 0.72645397 0.29172688]\n",
      " [0.3968415  0.16085981 0.63095249 0.30669491 0.27740411 0.18703637\n",
      "  0.         0.17868632 0.62440319 0.10819026]\n",
      " [0.21844155 0.16295085 0.77913343 0.44105647 0.45604101 0.36502697\n",
      "  0.17868632 0.         0.59070862 0.09331905]\n",
      " [0.6366557  0.46981953 0.72710368 0.52883458 0.75500833 0.72645397\n",
      "  0.62440319 0.59070862 0.         0.55402579]\n",
      " [0.30534859 0.0891937  0.68581565 0.34790356 0.37693177 0.29172688\n",
      "  0.10819026 0.09331905 0.55402579 0.        ]]\n"
     ]
    }
   ],
   "source": [
    "# spicy 사용하면 더 빠르게 할 수 있음\n",
    "\n",
    "import scipy\n",
    "\n",
    "import scipy.spatial\n",
    "\n",
    "Z = np.random.random((10,2))\n",
    "D = scipy.spatial.distance.cdist(Z,Z)\n",
    "print(D)\n"
   ]
  },
  {
   "cell_type": "markdown",
   "metadata": {
    "id": "xqN4dQByg7av"
   },
   "source": [
    "53. 실수(32비트) 배열을 정수(32비트)로 변환하는 방법"
   ]
  },
  {
   "cell_type": "code",
   "execution_count": null,
   "metadata": {
    "colab": {
     "base_uri": "https://localhost:8080/"
    },
    "id": "ITtGSqkng5Pm",
    "outputId": "b876e08b-8672-4947-90cb-2dd3859f1ad5"
   },
   "outputs": [
    {
     "name": "stdout",
     "output_type": "stream",
     "text": [
      "[70 31 74  7 76 84 74 97  6 21]\n"
     ]
    }
   ],
   "source": [
    "Z = (np.random.rand(10)*100).astype(np.float32)\n",
    "\n",
    "Y = Z.view(np.int32)\n",
    "\n",
    "Y[:] = Z\n",
    "print(Y)"
   ]
  },
  {
   "cell_type": "markdown",
   "metadata": {
    "id": "BfUs1qPFhCzz"
   },
   "source": [
    "54. 다음 파일을 읽는 방법\n",
    "\n",
    "1, 2, 3, 4, 5   \n",
    "6,  ,   ,  7, 8   \n",
    "  ,  , 9,10, 11  \n"
   ]
  },
  {
   "cell_type": "code",
   "execution_count": null,
   "metadata": {
    "colab": {
     "base_uri": "https://localhost:8080/"
    },
    "id": "-Yd18_kLg-qz",
    "outputId": "9177715a-91cb-4664-922b-56df515e5e70"
   },
   "outputs": [
    {
     "name": "stdout",
     "output_type": "stream",
     "text": [
      "[[ 1  2  3  4  5]\n",
      " [ 6 -1 -1  7  8]\n",
      " [-1 -1  9 10 11]]\n"
     ]
    },
    {
     "name": "stderr",
     "output_type": "stream",
     "text": [
      "/usr/local/lib/python3.7/dist-packages/ipykernel_launcher.py:11: DeprecationWarning: `np.int` is a deprecated alias for the builtin `int`. To silence this warning, use `int` by itself. Doing this will not modify any behavior and is safe. When replacing `np.int`, you may wish to use e.g. `np.int64` or `np.int32` to specify the precision. If you wish to review your current use, check the release note link for additional information.\n",
      "Deprecated in NumPy 1.20; for more details and guidance: https://numpy.org/devdocs/release/1.20.0-notes.html#deprecations\n",
      "  # This is added back by InteractiveShellApp.init_path()\n"
     ]
    }
   ],
   "source": [
    "from io import StringIO\n",
    "\n",
    "# 가짜 파일 생성\n",
    "s = StringIO('''1, 2, 3, 4, 5\n",
    "\n",
    "                6,  ,  , 7, 8\n",
    "\n",
    "                 ,  , 9,10,11\n",
    "''')\n",
    "\n",
    "Z = np.genfromtxt(s, delimiter=\",\", dtype=np.int)\n",
    "print(Z)"
   ]
  },
  {
   "cell_type": "markdown",
   "metadata": {
    "id": "ZienDepvhXL7"
   },
   "source": [
    "55. 어레이에 대한 인덱스, 요소 구하기"
   ]
  },
  {
   "cell_type": "code",
   "execution_count": null,
   "metadata": {
    "colab": {
     "base_uri": "https://localhost:8080/"
    },
    "id": "KDahw4nnhPR_",
    "outputId": "44b521b8-2147-4450-ec79-f45475021a18"
   },
   "outputs": [
    {
     "name": "stdout",
     "output_type": "stream",
     "text": [
      "(0, 0) 0\n",
      "(0, 1) 1\n",
      "(0, 2) 2\n",
      "(1, 0) 3\n",
      "(1, 1) 4\n",
      "(1, 2) 5\n",
      "(2, 0) 6\n",
      "(2, 1) 7\n",
      "(2, 2) 8\n",
      "(0, 0) 0\n",
      "(0, 1) 1\n",
      "(0, 2) 2\n",
      "(1, 0) 3\n",
      "(1, 1) 4\n",
      "(1, 2) 5\n",
      "(2, 0) 6\n",
      "(2, 1) 7\n",
      "(2, 2) 8\n"
     ]
    }
   ],
   "source": [
    "Z = np.arange(9).reshape(3,3)\n",
    "\n",
    "for index, value in np.ndenumerate(Z):\n",
    "    print(index, value)\n",
    "\n",
    "for index in np.ndindex(Z.shape):\n",
    "    print(index, Z[index])\n"
   ]
  },
  {
   "cell_type": "markdown",
   "metadata": {
    "id": "kTrRD8FfNrxj"
   },
   "source": [
    "56. 2차원 가우스 배열 만들기"
   ]
  },
  {
   "cell_type": "code",
   "execution_count": null,
   "metadata": {
    "colab": {
     "base_uri": "https://localhost:8080/"
    },
    "id": "D0lN9_CthdKf",
    "outputId": "541e4f37-4a7a-4889-e063-4bae4734f520"
   },
   "outputs": [
    {
     "name": "stdout",
     "output_type": "stream",
     "text": [
      "[[0.36787944 0.44822088 0.51979489 0.57375342 0.60279818 0.60279818\n",
      "  0.57375342 0.51979489 0.44822088 0.36787944]\n",
      " [0.44822088 0.54610814 0.63331324 0.69905581 0.73444367 0.73444367\n",
      "  0.69905581 0.63331324 0.54610814 0.44822088]\n",
      " [0.51979489 0.63331324 0.73444367 0.81068432 0.85172308 0.85172308\n",
      "  0.81068432 0.73444367 0.63331324 0.51979489]\n",
      " [0.57375342 0.69905581 0.81068432 0.89483932 0.9401382  0.9401382\n",
      "  0.89483932 0.81068432 0.69905581 0.57375342]\n",
      " [0.60279818 0.73444367 0.85172308 0.9401382  0.98773022 0.98773022\n",
      "  0.9401382  0.85172308 0.73444367 0.60279818]\n",
      " [0.60279818 0.73444367 0.85172308 0.9401382  0.98773022 0.98773022\n",
      "  0.9401382  0.85172308 0.73444367 0.60279818]\n",
      " [0.57375342 0.69905581 0.81068432 0.89483932 0.9401382  0.9401382\n",
      "  0.89483932 0.81068432 0.69905581 0.57375342]\n",
      " [0.51979489 0.63331324 0.73444367 0.81068432 0.85172308 0.85172308\n",
      "  0.81068432 0.73444367 0.63331324 0.51979489]\n",
      " [0.44822088 0.54610814 0.63331324 0.69905581 0.73444367 0.73444367\n",
      "  0.69905581 0.63331324 0.54610814 0.44822088]\n",
      " [0.36787944 0.44822088 0.51979489 0.57375342 0.60279818 0.60279818\n",
      "  0.57375342 0.51979489 0.44822088 0.36787944]]\n"
     ]
    }
   ],
   "source": [
    "X, Y = np.meshgrid(np.linspace(-1,1,10), np.linspace(-1,1,10))\n",
    "\n",
    "D = np.sqrt(X*X+Y*Y)\n",
    "\n",
    "sigma, mu = 1.0, 0.0\n",
    "\n",
    "G = np.exp(-( (D-mu)**2 / ( 2.0 * sigma**2 ) ) )\n",
    "print(G)"
   ]
  },
  {
   "cell_type": "markdown",
   "metadata": {
    "id": "KitlVcFbN0WB"
   },
   "source": [
    "57.  2차원 배열에 p 요소를 랜덤으로 배치하는 방법"
   ]
  },
  {
   "cell_type": "code",
   "execution_count": null,
   "metadata": {
    "colab": {
     "base_uri": "https://localhost:8080/"
    },
    "id": "Rj4TKNmqNx_5",
    "outputId": "d87a6472-c074-4733-c7e0-92514652afcd"
   },
   "outputs": [
    {
     "name": "stdout",
     "output_type": "stream",
     "text": [
      "[[0. 0. 0. 0. 0. 0. 0. 0. 1. 0.]\n",
      " [0. 0. 0. 0. 0. 0. 0. 0. 0. 0.]\n",
      " [0. 0. 0. 0. 0. 0. 0. 0. 0. 0.]\n",
      " [0. 0. 0. 0. 0. 0. 0. 0. 0. 0.]\n",
      " [0. 0. 0. 0. 0. 0. 0. 0. 0. 0.]\n",
      " [0. 0. 0. 0. 0. 0. 0. 0. 0. 0.]\n",
      " [0. 0. 0. 0. 1. 0. 0. 0. 0. 1.]\n",
      " [0. 0. 0. 0. 0. 0. 0. 0. 0. 0.]\n",
      " [0. 0. 0. 0. 0. 0. 0. 0. 0. 0.]\n",
      " [0. 0. 0. 0. 0. 0. 0. 0. 0. 0.]]\n"
     ]
    }
   ],
   "source": [
    "n = 10\n",
    "p = 3\n",
    "\n",
    "Z = np.zeros((n,n))\n",
    "\n",
    "np.put(Z, np.random.choice(range(n*n), p, replace=False),1) # 1을 3개 무작위로 배치하게 선택\n",
    "print(Z)"
   ]
  },
  {
   "cell_type": "markdown",
   "metadata": {
    "id": "1i9-UPz-OGPk"
   },
   "source": [
    "58.  행렬의 각 행의 평균을 출력 하는 방법"
   ]
  },
  {
   "cell_type": "code",
   "execution_count": null,
   "metadata": {
    "colab": {
     "base_uri": "https://localhost:8080/"
    },
    "id": "EN0XM04mN9IX",
    "outputId": "dc27a7ce-2baf-4090-ea33-6ad044d019b8"
   },
   "outputs": [
    {
     "name": "stdout",
     "output_type": "stream",
     "text": [
      "[[ 0.34525225 -0.41113439 -0.44211717 -0.24115432 -0.0899475   0.18932151\n",
      "   0.37011467  0.20197586 -0.07795164  0.15564071]\n",
      " [ 0.23003475  0.31038322  0.00659039 -0.32811705  0.21895209 -0.06997829\n",
      "   0.14204856 -0.43867994  0.33935139 -0.41058513]\n",
      " [ 0.46949938  0.23382341  0.09723426 -0.39225793 -0.4218601  -0.25579097\n",
      "  -0.31753369  0.04187656  0.39488462  0.15012447]\n",
      " [ 0.12070094 -0.22305684  0.38378845 -0.11259977  0.05383192 -0.21788169\n",
      "  -0.28060828  0.15694853 -0.41894887  0.5378256 ]\n",
      " [ 0.00350916  0.0644182  -0.39414027  0.47380296 -0.21249319  0.05450966\n",
      "  -0.16056987 -0.03524391  0.43613445 -0.22992718]]\n"
     ]
    }
   ],
   "source": [
    "X = np.random.rand(5, 10)\n",
    "# 최신버전\n",
    "Y = X - X.mean(axis=1, keepdims=True)\n",
    "\n",
    "print(Y)"
   ]
  },
  {
   "cell_type": "code",
   "execution_count": null,
   "metadata": {
    "colab": {
     "base_uri": "https://localhost:8080/"
    },
    "id": "Hb6-zl1OOR92",
    "outputId": "0aa4d738-96fc-43ca-d8a7-423e37530168"
   },
   "outputs": [
    {
     "name": "stdout",
     "output_type": "stream",
     "text": [
      "[[ 0.34525225 -0.41113439 -0.44211717 -0.24115432 -0.0899475   0.18932151\n",
      "   0.37011467  0.20197586 -0.07795164  0.15564071]\n",
      " [ 0.23003475  0.31038322  0.00659039 -0.32811705  0.21895209 -0.06997829\n",
      "   0.14204856 -0.43867994  0.33935139 -0.41058513]\n",
      " [ 0.46949938  0.23382341  0.09723426 -0.39225793 -0.4218601  -0.25579097\n",
      "  -0.31753369  0.04187656  0.39488462  0.15012447]\n",
      " [ 0.12070094 -0.22305684  0.38378845 -0.11259977  0.05383192 -0.21788169\n",
      "  -0.28060828  0.15694853 -0.41894887  0.5378256 ]\n",
      " [ 0.00350916  0.0644182  -0.39414027  0.47380296 -0.21249319  0.05450966\n",
      "  -0.16056987 -0.03524391  0.43613445 -0.22992718]]\n"
     ]
    }
   ],
   "source": [
    "# 구버전\n",
    "Y = X - X.mean(axis=1).reshape(-1, 1)\n",
    "\n",
    "print(Y)"
   ]
  },
  {
   "cell_type": "markdown",
   "metadata": {
    "id": "qAzNP9y0Oa8L"
   },
   "source": [
    "59.  배열을 n번째 열로 정렬하는 방법"
   ]
  },
  {
   "cell_type": "code",
   "execution_count": null,
   "metadata": {
    "colab": {
     "base_uri": "https://localhost:8080/"
    },
    "id": "uYsQvMp6OZB2",
    "outputId": "190491ed-5801-44ff-c0d7-4a467b6780cb"
   },
   "outputs": [
    {
     "name": "stdout",
     "output_type": "stream",
     "text": [
      "[[4 2 0]\n",
      " [8 1 7]\n",
      " [9 5 4]]\n",
      "[[8 1 7]\n",
      " [4 2 0]\n",
      " [9 5 4]]\n"
     ]
    }
   ],
   "source": [
    "Z = np.random.randint(0,10,(3,3))\n",
    "\n",
    "print(Z)\n",
    "print(Z[Z[:,1].argsort()]) # 첫번째 열의 수로 행 정렬"
   ]
  },
  {
   "cell_type": "markdown",
   "metadata": {
    "id": "pcXEy3q3PJgK"
   },
   "source": [
    "60. 주어진 2차원 배열에 `null` 열이 있는지 확인하는 방법"
   ]
  },
  {
   "cell_type": "code",
   "execution_count": null,
   "metadata": {
    "colab": {
     "base_uri": "https://localhost:8080/"
    },
    "id": "ic7yP5aiOfYe",
    "outputId": "675c07dc-78dd-4120-e8ae-921be207e33e"
   },
   "outputs": [
    {
     "data": {
      "text/plain": [
       "array([[2, 2, 0, 0, 1, 0, 0, 1, 1, 2],\n",
       "       [0, 0, 1, 1, 2, 2, 1, 2, 0, 1],\n",
       "       [2, 0, 1, 1, 0, 0, 0, 2, 0, 1]])"
      ]
     },
     "execution_count": 8,
     "metadata": {},
     "output_type": "execute_result"
    }
   ],
   "source": [
    "Z = np.random.randint(0,3,(3,10))\n",
    "Z"
   ]
  },
  {
   "cell_type": "code",
   "execution_count": null,
   "metadata": {
    "colab": {
     "base_uri": "https://localhost:8080/"
    },
    "id": "zNl9KLdtPShT",
    "outputId": "607d845e-a92f-433a-92a1-092b07c47bbe"
   },
   "outputs": [
    {
     "name": "stdout",
     "output_type": "stream",
     "text": [
      "False\n"
     ]
    }
   ],
   "source": [
    "print((~Z.any(axis=0)).any())"
   ]
  },
  {
   "cell_type": "markdown",
   "metadata": {
    "id": "PQP1c6xuPaAW"
   },
   "source": [
    "61. 배열의 지정된 값에서 가장 가까운 값 찾기"
   ]
  },
  {
   "cell_type": "code",
   "execution_count": null,
   "metadata": {
    "colab": {
     "base_uri": "https://localhost:8080/"
    },
    "id": "jDIVfbACPV0j",
    "outputId": "587827b6-3f0e-4faa-9d1e-504abde13b4e"
   },
   "outputs": [
    {
     "name": "stdout",
     "output_type": "stream",
     "text": [
      "0.6322466076464077\n"
     ]
    }
   ],
   "source": [
    "Z = np.random.uniform(0,1,10)\n",
    "z = 0.5\n",
    "\n",
    "# argmin : 최솟값 인덱스\n",
    "# flat : 1차원 어레이로 취급 후 인덱싱\n",
    "m = Z.flat[np.abs(Z - z).argmin()] \n",
    "print(m)"
   ]
  },
  {
   "cell_type": "markdown",
   "metadata": {
    "id": "4MgQhD9nQnyI"
   },
   "source": [
    "62. 반복문을 사용하여 합계를 계산하는 방법  \n",
    "(형상 (1,3)과 (3,1)의 두 배열을 고려)\n"
   ]
  },
  {
   "cell_type": "code",
   "execution_count": null,
   "metadata": {
    "colab": {
     "base_uri": "https://localhost:8080/"
    },
    "id": "nTpruzDwPdil",
    "outputId": "abbbaa3a-a4a4-4e4b-eb53-2e6a4ad430d8"
   },
   "outputs": [
    {
     "name": "stdout",
     "output_type": "stream",
     "text": [
      "[[0]\n",
      " [1]\n",
      " [2]]\n",
      "[[0 1 2]]\n"
     ]
    }
   ],
   "source": [
    "A = np.arange(3).reshape(3,1)\n",
    "B = np.arange(3).reshape(1,3)\n",
    "\n",
    "print(A)\n",
    "print(B)"
   ]
  },
  {
   "cell_type": "code",
   "execution_count": null,
   "metadata": {
    "colab": {
     "base_uri": "https://localhost:8080/"
    },
    "id": "DNUA_f21QvHF",
    "outputId": "a5a95af1-6de0-4422-ee41-05b00a7e15de"
   },
   "outputs": [
    {
     "name": "stdout",
     "output_type": "stream",
     "text": [
      "[[0 1 2]\n",
      " [1 2 3]\n",
      " [2 3 4]]\n"
     ]
    }
   ],
   "source": [
    "it = np.nditer([A,B,None])\n",
    "\n",
    "for x,y,z in it: z[...] = x + y\n",
    "\n",
    "print(it.operands[2])"
   ]
  },
  {
   "cell_type": "markdown",
   "metadata": {
    "id": "s6g_fJvrRrtc"
   },
   "source": [
    "63. 이름 속성을 가진 어레이 클래스 생성"
   ]
  },
  {
   "cell_type": "code",
   "execution_count": null,
   "metadata": {
    "id": "BuxuD87bRpeu"
   },
   "outputs": [],
   "source": [
    "class NamedArray(np.ndarray):\n",
    "    def __new__(cls, array, name=\"no name\"): # 이름 기본값 \n",
    "        obj = np.asarray(array).view(cls)\n",
    "        obj.name = name\n",
    "        return obj\n",
    "        \n",
    "    def __array_finalize__(self, obj):\n",
    "        if obj is None: return\n",
    "        self.info = getattr(obj, 'name', \"no name\")"
   ]
  },
  {
   "cell_type": "code",
   "execution_count": null,
   "metadata": {
    "colab": {
     "base_uri": "https://localhost:8080/"
    },
    "id": "DcavYXSORwdd",
    "outputId": "39fd3810-e5ca-4663-88c8-682f0cac087f"
   },
   "outputs": [
    {
     "name": "stdout",
     "output_type": "stream",
     "text": [
      "range_10\n"
     ]
    }
   ],
   "source": [
    "Z = NamedArray(np.arange(10), \"range_10\") #range_10이라는 이름을 가진 어레이 생성\n",
    "print (Z.name)"
   ]
  },
  {
   "cell_type": "markdown",
   "metadata": {
    "id": "QS_zP2j9SIHL"
   },
   "source": [
    "64. 주어진 벡터를 생각해 보자. 두 번째 벡터에 의해 인덱싱된 각 요소에 1을 추가하는 방법"
   ]
  },
  {
   "cell_type": "code",
   "execution_count": null,
   "metadata": {
    "colab": {
     "base_uri": "https://localhost:8080/"
    },
    "id": "8yqE48qARyqT",
    "outputId": "0fa0085d-b72b-4006-d149-322603ff2f7d"
   },
   "outputs": [
    {
     "name": "stdout",
     "output_type": "stream",
     "text": [
      "[9 0 3 8 8 1 2 3 9 8 3 8 5 8 6 7 7 1 4 1]\n"
     ]
    }
   ],
   "source": [
    "Z = np.ones(10)\n",
    "I = np.random.randint(0,len(Z),20)\n",
    "\n",
    "print(I)"
   ]
  },
  {
   "cell_type": "code",
   "execution_count": null,
   "metadata": {
    "colab": {
     "base_uri": "https://localhost:8080/"
    },
    "id": "_LkATEzTTLgj",
    "outputId": "2048040f-c379-4324-e5d4-5efa7107fe67"
   },
   "outputs": [
    {
     "name": "stdout",
     "output_type": "stream",
     "text": [
      "[2. 4. 2. 4. 2. 2. 2. 3. 6. 3.]\n"
     ]
    }
   ],
   "source": [
    "Z += np.bincount(I, minlength=len(Z)) # I 배열 원소의 빈도수+1 Z에 저장\n",
    "print(Z)"
   ]
  },
  {
   "cell_type": "code",
   "execution_count": null,
   "metadata": {
    "colab": {
     "base_uri": "https://localhost:8080/"
    },
    "id": "ONvb_kGqTBwn",
    "outputId": "a7160b71-9140-4757-ca0e-aab8f8080572"
   },
   "outputs": [
    {
     "name": "stdout",
     "output_type": "stream",
     "text": [
      "[5 6 0 2 0 4 0 2 1 1 4 7 3 5 5 9 2 3 2 1]\n",
      "[4. 4. 5. 3. 3. 4. 2. 2. 1. 2.]\n"
     ]
    }
   ],
   "source": [
    "Z = np.ones(10)\n",
    "I = np.random.randint(0,len(Z),20)\n",
    "\n",
    "print(I)\n",
    "# 다른 방법\n",
    "np.add.at(Z, I, 1)\n",
    "print(Z)"
   ]
  },
  {
   "cell_type": "markdown",
   "metadata": {
    "id": "qDpyxrR6SM5f"
   },
   "source": [
    "65. 인덱스 목록(I)을 기준으로 배열(F)에 벡터(X) 요소를 누적하는 방법 "
   ]
  },
  {
   "cell_type": "code",
   "execution_count": null,
   "metadata": {
    "colab": {
     "base_uri": "https://localhost:8080/"
    },
    "id": "y2MUiiIbSQlV",
    "outputId": "ef6b779b-8fbb-4ba2-81c1-77c2c21c8fda"
   },
   "outputs": [
    {
     "name": "stdout",
     "output_type": "stream",
     "text": [
      "[0. 7. 0. 6. 5. 0. 0. 0. 0. 3.]\n"
     ]
    }
   ],
   "source": [
    "X = [1,2,3,4,5,6]\n",
    "I = [1,3,9,3,4,1]\n",
    "\n",
    "F = np.bincount(I,X) # I의 원소의 인덱스를 X에 대입해 얻은 원소를 F에 표현\n",
    "print(F)"
   ]
  },
  {
   "cell_type": "markdown",
   "metadata": {
    "id": "ij_x-aTqSRIg"
   },
   "source": [
    "66. `(dtype = ubyte)`의 (w,h,3) 이미지를 고려하여 고유 색상의 수를 계산합니다. "
   ]
  },
  {
   "cell_type": "code",
   "execution_count": null,
   "metadata": {
    "colab": {
     "base_uri": "https://localhost:8080/"
    },
    "id": "-UOp1VxbU4i3",
    "outputId": "4b01b18c-c9bc-4289-cbcd-fcd4de703b1f"
   },
   "outputs": [
    {
     "name": "stdout",
     "output_type": "stream",
     "text": [
      "[0 1]\n"
     ]
    }
   ],
   "source": [
    "w,h = 16,16\n",
    "I = np.random.randint(0,2,(h,w,3)).astype(np.ubyte)\n",
    "F = I[...,0]*256*256 + I[...,1]*256 +I[...,2]\n",
    "\n",
    "n = len(np.unique(F))\n",
    "print(np.unique(I))"
   ]
  },
  {
   "cell_type": "markdown",
   "metadata": {
    "id": "4AHCrO_3VBU-"
   },
   "source": [
    "67. 4차원 배열을 고려했을 때, 마지막 두 축에서 합계를 한 번에 얻는 방법"
   ]
  },
  {
   "cell_type": "code",
   "execution_count": null,
   "metadata": {
    "colab": {
     "base_uri": "https://localhost:8080/"
    },
    "id": "7hnB-DUTU8r8",
    "outputId": "2e66bef9-7b74-4f53-e237-64eaa5b9b5b5"
   },
   "outputs": [
    {
     "data": {
      "text/plain": [
       "array([[[[9, 3, 7, 7],\n",
       "         [2, 9, 0, 9],\n",
       "         [7, 4, 8, 6]],\n",
       "\n",
       "        [[9, 7, 7, 7],\n",
       "         [9, 4, 9, 9],\n",
       "         [1, 9, 3, 4]],\n",
       "\n",
       "        [[3, 7, 9, 5],\n",
       "         [6, 3, 0, 8],\n",
       "         [7, 5, 0, 3]],\n",
       "\n",
       "        [[3, 6, 0, 3],\n",
       "         [6, 6, 6, 6],\n",
       "         [3, 3, 5, 7]]],\n",
       "\n",
       "\n",
       "       [[[8, 1, 9, 8],\n",
       "         [4, 9, 4, 1],\n",
       "         [3, 8, 9, 2]],\n",
       "\n",
       "        [[0, 9, 5, 1],\n",
       "         [6, 8, 7, 7],\n",
       "         [4, 8, 1, 4]],\n",
       "\n",
       "        [[1, 1, 8, 7],\n",
       "         [5, 7, 0, 5],\n",
       "         [0, 8, 3, 2]],\n",
       "\n",
       "        [[3, 8, 2, 6],\n",
       "         [0, 4, 2, 7],\n",
       "         [3, 5, 9, 3]]],\n",
       "\n",
       "\n",
       "       [[[6, 6, 3, 4],\n",
       "         [6, 3, 2, 1],\n",
       "         [7, 6, 9, 2]],\n",
       "\n",
       "        [[4, 0, 4, 5],\n",
       "         [0, 6, 7, 8],\n",
       "         [5, 6, 3, 1]],\n",
       "\n",
       "        [[1, 6, 1, 3],\n",
       "         [2, 0, 2, 6],\n",
       "         [8, 3, 0, 1]],\n",
       "\n",
       "        [[5, 3, 6, 3],\n",
       "         [9, 2, 3, 7],\n",
       "         [2, 6, 4, 9]]]])"
      ]
     },
     "execution_count": 34,
     "metadata": {},
     "output_type": "execute_result"
    }
   ],
   "source": [
    "A = np.random.randint(0,10,(3,4,3,4))\n",
    "A"
   ]
  },
  {
   "cell_type": "code",
   "execution_count": null,
   "metadata": {
    "colab": {
     "base_uri": "https://localhost:8080/"
    },
    "id": "KEqPNrcnVHRA",
    "outputId": "6642035c-6c75-471c-f8a9-6d6978f33b30"
   },
   "outputs": [
    {
     "name": "stdout",
     "output_type": "stream",
     "text": [
      "[[71 78 56 54]\n",
      " [66 60 47 52]\n",
      " [55 49 33 59]]\n"
     ]
    }
   ],
   "source": [
    "sum = A.sum(axis=(-2,-1)) # 마지막 두 축의 합\n",
    "print(sum)"
   ]
  },
  {
   "cell_type": "code",
   "execution_count": null,
   "metadata": {
    "colab": {
     "base_uri": "https://localhost:8080/"
    },
    "id": "-d1Ty25nVNIP",
    "outputId": "da7359e7-7b5d-4677-e1be-1dec2b1c2908"
   },
   "outputs": [
    {
     "name": "stdout",
     "output_type": "stream",
     "text": [
      "[[71 78 56 54]\n",
      " [66 60 47 52]\n",
      " [55 49 33 59]]\n"
     ]
    }
   ],
   "source": [
    "# 차원을 줄여 같은 동작을 하게 함\n",
    "sum = A.reshape(A.shape[:-2] + (-1,)).sum(axis=-1)\n",
    "print(sum)"
   ]
  },
  {
   "cell_type": "markdown",
   "metadata": {
    "id": "-K4cBSQdV_Sz"
   },
   "source": [
    "68. 1차원 벡터 D를 고려했을 때, 부분 집합 지수를 설명하는 동일한 크기의 벡터 S를 사용하여 D의 부분 집합 평균을 계산하는 방법"
   ]
  },
  {
   "cell_type": "code",
   "execution_count": null,
   "metadata": {
    "colab": {
     "base_uri": "https://localhost:8080/"
    },
    "id": "MpXTRFDUWKYb",
    "outputId": "daeb8588-cfe8-4dd2-dd38-f3db1be90752"
   },
   "outputs": [
    {
     "name": "stdout",
     "output_type": "stream",
     "text": [
      "[0.44345757 0.57390827 0.41029881 0.50808374 0.46763001 0.49606114\n",
      " 0.51081278 0.63719555 0.37806151 0.56815772]\n"
     ]
    }
   ],
   "source": [
    "D = np.random.uniform(0,1,100)\n",
    "S = np.random.randint(0,10,100)\n",
    "\n",
    "D_sums = np.bincount(S, weights=D)\n",
    "D_counts = np.bincount(S)\n",
    "D_means = D_sums / D_counts\n",
    "\n",
    "print(D_means)"
   ]
  },
  {
   "cell_type": "code",
   "execution_count": null,
   "metadata": {
    "colab": {
     "base_uri": "https://localhost:8080/"
    },
    "id": "RUfMbjAQWOFR",
    "outputId": "599ee031-5f22-4889-f5b6-78f72751a521"
   },
   "outputs": [
    {
     "name": "stdout",
     "output_type": "stream",
     "text": [
      "0    0.443458\n",
      "1    0.573908\n",
      "2    0.410299\n",
      "3    0.508084\n",
      "4    0.467630\n",
      "5    0.496061\n",
      "6    0.510813\n",
      "7    0.637196\n",
      "8    0.378062\n",
      "9    0.568158\n",
      "dtype: float64\n"
     ]
    }
   ],
   "source": [
    "# 판다스를 사용한다면 ...\n",
    "import pandas as pd\n",
    "print(pd.Series(D).groupby(S).mean())"
   ]
  },
  {
   "cell_type": "markdown",
   "metadata": {
    "id": "G9b-31cMWX7X"
   },
   "source": [
    "69. 도트 제품의 대각선을 구하는 방법"
   ]
  },
  {
   "cell_type": "code",
   "execution_count": null,
   "metadata": {
    "colab": {
     "base_uri": "https://localhost:8080/"
    },
    "id": "7gL-YpDaWRxJ",
    "outputId": "c38df169-87ae-473c-9ba2-fe0cc26db496"
   },
   "outputs": [
    {
     "name": "stdout",
     "output_type": "stream",
     "text": [
      "[[0.59606399 0.25848847 0.8393417  0.37574279 0.73778416]\n",
      " [0.6198225  0.72424174 0.2847731  0.60563025 0.90427688]\n",
      " [0.92862844 0.93611403 0.61528552 0.41471678 0.73659988]\n",
      " [0.48068681 0.43501255 0.6099376  0.33067219 0.00095425]\n",
      " [0.08639899 0.12529181 0.14987746 0.41382191 0.11603747]]\n",
      "====================================================================\n",
      "[[0.14048348 0.94093428 0.65210727 0.84416253 0.44438461]\n",
      " [0.94910563 0.76499534 0.99015309 0.82287214 0.6649482 ]\n",
      " [0.7289712  0.79595097 0.2360608  0.75527111 0.34069192]\n",
      " [0.62739524 0.08733666 0.40973784 0.70578354 0.43866159]\n",
      " [0.5591314  0.2516058  0.10858868 0.76974386 0.04285321]]\n"
     ]
    }
   ],
   "source": [
    "A = np.random.uniform(0,1,(5,5))\n",
    "B = np.random.uniform(0,1,(5,5))\n",
    "print(A)\n",
    "print(\"====================================================================\")\n",
    "print(B)"
   ]
  },
  {
   "cell_type": "code",
   "execution_count": null,
   "metadata": {
    "colab": {
     "base_uri": "https://localhost:8080/"
    },
    "id": "7f0ayHXGWe3_",
    "outputId": "df246cda-40c5-44b4-af83-7a467a7aadfc"
   },
   "outputs": [
    {
     "data": {
      "text/plain": [
       "array([1.61211851, 1.54582137, 1.51676136, 1.13925313, 2.00644356])"
      ]
     },
     "execution_count": 41,
     "metadata": {},
     "output_type": "execute_result"
    }
   ],
   "source": [
    "np.diag(np.dot(A, B))"
   ]
  },
  {
   "cell_type": "code",
   "execution_count": null,
   "metadata": {
    "colab": {
     "base_uri": "https://localhost:8080/"
    },
    "id": "H-bgGEqpWhXz",
    "outputId": "1c170ed0-7b61-4ed8-c79b-aca5302e304f"
   },
   "outputs": [
    {
     "data": {
      "text/plain": [
       "array([1.58918347, 1.64433425, 1.92761792, 1.45852327, 0.35926934])"
      ]
     },
     "execution_count": 45,
     "metadata": {},
     "output_type": "execute_result"
    }
   ],
   "source": [
    "# 빠르게 한다면...\n",
    "np.einsum(\"ij,ji->i\", A, B)"
   ]
  },
  {
   "cell_type": "markdown",
   "metadata": {
    "id": "afbQDhmlWx7h"
   },
   "source": [
    "70. 벡터 [1, 2, 3, 4, 5]를 생각해보자. 각 값 사이에 3연속으로 0이 인터리브된 새 벡터를 만드는 방법"
   ]
  },
  {
   "cell_type": "code",
   "execution_count": null,
   "metadata": {
    "colab": {
     "base_uri": "https://localhost:8080/"
    },
    "id": "SERsgMjfWwYN",
    "outputId": "c9480aa1-f306-46f0-ce53-9f256fae63b9"
   },
   "outputs": [
    {
     "name": "stdout",
     "output_type": "stream",
     "text": [
      "[1. 0. 0. 0. 2. 0. 0. 0. 3. 0. 0. 0. 4. 0. 0. 0. 5.]\n"
     ]
    }
   ],
   "source": [
    "Z = np.array([1,2,3,4,5])\n",
    "nz = 3\n",
    "\n",
    "Z0 = np.zeros(len(Z) + (len(Z)-1)*(nz))\n",
    "\n",
    "Z0[::nz+1] = Z\n",
    "print(Z0)"
   ]
  },
  {
   "cell_type": "markdown",
   "metadata": {
    "id": "IcZW09SHXF1w"
   },
   "source": [
    "71. 차원 배열(5,5,3), 차원 배열(5,5)을 곱하는 방법"
   ]
  },
  {
   "cell_type": "code",
   "execution_count": null,
   "metadata": {
    "colab": {
     "base_uri": "https://localhost:8080/"
    },
    "id": "W_-eI4w3W8Ex",
    "outputId": "0404ea3d-4208-4196-daeb-faf949e4c373"
   },
   "outputs": [
    {
     "name": "stdout",
     "output_type": "stream",
     "text": [
      "[[[1. 1. 1.]\n",
      "  [1. 1. 1.]\n",
      "  [1. 1. 1.]\n",
      "  [1. 1. 1.]\n",
      "  [1. 1. 1.]]\n",
      "\n",
      " [[1. 1. 1.]\n",
      "  [1. 1. 1.]\n",
      "  [1. 1. 1.]\n",
      "  [1. 1. 1.]\n",
      "  [1. 1. 1.]]\n",
      "\n",
      " [[1. 1. 1.]\n",
      "  [1. 1. 1.]\n",
      "  [1. 1. 1.]\n",
      "  [1. 1. 1.]\n",
      "  [1. 1. 1.]]\n",
      "\n",
      " [[1. 1. 1.]\n",
      "  [1. 1. 1.]\n",
      "  [1. 1. 1.]\n",
      "  [1. 1. 1.]\n",
      "  [1. 1. 1.]]\n",
      "\n",
      " [[1. 1. 1.]\n",
      "  [1. 1. 1.]\n",
      "  [1. 1. 1.]\n",
      "  [1. 1. 1.]\n",
      "  [1. 1. 1.]]]\n",
      "===========\n",
      "[[2. 2. 2. 2. 2.]\n",
      " [2. 2. 2. 2. 2.]\n",
      " [2. 2. 2. 2. 2.]\n",
      " [2. 2. 2. 2. 2.]\n",
      " [2. 2. 2. 2. 2.]]\n",
      "===========\n",
      "[[[2. 2. 2.]\n",
      "  [2. 2. 2.]\n",
      "  [2. 2. 2.]\n",
      "  [2. 2. 2.]\n",
      "  [2. 2. 2.]]\n",
      "\n",
      " [[2. 2. 2.]\n",
      "  [2. 2. 2.]\n",
      "  [2. 2. 2.]\n",
      "  [2. 2. 2.]\n",
      "  [2. 2. 2.]]\n",
      "\n",
      " [[2. 2. 2.]\n",
      "  [2. 2. 2.]\n",
      "  [2. 2. 2.]\n",
      "  [2. 2. 2.]\n",
      "  [2. 2. 2.]]\n",
      "\n",
      " [[2. 2. 2.]\n",
      "  [2. 2. 2.]\n",
      "  [2. 2. 2.]\n",
      "  [2. 2. 2.]\n",
      "  [2. 2. 2.]]\n",
      "\n",
      " [[2. 2. 2.]\n",
      "  [2. 2. 2.]\n",
      "  [2. 2. 2.]\n",
      "  [2. 2. 2.]\n",
      "  [2. 2. 2.]]]\n"
     ]
    }
   ],
   "source": [
    "A = np.ones((5,5,3))\n",
    "B = 2*np.ones((5,5))\n",
    "print(A)\n",
    "print(\"===========\")\n",
    "print(B)\n",
    "print(\"===========\")\n",
    "print(A * B[:,:,None])"
   ]
  },
  {
   "cell_type": "markdown",
   "metadata": {
    "id": "RiqT_A4YXILP"
   },
   "source": [
    "72. 배열의 두 행을 바꾸는 방법"
   ]
  },
  {
   "cell_type": "code",
   "execution_count": null,
   "metadata": {
    "colab": {
     "base_uri": "https://localhost:8080/"
    },
    "id": "XPdiCdJBXJvv",
    "outputId": "6b9fd45e-619d-4bbf-9a7f-ae4edb79b065"
   },
   "outputs": [
    {
     "name": "stdout",
     "output_type": "stream",
     "text": [
      "[[ 5  6  7  8  9]\n",
      " [ 0  1  2  3  4]\n",
      " [10 11 12 13 14]\n",
      " [15 16 17 18 19]\n",
      " [20 21 22 23 24]]\n"
     ]
    }
   ],
   "source": [
    "A = np.arange(25).reshape(5,5)\n",
    "A[[0,1]] = A[[1,0]]\n",
    "print(A)"
   ]
  },
  {
   "cell_type": "markdown",
   "metadata": {
    "id": "ghZ6SSvNXKO3"
   },
   "source": [
    "73. 10개의 삼각형(공유 꼭지점 포함)을 설명하는 10개의 세쌍둥이 집합을 생각해보자. 모든 삼각형을 구성하는 고유한 선 세그먼트 집합을 찾는다."
   ]
  },
  {
   "cell_type": "code",
   "execution_count": null,
   "metadata": {
    "colab": {
     "base_uri": "https://localhost:8080/"
    },
    "id": "NEqmNbzvXkT5",
    "outputId": "05b1e2ae-a177-4ed2-907e-38984f1808b5"
   },
   "outputs": [
    {
     "name": "stdout",
     "output_type": "stream",
     "text": [
      "[( 1,  3) ( 1, 68) ( 3, 68) ( 9, 32) ( 9, 83) (19, 21) (19, 35) (21, 35)\n",
      " (25, 40) (25, 44) (31, 34) (31, 75) (32, 58) (32, 76) (32, 83) (34, 64)\n",
      " (34, 71) (34, 75) (40, 44) (40, 68) (40, 90) (47, 68) (47, 71) (58, 70)\n",
      " (58, 76) (64, 71) (68, 71) (68, 90) (70, 76)]\n"
     ]
    }
   ],
   "source": [
    "faces = np.random.randint(0,100,(10,3))\n",
    "\n",
    "F = np.roll(faces.repeat(2,axis=1),-1,axis=1) # 행별로 원소를 두번씩 반복하고 맨 앞에 있는 것을 맨 뒤로 옮긴다\n",
    "F = F.reshape(len(F)*3,2) # 배열 모양 바꾸기\n",
    "F = np.sort(F,axis=1) # 행 기준 정렬 \n",
    "\n",
    "G = F.view( dtype=[('p0',F.dtype),('p1',F.dtype)] ) # G는 F얕은 복사\n",
    "\n",
    "G = np.unique(G) #유일한 값으로 다시 저장\n",
    "print(G)"
   ]
  },
  {
   "cell_type": "markdown",
   "metadata": {
    "id": "mBfUI9p3aTQ9"
   },
   "source": [
    "74. 빈 카운트에 해당하는 정렬된 `배열 C`가 주어진 경우 `np.bincount(A) == C`와 같은 `배열 A`를 생성하는 방법"
   ]
  },
  {
   "cell_type": "code",
   "execution_count": null,
   "metadata": {
    "colab": {
     "base_uri": "https://localhost:8080/"
    },
    "id": "9weTqme3Zvc5",
    "outputId": "85621f71-5aaa-4683-bbfd-8d7e7ae05ee4"
   },
   "outputs": [
    {
     "name": "stdout",
     "output_type": "stream",
     "text": [
      "[1 1 2 3 4 4 6]\n"
     ]
    }
   ],
   "source": [
    "C = np.bincount([1,1,2,3,4,4,6])\n",
    "A = np.repeat(np.arange(len(C)), C)\n",
    "print(A)"
   ]
  },
  {
   "cell_type": "markdown",
   "metadata": {
    "id": "YLFncZicacgW"
   },
   "source": [
    "75. 배열 상의 슬라이딩 창을 사용하여 평균을 계산하는 방법"
   ]
  },
  {
   "cell_type": "code",
   "execution_count": null,
   "metadata": {
    "colab": {
     "base_uri": "https://localhost:8080/"
    },
    "id": "8oFpAEUfabTG",
    "outputId": "b128e86f-69b3-4bb0-91f3-c4714c9e079c"
   },
   "outputs": [
    {
     "name": "stdout",
     "output_type": "stream",
     "text": [
      "[ 1.  2.  3.  4.  5.  6.  7.  8.  9. 10. 11. 12. 13. 14. 15. 16. 17. 18.]\n"
     ]
    }
   ],
   "source": [
    "def moving_average(a, n=3) :\n",
    "    ret = np.cumsum(a, dtype=float)\n",
    "    ret[n:] = ret[n:] - ret[:-n]\n",
    "    return ret[n - 1:] / n\n",
    "\n",
    "Z = np.arange(20)\n",
    "print(moving_average(Z, n=3))"
   ]
  },
  {
   "cell_type": "markdown",
   "metadata": {
    "id": "xwTJ7IE5akvj"
   },
   "source": [
    "76. 1차원 배열 Z를 고려하여 첫 번째 행이 (Z[0], Z[1], Z[2])인 2차원 배열을 만들고 그 다음 행이 1로 이동되도록 하기\n",
    "\n",
    "   마지막 행은 (Z[-3], Z[-2], Z[-1]). "
   ]
  },
  {
   "cell_type": "code",
   "execution_count": null,
   "metadata": {
    "colab": {
     "base_uri": "https://localhost:8080/"
    },
    "id": "Vc4Y0uCRahho",
    "outputId": "e5522b12-fb86-4899-fe13-a410c6dad363"
   },
   "outputs": [
    {
     "name": "stdout",
     "output_type": "stream",
     "text": [
      "[[0 1 2]\n",
      " [1 2 3]\n",
      " [2 3 4]\n",
      " [3 4 5]\n",
      " [4 5 6]\n",
      " [5 6 7]\n",
      " [6 7 8]\n",
      " [7 8 9]]\n"
     ]
    }
   ],
   "source": [
    "from numpy.lib import stride_tricks\n",
    "\n",
    "def rolling(a, window):\n",
    "    shape = (a.size - window + 1, window) # (8,3)\n",
    "    strides = (a.itemsize, a.itemsize)    # (8,8)\n",
    "    return stride_tricks.as_strided(a, shape=shape, strides=strides) # 주어진 모양과 보폭으로 배열 만듬\n",
    "\n",
    "Z = rolling(np.arange(10), 3)\n",
    "print(Z)"
   ]
  },
  {
   "cell_type": "markdown",
   "metadata": {
    "id": "P80drO0Cb6dG"
   },
   "source": [
    "77. 부울을 부정하는 방법 또는 부동 부호를 변경하는 방법"
   ]
  },
  {
   "cell_type": "code",
   "execution_count": null,
   "metadata": {
    "colab": {
     "base_uri": "https://localhost:8080/"
    },
    "id": "jRuFNMx1a4L9",
    "outputId": "3f61933b-2969-43dd-ecdf-33c56a6ca6fa"
   },
   "outputs": [
    {
     "name": "stdout",
     "output_type": "stream",
     "text": [
      "[0 0 0 1 1 0 0 1 0 1 1 1 0 0 0 0 0 0 0 0 0 1 0 0 0 1 1 1 1 0 0 0 1 0 1 0 1\n",
      " 1 0 1 0 0 0 0 0 0 1 1 1 1 1 0 0 1 1 1 1 1 1 1 0 0 0 1 1 1 1 1 1 0 0 1 0 0\n",
      " 1 0 0 0 1 1 1 1 0 1 1 0 1 0 0 0 1 0 0 1 0 1 0 1 0 0]\n"
     ]
    },
    {
     "data": {
      "text/plain": [
       "array([1, 1, 1, 0, 0, 1, 1, 0, 1, 0, 0, 0, 1, 1, 1, 1, 1, 1, 1, 1, 1, 0,\n",
       "       1, 1, 1, 0, 0, 0, 0, 1, 1, 1, 0, 1, 0, 1, 0, 0, 1, 0, 1, 1, 1, 1,\n",
       "       1, 1, 0, 0, 0, 0, 0, 1, 1, 0, 0, 0, 0, 0, 0, 0, 1, 1, 1, 0, 0, 0,\n",
       "       0, 0, 0, 1, 1, 0, 1, 1, 0, 1, 1, 1, 0, 0, 0, 0, 1, 0, 0, 1, 0, 1,\n",
       "       1, 1, 0, 1, 1, 0, 1, 0, 1, 0, 1, 1])"
      ]
     },
     "execution_count": 76,
     "metadata": {},
     "output_type": "execute_result"
    }
   ],
   "source": [
    "Z = np.random.randint(0,2,100)\n",
    "print(Z)\n",
    "\n",
    "np.logical_not(Z, out=Z)"
   ]
  },
  {
   "cell_type": "code",
   "execution_count": null,
   "metadata": {
    "colab": {
     "base_uri": "https://localhost:8080/"
    },
    "id": "j8wOcs3Nb_es",
    "outputId": "31103642-e2cd-4a27-e26c-be08b5fc4cfe"
   },
   "outputs": [
    {
     "data": {
      "text/plain": [
       "array([ 0.884175  ,  0.43278047, -0.79514788,  0.54002299,  0.540784  ,\n",
       "        0.27903511,  0.45828148, -0.35169   , -0.21738812, -0.09037748,\n",
       "        0.61227068, -0.10849116, -0.44285851, -0.7153485 ,  0.92448375,\n",
       "        0.01795382,  0.64468194,  0.52611918,  0.82557184,  0.51038964,\n",
       "        0.38097881, -0.18070241, -0.67684912,  0.97837381, -0.44236063,\n",
       "        0.87523376, -0.82410849,  0.306361  ,  0.73956841, -0.90985541,\n",
       "       -0.29168211, -0.18449274, -0.81985211,  0.35144667, -0.87803919,\n",
       "       -0.57978295, -0.0768969 , -0.66614886,  0.12131162, -0.01873863,\n",
       "       -0.30422168, -0.51712008,  0.51282327,  0.28562965, -0.85888151,\n",
       "       -0.0560712 , -0.24475472, -0.45290912,  0.84051257,  0.14084444,\n",
       "        0.01718798, -0.13432433,  0.58769275, -0.63718372,  0.57684774,\n",
       "        0.01875383, -0.17320491,  0.30920405, -0.17815106,  0.45759029,\n",
       "        0.21911003,  0.31931226,  0.3645379 ,  0.54469886, -0.66378668,\n",
       "        0.23116748,  0.02417311, -0.05115685,  0.48611845,  0.1524898 ,\n",
       "        0.01546815, -0.75772579,  0.28583143,  0.456166  ,  0.63116433,\n",
       "        0.8262289 , -0.57706266,  0.34229466,  0.92071754, -0.53585294,\n",
       "       -0.91257564,  0.69757161,  0.15171689,  0.1095089 ,  0.90826221,\n",
       "       -0.11467995,  0.79010174, -0.92325334,  0.41915504,  0.69230173,\n",
       "       -0.88438194,  0.83769062,  0.95188631,  0.00768636, -0.13297867,\n",
       "        0.81851692, -0.43809199,  0.66874824, -0.41558702,  0.46124775])"
      ]
     },
     "execution_count": 77,
     "metadata": {},
     "output_type": "execute_result"
    }
   ],
   "source": [
    "Z = np.random.uniform(-1.0,1.0,100)\n",
    "np.negative(Z, out=Z) # 원소에 -1곱"
   ]
  },
  {
   "cell_type": "markdown",
   "metadata": {
    "id": "hLzt-3LWdzyz"
   },
   "source": [
    "78. p에서 각 선(i)까지의 거리를 계산하는 방법은"
   ]
  },
  {
   "cell_type": "code",
   "execution_count": null,
   "metadata": {
    "colab": {
     "base_uri": "https://localhost:8080/"
    },
    "id": "y4XdxE4EgWtB",
    "outputId": "ff25c341-7723-446b-e446-cdab121ef42f"
   },
   "outputs": [
    {
     "name": "stdout",
     "output_type": "stream",
     "text": [
      "[ 7.81332794  4.31115211  2.1011685  10.50085407  5.65121437  8.23431217\n",
      " 11.67022669  7.45472858  0.66488818  6.84185485]\n"
     ]
    }
   ],
   "source": [
    "# 거리를 계산하는 함수\n",
    "def distance(P0, P1, p):\n",
    "    T = P1 - P0\n",
    "    L = (T**2).sum(axis=1)\n",
    "    U = -((P0[:,0]-p[...,0])*T[:,0] + (P0[:,1]-p[...,1])*T[:,1]) / L\n",
    "    U = U.reshape(len(U),1)\n",
    "    D = P0 + U*T - p\n",
    "    return np.sqrt((D**2).sum(axis=1))\n",
    "\n",
    "P0 = np.random.uniform(-10,10,(10,2))\n",
    "P1 = np.random.uniform(-10,10,(10,2))\n",
    "p  = np.random.uniform(-10,10,( 1,2))\n",
    "print(distance(P0, P1, p))"
   ]
  },
  {
   "cell_type": "markdown",
   "metadata": {
    "id": "ky1OjNIzd0JY"
   },
   "source": [
    "79. 각 점 j(P[j])에서 각 선 i(P0[i]까지의 거리를 계산하는 방법"
   ]
  },
  {
   "cell_type": "code",
   "execution_count": null,
   "metadata": {
    "colab": {
     "base_uri": "https://localhost:8080/"
    },
    "id": "2_iOfkbSgiMI",
    "outputId": "56c1dc44-c594-4db9-8685-871ea6d5b7a4"
   },
   "outputs": [
    {
     "name": "stdout",
     "output_type": "stream",
     "text": [
      "[[ 2.61903274  0.74879626 10.14996773  5.77951226  9.75385264  4.23543906\n",
      "   4.34248602  4.01892848  6.08063379  0.35816019]\n",
      " [ 7.39608494  6.80312487 13.91361147  4.79926097 10.38622119 10.61271135\n",
      "   1.83844436  1.00550068 10.84245323  6.1339298 ]\n",
      " [ 9.84217757  6.8408766   1.63440829  0.53046136  1.81661216  7.05958599\n",
      "  12.56690903  2.8279264   6.37384062  6.05979017]\n",
      " [ 6.50597001  2.51886337  0.23618625  5.0371131   1.67491231  0.73482546\n",
      "   3.30922951  4.9387529   3.06891376  3.3838259 ]\n",
      " [ 1.06764539  0.96408962  6.07359479  1.88502602  5.51952985  2.49571934\n",
      "   4.40632452  0.95138889  2.38604981  1.05361982]\n",
      " [ 1.39471029  1.62486596  8.60334008  3.72057167  7.73097822  4.18147014\n",
      "   3.58897924  2.11244493  4.85044932  1.4373432 ]\n",
      " [ 2.16806925 10.36676915  7.58874544 11.56582475 12.98969156  5.44185131\n",
      "  15.39752379 12.60926203  1.3291051  10.75217333]\n",
      " [ 2.89943262  0.05114008  4.31722054  1.01783897  4.27577341  0.90075106\n",
      "   5.51859041  0.66547981  0.55484869  0.21608213]\n",
      " [ 1.90861123  2.67708527  4.74483215  0.58664536  3.27831839  3.18207158\n",
      "   2.81876339  1.58429352  1.5365873   2.96642221]\n",
      " [ 3.30341675  2.32287229 10.51973919  4.96659945  9.30278017  5.60914616\n",
      "   2.77650459  2.80742658  6.75999264  1.9306716 ]]\n"
     ]
    }
   ],
   "source": [
    "P0 = np.random.uniform(-10, 10, (10,2))\n",
    "P1 = np.random.uniform(-10,10,(10,2))\n",
    "p = np.random.uniform(-10, 10, (10,2))\n",
    "\n",
    "print(np.array([distance(P0,P1,p_i) for p_i in p]))"
   ]
  },
  {
   "cell_type": "markdown",
   "metadata": {
    "id": "rmQXkkyBd47n"
   },
   "source": [
    "80.  임의 배열을 고려하여 지정된 요소(필요한 경우 채우기 값을 가진 패드)를 중심으로 아래의 추출 기능을 작성해보자"
   ]
  },
  {
   "cell_type": "code",
   "execution_count": null,
   "metadata": {
    "id": "V31PAEFzgpgV"
   },
   "outputs": [],
   "source": [
    "Z = np.random.randint(0,10,(10,10))\n",
    "shape = (5,5)\n",
    "fill  = 0\n",
    "position = (1,1)"
   ]
  },
  {
   "cell_type": "code",
   "execution_count": null,
   "metadata": {
    "id": "EwiYEAdbgvob"
   },
   "outputs": [],
   "source": [
    "R = np.ones(shape, dtype=Z.dtype)*fill\n",
    "P  = np.array(list(position)).astype(int)\n",
    "Rs = np.array(list(R.shape)).astype(int)\n",
    "Zs = np.array(list(Z.shape)).astype(int)"
   ]
  },
  {
   "cell_type": "code",
   "execution_count": null,
   "metadata": {
    "id": "X8rrWV3ngwhY"
   },
   "outputs": [],
   "source": [
    "R_start = np.zeros((len(shape),)).astype(int)\n",
    "R_stop  = np.array(list(shape)).astype(int)\n",
    "Z_start = (P-Rs//2)\n",
    "Z_stop  = (P+Rs//2)+Rs%2"
   ]
  },
  {
   "cell_type": "code",
   "execution_count": null,
   "metadata": {
    "id": "VSqLr-WbgyNw"
   },
   "outputs": [],
   "source": [
    "R_start = (R_start - np.minimum(Z_start,0)).tolist()\n",
    "Z_start = (np.maximum(Z_start,0)).tolist()\n",
    "R_stop = np.maximum(R_start, (R_stop - np.maximum(Z_stop-Zs,0))).tolist()\n",
    "Z_stop = (np.minimum(Z_stop,Zs)).tolist()"
   ]
  },
  {
   "cell_type": "code",
   "execution_count": null,
   "metadata": {
    "colab": {
     "base_uri": "https://localhost:8080/"
    },
    "id": "BLjbBFKKg0Bx",
    "outputId": "8be2ec2d-db48-44ba-aee9-a64c26b13c96"
   },
   "outputs": [
    {
     "name": "stdout",
     "output_type": "stream",
     "text": [
      "[[0 4 6 3 6 1 1 6 5 8]\n",
      " [7 3 7 3 0 6 7 6 4 1]\n",
      " [3 5 1 3 2 9 1 0 6 0]\n",
      " [7 4 1 4 9 6 5 3 9 2]\n",
      " [1 2 9 7 3 6 2 5 8 8]\n",
      " [6 9 2 8 9 0 1 6 8 6]\n",
      " [0 5 9 6 2 2 7 9 2 2]\n",
      " [8 4 5 0 9 5 8 2 6 1]\n",
      " [7 0 6 9 2 9 9 4 4 8]\n",
      " [7 2 3 8 3 0 6 1 9 3]]\n",
      "[[0 0 0 0 0]\n",
      " [0 0 4 6 3]\n",
      " [0 7 3 7 3]\n",
      " [0 3 5 1 3]\n",
      " [0 7 4 1 4]]\n"
     ]
    },
    {
     "name": "stderr",
     "output_type": "stream",
     "text": [
      "/usr/local/lib/python3.7/dist-packages/ipykernel_launcher.py:3: FutureWarning: Using a non-tuple sequence for multidimensional indexing is deprecated; use `arr[tuple(seq)]` instead of `arr[seq]`. In the future this will be interpreted as an array index, `arr[np.array(seq)]`, which will result either in an error or a different result.\n",
      "  This is separate from the ipykernel package so we can avoid doing imports until\n"
     ]
    }
   ],
   "source": [
    "r = [slice(start,stop) for start,stop in zip(R_start,R_stop)]\n",
    "z = [slice(start,stop) for start,stop in zip(Z_start,Z_stop)]\n",
    "R[r] = Z[z]\n",
    "\n",
    "print(Z)\n",
    "print(R)"
   ]
  },
  {
   "cell_type": "markdown",
   "metadata": {
    "id": "4HVN-d4Qd45f"
   },
   "source": [
    "81. 배열 R × [1,2,3,4,5,6,7,8,9,10,11,3,13,14]을 생성하는 방법. \n",
    "\n",
    "배열 R × [[1,2,3,4,5], [3,4,6], [1,12,13,14], [1,12,13,14]"
   ]
  },
  {
   "cell_type": "code",
   "execution_count": null,
   "metadata": {
    "colab": {
     "base_uri": "https://localhost:8080/"
    },
    "id": "UshRmLnyg6u1",
    "outputId": "dbbb5060-1c78-43c8-a5e6-acf489bc6f14"
   },
   "outputs": [
    {
     "name": "stdout",
     "output_type": "stream",
     "text": [
      "[[ 1  2  3  4]\n",
      " [ 2  3  4  5]\n",
      " [ 3  4  5  6]\n",
      " [ 4  5  6  7]\n",
      " [ 5  6  7  8]\n",
      " [ 6  7  8  9]\n",
      " [ 7  8  9 10]\n",
      " [ 8  9 10 11]\n",
      " [ 9 10 11 12]\n",
      " [10 11 12 13]\n",
      " [11 12 13 14]]\n"
     ]
    }
   ],
   "source": [
    "Z = np.arange(1,15,dtype=np.uint32)\n",
    "R = stride_tricks.as_strided(Z,(11,4),(4,4))\n",
    "\n",
    "print(R)"
   ]
  },
  {
   "cell_type": "markdown",
   "metadata": {
    "id": "au3MxlUjd43p"
   },
   "source": [
    "82. 행렬 순위 계산"
   ]
  },
  {
   "cell_type": "code",
   "execution_count": null,
   "metadata": {
    "colab": {
     "base_uri": "https://localhost:8080/"
    },
    "id": "HaeeoS3jg9EH",
    "outputId": "8459ae38-cc92-4398-b91b-eb8bf164a3cd"
   },
   "outputs": [
    {
     "name": "stdout",
     "output_type": "stream",
     "text": [
      "10\n"
     ]
    }
   ],
   "source": [
    "Z = np.random.uniform(0,1,(10,10))\n",
    "U, S, V = np.linalg.svd(Z) #특이값 분해\n",
    "\n",
    "rank = np.sum(S > 1e-10)\n",
    "print(rank)"
   ]
  },
  {
   "cell_type": "markdown",
   "metadata": {
    "id": "WK21CJLid41f"
   },
   "source": [
    "83. 어레이에서 가장 빈번한 값을 찾는 방법"
   ]
  },
  {
   "cell_type": "code",
   "execution_count": null,
   "metadata": {
    "colab": {
     "base_uri": "https://localhost:8080/"
    },
    "id": "6rp0deqBhF5a",
    "outputId": "90ba9374-c2c6-4e5a-e139-186938fefb49"
   },
   "outputs": [
    {
     "name": "stdout",
     "output_type": "stream",
     "text": [
      "0\n"
     ]
    }
   ],
   "source": [
    "Z = np.random.randint(0,10,50)\n",
    "print(np.bincount(Z).argmax())"
   ]
  },
  {
   "cell_type": "markdown",
   "metadata": {
    "id": "ANSyQr_id4y_"
   },
   "source": [
    "84. 임의의 10x10 매트릭스에서 모든 연속 3x3 블록 추출"
   ]
  },
  {
   "cell_type": "code",
   "execution_count": null,
   "metadata": {
    "colab": {
     "base_uri": "https://localhost:8080/"
    },
    "id": "Z_U8pgo7hLRg",
    "outputId": "af833a55-ab39-4c8c-a4f8-72937f14fb87"
   },
   "outputs": [
    {
     "name": "stdout",
     "output_type": "stream",
     "text": [
      "[[[[1 1 3]\n",
      "   [0 4 0]\n",
      "   [3 3 0]]\n",
      "\n",
      "  [[1 3 1]\n",
      "   [4 0 2]\n",
      "   [3 0 1]]\n",
      "\n",
      "  [[3 1 0]\n",
      "   [0 2 2]\n",
      "   [0 1 4]]\n",
      "\n",
      "  [[1 0 4]\n",
      "   [2 2 3]\n",
      "   [1 4 1]]\n",
      "\n",
      "  [[0 4 1]\n",
      "   [2 3 4]\n",
      "   [4 1 2]]\n",
      "\n",
      "  [[4 1 4]\n",
      "   [3 4 3]\n",
      "   [1 2 4]]\n",
      "\n",
      "  [[1 4 2]\n",
      "   [4 3 0]\n",
      "   [2 4 4]]\n",
      "\n",
      "  [[4 2 2]\n",
      "   [3 0 1]\n",
      "   [4 4 4]]]\n",
      "\n",
      "\n",
      " [[[0 4 0]\n",
      "   [3 3 0]\n",
      "   [0 1 1]]\n",
      "\n",
      "  [[4 0 2]\n",
      "   [3 0 1]\n",
      "   [1 1 3]]\n",
      "\n",
      "  [[0 2 2]\n",
      "   [0 1 4]\n",
      "   [1 3 2]]\n",
      "\n",
      "  [[2 2 3]\n",
      "   [1 4 1]\n",
      "   [3 2 2]]\n",
      "\n",
      "  [[2 3 4]\n",
      "   [4 1 2]\n",
      "   [2 2 4]]\n",
      "\n",
      "  [[3 4 3]\n",
      "   [1 2 4]\n",
      "   [2 4 2]]\n",
      "\n",
      "  [[4 3 0]\n",
      "   [2 4 4]\n",
      "   [4 2 0]]\n",
      "\n",
      "  [[3 0 1]\n",
      "   [4 4 4]\n",
      "   [2 0 1]]]\n",
      "\n",
      "\n",
      " [[[3 3 0]\n",
      "   [0 1 1]\n",
      "   [3 2 4]]\n",
      "\n",
      "  [[3 0 1]\n",
      "   [1 1 3]\n",
      "   [2 4 3]]\n",
      "\n",
      "  [[0 1 4]\n",
      "   [1 3 2]\n",
      "   [4 3 4]]\n",
      "\n",
      "  [[1 4 1]\n",
      "   [3 2 2]\n",
      "   [3 4 1]]\n",
      "\n",
      "  [[4 1 2]\n",
      "   [2 2 4]\n",
      "   [4 1 3]]\n",
      "\n",
      "  [[1 2 4]\n",
      "   [2 4 2]\n",
      "   [1 3 3]]\n",
      "\n",
      "  [[2 4 4]\n",
      "   [4 2 0]\n",
      "   [3 3 0]]\n",
      "\n",
      "  [[4 4 4]\n",
      "   [2 0 1]\n",
      "   [3 0 1]]]\n",
      "\n",
      "\n",
      " [[[0 1 1]\n",
      "   [3 2 4]\n",
      "   [4 4 4]]\n",
      "\n",
      "  [[1 1 3]\n",
      "   [2 4 3]\n",
      "   [4 4 3]]\n",
      "\n",
      "  [[1 3 2]\n",
      "   [4 3 4]\n",
      "   [4 3 1]]\n",
      "\n",
      "  [[3 2 2]\n",
      "   [3 4 1]\n",
      "   [3 1 0]]\n",
      "\n",
      "  [[2 2 4]\n",
      "   [4 1 3]\n",
      "   [1 0 2]]\n",
      "\n",
      "  [[2 4 2]\n",
      "   [1 3 3]\n",
      "   [0 2 3]]\n",
      "\n",
      "  [[4 2 0]\n",
      "   [3 3 0]\n",
      "   [2 3 0]]\n",
      "\n",
      "  [[2 0 1]\n",
      "   [3 0 1]\n",
      "   [3 0 1]]]\n",
      "\n",
      "\n",
      " [[[3 2 4]\n",
      "   [4 4 4]\n",
      "   [1 2 1]]\n",
      "\n",
      "  [[2 4 3]\n",
      "   [4 4 3]\n",
      "   [2 1 2]]\n",
      "\n",
      "  [[4 3 4]\n",
      "   [4 3 1]\n",
      "   [1 2 4]]\n",
      "\n",
      "  [[3 4 1]\n",
      "   [3 1 0]\n",
      "   [2 4 3]]\n",
      "\n",
      "  [[4 1 3]\n",
      "   [1 0 2]\n",
      "   [4 3 4]]\n",
      "\n",
      "  [[1 3 3]\n",
      "   [0 2 3]\n",
      "   [3 4 4]]\n",
      "\n",
      "  [[3 3 0]\n",
      "   [2 3 0]\n",
      "   [4 4 2]]\n",
      "\n",
      "  [[3 0 1]\n",
      "   [3 0 1]\n",
      "   [4 2 2]]]\n",
      "\n",
      "\n",
      " [[[4 4 4]\n",
      "   [1 2 1]\n",
      "   [4 3 4]]\n",
      "\n",
      "  [[4 4 3]\n",
      "   [2 1 2]\n",
      "   [3 4 1]]\n",
      "\n",
      "  [[4 3 1]\n",
      "   [1 2 4]\n",
      "   [4 1 3]]\n",
      "\n",
      "  [[3 1 0]\n",
      "   [2 4 3]\n",
      "   [1 3 3]]\n",
      "\n",
      "  [[1 0 2]\n",
      "   [4 3 4]\n",
      "   [3 3 4]]\n",
      "\n",
      "  [[0 2 3]\n",
      "   [3 4 4]\n",
      "   [3 4 1]]\n",
      "\n",
      "  [[2 3 0]\n",
      "   [4 4 2]\n",
      "   [4 1 3]]\n",
      "\n",
      "  [[3 0 1]\n",
      "   [4 2 2]\n",
      "   [1 3 0]]]\n",
      "\n",
      "\n",
      " [[[1 2 1]\n",
      "   [4 3 4]\n",
      "   [1 2 2]]\n",
      "\n",
      "  [[2 1 2]\n",
      "   [3 4 1]\n",
      "   [2 2 4]]\n",
      "\n",
      "  [[1 2 4]\n",
      "   [4 1 3]\n",
      "   [2 4 1]]\n",
      "\n",
      "  [[2 4 3]\n",
      "   [1 3 3]\n",
      "   [4 1 0]]\n",
      "\n",
      "  [[4 3 4]\n",
      "   [3 3 4]\n",
      "   [1 0 4]]\n",
      "\n",
      "  [[3 4 4]\n",
      "   [3 4 1]\n",
      "   [0 4 0]]\n",
      "\n",
      "  [[4 4 2]\n",
      "   [4 1 3]\n",
      "   [4 0 4]]\n",
      "\n",
      "  [[4 2 2]\n",
      "   [1 3 0]\n",
      "   [0 4 2]]]\n",
      "\n",
      "\n",
      " [[[4 3 4]\n",
      "   [1 2 2]\n",
      "   [2 3 1]]\n",
      "\n",
      "  [[3 4 1]\n",
      "   [2 2 4]\n",
      "   [3 1 4]]\n",
      "\n",
      "  [[4 1 3]\n",
      "   [2 4 1]\n",
      "   [1 4 1]]\n",
      "\n",
      "  [[1 3 3]\n",
      "   [4 1 0]\n",
      "   [4 1 2]]\n",
      "\n",
      "  [[3 3 4]\n",
      "   [1 0 4]\n",
      "   [1 2 4]]\n",
      "\n",
      "  [[3 4 1]\n",
      "   [0 4 0]\n",
      "   [2 4 0]]\n",
      "\n",
      "  [[4 1 3]\n",
      "   [4 0 4]\n",
      "   [4 0 4]]\n",
      "\n",
      "  [[1 3 0]\n",
      "   [0 4 2]\n",
      "   [0 4 2]]]]\n"
     ]
    }
   ],
   "source": [
    "Z = np.random.randint(0,5,(10,10)) #10x10매트릭스\n",
    "\n",
    "n = 3\n",
    "i = 1 + (Z.shape[0]-3)\n",
    "j = 1 + (Z.shape[1]-3)\n",
    "\n",
    "C = stride_tricks.as_strided(Z, shape=(i, j, n, n), strides=Z.strides + Z.strides)\n",
    "print(C)"
   ]
  },
  {
   "cell_type": "markdown",
   "metadata": {
    "id": "4dNUJw9cd4vI"
   },
   "source": [
    "85. Z[i,j] [ Z[j,i]와 같은 2차원 어레이 하위 클래스 생성하기"
   ]
  },
  {
   "cell_type": "code",
   "execution_count": null,
   "metadata": {
    "colab": {
     "base_uri": "https://localhost:8080/"
    },
    "id": "e1iE6ScqhYF_",
    "outputId": "d9dde279-12f6-4e05-f7e3-a533d4d9c90c"
   },
   "outputs": [
    {
     "name": "stdout",
     "output_type": "stream",
     "text": [
      "[[ 1 12  6  7 11]\n",
      " [12  5 14  4 10]\n",
      " [ 6 14  7 42 10]\n",
      " [ 7  4 42  6  3]\n",
      " [11 10 10  3  3]]\n"
     ]
    }
   ],
   "source": [
    "class Symetric(np.ndarray):\n",
    "    def __setitem__(self, index, value):\n",
    "        i,j = index\n",
    "        super(Symetric, self).__setitem__((i,j), value)\n",
    "        super(Symetric, self).__setitem__((j,i), value)\n",
    "\n",
    "def symetric(Z):\n",
    "    return np.asarray(Z + Z.T - np.diag(Z.diagonal())).view(Symetric)\n",
    "\n",
    "S = symetric(np.random.randint(0,10,(5,5)))\n",
    "S[2,3] = 42\n",
    "print(S)"
   ]
  },
  {
   "cell_type": "markdown",
   "metadata": {
    "id": "W6Cb7hDgd4r1"
   },
   "source": [
    "86. 형상 모수(n,n)와 형상 모수(n,1)가 있는 p 벡터의 집합(n,1)을 생각해보자. p 매트릭스 제품의 합계를 한 번에 계산하는 방법. (결과 모양은 (n,1)임)"
   ]
  },
  {
   "cell_type": "code",
   "execution_count": null,
   "metadata": {
    "colab": {
     "base_uri": "https://localhost:8080/"
    },
    "id": "czwBzrmthn10",
    "outputId": "0f831c74-2f77-4e11-fc2d-c245df099d39"
   },
   "outputs": [
    {
     "name": "stdout",
     "output_type": "stream",
     "text": [
      "[[200.]\n",
      " [200.]\n",
      " [200.]\n",
      " [200.]\n",
      " [200.]\n",
      " [200.]\n",
      " [200.]\n",
      " [200.]\n",
      " [200.]\n",
      " [200.]\n",
      " [200.]\n",
      " [200.]\n",
      " [200.]\n",
      " [200.]\n",
      " [200.]\n",
      " [200.]\n",
      " [200.]\n",
      " [200.]\n",
      " [200.]\n",
      " [200.]]\n"
     ]
    }
   ],
   "source": [
    "p, n = 10, 20\n",
    "\n",
    "M = np.ones((p,n,n))\n",
    "V = np.ones((p,n,1))\n",
    "S = np.tensordot(M, V, axes=[[0, 2], [0, 1]]) # 지정 축을 따라 dot곱 계산\n",
    "print(S)"
   ]
  },
  {
   "cell_type": "markdown",
   "metadata": {
    "id": "RsNW9i9dd4pb"
   },
   "source": [
    "87. 블록 합을 얻는 방법(블록 크기는 4x4)인 16x16 어레이를 생각해보자."
   ]
  },
  {
   "cell_type": "code",
   "execution_count": null,
   "metadata": {
    "id": "davvmnngh2hs"
   },
   "outputs": [],
   "source": [
    "Z = np.ones((16,16))\n",
    "k = 4\n",
    "S = np.add.reduceat(np.add.reduceat(Z, np.arange(0, Z.shape[0], k), axis=0),\n",
    "                                    np.arange(0, Z.shape[1], k), axis=1)\n",
    "# np.add.reduceat : 주어진 배열의 인덱스를 고려하여 해당인덱스부터 끝까지의 합계를 구해 배열로 반환\n",
    "print(S)"
   ]
  },
  {
   "cell_type": "markdown",
   "metadata": {
    "id": "04crSPXfd4m9"
   },
   "source": [
    "88. Numpy 어레이를 사용하여 `Game of Life`를 구현하는 방법\n",
    "\n",
    "[라이프게임]( https://ko.wikipedia.org/wiki/%EB%9D%BC%EC%9D%B4%ED%94%84_%EA%B2%8C%EC%9E%84)"
   ]
  },
  {
   "cell_type": "code",
   "execution_count": null,
   "metadata": {
    "colab": {
     "base_uri": "https://localhost:8080/"
    },
    "id": "51XNavN1itAg",
    "outputId": "8ad621fc-df95-4477-d6cf-a09f005b65a4"
   },
   "outputs": [
    {
     "name": "stdout",
     "output_type": "stream",
     "text": [
      "[[0 0 0 ... 0 0 0]\n",
      " [0 0 0 ... 0 0 0]\n",
      " [0 0 0 ... 0 0 0]\n",
      " ...\n",
      " [0 0 0 ... 0 0 0]\n",
      " [0 0 0 ... 0 0 0]\n",
      " [0 0 0 ... 0 0 0]]\n"
     ]
    }
   ],
   "source": [
    "def iterate(Z):\n",
    "    # 이웃한 것 더하기\n",
    "    N = (Z[0:-2,0:-2] + Z[0:-2,1:-1] + Z[0:-2,2:] +\n",
    "         Z[1:-1,0:-2]                + Z[1:-1,2:] +\n",
    "         Z[2:  ,0:-2] + Z[2:  ,1:-1] + Z[2:  ,2:])\n",
    "\n",
    "    # 규칙 적용\n",
    "    birth = (N==3) & (Z[1:-1,1:-1]==0)\n",
    "    survive = ((N==2) | (N==3)) & (Z[1:-1,1:-1]==1)\n",
    "    Z[...] = 0\n",
    "    Z[1:-1,1:-1][birth | survive] = 1\n",
    "    return Z\n",
    "\n",
    "Z = np.random.randint(0,2,(50,50))\n",
    "for i in range(100): Z = iterate(Z)\n",
    "print(Z)"
   ]
  },
  {
   "cell_type": "markdown",
   "metadata": {
    "id": "4N38j--9d4kN"
   },
   "source": [
    "89. 배열의 가장 큰 값을 얻는 방법"
   ]
  },
  {
   "cell_type": "code",
   "execution_count": null,
   "metadata": {
    "id": "XDYhnpJGjeXY"
   },
   "outputs": [],
   "source": [
    "Z = np.arange(10000)\n",
    "np.random.shuffle(Z)\n",
    "n = 5"
   ]
  },
  {
   "cell_type": "code",
   "execution_count": null,
   "metadata": {
    "colab": {
     "base_uri": "https://localhost:8080/"
    },
    "id": "UwzY2pMyjg-u",
    "outputId": "0b7ff867-2a45-4e3b-d6b8-f519b9ef10ef"
   },
   "outputs": [
    {
     "name": "stdout",
     "output_type": "stream",
     "text": [
      "[9995 9996 9997 9998 9999]\n"
     ]
    }
   ],
   "source": [
    "print (Z[np.argsort(Z)[-n:]])"
   ]
  },
  {
   "cell_type": "code",
   "execution_count": null,
   "metadata": {
    "colab": {
     "base_uri": "https://localhost:8080/"
    },
    "id": "8n21n45-jisB",
    "outputId": "6fd5ffca-8262-4cec-842e-497e042a506f"
   },
   "outputs": [
    {
     "name": "stdout",
     "output_type": "stream",
     "text": [
      "[9999 9998 9997 9996 9995]\n"
     ]
    }
   ],
   "source": [
    "# 다른 방법\n",
    "print (Z[np.argpartition(-Z,n)[:n]])"
   ]
  },
  {
   "cell_type": "markdown",
   "metadata": {
    "id": "OAM00vSHd4g4"
   },
   "source": [
    "90. 임의의 수의 벡터가 주어지면 데카르트 제품(모든 항목의 모든 조합)을 작성한다"
   ]
  },
  {
   "cell_type": "code",
   "execution_count": null,
   "metadata": {
    "colab": {
     "base_uri": "https://localhost:8080/"
    },
    "id": "XiBhhFtVjlt_",
    "outputId": "cacfdb3c-9412-4035-f27c-42abb717faa5"
   },
   "outputs": [
    {
     "name": "stdout",
     "output_type": "stream",
     "text": [
      "[[1 4 6]\n",
      " [1 4 7]\n",
      " [1 5 6]\n",
      " [1 5 7]\n",
      " [2 4 6]\n",
      " [2 4 7]\n",
      " [2 5 6]\n",
      " [2 5 7]\n",
      " [3 4 6]\n",
      " [3 4 7]\n",
      " [3 5 6]\n",
      " [3 5 7]]\n"
     ]
    }
   ],
   "source": [
    "def cartesian(arrays):\n",
    "    arrays = [np.asarray(a) for a in arrays]\n",
    "    shape = (len(x) for x in arrays)\n",
    "\n",
    "    ix = np.indices(shape, dtype=int)\n",
    "    ix = ix.reshape(len(arrays), -1).T\n",
    "\n",
    "    for n, arr in enumerate(arrays):\n",
    "        ix[:, n] = arrays[n][ix[:, n]]\n",
    "\n",
    "    return ix\n",
    "\n",
    "print (cartesian(([1, 2, 3], [4, 5], [6, 7])))"
   ]
  },
  {
   "cell_type": "markdown",
   "metadata": {
    "id": "FSbYzU0Id4UW"
   },
   "source": [
    "91. 일반 배열에서 레코드 배열을 만드는 방법"
   ]
  },
  {
   "cell_type": "code",
   "execution_count": null,
   "metadata": {
    "colab": {
     "base_uri": "https://localhost:8080/"
    },
    "id": "x6l8071ijsbP",
    "outputId": "6432a621-543e-4de4-ef23-24f446298655"
   },
   "outputs": [
    {
     "name": "stdout",
     "output_type": "stream",
     "text": [
      "[(b'Hello', 2.5, 3) (b'World', 3.6, 2)]\n"
     ]
    }
   ],
   "source": [
    "# 레코드 배열은 인덱스 대신 배열필드에 엑세스가능\n",
    "Z = np.array([(\"Hello\", 2.5, 3),\n",
    "              (\"World\", 3.6, 2)])\n",
    "R = np.core.records.fromarrays(Z.T, names='col1, col2, col3',\n",
    "                               formats = 'S8, f8, i8')\n",
    "print(R)"
   ]
  },
  {
   "cell_type": "markdown",
   "metadata": {
    "id": "lt1D9uVzd3Z9"
   },
   "source": [
    "92. 큰 벡터 Z를 구하자. 3가지 다른 방법을 사용하고 Z를 3의 제곱으로 구한다. "
   ]
  },
  {
   "cell_type": "code",
   "execution_count": null,
   "metadata": {
    "colab": {
     "base_uri": "https://localhost:8080/"
    },
    "id": "SXvsEoEojyEs",
    "outputId": "ddb74017-9cf8-46d1-da8f-2bcdac6fdc9b"
   },
   "outputs": [
    {
     "name": "stdout",
     "output_type": "stream",
     "text": [
      "4.63 s ± 666 ms per loop (mean ± std. dev. of 7 runs, 1 loop each)\n"
     ]
    }
   ],
   "source": [
    "x = np.random.rand(int(5e7))\n",
    "\n",
    "%timeit np.power(x,3)"
   ]
  },
  {
   "cell_type": "code",
   "execution_count": null,
   "metadata": {
    "colab": {
     "base_uri": "https://localhost:8080/"
    },
    "id": "I-TCU-yQkLjX",
    "outputId": "77a5b2d7-22cb-49eb-8de8-9cf48a08e407"
   },
   "outputs": [
    {
     "name": "stdout",
     "output_type": "stream",
     "text": [
      "222 ms ± 8.37 ms per loop (mean ± std. dev. of 7 runs, 1 loop each)\n"
     ]
    }
   ],
   "source": [
    "%timeit x*x*x"
   ]
  },
  {
   "cell_type": "code",
   "execution_count": null,
   "metadata": {
    "colab": {
     "base_uri": "https://localhost:8080/"
    },
    "id": "kOkQ8PaqkPKd",
    "outputId": "57e0d063-82aa-4619-e0de-6152f88e0058"
   },
   "outputs": [
    {
     "name": "stdout",
     "output_type": "stream",
     "text": [
      "162 ms ± 7.45 ms per loop (mean ± std. dev. of 7 runs, 10 loops each)\n"
     ]
    }
   ],
   "source": [
    "%timeit np.einsum('i,i,i->i',x,x,x)"
   ]
  },
  {
   "cell_type": "markdown",
   "metadata": {
    "id": "efLwWFuyfDLB"
   },
   "source": [
    "93. 형상 (8,3)과 (2,2)의 배열 A와 B를 두 개의 배열로 간주한다. B의 원소의 순서에 상관없이 B의 각 행의 원소가 포함된 A 행을 찾는 방법은"
   ]
  },
  {
   "cell_type": "code",
   "execution_count": null,
   "metadata": {
    "colab": {
     "base_uri": "https://localhost:8080/"
    },
    "id": "dvAQyF6Vj-lC",
    "outputId": "859c8f42-e5c4-43d2-9544-f5e5cb2652d4"
   },
   "outputs": [
    {
     "name": "stdout",
     "output_type": "stream",
     "text": [
      "[0 2 4 7]\n"
     ]
    }
   ],
   "source": [
    "A = np.random.randint(0,5,(8,3))\n",
    "B = np.random.randint(0,5,(2,2))\n",
    "\n",
    "C = (A[..., np.newaxis, np.newaxis] == B)   # A에 2차원을 추가한 배열과 B 비교 \n",
    "rows = np.where(C.any((3,1)).all(1))[0]     # 원소 4개 중 하나라도 같은것이 있는지 찾고\n",
    "                                            # all메서드로 두 값이 모두 참인 행만 남겨 \n",
    "                                            # where 메서드로 구한 값의 행 인덱스 추출 \n",
    "print(rows)"
   ]
  },
  {
   "cell_type": "markdown",
   "metadata": {
    "id": "QTu_qCP2fDAW"
   },
   "source": [
    "94. 10x3 행렬에서 값이 동일하지 않은 행(예: [2,2,3])을 추출하자"
   ]
  },
  {
   "cell_type": "code",
   "execution_count": null,
   "metadata": {
    "colab": {
     "base_uri": "https://localhost:8080/"
    },
    "id": "v0u5ioykk8yj",
    "outputId": "a5d31973-00c6-4f24-96c5-91f8d6f62d7c"
   },
   "outputs": [
    {
     "name": "stdout",
     "output_type": "stream",
     "text": [
      "[[1 4 4]\n",
      " [0 0 2]\n",
      " [0 3 0]\n",
      " [0 0 4]\n",
      " [3 1 1]\n",
      " [1 4 3]\n",
      " [3 0 0]\n",
      " [3 0 2]\n",
      " [4 4 4]\n",
      " [4 0 2]]\n",
      "\n",
      "\n",
      "[[1 4 4]\n",
      " [0 0 2]\n",
      " [0 3 0]\n",
      " [0 0 4]\n",
      " [3 1 1]\n",
      " [1 4 3]\n",
      " [3 0 0]\n",
      " [3 0 2]\n",
      " [4 0 2]]\n",
      "\n",
      "\n",
      "[[1 4 4]\n",
      " [0 0 2]\n",
      " [0 3 0]\n",
      " [0 0 4]\n",
      " [3 1 1]\n",
      " [1 4 3]\n",
      " [3 0 0]\n",
      " [3 0 2]\n",
      " [4 0 2]]\n"
     ]
    }
   ],
   "source": [
    "Z = np.random.randint(0,5,(10,3))\n",
    "print(Z)\n",
    "print(\"\\n\")\n",
    "\n",
    "E = np.all(Z[:,1:] == Z[:,:-1], axis=1)\n",
    "U = Z[~E]\n",
    "print(U)\n",
    "print(\"\\n\")\n",
    "\n",
    "U = Z[Z.max(axis=1) != Z.min(axis=1),:]\n",
    "print(U)"
   ]
  },
  {
   "cell_type": "markdown",
   "metadata": {
    "id": "bT9Re9NEfC1q"
   },
   "source": [
    "95. 정수 벡터를 행렬 이진수 표현으로 변환"
   ]
  },
  {
   "cell_type": "code",
   "execution_count": null,
   "metadata": {
    "colab": {
     "base_uri": "https://localhost:8080/"
    },
    "id": "Kgvc3qm2lWg5",
    "outputId": "4a824d19-4ddf-4926-968b-9abbaebbd82b"
   },
   "outputs": [
    {
     "name": "stdout",
     "output_type": "stream",
     "text": [
      "[[0 0 0 0 0 0 0 0]\n",
      " [0 0 0 0 0 0 0 1]\n",
      " [0 0 0 0 0 0 1 0]\n",
      " [0 0 0 0 0 0 1 1]\n",
      " [0 0 0 0 1 1 1 1]\n",
      " [0 0 0 1 0 0 0 0]\n",
      " [0 0 1 0 0 0 0 0]\n",
      " [0 1 0 0 0 0 0 0]\n",
      " [1 0 0 0 0 0 0 0]]\n"
     ]
    }
   ],
   "source": [
    "I = np.array([0, 1, 2, 3, 15, 16, 32, 64, 128])\n",
    "\n",
    "B = ((I.reshape(-1,1) & (2**np.arange(8))) != 0).astype(int) # 이진수로 변환 후 정수로 나타냄\n",
    "print(B[:,::-1])"
   ]
  },
  {
   "cell_type": "code",
   "execution_count": null,
   "metadata": {
    "colab": {
     "base_uri": "https://localhost:8080/"
    },
    "id": "p8hWAYTJloxO",
    "outputId": "0a480c9e-2f20-4e52-db93-ecc659b5de92"
   },
   "outputs": [
    {
     "name": "stdout",
     "output_type": "stream",
     "text": [
      "[[0 0 0 0 0 0 0 0]\n",
      " [0 0 0 0 0 0 0 1]\n",
      " [0 0 0 0 0 0 1 0]\n",
      " [0 0 0 0 0 0 1 1]\n",
      " [0 0 0 0 1 1 1 1]\n",
      " [0 0 0 1 0 0 0 0]\n",
      " [0 0 1 0 0 0 0 0]\n",
      " [0 1 0 0 0 0 0 0]\n",
      " [1 0 0 0 0 0 0 0]]\n"
     ]
    }
   ],
   "source": [
    "# 또 다른 방법\n",
    "I = np.array([0, 1, 2, 3, 15, 16, 32, 64, 128], dtype=np.uint8)\n",
    "print(np.unpackbits(I[:, np.newaxis], axis=1))"
   ]
  },
  {
   "cell_type": "markdown",
   "metadata": {
    "id": "zB-aZu1XfCqR"
   },
   "source": [
    "96. 2차원 배열이 주어진 경우 고유 행을 추출하는 방법"
   ]
  },
  {
   "cell_type": "code",
   "execution_count": null,
   "metadata": {
    "colab": {
     "base_uri": "https://localhost:8080/"
    },
    "id": "OaZEejx4lXRv",
    "outputId": "86f3d97d-f88b-4274-c9ca-746ee1881859"
   },
   "outputs": [
    {
     "name": "stdout",
     "output_type": "stream",
     "text": [
      "[[0 0 0]\n",
      " [0 0 1]\n",
      " [0 1 0]\n",
      " [0 1 1]\n",
      " [1 0 0]]\n"
     ]
    }
   ],
   "source": [
    "Z = np.random.randint(0,2,(6,3))\n",
    "\n",
    "T = np.ascontiguousarray(Z).view(np.dtype((np.void, Z.dtype.itemsize * Z.shape[1])))\n",
    "\n",
    "_, idx = np.unique(T, return_index=True) # 중복되지 않는 행 추출\n",
    "uZ = Z[idx]\n",
    "print(uZ)"
   ]
  },
  {
   "cell_type": "code",
   "execution_count": null,
   "metadata": {
    "colab": {
     "base_uri": "https://localhost:8080/"
    },
    "id": "7O6s44Hdl9v8",
    "outputId": "373b9134-7319-4c3b-c1c3-4b2e79c5ad54"
   },
   "outputs": [
    {
     "name": "stdout",
     "output_type": "stream",
     "text": [
      "[[0 0 0]\n",
      " [0 0 1]\n",
      " [0 1 0]\n",
      " [0 1 1]\n",
      " [1 0 0]]\n"
     ]
    }
   ],
   "source": [
    "# 다른 방법\n",
    "# numpy 버전 1.13에서 가능\n",
    "uZ = np.unique(Z, axis=0)\n",
    "print(uZ)"
   ]
  },
  {
   "cell_type": "markdown",
   "metadata": {
    "id": "HxZIsH4HfCe9"
   },
   "source": [
    "97. 2개의 벡터 A와 B로 내적, 외적, 합계 및 다중 함수에 해당하는 einsum을 작성하자"
   ]
  },
  {
   "cell_type": "code",
   "execution_count": null,
   "metadata": {
    "colab": {
     "base_uri": "https://localhost:8080/"
    },
    "id": "_JkpSooWlYbi",
    "outputId": "43f4ba8a-e897-47c5-a571-254b499b238f"
   },
   "outputs": [
    {
     "data": {
      "text/plain": [
       "array([[0.00368634, 0.04291773, 0.00430578, 0.02191295, 0.03937891,\n",
       "        0.0042984 , 0.05580684, 0.0022348 , 0.04954046, 0.05103313],\n",
       "       [0.00845714, 0.09846114, 0.00987824, 0.05027232, 0.09034243,\n",
       "        0.00986131, 0.12803111, 0.00512705, 0.11365488, 0.11707934],\n",
       "       [0.05133525, 0.59766375, 0.0599614 , 0.30515533, 0.54838277,\n",
       "        0.05985862, 0.77715485, 0.03112141, 0.68989046, 0.71067708],\n",
       "       [0.03911943, 0.45544272, 0.04569289, 0.23254007, 0.41788872,\n",
       "        0.04561457, 0.59222182, 0.02371571, 0.52572301, 0.54156321],\n",
       "       [0.03371055, 0.39247057, 0.03937513, 0.20038774, 0.36010901,\n",
       "        0.03930763, 0.5103378 , 0.02043664, 0.4530335 , 0.46668355],\n",
       "       [0.01079252, 0.12565051, 0.01260605, 0.06415467, 0.11528987,\n",
       "        0.01258444, 0.16338602, 0.00654284, 0.1450399 , 0.14940999],\n",
       "       [0.01157249, 0.13473117, 0.01351708, 0.06879108, 0.12362178,\n",
       "        0.01349391, 0.1751938 , 0.00701569, 0.15552181, 0.16020774],\n",
       "       [0.04770361, 0.55538291, 0.05571952, 0.28356757, 0.50958824,\n",
       "        0.05562401, 0.72217617, 0.02891977, 0.64108517, 0.66040128],\n",
       "       [0.01199436, 0.13964274, 0.01400984, 0.07129883, 0.12812836,\n",
       "        0.01398583, 0.18158042, 0.00727144, 0.1611913 , 0.16604804],\n",
       "       [0.00431107, 0.05019108, 0.00503549, 0.02562657, 0.04605252,\n",
       "        0.00502685, 0.06526452, 0.00261354, 0.05793616, 0.0596818 ]])"
      ]
     },
     "execution_count": 112,
     "metadata": {},
     "output_type": "execute_result"
    }
   ],
   "source": [
    "A = np.random.uniform(0,1,10)\n",
    "B = np.random.uniform(0,1,10)\n",
    "\n",
    "np.einsum('i->', A)       # np.sum(A)\n",
    "np.einsum('i,i->i', A, B) # A * B\n",
    "np.einsum('i,i', A, B)    # np.inner(A, B)\n",
    "np.einsum('i,j->ij', A, B)    # np.outer(A, B)"
   ]
  },
  {
   "cell_type": "markdown",
   "metadata": {
    "id": "1654ZLCefCUp"
   },
   "source": [
    "98. 두 벡터(X,Y)가 나타내는 경로를 고려할 때 등거리 샘플을 사용하여 샘플링하는 방법"
   ]
  },
  {
   "cell_type": "code",
   "execution_count": null,
   "metadata": {
    "id": "drpHdYbHlZJp"
   },
   "outputs": [],
   "source": [
    "phi = np.arange(0, 10*np.pi, 0.1)\n",
    "a = 1\n",
    "x = a*phi*np.cos(phi)\n",
    "y = a*phi*np.sin(phi)\n",
    "\n",
    "dr = (np.diff(x)**2 + np.diff(y)**2)**.5 # 세그먼트 길이\n",
    "r = np.zeros_like(x)\n",
    "r[1:] = np.cumsum(dr)                # 경로 더함\n",
    "r_int = np.linspace(0, r.max(), 200) # 일정 간격으로 된 경로\n",
    "x_int = np.interp(r_int, r, x)       # 더한 경로\n",
    "y_int = np.interp(r_int, r, y)"
   ]
  },
  {
   "cell_type": "markdown",
   "metadata": {
    "id": "sF7X7SHlfCGR"
   },
   "source": [
    "99. 정수 n과 2차원 배열 X가 주어진 경우, n도의 다항 분포에서 추출한 것으로 해석할 수 있는 행, 즉 정수만 포함하는 행과 n의 합을 X에서 선택한다."
   ]
  },
  {
   "cell_type": "code",
   "execution_count": null,
   "metadata": {
    "colab": {
     "base_uri": "https://localhost:8080/"
    },
    "id": "3EY0CUZQlZw8",
    "outputId": "84f5cbfa-4b2e-4eb7-cc3e-4015f7e04f82"
   },
   "outputs": [
    {
     "name": "stdout",
     "output_type": "stream",
     "text": [
      "[[2. 0. 1. 1.]]\n"
     ]
    }
   ],
   "source": [
    "X = np.asarray([[1.0, 0.0, 3.0, 8.0],\n",
    "                [2.0, 0.0, 1.0, 1.0],\n",
    "                [1.5, 2.5, 1.0, 0.0]])\n",
    "n = 4\n",
    "M = np.logical_and.reduce(np.mod(X, 1) == 0, axis=-1)\n",
    "M &= (X.sum(axis=-1) == n)\n",
    "print(X[M])"
   ]
  },
  {
   "cell_type": "markdown",
   "metadata": {
    "id": "VErbIMp7fBoo"
   },
   "source": [
    "100. 1차원 배열 X의 평균에 대해 부트스트랩 95% 신뢰 구간 계산(즉, 배열 요소를 대체 N번으로 다시 표본 추출, 각 표본의 평균 계산, 평균에 대한 백분위수 계산)\n",
    "\n",
    "- 부트스트랩 계산 : 표본으로 주어진 데이터를 기준으로 복원표집해 통계량을 구함"
   ]
  },
  {
   "cell_type": "code",
   "execution_count": null,
   "metadata": {
    "colab": {
     "base_uri": "https://localhost:8080/"
    },
    "id": "XHJLzufscCkx",
    "outputId": "6aa2d86b-5ef5-4d4d-abaa-70519ec644c5"
   },
   "outputs": [
    {
     "name": "stdout",
     "output_type": "stream",
     "text": [
      "[-0.23564444  0.17896425]\n"
     ]
    }
   ],
   "source": [
    "X = np.random.randn(100) # 랜덤 구성된 1차원 어레이\n",
    "N = 1000 # 부트스트랩 샘플 수\n",
    "\n",
    "idx = np.random.randint(0, X.size, (N, X.size))\n",
    "\n",
    "means = X[idx].mean(axis=1)\n",
    "\n",
    "confint = np.percentile(means, [2.5, 97.5]) # 백분위로 값 구함\n",
    "print(confint)"
   ]
  }
 ],
 "metadata": {
  "colab": {
   "provenance": []
  },
  "kernelspec": {
   "display_name": "Python 3 (ipykernel)",
   "language": "python",
   "name": "python3"
  },
  "language_info": {
   "codemirror_mode": {
    "name": "ipython",
    "version": 3
   },
   "file_extension": ".py",
   "mimetype": "text/x-python",
   "name": "python",
   "nbconvert_exporter": "python",
   "pygments_lexer": "ipython3",
   "version": "3.9.13"
  }
 },
 "nbformat": 4,
 "nbformat_minor": 1
}

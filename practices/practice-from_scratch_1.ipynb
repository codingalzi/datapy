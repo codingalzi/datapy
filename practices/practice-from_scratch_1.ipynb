{
 "cells": [
  {
   "attachments": {},
   "cell_type": "markdown",
   "id": "63ac596b",
   "metadata": {},
   "source": [
    "# (실습) 선형대수 기초"
   ]
  },
  {
   "attachments": {},
   "cell_type": "markdown",
   "id": "d7c15115",
   "metadata": {},
   "source": [
    "## 벡터 브로드캐스팅\n",
    "\n",
    "벡터 스칼라 곱셈 $2 \\ast [1, 2, 3]$은 $[2, 2, 2] \\ast [1, 2, 3]$처럼 작동한다.\n",
    "이렇게 연산에 사용된 하나의 인자를 다른 인자의 형태에 맞춘 후 연산을 \n",
    "실행하는 것을 **브로드캐스팅**<font size='2'>broadcasting</font>이라 한다. \n",
    "보다 자세한 내용은 [고급 넘파이](https://codingalzi.github.io/datapy/numpy_4.html)에서 확인할 수 있다."
   ]
  },
  {
   "attachments": {},
   "cell_type": "markdown",
   "id": "33bf0de6",
   "metadata": {},
   "source": [
    "**문제 1**"
   ]
  },
  {
   "attachments": {},
   "cell_type": "markdown",
   "id": "3ecedf59",
   "metadata": {},
   "source": [
    "벡터 스칼라 곱셈을 실행하는 `scalar_multiplyV()` 함수의 첫째 인자는 스칼라, 둘째 인자는 벡터일 때\n",
    "실행된다.\n",
    "이제 첫째 인자가 벡터, 둘째 인자가 스칼라 일 때도 작동하도록 함수를 수정하라.\n",
    "\n",
    "$$\n",
    "c \\ast [u_1, \\cdots, u_n] = [c \\ast u_1, \\cdots, c \\ast u_n]\n",
    "$$\n",
    "\n",
    "$$\n",
    "[u_1, \\cdots, u_n] \\ast c = [u_1 \\ast c, \\cdots, u_n \\ast c]\n",
    "$$"
   ]
  },
  {
   "cell_type": "code",
   "execution_count": 1,
   "id": "70c589d9",
   "metadata": {},
   "outputs": [],
   "source": [
    "# pass를 적절한 코드로 대체하라.\n",
    "\n",
    "def scalar_multiplyV(x, y):\n",
    "    pass"
   ]
  },
  {
   "attachments": {},
   "cell_type": "markdown",
   "id": "5b686c2a",
   "metadata": {},
   "source": [
    "아래 코드를 실행할 때 오류가 발생하지 않아야 한다.\n",
    "\n",
    "힌트: `isinstance()` 함수 활용"
   ]
  },
  {
   "cell_type": "code",
   "execution_count": null,
   "id": "db1befc4",
   "metadata": {},
   "outputs": [],
   "source": [
    "# 절대 수정하지 말것!\n",
    "assert scalar_multiplyV(2, [1, 2, 3]) == [2, 4, 6]\n",
    "assert scalar_multiplyV([1, 2, 3], 2) == [2, 4, 6]"
   ]
  },
  {
   "attachments": {},
   "cell_type": "markdown",
   "id": "33bf0de6",
   "metadata": {},
   "source": [
    "**문제 2**"
   ]
  },
  {
   "attachments": {},
   "cell_type": "markdown",
   "id": "3ecedf59",
   "metadata": {},
   "source": [
    "벡터 스칼라 곱셈과 유사하게 작동하는 벡터 스칼라 덧셈 함수 `scalar_addV()`을 구현하라.\n",
    "\n",
    "$$\n",
    "c + [u_1, \\cdots, u_n] = [c + u_1, \\cdots, c + u_n]\n",
    "$$\n",
    "\n",
    "$$\n",
    "[u_1, \\cdots, u_n] + c = [u_1 + c, \\cdots, u_n + c]\n",
    "$$"
   ]
  },
  {
   "cell_type": "code",
   "execution_count": 2,
   "id": "70c589d9",
   "metadata": {},
   "outputs": [],
   "source": [
    "# pass를 적절한 코드로 대체하라.\n",
    "\n",
    "def scalar_addV(x, y):\n",
    "    pass"
   ]
  },
  {
   "attachments": {},
   "cell_type": "markdown",
   "id": "5b686c2a",
   "metadata": {},
   "source": [
    "아래 코드를 실행할 때 오류가 발생하지 않아야 한다.\n",
    "\n",
    "힌트: `isinstance()` 함수 활용"
   ]
  },
  {
   "cell_type": "code",
   "execution_count": null,
   "id": "db1befc4",
   "metadata": {},
   "outputs": [],
   "source": [
    "# 절대 수정하지 말것!\n",
    "assert scalar_addV(2, [1, 2, 3]) == [3, 4, 5]\n",
    "assert scalar_addV([1, 2, 3], 2) == [3, 4, 5]"
   ]
  },
  {
   "attachments": {},
   "cell_type": "markdown",
   "id": "33bf0de6",
   "metadata": {},
   "source": [
    "**문제 3**"
   ]
  },
  {
   "attachments": {},
   "cell_type": "markdown",
   "id": "3ecedf59",
   "metadata": {},
   "source": [
    "벡터 스칼라 덧셈과 유사하게 작동하는 벡터 스칼라 뺄셈 함수 `scalar_subtractV()`을 구현하라.\n",
    "\n",
    "$$\n",
    "c - [u_1, \\cdots, u_n] = [c - u_1, \\cdots, c - u_n]\n",
    "$$\n",
    "\n",
    "$$\n",
    "[u_1, \\cdots, u_n] - c = [u_1 - c, \\cdots, u_n - c]\n",
    "$$"
   ]
  },
  {
   "cell_type": "code",
   "execution_count": null,
   "id": "70c589d9",
   "metadata": {},
   "outputs": [],
   "source": [
    "# pass를 적절한 코드로 대체하라.\n",
    "\n",
    "def scalar_subtractV(x, y):\n",
    "    pass"
   ]
  },
  {
   "attachments": {},
   "cell_type": "markdown",
   "id": "5b686c2a",
   "metadata": {},
   "source": [
    "아래 코드를 실행할 때 오류가 발생하지 않아야 한다.\n",
    "\n",
    "힌트: `isinstance()` 함수 활용"
   ]
  },
  {
   "cell_type": "code",
   "execution_count": null,
   "id": "db1befc4",
   "metadata": {},
   "outputs": [],
   "source": [
    "# 절대 수정하지 말것!\n",
    "assert scalar_subtractV(2, [1, 2, 3]) == [1, 0, -1]\n",
    "assert scalar_subtractV([1, 2, 3], 2) == [-1, 0, 1]"
   ]
  },
  {
   "attachments": {},
   "cell_type": "markdown",
   "id": "33bf0de6",
   "metadata": {},
   "source": [
    "**문제 4**"
   ]
  },
  {
   "attachments": {},
   "cell_type": "markdown",
   "id": "3ecedf59",
   "metadata": {},
   "source": [
    "벡터 스칼라 곱셈과 유사하게 작동하는 벡터 스칼라 나눗셈 함수 `scalar_divideV()`을 구현하라.\n",
    "\n",
    "$$\n",
    "c / [u_1, \\cdots, u_n] = [c / u_1, \\cdots, c / u_n]\n",
    "$$\n",
    "\n",
    "$$\n",
    "[u_1, \\cdots, u_n] / c = [u_1 / c, \\cdots, u_n / c]\n",
    "$$"
   ]
  },
  {
   "cell_type": "code",
   "execution_count": 3,
   "id": "70c589d9",
   "metadata": {},
   "outputs": [],
   "source": [
    "# pass를 적절한 코드로 대체하라.\n",
    "\n",
    "def scalar_divideV(x, y):\n",
    "    pass"
   ]
  },
  {
   "attachments": {},
   "cell_type": "markdown",
   "id": "5b686c2a",
   "metadata": {},
   "source": [
    "아래 코드를 실행할 때 오류가 발생하지 않아야 한다.\n",
    "\n",
    "힌트: `isinstance()` 함수 활용"
   ]
  },
  {
   "cell_type": "code",
   "execution_count": null,
   "id": "db1befc4",
   "metadata": {},
   "outputs": [],
   "source": [
    "# 절대 수정하지 말것!\n",
    "assert scalar_divideV(2, [1, 2, 4]) == [2.0, 1.0, 0.5]\n",
    "assert scalar_divideV([1, 2, 4], 2) == [0.5, 1.0, 2.0]"
   ]
  },
  {
   "attachments": {},
   "cell_type": "markdown",
   "id": "005e7a40",
   "metadata": {},
   "source": [
    "## 행렬 항목별 연산"
   ]
  },
  {
   "attachments": {},
   "cell_type": "markdown",
   "id": "33bf0de6",
   "metadata": {},
   "source": [
    "**문제 1**"
   ]
  },
  {
   "attachments": {},
   "cell_type": "markdown",
   "id": "3ecedf59",
   "metadata": {},
   "source": [
    "행렬 항목별 덧셈과 유사하게 작동하는 행렬 항목별 곱셈 함수 `multiplyM()`을 구현하라.\n",
    "\n",
    "$$\n",
    "\\begin{align*}\n",
    "\\begin{bmatrix}2&3&7\\\\2&1&1\\end{bmatrix} \n",
    "\\ast \\begin{bmatrix}1&1&5\\\\4&5&1\\end{bmatrix}\n",
    "&= \\begin{bmatrix}2\\ast1&3\\ast1&7\\ast5\\\\2\\ast4&1\\ast5&1\\ast1\\end{bmatrix} \\\\[.5ex]\n",
    "&= \\begin{bmatrix}2&3&35\\\\8&5&1\\end{bmatrix}\n",
    "\\end{align*}\n",
    "$$"
   ]
  },
  {
   "cell_type": "code",
   "execution_count": null,
   "id": "70c589d9",
   "metadata": {},
   "outputs": [],
   "source": [
    "# pass를 적절한 코드로 대체하라.\n",
    "\n",
    "def multiplyM(x, y):\n",
    "    pass"
   ]
  },
  {
   "attachments": {},
   "cell_type": "markdown",
   "id": "5b686c2a",
   "metadata": {},
   "source": [
    "아래 코드를 실행할 때 오류가 발생하지 않아야 한다."
   ]
  },
  {
   "cell_type": "code",
   "execution_count": null,
   "id": "09213ae7",
   "metadata": {},
   "outputs": [],
   "source": [
    "# 절대 수정하지 말것!\n",
    "\n",
    "A = [[2, 3, 7],\n",
    "     [2, 1, 1]]\n",
    "\n",
    "B = [[1, 1, 5],\n",
    "     [4, 5, 1]]\n",
    "\n",
    "AB = [[2, 3, 35],\n",
    "      [8, 5, 1]]\n",
    "\n",
    "assert multiplyM(A, B) == AB"
   ]
  },
  {
   "attachments": {},
   "cell_type": "markdown",
   "id": "33bf0de6",
   "metadata": {},
   "source": [
    "**문제 2**"
   ]
  },
  {
   "attachments": {},
   "cell_type": "markdown",
   "id": "3ecedf59",
   "metadata": {},
   "source": [
    "행렬 항목별 곱셈과 유사하게 작동하는 행렬 항목별 나눗셈 함수 `divideM()`을 구현하라.\n",
    "\n",
    "$$\n",
    "\\begin{align*}\n",
    "\\begin{bmatrix}2&3&7\\\\2&1&1\\end{bmatrix} \n",
    "/ \\begin{bmatrix}1&1&5\\\\4&5&1\\end{bmatrix}\n",
    "&= \\begin{bmatrix}2/1&3/1&7/5\\\\2/4&1/5&1/1\\end{bmatrix} \\\\[.5ex]\n",
    "&= \\begin{bmatrix}2.0&3.0&1.4\\\\0.5&0.2&1.0\\end{bmatrix}\n",
    "\\end{align*}\n",
    "$$"
   ]
  },
  {
   "cell_type": "code",
   "execution_count": null,
   "id": "70c589d9",
   "metadata": {},
   "outputs": [],
   "source": [
    "# pass를 적절한 코드로 대체하라.\n",
    "\n",
    "def divideM(x, y):\n",
    "    pass"
   ]
  },
  {
   "attachments": {},
   "cell_type": "markdown",
   "id": "5b686c2a",
   "metadata": {},
   "source": [
    "아래 코드를 실행할 때 오류가 발생하지 않아야 한다."
   ]
  },
  {
   "cell_type": "code",
   "execution_count": null,
   "id": "94822bd3",
   "metadata": {},
   "outputs": [],
   "source": [
    "# 절대 수정하지 말것!\n",
    "\n",
    "A = [[2, 3, 7],\n",
    "     [2, 1, 1]]\n",
    "\n",
    "B = [[1, 1, 5],\n",
    "     [4, 5, 1]]\n",
    "\n",
    "AB = [[2.0, 3.0, 1.4],\n",
    "      [0.5, 0.2, 1.0]]\n",
    "\n",
    "assert divideM(A, B) == AB"
   ]
  },
  {
   "attachments": {},
   "cell_type": "markdown",
   "id": "d7c15115",
   "metadata": {},
   "source": [
    "## 행렬 브로드캐스팅\n",
    "\n",
    "벡터 스칼라 연산에 사용된 브로드캐스팅이 \n",
    "행렬 스칼라 연산에 동일하게 적용될 수 있다."
   ]
  },
  {
   "attachments": {},
   "cell_type": "markdown",
   "id": "33bf0de6",
   "metadata": {},
   "source": [
    "**문제 1**"
   ]
  },
  {
   "attachments": {},
   "cell_type": "markdown",
   "id": "3ecedf59",
   "metadata": {},
   "source": [
    "행렬 스칼라 곱셈을 실행하는 `scalar_multiplyM()` 함수의 첫째 인자는 스칼라, 둘째 인자는 행렬일 때\n",
    "실행된다.\n",
    "이제 첫째 인자가 행렬, 둘째 인자가 스칼라 일 때도 작동하도록 함수를 수정하라.\n",
    "\n",
    "$$\n",
    "2\\ast \n",
    "\\begin{bmatrix}1&8&-3\\\\4&-2&5\\end{bmatrix}\n",
    "= \\begin{bmatrix}2\\ast 1&2\\ast 8&2\\ast -3\\\\2\\ast 4&2\\ast -2&2\\ast 5\\end{bmatrix}\n",
    "= \\begin{bmatrix}2&16&-6\\\\8&-4&10\\end{bmatrix}\n",
    "$$\n",
    "\n",
    "$$\n",
    "\\begin{bmatrix}1&8&-3\\\\4&-2&5\\end{bmatrix}\n",
    "\\ast 2\n",
    "= \\begin{bmatrix}1\\ast 2&8\\ast 2&-3\\ast 2\\\\4\\ast 2&-2\\ast 2&5\\ast 2\\end{bmatrix}\n",
    "= \\begin{bmatrix}2&16&-6\\\\8&-4&10\\end{bmatrix}\n",
    "$$"
   ]
  },
  {
   "cell_type": "code",
   "execution_count": null,
   "id": "70c589d9",
   "metadata": {},
   "outputs": [],
   "source": [
    "# pass를 적절한 코드로 대체하라.\n",
    "\n",
    "def scalar_multiplyM(x, y):\n",
    "    pass"
   ]
  },
  {
   "attachments": {},
   "cell_type": "markdown",
   "id": "5b686c2a",
   "metadata": {},
   "source": [
    "아래 코드를 실행할 때 오류가 발생하지 않아야 한다.\n",
    "\n",
    "힌트: `isinstance()` 함수 활용"
   ]
  },
  {
   "cell_type": "code",
   "execution_count": null,
   "id": "db1befc4",
   "metadata": {},
   "outputs": [],
   "source": [
    "# 절대 수정하지 말것!\n",
    "\n",
    "A = [[1, 8, -3],\n",
    "     [4, -2, 5]]\n",
    "\n",
    "A2 = [[2, 16, -6],\n",
    "      [8, -4, 10]]\n",
    "\n",
    "assert scalar_multiplyM(2, A) == A2\n",
    "assert scalar_multiplyM(A, 2) == A2"
   ]
  },
  {
   "attachments": {},
   "cell_type": "markdown",
   "id": "33bf0de6",
   "metadata": {},
   "source": [
    "**문제 2**"
   ]
  },
  {
   "attachments": {},
   "cell_type": "markdown",
   "id": "3ecedf59",
   "metadata": {},
   "source": [
    "행렬 스칼라 곱셈과 유사하게 작동하는 행렬 스칼라 덧셈 함수 `scalar_addM()`를 구현하라.\n",
    "\n",
    "$$\n",
    "2 + \n",
    "\\begin{bmatrix}1&8&-3\\\\4&-2&5\\end{bmatrix}\n",
    "= \\begin{bmatrix}2 + 1&2 + 8&2 + -3\\\\2 + 4&2 + -2&2 + 5\\end{bmatrix}\n",
    "= \\begin{bmatrix}3&10&-1\\\\6&0&7\\end{bmatrix}\n",
    "$$\n",
    "\n",
    "$$\n",
    "\\begin{bmatrix}1&8&-3\\\\4&-2&5\\end{bmatrix}\n",
    " + 2\n",
    "= \\begin{bmatrix}1 + 2&8 + 2&-3 + 2\\\\4 + 2&-2 + 2&5 + 2\\end{bmatrix}\n",
    "= \\begin{bmatrix}3&10&-1\\\\6&0&7\\end{bmatrix}\n",
    "$$"
   ]
  },
  {
   "cell_type": "code",
   "execution_count": null,
   "id": "70c589d9",
   "metadata": {},
   "outputs": [],
   "source": [
    "# pass를 적절한 코드로 대체하라.\n",
    "\n",
    "def scalar_addM(x, y):\n",
    "    pass"
   ]
  },
  {
   "attachments": {},
   "cell_type": "markdown",
   "id": "5b686c2a",
   "metadata": {},
   "source": [
    "아래 코드를 실행할 때 오류가 발생하지 않아야 한다.\n",
    "\n",
    "힌트: `isinstance()` 함수 활용"
   ]
  },
  {
   "cell_type": "code",
   "execution_count": null,
   "id": "de31529d",
   "metadata": {},
   "outputs": [],
   "source": [
    "# 절대 수정하지 말것!\n",
    "\n",
    "A = [[1, 8, -3],\n",
    "     [4, -2, 5]]\n",
    "\n",
    "A2 = [[3, 10, -1],\n",
    "      [6, 0, 7]]\n",
    "\n",
    "assert scalar_addM(2, A) == A2\n",
    "assert scalar_addM(A, 2) == A2"
   ]
  },
  {
   "attachments": {},
   "cell_type": "markdown",
   "id": "33bf0de6",
   "metadata": {},
   "source": [
    "**문제 3**"
   ]
  },
  {
   "attachments": {},
   "cell_type": "markdown",
   "id": "3ecedf59",
   "metadata": {},
   "source": [
    "행렬 스칼라 덧셈과 유사하게 작동하는 행렬 스칼라 뺄셈 함수 `scalar_substractM()`를 구현하라.\n",
    "\n",
    "$$\n",
    "2 - \n",
    "\\begin{bmatrix}1&8&-3\\\\4&-2&5\\end{bmatrix}\n",
    "= \\begin{bmatrix}2 - 1&2 - 8&2 - -3\\\\2 - 4&2 - -2&2 - 5\\end{bmatrix}\n",
    "= \\begin{bmatrix}1&-6&5\\\\-2&4&-3\\end{bmatrix}\n",
    "$$\n",
    "\n",
    "$$\n",
    "\\begin{bmatrix}1&8&-3\\\\4&-2&5\\end{bmatrix}\n",
    " - 2\n",
    "= \\begin{bmatrix}1 - 2&8 - 2&-3 - 2\\\\4 - 2&-2 - 2&5 - 2\\end{bmatrix}\n",
    "= \\begin{bmatrix}-1&6&-5\\\\2&-4&3\\end{bmatrix}\n",
    "$$"
   ]
  },
  {
   "cell_type": "code",
   "execution_count": null,
   "id": "70c589d9",
   "metadata": {},
   "outputs": [],
   "source": [
    "# pass를 적절한 코드로 대체하라.\n",
    "\n",
    "def scalar_subtractM(x, y):\n",
    "    pass"
   ]
  },
  {
   "attachments": {},
   "cell_type": "markdown",
   "id": "5b686c2a",
   "metadata": {},
   "source": [
    "아래 코드를 실행할 때 오류가 발생하지 않아야 한다.\n",
    "\n",
    "힌트: `isinstance()` 함수 활용"
   ]
  },
  {
   "cell_type": "code",
   "execution_count": null,
   "id": "de31529d",
   "metadata": {},
   "outputs": [],
   "source": [
    "# 절대 수정하지 말것!\n",
    "\n",
    "A = [[1, 8, -3],\n",
    "     [4, -2, 5]]\n",
    "\n",
    "Am1 = [[1, -6, 5],\n",
    "      [-2, 4, -3]]\n",
    "\n",
    "Am2 = [[-1, 6, -5],\n",
    "      [2, -4, 3]]\n",
    "\n",
    "assert scalar_subtractM(2, A) == Am1\n",
    "assert scalar_subtractM(A, 2) == Am2"
   ]
  },
  {
   "attachments": {},
   "cell_type": "markdown",
   "id": "33bf0de6",
   "metadata": {},
   "source": [
    "**문제 4**"
   ]
  },
  {
   "attachments": {},
   "cell_type": "markdown",
   "id": "3ecedf59",
   "metadata": {},
   "source": [
    "행렬 스칼라 곱셈과 유사하게 작동하는 행렬 스칼라 나눗셈 함수 `scalar_divideM()`를 구현하라.\n",
    "\n",
    "$$\n",
    "2 / \n",
    "\\begin{bmatrix}1&8&-3\\\\4&-2&5\\end{bmatrix}\n",
    "= \\begin{bmatrix}2 / 1&2 / 8&2 / -3\\\\2 / 4&2 / -2&2 / 5\\end{bmatrix}\n",
    "= \\begin{bmatrix}2.0&0.25&-0.66667\\\\0.5&-1.0&0.4\\end{bmatrix}\n",
    "$$\n",
    "\n",
    "$$\n",
    "\\begin{bmatrix}1&8&-3\\\\4&-2&5\\end{bmatrix}\n",
    " / 2\n",
    "= \\begin{bmatrix}1 / 2&8 / 2&-3 / 2\\\\4 / 2&-2 / 2&5 / 2\\end{bmatrix}\n",
    "= \\begin{bmatrix}0.5&4.0&-1.5\\\\2.0&-1.0&2.5\\end{bmatrix}\n",
    "$$"
   ]
  },
  {
   "cell_type": "code",
   "execution_count": null,
   "id": "70c589d9",
   "metadata": {},
   "outputs": [],
   "source": [
    "# pass를 적절한 코드로 대체하라.\n",
    "\n",
    "def scalar_divideM(x, y):\n",
    "    pass"
   ]
  },
  {
   "attachments": {},
   "cell_type": "markdown",
   "id": "5b686c2a",
   "metadata": {},
   "source": [
    "아래 코드를 실행할 때 오류가 발생하지 않아야 한다.\n",
    "\n",
    "힌트: `isinstance()` 함수 활용"
   ]
  },
  {
   "cell_type": "code",
   "execution_count": null,
   "id": "de31529d",
   "metadata": {},
   "outputs": [],
   "source": [
    "# 절대 수정하지 말것!\n",
    "\n",
    "A = [[1, 8, -3],\n",
    "     [4, -2, 5]]\n",
    "\n",
    "Am1 = [[2.0, 0.25, -2/3],\n",
    "      [0.5, -1.0, 0.4]]\n",
    "\n",
    "Am2 = [[0.5, 4.0, -1.5],\n",
    "      [2.0, -1.0, 2.5]]\n",
    "\n",
    "assert scalar_divideM(2, A) == Am1\n",
    "assert scalar_divideM(A, 2) == Am2"
   ]
  },
  {
   "attachments": {},
   "cell_type": "markdown",
   "id": "bc58bca8",
   "metadata": {},
   "source": [
    "## 행렬 활용"
   ]
  },
  {
   "attachments": {},
   "cell_type": "markdown",
   "id": "fd05c165",
   "metadata": {},
   "source": [
    "**문제 1**"
   ]
  },
  {
   "cell_type": "markdown",
   "id": "9ce76291",
   "metadata": {},
   "source": [
    "어떤 동호회의 사용자 아이디 $i$와 $j$가 친구사이라는 사실을 $(i, j)$로 표시한다고 하자.\n",
    "그리고 열 명의 사용자 사이의 친구관계가 다음과 같다고 가정하자. "
   ]
  },
  {
   "cell_type": "code",
   "execution_count": 8,
   "id": "3a4b8673",
   "metadata": {},
   "outputs": [],
   "source": [
    "friendships = [(0, 1), (0, 2), (1, 2), (1, 3), (2, 3), (3, 4),\n",
    "               (4, 5), (5, 6), (5, 7), (6, 8), (7, 8), (8, 9)]"
   ]
  },
  {
   "cell_type": "markdown",
   "id": "5dcf464c",
   "metadata": {},
   "source": [
    "그런데 이렇게 하면 사용자들 사이의 친구관계를 쉽게 파악하기 어렵다. \n",
    "반면에 아래와 같이 $10\\times 10$ 행렬로 표시하면 다르게 보인다."
   ]
  },
  {
   "cell_type": "markdown",
   "id": "ee17882d",
   "metadata": {},
   "source": [
    "$$\n",
    "F =\n",
    "\\begin{bmatrix}\n",
    "0&1&1&0&0&0&0&0&0&0\\\\\n",
    "1&0&1&1&0&0&0&0&0&0\\\\\n",
    "1&1&0&1&0&0&0&0&0&0\\\\\n",
    "0&1&1&0&1&0&0&0&0&0\\\\\n",
    "0&0&0&1&0&1&0&0&0&0\\\\\n",
    "0&0&0&0&1&0&1&1&0&0\\\\\n",
    "0&0&0&0&0&1&0&0&1&0\\\\\n",
    "0&0&0&0&0&1&0&0&1&0\\\\\n",
    "0&0&0&0&0&0&1&1&0&1\\\\\n",
    "0&0&0&0&0&0&0&0&1&0\n",
    "\\end{bmatrix}\n",
    "$$"
   ]
  },
  {
   "cell_type": "markdown",
   "id": "992502be",
   "metadata": {},
   "source": [
    "즉, 사용자 $i$와 사용자 $j$ 사이의 친구관계 성립여부는 \n",
    "행렬 $F$의 $(i,j)$ 번째 항목이 1이면 친구관계이고, 0이면 아니라는 것을 바로 확인할 수 있다. \n",
    "즉, $F_{ij} = 1$인가를 확인만 하면 된다.\n",
    "\n",
    "위 행렬 $F$를 구현하는 (10, 10) 모양의 행렬를 가리키는 변수 `friend_matrix` 를 선언하라."
   ]
  },
  {
   "cell_type": "code",
   "execution_count": 9,
   "id": "be93515f",
   "metadata": {},
   "outputs": [],
   "source": [
    "# None 을 적절한 표현식으로 대체하라.\n",
    "\n",
    "friend_matrix = None"
   ]
  },
  {
   "cell_type": "markdown",
   "id": "bf860aa1",
   "metadata": {},
   "source": [
    "아이디 0번은 아이디 2번과 친구관계이다."
   ]
  },
  {
   "cell_type": "code",
   "execution_count": 10,
   "id": "b6266cf2",
   "metadata": {},
   "outputs": [],
   "source": [
    "# 아래 주석을 해제하고 실행하라.\n",
    "\n",
    "# assert friend_matrix[0][2] == 1"
   ]
  },
  {
   "cell_type": "markdown",
   "id": "fe930a05",
   "metadata": {},
   "source": [
    "아이디 8번은 아이디 0번과 친구관계가 아니다."
   ]
  },
  {
   "cell_type": "code",
   "execution_count": 11,
   "id": "032b6875",
   "metadata": {},
   "outputs": [],
   "source": [
    "# 아래 주석을 해제하고 실행하라.\n",
    "\n",
    "# assert friend_matrix[8][0] == 0"
   ]
  },
  {
   "cell_type": "markdown",
   "id": "7263e2ed",
   "metadata": {},
   "source": [
    "아이디 5번과 친구사이인 아이디는 다음과 같다."
   ]
  },
  {
   "cell_type": "code",
   "execution_count": 12,
   "id": "18c155cc",
   "metadata": {},
   "outputs": [],
   "source": [
    "# 아래 주석을 해제하고 실행하라.\n",
    "\n",
    "# friends_of_five = [ i for i, is_friend in enumerate(friend_matrix[5]) if is_friend ]\n",
    "# friends_of_five"
   ]
  }
 ],
 "metadata": {
  "kernelspec": {
   "display_name": "base",
   "language": "python",
   "name": "python3"
  },
  "language_info": {
   "codemirror_mode": {
    "name": "ipython",
    "version": 3
   },
   "file_extension": ".py",
   "mimetype": "text/x-python",
   "name": "python",
   "nbconvert_exporter": "python",
   "pygments_lexer": "ipython3",
   "version": "3.9.12"
  },
  "vscode": {
   "interpreter": {
    "hash": "ad0f3c8a064f687cbf898a0868fd45ba1c7e928ac8a0404f7c241d812ddc1e76"
   }
  }
 },
 "nbformat": 4,
 "nbformat_minor": 5
}

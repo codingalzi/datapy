{
 "cells": [
  {
   "cell_type": "markdown",
   "id": "63ac596b",
   "metadata": {},
   "source": [
    "# (실습) 선형대수 기초"
   ]
  },
  {
   "cell_type": "markdown",
   "id": "d7c15115",
   "metadata": {},
   "source": [
    "## 벡터 브로드캐스팅\n",
    "\n",
    "벡터 스칼라 곱셈 $2 \\ast [1, 2, 3]$은 $[2, 2, 2] \\ast [1, 2, 3]$처럼 작동한다.\n",
    "이렇게 연산에 사용된 하나의 인자를 다른 인자의 형태에 맞춘 후 연산을 \n",
    "실행하는 것을 **브로드캐스팅**<font size='2'>broadcasting</font>이라 한다. \n",
    "보다 자세한 내용은 [고급 넘파이](https://codingalzi.github.io/datapy/numpy_4.html)에서 확인할 수 있다."
   ]
  },
  {
   "cell_type": "markdown",
   "id": "33bf0de6",
   "metadata": {},
   "source": [
    "**문제 1**"
   ]
  },
  {
   "cell_type": "markdown",
   "id": "3ecedf59",
   "metadata": {},
   "source": [
    "벡터 스칼라 곱셈을 실행하는 `scalar_multiplyV()` 함수의 첫째 인자는 스칼라, 둘째 인자는 벡터일 때\n",
    "실행된다.\n",
    "이제 첫째 인자가 벡터, 둘째 인자가 스칼라 일 때도 작동하도록 함수를 수정하라.\n",
    "\n",
    "$$\n",
    "c \\ast [u_1, \\cdots, u_n] = [c \\ast u_1, \\cdots, c \\ast u_n]\n",
    "$$\n",
    "\n",
    "$$\n",
    "[u_1, \\cdots, u_n] \\ast c = [u_1 \\ast c, \\cdots, u_n \\ast c]\n",
    "$$"
   ]
  },
  {
   "cell_type": "markdown",
   "id": "6950c18a",
   "metadata": {},
   "source": [
    "답"
   ]
  },
  {
   "cell_type": "markdown",
   "id": "daf2b60a",
   "metadata": {},
   "source": [
    "첫째 인자의 자료형이 `int` 또는 `float` 인지 여부 정보를 활용한다."
   ]
  },
  {
   "cell_type": "code",
   "execution_count": 1,
   "id": "a70ba3f7",
   "metadata": {},
   "outputs": [],
   "source": [
    "def scalar_multiplyV(x, y):\n",
    "    if isinstance(x, int) or isinstance(x, float):\n",
    "        return [x * y_i for y_i in y]\n",
    "    else:\n",
    "        return [x_i * y for x_i in x]    "
   ]
  },
  {
   "cell_type": "markdown",
   "id": "5b686c2a",
   "metadata": {},
   "source": [
    "아래 코드를 실행할 때 오류가 발생하지 않아야 한다.\n",
    "\n",
    "힌트: `isinstance()` 함수 활용"
   ]
  },
  {
   "cell_type": "code",
   "execution_count": 2,
   "id": "db1befc4",
   "metadata": {},
   "outputs": [],
   "source": [
    "# 절대 수정하지 말것!\n",
    "assert scalar_multiplyV(2, [1, 2, 3]) == [2, 4, 6]\n",
    "assert scalar_multiplyV([1, 2, 3], 2) == [2, 4, 6]"
   ]
  },
  {
   "cell_type": "markdown",
   "id": "dc801c64",
   "metadata": {},
   "source": [
    "**문제 2**"
   ]
  },
  {
   "cell_type": "markdown",
   "id": "2d5f2ff5",
   "metadata": {},
   "source": [
    "벡터 스칼라 곱셈과 유사하게 작동하는 벡터 스칼라 덧셈 함수 `scalar_addV()`을 구현하라.\n",
    "\n",
    "$$\n",
    "c + [u_1, \\cdots, u_n] = [c + u_1, \\cdots, c + u_n]\n",
    "$$\n",
    "\n",
    "$$\n",
    "[u_1, \\cdots, u_n] + c = [u_1 + c, \\cdots, u_n + c]\n",
    "$$"
   ]
  },
  {
   "cell_type": "markdown",
   "id": "14f08490",
   "metadata": {},
   "source": [
    "답"
   ]
  },
  {
   "cell_type": "markdown",
   "id": "159a5548",
   "metadata": {},
   "source": [
    "`scalar_multiplyV()` 함수와 거의 동일하며, 곱셈 연산자를 나눗셈 연산자로 대체할 뿐이다."
   ]
  },
  {
   "cell_type": "code",
   "execution_count": 3,
   "id": "070b1a23",
   "metadata": {},
   "outputs": [],
   "source": [
    "def scalar_addV(x, y):\n",
    "    if isinstance(x, int) or isinstance(x, float):\n",
    "        return [x + y_i for y_i in y]\n",
    "    else:\n",
    "        return [x_i + y for x_i in x]    "
   ]
  },
  {
   "cell_type": "markdown",
   "id": "6db87980",
   "metadata": {},
   "source": [
    "아래 코드를 실행할 때 오류가 발생하지 않아야 한다.\n",
    "\n",
    "힌트: `isinstance()` 함수 활용"
   ]
  },
  {
   "cell_type": "code",
   "execution_count": 4,
   "id": "01feafc0",
   "metadata": {},
   "outputs": [],
   "source": [
    "# 절대 수정하지 말것!\n",
    "assert scalar_addV(2, [1, 2, 3]) == [3, 4, 5]\n",
    "assert scalar_addV([1, 2, 3], 2) == [3, 4, 5]"
   ]
  },
  {
   "cell_type": "markdown",
   "id": "6e4f0257",
   "metadata": {},
   "source": [
    "**문제 3**"
   ]
  },
  {
   "cell_type": "markdown",
   "id": "1063b514",
   "metadata": {},
   "source": [
    "벡터 스칼라 덧셈과 유사하게 작동하는 벡터 스칼라 뺄셈 함수 `scalar_subtractV()`을 구현하라.\n",
    "\n",
    "$$\n",
    "c - [u_1, \\cdots, u_n] = [c - u_1, \\cdots, c - u_n]\n",
    "$$\n",
    "\n",
    "$$\n",
    "[u_1, \\cdots, u_n] - c = [u_1 - c, \\cdots, u_n - c]\n",
    "$$"
   ]
  },
  {
   "cell_type": "markdown",
   "id": "2dad29aa",
   "metadata": {},
   "source": [
    "답"
   ]
  },
  {
   "cell_type": "markdown",
   "id": "a28d66ac",
   "metadata": {},
   "source": [
    "`scalar_multiplyV()` 함수와 거의 동일하며, 곱셈 연산자를 뺄셈 연산자로 대체할 뿐이다."
   ]
  },
  {
   "cell_type": "code",
   "execution_count": 5,
   "id": "e9733d0a",
   "metadata": {},
   "outputs": [],
   "source": [
    "def scalar_subtractV(x, y):\n",
    "    if isinstance(x, int) or isinstance(x, float):\n",
    "        return [x - y_i for y_i in y]\n",
    "    else:\n",
    "        return [x_i - y for x_i in x]    "
   ]
  },
  {
   "cell_type": "markdown",
   "id": "bf6db29d",
   "metadata": {},
   "source": [
    "아래 코드를 실행할 때 오류가 발생하지 않아야 한다.\n",
    "\n",
    "힌트: `isinstance()` 함수 활용"
   ]
  },
  {
   "cell_type": "code",
   "execution_count": 6,
   "id": "5553d650",
   "metadata": {},
   "outputs": [],
   "source": [
    "# 절대 수정하지 말것!\n",
    "assert scalar_subtractV(2, [1, 2, 3]) == [1, 0, -1]\n",
    "assert scalar_subtractV([1, 2, 3], 2) == [-1, 0, 1]"
   ]
  },
  {
   "cell_type": "markdown",
   "id": "af7c7924",
   "metadata": {},
   "source": [
    "**문제 4**"
   ]
  },
  {
   "cell_type": "markdown",
   "id": "f5524f4d",
   "metadata": {},
   "source": [
    "벡터 스칼라 곱셈과 유사하게 작동하는 벡터 스칼라 나눗셈 함수 `scalar_divideV()`을 구현하라.\n",
    "\n",
    "$$\n",
    "c / [u_1, \\cdots, u_n] = [c / u_1, \\cdots, c / u_n]\n",
    "$$\n",
    "\n",
    "$$\n",
    "[u_1, \\cdots, u_n] / c = [u_1 / c, \\cdots, u_n / c]\n",
    "$$"
   ]
  },
  {
   "cell_type": "markdown",
   "id": "44852f93",
   "metadata": {},
   "source": [
    "답"
   ]
  },
  {
   "cell_type": "markdown",
   "id": "0ce4e81c",
   "metadata": {},
   "source": [
    "`scalar_multiplyV()` 함수와 거의 동일하며, 곱셈 연산자를 나눗셈 연산자로 대체할 뿐이다."
   ]
  },
  {
   "cell_type": "code",
   "execution_count": 7,
   "id": "da3cc194",
   "metadata": {},
   "outputs": [],
   "source": [
    "def scalar_divideV(x, y):\n",
    "    if isinstance(x, int) or isinstance(x, float):\n",
    "        return [x / y_i for y_i in y]\n",
    "    else:\n",
    "        return [x_i / y for x_i in x]    "
   ]
  },
  {
   "cell_type": "markdown",
   "id": "9a40713d",
   "metadata": {},
   "source": [
    "아래 코드를 실행할 때 오류가 발생하지 않아야 한다.\n",
    "\n",
    "힌트: `isinstance()` 함수 활용"
   ]
  },
  {
   "cell_type": "code",
   "execution_count": 8,
   "id": "8d1fc1c5",
   "metadata": {},
   "outputs": [],
   "source": [
    "# 절대 수정하지 말것!\n",
    "assert scalar_divideV(2, [1, 2, 4]) == [2.0, 1.0, 0.5]\n",
    "assert scalar_divideV([1, 2, 4], 2) == [0.5, 1.0, 2.0]"
   ]
  },
  {
   "cell_type": "markdown",
   "id": "005e7a40",
   "metadata": {},
   "source": [
    "## 행렬 항목별 연산"
   ]
  },
  {
   "cell_type": "markdown",
   "id": "4f5bf49f",
   "metadata": {},
   "source": [
    "**문제 1**"
   ]
  },
  {
   "cell_type": "markdown",
   "id": "97e77157",
   "metadata": {},
   "source": [
    "행렬 항목별 덧셈과 유사하게 작동하는 행렬 항목별 곱셈 함수 `multiplyM()`을 구현하라.\n",
    "\n",
    "$$\n",
    "\\begin{align*}\n",
    "\\begin{bmatrix}2&3&7\\\\2&1&1\\end{bmatrix} \n",
    "\\ast \\begin{bmatrix}1&1&5\\\\4&5&1\\end{bmatrix}\n",
    "&= \\begin{bmatrix}2\\ast1&3\\ast1&7\\ast5\\\\2\\ast4&1\\ast5&1\\ast1\\end{bmatrix} \\\\[.5ex]\n",
    "&= \\begin{bmatrix}2&3&35\\\\8&5&1\\end{bmatrix}\n",
    "\\end{align*}\n",
    "$$"
   ]
  },
  {
   "cell_type": "markdown",
   "id": "7852b2ae",
   "metadata": {},
   "source": [
    "답"
   ]
  },
  {
   "cell_type": "markdown",
   "id": "4dbd7146",
   "metadata": {},
   "source": [
    "먼저 강의노트에서 정의된 아래 두 보조 함수가 필요하다."
   ]
  },
  {
   "cell_type": "code",
   "execution_count": 9,
   "id": "5ce99d72",
   "metadata": {},
   "outputs": [],
   "source": [
    "def shape(M):\n",
    "    \"\"\"\n",
    "    M: 행렬\n",
    "    M[i]의 길이가 일정하다고 가정\n",
    "    \"\"\"\n",
    "\n",
    "    num_rows = len(M)    # 행의 수\n",
    "    num_cols = len(M[0]) # 열의 수\n",
    "    return num_rows, num_cols\n",
    "\n",
    "def make_matrix(n, m, entry_fn):\n",
    "    \"\"\"\n",
    "    n: 행의 수\n",
    "    m: 열의 수\n",
    "    entry_fn: (i, j)에 대해 i행, j열에 위치한 항목 계산\n",
    "    \"\"\"\n",
    "    \n",
    "    return [ [entry_fn(i, j) for j in range(m)] for i in range(n) ]   "
   ]
  },
  {
   "cell_type": "markdown",
   "id": "29135942",
   "metadata": {},
   "source": [
    "`addyM()` 함수와 거의 동일하며, 덧셈 연산자를 곱셈 연산자로 대체할 뿐이다."
   ]
  },
  {
   "cell_type": "code",
   "execution_count": 10,
   "id": "024338be",
   "metadata": {},
   "outputs": [],
   "source": [
    "def multiplyM(A, B):\n",
    "    assert shape(A) == shape(B)\n",
    "    \n",
    "    m, n = shape(A)\n",
    "    \n",
    "    return make_matrix(m, n, lambda i, j: A[i][j] * B[i][j])"
   ]
  },
  {
   "cell_type": "markdown",
   "id": "a632b48d",
   "metadata": {},
   "source": [
    "아래 코드를 실행할 때 오류가 발생하지 않아야 한다."
   ]
  },
  {
   "cell_type": "code",
   "execution_count": 11,
   "id": "09213ae7",
   "metadata": {},
   "outputs": [],
   "source": [
    "# 절대 수정하지 말것!\n",
    "\n",
    "A = [[2, 3, 7],\n",
    "     [2, 1, 1]]\n",
    "\n",
    "B = [[1, 1, 5],\n",
    "     [4, 5, 1]]\n",
    "\n",
    "AB = [[2, 3, 35],\n",
    "      [8, 5, 1]]\n",
    "\n",
    "assert multiplyM(A, B) == AB"
   ]
  },
  {
   "cell_type": "markdown",
   "id": "5da94684",
   "metadata": {},
   "source": [
    "**문제 2**"
   ]
  },
  {
   "cell_type": "markdown",
   "id": "d2c58f46",
   "metadata": {},
   "source": [
    "행렬 항목별 곱셈과 유사하게 작동하는 행렬 항목별 나눗셈 함수 `divideM()`을 구현하라.\n",
    "\n",
    "$$\n",
    "\\begin{align*}\n",
    "\\begin{bmatrix}2&3&7\\\\2&1&1\\end{bmatrix} \n",
    "/ \\begin{bmatrix}1&1&5\\\\4&5&1\\end{bmatrix}\n",
    "&= \\begin{bmatrix}2/1&3/1&7/5\\\\2/4&1/5&1/1\\end{bmatrix} \\\\[.5ex]\n",
    "&= \\begin{bmatrix}2.0&3.0&1.4\\\\0.5&0.2&1.0\\end{bmatrix}\n",
    "\\end{align*}\n",
    "$$"
   ]
  },
  {
   "cell_type": "markdown",
   "id": "4f499f0c",
   "metadata": {},
   "source": [
    "답"
   ]
  },
  {
   "cell_type": "markdown",
   "id": "6e7ae8fb",
   "metadata": {},
   "source": [
    "`addyM()` 함수와 거의 동일하며, 덧셈 연산자를 나눗셈 연산자로 대체할 뿐이다."
   ]
  },
  {
   "cell_type": "code",
   "execution_count": 12,
   "id": "6d88eca9",
   "metadata": {},
   "outputs": [],
   "source": [
    "def divideM(A, B):\n",
    "    assert shape(A) == shape(B)\n",
    "    \n",
    "    m, n = shape(A)\n",
    "    \n",
    "    return make_matrix(m, n, lambda i, j: A[i][j] / B[i][j])"
   ]
  },
  {
   "cell_type": "markdown",
   "id": "ec1a200e",
   "metadata": {},
   "source": [
    "아래 코드를 실행할 때 오류가 발생하지 않아야 한다."
   ]
  },
  {
   "cell_type": "code",
   "execution_count": 13,
   "id": "94822bd3",
   "metadata": {},
   "outputs": [],
   "source": [
    "# 절대 수정하지 말것!\n",
    "\n",
    "A = [[2, 3, 7],\n",
    "     [2, 1, 1]]\n",
    "\n",
    "B = [[1, 1, 5],\n",
    "     [4, 5, 1]]\n",
    "\n",
    "AB = [[2.0, 3.0, 1.4],\n",
    "      [0.5, 0.2, 1.0]]\n",
    "\n",
    "assert divideM(A, B) == AB"
   ]
  },
  {
   "cell_type": "markdown",
   "id": "f4bb5d43",
   "metadata": {},
   "source": [
    "## 행렬 브로드캐스팅\n",
    "\n",
    "벡터 스칼라 연산에 사용된 브로드캐스팅이 \n",
    "행렬 스칼라 연산에 동일하게 적용될 수 있다."
   ]
  },
  {
   "cell_type": "markdown",
   "id": "250bf97f",
   "metadata": {},
   "source": [
    "**문제 1**"
   ]
  },
  {
   "cell_type": "markdown",
   "id": "3ff83838",
   "metadata": {},
   "source": [
    "행렬 스칼라 곱셈을 실행하는 `scalar_multiplyM()` 함수의 첫째 인자는 스칼라, 둘째 인자는 행렬일 때\n",
    "실행된다.\n",
    "이제 첫째 인자가 행렬, 둘째 인자가 스칼라 일 때도 작동하도록 함수를 수정하라.\n",
    "\n",
    "$$\n",
    "2\\ast \n",
    "\\begin{bmatrix}1&8&-3\\\\4&-2&5\\end{bmatrix}\n",
    "= \\begin{bmatrix}2\\ast 1&2\\ast 8&2\\ast -3\\\\2\\ast 4&2\\ast -2&2\\ast 5\\end{bmatrix}\n",
    "= \\begin{bmatrix}2&16&-6\\\\8&-4&10\\end{bmatrix}\n",
    "$$\n",
    "\n",
    "$$\n",
    "\\begin{bmatrix}1&8&-3\\\\4&-2&5\\end{bmatrix}\n",
    "\\ast 2\n",
    "= \\begin{bmatrix}1\\ast 2&8\\ast 2&-3\\ast 2\\\\4\\ast 2&-2\\ast 2&5\\ast 2\\end{bmatrix}\n",
    "= \\begin{bmatrix}2&16&-6\\\\8&-4&10\\end{bmatrix}\n",
    "$$"
   ]
  },
  {
   "cell_type": "markdown",
   "id": "dd1c2617",
   "metadata": {},
   "source": [
    "답"
   ]
  },
  {
   "cell_type": "markdown",
   "id": "71599102",
   "metadata": {},
   "source": [
    "첫째 인자의 자료형이 `int` 또는 `float` 인지 여부 정보를 활용한다."
   ]
  },
  {
   "cell_type": "code",
   "execution_count": 14,
   "id": "52401217",
   "metadata": {},
   "outputs": [],
   "source": [
    "def scalar_multiplyM(x, y):\n",
    "    if isinstance(x, int) or isinstance(x, float):\n",
    "        return [[x * row_i for row_i in row] for row in y]\n",
    "    else:\n",
    "        return [[row_i * y for row_i in row] for row in x]"
   ]
  },
  {
   "cell_type": "markdown",
   "id": "8dddac17",
   "metadata": {},
   "source": [
    "아래 코드를 실행할 때 오류가 발생하지 않아야 한다.\n",
    "\n",
    "힌트: `isinstance()` 함수 활용"
   ]
  },
  {
   "cell_type": "code",
   "execution_count": 15,
   "id": "47973474",
   "metadata": {},
   "outputs": [],
   "source": [
    "# 절대 수정하지 말것!\n",
    "\n",
    "A = [[1, 8, -3],\n",
    "     [4, -2, 5]]\n",
    "\n",
    "A2 = [[2, 16, -6],\n",
    "      [8, -4, 10]]\n",
    "\n",
    "assert scalar_multiplyM(2, A) == A2\n",
    "assert scalar_multiplyM(A, 2) == A2"
   ]
  },
  {
   "cell_type": "markdown",
   "id": "52ec08f5",
   "metadata": {},
   "source": [
    "**문제 2**"
   ]
  },
  {
   "cell_type": "markdown",
   "id": "8e8fa944",
   "metadata": {},
   "source": [
    "행렬 스칼라 곱셈과 유사하게 작동하는 행렬 스칼라 덧셈 함수 `scalar_addM()`를 구현하라.\n",
    "\n",
    "$$\n",
    "2 + \n",
    "\\begin{bmatrix}1&8&-3\\\\4&-2&5\\end{bmatrix}\n",
    "= \\begin{bmatrix}2 + 1&2 + 8&2 + -3\\\\2 + 4&2 + -2&2 + 5\\end{bmatrix}\n",
    "= \\begin{bmatrix}3&10&-1\\\\6&0&7\\end{bmatrix}\n",
    "$$\n",
    "\n",
    "$$\n",
    "\\begin{bmatrix}1&8&-3\\\\4&-2&5\\end{bmatrix}\n",
    " + 2\n",
    "= \\begin{bmatrix}1 + 2&8 + 2&-3 + 2\\\\4 + 2&-2 + 2&5 + 2\\end{bmatrix}\n",
    "= \\begin{bmatrix}3&10&-1\\\\6&0&7\\end{bmatrix}\n",
    "$$"
   ]
  },
  {
   "cell_type": "markdown",
   "id": "929d5f90",
   "metadata": {},
   "source": [
    "답"
   ]
  },
  {
   "cell_type": "markdown",
   "id": "9ae989a2",
   "metadata": {},
   "source": [
    "`scalar_multiplyM()` 함수와 거의 동일하며, 곱셈 연산자를 덧셈 연산자로 대체할 뿐이다."
   ]
  },
  {
   "cell_type": "code",
   "execution_count": 16,
   "id": "c8923498",
   "metadata": {},
   "outputs": [],
   "source": [
    "def scalar_addM(x, y):\n",
    "    if isinstance(x, int) or isinstance(x, float):\n",
    "        return [[x + row_i for row_i in row] for row in y]\n",
    "    else:\n",
    "        return [[row_i + y for row_i in row] for row in x]"
   ]
  },
  {
   "cell_type": "markdown",
   "id": "28c83d6a",
   "metadata": {},
   "source": [
    "아래 코드를 실행할 때 오류가 발생하지 않아야 한다.\n",
    "\n",
    "힌트: `isinstance()` 함수 활용"
   ]
  },
  {
   "cell_type": "code",
   "execution_count": 17,
   "id": "de31529d",
   "metadata": {},
   "outputs": [],
   "source": [
    "# 절대 수정하지 말것!\n",
    "\n",
    "A = [[1, 8, -3],\n",
    "     [4, -2, 5]]\n",
    "\n",
    "A2 = [[3, 10, -1],\n",
    "      [6, 0, 7]]\n",
    "\n",
    "assert scalar_addM(2, A) == A2\n",
    "assert scalar_addM(A, 2) == A2"
   ]
  },
  {
   "cell_type": "markdown",
   "id": "0e0efa76",
   "metadata": {},
   "source": [
    "**문제 3**"
   ]
  },
  {
   "cell_type": "markdown",
   "id": "959bc59c",
   "metadata": {},
   "source": [
    "행렬 스칼라 덧셈과 유사하게 작동하는 행렬 스칼라 뺄셈 함수 `scalar_substractM()`를 구현하라.\n",
    "\n",
    "$$\n",
    "2 - \n",
    "\\begin{bmatrix}1&8&-3\\\\4&-2&5\\end{bmatrix}\n",
    "= \\begin{bmatrix}2 - 1&2 - 8&2 - -3\\\\2 - 4&2 - -2&2 - 5\\end{bmatrix}\n",
    "= \\begin{bmatrix}1&-6&5\\\\-2&4&-3\\end{bmatrix}\n",
    "$$\n",
    "\n",
    "$$\n",
    "\\begin{bmatrix}1&8&-3\\\\4&-2&5\\end{bmatrix}\n",
    " - 2\n",
    "= \\begin{bmatrix}1 - 2&8 - 2&-3 - 2\\\\4 - 2&-2 - 2&5 - 2\\end{bmatrix}\n",
    "= \\begin{bmatrix}-1&6&-5\\\\2&-4&3\\end{bmatrix}\n",
    "$$"
   ]
  },
  {
   "cell_type": "markdown",
   "id": "39c7a186",
   "metadata": {},
   "source": [
    "답"
   ]
  },
  {
   "cell_type": "markdown",
   "id": "7f2e797e",
   "metadata": {},
   "source": [
    "`scalar_multiplyM()` 함수와 거의 동일하며, 곱셈 연산자를 덧셈 연산자로 대체할 뿐이다."
   ]
  },
  {
   "cell_type": "code",
   "execution_count": 18,
   "id": "6d564f09",
   "metadata": {},
   "outputs": [],
   "source": [
    "def scalar_subtractM(x, y):\n",
    "    if isinstance(x, int) or isinstance(x, float):\n",
    "        return [[x - row_i for row_i in row] for row in y]\n",
    "    else:\n",
    "        return [[row_i - y for row_i in row] for row in x]"
   ]
  },
  {
   "cell_type": "markdown",
   "id": "445250c7",
   "metadata": {},
   "source": [
    "아래 코드를 실행할 때 오류가 발생하지 않아야 한다.\n",
    "\n",
    "힌트: `isinstance()` 함수 활용"
   ]
  },
  {
   "cell_type": "code",
   "execution_count": 19,
   "id": "bd790939",
   "metadata": {},
   "outputs": [],
   "source": [
    "# 절대 수정하지 말것!\n",
    "\n",
    "A = [[1, 8, -3],\n",
    "     [4, -2, 5]]\n",
    "\n",
    "Am1 = [[1, -6, 5],\n",
    "      [-2, 4, -3]]\n",
    "\n",
    "Am2 = [[-1, 6, -5],\n",
    "      [2, -4, 3]]\n",
    "\n",
    "assert scalar_subtractM(2, A) == Am1\n",
    "assert scalar_subtractM(A, 2) == Am2"
   ]
  },
  {
   "cell_type": "markdown",
   "id": "e323091b",
   "metadata": {},
   "source": [
    "**문제 4**"
   ]
  },
  {
   "cell_type": "markdown",
   "id": "f43337ab",
   "metadata": {},
   "source": [
    "행렬 스칼라 곱셈과 유사하게 작동하는 행렬 스칼라 나눗셈 함수 `scalar_divideM()`를 구현하라.\n",
    "\n",
    "$$\n",
    "2 / \n",
    "\\begin{bmatrix}1&8&-3\\\\4&-2&5\\end{bmatrix}\n",
    "= \\begin{bmatrix}2 / 1&2 / 8&2 / -3\\\\2 / 4&2 / -2&2 / 5\\end{bmatrix}\n",
    "= \\begin{bmatrix}2.0&0.25&-0.66667\\\\0.5&-1.0&0.4\\end{bmatrix}\n",
    "$$\n",
    "\n",
    "$$\n",
    "\\begin{bmatrix}1&8&-3\\\\4&-2&5\\end{bmatrix}\n",
    " / 2\n",
    "= \\begin{bmatrix}1 / 2&8 / 2&-3 / 2\\\\4 / 2&-2 / 2&5 / 2\\end{bmatrix}\n",
    "= \\begin{bmatrix}0.5&4.0&-1.5\\\\2.0&-1.0&2.5\\end{bmatrix}\n",
    "$$"
   ]
  },
  {
   "cell_type": "markdown",
   "id": "63ccc2ea",
   "metadata": {},
   "source": [
    "답"
   ]
  },
  {
   "cell_type": "markdown",
   "id": "05410fcf",
   "metadata": {},
   "source": [
    "`scalar_multiplyM()` 함수와 거의 동일하며, 곱셈 연산자를 나눗셈 연산자로 대체할 뿐이다."
   ]
  },
  {
   "cell_type": "code",
   "execution_count": 20,
   "id": "84cedf0a",
   "metadata": {},
   "outputs": [],
   "source": [
    "def scalar_divideM(x, y):\n",
    "    if isinstance(x, int) or isinstance(x, float):\n",
    "        return [[x / row_i for row_i in row] for row in y]\n",
    "    else:\n",
    "        return [[row_i / y for row_i in row] for row in x]"
   ]
  },
  {
   "cell_type": "markdown",
   "id": "56619a8e",
   "metadata": {},
   "source": [
    "아래 코드를 실행할 때 오류가 발생하지 않아야 한다.\n",
    "\n",
    "힌트: `isinstance()` 함수 활용"
   ]
  },
  {
   "cell_type": "code",
   "execution_count": 21,
   "id": "3fa8460d",
   "metadata": {},
   "outputs": [],
   "source": [
    "# 절대 수정하지 말것!\n",
    "\n",
    "A = [[1, 8, -3],\n",
    "     [4, -2, 5]]\n",
    "\n",
    "Am1 = [[2.0, 0.25, -2/3],\n",
    "      [0.5, -1.0, 0.4]]\n",
    "\n",
    "Am2 = [[0.5, 4.0, -1.5],\n",
    "      [2.0, -1.0, 2.5]]\n",
    "\n",
    "assert scalar_divideM(2, A) == Am1\n",
    "assert scalar_divideM(A, 2) == Am2"
   ]
  },
  {
   "cell_type": "markdown",
   "id": "bc58bca8",
   "metadata": {},
   "source": [
    "## 행렬 활용"
   ]
  },
  {
   "cell_type": "markdown",
   "id": "fd05c165",
   "metadata": {},
   "source": [
    "**문제 1**"
   ]
  },
  {
   "cell_type": "markdown",
   "id": "9ce76291",
   "metadata": {},
   "source": [
    "어떤 동호회의 사용자 아이디 `i`와 `j`가 친구사이라는 사실을 `(i, j)`로 표시한다고 하자.\n",
    "그리고 열 명의 사용자 사이의 친구관계가 다음과 같다고 가정하자. "
   ]
  },
  {
   "cell_type": "code",
   "execution_count": 22,
   "id": "3a4b8673",
   "metadata": {},
   "outputs": [],
   "source": [
    "friendships = [(0, 1), (0, 2), (1, 2), (1, 3), (2, 3), (3, 4),\n",
    "               (4, 5), (5, 6), (5, 7), (6, 8), (7, 8), (8, 9)]"
   ]
  },
  {
   "cell_type": "markdown",
   "id": "5dcf464c",
   "metadata": {},
   "source": [
    "그런데 이렇게 하면 사용자들 사이의 친구관계를 쉽게 파악하기 어렵다. \n",
    "반면에 아래와 같이 $10\\times 10$ 행렬로 표시하면 다르게 보인다."
   ]
  },
  {
   "cell_type": "markdown",
   "id": "ee17882d",
   "metadata": {},
   "source": [
    "$$\n",
    "F =\n",
    "\\begin{bmatrix}\n",
    "0&1&1&0&0&0&0&0&0&0\\\\\n",
    "1&0&1&1&0&0&0&0&0&0\\\\\n",
    "1&1&0&1&0&0&0&0&0&0\\\\\n",
    "0&1&1&0&1&0&0&0&0&0\\\\\n",
    "0&0&0&1&0&1&0&0&0&0\\\\\n",
    "0&0&0&0&1&0&1&1&0&0\\\\\n",
    "0&0&0&0&0&1&0&0&1&0\\\\\n",
    "0&0&0&0&0&1&0&0&1&0\\\\\n",
    "0&0&0&0&0&0&1&1&0&1\\\\\n",
    "0&0&0&0&0&0&0&0&1&0\n",
    "\\end{bmatrix}\n",
    "$$"
   ]
  },
  {
   "cell_type": "markdown",
   "id": "992502be",
   "metadata": {},
   "source": [
    "즉, 사용자 `i`와 사용자 `j` 사이의 친구관계 성립여부는 \n",
    "행렬 `F`의 `(i,j)` 번째 항목이 1이면 친구관계이고, 0이면 아니라는 것을 바로 확인할 수 있다. \n",
    "즉, `F[i][j] = 1`인가를 확인만 하면 된다.\n",
    "\n",
    "위 행렬 `F`를 구현하는 (10, 10) 모양의 행렬를 가리키는 변수 `friend_matrix` 를 선언하라."
   ]
  },
  {
   "cell_type": "markdown",
   "id": "43ecf556",
   "metadata": {},
   "source": [
    "답"
   ]
  },
  {
   "cell_type": "markdown",
   "id": "a4a98813",
   "metadata": {},
   "source": [
    "행렬 `F`를 중첩 리스트로 선언한다."
   ]
  },
  {
   "cell_type": "code",
   "execution_count": 23,
   "id": "be93515f",
   "metadata": {},
   "outputs": [],
   "source": [
    "friend_matrix = [[0, 1, 1, 0, 0, 0, 0, 0, 0, 0],\n",
    "                 [1, 0, 1, 1, 0, 0, 0, 0, 0, 0],\n",
    "                 [1, 1, 0, 1, 0, 0, 0, 0, 0, 0],\n",
    "                 [0, 1, 1, 0, 1, 0, 0, 0, 0, 0],\n",
    "                 [0, 0, 0, 1, 0, 1, 0, 0, 0, 0],\n",
    "                 [0, 0, 0, 0, 1, 0, 1, 1, 0, 0],\n",
    "                 [0, 0, 0, 0, 0, 1, 0, 0, 1, 0],\n",
    "                 [0, 0, 0, 0, 0, 1, 0, 0, 1, 0],\n",
    "                 [0, 0, 0, 0, 0, 0, 1, 1, 0, 1],\n",
    "                 [0, 0, 0, 0, 0, 0, 0, 0, 1, 0]]"
   ]
  },
  {
   "cell_type": "markdown",
   "id": "bf860aa1",
   "metadata": {},
   "source": [
    "아이디 0번은 아이디 2번과 친구관계이다."
   ]
  },
  {
   "cell_type": "code",
   "execution_count": 24,
   "id": "b6266cf2",
   "metadata": {},
   "outputs": [],
   "source": [
    "assert friend_matrix[0][2] == 1"
   ]
  },
  {
   "cell_type": "markdown",
   "id": "fe930a05",
   "metadata": {},
   "source": [
    "아이디 8번은 아이디 0번과 친구관계가 아니다."
   ]
  },
  {
   "cell_type": "code",
   "execution_count": 25,
   "id": "032b6875",
   "metadata": {},
   "outputs": [],
   "source": [
    "assert friend_matrix[8][0] == 0"
   ]
  },
  {
   "cell_type": "markdown",
   "id": "7263e2ed",
   "metadata": {},
   "source": [
    "아이디 5번과 친구사이인 아이디는 다음과 같다."
   ]
  },
  {
   "cell_type": "code",
   "execution_count": 26,
   "id": "18c155cc",
   "metadata": {},
   "outputs": [
    {
     "data": {
      "text/plain": [
       "[4, 6, 7]"
      ]
     },
     "execution_count": 26,
     "metadata": {},
     "output_type": "execute_result"
    }
   ],
   "source": [
    "friends_of_five = [ i for i, is_friend in enumerate(friend_matrix[5]) if is_friend ]\n",
    "friends_of_five"
   ]
  }
 ],
 "metadata": {
  "kernelspec": {
   "display_name": "Python 3 (ipykernel)",
   "language": "python",
   "name": "python3"
  },
  "language_info": {
   "codemirror_mode": {
    "name": "ipython",
    "version": 3
   },
   "file_extension": ".py",
   "mimetype": "text/x-python",
   "name": "python",
   "nbconvert_exporter": "python",
   "pygments_lexer": "ipython3",
   "version": "3.11.4"
  },
  "vscode": {
   "interpreter": {
    "hash": "ad0f3c8a064f687cbf898a0868fd45ba1c7e928ac8a0404f7c241d812ddc1e76"
   }
  }
 },
 "nbformat": 4,
 "nbformat_minor": 5
}

{
 "cells": [
  {
   "cell_type": "code",
   "execution_count": 1,
   "metadata": {},
   "outputs": [],
   "source": [
    "import numpy as np\n",
    "import pandas as pd\n",
    "from pandas import Series, DataFrame\n",
    "\n",
    "days = 'Sun Mon Tue Wed Thu Fri Sat'.split()\n",
    "\n",
    "np.random.seed(0)\n",
    "s = Series(np.random.normal(20, 5, 28),\n",
    "          index=days*4).round().astype(np.int8)"
   ]
  },
  {
   "cell_type": "code",
   "execution_count": 2,
   "metadata": {},
   "outputs": [
    {
     "data": {
      "text/plain": [
       "Sun    29\n",
       "Mon    22\n",
       "Tue    25\n",
       "Wed    31\n",
       "Thu    29\n",
       "Fri    15\n",
       "Sat    25\n",
       "Sun    19\n",
       "Mon    19\n",
       "Tue    22\n",
       "Wed    21\n",
       "Thu    27\n",
       "Fri    24\n",
       "Sat    21\n",
       "Sun    22\n",
       "Mon    22\n",
       "Tue    27\n",
       "Wed    19\n",
       "Thu    22\n",
       "Fri    16\n",
       "Sat     7\n",
       "Sun    23\n",
       "Mon    24\n",
       "Tue    16\n",
       "Wed    31\n",
       "Thu    13\n",
       "Fri    20\n",
       "Sat    19\n",
       "dtype: int8"
      ]
     },
     "execution_count": 2,
     "metadata": {},
     "output_type": "execute_result"
    }
   ],
   "source": [
    "s"
   ]
  },
  {
   "cell_type": "code",
   "execution_count": 3,
   "metadata": {},
   "outputs": [
    {
     "data": {
      "text/plain": [
       "21.75"
      ]
     },
     "execution_count": 3,
     "metadata": {},
     "output_type": "execute_result"
    }
   ],
   "source": [
    "s.loc['Mon'].mean()"
   ]
  },
  {
   "cell_type": "code",
   "execution_count": null,
   "metadata": {},
   "outputs": [],
   "source": []
  }
 ],
 "metadata": {
  "kernelspec": {
   "display_name": "Python 3 (ipykernel)",
   "language": "python",
   "name": "python3"
  },
  "language_info": {
   "codemirror_mode": {
    "name": "ipython",
    "version": 3
   },
   "file_extension": ".py",
   "mimetype": "text/x-python",
   "name": "python",
   "nbconvert_exporter": "python",
   "pygments_lexer": "ipython3",
   "version": "3.10.6"
  }
 },
 "nbformat": 4,
 "nbformat_minor": 4
}

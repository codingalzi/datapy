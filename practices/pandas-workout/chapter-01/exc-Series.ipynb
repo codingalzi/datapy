{
 "cells": [
  {
   "cell_type": "code",
   "execution_count": 1,
   "id": "5924d033",
   "metadata": {},
   "outputs": [],
   "source": [
    "import numpy as np\n",
    "import pandas as pd"
   ]
  },
  {
   "cell_type": "markdown",
   "id": "739871c4",
   "metadata": {},
   "source": [
    "**문제 1**"
   ]
  },
  {
   "cell_type": "markdown",
   "id": "7801b0e8",
   "metadata": {},
   "source": [
    "A 학생의 월별 성적이다. "
   ]
  },
  {
   "cell_type": "code",
   "execution_count": 2,
   "id": "72eec0ad",
   "metadata": {},
   "outputs": [
    {
     "data": {
      "text/plain": [
       "3월     94\n",
       "4월     97\n",
       "5월     50\n",
       "6월     53\n",
       "9월     53\n",
       "10월    89\n",
       "11월    59\n",
       "12월    69\n",
       "dtype: int32"
      ]
     },
     "execution_count": 2,
     "metadata": {},
     "output_type": "execute_result"
    }
   ],
   "source": [
    "np.random.seed(0)\n",
    "\n",
    "months = '3월 4월 5월 6월 9월 10월 11월 12월'.split()\n",
    "\n",
    "scoreA = pd.Series(np.random.randint(50, 101, 8),\n",
    "              index=months)\n",
    "scoreA"
   ]
  },
  {
   "cell_type": "code",
   "execution_count": 3,
   "id": "8c439109",
   "metadata": {},
   "outputs": [
    {
     "name": "stdout",
     "output_type": "stream",
     "text": [
      "성적 전체 평균: 70.5\n"
     ]
    }
   ],
   "source": [
    "print(f'성적 전체 평균: {scoreA.mean()}')"
   ]
  },
  {
   "cell_type": "code",
   "execution_count": 4,
   "id": "48e9f906",
   "metadata": {},
   "outputs": [
    {
     "data": {
      "text/plain": [
       "3월    94\n",
       "4월    97\n",
       "5월    50\n",
       "6월    53\n",
       "dtype: int32"
      ]
     },
     "execution_count": 4,
     "metadata": {},
     "output_type": "execute_result"
    }
   ],
   "source": [
    "scoreA['3월':'6월']"
   ]
  },
  {
   "cell_type": "code",
   "execution_count": 5,
   "id": "955c122a",
   "metadata": {
    "scrolled": true
   },
   "outputs": [
    {
     "name": "stdout",
     "output_type": "stream",
     "text": [
      "1학기 평균: 73.5\n",
      "2학기 평균: 67.5\n",
      "향상 정도: -6.0\n"
     ]
    }
   ],
   "source": [
    "first_semester_mean = scoreA['3월':'6월'].mean()\n",
    "second_semester_mean = scoreA['9월':'12월'].mean()\n",
    "\n",
    "print(f'1학기 평균: {first_semester_mean}')\n",
    "print(f'2학기 평균: {second_semester_mean}')\n",
    "print(f'향상 정도: {second_semester_mean - first_semester_mean}')"
   ]
  },
  {
   "cell_type": "markdown",
   "id": "b603b75e",
   "metadata": {},
   "source": [
    "(1) 어느 달 성적이 가장 좋은가?"
   ]
  },
  {
   "cell_type": "markdown",
   "id": "0dec1613",
   "metadata": {},
   "source": [
    "- 방식 1: 내림차순으로 정렬 후 첫째 항목"
   ]
  },
  {
   "cell_type": "code",
   "execution_count": 6,
   "id": "dfff2f36",
   "metadata": {},
   "outputs": [
    {
     "data": {
      "text/plain": [
       "'4월'"
      ]
     },
     "execution_count": 6,
     "metadata": {},
     "output_type": "execute_result"
    }
   ],
   "source": [
    "scoreA.sort_values(ascending=False).index[0]"
   ]
  },
  {
   "cell_type": "markdown",
   "id": "9db0f3df",
   "metadata": {},
   "source": [
    "- `max()` 메서드와 부울 인덱싱 활용"
   ]
  },
  {
   "cell_type": "code",
   "execution_count": 7,
   "id": "4e653463",
   "metadata": {},
   "outputs": [
    {
     "data": {
      "text/plain": [
       "'4월'"
      ]
     },
     "execution_count": 7,
     "metadata": {},
     "output_type": "execute_result"
    }
   ],
   "source": [
    "scoreA[scoreA==scoreA.max()].index[0]"
   ]
  },
  {
   "cell_type": "markdown",
   "id": "1ac0f698",
   "metadata": {},
   "source": [
    "(2) 평균이 가장 높았던 월 5개를 확인하는 코드를 작성하라.\n",
    "단, `sort_values()`와 `head()` 메서드를 연속으로 적용한다."
   ]
  },
  {
   "cell_type": "code",
   "execution_count": 8,
   "id": "4d523d30",
   "metadata": {},
   "outputs": [
    {
     "data": {
      "text/plain": [
       "4월     97\n",
       "3월     94\n",
       "10월    89\n",
       "12월    69\n",
       "11월    59\n",
       "dtype: int32"
      ]
     },
     "execution_count": 8,
     "metadata": {},
     "output_type": "execute_result"
    }
   ],
   "source": [
    "scoreA.sort_values(ascending=False).head(5)"
   ]
  },
  {
   "cell_type": "markdown",
   "id": "c735c96d",
   "metadata": {},
   "source": [
    "(3) 학생들의 성적을 10 단위로 반올림하라. 예를 들어, 82점과 79점 모두 80점으로 반올림돼야 한다.\n",
    "단, `round()` 메서드에 음수 인자를 사용한다."
   ]
  },
  {
   "cell_type": "code",
   "execution_count": 9,
   "id": "a98e1dc5",
   "metadata": {},
   "outputs": [
    {
     "data": {
      "text/plain": [
       "3월      90\n",
       "4월     100\n",
       "5월      50\n",
       "6월      50\n",
       "9월      50\n",
       "10월     90\n",
       "11월     60\n",
       "12월     70\n",
       "dtype: int32"
      ]
     },
     "execution_count": 9,
     "metadata": {},
     "output_type": "execute_result"
    }
   ],
   "source": [
    "scoreA.round(-1)  "
   ]
  },
  {
   "cell_type": "markdown",
   "id": "58d7f4d9",
   "metadata": {},
   "source": [
    "**문제 2**"
   ]
  },
  {
   "cell_type": "markdown",
   "id": "6e6e088a",
   "metadata": {},
   "source": [
    "B 학생의 월별 성적이다. "
   ]
  },
  {
   "cell_type": "code",
   "execution_count": 10,
   "id": "ee50213b",
   "metadata": {},
   "outputs": [
    {
     "data": {
      "text/plain": [
       "9월     59\n",
       "10월    86\n",
       "11월    65\n",
       "12월    50\n",
       "3월     99\n",
       "4월     78\n",
       "5월     75\n",
       "6월     79\n",
       "dtype: int32"
      ]
     },
     "execution_count": 10,
     "metadata": {},
     "output_type": "execute_result"
    }
   ],
   "source": [
    "np.random.seed(10)\n",
    "\n",
    "months = '9월 10월 11월 12월 3월 4월 5월 6월'.split()\n",
    "\n",
    "scoreB = pd.Series(np.random.randint(50, 101, 8),\n",
    "              index=months)\n",
    "scoreB"
   ]
  },
  {
   "cell_type": "markdown",
   "id": "91a3d472",
   "metadata": {},
   "source": [
    "두 학생의 합은 인덱스별로 계산된다."
   ]
  },
  {
   "cell_type": "code",
   "execution_count": 12,
   "id": "3e678b28",
   "metadata": {},
   "outputs": [
    {
     "data": {
      "text/plain": [
       "10월    175\n",
       "11월    124\n",
       "12월    119\n",
       "3월     193\n",
       "4월     175\n",
       "5월     125\n",
       "6월     132\n",
       "9월     112\n",
       "dtype: int32"
      ]
     },
     "execution_count": 12,
     "metadata": {},
     "output_type": "execute_result"
    }
   ],
   "source": [
    "scoreA + scoreB"
   ]
  },
  {
   "cell_type": "markdown",
   "id": "810803c0",
   "metadata": {},
   "source": [
    "따라서 A, B 두 학생 성적의 월별 평균은 다음과 같다."
   ]
  },
  {
   "cell_type": "code",
   "execution_count": 13,
   "id": "ca492407",
   "metadata": {},
   "outputs": [
    {
     "data": {
      "text/plain": [
       "10월    87.5\n",
       "11월    62.0\n",
       "12월    59.5\n",
       "3월     96.5\n",
       "4월     87.5\n",
       "5월     62.5\n",
       "6월     66.0\n",
       "9월     56.0\n",
       "dtype: float64"
      ]
     },
     "execution_count": 13,
     "metadata": {},
     "output_type": "execute_result"
    }
   ],
   "source": [
    "(scoreA + scoreB)/2"
   ]
  },
  {
   "cell_type": "markdown",
   "id": "d69871dd",
   "metadata": {},
   "source": [
    "두 학생의 전체 평균 계산은 `mean()` 메서드를 이용한다."
   ]
  },
  {
   "cell_type": "code",
   "execution_count": 14,
   "id": "213188b1",
   "metadata": {},
   "outputs": [
    {
     "data": {
      "text/plain": [
       "72.1875"
      ]
     },
     "execution_count": 14,
     "metadata": {},
     "output_type": "execute_result"
    }
   ],
   "source": [
    "((scoreA + scoreB)/2).mean()"
   ]
  },
  {
   "cell_type": "markdown",
   "id": "f4d41578",
   "metadata": {},
   "source": [
    "(1) 평균과 표준편차: 시리즈와 상수의 연산엔 브로드캐스팅이 작동"
   ]
  },
  {
   "cell_type": "markdown",
   "id": "56de9a4b",
   "metadata": {},
   "source": [
    "- B 학생의 성적이 평균 + 표준편차보다 높을 때"
   ]
  },
  {
   "cell_type": "code",
   "execution_count": 15,
   "id": "1da7a9d7",
   "metadata": {},
   "outputs": [
    {
     "data": {
      "text/plain": [
       "3월    99\n",
       "dtype: int32"
      ]
     },
     "execution_count": 15,
     "metadata": {},
     "output_type": "execute_result"
    }
   ],
   "source": [
    "scoreB[scoreB > scoreB.mean() + scoreB.std()]"
   ]
  },
  {
   "cell_type": "markdown",
   "id": "fc3b0704",
   "metadata": {},
   "source": [
    "- B 학생의 성적이 평균 보다는 높지만 평균 + 표준편차보다는 낮을 때"
   ]
  },
  {
   "cell_type": "code",
   "execution_count": 16,
   "id": "2f657340",
   "metadata": {},
   "outputs": [
    {
     "data": {
      "text/plain": [
       "10월    86\n",
       "4월     78\n",
       "5월     75\n",
       "6월     79\n",
       "dtype: int32"
      ]
     },
     "execution_count": 16,
     "metadata": {},
     "output_type": "execute_result"
    }
   ],
   "source": [
    "scoreB[(scoreB < scoreB.mean() + scoreB.std()) & (scoreB > scoreB.mean())]"
   ]
  },
  {
   "cell_type": "markdown",
   "id": "d40718cf",
   "metadata": {},
   "source": [
    "- B 학생의 성적이 평균 보다는 낮지만 (평균 - 표준편차)보다는 높을 때"
   ]
  },
  {
   "cell_type": "code",
   "execution_count": 17,
   "id": "d7a78868",
   "metadata": {},
   "outputs": [
    {
     "data": {
      "text/plain": [
       "9월     59\n",
       "11월    65\n",
       "dtype: int32"
      ]
     },
     "execution_count": 17,
     "metadata": {},
     "output_type": "execute_result"
    }
   ],
   "source": [
    "scoreB[(scoreB > scoreB.mean() - scoreB.std()) & (scoreB < scoreB.mean())]"
   ]
  },
  {
   "cell_type": "markdown",
   "id": "9d23c49a",
   "metadata": {},
   "source": [
    "- B 학생의 성적이 (평균 - 표준편차)보다도 낮을 때"
   ]
  },
  {
   "cell_type": "code",
   "execution_count": 18,
   "id": "8c8395cd",
   "metadata": {},
   "outputs": [
    {
     "data": {
      "text/plain": [
       "12월    50\n",
       "dtype: int32"
      ]
     },
     "execution_count": 18,
     "metadata": {},
     "output_type": "execute_result"
    }
   ],
   "source": [
    "scoreB[scoreB < scoreB.mean() - scoreB.std()]"
   ]
  },
  {
   "cell_type": "markdown",
   "id": "51f96429",
   "metadata": {},
   "source": [
    "(2) 평균값으로부터 표준편차의 2배보다 큰 차이를 보인 점수가 있는 달이 있는가?"
   ]
  },
  {
   "cell_type": "code",
   "execution_count": 23,
   "id": "8e8f34c9",
   "metadata": {},
   "outputs": [
    {
     "data": {
      "text/plain": [
       "Series([], dtype: int32)"
      ]
     },
     "execution_count": 23,
     "metadata": {},
     "output_type": "execute_result"
    }
   ],
   "source": [
    "scoreB[(scoreB < scoreB.mean()-2*scoreB.std())  |\n",
    "       (scoreB > scoreB.mean()+2*scoreB.std())]"
   ]
  },
  {
   "cell_type": "markdown",
   "id": "b453bdf8",
   "metadata": {},
   "source": [
    "(3) 평균값(mean)과 중앙값의 차이는?"
   ]
  },
  {
   "cell_type": "code",
   "execution_count": 24,
   "id": "660d7038",
   "metadata": {},
   "outputs": [
    {
     "data": {
      "text/plain": [
       "-2.625"
      ]
     },
     "execution_count": 24,
     "metadata": {},
     "output_type": "execute_result"
    }
   ],
   "source": [
    "scoreB.mean() - scoreB.median()"
   ]
  },
  {
   "cell_type": "markdown",
   "id": "4e5e2997",
   "metadata": {},
   "source": [
    "**문제 3**"
   ]
  },
  {
   "cell_type": "code",
   "execution_count": 39,
   "id": "88550fef",
   "metadata": {},
   "outputs": [
    {
     "data": {
      "text/plain": [
       "0    47\n",
       "1    83\n",
       "2    38\n",
       "3    53\n",
       "4    76\n",
       "5    24\n",
       "6    15\n",
       "7    49\n",
       "8    23\n",
       "9    26\n",
       "dtype: int32"
      ]
     },
     "execution_count": 39,
     "metadata": {},
     "output_type": "execute_result"
    }
   ],
   "source": [
    "np.random.seed(1234)\n",
    "\n",
    "s = pd.Series(np.random.randint(0, 100, 10))\n",
    "s"
   ]
  },
  {
   "cell_type": "markdown",
   "id": "3827390b",
   "metadata": {},
   "source": [
    "10의 자리수로 이뤄진 시리즈를 구하라."
   ]
  },
  {
   "cell_type": "code",
   "execution_count": 38,
   "id": "014b91da",
   "metadata": {},
   "outputs": [
    {
     "data": {
      "text/plain": [
       "0    4\n",
       "1    4\n",
       "2    6\n",
       "3    6\n",
       "4    6\n",
       "5    0\n",
       "6    8\n",
       "7    2\n",
       "8    3\n",
       "9    8\n",
       "dtype: int32"
      ]
     },
     "execution_count": 38,
     "metadata": {},
     "output_type": "execute_result"
    }
   ],
   "source": [
    "s//10"
   ]
  },
  {
   "cell_type": "markdown",
   "id": "aadc1e8d",
   "metadata": {},
   "source": [
    "한자리 숫자이기에 메모리를 아끼기 위해 `int8`을 자료형으로 지정할 수 있다."
   ]
  },
  {
   "cell_type": "code",
   "execution_count": 40,
   "id": "22a24146",
   "metadata": {},
   "outputs": [
    {
     "data": {
      "text/plain": [
       "0    4\n",
       "1    8\n",
       "2    3\n",
       "3    5\n",
       "4    7\n",
       "5    2\n",
       "6    1\n",
       "7    4\n",
       "8    2\n",
       "9    2\n",
       "dtype: int8"
      ]
     },
     "execution_count": 40,
     "metadata": {},
     "output_type": "execute_result"
    }
   ],
   "source": [
    "(s//10).astype('i1')"
   ]
  },
  {
   "cell_type": "markdown",
   "id": "49121c39",
   "metadata": {},
   "source": [
    "아래 방식도 가능하다."
   ]
  },
  {
   "cell_type": "code",
   "execution_count": 41,
   "id": "dcd04663",
   "metadata": {},
   "outputs": [
    {
     "data": {
      "text/plain": [
       "0    4\n",
       "1    8\n",
       "2    3\n",
       "3    5\n",
       "4    7\n",
       "5    2\n",
       "6    1\n",
       "7    4\n",
       "8    2\n",
       "9    2\n",
       "dtype: int8"
      ]
     },
     "execution_count": 41,
     "metadata": {},
     "output_type": "execute_result"
    }
   ],
   "source": [
    "(s / 10).astype(np.int8)"
   ]
  },
  {
   "cell_type": "markdown",
   "id": "25a1acec",
   "metadata": {},
   "source": [
    "(1) 문자열을 활용하는 방식을 이용하여 100의 자리수로 이뤄진 시리즈를 구하라."
   ]
  },
  {
   "cell_type": "code",
   "execution_count": 73,
   "id": "67d8bcd7",
   "metadata": {},
   "outputs": [
    {
     "data": {
      "text/plain": [
       "0    2191\n",
       "1     406\n",
       "2    9529\n",
       "3    6061\n",
       "4    8470\n",
       "5    9247\n",
       "6    3623\n",
       "7    4564\n",
       "8    2945\n",
       "9    1774\n",
       "dtype: int32"
      ]
     },
     "execution_count": 73,
     "metadata": {},
     "output_type": "execute_result"
    }
   ],
   "source": [
    "np.random.seed(17)\n",
    "\n",
    "s = pd.Series(np.random.randint(0, 10000, 10))\n",
    "s"
   ]
  },
  {
   "cell_type": "code",
   "execution_count": 84,
   "id": "1bb7fff6",
   "metadata": {
    "scrolled": true
   },
   "outputs": [
    {
     "data": {
      "text/plain": [
       "0    1\n",
       "1    4\n",
       "2    5\n",
       "3    0\n",
       "4    4\n",
       "5    2\n",
       "6    6\n",
       "7    5\n",
       "8    9\n",
       "9    7\n",
       "dtype: int32"
      ]
     },
     "execution_count": 84,
     "metadata": {},
     "output_type": "execute_result"
    }
   ],
   "source": [
    "((s/100)%10).astype(np.int32)\n"
   ]
  },
  {
   "cell_type": "markdown",
   "id": "e35e8979",
   "metadata": {},
   "source": [
    "(2) `s`를 `int8`, `uint8`, `int16` 자료형으로 표현하고 그 결과를 설명하라."
   ]
  },
  {
   "cell_type": "code",
   "execution_count": 85,
   "id": "58f9d085",
   "metadata": {},
   "outputs": [
    {
     "data": {
      "text/plain": [
       "0   -113\n",
       "1   -106\n",
       "2     57\n",
       "3    -83\n",
       "4     22\n",
       "5     31\n",
       "6     39\n",
       "7    -44\n",
       "8   -127\n",
       "9    -18\n",
       "dtype: int8"
      ]
     },
     "execution_count": 85,
     "metadata": {},
     "output_type": "execute_result"
    }
   ],
   "source": [
    "s.astype(np.int8)"
   ]
  },
  {
   "cell_type": "code",
   "execution_count": 86,
   "id": "c8e4f7f6",
   "metadata": {},
   "outputs": [
    {
     "data": {
      "text/plain": [
       "0    143\n",
       "1    150\n",
       "2     57\n",
       "3    173\n",
       "4     22\n",
       "5     31\n",
       "6     39\n",
       "7    212\n",
       "8    129\n",
       "9    238\n",
       "dtype: uint8"
      ]
     },
     "execution_count": 86,
     "metadata": {},
     "output_type": "execute_result"
    }
   ],
   "source": [
    "s.astype(np.uint8)"
   ]
  },
  {
   "cell_type": "code",
   "execution_count": 87,
   "id": "302a3a4e",
   "metadata": {},
   "outputs": [
    {
     "data": {
      "text/plain": [
       "0    2191\n",
       "1     406\n",
       "2    9529\n",
       "3    6061\n",
       "4    8470\n",
       "5    9247\n",
       "6    3623\n",
       "7    4564\n",
       "8    2945\n",
       "9    1774\n",
       "dtype: int16"
      ]
     },
     "execution_count": 87,
     "metadata": {},
     "output_type": "execute_result"
    }
   ],
   "source": [
    "s.astype(np.int16)"
   ]
  },
  {
   "cell_type": "markdown",
   "id": "4272edd3",
   "metadata": {},
   "source": [
    "(3) 100에서 10000 사이에서 임의로 10개의 부동소수점을 생성한 다음에 정수 부분이 홀수일 숫자로만 이뤄진 시리즈를 구하라.\n",
    "단, `np.random.rand()` 함수를 이용한다."
   ]
  },
  {
   "cell_type": "code",
   "execution_count": 90,
   "id": "8306c854",
   "metadata": {},
   "outputs": [
    {
     "data": {
      "text/plain": [
       "0    294.665003\n",
       "1    530.586756\n",
       "2    191.520787\n",
       "3     67.900358\n",
       "4    786.985460\n",
       "5    656.333522\n",
       "6    637.520896\n",
       "7    575.602894\n",
       "8     39.062916\n",
       "9    357.813604\n",
       "dtype: float64"
      ]
     },
     "execution_count": 90,
     "metadata": {},
     "output_type": "execute_result"
    }
   ],
   "source": [
    "np.random.seed(17)\n",
    "\n",
    "s = pd.Series(np.random.rand(10) * 1000)\n",
    "s"
   ]
  },
  {
   "cell_type": "code",
   "execution_count": 91,
   "id": "cf0d4a2f",
   "metadata": {},
   "outputs": [
    {
     "data": {
      "text/plain": [
       "0    294.665003\n",
       "1    530.586756\n",
       "4    786.985460\n",
       "5    656.333522\n",
       "dtype: float64"
      ]
     },
     "execution_count": 91,
     "metadata": {},
     "output_type": "execute_result"
    }
   ],
   "source": [
    "s[s.astype(np.int64) % 2 == 0]"
   ]
  },
  {
   "cell_type": "markdown",
   "id": "3b62b3da",
   "metadata": {},
   "source": [
    "**문제 4**"
   ]
  },
  {
   "cell_type": "code",
   "execution_count": 65,
   "id": "2690181c",
   "metadata": {},
   "outputs": [
    {
     "data": {
      "text/plain": [
       "0        176.405235\n",
       "1         40.015721\n",
       "2         97.873798\n",
       "3        224.089320\n",
       "4        186.755799\n",
       "            ...    \n",
       "99995    -33.771476\n",
       "99996   -202.854844\n",
       "99997     72.618198\n",
       "99998   -116.783052\n",
       "99999   -128.520765\n",
       "Length: 100000, dtype: float64"
      ]
     },
     "execution_count": 65,
     "metadata": {},
     "output_type": "execute_result"
    }
   ],
   "source": [
    "np.random.seed(0)\n",
    "\n",
    "s = pd.Series(np.random.normal(0, 100, 100_000))\n",
    "s"
   ]
  },
  {
   "cell_type": "code",
   "execution_count": 66,
   "id": "ddbcc49c",
   "metadata": {
    "scrolled": false
   },
   "outputs": [
    {
     "data": {
      "text/plain": [
       "count    100000.000000\n",
       "mean          0.157670\n",
       "std          99.734467\n",
       "min        -485.211765\n",
       "25%         -66.864170\n",
       "50%           0.172022\n",
       "75%          67.343870\n",
       "max         424.177191\n",
       "dtype: float64"
      ]
     },
     "execution_count": 66,
     "metadata": {},
     "output_type": "execute_result"
    }
   ],
   "source": [
    "s.describe()"
   ]
  },
  {
   "cell_type": "code",
   "execution_count": 67,
   "id": "28bb94e8",
   "metadata": {},
   "outputs": [],
   "source": [
    "s.loc[s == s.min()] = 5*s.max()"
   ]
  },
  {
   "cell_type": "code",
   "execution_count": 68,
   "id": "71a97f99",
   "metadata": {
    "scrolled": true
   },
   "outputs": [
    {
     "data": {
      "text/plain": [
       "count    100000.000000\n",
       "mean          0.183731\n",
       "std          99.947900\n",
       "min        -465.995297\n",
       "25%         -66.862839\n",
       "50%           0.174214\n",
       "75%          67.345174\n",
       "max        2120.885956\n",
       "dtype: float64"
      ]
     },
     "execution_count": 68,
     "metadata": {},
     "output_type": "execute_result"
    }
   ],
   "source": [
    "s.describe()"
   ]
  },
  {
   "cell_type": "code",
   "execution_count": 69,
   "id": "fe5f8325",
   "metadata": {},
   "outputs": [
    {
     "data": {
      "text/plain": [
       "0        176.405235\n",
       "1         40.015721\n",
       "2         97.873798\n",
       "3        224.089320\n",
       "4        186.755799\n",
       "            ...    \n",
       "99995    -33.771476\n",
       "99996   -202.854844\n",
       "99997     72.618198\n",
       "99998   -116.783052\n",
       "99999   -128.520765\n",
       "Length: 100000, dtype: float64"
      ]
     },
     "execution_count": 69,
     "metadata": {},
     "output_type": "execute_result"
    }
   ],
   "source": [
    "np.random.seed(0)\n",
    "\n",
    "s = pd.Series(np.random.normal(0, 100, 100_000))\n",
    "s"
   ]
  },
  {
   "cell_type": "markdown",
   "id": "eefa128c",
   "metadata": {},
   "source": [
    "# Beyond 1\n",
    "\n",
    "Demonstrate that 68%, 95%, and 99.7% of the values in `s` are indeed within 1, 2, and 3 standard distributions of the mean."
   ]
  },
  {
   "cell_type": "code",
   "execution_count": 70,
   "id": "7f396b83",
   "metadata": {},
   "outputs": [
    {
     "data": {
      "text/plain": [
       "0.68463"
      ]
     },
     "execution_count": 70,
     "metadata": {},
     "output_type": "execute_result"
    }
   ],
   "source": [
    "# within one standard deviation\n",
    "s[(s > s.mean() - s.std()) &\n",
    "  (s < s.mean() + s.std())].count() / 100_000"
   ]
  },
  {
   "cell_type": "code",
   "execution_count": 71,
   "id": "7a38b3b9",
   "metadata": {},
   "outputs": [
    {
     "data": {
      "text/plain": [
       "0.95382"
      ]
     },
     "execution_count": 71,
     "metadata": {},
     "output_type": "execute_result"
    }
   ],
   "source": [
    "# within two standard deviations\n",
    "s[(s > s.mean() - 2*s.std()) &\n",
    "  (s < s.mean() + 2*s.std())].count() / 100_000"
   ]
  },
  {
   "cell_type": "code",
   "execution_count": 72,
   "id": "50b547ce",
   "metadata": {},
   "outputs": [
    {
     "data": {
      "text/plain": [
       "0.99714"
      ]
     },
     "execution_count": 72,
     "metadata": {},
     "output_type": "execute_result"
    }
   ],
   "source": [
    "# within three standard deviations\n",
    "s[(s > s.mean() - 3*s.std()) &\n",
    "  (s < s.mean() + 3*s.std())].count() / 100_000"
   ]
  },
  {
   "cell_type": "markdown",
   "id": "2a473fa8",
   "metadata": {},
   "source": [
    "# Beyond 2\n",
    "\n",
    " Calculate the mean of numbers greater than `s.mean()`. Then calculate the mean of numbers less than `s.mean()`. Is the average of these two numbers the same as `s.mean()`?"
   ]
  },
  {
   "cell_type": "code",
   "execution_count": 73,
   "id": "c752b0e3",
   "metadata": {},
   "outputs": [
    {
     "data": {
      "text/plain": [
       "0.1529017934377066"
      ]
     },
     "execution_count": 73,
     "metadata": {},
     "output_type": "execute_result"
    }
   ],
   "source": [
    "(s[s < s.mean()].mean() + s[s > s.mean()].mean() ) / 2"
   ]
  },
  {
   "cell_type": "code",
   "execution_count": 74,
   "id": "8d1de64d",
   "metadata": {},
   "outputs": [
    {
     "data": {
      "text/plain": [
       "0.15767005081253402"
      ]
     },
     "execution_count": 74,
     "metadata": {},
     "output_type": "execute_result"
    }
   ],
   "source": [
    "# They're pretty close!c\n",
    "s.mean()"
   ]
  },
  {
   "cell_type": "markdown",
   "id": "a8af86ca",
   "metadata": {},
   "source": [
    "# Beyond 3\n",
    "\n",
    "What is the mean of the numbers beyond 3 standard deviations?"
   ]
  },
  {
   "cell_type": "code",
   "execution_count": 75,
   "id": "d3eed4a7",
   "metadata": {},
   "outputs": [
    {
     "data": {
      "text/plain": [
       "-2.357791086185572"
      ]
     },
     "execution_count": 75,
     "metadata": {},
     "output_type": "execute_result"
    }
   ],
   "source": [
    "# A pretty complex combination of mask indexes,\n",
    "# but the result is still a pd.Series, on which we can run mean()\n",
    "s[(s < s.mean() - 3*s.std()) | \n",
    "  (s > s.mean() + 3*s.std()) ].mean()"
   ]
  },
  {
   "cell_type": "markdown",
   "id": "d1ad5342",
   "metadata": {},
   "source": [
    "**문제 5**"
   ]
  },
  {
   "cell_type": "code",
   "execution_count": 82,
   "id": "6d471a4a",
   "metadata": {},
   "outputs": [
    {
     "data": {
      "text/plain": [
       "array([27.66389607, 27.34679385, 20.77473713, 21.8908126 , 15.56107126,\n",
       "       10.09601766, 18.26043925, 20.78174485, 26.1514534 , 26.01189924,\n",
       "       18.06336591, 18.48848625, 14.75723517, 12.89991031, 11.46864905,\n",
       "       29.75387698, 17.45173909, 17.80962849, 13.7360232 , 23.88745178,\n",
       "       11.93051076, 18.9362986 , 15.52266719, 21.93451249, 17.44597431,\n",
       "       14.09683908, 19.85908886, 22.14165935])"
      ]
     },
     "execution_count": 82,
     "metadata": {},
     "output_type": "execute_result"
    }
   ],
   "source": [
    "np.random.normal(20, 5, 28)"
   ]
  },
  {
   "cell_type": "code",
   "execution_count": 83,
   "id": "11b5969e",
   "metadata": {},
   "outputs": [],
   "source": [
    "days = 'Sun Mon Tue Wed Thu Fri Sat'.split()\n",
    "\n",
    "np.random.seed(0)\n",
    "s = pd.Series(np.random.normal(20, 5, 28),      # 평균값, 표준편차, 어레이 모양\n",
    "          index=days*4).round().astype(np.int8)"
   ]
  },
  {
   "cell_type": "code",
   "execution_count": 84,
   "id": "b5f402ff",
   "metadata": {},
   "outputs": [
    {
     "data": {
      "text/plain": [
       "Sun    29\n",
       "Mon    22\n",
       "Tue    25\n",
       "Wed    31\n",
       "Thu    29\n",
       "Fri    15\n",
       "Sat    25\n",
       "Sun    19\n",
       "Mon    19\n",
       "Tue    22\n",
       "Wed    21\n",
       "Thu    27\n",
       "Fri    24\n",
       "Sat    21\n",
       "Sun    22\n",
       "Mon    22\n",
       "Tue    27\n",
       "Wed    19\n",
       "Thu    22\n",
       "Fri    16\n",
       "Sat     7\n",
       "Sun    23\n",
       "Mon    24\n",
       "Tue    16\n",
       "Wed    31\n",
       "Thu    13\n",
       "Fri    20\n",
       "Sat    19\n",
       "dtype: int8"
      ]
     },
     "execution_count": 84,
     "metadata": {},
     "output_type": "execute_result"
    }
   ],
   "source": [
    "s"
   ]
  },
  {
   "cell_type": "code",
   "execution_count": 85,
   "id": "ad96d789",
   "metadata": {},
   "outputs": [
    {
     "data": {
      "text/plain": [
       "21.75"
      ]
     },
     "execution_count": 85,
     "metadata": {},
     "output_type": "execute_result"
    }
   ],
   "source": [
    "s.loc['Mon'].mean()"
   ]
  },
  {
   "cell_type": "markdown",
   "id": "c471f338",
   "metadata": {},
   "source": [
    "# Beyond 1\n",
    "\n",
    "What was the average temperature on weekends (i.e., Saturdays and Sundays)?"
   ]
  },
  {
   "cell_type": "code",
   "execution_count": 88,
   "id": "7abb8da7",
   "metadata": {},
   "outputs": [
    {
     "data": {
      "text/plain": [
       "20.625"
      ]
     },
     "execution_count": 88,
     "metadata": {},
     "output_type": "execute_result"
    }
   ],
   "source": [
    "s[['Sun', 'Sat']].mean()"
   ]
  },
  {
   "cell_type": "markdown",
   "id": "724800b7",
   "metadata": {},
   "source": [
    "# Beyond 2\n",
    "\n",
    "How many times will the change in temperature from the previous day be greater than 2 degrees?"
   ]
  },
  {
   "cell_type": "code",
   "execution_count": 89,
   "id": "cd400f10",
   "metadata": {},
   "outputs": [
    {
     "data": {
      "text/plain": [
       "Tue    25\n",
       "Wed    31\n",
       "Sat    25\n",
       "Tue    22\n",
       "Thu    27\n",
       "Tue    27\n",
       "Thu    22\n",
       "Sun    23\n",
       "Wed    31\n",
       "Fri    20\n",
       "dtype: int8"
      ]
     },
     "execution_count": 89,
     "metadata": {},
     "output_type": "execute_result"
    }
   ],
   "source": [
    "# by default, the \"diff\" method compares with the previous element\n",
    "s[s.diff() > 2]"
   ]
  },
  {
   "cell_type": "markdown",
   "id": "4c9e8592",
   "metadata": {},
   "source": [
    "# Beyond 3\n",
    "\n",
    "What are the two most common temperatures, and how often does each appear?"
   ]
  },
  {
   "cell_type": "code",
   "execution_count": 90,
   "id": "088157fd",
   "metadata": {},
   "outputs": [
    {
     "data": {
      "text/plain": [
       "22    5\n",
       "19    4\n",
       "dtype: int64"
      ]
     },
     "execution_count": 90,
     "metadata": {},
     "output_type": "execute_result"
    }
   ],
   "source": [
    "# value_counts returns a pd.Series in which the values from s are \n",
    "# the index, the number of appearances is the value, and the\n",
    "# items are ordered from most common to least common. We can\n",
    "# then use \"head\" to get only the 2 most common values.\n",
    "s.value_counts().head(2)"
   ]
  },
  {
   "cell_type": "markdown",
   "id": "349ddda4",
   "metadata": {},
   "source": [
    "**문제 6**"
   ]
  },
  {
   "cell_type": "code",
   "execution_count": 12,
   "id": "a115334a",
   "metadata": {},
   "outputs": [],
   "source": [
    "taxi_passenger_url = 'https://raw.githubusercontent.com/codingalzi/datapy/master/practices/data/'"
   ]
  },
  {
   "cell_type": "code",
   "execution_count": 13,
   "id": "4d1bb72f",
   "metadata": {},
   "outputs": [
    {
     "data": {
      "text/plain": [
       "1    0.720772\n",
       "6    0.036904\n",
       "Name: 0, dtype: float64"
      ]
     },
     "execution_count": 13,
     "metadata": {},
     "output_type": "execute_result"
    }
   ],
   "source": [
    "s = pd.read_csv(taxi_passenger_url+'taxi-passenger-count.csv', header=None).squeeze()\n",
    "\n",
    "s.value_counts(normalize=True)[[1, 6]]"
   ]
  },
  {
   "cell_type": "code",
   "execution_count": 14,
   "id": "d94d0600",
   "metadata": {},
   "outputs": [
    {
     "data": {
      "text/plain": [
       "1    7207\n",
       "2    1313\n",
       "5     520\n",
       "3     406\n",
       "6     369\n",
       "4     182\n",
       "0       2\n",
       "Name: 0, dtype: int64"
      ]
     },
     "execution_count": 14,
     "metadata": {},
     "output_type": "execute_result"
    }
   ],
   "source": [
    "s.value_counts()"
   ]
  },
  {
   "cell_type": "markdown",
   "id": "2652fa26",
   "metadata": {},
   "source": [
    "# Beyond 1\n",
    "\n",
    "What are the 25%, 50% (median), and 75% quantiles for this data set? Can you guess the results before you execute the code?"
   ]
  },
  {
   "cell_type": "code",
   "execution_count": 15,
   "id": "cda6209f",
   "metadata": {},
   "outputs": [
    {
     "data": {
      "text/plain": [
       "0.25    1.0\n",
       "0.50    1.0\n",
       "0.75    2.0\n",
       "Name: 0, dtype: float64"
      ]
     },
     "execution_count": 15,
     "metadata": {},
     "output_type": "execute_result"
    }
   ],
   "source": [
    "# Since 1-passenger rides are 72% of the values, we can\n",
    "# guess that the 25% and 50% marks will be 1, whereas \n",
    "# the 75% mark will be 2 or 3, depending on how common those are.\n",
    "s.quantile([.25, .50, .75])"
   ]
  },
  {
   "cell_type": "markdown",
   "id": "d7e95662",
   "metadata": {},
   "source": [
    "# Beyond 2\n",
    "\n",
    "What proportion of taxi rides are for 3, 4, 5, or 6 passengers?"
   ]
  },
  {
   "cell_type": "code",
   "execution_count": 16,
   "id": "1e27c415",
   "metadata": {},
   "outputs": [
    {
     "data": {
      "text/plain": [
       "0.1477147714771477"
      ]
     },
     "execution_count": 16,
     "metadata": {},
     "output_type": "execute_result"
    }
   ],
   "source": [
    "s.value_counts(normalize=True)[[3,4,5,6]].sum()"
   ]
  },
  {
   "cell_type": "markdown",
   "id": "60c02b54",
   "metadata": {},
   "source": [
    "# Beyond 3\n",
    "\n",
    "Consider that you're in charge of vehicle licensing for New York taxis. Given these numbers, would more people benefit from smaller taxis that can take only one or two passengers, or larger taxis that can take five or six passengers?"
   ]
  },
  {
   "cell_type": "markdown",
   "id": "060099bb",
   "metadata": {},
   "source": [
    "Given that a huge proportion of rides are for 1 or 2 passengers, licensing more small taxis would seem to match the needs."
   ]
  },
  {
   "cell_type": "markdown",
   "id": "525552fd",
   "metadata": {},
   "source": [
    "**문제 7**"
   ]
  },
  {
   "cell_type": "code",
   "execution_count": 17,
   "id": "26cc04b4",
   "metadata": {},
   "outputs": [],
   "source": [
    "s = pd.read_csv(taxi_passenger_url+'taxi-distance.csv', header=None).squeeze()"
   ]
  },
  {
   "cell_type": "code",
   "execution_count": 18,
   "id": "194b3da4",
   "metadata": {},
   "outputs": [
    {
     "data": {
      "text/plain": [
       "short     5890\n",
       "medium    3402\n",
       "long       707\n",
       "Name: 0, dtype: int64"
      ]
     },
     "execution_count": 18,
     "metadata": {},
     "output_type": "execute_result"
    }
   ],
   "source": [
    "pd.cut(s, bins=[s.min()-1, 2, 10, s.max()], \n",
    "       labels=['short', 'medium', 'long']).value_counts()"
   ]
  },
  {
   "cell_type": "markdown",
   "id": "05f8e3a8",
   "metadata": {},
   "source": [
    "# Beyond 1\n",
    "\n",
    "Compare the mean and median trip distances. What does that tell you about the distribution of our data?"
   ]
  },
  {
   "cell_type": "code",
   "execution_count": 19,
   "id": "071b9588",
   "metadata": {
    "scrolled": true
   },
   "outputs": [
    {
     "data": {
      "text/plain": [
       "count    9999.000000\n",
       "mean        3.158511\n",
       "std         4.037516\n",
       "min         0.000000\n",
       "25%         1.000000\n",
       "50%         1.700000\n",
       "75%         3.300000\n",
       "max        64.600000\n",
       "Name: 0, dtype: float64"
      ]
     },
     "execution_count": 19,
     "metadata": {},
     "output_type": "execute_result"
    }
   ],
   "source": [
    "s.describe()"
   ]
  },
  {
   "cell_type": "markdown",
   "id": "51ab3e69",
   "metadata": {},
   "source": [
    "Because the mean is significantly higher than the median, it would seem that there are some *very* long trips in our data set that are pulling the mean up. And sure enough, we see that the standard deviation is 4, but that we have at least one trip > 64 miles in length."
   ]
  },
  {
   "cell_type": "markdown",
   "id": "f2be4c47",
   "metadata": {},
   "source": [
    "# Beyond 2\n",
    "\n",
    "How many short, medium, and long trips were there for trips that had only one passenger? Note that data for passenger count and trip length are from the same data set, meaning that the indexes are the same."
   ]
  },
  {
   "cell_type": "code",
   "execution_count": 20,
   "id": "3712e18a",
   "metadata": {},
   "outputs": [
    {
     "data": {
      "text/plain": [
       "short     4285\n",
       "medium    2387\n",
       "long       487\n",
       "Name: 0, dtype: int64"
      ]
     },
     "execution_count": 20,
     "metadata": {},
     "output_type": "execute_result"
    }
   ],
   "source": [
    "passenger_count = pd.read_csv(taxi_passenger_url+'taxi-passenger-count.csv', header=None).squeeze()\n",
    "\n",
    "pd.cut(s[passenger_count == 1], \n",
    "       bins=[s.min(), 2, 10, s.max()], \n",
    "       labels=['short', 'medium', 'long']).value_counts()"
   ]
  },
  {
   "cell_type": "markdown",
   "id": "b3d3b212",
   "metadata": {},
   "source": [
    "# Beyond 3\n",
    "\n",
    "What happens if we don't pass explicit intervals, and instead ask `pd.cut` to just create 3 bins, with `bins=3`?"
   ]
  },
  {
   "cell_type": "code",
   "execution_count": 21,
   "id": "4d1c3c63",
   "metadata": {},
   "outputs": [
    {
     "data": {
      "text/plain": [
       "(0       short\n",
       " 1       short\n",
       " 2       short\n",
       " 3       short\n",
       " 4       short\n",
       "         ...  \n",
       " 9993    short\n",
       " 9994    short\n",
       " 9995    short\n",
       " 9996    short\n",
       " 9998    short\n",
       " Name: 0, Length: 7207, dtype: category\n",
       " Categories (3, object): ['short' < 'medium' < 'long'],\n",
       " array([-0.0646    , 21.53333333, 43.06666667, 64.6       ]))"
      ]
     },
     "execution_count": 21,
     "metadata": {},
     "output_type": "execute_result"
    }
   ],
   "source": [
    "pd.cut(s[passenger_count == 1], \n",
    "       bins=3,\n",
    "       labels=['short', 'medium', 'long'], retbins=True)"
   ]
  },
  {
   "cell_type": "markdown",
   "id": "1c131199",
   "metadata": {},
   "source": [
    "`pd.cut` took the interval from `s.min()` to `s.max()`, divided it into three equal parts, and assigned those to be `short`, `medium`, and `long`. We can see, though, that this meant our `long` category is from 43 miles to 64.6 miles -- numerically one-third of the values' interval, but only including a handful of values!"
   ]
  }
 ],
 "metadata": {
  "kernelspec": {
   "display_name": "Python 3 (ipykernel)",
   "language": "python",
   "name": "python3"
  },
  "language_info": {
   "codemirror_mode": {
    "name": "ipython",
    "version": 3
   },
   "file_extension": ".py",
   "mimetype": "text/x-python",
   "name": "python",
   "nbconvert_exporter": "python",
   "pygments_lexer": "ipython3",
   "version": "3.10.6"
  }
 },
 "nbformat": 4,
 "nbformat_minor": 5
}

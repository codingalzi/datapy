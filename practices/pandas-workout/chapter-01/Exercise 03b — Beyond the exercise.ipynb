{
 "cells": [
  {
   "cell_type": "code",
   "execution_count": 1,
   "metadata": {},
   "outputs": [
    {
     "data": {
      "text/plain": [
       "0    2732\n",
       "1    9845\n",
       "2    3264\n",
       "3    4859\n",
       "4    9225\n",
       "5    7891\n",
       "6    4373\n",
       "7    5874\n",
       "8    6744\n",
       "9    3468\n",
       "dtype: int64"
      ]
     },
     "execution_count": 1,
     "metadata": {},
     "output_type": "execute_result"
    }
   ],
   "source": [
    "import numpy as np\n",
    "import pandas as pd\n",
    "from pandas import Series, DataFrame\n",
    "\n",
    "np.random.seed(0)\n",
    "\n",
    "s = Series(np.random.randint(0, 10000, 10))\n",
    "s"
   ]
  },
  {
   "cell_type": "markdown",
   "metadata": {},
   "source": [
    "# Beyond 1\n",
    "\n",
    "What if the range were from 0 - 10,000? How would that change your strategy, if at all?"
   ]
  },
  {
   "cell_type": "code",
   "execution_count": 2,
   "metadata": {
    "scrolled": true
   },
   "outputs": [
    {
     "data": {
      "text/plain": [
       "0    3\n",
       "1    4\n",
       "2    6\n",
       "3    5\n",
       "4    2\n",
       "5    9\n",
       "6    7\n",
       "7    7\n",
       "8    4\n",
       "9    6\n",
       "dtype: int8"
      ]
     },
     "execution_count": 2,
     "metadata": {},
     "output_type": "execute_result"
    }
   ],
   "source": [
    "# Our string strategy will work just fine here! If none of the numbers\n",
    "# are <10, then we can even remove the call to \"fillna\", but I think that \n",
    "# it's wiser to keep that around.\n",
    "\n",
    "s.astype(str).str.get(-2).fillna('0').astype(np.int8)\n"
   ]
  },
  {
   "cell_type": "markdown",
   "metadata": {},
   "source": [
    "# Beyond 2\n",
    "\n",
    "Given a range from 0 to 10,000, what's the smallest `dtype` we could use for our integers?"
   ]
  },
  {
   "cell_type": "code",
   "execution_count": 3,
   "metadata": {},
   "outputs": [
    {
     "name": "stdout",
     "output_type": "stream",
     "text": [
      "2732 9845\n"
     ]
    }
   ],
   "source": [
    "# Let's find the min and max values for our series:\n",
    "\n",
    "print(s.min(), s.max())"
   ]
  },
  {
   "cell_type": "code",
   "execution_count": 4,
   "metadata": {},
   "outputs": [
    {
     "data": {
      "text/plain": [
       "0    -84\n",
       "1    117\n",
       "2    -64\n",
       "3     -5\n",
       "4      9\n",
       "5    -45\n",
       "6     21\n",
       "7    -14\n",
       "8     88\n",
       "9   -116\n",
       "dtype: int8"
      ]
     },
     "execution_count": 4,
     "metadata": {},
     "output_type": "execute_result"
    }
   ],
   "source": [
    "# What happens if we use int8?\n",
    "s.astype(np.int8)"
   ]
  },
  {
   "cell_type": "code",
   "execution_count": 5,
   "metadata": {},
   "outputs": [
    {
     "data": {
      "text/plain": [
       "0    172\n",
       "1    117\n",
       "2    192\n",
       "3    251\n",
       "4      9\n",
       "5    211\n",
       "6     21\n",
       "7    242\n",
       "8     88\n",
       "9    140\n",
       "dtype: uint8"
      ]
     },
     "execution_count": 5,
     "metadata": {},
     "output_type": "execute_result"
    }
   ],
   "source": [
    "# What happens if we use uint8?\n",
    "s.astype(np.uint8)"
   ]
  },
  {
   "cell_type": "code",
   "execution_count": 6,
   "metadata": {},
   "outputs": [
    {
     "data": {
      "text/plain": [
       "0    2732\n",
       "1    9845\n",
       "2    3264\n",
       "3    4859\n",
       "4    9225\n",
       "5    7891\n",
       "6    4373\n",
       "7    5874\n",
       "8    6744\n",
       "9    3468\n",
       "dtype: int16"
      ]
     },
     "execution_count": 6,
     "metadata": {},
     "output_type": "execute_result"
    }
   ],
   "source": [
    "# So it seems we really need to use either np.int16 or np.uint16 to avoid problems!\n",
    "s.astype(np.int16)"
   ]
  },
  {
   "cell_type": "markdown",
   "metadata": {},
   "source": [
    "# Beyond 3\n",
    "\n",
    "Create a new series, with 10 floating-point values between 0 and 1,000. Find the numbers whose integer component (i.e., ignoring any fractional part) are even."
   ]
  },
  {
   "cell_type": "code",
   "execution_count": 7,
   "metadata": {},
   "outputs": [
    {
     "data": {
      "text/plain": [
       "0    383.441519\n",
       "1    791.725038\n",
       "2    528.894920\n",
       "3    568.044561\n",
       "4    925.596638\n",
       "5     71.036058\n",
       "6     87.129300\n",
       "7     20.218397\n",
       "8    832.619846\n",
       "9    778.156751\n",
       "dtype: float64"
      ]
     },
     "execution_count": 7,
     "metadata": {},
     "output_type": "execute_result"
    }
   ],
   "source": [
    "# First, create the series\n",
    "s = Series(np.random.rand(10) * 1000)\n",
    "s"
   ]
  },
  {
   "cell_type": "code",
   "execution_count": 8,
   "metadata": {},
   "outputs": [
    {
     "data": {
      "text/plain": [
       "2    528.894920\n",
       "3    568.044561\n",
       "7     20.218397\n",
       "8    832.619846\n",
       "9    778.156751\n",
       "dtype: float64"
      ]
     },
     "execution_count": 8,
     "metadata": {},
     "output_type": "execute_result"
    }
   ],
   "source": [
    "# Get the modulus (dividing by 2) of the int version of the numbers\n",
    "# Check which results are 0, and use that as a mask index on s\n",
    "\n",
    "s[s.astype(np.int64) % 2 == 0]"
   ]
  },
  {
   "cell_type": "code",
   "execution_count": null,
   "metadata": {},
   "outputs": [],
   "source": []
  }
 ],
 "metadata": {
  "kernelspec": {
   "display_name": "Python 3 (ipykernel)",
   "language": "python",
   "name": "python3"
  },
  "language_info": {
   "codemirror_mode": {
    "name": "ipython",
    "version": 3
   },
   "file_extension": ".py",
   "mimetype": "text/x-python",
   "name": "python",
   "nbconvert_exporter": "python",
   "pygments_lexer": "ipython3",
   "version": "3.10.6"
  }
 },
 "nbformat": 4,
 "nbformat_minor": 4
}

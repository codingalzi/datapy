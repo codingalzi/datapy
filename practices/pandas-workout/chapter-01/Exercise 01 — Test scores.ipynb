{
 "cells": [
  {
   "cell_type": "code",
   "execution_count": 1,
   "metadata": {},
   "outputs": [],
   "source": [
    "import numpy as np\n",
    "import pandas as pd\n",
    "from pandas import Series, DataFrame\n",
    "\n"
   ]
  },
  {
   "cell_type": "code",
   "execution_count": 2,
   "metadata": {},
   "outputs": [
    {
     "data": {
      "text/plain": [
       "Sep    82\n",
       "Oct    85\n",
       "Nov    91\n",
       "Dec    70\n",
       "Jan    73\n",
       "Feb    97\n",
       "Mar    73\n",
       "Apr    77\n",
       "May    79\n",
       "Jun    89\n",
       "dtype: int64"
      ]
     },
     "execution_count": 2,
     "metadata": {},
     "output_type": "execute_result"
    }
   ],
   "source": [
    "np.random.seed(0)\n",
    "\n",
    "months = 'Sep Oct Nov Dec Jan Feb Mar Apr May Jun'.split()\n",
    "\n",
    "s = Series(np.random.randint(70, 101, 10),\n",
    "          index=months)\n",
    "s"
   ]
  },
  {
   "cell_type": "code",
   "execution_count": 3,
   "metadata": {},
   "outputs": [
    {
     "name": "stdout",
     "output_type": "stream",
     "text": [
      "Entire year average: 81.6\n"
     ]
    }
   ],
   "source": [
    "print(f'Entire year average: {s.mean()}')"
   ]
  },
  {
   "cell_type": "code",
   "execution_count": 4,
   "metadata": {
    "scrolled": true
   },
   "outputs": [
    {
     "name": "stdout",
     "output_type": "stream",
     "text": [
      "Yearly average: 81.6\n",
      "First half average: 80.2\n",
      "Second half average: 83.0\n",
      "Improvement: 2.799999999999997\n"
     ]
    }
   ],
   "source": [
    "first_half_average = s['Sep':'Jan'].mean()\n",
    "second_half_average = s['Feb':'Jun'].mean()\n",
    "\n",
    "print(f'Yearly average: {s.mean()}')\n",
    "\n",
    "print(f'First half average: {first_half_average}')\n",
    "print(f'Second half average: {second_half_average}')\n",
    "\n",
    "print(f'Improvement: {second_half_average - first_half_average}')"
   ]
  },
  {
   "cell_type": "code",
   "execution_count": null,
   "metadata": {},
   "outputs": [],
   "source": []
  }
 ],
 "metadata": {
  "kernelspec": {
   "display_name": "Python 3 (ipykernel)",
   "language": "python",
   "name": "python3"
  },
  "language_info": {
   "codemirror_mode": {
    "name": "ipython",
    "version": 3
   },
   "file_extension": ".py",
   "mimetype": "text/x-python",
   "name": "python",
   "nbconvert_exporter": "python",
   "pygments_lexer": "ipython3",
   "version": "3.10.6"
  }
 },
 "nbformat": 4,
 "nbformat_minor": 4
}

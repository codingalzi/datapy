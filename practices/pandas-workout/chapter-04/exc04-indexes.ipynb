{
 "cells": [
  {
   "cell_type": "code",
   "execution_count": 1,
   "id": "14e33d20",
   "metadata": {},
   "outputs": [],
   "source": [
    "import pandas as pd"
   ]
  },
  {
   "cell_type": "markdown",
   "id": "f3a08c3e",
   "metadata": {},
   "source": [
    "**문제 1**"
   ]
  },
  {
   "cell_type": "markdown",
   "id": "efb4f2e1",
   "metadata": {},
   "source": [
    "원본 csv 파일 다운로드: https://www.manning.com/books/pandas-workout"
   ]
  },
  {
   "cell_type": "code",
   "execution_count": 2,
   "id": "c39f4b5b",
   "metadata": {},
   "outputs": [
    {
     "data": {
      "text/plain": [
       "Index(['Plate ID', 'Registration State', 'Issue Date', 'Vehicle Make',\n",
       "       'Street Name', 'Date First Observed', 'Vehicle Color'],\n",
       "      dtype='object')"
      ]
     },
     "execution_count": 2,
     "metadata": {},
     "output_type": "execute_result"
    }
   ],
   "source": [
    "filename = '../data/nyc-parking-violations-2020-min.csv'\n",
    "\n",
    "df = pd.read_csv(filename,\n",
    "                usecols=['Date First Observed', 'Plate ID', 'Registration State',\n",
    "                        'Issue Date', 'Vehicle Make', 'Street Name', 'Vehicle Color'])\n",
    "df.columns"
   ]
  },
  {
   "cell_type": "code",
   "execution_count": 3,
   "id": "07128d78",
   "metadata": {},
   "outputs": [
    {
     "data": {
      "text/html": [
       "<div>\n",
       "<style scoped>\n",
       "    .dataframe tbody tr th:only-of-type {\n",
       "        vertical-align: middle;\n",
       "    }\n",
       "\n",
       "    .dataframe tbody tr th {\n",
       "        vertical-align: top;\n",
       "    }\n",
       "\n",
       "    .dataframe thead th {\n",
       "        text-align: right;\n",
       "    }\n",
       "</style>\n",
       "<table border=\"1\" class=\"dataframe\">\n",
       "  <thead>\n",
       "    <tr style=\"text-align: right;\">\n",
       "      <th></th>\n",
       "      <th>Plate ID</th>\n",
       "      <th>Registration State</th>\n",
       "      <th>Issue Date</th>\n",
       "      <th>Vehicle Make</th>\n",
       "      <th>Street Name</th>\n",
       "      <th>Date First Observed</th>\n",
       "      <th>Vehicle Color</th>\n",
       "    </tr>\n",
       "  </thead>\n",
       "  <tbody>\n",
       "    <tr>\n",
       "      <th>0</th>\n",
       "      <td>C15KHR</td>\n",
       "      <td>NJ</td>\n",
       "      <td>01/23/2020 12:00:00 AM</td>\n",
       "      <td>NISSA</td>\n",
       "      <td>Park Ave</td>\n",
       "      <td>0</td>\n",
       "      <td>BLACK</td>\n",
       "    </tr>\n",
       "    <tr>\n",
       "      <th>1</th>\n",
       "      <td>JET2329</td>\n",
       "      <td>NY</td>\n",
       "      <td>03/09/2020 12:00:00 AM</td>\n",
       "      <td>CHEVR</td>\n",
       "      <td>Ericson Pl</td>\n",
       "      <td>0</td>\n",
       "      <td>DKG</td>\n",
       "    </tr>\n",
       "    <tr>\n",
       "      <th>2</th>\n",
       "      <td>HTW7066</td>\n",
       "      <td>NY</td>\n",
       "      <td>04/03/2020 12:00:00 AM</td>\n",
       "      <td>LEXUS</td>\n",
       "      <td>NB MCGUINNESS BLVD @</td>\n",
       "      <td>0</td>\n",
       "      <td>GY</td>\n",
       "    </tr>\n",
       "    <tr>\n",
       "      <th>3</th>\n",
       "      <td>22105ME</td>\n",
       "      <td>NY</td>\n",
       "      <td>08/30/2019 12:00:00 AM</td>\n",
       "      <td>INTER</td>\n",
       "      <td>E 59th St</td>\n",
       "      <td>0</td>\n",
       "      <td>WH</td>\n",
       "    </tr>\n",
       "    <tr>\n",
       "      <th>4</th>\n",
       "      <td>HRD6376</td>\n",
       "      <td>NY</td>\n",
       "      <td>04/23/2020 12:00:00 AM</td>\n",
       "      <td>HONDA</td>\n",
       "      <td>SB RICHMOND RD @ NAR</td>\n",
       "      <td>0</td>\n",
       "      <td>BK</td>\n",
       "    </tr>\n",
       "    <tr>\n",
       "      <th>...</th>\n",
       "      <td>...</td>\n",
       "      <td>...</td>\n",
       "      <td>...</td>\n",
       "      <td>...</td>\n",
       "      <td>...</td>\n",
       "      <td>...</td>\n",
       "      <td>...</td>\n",
       "    </tr>\n",
       "    <tr>\n",
       "      <th>24987</th>\n",
       "      <td>520878R</td>\n",
       "      <td>NJ</td>\n",
       "      <td>12/19/2019 12:00:00 AM</td>\n",
       "      <td>HONDA</td>\n",
       "      <td>President St</td>\n",
       "      <td>0</td>\n",
       "      <td>GREY</td>\n",
       "    </tr>\n",
       "    <tr>\n",
       "      <th>24988</th>\n",
       "      <td>20238ML</td>\n",
       "      <td>NY</td>\n",
       "      <td>08/30/2019 12:00:00 AM</td>\n",
       "      <td>FORD</td>\n",
       "      <td>3rd Ave</td>\n",
       "      <td>20190830</td>\n",
       "      <td>WH</td>\n",
       "    </tr>\n",
       "    <tr>\n",
       "      <th>24989</th>\n",
       "      <td>CKV1282</td>\n",
       "      <td>NY</td>\n",
       "      <td>09/12/2019 12:00:00 AM</td>\n",
       "      <td>NISSA</td>\n",
       "      <td>82ND AVENUE</td>\n",
       "      <td>0</td>\n",
       "      <td>GRAY</td>\n",
       "    </tr>\n",
       "    <tr>\n",
       "      <th>24990</th>\n",
       "      <td>GZL9718</td>\n",
       "      <td>NY</td>\n",
       "      <td>07/09/2019 12:00:00 AM</td>\n",
       "      <td>JEEP</td>\n",
       "      <td>E 175th St</td>\n",
       "      <td>0</td>\n",
       "      <td>WH</td>\n",
       "    </tr>\n",
       "    <tr>\n",
       "      <th>24991</th>\n",
       "      <td>PAPAJOE4</td>\n",
       "      <td>NY</td>\n",
       "      <td>11/11/2019 12:00:00 AM</td>\n",
       "      <td>ACURA</td>\n",
       "      <td>SB BELL BLVD @ 18TH</td>\n",
       "      <td>0</td>\n",
       "      <td>BK</td>\n",
       "    </tr>\n",
       "  </tbody>\n",
       "</table>\n",
       "<p>24992 rows × 7 columns</p>\n",
       "</div>"
      ],
      "text/plain": [
       "       Plate ID Registration State              Issue Date Vehicle Make  \\\n",
       "0        C15KHR                 NJ  01/23/2020 12:00:00 AM        NISSA   \n",
       "1       JET2329                 NY  03/09/2020 12:00:00 AM        CHEVR   \n",
       "2       HTW7066                 NY  04/03/2020 12:00:00 AM        LEXUS   \n",
       "3       22105ME                 NY  08/30/2019 12:00:00 AM        INTER   \n",
       "4       HRD6376                 NY  04/23/2020 12:00:00 AM        HONDA   \n",
       "...         ...                ...                     ...          ...   \n",
       "24987   520878R                 NJ  12/19/2019 12:00:00 AM        HONDA   \n",
       "24988   20238ML                 NY  08/30/2019 12:00:00 AM         FORD   \n",
       "24989   CKV1282                 NY  09/12/2019 12:00:00 AM        NISSA   \n",
       "24990   GZL9718                 NY  07/09/2019 12:00:00 AM         JEEP   \n",
       "24991  PAPAJOE4                 NY  11/11/2019 12:00:00 AM        ACURA   \n",
       "\n",
       "                Street Name  Date First Observed Vehicle Color  \n",
       "0                  Park Ave                    0         BLACK  \n",
       "1                Ericson Pl                    0           DKG  \n",
       "2      NB MCGUINNESS BLVD @                    0            GY  \n",
       "3                 E 59th St                    0            WH  \n",
       "4      SB RICHMOND RD @ NAR                    0            BK  \n",
       "...                     ...                  ...           ...  \n",
       "24987          President St                    0          GREY  \n",
       "24988               3rd Ave             20190830            WH  \n",
       "24989           82ND AVENUE                    0          GRAY  \n",
       "24990            E 175th St                    0            WH  \n",
       "24991   SB BELL BLVD @ 18TH                    0            BK  \n",
       "\n",
       "[24992 rows x 7 columns]"
      ]
     },
     "execution_count": 3,
     "metadata": {},
     "output_type": "execute_result"
    }
   ],
   "source": [
    "df"
   ]
  },
  {
   "cell_type": "code",
   "execution_count": 4,
   "id": "49694ffb",
   "metadata": {},
   "outputs": [],
   "source": [
    "# set the index to the \"Issue Date\" column\n",
    "df = df.set_index('Issue Date')"
   ]
  },
  {
   "cell_type": "code",
   "execution_count": 5,
   "id": "cf8f5878",
   "metadata": {},
   "outputs": [
    {
     "data": {
      "text/plain": [
       "NISSA    9\n",
       "FORD     7\n",
       "TOYOT    6\n",
       "Name: Vehicle Make, dtype: int64"
      ]
     },
     "execution_count": 5,
     "metadata": {},
     "output_type": "execute_result"
    }
   ],
   "source": [
    "# what three vehicle makes were most likely to be ticketed on January 2nd?\n",
    "df.loc['01/02/2020 12:00:00 AM', 'Vehicle Make'].value_counts().head(3)"
   ]
  },
  {
   "cell_type": "code",
   "execution_count": 6,
   "id": "6c0b9815",
   "metadata": {},
   "outputs": [
    {
     "data": {
      "text/plain": [
       "WB ATLANTIC AVE @ SH    2\n",
       "WB LINDEN BLVD @ ROC    2\n",
       "SB FRANCIS LEWIS BLV    2\n",
       "WB GOETHALS RD N @ J    2\n",
       "WB ATLANTIC AVE @ CL    1\n",
       "Name: Street Name, dtype: int64"
      ]
     },
     "execution_count": 6,
     "metadata": {},
     "output_type": "execute_result"
    }
   ],
   "source": [
    "# On what five streets were cars most likely to be ticketed on June 1st, 2020?\n",
    "df.loc['06/01/2020 12:00:00 AM', 'Street Name'].value_counts().head(5)"
   ]
  },
  {
   "cell_type": "code",
   "execution_count": 7,
   "id": "59345d9c",
   "metadata": {},
   "outputs": [],
   "source": [
    "# change the index to be \"Vehicle Color\"\n",
    "df = df.reset_index().set_index('Vehicle Color')"
   ]
  },
  {
   "cell_type": "code",
   "execution_count": 8,
   "id": "8ff26603",
   "metadata": {},
   "outputs": [
    {
     "data": {
      "text/plain": [
       "HONDA    69\n",
       "Name: Vehicle Make, dtype: int64"
      ]
     },
     "execution_count": 8,
     "metadata": {},
     "output_type": "execute_result"
    }
   ],
   "source": [
    "# What was the most common make of ticketed cars that were either blue or red?\n",
    "df.loc[['BLUE', 'RED'], 'Vehicle Make'].value_counts().head(1)"
   ]
  },
  {
   "cell_type": "markdown",
   "id": "f8935c95",
   "metadata": {},
   "source": [
    "# Beyond 1\n",
    "\n",
    "What were the three most commonly ticket car makes to be issued tickets on January 2nd through January 10th?"
   ]
  },
  {
   "cell_type": "code",
   "execution_count": 9,
   "id": "bb2b9b85",
   "metadata": {},
   "outputs": [],
   "source": [
    "# set the index to the \"Issue Date\" column\n",
    "df = df.set_index('Issue Date')"
   ]
  },
  {
   "cell_type": "code",
   "execution_count": 10,
   "id": "ca9c4f95",
   "metadata": {},
   "outputs": [],
   "source": [
    "# We can use a slice, but only after sorting the index from lo\n",
    "df = df.sort_index()"
   ]
  },
  {
   "cell_type": "code",
   "execution_count": 11,
   "id": "cc960254",
   "metadata": {},
   "outputs": [
    {
     "data": {
      "text/html": [
       "<div>\n",
       "<style scoped>\n",
       "    .dataframe tbody tr th:only-of-type {\n",
       "        vertical-align: middle;\n",
       "    }\n",
       "\n",
       "    .dataframe tbody tr th {\n",
       "        vertical-align: top;\n",
       "    }\n",
       "\n",
       "    .dataframe thead th {\n",
       "        text-align: right;\n",
       "    }\n",
       "</style>\n",
       "<table border=\"1\" class=\"dataframe\">\n",
       "  <thead>\n",
       "    <tr style=\"text-align: right;\">\n",
       "      <th></th>\n",
       "      <th>Plate ID</th>\n",
       "      <th>Registration State</th>\n",
       "      <th>Vehicle Make</th>\n",
       "      <th>Street Name</th>\n",
       "      <th>Date First Observed</th>\n",
       "    </tr>\n",
       "    <tr>\n",
       "      <th>Issue Date</th>\n",
       "      <th></th>\n",
       "      <th></th>\n",
       "      <th></th>\n",
       "      <th></th>\n",
       "      <th></th>\n",
       "    </tr>\n",
       "  </thead>\n",
       "  <tbody>\n",
       "    <tr>\n",
       "      <th>01/01/2020 12:00:00 AM</th>\n",
       "      <td>HHT6914</td>\n",
       "      <td>NY</td>\n",
       "      <td>KIA</td>\n",
       "      <td>111 AVE</td>\n",
       "      <td>0</td>\n",
       "    </tr>\n",
       "    <tr>\n",
       "      <th>01/01/2020 12:00:00 AM</th>\n",
       "      <td>T672382C</td>\n",
       "      <td>NY</td>\n",
       "      <td>TOYOT</td>\n",
       "      <td>SB 2 Avenue @ E 101</td>\n",
       "      <td>0</td>\n",
       "    </tr>\n",
       "    <tr>\n",
       "      <th>01/01/2020 12:00:00 AM</th>\n",
       "      <td>HFS8244</td>\n",
       "      <td>NY</td>\n",
       "      <td>HYUND</td>\n",
       "      <td>CADMAN PLAZA (E/B) @</td>\n",
       "      <td>0</td>\n",
       "    </tr>\n",
       "    <tr>\n",
       "      <th>01/01/2020 12:00:00 AM</th>\n",
       "      <td>KXL1710</td>\n",
       "      <td>PA</td>\n",
       "      <td>TOYOT</td>\n",
       "      <td>EAST 21 STREET</td>\n",
       "      <td>0</td>\n",
       "    </tr>\n",
       "    <tr>\n",
       "      <th>01/02/2020 12:00:00 AM</th>\n",
       "      <td>GJE1053</td>\n",
       "      <td>NY</td>\n",
       "      <td>CADI</td>\n",
       "      <td>E/S 107TH STREET</td>\n",
       "      <td>0</td>\n",
       "    </tr>\n",
       "    <tr>\n",
       "      <th>...</th>\n",
       "      <td>...</td>\n",
       "      <td>...</td>\n",
       "      <td>...</td>\n",
       "      <td>...</td>\n",
       "      <td>...</td>\n",
       "    </tr>\n",
       "    <tr>\n",
       "      <th>12/31/2019 12:00:00 AM</th>\n",
       "      <td>FPF2427</td>\n",
       "      <td>NY</td>\n",
       "      <td>AUDI</td>\n",
       "      <td>SB ROCKAWAY PKWY @ A</td>\n",
       "      <td>0</td>\n",
       "    </tr>\n",
       "    <tr>\n",
       "      <th>12/31/2019 12:00:00 AM</th>\n",
       "      <td>4H93A2</td>\n",
       "      <td>TN</td>\n",
       "      <td>TOYOT</td>\n",
       "      <td>59th St</td>\n",
       "      <td>0</td>\n",
       "    </tr>\n",
       "    <tr>\n",
       "      <th>12/31/2019 12:00:00 AM</th>\n",
       "      <td>JHJ2790</td>\n",
       "      <td>NY</td>\n",
       "      <td>INFIN</td>\n",
       "      <td>EB JAMAICA AVE @ 193</td>\n",
       "      <td>0</td>\n",
       "    </tr>\n",
       "    <tr>\n",
       "      <th>12/31/2019 12:00:00 AM</th>\n",
       "      <td>768RRX</td>\n",
       "      <td>CT</td>\n",
       "      <td>FORD</td>\n",
       "      <td>E 3rd St</td>\n",
       "      <td>0</td>\n",
       "    </tr>\n",
       "    <tr>\n",
       "      <th>12/31/2019 12:00:00 AM</th>\n",
       "      <td>GYG7256</td>\n",
       "      <td>NY</td>\n",
       "      <td>HYUND</td>\n",
       "      <td>EB LINDEN BLVD @ HEM</td>\n",
       "      <td>0</td>\n",
       "    </tr>\n",
       "  </tbody>\n",
       "</table>\n",
       "<p>24992 rows × 5 columns</p>\n",
       "</div>"
      ],
      "text/plain": [
       "                        Plate ID Registration State Vehicle Make  \\\n",
       "Issue Date                                                         \n",
       "01/01/2020 12:00:00 AM   HHT6914                 NY          KIA   \n",
       "01/01/2020 12:00:00 AM  T672382C                 NY        TOYOT   \n",
       "01/01/2020 12:00:00 AM   HFS8244                 NY        HYUND   \n",
       "01/01/2020 12:00:00 AM   KXL1710                 PA        TOYOT   \n",
       "01/02/2020 12:00:00 AM   GJE1053                 NY         CADI   \n",
       "...                          ...                ...          ...   \n",
       "12/31/2019 12:00:00 AM   FPF2427                 NY         AUDI   \n",
       "12/31/2019 12:00:00 AM    4H93A2                 TN        TOYOT   \n",
       "12/31/2019 12:00:00 AM   JHJ2790                 NY        INFIN   \n",
       "12/31/2019 12:00:00 AM    768RRX                 CT         FORD   \n",
       "12/31/2019 12:00:00 AM   GYG7256                 NY        HYUND   \n",
       "\n",
       "                                 Street Name  Date First Observed  \n",
       "Issue Date                                                         \n",
       "01/01/2020 12:00:00 AM               111 AVE                    0  \n",
       "01/01/2020 12:00:00 AM   SB 2 Avenue @ E 101                    0  \n",
       "01/01/2020 12:00:00 AM  CADMAN PLAZA (E/B) @                    0  \n",
       "01/01/2020 12:00:00 AM        EAST 21 STREET                    0  \n",
       "01/02/2020 12:00:00 AM      E/S 107TH STREET                    0  \n",
       "...                                      ...                  ...  \n",
       "12/31/2019 12:00:00 AM  SB ROCKAWAY PKWY @ A                    0  \n",
       "12/31/2019 12:00:00 AM               59th St                    0  \n",
       "12/31/2019 12:00:00 AM  EB JAMAICA AVE @ 193                    0  \n",
       "12/31/2019 12:00:00 AM              E 3rd St                    0  \n",
       "12/31/2019 12:00:00 AM  EB LINDEN BLVD @ HEM                    0  \n",
       "\n",
       "[24992 rows x 5 columns]"
      ]
     },
     "execution_count": 11,
     "metadata": {},
     "output_type": "execute_result"
    }
   ],
   "source": [
    "df"
   ]
  },
  {
   "cell_type": "code",
   "execution_count": 12,
   "id": "f4ed459b",
   "metadata": {
    "scrolled": true
   },
   "outputs": [
    {
     "data": {
      "text/plain": [
       "FORD     85\n",
       "HONDA    84\n",
       "TOYOT    68\n",
       "Name: Vehicle Make, dtype: int64"
      ]
     },
     "execution_count": 12,
     "metadata": {},
     "output_type": "execute_result"
    }
   ],
   "source": [
    "df.loc['01/02/2020 12:00:00 AM':'01/10/2020 12:00:00 AM', 'Vehicle Make'].value_counts().head(3)"
   ]
  },
  {
   "cell_type": "markdown",
   "id": "d88293df",
   "metadata": {},
   "source": [
    "# Beyond 2\n",
    "\n",
    "How many tickets did the second-most-ticketed car get in 2020?  (And why am I not interested in the most-ticketed plate?) What state was that car from, and was it always ticketed in the same location?"
   ]
  },
  {
   "cell_type": "code",
   "execution_count": 13,
   "id": "3256a6fa",
   "metadata": {
    "scrolled": true
   },
   "outputs": [
    {
     "data": {
      "text/plain": [
       "BLANKPLATE    15\n",
       "70702PC        6\n",
       "Name: Plate ID, dtype: int64"
      ]
     },
     "execution_count": 13,
     "metadata": {},
     "output_type": "execute_result"
    }
   ],
   "source": [
    "# Most common plate is... BLANKPLATE!\n",
    "# Second-most common is 2704819\n",
    "df = df.reset_index()\n",
    "df['Plate ID'].value_counts().head(2)"
   ]
  },
  {
   "cell_type": "code",
   "execution_count": 14,
   "id": "e4baa585",
   "metadata": {
    "scrolled": true
   },
   "outputs": [
    {
     "data": {
      "text/plain": [
       "Plate ID\n",
       "2704819    IN\n",
       "2704819    IN\n",
       "2704819    IN\n",
       "2704819    IN\n",
       "2704819    IN\n",
       "Name: Registration State, dtype: object"
      ]
     },
     "execution_count": 14,
     "metadata": {},
     "output_type": "execute_result"
    }
   ],
   "source": [
    "# It's from Indiana\n",
    "df = df.set_index('Plate ID')\n",
    "df.loc['2704819', 'Registration State']"
   ]
  },
  {
   "cell_type": "code",
   "execution_count": 15,
   "id": "b181d809",
   "metadata": {},
   "outputs": [
    {
     "data": {
      "text/plain": [
       "Broadway     1\n",
       "8 AVENUE     1\n",
       "7th Ave      1\n",
       "W 34th St    1\n",
       "8th Ave      1\n",
       "Name: Street Name, dtype: int64"
      ]
     },
     "execution_count": 15,
     "metadata": {},
     "output_type": "execute_result"
    }
   ],
   "source": [
    "# was it always ticketed in the same place?  No, but there were a lot in the same area...\n",
    "df.loc['2704819', 'Street Name'].value_counts()"
   ]
  },
  {
   "cell_type": "markdown",
   "id": "7d08b461",
   "metadata": {},
   "source": [
    "# Beyond 3\n",
    "\n",
    "Would it be useful to set the index to \"Date First Observed\"? Why or why not?"
   ]
  },
  {
   "cell_type": "code",
   "execution_count": 16,
   "id": "0d5f3b41",
   "metadata": {},
   "outputs": [
    {
     "data": {
      "text/plain": [
       "0           24744\n",
       "20200124        5\n",
       "20200316        4\n",
       "20190716        4\n",
       "20200305        4\n",
       "            ...  \n",
       "20190731        1\n",
       "20200307        1\n",
       "20190725        1\n",
       "20200309        1\n",
       "20191231        1\n",
       "Name: Date First Observed, Length: 163, dtype: int64"
      ]
     },
     "execution_count": 16,
     "metadata": {},
     "output_type": "execute_result"
    }
   ],
   "source": [
    "# Not very useful -- the value is set to 0 for 99% of the values!\n",
    "\n",
    "df = df.reset_index()\n",
    "df['Date First Observed'].value_counts()"
   ]
  },
  {
   "cell_type": "markdown",
   "id": "47c8dbfc",
   "metadata": {},
   "source": [
    "**문제 2**"
   ]
  },
  {
   "cell_type": "code",
   "execution_count": 17,
   "id": "48922de9",
   "metadata": {
    "scrolled": true
   },
   "outputs": [
    {
     "data": {
      "text/html": [
       "<div>\n",
       "<style scoped>\n",
       "    .dataframe tbody tr th:only-of-type {\n",
       "        vertical-align: middle;\n",
       "    }\n",
       "\n",
       "    .dataframe tbody tr th {\n",
       "        vertical-align: top;\n",
       "    }\n",
       "\n",
       "    .dataframe thead th {\n",
       "        text-align: right;\n",
       "    }\n",
       "</style>\n",
       "<table border=\"1\" class=\"dataframe\">\n",
       "  <thead>\n",
       "    <tr style=\"text-align: right;\">\n",
       "      <th></th>\n",
       "      <th></th>\n",
       "      <th>Total.Math</th>\n",
       "      <th>Total.Test-takers</th>\n",
       "      <th>Total.Verbal</th>\n",
       "    </tr>\n",
       "    <tr>\n",
       "      <th>Year</th>\n",
       "      <th>State.Code</th>\n",
       "      <th></th>\n",
       "      <th></th>\n",
       "      <th></th>\n",
       "    </tr>\n",
       "  </thead>\n",
       "  <tbody>\n",
       "    <tr>\n",
       "      <th rowspan=\"5\" valign=\"top\">2005</th>\n",
       "      <th>AL</th>\n",
       "      <td>559</td>\n",
       "      <td>3985</td>\n",
       "      <td>567</td>\n",
       "    </tr>\n",
       "    <tr>\n",
       "      <th>AK</th>\n",
       "      <td>519</td>\n",
       "      <td>3996</td>\n",
       "      <td>523</td>\n",
       "    </tr>\n",
       "    <tr>\n",
       "      <th>AZ</th>\n",
       "      <td>530</td>\n",
       "      <td>18184</td>\n",
       "      <td>526</td>\n",
       "    </tr>\n",
       "    <tr>\n",
       "      <th>AR</th>\n",
       "      <td>552</td>\n",
       "      <td>1600</td>\n",
       "      <td>563</td>\n",
       "    </tr>\n",
       "    <tr>\n",
       "      <th>CA</th>\n",
       "      <td>522</td>\n",
       "      <td>186552</td>\n",
       "      <td>504</td>\n",
       "    </tr>\n",
       "  </tbody>\n",
       "</table>\n",
       "</div>"
      ],
      "text/plain": [
       "                 Total.Math  Total.Test-takers  Total.Verbal\n",
       "Year State.Code                                             \n",
       "2005 AL                 559               3985           567\n",
       "     AK                 519               3996           523\n",
       "     AZ                 530              18184           526\n",
       "     AR                 552               1600           563\n",
       "     CA                 522             186552           504"
      ]
     },
     "execution_count": 17,
     "metadata": {},
     "output_type": "execute_result"
    }
   ],
   "source": [
    "filename = '../data/sat-scores.csv'\n",
    "\n",
    "df = pd.read_csv(filename,\n",
    "                usecols=['Year', 'State.Code', 'Total.Math', 'Total.Test-takers', 'Total.Verbal'],\n",
    "                index_col=['Year', 'State.Code'])\n",
    "df.head()"
   ]
  },
  {
   "cell_type": "code",
   "execution_count": 18,
   "id": "6e8dc66d",
   "metadata": {},
   "outputs": [
    {
     "data": {
      "text/plain": [
       "535.25"
      ]
     },
     "execution_count": 18,
     "metadata": {},
     "output_type": "execute_result"
    }
   ],
   "source": [
    "df.loc[(2010, ['NY', 'NJ', 'MA', 'IL']), 'Total.Math'].mean()"
   ]
  },
  {
   "cell_type": "code",
   "execution_count": 19,
   "id": "2384b5e8",
   "metadata": {},
   "outputs": [
    {
     "data": {
      "text/plain": [
       "1344824"
      ]
     },
     "execution_count": 19,
     "metadata": {},
     "output_type": "execute_result"
    }
   ],
   "source": [
    "# How many people took the SAT, total, in 2005?\n",
    "df.loc[2005, 'Total.Test-takers'].sum()"
   ]
  },
  {
   "cell_type": "code",
   "execution_count": 20,
   "id": "af4492d8",
   "metadata": {},
   "outputs": [
    {
     "data": {
      "text/plain": [
       "535.25"
      ]
     },
     "execution_count": 20,
     "metadata": {},
     "output_type": "execute_result"
    }
   ],
   "source": [
    "# What was the average SAT math score in 2010 from New York, New Jersey, Massachusetts, and Illinois?\n",
    "df.loc[(2010, ['NY', 'NJ', 'MA', 'IL']), 'Total.Math'].mean()"
   ]
  },
  {
   "cell_type": "code",
   "execution_count": 21,
   "id": "8bfe04df",
   "metadata": {},
   "outputs": [
    {
     "data": {
      "text/plain": [
       "511.5833333333333"
      ]
     },
     "execution_count": 21,
     "metadata": {},
     "output_type": "execute_result"
    }
   ],
   "source": [
    "# What was the average SAT verbal score in 2016-2018 from Arizona, California, and Texas?\n",
    "df.loc[([2012,2013,2014,2015], ['AZ', 'CA', 'TX']), 'Total.Math'].mean()"
   ]
  },
  {
   "cell_type": "markdown",
   "id": "6d822598",
   "metadata": {},
   "source": [
    "# Beyond 1\n",
    "\n",
    "What were the average math and verbal scores for Florida, Indiana, and Idaho across all years? (You don't break out the values by state.)"
   ]
  },
  {
   "cell_type": "code",
   "execution_count": 22,
   "id": "e2d10717",
   "metadata": {
    "scrolled": true
   },
   "outputs": [
    {
     "data": {
      "text/plain": [
       "Total.Math      507.090909\n",
       "Total.Verbal    504.606061\n",
       "dtype: float64"
      ]
     },
     "execution_count": 22,
     "metadata": {},
     "output_type": "execute_result"
    }
   ],
   "source": [
    "df.loc[(slice(None), ['FL', 'IN', 'ID']), ['Total.Math', 'Total.Verbal']].mean()"
   ]
  },
  {
   "cell_type": "markdown",
   "id": "eba7a976",
   "metadata": {},
   "source": [
    "# Beyond 2\n",
    "\n",
    "Which state received the highest verbal score, and in which year?"
   ]
  },
  {
   "cell_type": "code",
   "execution_count": 23,
   "id": "4b4c57b6",
   "metadata": {
    "scrolled": true
   },
   "outputs": [
    {
     "data": {
      "text/html": [
       "<div>\n",
       "<style scoped>\n",
       "    .dataframe tbody tr th:only-of-type {\n",
       "        vertical-align: middle;\n",
       "    }\n",
       "\n",
       "    .dataframe tbody tr th {\n",
       "        vertical-align: top;\n",
       "    }\n",
       "\n",
       "    .dataframe thead th {\n",
       "        text-align: right;\n",
       "    }\n",
       "</style>\n",
       "<table border=\"1\" class=\"dataframe\">\n",
       "  <thead>\n",
       "    <tr style=\"text-align: right;\">\n",
       "      <th></th>\n",
       "      <th></th>\n",
       "      <th>Total.Math</th>\n",
       "      <th>Total.Test-takers</th>\n",
       "      <th>Total.Verbal</th>\n",
       "    </tr>\n",
       "    <tr>\n",
       "      <th>Year</th>\n",
       "      <th>State.Code</th>\n",
       "      <th></th>\n",
       "      <th></th>\n",
       "      <th></th>\n",
       "    </tr>\n",
       "  </thead>\n",
       "  <tbody>\n",
       "    <tr>\n",
       "      <th>2013</th>\n",
       "      <th>ND</th>\n",
       "      <td>613</td>\n",
       "      <td>174</td>\n",
       "      <td>612</td>\n",
       "    </tr>\n",
       "  </tbody>\n",
       "</table>\n",
       "</div>"
      ],
      "text/plain": [
       "                 Total.Math  Total.Test-takers  Total.Verbal\n",
       "Year State.Code                                             \n",
       "2013 ND                 613                174           612"
      ]
     },
     "execution_count": 23,
     "metadata": {},
     "output_type": "execute_result"
    }
   ],
   "source": [
    "df[df['Total.Verbal'] == df['Total.Verbal'].max()]"
   ]
  },
  {
   "cell_type": "markdown",
   "id": "bddf65f4",
   "metadata": {},
   "source": [
    "# Beyond 3\n",
    "\n",
    "Was the average math score in 2005 higher or lower than that in 2015?"
   ]
  },
  {
   "cell_type": "code",
   "execution_count": 24,
   "id": "211ffbb5",
   "metadata": {},
   "outputs": [
    {
     "data": {
      "text/plain": [
       "2.559506531204647"
      ]
     },
     "execution_count": 24,
     "metadata": {},
     "output_type": "execute_result"
    }
   ],
   "source": [
    "# when we have a multi-index, we can ignore the second level \n",
    "df.loc[2005, 'Total.Math'].mean() - df.loc[2015, 'Total.Math'].mean()"
   ]
  },
  {
   "cell_type": "markdown",
   "id": "701dc28d",
   "metadata": {},
   "source": [
    "**문제 3**"
   ]
  },
  {
   "cell_type": "code",
   "execution_count": 25,
   "id": "a99005d9",
   "metadata": {
    "scrolled": false
   },
   "outputs": [],
   "source": [
    "filename = '../data/olympic_athlete_events.csv'\n",
    "\n",
    "df = pd.read_csv(filename)"
   ]
  },
  {
   "cell_type": "code",
   "execution_count": 26,
   "id": "b30b685c",
   "metadata": {},
   "outputs": [
    {
     "data": {
      "text/html": [
       "<div>\n",
       "<style scoped>\n",
       "    .dataframe tbody tr th:only-of-type {\n",
       "        vertical-align: middle;\n",
       "    }\n",
       "\n",
       "    .dataframe tbody tr th {\n",
       "        vertical-align: top;\n",
       "    }\n",
       "\n",
       "    .dataframe thead th {\n",
       "        text-align: right;\n",
       "    }\n",
       "</style>\n",
       "<table border=\"1\" class=\"dataframe\">\n",
       "  <thead>\n",
       "    <tr style=\"text-align: right;\">\n",
       "      <th></th>\n",
       "      <th>ID</th>\n",
       "      <th>Name</th>\n",
       "      <th>Sex</th>\n",
       "      <th>Age</th>\n",
       "      <th>Height</th>\n",
       "      <th>Weight</th>\n",
       "      <th>Team</th>\n",
       "      <th>NOC</th>\n",
       "      <th>Games</th>\n",
       "      <th>Year</th>\n",
       "      <th>Season</th>\n",
       "      <th>City</th>\n",
       "      <th>Sport</th>\n",
       "      <th>Event</th>\n",
       "      <th>Medal</th>\n",
       "    </tr>\n",
       "  </thead>\n",
       "  <tbody>\n",
       "    <tr>\n",
       "      <th>0</th>\n",
       "      <td>1</td>\n",
       "      <td>A Dijiang</td>\n",
       "      <td>M</td>\n",
       "      <td>24.0</td>\n",
       "      <td>180.0</td>\n",
       "      <td>80.0</td>\n",
       "      <td>China</td>\n",
       "      <td>CHN</td>\n",
       "      <td>1992 Summer</td>\n",
       "      <td>1992</td>\n",
       "      <td>Summer</td>\n",
       "      <td>Barcelona</td>\n",
       "      <td>Basketball</td>\n",
       "      <td>Basketball Men's Basketball</td>\n",
       "      <td>NaN</td>\n",
       "    </tr>\n",
       "    <tr>\n",
       "      <th>1</th>\n",
       "      <td>2</td>\n",
       "      <td>A Lamusi</td>\n",
       "      <td>M</td>\n",
       "      <td>23.0</td>\n",
       "      <td>170.0</td>\n",
       "      <td>60.0</td>\n",
       "      <td>China</td>\n",
       "      <td>CHN</td>\n",
       "      <td>2012 Summer</td>\n",
       "      <td>2012</td>\n",
       "      <td>Summer</td>\n",
       "      <td>London</td>\n",
       "      <td>Judo</td>\n",
       "      <td>Judo Men's Extra-Lightweight</td>\n",
       "      <td>NaN</td>\n",
       "    </tr>\n",
       "    <tr>\n",
       "      <th>2</th>\n",
       "      <td>3</td>\n",
       "      <td>Gunnar Nielsen Aaby</td>\n",
       "      <td>M</td>\n",
       "      <td>24.0</td>\n",
       "      <td>NaN</td>\n",
       "      <td>NaN</td>\n",
       "      <td>Denmark</td>\n",
       "      <td>DEN</td>\n",
       "      <td>1920 Summer</td>\n",
       "      <td>1920</td>\n",
       "      <td>Summer</td>\n",
       "      <td>Antwerpen</td>\n",
       "      <td>Football</td>\n",
       "      <td>Football Men's Football</td>\n",
       "      <td>NaN</td>\n",
       "    </tr>\n",
       "    <tr>\n",
       "      <th>3</th>\n",
       "      <td>4</td>\n",
       "      <td>Edgar Lindenau Aabye</td>\n",
       "      <td>M</td>\n",
       "      <td>34.0</td>\n",
       "      <td>NaN</td>\n",
       "      <td>NaN</td>\n",
       "      <td>Denmark/Sweden</td>\n",
       "      <td>DEN</td>\n",
       "      <td>1900 Summer</td>\n",
       "      <td>1900</td>\n",
       "      <td>Summer</td>\n",
       "      <td>Paris</td>\n",
       "      <td>Tug-Of-War</td>\n",
       "      <td>Tug-Of-War Men's Tug-Of-War</td>\n",
       "      <td>Gold</td>\n",
       "    </tr>\n",
       "    <tr>\n",
       "      <th>4</th>\n",
       "      <td>5</td>\n",
       "      <td>Christine Jacoba Aaftink</td>\n",
       "      <td>F</td>\n",
       "      <td>21.0</td>\n",
       "      <td>185.0</td>\n",
       "      <td>82.0</td>\n",
       "      <td>Netherlands</td>\n",
       "      <td>NED</td>\n",
       "      <td>1988 Winter</td>\n",
       "      <td>1988</td>\n",
       "      <td>Winter</td>\n",
       "      <td>Calgary</td>\n",
       "      <td>Speed Skating</td>\n",
       "      <td>Speed Skating Women's 500 metres</td>\n",
       "      <td>NaN</td>\n",
       "    </tr>\n",
       "    <tr>\n",
       "      <th>...</th>\n",
       "      <td>...</td>\n",
       "      <td>...</td>\n",
       "      <td>...</td>\n",
       "      <td>...</td>\n",
       "      <td>...</td>\n",
       "      <td>...</td>\n",
       "      <td>...</td>\n",
       "      <td>...</td>\n",
       "      <td>...</td>\n",
       "      <td>...</td>\n",
       "      <td>...</td>\n",
       "      <td>...</td>\n",
       "      <td>...</td>\n",
       "      <td>...</td>\n",
       "      <td>...</td>\n",
       "    </tr>\n",
       "    <tr>\n",
       "      <th>271111</th>\n",
       "      <td>135569</td>\n",
       "      <td>Andrzej ya</td>\n",
       "      <td>M</td>\n",
       "      <td>29.0</td>\n",
       "      <td>179.0</td>\n",
       "      <td>89.0</td>\n",
       "      <td>Poland-1</td>\n",
       "      <td>POL</td>\n",
       "      <td>1976 Winter</td>\n",
       "      <td>1976</td>\n",
       "      <td>Winter</td>\n",
       "      <td>Innsbruck</td>\n",
       "      <td>Luge</td>\n",
       "      <td>Luge Mixed (Men)'s Doubles</td>\n",
       "      <td>NaN</td>\n",
       "    </tr>\n",
       "    <tr>\n",
       "      <th>271112</th>\n",
       "      <td>135570</td>\n",
       "      <td>Piotr ya</td>\n",
       "      <td>M</td>\n",
       "      <td>27.0</td>\n",
       "      <td>176.0</td>\n",
       "      <td>59.0</td>\n",
       "      <td>Poland</td>\n",
       "      <td>POL</td>\n",
       "      <td>2014 Winter</td>\n",
       "      <td>2014</td>\n",
       "      <td>Winter</td>\n",
       "      <td>Sochi</td>\n",
       "      <td>Ski Jumping</td>\n",
       "      <td>Ski Jumping Men's Large Hill, Individual</td>\n",
       "      <td>NaN</td>\n",
       "    </tr>\n",
       "    <tr>\n",
       "      <th>271113</th>\n",
       "      <td>135570</td>\n",
       "      <td>Piotr ya</td>\n",
       "      <td>M</td>\n",
       "      <td>27.0</td>\n",
       "      <td>176.0</td>\n",
       "      <td>59.0</td>\n",
       "      <td>Poland</td>\n",
       "      <td>POL</td>\n",
       "      <td>2014 Winter</td>\n",
       "      <td>2014</td>\n",
       "      <td>Winter</td>\n",
       "      <td>Sochi</td>\n",
       "      <td>Ski Jumping</td>\n",
       "      <td>Ski Jumping Men's Large Hill, Team</td>\n",
       "      <td>NaN</td>\n",
       "    </tr>\n",
       "    <tr>\n",
       "      <th>271114</th>\n",
       "      <td>135571</td>\n",
       "      <td>Tomasz Ireneusz ya</td>\n",
       "      <td>M</td>\n",
       "      <td>30.0</td>\n",
       "      <td>185.0</td>\n",
       "      <td>96.0</td>\n",
       "      <td>Poland</td>\n",
       "      <td>POL</td>\n",
       "      <td>1998 Winter</td>\n",
       "      <td>1998</td>\n",
       "      <td>Winter</td>\n",
       "      <td>Nagano</td>\n",
       "      <td>Bobsleigh</td>\n",
       "      <td>Bobsleigh Men's Four</td>\n",
       "      <td>NaN</td>\n",
       "    </tr>\n",
       "    <tr>\n",
       "      <th>271115</th>\n",
       "      <td>135571</td>\n",
       "      <td>Tomasz Ireneusz ya</td>\n",
       "      <td>M</td>\n",
       "      <td>34.0</td>\n",
       "      <td>185.0</td>\n",
       "      <td>96.0</td>\n",
       "      <td>Poland</td>\n",
       "      <td>POL</td>\n",
       "      <td>2002 Winter</td>\n",
       "      <td>2002</td>\n",
       "      <td>Winter</td>\n",
       "      <td>Salt Lake City</td>\n",
       "      <td>Bobsleigh</td>\n",
       "      <td>Bobsleigh Men's Four</td>\n",
       "      <td>NaN</td>\n",
       "    </tr>\n",
       "  </tbody>\n",
       "</table>\n",
       "<p>271116 rows × 15 columns</p>\n",
       "</div>"
      ],
      "text/plain": [
       "            ID                      Name Sex   Age  Height  Weight  \\\n",
       "0            1                 A Dijiang   M  24.0   180.0    80.0   \n",
       "1            2                  A Lamusi   M  23.0   170.0    60.0   \n",
       "2            3       Gunnar Nielsen Aaby   M  24.0     NaN     NaN   \n",
       "3            4      Edgar Lindenau Aabye   M  34.0     NaN     NaN   \n",
       "4            5  Christine Jacoba Aaftink   F  21.0   185.0    82.0   \n",
       "...        ...                       ...  ..   ...     ...     ...   \n",
       "271111  135569                Andrzej ya   M  29.0   179.0    89.0   \n",
       "271112  135570                  Piotr ya   M  27.0   176.0    59.0   \n",
       "271113  135570                  Piotr ya   M  27.0   176.0    59.0   \n",
       "271114  135571        Tomasz Ireneusz ya   M  30.0   185.0    96.0   \n",
       "271115  135571        Tomasz Ireneusz ya   M  34.0   185.0    96.0   \n",
       "\n",
       "                  Team  NOC        Games  Year  Season            City  \\\n",
       "0                China  CHN  1992 Summer  1992  Summer       Barcelona   \n",
       "1                China  CHN  2012 Summer  2012  Summer          London   \n",
       "2              Denmark  DEN  1920 Summer  1920  Summer       Antwerpen   \n",
       "3       Denmark/Sweden  DEN  1900 Summer  1900  Summer           Paris   \n",
       "4          Netherlands  NED  1988 Winter  1988  Winter         Calgary   \n",
       "...                ...  ...          ...   ...     ...             ...   \n",
       "271111        Poland-1  POL  1976 Winter  1976  Winter       Innsbruck   \n",
       "271112          Poland  POL  2014 Winter  2014  Winter           Sochi   \n",
       "271113          Poland  POL  2014 Winter  2014  Winter           Sochi   \n",
       "271114          Poland  POL  1998 Winter  1998  Winter          Nagano   \n",
       "271115          Poland  POL  2002 Winter  2002  Winter  Salt Lake City   \n",
       "\n",
       "                Sport                                     Event Medal  \n",
       "0          Basketball               Basketball Men's Basketball   NaN  \n",
       "1                Judo              Judo Men's Extra-Lightweight   NaN  \n",
       "2            Football                   Football Men's Football   NaN  \n",
       "3          Tug-Of-War               Tug-Of-War Men's Tug-Of-War  Gold  \n",
       "4       Speed Skating          Speed Skating Women's 500 metres   NaN  \n",
       "...               ...                                       ...   ...  \n",
       "271111           Luge                Luge Mixed (Men)'s Doubles   NaN  \n",
       "271112    Ski Jumping  Ski Jumping Men's Large Hill, Individual   NaN  \n",
       "271113    Ski Jumping        Ski Jumping Men's Large Hill, Team   NaN  \n",
       "271114      Bobsleigh                      Bobsleigh Men's Four   NaN  \n",
       "271115      Bobsleigh                      Bobsleigh Men's Four   NaN  \n",
       "\n",
       "[271116 rows x 15 columns]"
      ]
     },
     "execution_count": 26,
     "metadata": {},
     "output_type": "execute_result"
    }
   ],
   "source": [
    "df"
   ]
  },
  {
   "cell_type": "code",
   "execution_count": 6,
   "id": "42d8036c",
   "metadata": {
    "scrolled": false
   },
   "outputs": [
    {
     "data": {
      "text/html": [
       "<div>\n",
       "<style scoped>\n",
       "    .dataframe tbody tr th:only-of-type {\n",
       "        vertical-align: middle;\n",
       "    }\n",
       "\n",
       "    .dataframe tbody tr th {\n",
       "        vertical-align: top;\n",
       "    }\n",
       "\n",
       "    .dataframe thead th {\n",
       "        text-align: right;\n",
       "    }\n",
       "</style>\n",
       "<table border=\"1\" class=\"dataframe\">\n",
       "  <thead>\n",
       "    <tr style=\"text-align: right;\">\n",
       "      <th></th>\n",
       "      <th></th>\n",
       "      <th></th>\n",
       "      <th></th>\n",
       "      <th>Age</th>\n",
       "      <th>Height</th>\n",
       "      <th>Team</th>\n",
       "      <th>City</th>\n",
       "      <th>Medal</th>\n",
       "    </tr>\n",
       "    <tr>\n",
       "      <th>Year</th>\n",
       "      <th>Season</th>\n",
       "      <th>Sport</th>\n",
       "      <th>Event</th>\n",
       "      <th></th>\n",
       "      <th></th>\n",
       "      <th></th>\n",
       "      <th></th>\n",
       "      <th></th>\n",
       "    </tr>\n",
       "  </thead>\n",
       "  <tbody>\n",
       "    <tr>\n",
       "      <th rowspan=\"5\" valign=\"top\">1896</th>\n",
       "      <th rowspan=\"5\" valign=\"top\">Summer</th>\n",
       "      <th rowspan=\"5\" valign=\"top\">Athletics</th>\n",
       "      <th>Athletics Men's 1,500 metres</th>\n",
       "      <td>24.0</td>\n",
       "      <td>NaN</td>\n",
       "      <td>United States</td>\n",
       "      <td>Athina</td>\n",
       "      <td>Silver</td>\n",
       "    </tr>\n",
       "    <tr>\n",
       "      <th>Athletics Men's 1,500 metres</th>\n",
       "      <td>NaN</td>\n",
       "      <td>NaN</td>\n",
       "      <td>Greece</td>\n",
       "      <td>Athina</td>\n",
       "      <td>NaN</td>\n",
       "    </tr>\n",
       "    <tr>\n",
       "      <th>Athletics Men's 1,500 metres</th>\n",
       "      <td>22.0</td>\n",
       "      <td>NaN</td>\n",
       "      <td>Australia</td>\n",
       "      <td>Athina</td>\n",
       "      <td>Gold</td>\n",
       "    </tr>\n",
       "    <tr>\n",
       "      <th>Athletics Men's 1,500 metres</th>\n",
       "      <td>23.0</td>\n",
       "      <td>154.0</td>\n",
       "      <td>Germany</td>\n",
       "      <td>Athina</td>\n",
       "      <td>NaN</td>\n",
       "    </tr>\n",
       "    <tr>\n",
       "      <th>Athletics Men's 1,500 metres</th>\n",
       "      <td>21.0</td>\n",
       "      <td>NaN</td>\n",
       "      <td>Greece</td>\n",
       "      <td>Athina</td>\n",
       "      <td>NaN</td>\n",
       "    </tr>\n",
       "  </tbody>\n",
       "</table>\n",
       "</div>"
      ],
      "text/plain": [
       "                                                     Age  Height  \\\n",
       "Year Season Sport     Event                                        \n",
       "1896 Summer Athletics Athletics Men's 1,500 metres  24.0     NaN   \n",
       "                      Athletics Men's 1,500 metres   NaN     NaN   \n",
       "                      Athletics Men's 1,500 metres  22.0     NaN   \n",
       "                      Athletics Men's 1,500 metres  23.0   154.0   \n",
       "                      Athletics Men's 1,500 metres  21.0     NaN   \n",
       "\n",
       "                                                             Team    City  \\\n",
       "Year Season Sport     Event                                                 \n",
       "1896 Summer Athletics Athletics Men's 1,500 metres  United States  Athina   \n",
       "                      Athletics Men's 1,500 metres         Greece  Athina   \n",
       "                      Athletics Men's 1,500 metres      Australia  Athina   \n",
       "                      Athletics Men's 1,500 metres        Germany  Athina   \n",
       "                      Athletics Men's 1,500 metres         Greece  Athina   \n",
       "\n",
       "                                                     Medal  \n",
       "Year Season Sport     Event                                 \n",
       "1896 Summer Athletics Athletics Men's 1,500 metres  Silver  \n",
       "                      Athletics Men's 1,500 metres     NaN  \n",
       "                      Athletics Men's 1,500 metres    Gold  \n",
       "                      Athletics Men's 1,500 metres     NaN  \n",
       "                      Athletics Men's 1,500 metres     NaN  "
      ]
     },
     "execution_count": 6,
     "metadata": {},
     "output_type": "execute_result"
    }
   ],
   "source": [
    "filename = '../data/olympic_athlete_events.csv'\n",
    "\n",
    "df = pd.read_csv(filename,\n",
    "                index_col=['Year', 'Season', 'Sport', 'Event'],\n",
    "                usecols=['Age', 'Height', 'Team', 'Year', 'Season', 'City', 'Sport', 'Event', 'Medal'])\n",
    "df = df.sort_index()\n",
    "df.head()"
   ]
  },
  {
   "cell_type": "code",
   "execution_count": 8,
   "id": "436953c7",
   "metadata": {},
   "outputs": [
    {
     "data": {
      "text/plain": [
       "25.026883940421765"
      ]
     },
     "execution_count": 8,
     "metadata": {},
     "output_type": "execute_result"
    }
   ],
   "source": [
    "# What is the average age for winning athletes in summer games held between 1936 and 2000?\n",
    "df.loc[(slice(1936,2000), 'Summer'), 'Age'].mean()"
   ]
  },
  {
   "cell_type": "code",
   "execution_count": 9,
   "id": "ce90b839",
   "metadata": {},
   "outputs": [
    {
     "data": {
      "text/plain": [
       "United States      155\n",
       "France             151\n",
       "Great Britain      133\n",
       "South Korea        102\n",
       "China               98\n",
       "                  ... \n",
       "Vanuatu              1\n",
       "Guam                 1\n",
       "Jordan               1\n",
       "Solomon Islands      1\n",
       "Azerbaijan           1\n",
       "Name: Team, Length: 102, dtype: int64"
      ]
     },
     "execution_count": 9,
     "metadata": {},
     "output_type": "execute_result"
    }
   ],
   "source": [
    "# What team has won the greatest number of medals for all archery events?\n",
    "df.loc[(slice(None), 'Summer', 'Archery'), 'Team'].value_counts()"
   ]
  },
  {
   "cell_type": "code",
   "execution_count": 10,
   "id": "aca80a87",
   "metadata": {},
   "outputs": [
    {
     "data": {
      "text/plain": [
       "165.04827586206898"
      ]
     },
     "execution_count": 10,
     "metadata": {},
     "output_type": "execute_result"
    }
   ],
   "source": [
    "# Starting in 1980, what is the average height of the event known as \"Table Tennis Women's Team\"?\n",
    "df.loc[(slice(None), 'Summer', slice(None), \"Table Tennis Women's Team\"), 'Height'].mean()"
   ]
  },
  {
   "cell_type": "code",
   "execution_count": 11,
   "id": "06e09c36",
   "metadata": {},
   "outputs": [
    {
     "data": {
      "text/plain": [
       "171.26643598615917"
      ]
     },
     "execution_count": 11,
     "metadata": {},
     "output_type": "execute_result"
    }
   ],
   "source": [
    "# Starting in 1980, what is the average height of either \"Table Tennis Women's Team\" or \"Table Tennis Men's Team\"?\n",
    "df.loc[(slice(None), 'Summer', slice(None), [\"Table Tennis Men's Team\", \"Table Tennis Women's Team\"]), 'Height'].mean()"
   ]
  },
  {
   "cell_type": "code",
   "execution_count": 12,
   "id": "a79181dc",
   "metadata": {},
   "outputs": [
    {
     "data": {
      "text/plain": [
       "208.0"
      ]
     },
     "execution_count": 12,
     "metadata": {},
     "output_type": "execute_result"
    }
   ],
   "source": [
    "# How tall was the tallest-ever tennis medalist in Olympic games from 1980 until 2016?\n",
    "df.loc[(slice(1980,2016), 'Summer', 'Tennis'), 'Height'].max()"
   ]
  },
  {
   "cell_type": "code",
   "execution_count": null,
   "id": "3e51f8fa",
   "metadata": {},
   "outputs": [],
   "source": []
  },
  {
   "cell_type": "code",
   "execution_count": null,
   "id": "91570231",
   "metadata": {},
   "outputs": [],
   "source": []
  }
 ],
 "metadata": {
  "kernelspec": {
   "display_name": "Python 3 (ipykernel)",
   "language": "python",
   "name": "python3"
  },
  "language_info": {
   "codemirror_mode": {
    "name": "ipython",
    "version": 3
   },
   "file_extension": ".py",
   "mimetype": "text/x-python",
   "name": "python",
   "nbconvert_exporter": "python",
   "pygments_lexer": "ipython3",
   "version": "3.10.9"
  }
 },
 "nbformat": 4,
 "nbformat_minor": 5
}

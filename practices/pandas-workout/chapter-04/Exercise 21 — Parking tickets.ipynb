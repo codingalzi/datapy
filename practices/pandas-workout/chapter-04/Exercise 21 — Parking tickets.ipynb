{
 "cells": [
  {
   "cell_type": "code",
   "execution_count": 8,
   "metadata": {},
   "outputs": [],
   "source": [
    "import pandas as pd\n",
    "from pandas import Series, DataFrame"
   ]
  },
  {
   "cell_type": "code",
   "execution_count": 9,
   "metadata": {},
   "outputs": [
    {
     "data": {
      "text/plain": [
       "Index(['Plate ID', 'Registration State', 'Issue Date', 'Vehicle Make',\n",
       "       'Street Name', 'Date First Observed', 'Vehicle Color'],\n",
       "      dtype='object')"
      ]
     },
     "execution_count": 9,
     "metadata": {},
     "output_type": "execute_result"
    }
   ],
   "source": [
    "filename = '../data/nyc-parking-violations-2020.csv'\n",
    "\n",
    "df = pd.read_csv(filename,\n",
    "                usecols=['Date First Observed', 'Plate ID', 'Registration State',\n",
    "                        'Issue Date', 'Vehicle Make', 'Street Name', 'Vehicle Color'])\n",
    "df.columns"
   ]
  },
  {
   "cell_type": "code",
   "execution_count": 10,
   "metadata": {},
   "outputs": [],
   "source": [
    "# set the index to the \"Issue Date\" column\n",
    "df = df.set_index('Issue Date')"
   ]
  },
  {
   "cell_type": "code",
   "execution_count": 4,
   "metadata": {},
   "outputs": [
    {
     "data": {
      "text/plain": [
       "TOYOT    3829\n",
       "HONDA    3593\n",
       "FORD     3164\n",
       "Name: Vehicle Make, dtype: int64"
      ]
     },
     "execution_count": 4,
     "metadata": {},
     "output_type": "execute_result"
    }
   ],
   "source": [
    "# what three vehicle makes were most likely to be ticketed on January 2nd?\n",
    "df.loc['01/02/2020 12:00:00 AM', 'Vehicle Make'].value_counts().head(3)"
   ]
  },
  {
   "cell_type": "code",
   "execution_count": 14,
   "metadata": {},
   "outputs": [
    {
     "data": {
      "text/plain": [
       "'{\"Plate ID\":{\"04\\\\/21\\\\/2020 12:00:00 AM\":\"XGTF27\",\"06\\\\/10\\\\/2020 12:00:00 AM\":\"CDZ4812\",\"09\\\\/08\\\\/2019 12:00:00 AM\":\"J19LMF\",\"12\\\\/06\\\\/2019 12:00:00 AM\":\"23044MM\",\"05\\\\/19\\\\/2020 12:00:00 AM\":\"59302MK\",\"10\\\\/15\\\\/2019 12:00:00 AM\":\"GWS9977\",\"11\\\\/08\\\\/2019 12:00:00 AM\":\"HGW9256\",\"10\\\\/16\\\\/2019 12:00:00 AM\":\"A41JTE\",\"06\\\\/04\\\\/2020 12:00:00 AM\":\"HKP6907\",\"06\\\\/17\\\\/2020 12:00:00 AM\":\"HYK7835\"},\"Registration State\":{\"04\\\\/21\\\\/2020 12:00:00 AM\":\"NJ\",\"06\\\\/10\\\\/2020 12:00:00 AM\":\"GA\",\"09\\\\/08\\\\/2019 12:00:00 AM\":\"NJ\",\"12\\\\/06\\\\/2019 12:00:00 AM\":\"NY\",\"05\\\\/19\\\\/2020 12:00:00 AM\":\"NY\",\"10\\\\/15\\\\/2019 12:00:00 AM\":\"NY\",\"11\\\\/08\\\\/2019 12:00:00 AM\":\"NY\",\"10\\\\/16\\\\/2019 12:00:00 AM\":\"NJ\",\"06\\\\/04\\\\/2020 12:00:00 AM\":\"NY\",\"06\\\\/17\\\\/2020 12:00:00 AM\":\"NY\"},\"Vehicle Make\":{\"04\\\\/21\\\\/2020 12:00:00 AM\":\"FORD\",\"06\\\\/10\\\\/2020 12:00:00 AM\":\"Mazda\",\"09\\\\/08\\\\/2019 12:00:00 AM\":\"JEEP\",\"12\\\\/06\\\\/2019 12:00:00 AM\":\"CHEVR\",\"05\\\\/19\\\\/2020 12:00:00 AM\":\"MITSU\",\"10\\\\/15\\\\/2019 12:00:00 AM\":\"JEEP\",\"11\\\\/08\\\\/2019 12:00:00 AM\":\"NISSA\",\"10\\\\/16\\\\/2019 12:00:00 AM\":\"VOLVO\",\"06\\\\/04\\\\/2020 12:00:00 AM\":\"ACURA\",\"06\\\\/17\\\\/2020 12:00:00 AM\":\"JEEP\"},\"Street Name\":{\"04\\\\/21\\\\/2020 12:00:00 AM\":\"NB WEST END AVE @ W\",\"06\\\\/10\\\\/2020 12:00:00 AM\":\"NB VAN DAM ST @ 48TH\",\"09\\\\/08\\\\/2019 12:00:00 AM\":\"E 86th St\",\"12\\\\/06\\\\/2019 12:00:00 AM\":\"Hudson St\",\"05\\\\/19\\\\/2020 12:00:00 AM\":\"W 15th St\",\"10\\\\/15\\\\/2019 12:00:00 AM\":\"NB BRONX RIVER AVE @\",\"11\\\\/08\\\\/2019 12:00:00 AM\":\"Martense St\",\"10\\\\/16\\\\/2019 12:00:00 AM\":\"EB W 23RD ST @ 9TH A\",\"06\\\\/04\\\\/2020 12:00:00 AM\":\"SB 80TH ST @ 78TH AV\",\"06\\\\/17\\\\/2020 12:00:00 AM\":\"SB PENNSYLVANIA AVE\"},\"Date First Observed\":{\"04\\\\/21\\\\/2020 12:00:00 AM\":0,\"06\\\\/10\\\\/2020 12:00:00 AM\":0,\"09\\\\/08\\\\/2019 12:00:00 AM\":0,\"12\\\\/06\\\\/2019 12:00:00 AM\":0,\"05\\\\/19\\\\/2020 12:00:00 AM\":0,\"10\\\\/15\\\\/2019 12:00:00 AM\":0,\"11\\\\/08\\\\/2019 12:00:00 AM\":0,\"10\\\\/16\\\\/2019 12:00:00 AM\":0,\"06\\\\/04\\\\/2020 12:00:00 AM\":0,\"06\\\\/17\\\\/2020 12:00:00 AM\":0},\"Vehicle Color\":{\"04\\\\/21\\\\/2020 12:00:00 AM\":\"WT.\",\"06\\\\/10\\\\/2020 12:00:00 AM\":\"BLUE\",\"09\\\\/08\\\\/2019 12:00:00 AM\":\"BLACK\",\"12\\\\/06\\\\/2019 12:00:00 AM\":\"BK\",\"05\\\\/19\\\\/2020 12:00:00 AM\":\"WH\",\"10\\\\/15\\\\/2019 12:00:00 AM\":\"WH\",\"11\\\\/08\\\\/2019 12:00:00 AM\":\"GY\",\"10\\\\/16\\\\/2019 12:00:00 AM\":\"WT\",\"06\\\\/04\\\\/2020 12:00:00 AM\":\"RD\",\"06\\\\/17\\\\/2020 12:00:00 AM\":\"GY\"}}'"
      ]
     },
     "execution_count": 14,
     "metadata": {},
     "output_type": "execute_result"
    }
   ],
   "source": [
    "df.sample(10).to_json()"
   ]
  },
  {
   "cell_type": "code",
   "execution_count": 5,
   "metadata": {},
   "outputs": [
    {
     "data": {
      "text/plain": [
       "WB CONDUIT BLVD @ LI    1068\n",
       "SB WEST ST @ LEROY S     335\n",
       "EB HORACE HARDING EX     273\n",
       "EB QUEENS BLVD @ 82N     245\n",
       "WB ATLANTIC AVE @ CL     229\n",
       "Name: Street Name, dtype: int64"
      ]
     },
     "execution_count": 5,
     "metadata": {},
     "output_type": "execute_result"
    }
   ],
   "source": [
    "# On what five streets were cars most likely to be ticketed on June 1st, 2020?\n",
    "df.loc['06/01/2020 12:00:00 AM', 'Street Name'].value_counts().head(5)"
   ]
  },
  {
   "cell_type": "code",
   "execution_count": 6,
   "metadata": {},
   "outputs": [],
   "source": [
    "# change the index to be \"Vehicle Color\"\n",
    "df = df.reset_index().set_index('Vehicle Color')"
   ]
  },
  {
   "cell_type": "code",
   "execution_count": 7,
   "metadata": {},
   "outputs": [
    {
     "data": {
      "text/plain": [
       "HONDA    39353\n",
       "Name: Vehicle Make, dtype: int64"
      ]
     },
     "execution_count": 7,
     "metadata": {},
     "output_type": "execute_result"
    }
   ],
   "source": [
    "# What was the most common make of ticketed cars that were either blue or red?\n",
    "df.loc[['BLUE', 'RED'], 'Vehicle Make'].value_counts().head(1)"
   ]
  },
  {
   "cell_type": "code",
   "execution_count": null,
   "metadata": {},
   "outputs": [],
   "source": []
  }
 ],
 "metadata": {
  "kernelspec": {
   "display_name": "Python 3 (ipykernel)",
   "language": "python",
   "name": "python3"
  },
  "language_info": {
   "codemirror_mode": {
    "name": "ipython",
    "version": 3
   },
   "file_extension": ".py",
   "mimetype": "text/x-python",
   "name": "python",
   "nbconvert_exporter": "python",
   "pygments_lexer": "ipython3",
   "version": "3.11.0"
  }
 },
 "nbformat": 4,
 "nbformat_minor": 4
}

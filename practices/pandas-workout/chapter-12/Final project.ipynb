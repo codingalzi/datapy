{
 "cells": [
  {
   "cell_type": "code",
   "execution_count": 1,
   "id": "602a5d4a",
   "metadata": {},
   "outputs": [],
   "source": [
    "import os\n",
    "\n",
    "import numpy as np\n",
    "import pandas as pd\n",
    "from pandas import Series, DataFrame\n",
    "%matplotlib inline"
   ]
  },
  {
   "cell_type": "code",
   "execution_count": 2,
   "id": "f3137d5f",
   "metadata": {
    "scrolled": true
   },
   "outputs": [],
   "source": [
    "# Create a data frame from the college scorecard cohorts-institutions CSV file.\n",
    "\n",
    "institutions_filename = '../data/Most-Recent-Cohorts-Institution.csv.gz'\n",
    "institutions_df = pd.read_csv(institutions_filename,\n",
    "                usecols=['OPEID6', \n",
    "                         'INSTNM', 'CITY', 'STABBR', \n",
    "                         'FTFTPCTPELL', 'TUITIONFEE_IN', 'TUITIONFEE_OUT', 'ADM_RATE', \n",
    "                         'NPT4_PUB', 'NPT4_PRIV',\n",
    "                         'NPT41_PUB', 'NPT41_PRIV',\n",
    "                         'NPT45_PUB', 'NPT45_PRIV', \n",
    "                         'MD_EARN_WNE_P10', 'C100_4'])"
   ]
  },
  {
   "cell_type": "code",
   "execution_count": 3,
   "id": "eb428f97",
   "metadata": {},
   "outputs": [
    {
     "data": {
      "text/html": [
       "<div>\n",
       "<style scoped>\n",
       "    .dataframe tbody tr th:only-of-type {\n",
       "        vertical-align: middle;\n",
       "    }\n",
       "\n",
       "    .dataframe tbody tr th {\n",
       "        vertical-align: top;\n",
       "    }\n",
       "\n",
       "    .dataframe thead th {\n",
       "        text-align: right;\n",
       "    }\n",
       "</style>\n",
       "<table border=\"1\" class=\"dataframe\">\n",
       "  <thead>\n",
       "    <tr style=\"text-align: right;\">\n",
       "      <th></th>\n",
       "      <th>OPEID6</th>\n",
       "      <th>INSTNM</th>\n",
       "      <th>CITY</th>\n",
       "      <th>STABBR</th>\n",
       "      <th>ADM_RATE</th>\n",
       "      <th>NPT4_PUB</th>\n",
       "      <th>NPT4_PRIV</th>\n",
       "      <th>NPT41_PUB</th>\n",
       "      <th>NPT45_PUB</th>\n",
       "      <th>NPT41_PRIV</th>\n",
       "      <th>NPT45_PRIV</th>\n",
       "      <th>TUITIONFEE_IN</th>\n",
       "      <th>TUITIONFEE_OUT</th>\n",
       "      <th>MD_EARN_WNE_P10</th>\n",
       "      <th>C100_4</th>\n",
       "      <th>FTFTPCTPELL</th>\n",
       "    </tr>\n",
       "  </thead>\n",
       "  <tbody>\n",
       "    <tr>\n",
       "      <th>0</th>\n",
       "      <td>1002</td>\n",
       "      <td>Alabama A &amp; M University</td>\n",
       "      <td>Normal</td>\n",
       "      <td>AL</td>\n",
       "      <td>0.8965</td>\n",
       "      <td>15529.0</td>\n",
       "      <td>NaN</td>\n",
       "      <td>14694.0</td>\n",
       "      <td>20483.0</td>\n",
       "      <td>NaN</td>\n",
       "      <td>NaN</td>\n",
       "      <td>10024.0</td>\n",
       "      <td>18634.0</td>\n",
       "      <td>36339.0</td>\n",
       "      <td>0.1052</td>\n",
       "      <td>0.6925</td>\n",
       "    </tr>\n",
       "    <tr>\n",
       "      <th>1</th>\n",
       "      <td>1052</td>\n",
       "      <td>University of Alabama at Birmingham</td>\n",
       "      <td>Birmingham</td>\n",
       "      <td>AL</td>\n",
       "      <td>0.8060</td>\n",
       "      <td>16530.0</td>\n",
       "      <td>NaN</td>\n",
       "      <td>13443.0</td>\n",
       "      <td>19717.0</td>\n",
       "      <td>NaN</td>\n",
       "      <td>NaN</td>\n",
       "      <td>8568.0</td>\n",
       "      <td>20400.0</td>\n",
       "      <td>46990.0</td>\n",
       "      <td>0.3816</td>\n",
       "      <td>0.3563</td>\n",
       "    </tr>\n",
       "    <tr>\n",
       "      <th>2</th>\n",
       "      <td>25034</td>\n",
       "      <td>Amridge University</td>\n",
       "      <td>Montgomery</td>\n",
       "      <td>AL</td>\n",
       "      <td>NaN</td>\n",
       "      <td>NaN</td>\n",
       "      <td>17618.0</td>\n",
       "      <td>NaN</td>\n",
       "      <td>NaN</td>\n",
       "      <td>17385.0</td>\n",
       "      <td>NaN</td>\n",
       "      <td>6950.0</td>\n",
       "      <td>6950.0</td>\n",
       "      <td>37895.0</td>\n",
       "      <td>0.2500</td>\n",
       "      <td>0.6667</td>\n",
       "    </tr>\n",
       "    <tr>\n",
       "      <th>3</th>\n",
       "      <td>1055</td>\n",
       "      <td>University of Alabama in Huntsville</td>\n",
       "      <td>Huntsville</td>\n",
       "      <td>AL</td>\n",
       "      <td>0.7711</td>\n",
       "      <td>17208.0</td>\n",
       "      <td>NaN</td>\n",
       "      <td>13631.0</td>\n",
       "      <td>19862.0</td>\n",
       "      <td>NaN</td>\n",
       "      <td>NaN</td>\n",
       "      <td>11338.0</td>\n",
       "      <td>23734.0</td>\n",
       "      <td>54361.0</td>\n",
       "      <td>0.3109</td>\n",
       "      <td>0.2304</td>\n",
       "    </tr>\n",
       "    <tr>\n",
       "      <th>4</th>\n",
       "      <td>1005</td>\n",
       "      <td>Alabama State University</td>\n",
       "      <td>Montgomery</td>\n",
       "      <td>AL</td>\n",
       "      <td>0.9888</td>\n",
       "      <td>19534.0</td>\n",
       "      <td>NaN</td>\n",
       "      <td>19581.0</td>\n",
       "      <td>17559.0</td>\n",
       "      <td>NaN</td>\n",
       "      <td>NaN</td>\n",
       "      <td>11068.0</td>\n",
       "      <td>19396.0</td>\n",
       "      <td>32084.0</td>\n",
       "      <td>0.1462</td>\n",
       "      <td>0.7590</td>\n",
       "    </tr>\n",
       "  </tbody>\n",
       "</table>\n",
       "</div>"
      ],
      "text/plain": [
       "   OPEID6                               INSTNM        CITY STABBR  ADM_RATE  \\\n",
       "0    1002             Alabama A & M University      Normal     AL    0.8965   \n",
       "1    1052  University of Alabama at Birmingham  Birmingham     AL    0.8060   \n",
       "2   25034                   Amridge University  Montgomery     AL       NaN   \n",
       "3    1055  University of Alabama in Huntsville  Huntsville     AL    0.7711   \n",
       "4    1005             Alabama State University  Montgomery     AL    0.9888   \n",
       "\n",
       "   NPT4_PUB  NPT4_PRIV  NPT41_PUB  NPT45_PUB  NPT41_PRIV  NPT45_PRIV  \\\n",
       "0   15529.0        NaN    14694.0    20483.0         NaN         NaN   \n",
       "1   16530.0        NaN    13443.0    19717.0         NaN         NaN   \n",
       "2       NaN    17618.0        NaN        NaN     17385.0         NaN   \n",
       "3   17208.0        NaN    13631.0    19862.0         NaN         NaN   \n",
       "4   19534.0        NaN    19581.0    17559.0         NaN         NaN   \n",
       "\n",
       "   TUITIONFEE_IN  TUITIONFEE_OUT  MD_EARN_WNE_P10  C100_4  FTFTPCTPELL  \n",
       "0        10024.0         18634.0          36339.0  0.1052       0.6925  \n",
       "1         8568.0         20400.0          46990.0  0.3816       0.3563  \n",
       "2         6950.0          6950.0          37895.0  0.2500       0.6667  \n",
       "3        11338.0         23734.0          54361.0  0.3109       0.2304  \n",
       "4        11068.0         19396.0          32084.0  0.1462       0.7590  "
      ]
     },
     "execution_count": 3,
     "metadata": {},
     "output_type": "execute_result"
    }
   ],
   "source": [
    "institutions_df.head()"
   ]
  },
  {
   "cell_type": "code",
   "execution_count": 4,
   "id": "b9766cce",
   "metadata": {},
   "outputs": [],
   "source": [
    "# Load the CSV file for fields of study into another data frame\n",
    "\n",
    "fields_filename = '../data/FieldOfStudyData1718_1819_PP.csv.gz'\n",
    "\n",
    "fields_of_study_df = pd.read_csv(fields_filename,\n",
    "                                usecols=['OPEID6', 'INSTNM', 'CREDDESC', 'CIPDESC', 'CONTROL'])"
   ]
  },
  {
   "cell_type": "code",
   "execution_count": 5,
   "id": "eea7c1ef",
   "metadata": {
    "scrolled": true
   },
   "outputs": [
    {
     "data": {
      "text/html": [
       "<div>\n",
       "<style scoped>\n",
       "    .dataframe tbody tr th:only-of-type {\n",
       "        vertical-align: middle;\n",
       "    }\n",
       "\n",
       "    .dataframe tbody tr th {\n",
       "        vertical-align: top;\n",
       "    }\n",
       "\n",
       "    .dataframe thead th {\n",
       "        text-align: right;\n",
       "    }\n",
       "</style>\n",
       "<table border=\"1\" class=\"dataframe\">\n",
       "  <thead>\n",
       "    <tr style=\"text-align: right;\">\n",
       "      <th></th>\n",
       "      <th>OPEID6</th>\n",
       "      <th>INSTNM</th>\n",
       "      <th>CONTROL</th>\n",
       "      <th>CIPDESC</th>\n",
       "      <th>CREDDESC</th>\n",
       "    </tr>\n",
       "  </thead>\n",
       "  <tbody>\n",
       "    <tr>\n",
       "      <th>0</th>\n",
       "      <td>1002</td>\n",
       "      <td>Alabama A &amp; M University</td>\n",
       "      <td>Public</td>\n",
       "      <td>Agriculture, General.</td>\n",
       "      <td>Bachelors Degree</td>\n",
       "    </tr>\n",
       "    <tr>\n",
       "      <th>1</th>\n",
       "      <td>1002</td>\n",
       "      <td>Alabama A &amp; M University</td>\n",
       "      <td>Public</td>\n",
       "      <td>Animal Sciences.</td>\n",
       "      <td>Bachelors Degree</td>\n",
       "    </tr>\n",
       "    <tr>\n",
       "      <th>2</th>\n",
       "      <td>1002</td>\n",
       "      <td>Alabama A &amp; M University</td>\n",
       "      <td>Public</td>\n",
       "      <td>Food Science and Technology.</td>\n",
       "      <td>Bachelors Degree</td>\n",
       "    </tr>\n",
       "    <tr>\n",
       "      <th>3</th>\n",
       "      <td>1002</td>\n",
       "      <td>Alabama A &amp; M University</td>\n",
       "      <td>Public</td>\n",
       "      <td>Food Science and Technology.</td>\n",
       "      <td>Master's Degree</td>\n",
       "    </tr>\n",
       "    <tr>\n",
       "      <th>4</th>\n",
       "      <td>1002</td>\n",
       "      <td>Alabama A &amp; M University</td>\n",
       "      <td>Public</td>\n",
       "      <td>Food Science and Technology.</td>\n",
       "      <td>Doctoral Degree</td>\n",
       "    </tr>\n",
       "  </tbody>\n",
       "</table>\n",
       "</div>"
      ],
      "text/plain": [
       "   OPEID6                    INSTNM CONTROL                       CIPDESC  \\\n",
       "0    1002  Alabama A & M University  Public         Agriculture, General.   \n",
       "1    1002  Alabama A & M University  Public              Animal Sciences.   \n",
       "2    1002  Alabama A & M University  Public  Food Science and Technology.   \n",
       "3    1002  Alabama A & M University  Public  Food Science and Technology.   \n",
       "4    1002  Alabama A & M University  Public  Food Science and Technology.   \n",
       "\n",
       "           CREDDESC  \n",
       "0  Bachelors Degree  \n",
       "1  Bachelors Degree  \n",
       "2  Bachelors Degree  \n",
       "3   Master's Degree  \n",
       "4   Doctoral Degree  "
      ]
     },
     "execution_count": 5,
     "metadata": {},
     "output_type": "execute_result"
    }
   ],
   "source": [
    "fields_of_study_df.head()"
   ]
  },
  {
   "cell_type": "code",
   "execution_count": 6,
   "id": "d68b5df7",
   "metadata": {},
   "outputs": [
    {
     "data": {
      "text/plain": [
       "STABBR\n",
       "CA    705\n",
       "Name: OPEID6, dtype: int64"
      ]
     },
     "execution_count": 6,
     "metadata": {},
     "output_type": "execute_result"
    }
   ],
   "source": [
    "# What state has the greatest number of universities in this database?\n",
    "institutions_df.groupby('STABBR')['OPEID6'].count().sort_values(ascending=False).head(1)"
   ]
  },
  {
   "cell_type": "code",
   "execution_count": 7,
   "id": "1e5680e7",
   "metadata": {
    "scrolled": true
   },
   "outputs": [
    {
     "data": {
      "text/plain": [
       "STABBR  CITY    \n",
       "NY      New York    81\n",
       "Name: OPEID6, dtype: int64"
      ]
     },
     "execution_count": 7,
     "metadata": {},
     "output_type": "execute_result"
    }
   ],
   "source": [
    "# What city+state has the greatest number of universities in this database?\n",
    "institutions_df.groupby(['STABBR', 'CITY'])['OPEID6'].count().sort_values(ascending=False).head(1)"
   ]
  },
  {
   "cell_type": "code",
   "execution_count": 8,
   "id": "e7e0af7c",
   "metadata": {},
   "outputs": [
    {
     "name": "stdout",
     "output_type": "stream",
     "text": [
      "2,105,659\n"
     ]
    }
   ],
   "source": [
    "# How much memory can we save if we set the CITY and STABBR columns in institutions_df to be categories?\n",
    "pre_category_memory = institutions_df.memory_usage(deep=True).sum()\n",
    "print(f'{pre_category_memory:,}')"
   ]
  },
  {
   "cell_type": "code",
   "execution_count": 9,
   "id": "5ff5ed92",
   "metadata": {},
   "outputs": [
    {
     "name": "stdout",
     "output_type": "stream",
     "text": [
      "579,371\n"
     ]
    }
   ],
   "source": [
    "institutions_df['CITY'] = institutions_df['CITY'].astype('category')\n",
    "institutions_df['STABBR'] = institutions_df['STABBR'].astype('category')\n",
    "\n",
    "post_category_memory = institutions_df.memory_usage(deep=True).sum()\n",
    "\n",
    "savings = pre_category_memory - post_category_memory\n",
    "print(f'{savings:,}')"
   ]
  },
  {
   "cell_type": "code",
   "execution_count": 10,
   "id": "421131de",
   "metadata": {},
   "outputs": [
    {
     "data": {
      "text/plain": [
       "<AxesSubplot:ylabel='Frequency'>"
      ]
     },
     "execution_count": 10,
     "metadata": {},
     "output_type": "execute_result"
    },
    {
     "data": {
      "image/png": "[encoded data removed]",
      "text/plain": [
       "<Figure size 432x288 with 1 Axes>"
      ]
     },
     "metadata": {
      "needs_background": "light"
     },
     "output_type": "display_data"
    }
   ],
   "source": [
    "# Create a histogram showing how many bachelor programs universities offer\n",
    "fields_of_study_df.loc[fields_of_study_df['CREDDESC'] == 'Bachelors Degree'].groupby('INSTNM')['CIPDESC'].count().plot.hist()"
   ]
  },
  {
   "cell_type": "code",
   "execution_count": 11,
   "id": "c28ee48a",
   "metadata": {
    "scrolled": true
   },
   "outputs": [
    {
     "data": {
      "text/plain": [
       "INSTNM\n",
       "Westminster College                          165\n",
       "Pennsylvania State University-Main Campus    141\n",
       "University of Washington-Seattle Campus      137\n",
       "Ohio State University-Main Campus            126\n",
       "Bethel University                            125\n",
       "University of Minnesota-Twin Cities          116\n",
       "Arizona State University Campus Immersion    116\n",
       "University of Arizona                        116\n",
       "Anderson University                          114\n",
       "Purdue University-Main Campus                114\n",
       "Name: CIPDESC, dtype: int64"
      ]
     },
     "execution_count": 11,
     "metadata": {},
     "output_type": "execute_result"
    }
   ],
   "source": [
    "# Which university offers the greatest number of bachelor programs?\n",
    "fields_of_study_df.loc[fields_of_study_df['CREDDESC'] == 'Bachelors Degree'].groupby('INSTNM')['CIPDESC'].count().sort_values(ascending=False).head(10)"
   ]
  },
  {
   "cell_type": "code",
   "execution_count": 12,
   "id": "83d62542",
   "metadata": {},
   "outputs": [
    {
     "data": {
      "text/plain": [
       "<AxesSubplot:ylabel='Frequency'>"
      ]
     },
     "execution_count": 12,
     "metadata": {},
     "output_type": "execute_result"
    },
    {
     "data": {
      "image/png": "[encoded data removed]",
      "text/plain": [
       "<Figure size 432x288 with 1 Axes>"
      ]
     },
     "metadata": {
      "needs_background": "light"
     },
     "output_type": "display_data"
    }
   ],
   "source": [
    "# Create a histogram showing how many graudate (master's and doctoral) programs universities offer\n",
    "fields_of_study_df.loc[fields_of_study_df['CREDDESC'].isin([\"Master's Degree\", \"Doctoral Degree\"])].groupby('INSTNM')['CIPDESC'].count().plot.hist()"
   ]
  },
  {
   "cell_type": "code",
   "execution_count": 13,
   "id": "a171ce46",
   "metadata": {
    "scrolled": true
   },
   "outputs": [
    {
     "data": {
      "text/plain": [
       "INSTNM\n",
       "University of Washington-Seattle Campus      237\n",
       "Pennsylvania State University-Main Campus    230\n",
       "New York University                          226\n",
       "University of Minnesota-Twin Cities          205\n",
       "Ohio State University-Main Campus            200\n",
       "University of Southern California            199\n",
       "Arizona State University Campus Immersion    199\n",
       "University of Arizona                        195\n",
       "University of Florida                        194\n",
       "University of Illinois Urbana-Champaign      190\n",
       "Name: CIPDESC, dtype: int64"
      ]
     },
     "execution_count": 13,
     "metadata": {},
     "output_type": "execute_result"
    }
   ],
   "source": [
    "# Which university offers the greatest number of different graduate (master + doctoral) programs?\n",
    "fields_of_study_df.loc[fields_of_study_df['CREDDESC'].isin([\"Master's Degree\", \"Doctoral Degree\"])].groupby('INSTNM')['CIPDESC'].count().sort_values(ascending=False).head(10)"
   ]
  },
  {
   "cell_type": "code",
   "execution_count": 40,
   "id": "4045e88a",
   "metadata": {},
   "outputs": [
    {
     "data": {
      "text/plain": [
       "923"
      ]
     },
     "execution_count": 40,
     "metadata": {},
     "output_type": "execute_result"
    }
   ],
   "source": [
    "# How many universities offer bachelor's degrees, but not master's or doctorates?\n",
    "\n",
    "ug_schools = fields_of_study_df.loc[fields_of_study_df['CREDDESC'] == 'Bachelors Degree', 'INSTNM']\n",
    "grad_schools = fields_of_study_df.loc[fields_of_study_df['CREDDESC'].isin([\"Master's Degree\", \"Doctoral Degree\"]), 'INSTNM']\n",
    "\n",
    "ug_schools[~ug_schools.isin(grad_schools)].unique().size"
   ]
  },
  {
   "cell_type": "code",
   "execution_count": 15,
   "id": "36159e05",
   "metadata": {},
   "outputs": [
    {
     "data": {
      "text/plain": [
       "404"
      ]
     },
     "execution_count": 15,
     "metadata": {},
     "output_type": "execute_result"
    }
   ],
   "source": [
    "# How many universities offer master's and doctoral degrees, but not bachelors?\n",
    "grad_schools[~grad_schools.isin(ug_schools)].unique().size"
   ]
  },
  {
   "cell_type": "code",
   "execution_count": 46,
   "id": "375a09c9",
   "metadata": {
    "scrolled": true
   },
   "outputs": [
    {
     "data": {
      "text/plain": [
       "762"
      ]
     },
     "execution_count": 46,
     "metadata": {},
     "output_type": "execute_result"
    }
   ],
   "source": [
    "# How many institutions offer bachelor's degrees whose name contains the term \"Computer Science\"?\n",
    "\n",
    "fields_of_study_df.loc[(fields_of_study_df['CIPDESC'].str.contains('Computer Science')) &\n",
    "                       (fields_of_study_df['CREDDESC'] == 'Bachelors Degree'), 'INSTNM'].unique().size"
   ]
  },
  {
   "cell_type": "code",
   "execution_count": 49,
   "id": "1559a1e7",
   "metadata": {
    "scrolled": true
   },
   "outputs": [
    {
     "data": {
      "text/html": [
       "<div>\n",
       "<style scoped>\n",
       "    .dataframe tbody tr th:only-of-type {\n",
       "        vertical-align: middle;\n",
       "    }\n",
       "\n",
       "    .dataframe tbody tr th {\n",
       "        vertical-align: top;\n",
       "    }\n",
       "\n",
       "    .dataframe thead th {\n",
       "        text-align: right;\n",
       "    }\n",
       "</style>\n",
       "<table border=\"1\" class=\"dataframe\">\n",
       "  <thead>\n",
       "    <tr style=\"text-align: right;\">\n",
       "      <th></th>\n",
       "      <th>INSTNM</th>\n",
       "    </tr>\n",
       "    <tr>\n",
       "      <th>CONTROL</th>\n",
       "      <th></th>\n",
       "    </tr>\n",
       "  </thead>\n",
       "  <tbody>\n",
       "    <tr>\n",
       "      <th>Foreign</th>\n",
       "      <td>32</td>\n",
       "    </tr>\n",
       "    <tr>\n",
       "      <th>Private, for-profit</th>\n",
       "      <td>18</td>\n",
       "    </tr>\n",
       "    <tr>\n",
       "      <th>Private, nonprofit</th>\n",
       "      <td>501</td>\n",
       "    </tr>\n",
       "    <tr>\n",
       "      <th>Public</th>\n",
       "      <td>273</td>\n",
       "    </tr>\n",
       "  </tbody>\n",
       "</table>\n",
       "</div>"
      ],
      "text/plain": [
       "                     INSTNM\n",
       "CONTROL                    \n",
       "Foreign                  32\n",
       "Private, for-profit      18\n",
       "Private, nonprofit      501\n",
       "Public                  273"
      ]
     },
     "execution_count": 49,
     "metadata": {},
     "output_type": "execute_result"
    }
   ],
   "source": [
    "# The CONTROL field describes the types of institutions in the database.\n",
    "# How many of each type offer a computer-science program?\n",
    "\n",
    "fields_of_study_df.loc[(fields_of_study_df['CIPDESC'].str.contains('Computer Science')) &\n",
    "                       (fields_of_study_df['CREDDESC'] == 'Bachelors Degree'), ['CONTROL','INSTNM']].groupby('CONTROL').count()"
   ]
  },
  {
   "cell_type": "code",
   "execution_count": 18,
   "id": "bc5e762d",
   "metadata": {},
   "outputs": [
    {
     "data": {
      "text/plain": [
       "<AxesSubplot:ylabel='INSTNM'>"
      ]
     },
     "execution_count": 18,
     "metadata": {},
     "output_type": "execute_result"
    },
    {
     "data": {
      "image/png": "[encoded data removed]",
      "text/plain": [
       "<Figure size 432x288 with 1 Axes>"
      ]
     },
     "metadata": {},
     "output_type": "display_data"
    }
   ],
   "source": [
    "# Create a pie chart showing the different types of institutions that offer CS degrees\n",
    "fields_of_study_df.loc[(fields_of_study_df['CIPDESC'].str.contains('Computer Science')) &\n",
    "                       (fields_of_study_df['CREDDESC'] == 'Bachelors Degree'), ['CONTROL','INSTNM']].groupby('CONTROL').count()['INSTNM'].plot.pie()"
   ]
  },
  {
   "cell_type": "code",
   "execution_count": 19,
   "id": "a13b52c4",
   "metadata": {},
   "outputs": [
    {
     "data": {
      "text/plain": [
       "count     1139.000000\n",
       "mean     26996.482002\n",
       "std      14903.734488\n",
       "min       3154.000000\n",
       "25%      13202.500000\n",
       "50%      24320.000000\n",
       "75%      37836.000000\n",
       "max      61671.000000\n",
       "Name: TUITIONFEE_OUT, dtype: float64"
      ]
     },
     "execution_count": 19,
     "metadata": {},
     "output_type": "execute_result"
    }
   ],
   "source": [
    "# What are the minimum, median, mean, and maximum tuitions for an undergrad CS degree?  \n",
    "# (We'll define this as a bachelor's program with the phrase \"Computer Science\" in the name.)\n",
    "# When comparing tuition, use TUITIONFEE_OUT for all schools.\n",
    "\n",
    "comp_sci_universities = fields_of_study_df.loc[(fields_of_study_df['CIPDESC'].str.contains('Computer Science')) &\n",
    "                           (fields_of_study_df['CREDDESC'] == 'Bachelors Degree'), ['OPEID6','CONTROL','INSTNM']].set_index('OPEID6')\n",
    "\n",
    "comp_sci_universities.join(institutions_df[['OPEID6', 'TUITIONFEE_OUT']].set_index('OPEID6'))['TUITIONFEE_OUT'].describe()"
   ]
  },
  {
   "cell_type": "code",
   "execution_count": 56,
   "id": "a2d480bb",
   "metadata": {
    "scrolled": true
   },
   "outputs": [
    {
     "data": {
      "text/html": [
       "<div>\n",
       "<style scoped>\n",
       "    .dataframe tbody tr th:only-of-type {\n",
       "        vertical-align: middle;\n",
       "    }\n",
       "\n",
       "    .dataframe tbody tr th {\n",
       "        vertical-align: top;\n",
       "    }\n",
       "\n",
       "    .dataframe thead th {\n",
       "        text-align: right;\n",
       "    }\n",
       "</style>\n",
       "<table border=\"1\" class=\"dataframe\">\n",
       "  <thead>\n",
       "    <tr style=\"text-align: right;\">\n",
       "      <th>CONTROL</th>\n",
       "      <th>Private, for-profit</th>\n",
       "      <th>Private, nonprofit</th>\n",
       "      <th>Public</th>\n",
       "    </tr>\n",
       "  </thead>\n",
       "  <tbody>\n",
       "    <tr>\n",
       "      <th>count</th>\n",
       "      <td>136.000000</td>\n",
       "      <td>582.000000</td>\n",
       "      <td>421.000000</td>\n",
       "    </tr>\n",
       "    <tr>\n",
       "      <th>mean</th>\n",
       "      <td>12359.161765</td>\n",
       "      <td>33789.982818</td>\n",
       "      <td>22333.437055</td>\n",
       "    </tr>\n",
       "    <tr>\n",
       "      <th>std</th>\n",
       "      <td>1954.582965</td>\n",
       "      <td>15973.754351</td>\n",
       "      <td>9618.584458</td>\n",
       "    </tr>\n",
       "    <tr>\n",
       "      <th>min</th>\n",
       "      <td>8280.000000</td>\n",
       "      <td>4300.000000</td>\n",
       "      <td>3154.000000</td>\n",
       "    </tr>\n",
       "    <tr>\n",
       "      <th>25%</th>\n",
       "      <td>12054.000000</td>\n",
       "      <td>20260.000000</td>\n",
       "      <td>15636.000000</td>\n",
       "    </tr>\n",
       "    <tr>\n",
       "      <th>50%</th>\n",
       "      <td>12233.000000</td>\n",
       "      <td>34245.000000</td>\n",
       "      <td>21312.000000</td>\n",
       "    </tr>\n",
       "    <tr>\n",
       "      <th>75%</th>\n",
       "      <td>12233.000000</td>\n",
       "      <td>47128.500000</td>\n",
       "      <td>27540.000000</td>\n",
       "    </tr>\n",
       "    <tr>\n",
       "      <th>max</th>\n",
       "      <td>25820.000000</td>\n",
       "      <td>61671.000000</td>\n",
       "      <td>47220.000000</td>\n",
       "    </tr>\n",
       "  </tbody>\n",
       "</table>\n",
       "</div>"
      ],
      "text/plain": [
       "CONTROL  Private, for-profit  Private, nonprofit        Public\n",
       "count             136.000000          582.000000    421.000000\n",
       "mean            12359.161765        33789.982818  22333.437055\n",
       "std              1954.582965        15973.754351   9618.584458\n",
       "min              8280.000000         4300.000000   3154.000000\n",
       "25%             12054.000000        20260.000000  15636.000000\n",
       "50%             12233.000000        34245.000000  21312.000000\n",
       "75%             12233.000000        47128.500000  27540.000000\n",
       "max             25820.000000        61671.000000  47220.000000"
      ]
     },
     "execution_count": 56,
     "metadata": {},
     "output_type": "execute_result"
    }
   ],
   "source": [
    "# Describe the tuition again, but grouped by the different types of universities (\"CONTROL\")\n",
    "\n",
    "comp_sci_universities = fields_of_study_df.loc[(fields_of_study_df['CIPDESC'].str.contains('Computer Science')) &\n",
    "                           (fields_of_study_df['CREDDESC'] == 'Bachelors Degree'), ['OPEID6','CONTROL','INSTNM']].set_index('OPEID6')\n",
    "\n",
    "comp_sci_universities.join(institutions_df[['OPEID6', 'TUITIONFEE_OUT']].set_index('OPEID6')).groupby('CONTROL')['TUITIONFEE_OUT'].describe().dropna().T"
   ]
  },
  {
   "cell_type": "code",
   "execution_count": 21,
   "id": "909bcdfa",
   "metadata": {
    "scrolled": true
   },
   "outputs": [
    {
     "data": {
      "text/html": [
       "<div>\n",
       "<style scoped>\n",
       "    .dataframe tbody tr th:only-of-type {\n",
       "        vertical-align: middle;\n",
       "    }\n",
       "\n",
       "    .dataframe tbody tr th {\n",
       "        vertical-align: top;\n",
       "    }\n",
       "\n",
       "    .dataframe thead th {\n",
       "        text-align: right;\n",
       "    }\n",
       "</style>\n",
       "<table border=\"1\" class=\"dataframe\">\n",
       "  <thead>\n",
       "    <tr style=\"text-align: right;\">\n",
       "      <th></th>\n",
       "      <th>ADM_RATE</th>\n",
       "      <th>TUITIONFEE_OUT</th>\n",
       "    </tr>\n",
       "  </thead>\n",
       "  <tbody>\n",
       "    <tr>\n",
       "      <th>ADM_RATE</th>\n",
       "      <td>1.000000</td>\n",
       "      <td>-0.309658</td>\n",
       "    </tr>\n",
       "    <tr>\n",
       "      <th>TUITIONFEE_OUT</th>\n",
       "      <td>-0.309658</td>\n",
       "      <td>1.000000</td>\n",
       "    </tr>\n",
       "  </tbody>\n",
       "</table>\n",
       "</div>"
      ],
      "text/plain": [
       "                ADM_RATE  TUITIONFEE_OUT\n",
       "ADM_RATE        1.000000       -0.309658\n",
       "TUITIONFEE_OUT -0.309658        1.000000"
      ]
     },
     "execution_count": 21,
     "metadata": {},
     "output_type": "execute_result"
    }
   ],
   "source": [
    "# What is the correlation between admission rate and tuition cost?\n",
    "# How would you interpret this?\n",
    "\n",
    "institutions_df[['ADM_RATE', 'TUITIONFEE_OUT']].corr()"
   ]
  },
  {
   "cell_type": "code",
   "execution_count": 22,
   "id": "efc809ed",
   "metadata": {},
   "outputs": [
    {
     "data": {
      "text/plain": [
       "<AxesSubplot:xlabel='TUITIONFEE_OUT', ylabel='ADM_RATE'>"
      ]
     },
     "execution_count": 22,
     "metadata": {},
     "output_type": "execute_result"
    },
    {
     "data": {
      "image/png": "[encoded data removed]",
      "text/plain": [
       "<Figure size 432x288 with 2 Axes>"
      ]
     },
     "metadata": {
      "needs_background": "light"
     },
     "output_type": "display_data"
    }
   ],
   "source": [
    "# Create a scatter plot in which tuition is on the x axis, and admission rate is on the y axis,\n",
    "# the median earnings after 10 years are used for colorizing, and we use the \"Spectral\" colormap.\n",
    "# Where do the lowest-paid graduates show up on the graph?\n",
    "\n",
    "institutions_df.plot.scatter(x='TUITIONFEE_OUT', y='ADM_RATE', \n",
    "                             c='MD_EARN_WNE_P10', \n",
    "                             colormap='Spectral')"
   ]
  },
  {
   "cell_type": "code",
   "execution_count": 23,
   "id": "7a79ba52",
   "metadata": {},
   "outputs": [
    {
     "data": {
      "text/html": [
       "<div>\n",
       "<style scoped>\n",
       "    .dataframe tbody tr th:only-of-type {\n",
       "        vertical-align: middle;\n",
       "    }\n",
       "\n",
       "    .dataframe tbody tr th {\n",
       "        vertical-align: top;\n",
       "    }\n",
       "\n",
       "    .dataframe thead th {\n",
       "        text-align: right;\n",
       "    }\n",
       "</style>\n",
       "<table border=\"1\" class=\"dataframe\">\n",
       "  <thead>\n",
       "    <tr style=\"text-align: right;\">\n",
       "      <th></th>\n",
       "      <th>INSTNM</th>\n",
       "      <th>CITY</th>\n",
       "      <th>STABBR</th>\n",
       "    </tr>\n",
       "  </thead>\n",
       "  <tbody>\n",
       "    <tr>\n",
       "      <th>5491</th>\n",
       "      <td>Antioch College</td>\n",
       "      <td>Yellow Springs</td>\n",
       "      <td>OH</td>\n",
       "    </tr>\n",
       "    <tr>\n",
       "      <th>1206</th>\n",
       "      <td>Berea College</td>\n",
       "      <td>Berea</td>\n",
       "      <td>KY</td>\n",
       "    </tr>\n",
       "    <tr>\n",
       "      <th>1930</th>\n",
       "      <td>Berkeley College-Woodland Park</td>\n",
       "      <td>Woodland Park</td>\n",
       "      <td>NJ</td>\n",
       "    </tr>\n",
       "    <tr>\n",
       "      <th>1932</th>\n",
       "      <td>Bloomfield College</td>\n",
       "      <td>Bloomfield</td>\n",
       "      <td>NJ</td>\n",
       "    </tr>\n",
       "    <tr>\n",
       "      <th>2334</th>\n",
       "      <td>Chowan University</td>\n",
       "      <td>Murfreesboro</td>\n",
       "      <td>NC</td>\n",
       "    </tr>\n",
       "    <tr>\n",
       "      <th>1543</th>\n",
       "      <td>Dorsey College</td>\n",
       "      <td>Madison Heights</td>\n",
       "      <td>MI</td>\n",
       "    </tr>\n",
       "    <tr>\n",
       "      <th>3758</th>\n",
       "      <td>Dorsey College-Roseville</td>\n",
       "      <td>Roseville</td>\n",
       "      <td>MI</td>\n",
       "    </tr>\n",
       "    <tr>\n",
       "      <th>5138</th>\n",
       "      <td>Dorsey College-Saginaw</td>\n",
       "      <td>Saginaw</td>\n",
       "      <td>MI</td>\n",
       "    </tr>\n",
       "    <tr>\n",
       "      <th>3734</th>\n",
       "      <td>Dorsey College-Wayne</td>\n",
       "      <td>Wayne</td>\n",
       "      <td>MI</td>\n",
       "    </tr>\n",
       "    <tr>\n",
       "      <th>1542</th>\n",
       "      <td>Dorsey School of Business-Madison Heights</td>\n",
       "      <td>Madison Heights</td>\n",
       "      <td>MI</td>\n",
       "    </tr>\n",
       "    <tr>\n",
       "      <th>5718</th>\n",
       "      <td>Felbry College School of Nursing</td>\n",
       "      <td>Columbus</td>\n",
       "      <td>OH</td>\n",
       "    </tr>\n",
       "    <tr>\n",
       "      <th>4008</th>\n",
       "      <td>Fortis Institute-Scranton</td>\n",
       "      <td>Scranton</td>\n",
       "      <td>PA</td>\n",
       "    </tr>\n",
       "    <tr>\n",
       "      <th>5146</th>\n",
       "      <td>Hawaii Medical College</td>\n",
       "      <td>Honolulu</td>\n",
       "      <td>HI</td>\n",
       "    </tr>\n",
       "    <tr>\n",
       "      <th>5895</th>\n",
       "      <td>Institute of Medical Ultrasound</td>\n",
       "      <td>Atlanta</td>\n",
       "      <td>GA</td>\n",
       "    </tr>\n",
       "    <tr>\n",
       "      <th>3579</th>\n",
       "      <td>Mount Mary University</td>\n",
       "      <td>Milwaukee</td>\n",
       "      <td>WI</td>\n",
       "    </tr>\n",
       "    <tr>\n",
       "      <th>1487</th>\n",
       "      <td>Pine Manor College</td>\n",
       "      <td>Chestnut Hill</td>\n",
       "      <td>MA</td>\n",
       "    </tr>\n",
       "    <tr>\n",
       "      <th>4647</th>\n",
       "      <td>SAE Institute of Technology-Nashville</td>\n",
       "      <td>Nashville</td>\n",
       "      <td>TN</td>\n",
       "    </tr>\n",
       "    <tr>\n",
       "      <th>2945</th>\n",
       "      <td>Williamson College of the Trades</td>\n",
       "      <td>Media</td>\n",
       "      <td>PA</td>\n",
       "    </tr>\n",
       "  </tbody>\n",
       "</table>\n",
       "</div>"
      ],
      "text/plain": [
       "                                         INSTNM             CITY STABBR\n",
       "5491                            Antioch College   Yellow Springs     OH\n",
       "1206                              Berea College            Berea     KY\n",
       "1930             Berkeley College-Woodland Park    Woodland Park     NJ\n",
       "1932                         Bloomfield College       Bloomfield     NJ\n",
       "2334                          Chowan University     Murfreesboro     NC\n",
       "1543                             Dorsey College  Madison Heights     MI\n",
       "3758                   Dorsey College-Roseville        Roseville     MI\n",
       "5138                     Dorsey College-Saginaw          Saginaw     MI\n",
       "3734                       Dorsey College-Wayne            Wayne     MI\n",
       "1542  Dorsey School of Business-Madison Heights  Madison Heights     MI\n",
       "5718           Felbry College School of Nursing         Columbus     OH\n",
       "4008                  Fortis Institute-Scranton         Scranton     PA\n",
       "5146                     Hawaii Medical College         Honolulu     HI\n",
       "5895            Institute of Medical Ultrasound          Atlanta     GA\n",
       "3579                      Mount Mary University        Milwaukee     WI\n",
       "1487                         Pine Manor College    Chestnut Hill     MA\n",
       "4647      SAE Institute of Technology-Nashville        Nashville     TN\n",
       "2945           Williamson College of the Trades            Media     PA"
      ]
     },
     "execution_count": 23,
     "metadata": {},
     "output_type": "execute_result"
    }
   ],
   "source": [
    "# Which universities are in the top 25% of tuition, and also the top 25% of percentage with Pell grants?\n",
    "# Print only the institution name, city, and state, ordered by institution name\n",
    "\n",
    "institutions_df.loc[(institutions_df['TUITIONFEE_OUT'] > institutions_df['TUITIONFEE_OUT'].quantile(0.75)) &\n",
    "                    (institutions_df['FTFTPCTPELL'] > institutions_df['FTFTPCTPELL'].quantile(0.75)),\n",
    "                    ['INSTNM', 'CITY', 'STABBR']].sort_values(by='INSTNM')"
   ]
  },
  {
   "cell_type": "code",
   "execution_count": 57,
   "id": "56dff31b",
   "metadata": {
    "scrolled": false
   },
   "outputs": [
    {
     "data": {
      "text/plain": [
       "12"
      ]
     },
     "execution_count": 57,
     "metadata": {},
     "output_type": "execute_result"
    }
   ],
   "source": [
    "# NPT4_PUB indicates the average net price for public institutions (in-state tuition)\n",
    "# and NPT4_PRIV for private institutions.  \n",
    "\n",
    "# NPT41_PUB and NPT45_PUB show the average price paid by people in the lowest income\n",
    "# bracket (1) vs. the highest income bracket (5) at public institutions.\n",
    "\n",
    "# NPT41_PRIV and NPT45_PRIV show the average price paid by people in the lowest income\n",
    "# bracket (1) vs. the highest income bracket (5) at private institutions.\n",
    "\n",
    "# In how many institutions does the bottom quintile receive money (i.e., is the \n",
    "# value negative)?\n",
    "\n",
    "# Using logical \"or\" with |\n",
    "institutions_df.loc[((institutions_df['NPT41_PUB'] < 0) |\n",
    "                     (institutions_df['NPT41_PRIV'] < 0)), 'INSTNM'].count()"
   ]
  },
  {
   "cell_type": "code",
   "execution_count": 62,
   "id": "27e01249",
   "metadata": {},
   "outputs": [
    {
     "data": {
      "text/plain": [
       "12"
      ]
     },
     "execution_count": 62,
     "metadata": {},
     "output_type": "execute_result"
    }
   ],
   "source": [
    "# Using .add\n",
    "institutions_df.loc[institutions_df['NPT41_PUB'].add(institutions_df['NPT41_PRIV'], fill_value=0) < 0,\n",
    "                   'INSTNM'].count()"
   ]
  },
  {
   "cell_type": "code",
   "execution_count": 25,
   "id": "2a068bd9",
   "metadata": {},
   "outputs": [
    {
     "data": {
      "text/plain": [
       "0.5233221766529079"
      ]
     },
     "execution_count": 25,
     "metadata": {},
     "output_type": "execute_result"
    }
   ],
   "source": [
    "# What is the average proportion that the bottom quintile pays vs. the top quintile, in public universities?\n",
    "\n",
    "(institutions_df['NPT41_PUB'] / institutions_df['NPT45_PUB']).mean()"
   ]
  },
  {
   "cell_type": "code",
   "execution_count": 26,
   "id": "0be157df",
   "metadata": {},
   "outputs": [
    {
     "data": {
      "text/plain": [
       "0.714905619436487"
      ]
     },
     "execution_count": 26,
     "metadata": {},
     "output_type": "execute_result"
    }
   ],
   "source": [
    "# What is the average proportion that the bottom quintile pays vs. the top quintile, in private universities?\n",
    "\n",
    "(institutions_df['NPT41_PRIV'] / institutions_df['NPT45_PRIV']).mean()"
   ]
  },
  {
   "cell_type": "code",
   "execution_count": 64,
   "id": "8b42bb41",
   "metadata": {
    "scrolled": true
   },
   "outputs": [
    {
     "data": {
      "text/html": [
       "<div>\n",
       "<style scoped>\n",
       "    .dataframe tbody tr th:only-of-type {\n",
       "        vertical-align: middle;\n",
       "    }\n",
       "\n",
       "    .dataframe tbody tr th {\n",
       "        vertical-align: top;\n",
       "    }\n",
       "\n",
       "    .dataframe thead th {\n",
       "        text-align: right;\n",
       "    }\n",
       "</style>\n",
       "<table border=\"1\" class=\"dataframe\">\n",
       "  <thead>\n",
       "    <tr style=\"text-align: right;\">\n",
       "      <th></th>\n",
       "      <th>INSTNM</th>\n",
       "      <th>STABBR</th>\n",
       "      <th>CITY</th>\n",
       "    </tr>\n",
       "  </thead>\n",
       "  <tbody>\n",
       "    <tr>\n",
       "      <th>203</th>\n",
       "      <td>California State University-Dominguez Hills</td>\n",
       "      <td>CA</td>\n",
       "      <td>Carson</td>\n",
       "    </tr>\n",
       "    <tr>\n",
       "      <th>267</th>\n",
       "      <td>De Anza College</td>\n",
       "      <td>CA</td>\n",
       "      <td>Cupertino</td>\n",
       "    </tr>\n",
       "    <tr>\n",
       "      <th>208</th>\n",
       "      <td>California State University-Los Angeles</td>\n",
       "      <td>CA</td>\n",
       "      <td>Los Angeles</td>\n",
       "    </tr>\n",
       "    <tr>\n",
       "      <th>363</th>\n",
       "      <td>Moorpark College</td>\n",
       "      <td>CA</td>\n",
       "      <td>Moorpark</td>\n",
       "    </tr>\n",
       "    <tr>\n",
       "      <th>228</th>\n",
       "      <td>Canada College</td>\n",
       "      <td>CA</td>\n",
       "      <td>Redwood City</td>\n",
       "    </tr>\n",
       "    <tr>\n",
       "      <th>450</th>\n",
       "      <td>Skyline College</td>\n",
       "      <td>CA</td>\n",
       "      <td>San Bruno</td>\n",
       "    </tr>\n",
       "    <tr>\n",
       "      <th>432</th>\n",
       "      <td>College of San Mateo</td>\n",
       "      <td>CA</td>\n",
       "      <td>San Mateo</td>\n",
       "    </tr>\n",
       "    <tr>\n",
       "      <th>652</th>\n",
       "      <td>University of Florida</td>\n",
       "      <td>FL</td>\n",
       "      <td>Gainesville</td>\n",
       "    </tr>\n",
       "    <tr>\n",
       "      <th>5563</th>\n",
       "      <td>University of Florida-Online</td>\n",
       "      <td>FL</td>\n",
       "      <td>Gainesville</td>\n",
       "    </tr>\n",
       "    <tr>\n",
       "      <th>645</th>\n",
       "      <td>Florida International University</td>\n",
       "      <td>FL</td>\n",
       "      <td>Miami</td>\n",
       "    </tr>\n",
       "    <tr>\n",
       "      <th>656</th>\n",
       "      <td>George T Baker Aviation Technical College</td>\n",
       "      <td>FL</td>\n",
       "      <td>Miami</td>\n",
       "    </tr>\n",
       "    <tr>\n",
       "      <th>2013</th>\n",
       "      <td>New Mexico Military Institute</td>\n",
       "      <td>NM</td>\n",
       "      <td>Roswell</td>\n",
       "    </tr>\n",
       "    <tr>\n",
       "      <th>2105</th>\n",
       "      <td>CUNY Lehman College</td>\n",
       "      <td>NY</td>\n",
       "      <td>Bronx</td>\n",
       "    </tr>\n",
       "    <tr>\n",
       "      <th>2096</th>\n",
       "      <td>CUNY Brooklyn College</td>\n",
       "      <td>NY</td>\n",
       "      <td>Brooklyn</td>\n",
       "    </tr>\n",
       "    <tr>\n",
       "      <th>2111</th>\n",
       "      <td>CUNY York College</td>\n",
       "      <td>NY</td>\n",
       "      <td>Jamaica</td>\n",
       "    </tr>\n",
       "    <tr>\n",
       "      <th>2093</th>\n",
       "      <td>CUNY Bernard M Baruch College</td>\n",
       "      <td>NY</td>\n",
       "      <td>New York</td>\n",
       "    </tr>\n",
       "    <tr>\n",
       "      <th>2098</th>\n",
       "      <td>CUNY City College</td>\n",
       "      <td>NY</td>\n",
       "      <td>New York</td>\n",
       "    </tr>\n",
       "    <tr>\n",
       "      <th>2101</th>\n",
       "      <td>CUNY Hunter College</td>\n",
       "      <td>NY</td>\n",
       "      <td>New York</td>\n",
       "    </tr>\n",
       "    <tr>\n",
       "      <th>2102</th>\n",
       "      <td>CUNY John Jay College of Criminal Justice</td>\n",
       "      <td>NY</td>\n",
       "      <td>New York</td>\n",
       "    </tr>\n",
       "    <tr>\n",
       "      <th>2108</th>\n",
       "      <td>CUNY Queens College</td>\n",
       "      <td>NY</td>\n",
       "      <td>Queens</td>\n",
       "    </tr>\n",
       "    <tr>\n",
       "      <th>2097</th>\n",
       "      <td>College of Staten Island CUNY</td>\n",
       "      <td>NY</td>\n",
       "      <td>Staten Island</td>\n",
       "    </tr>\n",
       "    <tr>\n",
       "      <th>3218</th>\n",
       "      <td>Texas A &amp; M International University</td>\n",
       "      <td>TX</td>\n",
       "      <td>Laredo</td>\n",
       "    </tr>\n",
       "  </tbody>\n",
       "</table>\n",
       "</div>"
      ],
      "text/plain": [
       "                                           INSTNM STABBR           CITY\n",
       "203   California State University-Dominguez Hills     CA         Carson\n",
       "267                               De Anza College     CA      Cupertino\n",
       "208       California State University-Los Angeles     CA    Los Angeles\n",
       "363                              Moorpark College     CA       Moorpark\n",
       "228                                Canada College     CA   Redwood City\n",
       "450                               Skyline College     CA      San Bruno\n",
       "432                          College of San Mateo     CA      San Mateo\n",
       "652                         University of Florida     FL    Gainesville\n",
       "5563                 University of Florida-Online     FL    Gainesville\n",
       "645              Florida International University     FL          Miami\n",
       "656     George T Baker Aviation Technical College     FL          Miami\n",
       "2013                New Mexico Military Institute     NM        Roswell\n",
       "2105                          CUNY Lehman College     NY          Bronx\n",
       "2096                        CUNY Brooklyn College     NY       Brooklyn\n",
       "2111                            CUNY York College     NY        Jamaica\n",
       "2093                CUNY Bernard M Baruch College     NY       New York\n",
       "2098                            CUNY City College     NY       New York\n",
       "2101                          CUNY Hunter College     NY       New York\n",
       "2102    CUNY John Jay College of Criminal Justice     NY       New York\n",
       "2108                          CUNY Queens College     NY         Queens\n",
       "2097                College of Staten Island CUNY     NY  Staten Island\n",
       "3218         Texas A & M International University     TX         Laredo"
      ]
     },
     "execution_count": 64,
     "metadata": {},
     "output_type": "execute_result"
    }
   ],
   "source": [
    "# Let's try to figure out which universities offer the best overall ROI (across all disciplines).\n",
    "# What schools are in the cheapest 25%, but 10 years after graduation, students have the top 25% of salaries?\n",
    "\n",
    "\n",
    "# First, public institutions\n",
    "institutions_df.loc[(institutions_df['NPT4_PUB'] <= institutions_df['NPT4_PUB'].quantile(0.25)) &\n",
    "                    (institutions_df['MD_EARN_WNE_P10'] >= institutions_df['MD_EARN_WNE_P10'].quantile(0.75)),\n",
    "                   ['INSTNM', 'STABBR', 'CITY']].sort_values(by=['STABBR', 'CITY'])"
   ]
  },
  {
   "cell_type": "code",
   "execution_count": 66,
   "id": "d29bde8a",
   "metadata": {
    "scrolled": true
   },
   "outputs": [
    {
     "data": {
      "text/html": [
       "<div>\n",
       "<style scoped>\n",
       "    .dataframe tbody tr th:only-of-type {\n",
       "        vertical-align: middle;\n",
       "    }\n",
       "\n",
       "    .dataframe tbody tr th {\n",
       "        vertical-align: top;\n",
       "    }\n",
       "\n",
       "    .dataframe thead th {\n",
       "        text-align: right;\n",
       "    }\n",
       "</style>\n",
       "<table border=\"1\" class=\"dataframe\">\n",
       "  <thead>\n",
       "    <tr style=\"text-align: right;\">\n",
       "      <th></th>\n",
       "      <th>INSTNM</th>\n",
       "      <th>STABBR</th>\n",
       "      <th>CITY</th>\n",
       "    </tr>\n",
       "  </thead>\n",
       "  <tbody>\n",
       "    <tr>\n",
       "      <th>4795</th>\n",
       "      <td>Columbia Southern University</td>\n",
       "      <td>AL</td>\n",
       "      <td>Orange Beach</td>\n",
       "    </tr>\n",
       "    <tr>\n",
       "      <th>3695</th>\n",
       "      <td>Stanford University</td>\n",
       "      <td>CA</td>\n",
       "      <td>Stanford</td>\n",
       "    </tr>\n",
       "    <tr>\n",
       "      <th>4208</th>\n",
       "      <td>Mercy Hospital School of Practical Nursing-Pla...</td>\n",
       "      <td>FL</td>\n",
       "      <td>Miami</td>\n",
       "    </tr>\n",
       "    <tr>\n",
       "      <th>842</th>\n",
       "      <td>Brigham Young University-Idaho</td>\n",
       "      <td>ID</td>\n",
       "      <td>Rexburg</td>\n",
       "    </tr>\n",
       "    <tr>\n",
       "      <th>895</th>\n",
       "      <td>Graham Hospital School of Nursing</td>\n",
       "      <td>IL</td>\n",
       "      <td>Canton</td>\n",
       "    </tr>\n",
       "    <tr>\n",
       "      <th>978</th>\n",
       "      <td>Saint Xavier University</td>\n",
       "      <td>IL</td>\n",
       "      <td>Chicago</td>\n",
       "    </tr>\n",
       "    <tr>\n",
       "      <th>1011</th>\n",
       "      <td>Calumet College of Saint Joseph</td>\n",
       "      <td>IN</td>\n",
       "      <td>Whiting</td>\n",
       "    </tr>\n",
       "    <tr>\n",
       "      <th>1297</th>\n",
       "      <td>University of Holy Cross</td>\n",
       "      <td>LA</td>\n",
       "      <td>New Orleans</td>\n",
       "    </tr>\n",
       "    <tr>\n",
       "      <th>1448</th>\n",
       "      <td>Harvard University</td>\n",
       "      <td>MA</td>\n",
       "      <td>Cambridge</td>\n",
       "    </tr>\n",
       "    <tr>\n",
       "      <th>1383</th>\n",
       "      <td>Ner Israel Rabbinical College</td>\n",
       "      <td>MD</td>\n",
       "      <td>Baltimore</td>\n",
       "    </tr>\n",
       "    <tr>\n",
       "      <th>1775</th>\n",
       "      <td>Logan University</td>\n",
       "      <td>MO</td>\n",
       "      <td>Chesterfield</td>\n",
       "    </tr>\n",
       "    <tr>\n",
       "      <th>1877</th>\n",
       "      <td>College of Saint Mary</td>\n",
       "      <td>NE</td>\n",
       "      <td>Omaha</td>\n",
       "    </tr>\n",
       "    <tr>\n",
       "      <th>1989</th>\n",
       "      <td>Saint Peter's University</td>\n",
       "      <td>NJ</td>\n",
       "      <td>Jersey City</td>\n",
       "    </tr>\n",
       "    <tr>\n",
       "      <th>1979</th>\n",
       "      <td>Princeton University</td>\n",
       "      <td>NJ</td>\n",
       "      <td>Princeton</td>\n",
       "    </tr>\n",
       "    <tr>\n",
       "      <th>1948</th>\n",
       "      <td>Fairleigh Dickinson University-Metropolitan Ca...</td>\n",
       "      <td>NJ</td>\n",
       "      <td>Teaneck</td>\n",
       "    </tr>\n",
       "    <tr>\n",
       "      <th>2162</th>\n",
       "      <td>Maria College of Albany</td>\n",
       "      <td>NY</td>\n",
       "      <td>Albany</td>\n",
       "    </tr>\n",
       "    <tr>\n",
       "      <th>2231</th>\n",
       "      <td>St Francis College</td>\n",
       "      <td>NY</td>\n",
       "      <td>Brooklyn Heights</td>\n",
       "    </tr>\n",
       "    <tr>\n",
       "      <th>2087</th>\n",
       "      <td>Cooper Union for the Advancement of Science an...</td>\n",
       "      <td>NY</td>\n",
       "      <td>New York</td>\n",
       "    </tr>\n",
       "    <tr>\n",
       "      <th>2509</th>\n",
       "      <td>Franklin University</td>\n",
       "      <td>OH</td>\n",
       "      <td>Columbus</td>\n",
       "    </tr>\n",
       "    <tr>\n",
       "      <th>4755</th>\n",
       "      <td>ATA College</td>\n",
       "      <td>OK</td>\n",
       "      <td>Tulsa</td>\n",
       "    </tr>\n",
       "    <tr>\n",
       "      <th>5369</th>\n",
       "      <td>Mercyhurst University-North East Campus</td>\n",
       "      <td>PA</td>\n",
       "      <td>North East</td>\n",
       "    </tr>\n",
       "    <tr>\n",
       "      <th>2866</th>\n",
       "      <td>Peirce College</td>\n",
       "      <td>PA</td>\n",
       "      <td>Philadelphia</td>\n",
       "    </tr>\n",
       "    <tr>\n",
       "      <th>2954</th>\n",
       "      <td>New England Tractor Trailer Training School of...</td>\n",
       "      <td>RI</td>\n",
       "      <td>Pawtucket</td>\n",
       "    </tr>\n",
       "    <tr>\n",
       "      <th>3055</th>\n",
       "      <td>Baptist Health Sciences University</td>\n",
       "      <td>TN</td>\n",
       "      <td>Memphis</td>\n",
       "    </tr>\n",
       "    <tr>\n",
       "      <th>3061</th>\n",
       "      <td>Christian Brothers University</td>\n",
       "      <td>TN</td>\n",
       "      <td>Memphis</td>\n",
       "    </tr>\n",
       "    <tr>\n",
       "      <th>3962</th>\n",
       "      <td>Center for Advanced Legal Studies</td>\n",
       "      <td>TX</td>\n",
       "      <td>Houston</td>\n",
       "    </tr>\n",
       "    <tr>\n",
       "      <th>3319</th>\n",
       "      <td>Brigham Young University</td>\n",
       "      <td>UT</td>\n",
       "      <td>Provo</td>\n",
       "    </tr>\n",
       "    <tr>\n",
       "      <th>4322</th>\n",
       "      <td>Western Governors University</td>\n",
       "      <td>UT</td>\n",
       "      <td>Salt Lake City</td>\n",
       "    </tr>\n",
       "    <tr>\n",
       "      <th>3556</th>\n",
       "      <td>Beloit College</td>\n",
       "      <td>WI</td>\n",
       "      <td>Beloit</td>\n",
       "    </tr>\n",
       "    <tr>\n",
       "      <th>4732</th>\n",
       "      <td>American Public University System</td>\n",
       "      <td>WV</td>\n",
       "      <td>Charles Town</td>\n",
       "    </tr>\n",
       "  </tbody>\n",
       "</table>\n",
       "</div>"
      ],
      "text/plain": [
       "                                                 INSTNM STABBR  \\\n",
       "4795                       Columbia Southern University     AL   \n",
       "3695                                Stanford University     CA   \n",
       "4208  Mercy Hospital School of Practical Nursing-Pla...     FL   \n",
       "842                      Brigham Young University-Idaho     ID   \n",
       "895                   Graham Hospital School of Nursing     IL   \n",
       "978                             Saint Xavier University     IL   \n",
       "1011                    Calumet College of Saint Joseph     IN   \n",
       "1297                           University of Holy Cross     LA   \n",
       "1448                                 Harvard University     MA   \n",
       "1383                      Ner Israel Rabbinical College     MD   \n",
       "1775                                   Logan University     MO   \n",
       "1877                              College of Saint Mary     NE   \n",
       "1989                           Saint Peter's University     NJ   \n",
       "1979                               Princeton University     NJ   \n",
       "1948  Fairleigh Dickinson University-Metropolitan Ca...     NJ   \n",
       "2162                            Maria College of Albany     NY   \n",
       "2231                                 St Francis College     NY   \n",
       "2087  Cooper Union for the Advancement of Science an...     NY   \n",
       "2509                                Franklin University     OH   \n",
       "4755                                        ATA College     OK   \n",
       "5369            Mercyhurst University-North East Campus     PA   \n",
       "2866                                     Peirce College     PA   \n",
       "2954  New England Tractor Trailer Training School of...     RI   \n",
       "3055                 Baptist Health Sciences University     TN   \n",
       "3061                      Christian Brothers University     TN   \n",
       "3962                  Center for Advanced Legal Studies     TX   \n",
       "3319                           Brigham Young University     UT   \n",
       "4322                       Western Governors University     UT   \n",
       "3556                                     Beloit College     WI   \n",
       "4732                  American Public University System     WV   \n",
       "\n",
       "                  CITY  \n",
       "4795      Orange Beach  \n",
       "3695          Stanford  \n",
       "4208             Miami  \n",
       "842            Rexburg  \n",
       "895             Canton  \n",
       "978            Chicago  \n",
       "1011           Whiting  \n",
       "1297       New Orleans  \n",
       "1448         Cambridge  \n",
       "1383         Baltimore  \n",
       "1775      Chesterfield  \n",
       "1877             Omaha  \n",
       "1989       Jersey City  \n",
       "1979         Princeton  \n",
       "1948           Teaneck  \n",
       "2162            Albany  \n",
       "2231  Brooklyn Heights  \n",
       "2087          New York  \n",
       "2509          Columbus  \n",
       "4755             Tulsa  \n",
       "5369        North East  \n",
       "2866      Philadelphia  \n",
       "2954         Pawtucket  \n",
       "3055           Memphis  \n",
       "3061           Memphis  \n",
       "3962           Houston  \n",
       "3319             Provo  \n",
       "4322    Salt Lake City  \n",
       "3556            Beloit  \n",
       "4732      Charles Town  "
      ]
     },
     "execution_count": 66,
     "metadata": {},
     "output_type": "execute_result"
    }
   ],
   "source": [
    "# How about private institutions?\n",
    "\n",
    "institutions_df.loc[(institutions_df['NPT4_PRIV'] <= institutions_df['NPT4_PRIV'].quantile(0.25)) &\n",
    "                    (institutions_df['MD_EARN_WNE_P10'] >= institutions_df['MD_EARN_WNE_P10'].quantile(0.75)),\n",
    "                   ['INSTNM', 'STABBR', 'CITY']].sort_values(by=['STABBR', 'CITY'])"
   ]
  },
  {
   "cell_type": "code",
   "execution_count": 29,
   "id": "9c1df5cd",
   "metadata": {},
   "outputs": [
    {
     "data": {
      "text/html": [
       "<div>\n",
       "<style scoped>\n",
       "    .dataframe tbody tr th:only-of-type {\n",
       "        vertical-align: middle;\n",
       "    }\n",
       "\n",
       "    .dataframe tbody tr th {\n",
       "        vertical-align: top;\n",
       "    }\n",
       "\n",
       "    .dataframe thead th {\n",
       "        text-align: right;\n",
       "    }\n",
       "</style>\n",
       "<table border=\"1\" class=\"dataframe\">\n",
       "  <thead>\n",
       "    <tr style=\"text-align: right;\">\n",
       "      <th></th>\n",
       "      <th>C100_4</th>\n",
       "      <th>ADM_RATE</th>\n",
       "    </tr>\n",
       "  </thead>\n",
       "  <tbody>\n",
       "    <tr>\n",
       "      <th>C100_4</th>\n",
       "      <td>1.000000</td>\n",
       "      <td>-0.336871</td>\n",
       "    </tr>\n",
       "    <tr>\n",
       "      <th>ADM_RATE</th>\n",
       "      <td>-0.336871</td>\n",
       "      <td>1.000000</td>\n",
       "    </tr>\n",
       "  </tbody>\n",
       "</table>\n",
       "</div>"
      ],
      "text/plain": [
       "            C100_4  ADM_RATE\n",
       "C100_4    1.000000 -0.336871\n",
       "ADM_RATE -0.336871  1.000000"
      ]
     },
     "execution_count": 29,
     "metadata": {},
     "output_type": "execute_result"
    }
   ],
   "source": [
    "# Is there a correlation between admission rates and completion rates?  If a school is highly\n",
    "# selective, are students more likely to graduate?\n",
    "\n",
    "institutions_df[['C100_4', 'ADM_RATE']].corr()"
   ]
  },
  {
   "cell_type": "code",
   "execution_count": 31,
   "id": "0ee7d897",
   "metadata": {},
   "outputs": [
    {
     "data": {
      "text/html": [
       "<div>\n",
       "<style scoped>\n",
       "    .dataframe tbody tr th:only-of-type {\n",
       "        vertical-align: middle;\n",
       "    }\n",
       "\n",
       "    .dataframe tbody tr th {\n",
       "        vertical-align: top;\n",
       "    }\n",
       "\n",
       "    .dataframe thead th {\n",
       "        text-align: right;\n",
       "    }\n",
       "</style>\n",
       "<table border=\"1\" class=\"dataframe\">\n",
       "  <thead>\n",
       "    <tr style=\"text-align: right;\">\n",
       "      <th></th>\n",
       "      <th>MD_EARN_WNE_P10</th>\n",
       "    </tr>\n",
       "    <tr>\n",
       "      <th>CONTROL</th>\n",
       "      <th></th>\n",
       "    </tr>\n",
       "  </thead>\n",
       "  <tbody>\n",
       "    <tr>\n",
       "      <th>Private, for-profit</th>\n",
       "      <td>30474.754943</td>\n",
       "    </tr>\n",
       "    <tr>\n",
       "      <th>Private, nonprofit</th>\n",
       "      <td>48530.408744</td>\n",
       "    </tr>\n",
       "    <tr>\n",
       "      <th>Public</th>\n",
       "      <td>40314.442820</td>\n",
       "    </tr>\n",
       "  </tbody>\n",
       "</table>\n",
       "</div>"
      ],
      "text/plain": [
       "                     MD_EARN_WNE_P10\n",
       "CONTROL                             \n",
       "Private, for-profit     30474.754943\n",
       "Private, nonprofit      48530.408744\n",
       "Public                  40314.442820"
      ]
     },
     "execution_count": 31,
     "metadata": {},
     "output_type": "execute_result"
    }
   ],
   "source": [
    "# Ten years after graduating, from what kinds of schools (private, for-profit, private non-profit,\n",
    "# or public) do people earn, on average, the greatest amount?\n",
    "\n",
    "institutions_df[['OPEID6', 'MD_EARN_WNE_P10']].set_index('OPEID6').join(fields_of_study_df.groupby('OPEID6')['CONTROL'].min()).groupby('CONTROL').mean()"
   ]
  },
  {
   "cell_type": "code",
   "execution_count": 32,
   "id": "1fcaae0b",
   "metadata": {},
   "outputs": [
    {
     "data": {
      "text/plain": [
       "91806.81818181818"
      ]
     },
     "execution_count": 32,
     "metadata": {},
     "output_type": "execute_result"
    }
   ],
   "source": [
    "# Do people who graduate from \"Ivy Plus\" schools earn more than the average private-school\n",
    "# university graduate?  If so, then how much more?\n",
    "\n",
    "institutions_df.loc[institutions_df['INSTNM'].isin(['Harvard University', \n",
    "                               'Massachusetts Institute of Technology',\n",
    "                                                   'Yale University',\n",
    "                                                   'Columbia University in the City of New York',\n",
    "                                                   'Brown University',\n",
    "                                                   'Stanford University',\n",
    "                                                   'University of Chicago',\n",
    "                                                   'Dartmouth College',\n",
    "                                                   'University of Pennsylvania',\n",
    "                                                   'Cornell University',\n",
    "                                                   'Princeton University']), 'MD_EARN_WNE_P10'].mean()"
   ]
  },
  {
   "cell_type": "code",
   "execution_count": 33,
   "id": "18401ebc",
   "metadata": {
    "scrolled": false
   },
   "outputs": [
    {
     "data": {
      "text/plain": [
       "STABBR\n",
       "MA    53234.396226\n",
       "RI    50432.789474\n",
       "DC    49081.470588\n",
       "CT    48662.017857\n",
       "VT    48383.857143\n",
       "NY    47584.653199\n",
       "NH    46540.791667\n",
       "WA    44594.678161\n",
       "PA    44265.733083\n",
       "MN    43821.510204\n",
       "MD    42875.716418\n",
       "NJ    42797.201754\n",
       "CA    42634.263858\n",
       "AK    42270.714286\n",
       "NE    41762.105263\n",
       "HI    41685.000000\n",
       "WI    41674.013514\n",
       "VA    40912.412698\n",
       "NV    40906.821429\n",
       "IN    40777.910714\n",
       "DE    40764.230769\n",
       "IL    40686.659459\n",
       "ME    40152.714286\n",
       "OR    40122.290323\n",
       "KS    39788.314286\n",
       "IA    39753.275362\n",
       "MO    39730.024793\n",
       "CO    39542.411765\n",
       "ND    39095.136364\n",
       "SD    38882.434783\n",
       "OH    38781.415254\n",
       "UT    37965.850000\n",
       "VI    37808.000000\n",
       "GA    37158.140000\n",
       "WY    36911.700000\n",
       "TX    36634.606250\n",
       "AL    36591.563380\n",
       "AZ    36405.657534\n",
       "MI    36394.244898\n",
       "NC    35727.823529\n",
       "FL    35490.414545\n",
       "TN    35184.229508\n",
       "SC    35074.630952\n",
       "NM    34865.472222\n",
       "MT    34436.777778\n",
       "WV    34304.629032\n",
       "OK    33970.271739\n",
       "KY    33943.357143\n",
       "LA    32442.834951\n",
       "ID    32142.440000\n",
       "MS    31300.120000\n",
       "AR    31120.346667\n",
       "MH    29192.000000\n",
       "AS    27265.000000\n",
       "GU    26182.333333\n",
       "MP    24972.000000\n",
       "FM    22919.000000\n",
       "PR    21613.220339\n",
       "PW             NaN\n",
       "Name: MD_EARN_WNE_P10, dtype: float64"
      ]
     },
     "execution_count": 33,
     "metadata": {},
     "output_type": "execute_result"
    }
   ],
   "source": [
    "# Do people studying at universities in particular states earn, on average, more \n",
    "# after 10 years?\n",
    "\n",
    "institutions_df.groupby('STABBR')['MD_EARN_WNE_P10'].mean().sort_values(ascending=False)"
   ]
  },
  {
   "cell_type": "code",
   "execution_count": 34,
   "id": "ce50b2c4",
   "metadata": {},
   "outputs": [
    {
     "data": {
      "text/plain": [
       "<AxesSubplot:xlabel='STABBR'>"
      ]
     },
     "execution_count": 34,
     "metadata": {},
     "output_type": "execute_result"
    },
    {
     "data": {
      "image/png": "[encoded data removed]",
      "text/plain": [
       "<Figure size 1440x720 with 1 Axes>"
      ]
     },
     "metadata": {
      "needs_background": "light"
     },
     "output_type": "display_data"
    }
   ],
   "source": [
    "# Create a bar plot for the average amount earned, per state, sorted by ascending pay\n",
    "\n",
    "institutions_df.groupby('STABBR')['MD_EARN_WNE_P10'].mean().sort_values().plot.bar(figsize=(20,10))"
   ]
  },
  {
   "cell_type": "code",
   "execution_count": 35,
   "id": "49c4750c",
   "metadata": {
    "scrolled": true
   },
   "outputs": [
    {
     "data": {
      "text/plain": [
       "<AxesSubplot:>"
      ]
     },
     "execution_count": 35,
     "metadata": {},
     "output_type": "execute_result"
    },
    {
     "data": {
      "image/png": "[encoded data removed]",
      "text/plain": [
       "<Figure size 432x288 with 1 Axes>"
      ]
     },
     "metadata": {
      "needs_background": "light"
     },
     "output_type": "display_data"
    }
   ],
   "source": [
    "# Create a boxplot for the earnings by state.\n",
    "\n",
    "institutions_df.groupby('STABBR')['MD_EARN_WNE_P10'].mean().plot.box()"
   ]
  },
  {
   "cell_type": "code",
   "execution_count": null,
   "id": "5785a34b",
   "metadata": {},
   "outputs": [],
   "source": []
  }
 ],
 "metadata": {
  "kernelspec": {
   "display_name": "Python 3 (ipykernel)",
   "language": "python",
   "name": "python3"
  },
  "language_info": {
   "codemirror_mode": {
    "name": "ipython",
    "version": 3
   },
   "file_extension": ".py",
   "mimetype": "text/x-python",
   "name": "python",
   "nbconvert_exporter": "python",
   "pygments_lexer": "ipython3",
   "version": "3.10.6"
  }
 },
 "nbformat": 4,
 "nbformat_minor": 5
}

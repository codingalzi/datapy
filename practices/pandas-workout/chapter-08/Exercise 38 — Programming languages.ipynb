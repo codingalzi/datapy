{
 "cells": [
  {
   "cell_type": "code",
   "execution_count": 1,
   "id": "c5ca4dc2",
   "metadata": {},
   "outputs": [],
   "source": [
    "import numpy as np\n",
    "import pandas as pd\n",
    "from pandas import Series, DataFrame"
   ]
  },
  {
   "cell_type": "code",
   "execution_count": 2,
   "id": "f68d8ed5",
   "metadata": {
    "scrolled": true
   },
   "outputs": [
    {
     "data": {
      "text/html": [
       "<div>\n",
       "<style scoped>\n",
       "    .dataframe tbody tr th:only-of-type {\n",
       "        vertical-align: middle;\n",
       "    }\n",
       "\n",
       "    .dataframe tbody tr th {\n",
       "        vertical-align: top;\n",
       "    }\n",
       "\n",
       "    .dataframe thead th {\n",
       "        text-align: right;\n",
       "    }\n",
       "</style>\n",
       "<table border=\"1\" class=\"dataframe\">\n",
       "  <thead>\n",
       "    <tr style=\"text-align: right;\">\n",
       "      <th></th>\n",
       "      <th>Country</th>\n",
       "      <th>CompTotal</th>\n",
       "      <th>LanguageHaveWorkedWith</th>\n",
       "      <th>LanguageWantToWorkWith</th>\n",
       "    </tr>\n",
       "  </thead>\n",
       "  <tbody>\n",
       "    <tr>\n",
       "      <th>0</th>\n",
       "      <td>Slovakia</td>\n",
       "      <td>4800.0</td>\n",
       "      <td>C++;HTML/CSS;JavaScript;Objective-C;PHP;Swift</td>\n",
       "      <td>Swift</td>\n",
       "    </tr>\n",
       "    <tr>\n",
       "      <th>1</th>\n",
       "      <td>Netherlands</td>\n",
       "      <td>NaN</td>\n",
       "      <td>JavaScript;Python</td>\n",
       "      <td>NaN</td>\n",
       "    </tr>\n",
       "    <tr>\n",
       "      <th>2</th>\n",
       "      <td>Russian Federation</td>\n",
       "      <td>NaN</td>\n",
       "      <td>Assembly;C;Python;R;Rust</td>\n",
       "      <td>Julia;Python;Rust</td>\n",
       "    </tr>\n",
       "    <tr>\n",
       "      <th>3</th>\n",
       "      <td>Austria</td>\n",
       "      <td>NaN</td>\n",
       "      <td>JavaScript;TypeScript</td>\n",
       "      <td>JavaScript;TypeScript</td>\n",
       "    </tr>\n",
       "    <tr>\n",
       "      <th>4</th>\n",
       "      <td>United Kingdom of Great Britain and Northern I...</td>\n",
       "      <td>NaN</td>\n",
       "      <td>Bash/Shell;HTML/CSS;Python;SQL</td>\n",
       "      <td>Bash/Shell;HTML/CSS;Python;SQL</td>\n",
       "    </tr>\n",
       "  </tbody>\n",
       "</table>\n",
       "</div>"
      ],
      "text/plain": [
       "                                             Country  CompTotal  \\\n",
       "0                                           Slovakia     4800.0   \n",
       "1                                        Netherlands        NaN   \n",
       "2                                 Russian Federation        NaN   \n",
       "3                                            Austria        NaN   \n",
       "4  United Kingdom of Great Britain and Northern I...        NaN   \n",
       "\n",
       "                          LanguageHaveWorkedWith  \\\n",
       "0  C++;HTML/CSS;JavaScript;Objective-C;PHP;Swift   \n",
       "1                              JavaScript;Python   \n",
       "2                       Assembly;C;Python;R;Rust   \n",
       "3                          JavaScript;TypeScript   \n",
       "4                 Bash/Shell;HTML/CSS;Python;SQL   \n",
       "\n",
       "           LanguageWantToWorkWith  \n",
       "0                           Swift  \n",
       "1                             NaN  \n",
       "2               Julia;Python;Rust  \n",
       "3           JavaScript;TypeScript  \n",
       "4  Bash/Shell;HTML/CSS;Python;SQL  "
      ]
     },
     "execution_count": 2,
     "metadata": {},
     "output_type": "execute_result"
    }
   ],
   "source": [
    "# Open the file `so_2021_survey_results.csv`, and read it into a data frame\n",
    "filename = '../data/so_2021_survey_results.csv'\n",
    "df = pd.read_csv(filename, usecols=['LanguageHaveWorkedWith', \n",
    "                                    'LanguageWantToWorkWith',\n",
    "                                    'Country', 'CompTotal'])\n",
    "df.head()"
   ]
  },
  {
   "cell_type": "code",
   "execution_count": 3,
   "id": "47320111",
   "metadata": {
    "scrolled": true
   },
   "outputs": [
    {
     "data": {
      "text/plain": [
       "Index(['JavaScript', 'HTML/CSS', 'Python', 'SQL', 'Java', 'Node.js',\n",
       "       'TypeScript', 'C#', 'Bash/Shell', 'C++', 'PHP', 'C', 'PowerShell', 'Go',\n",
       "       'Kotlin', 'Rust', 'Ruby', 'Dart', 'Assembly', 'Swift', 'R', 'VBA',\n",
       "       'Matlab', 'Groovy', 'Objective-C', 'Scala', 'Perl', 'Haskell', 'Delphi',\n",
       "       'Clojure', 'Elixir', 'LISP', 'Julia', 'F#', 'Erlang', 'APL', 'Crystal',\n",
       "       'COBOL'],\n",
       "      dtype='object')"
      ]
     },
     "execution_count": 3,
     "metadata": {},
     "output_type": "execute_result"
    }
   ],
   "source": [
    "# What are the different programming languages that developers currently use?\n",
    "df['LanguageHaveWorkedWith'].str.split(';').explode().value_counts().index"
   ]
  },
  {
   "cell_type": "code",
   "execution_count": 4,
   "id": "a19eb025",
   "metadata": {},
   "outputs": [
    {
     "data": {
      "text/plain": [
       "Index(['JavaScript', 'HTML/CSS', 'Python', 'SQL', 'Java', 'Node.js',\n",
       "       'TypeScript', 'C#', 'Bash/Shell', 'C++'],\n",
       "      dtype='object')"
      ]
     },
     "execution_count": 4,
     "metadata": {},
     "output_type": "execute_result"
    }
   ],
   "source": [
    "# What are the 10 programming languages most commonly used today?\n",
    "have_worked_with = df['LanguageHaveWorkedWith'].str.split(';').explode().value_counts().head(10).index\n",
    "have_worked_with"
   ]
  },
  {
   "cell_type": "code",
   "execution_count": 5,
   "id": "85075a6e",
   "metadata": {},
   "outputs": [
    {
     "data": {
      "text/plain": [
       "Index(['JavaScript', 'Python', 'HTML/CSS', 'TypeScript', 'SQL', 'Node.js',\n",
       "       'C#', 'Java', 'Rust', 'Go'],\n",
       "      dtype='object')"
      ]
     },
     "execution_count": 5,
     "metadata": {},
     "output_type": "execute_result"
    }
   ],
   "source": [
    "# What are the 10 programming languages people most want to use?\n",
    "want_to_work_with = df['LanguageWantToWorkWith'].str.split(';').explode().value_counts().head(10).index\n",
    "want_to_work_with"
   ]
  },
  {
   "cell_type": "code",
   "execution_count": 6,
   "id": "f7a3ba6d",
   "metadata": {},
   "outputs": [
    {
     "data": {
      "text/plain": [
       "Index(['JavaScript', 'Python', 'HTML/CSS', 'TypeScript', 'SQL', 'Node.js',\n",
       "       'C#', 'Java'],\n",
       "      dtype='object')"
      ]
     },
     "execution_count": 6,
     "metadata": {},
     "output_type": "execute_result"
    }
   ],
   "source": [
    "# What languages are on both top-10 lists?\n",
    "\n",
    "want_to_work_with.intersection(have_worked_with)"
   ]
  },
  {
   "cell_type": "code",
   "execution_count": 7,
   "id": "486619fd",
   "metadata": {},
   "outputs": [
    {
     "data": {
      "text/plain": [
       "Index(['Bash/Shell', 'C++'], dtype='object')"
      ]
     },
     "execution_count": 7,
     "metadata": {},
     "output_type": "execute_result"
    }
   ],
   "source": [
    "# What languages in the top 10 have people worked with, but *don't* want to work with in the future?\n",
    "have_worked_with[~have_worked_with.isin(want_to_work_with)]"
   ]
  },
  {
   "cell_type": "code",
   "execution_count": 8,
   "id": "846f56ad",
   "metadata": {
    "scrolled": true
   },
   "outputs": [
    {
     "data": {
      "text/html": [
       "<div>\n",
       "<style scoped>\n",
       "    .dataframe tbody tr th:only-of-type {\n",
       "        vertical-align: middle;\n",
       "    }\n",
       "\n",
       "    .dataframe tbody tr th {\n",
       "        vertical-align: top;\n",
       "    }\n",
       "\n",
       "    .dataframe thead th {\n",
       "        text-align: right;\n",
       "    }\n",
       "</style>\n",
       "<table border=\"1\" class=\"dataframe\">\n",
       "  <thead>\n",
       "    <tr style=\"text-align: right;\">\n",
       "      <th></th>\n",
       "      <th>LanguageHaveWorkedWith</th>\n",
       "    </tr>\n",
       "    <tr>\n",
       "      <th>Country</th>\n",
       "      <th></th>\n",
       "    </tr>\n",
       "  </thead>\n",
       "  <tbody>\n",
       "    <tr>\n",
       "      <th>Afghanistan</th>\n",
       "      <td>JavaScript</td>\n",
       "    </tr>\n",
       "    <tr>\n",
       "      <th>Albania</th>\n",
       "      <td>JavaScript</td>\n",
       "    </tr>\n",
       "    <tr>\n",
       "      <th>Algeria</th>\n",
       "      <td>JavaScript</td>\n",
       "    </tr>\n",
       "    <tr>\n",
       "      <th>Andorra</th>\n",
       "      <td>JavaScript</td>\n",
       "    </tr>\n",
       "    <tr>\n",
       "      <th>Angola</th>\n",
       "      <td>[HTML/CSS, JavaScript]</td>\n",
       "    </tr>\n",
       "    <tr>\n",
       "      <th>...</th>\n",
       "      <td>...</td>\n",
       "    </tr>\n",
       "    <tr>\n",
       "      <th>Venezuela, Bolivarian Republic of...</th>\n",
       "      <td>JavaScript</td>\n",
       "    </tr>\n",
       "    <tr>\n",
       "      <th>Viet Nam</th>\n",
       "      <td>JavaScript</td>\n",
       "    </tr>\n",
       "    <tr>\n",
       "      <th>Yemen</th>\n",
       "      <td>[C#, HTML/CSS]</td>\n",
       "    </tr>\n",
       "    <tr>\n",
       "      <th>Zambia</th>\n",
       "      <td>HTML/CSS</td>\n",
       "    </tr>\n",
       "    <tr>\n",
       "      <th>Zimbabwe</th>\n",
       "      <td>JavaScript</td>\n",
       "    </tr>\n",
       "  </tbody>\n",
       "</table>\n",
       "<p>181 rows × 1 columns</p>\n",
       "</div>"
      ],
      "text/plain": [
       "                                      LanguageHaveWorkedWith\n",
       "Country                                                     \n",
       "Afghanistan                                       JavaScript\n",
       "Albania                                           JavaScript\n",
       "Algeria                                           JavaScript\n",
       "Andorra                                           JavaScript\n",
       "Angola                                [HTML/CSS, JavaScript]\n",
       "...                                                      ...\n",
       "Venezuela, Bolivarian Republic of...              JavaScript\n",
       "Viet Nam                                          JavaScript\n",
       "Yemen                                         [C#, HTML/CSS]\n",
       "Zambia                                              HTML/CSS\n",
       "Zimbabwe                                          JavaScript\n",
       "\n",
       "[181 rows x 1 columns]"
      ]
     },
     "execution_count": 8,
     "metadata": {},
     "output_type": "execute_result"
    }
   ],
   "source": [
    "# What is the most popular (current) language used by people in each country?\n",
    "\n",
    "all_languages = df['LanguageHaveWorkedWith'].str.split(';').explode()\n",
    "df[['Country']].join(all_languages).groupby('Country').agg(pd.Series.mode)"
   ]
  },
  {
   "cell_type": "code",
   "execution_count": 9,
   "id": "b7b95035",
   "metadata": {},
   "outputs": [
    {
     "data": {
      "text/plain": [
       "5.373678011583714"
      ]
     },
     "execution_count": 9,
     "metadata": {},
     "output_type": "execute_result"
    }
   ],
   "source": [
    "# What is the mean number of languages used in the last year?\n",
    "df['LanguageHaveWorkedWith'].str.split(';').str.len().mean()"
   ]
  },
  {
   "cell_type": "code",
   "execution_count": 10,
   "id": "c769fc1c",
   "metadata": {},
   "outputs": [
    {
     "data": {
      "text/plain": [
       "38.0"
      ]
     },
     "execution_count": 10,
     "metadata": {},
     "output_type": "execute_result"
    }
   ],
   "source": [
    "# What is the greatest number of languages people listed as having used in the last year?\n",
    "df['LanguageHaveWorkedWith'].str.split(';').str.len().max()"
   ]
  },
  {
   "cell_type": "code",
   "execution_count": 11,
   "id": "f21bd529",
   "metadata": {},
   "outputs": [
    {
     "data": {
      "text/plain": [
       "32"
      ]
     },
     "execution_count": 11,
     "metadata": {},
     "output_type": "execute_result"
    }
   ],
   "source": [
    "# How many people chose that largest number?\n",
    "df['LanguageHaveWorkedWith'][df['LanguageHaveWorkedWith'].str.split(';').str.len() == 38].count()"
   ]
  },
  {
   "cell_type": "code",
   "execution_count": 12,
   "id": "a2dfdd11",
   "metadata": {},
   "outputs": [
    {
     "data": {
      "text/plain": [
       "2369"
      ]
     },
     "execution_count": 12,
     "metadata": {},
     "output_type": "execute_result"
    }
   ],
   "source": [
    "# How many people in the survey claim salaries of $2m or above?\n",
    "df['CompTotal'][df['CompTotal'] >= 2_000_000].count()"
   ]
  },
  {
   "cell_type": "code",
   "execution_count": 13,
   "id": "3c85dceb",
   "metadata": {
    "scrolled": false
   },
   "outputs": [],
   "source": [
    "# Remove rows in which salaries are above $2m\n",
    "df = df[df['CompTotal'] < 2_000_000]"
   ]
  },
  {
   "cell_type": "code",
   "execution_count": 14,
   "id": "9a49b6c9",
   "metadata": {
    "scrolled": true
   },
   "outputs": [],
   "source": [
    "# Turn the 'LanguageHaveWorkedWith' column into \"dummy\" columns in df, such that\n",
    "# each language is its own column.\n",
    "\n",
    "df = pd.concat([df, df['LanguageHaveWorkedWith'].str.get_dummies(sep=';')], axis='columns')"
   ]
  },
  {
   "cell_type": "code",
   "execution_count": 15,
   "id": "8ac6ed61",
   "metadata": {},
   "outputs": [
    {
     "data": {
      "text/plain": [
       "126817.99470235605"
      ]
     },
     "execution_count": 15,
     "metadata": {},
     "output_type": "execute_result"
    }
   ],
   "source": [
    "# If you want to maximize your salary, and have to choose two languages from\n",
    "# Python, JavaScript, and Java, then what combination would be best?\n",
    "\n",
    "# Python + JavaScript, not Java\n",
    "df['CompTotal'][(df['Python'] == 1) &\n",
    "                (df['JavaScript'] == 1) &\n",
    "                (df['Java'] == 0)].mean()"
   ]
  },
  {
   "cell_type": "code",
   "execution_count": 16,
   "id": "db3cd8e0",
   "metadata": {
    "scrolled": true
   },
   "outputs": [
    {
     "data": {
      "text/plain": [
       "162737.10379596677"
      ]
     },
     "execution_count": 16,
     "metadata": {},
     "output_type": "execute_result"
    }
   ],
   "source": [
    "# Python + Java, not JavaScript\n",
    "df['CompTotal'][(df['Python'] == 1) &\n",
    "                (df['JavaScript'] == 0) &\n",
    "                (df['Java'] == 1)].mean()"
   ]
  },
  {
   "cell_type": "code",
   "execution_count": 17,
   "id": "5508df7d",
   "metadata": {},
   "outputs": [
    {
     "data": {
      "text/plain": [
       "140867.65981559738"
      ]
     },
     "execution_count": 17,
     "metadata": {},
     "output_type": "execute_result"
    }
   ],
   "source": [
    "# Java and Javascript, not Python\n",
    "df['CompTotal'][(df['Python'] == 0) &\n",
    "                (df['JavaScript'] == 1) &\n",
    "                (df['Java'] == 1)].mean()"
   ]
  },
  {
   "cell_type": "code",
   "execution_count": null,
   "id": "8ee1db2e",
   "metadata": {},
   "outputs": [],
   "source": []
  }
 ],
 "metadata": {
  "kernelspec": {
   "display_name": "Python 3 (ipykernel)",
   "language": "python",
   "name": "python3"
  },
  "language_info": {
   "codemirror_mode": {
    "name": "ipython",
    "version": 3
   },
   "file_extension": ".py",
   "mimetype": "text/x-python",
   "name": "python",
   "nbconvert_exporter": "python",
   "pygments_lexer": "ipython3",
   "version": "3.10.0"
  }
 },
 "nbformat": 4,
 "nbformat_minor": 5
}

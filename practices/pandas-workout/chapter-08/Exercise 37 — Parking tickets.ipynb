{
 "cells": [
  {
   "cell_type": "code",
   "execution_count": 2,
   "metadata": {},
   "outputs": [],
   "source": [
    "import numpy as np\n",
    "import pandas as pd\n",
    "from pandas import Series, DataFrame"
   ]
  },
  {
   "cell_type": "code",
   "execution_count": 42,
   "metadata": {
    "scrolled": true
   },
   "outputs": [],
   "source": [
    "# Open the file `alice-in-wonderland.txt`, and read it into a `pandas` series\n",
    "# or data frame, such that each word is a separate value.\n",
    "filename = '../data/winemag-150k-reviews.csv'\n",
    "\n",
    "df = pd.read_csv(filename)"
   ]
  },
  {
   "cell_type": "code",
   "execution_count": 43,
   "metadata": {
    "scrolled": true
   },
   "outputs": [
    {
     "data": {
      "text/plain": [
       "Index(['Unnamed: 0', 'country', 'description', 'designation', 'points',\n",
       "       'price', 'province', 'region_1', 'region_2', 'variety', 'winery'],\n",
       "      dtype='object')"
      ]
     },
     "execution_count": 43,
     "metadata": {},
     "output_type": "execute_result"
    }
   ],
   "source": [
    "df.columns"
   ]
  },
  {
   "cell_type": "code",
   "execution_count": 50,
   "metadata": {},
   "outputs": [
    {
     "data": {
      "text/plain": [
       "count    150930.000000\n",
       "mean         40.183178\n",
       "std          11.717227\n",
       "min           3.000000\n",
       "25%          32.000000\n",
       "50%          39.000000\n",
       "75%          47.000000\n",
       "max         135.000000\n",
       "Name: description, dtype: float64"
      ]
     },
     "execution_count": 50,
     "metadata": {},
     "output_type": "execute_result"
    }
   ],
   "source": [
    "# How many words were in the shortest review? The longest?\n",
    "df['description'].str.split().apply(len).describe()"
   ]
  },
  {
   "cell_type": "code",
   "execution_count": 88,
   "metadata": {},
   "outputs": [
    {
     "data": {
      "text/plain": [
       "flavors.    16297\n",
       "sweet       16110\n",
       "shows       15676\n",
       "notes       15481\n",
       "wine,       14796\n",
       "spice       14726\n",
       "fresh       13418\n",
       "berry       13245\n",
       "blend       11874\n",
       "white       11427\n",
       "dtype: int64"
      ]
     },
     "execution_count": 88,
     "metadata": {},
     "output_type": "execute_result"
    }
   ],
   "source": [
    "# What were the 15 most commonly used words that\n",
    "# contain at least four letters?  Remove punctuation\n",
    "# from the front and back\n",
    "\n",
    "Series([one_word\n",
    "for one_row in df['description'].str.strip('.!?\\'\"').str.lower().str.split()\n",
    " for one_word in one_row\n",
    "       if len(one_word) > 4]).value_counts()[10:20]"
   ]
  },
  {
   "cell_type": "code",
   "execution_count": 90,
   "metadata": {},
   "outputs": [
    {
     "data": {
      "text/plain": [
       "flavors    77649\n",
       "fruit      56327\n",
       "finish     37387\n",
       "aromas     35741\n",
       "acidity    32536\n",
       "tannins    32098\n",
       "cherry     30639\n",
       "palate     28835\n",
       "black      24569\n",
       "drink      23599\n",
       "spice      22601\n",
       "sweet      21243\n",
       "notes      19581\n",
       "fresh      17641\n",
       "berry      17083\n",
       "Name: description, dtype: int64"
      ]
     },
     "execution_count": 90,
     "metadata": {},
     "output_type": "execute_result"
    }
   ],
   "source": [
    "s = df['description'].str.split().explode()\n",
    "s = s.str.strip(',.!?\\'\"')\n",
    "s = s.str.lower()\n",
    "s[s.str.len() > 4].value_counts()[:15]"
   ]
  },
  {
   "cell_type": "code",
   "execution_count": null,
   "metadata": {},
   "outputs": [],
   "source": [
    "# What are the most common words in reviews that rated highly?\n",
    "# What are the most common words in reviews that rated poorly?\n",
    "# Are there any words that appeared in the 50 most common words for both great and terrible wines?"
   ]
  }
 ],
 "metadata": {
  "kernelspec": {
   "display_name": "Python 3",
   "language": "python",
   "name": "python3"
  },
  "language_info": {
   "codemirror_mode": {
    "name": "ipython",
    "version": 3
   },
   "file_extension": ".py",
   "mimetype": "text/x-python",
   "name": "python",
   "nbconvert_exporter": "python",
   "pygments_lexer": "ipython3",
   "version": "3.9.7"
  }
 },
 "nbformat": 4,
 "nbformat_minor": 4
}

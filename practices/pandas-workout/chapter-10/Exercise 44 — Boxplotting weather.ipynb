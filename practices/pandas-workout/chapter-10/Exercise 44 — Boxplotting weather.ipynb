{
 "cells": [
  {
   "cell_type": "code",
   "execution_count": 1,
   "id": "75417ef5",
   "metadata": {},
   "outputs": [],
   "source": [
    "import numpy as np\n",
    "import pandas as pd\n",
    "from pandas import Series, DataFrame\n",
    "%matplotlib inline"
   ]
  },
  {
   "cell_type": "code",
   "execution_count": 2,
   "id": "97fca3e3",
   "metadata": {
    "scrolled": false
   },
   "outputs": [
    {
     "data": {
      "text/html": [
       "<div>\n",
       "<style scoped>\n",
       "    .dataframe tbody tr th:only-of-type {\n",
       "        vertical-align: middle;\n",
       "    }\n",
       "\n",
       "    .dataframe tbody tr th {\n",
       "        vertical-align: top;\n",
       "    }\n",
       "\n",
       "    .dataframe thead th {\n",
       "        text-align: right;\n",
       "    }\n",
       "</style>\n",
       "<table border=\"1\" class=\"dataframe\">\n",
       "  <thead>\n",
       "    <tr style=\"text-align: right;\">\n",
       "      <th></th>\n",
       "      <th>maxtemp</th>\n",
       "      <th>mintemp</th>\n",
       "    </tr>\n",
       "    <tr>\n",
       "      <th>date_time</th>\n",
       "      <th></th>\n",
       "      <th></th>\n",
       "    </tr>\n",
       "  </thead>\n",
       "  <tbody>\n",
       "    <tr>\n",
       "      <th>2018-12-11 00:00:00</th>\n",
       "      <td>1</td>\n",
       "      <td>-2</td>\n",
       "    </tr>\n",
       "    <tr>\n",
       "      <th>2018-12-11 03:00:00</th>\n",
       "      <td>1</td>\n",
       "      <td>-2</td>\n",
       "    </tr>\n",
       "    <tr>\n",
       "      <th>2018-12-11 06:00:00</th>\n",
       "      <td>1</td>\n",
       "      <td>-2</td>\n",
       "    </tr>\n",
       "    <tr>\n",
       "      <th>2018-12-11 09:00:00</th>\n",
       "      <td>1</td>\n",
       "      <td>-2</td>\n",
       "    </tr>\n",
       "    <tr>\n",
       "      <th>2018-12-11 12:00:00</th>\n",
       "      <td>1</td>\n",
       "      <td>-2</td>\n",
       "    </tr>\n",
       "  </tbody>\n",
       "</table>\n",
       "</div>"
      ],
      "text/plain": [
       "                     maxtemp  mintemp\n",
       "date_time                            \n",
       "2018-12-11 00:00:00        1       -2\n",
       "2018-12-11 03:00:00        1       -2\n",
       "2018-12-11 06:00:00        1       -2\n",
       "2018-12-11 09:00:00        1       -2\n",
       "2018-12-11 12:00:00        1       -2"
      ]
     },
     "execution_count": 2,
     "metadata": {},
     "output_type": "execute_result"
    }
   ],
   "source": [
    "# Load the weather data for Chicago.  We only care about three columns: date_time,\n",
    "# min temp, and max temp.  Make date_time the index, and set the names of the min\n",
    "# and max temp columns to \"mintemp\" and \"maxtemp\"\n",
    "\n",
    "filename = '../data/chicago,il.csv'\n",
    "\n",
    "df = pd.read_csv(filename, \n",
    "                 usecols=[0, 1,2],\n",
    "                 header=0,\n",
    "                 names=['date_time','maxtemp', 'mintemp'],\n",
    "                parse_dates=['date_time'],\n",
    "                index_col=['date_time'])\n",
    "df.head()"
   ]
  },
  {
   "cell_type": "code",
   "execution_count": 3,
   "id": "d1dbaac0",
   "metadata": {
    "scrolled": true
   },
   "outputs": [
    {
     "data": {
      "text/plain": [
       "<AxesSubplot:>"
      ]
     },
     "execution_count": 3,
     "metadata": {},
     "output_type": "execute_result"
    },
    {
     "data": {
      "image/png": "[encoded data removed]",
      "text/plain": [
       "<Figure size 432x288 with 1 Axes>"
      ]
     },
     "metadata": {
      "needs_background": "light"
     },
     "output_type": "display_data"
    }
   ],
   "source": [
    "# Create a boxplot of Chicago's minimum temperatures during this period.\n",
    "df['mintemp'].plot.box()"
   ]
  },
  {
   "cell_type": "code",
   "execution_count": 4,
   "id": "b09b91d0",
   "metadata": {
    "scrolled": true
   },
   "outputs": [
    {
     "data": {
      "text/plain": [
       "date_time\n",
       "2019-01-30 00:00:00   -28\n",
       "2019-01-30 03:00:00   -28\n",
       "2019-01-30 06:00:00   -28\n",
       "2019-01-30 09:00:00   -28\n",
       "2019-01-30 12:00:00   -28\n",
       "2019-01-30 15:00:00   -28\n",
       "2019-01-30 18:00:00   -28\n",
       "2019-01-30 21:00:00   -28\n",
       "2019-01-31 00:00:00   -27\n",
       "2019-01-31 03:00:00   -27\n",
       "2019-01-31 06:00:00   -27\n",
       "2019-01-31 09:00:00   -27\n",
       "2019-01-31 12:00:00   -27\n",
       "2019-01-31 15:00:00   -27\n",
       "2019-01-31 18:00:00   -27\n",
       "2019-01-31 21:00:00   -27\n",
       "Name: mintemp, dtype: int64"
      ]
     },
     "execution_count": 4,
     "metadata": {},
     "output_type": "execute_result"
    }
   ],
   "source": [
    "# Find the values that are represented as dots on that boxplot\n",
    "\n",
    "# note: this assumes outliers are 2.5 * std below and above the mean.\n",
    "# I need to investigate this more; they might be 1.5 IQR above and below 75%/25%\n",
    "\n",
    "df.loc[df['mintemp'] < df['mintemp'].mean() - (df['mintemp'].std() * 2.5), 'mintemp']"
   ]
  },
  {
   "cell_type": "code",
   "execution_count": 5,
   "id": "1a9da221",
   "metadata": {
    "scrolled": true
   },
   "outputs": [
    {
     "data": {
      "text/plain": [
       "<AxesSubplot:>"
      ]
     },
     "execution_count": 5,
     "metadata": {},
     "output_type": "execute_result"
    },
    {
     "data": {
      "image/png": "[encoded data removed]",
      "text/plain": [
       "<Figure size 432x288 with 1 Axes>"
      ]
     },
     "metadata": {
      "needs_background": "light"
     },
     "output_type": "display_data"
    }
   ],
   "source": [
    "# Create a boxplot of Chicago's minimum temperatures in February.\n",
    "df.loc['01-Feb-2019':'28-Feb-2019', 'mintemp'].plot.box()"
   ]
  },
  {
   "cell_type": "code",
   "execution_count": 6,
   "id": "18406db7",
   "metadata": {
    "scrolled": true
   },
   "outputs": [
    {
     "data": {
      "text/plain": [
       "<AxesSubplot:>"
      ]
     },
     "execution_count": 6,
     "metadata": {},
     "output_type": "execute_result"
    },
    {
     "data": {
      "image/png": "[encoded data removed]",
      "text/plain": [
       "<Figure size 432x288 with 1 Axes>"
      ]
     },
     "metadata": {
      "needs_background": "light"
     },
     "output_type": "display_data"
    }
   ],
   "source": [
    "# Create a side-by-side boxplot of Chicago's minimum and temperatures in February and March\n",
    "df.loc['01-Feb-2019':'30-Mar-2019', ['mintemp','maxtemp']].plot.box()"
   ]
  },
  {
   "cell_type": "code",
   "execution_count": 7,
   "id": "a927abb8",
   "metadata": {
    "scrolled": false
   },
   "outputs": [
    {
     "data": {
      "text/html": [
       "<div>\n",
       "<style scoped>\n",
       "    .dataframe tbody tr th:only-of-type {\n",
       "        vertical-align: middle;\n",
       "    }\n",
       "\n",
       "    .dataframe tbody tr th {\n",
       "        vertical-align: top;\n",
       "    }\n",
       "\n",
       "    .dataframe thead th {\n",
       "        text-align: right;\n",
       "    }\n",
       "</style>\n",
       "<table border=\"1\" class=\"dataframe\">\n",
       "  <thead>\n",
       "    <tr style=\"text-align: right;\">\n",
       "      <th></th>\n",
       "      <th>maxtemp</th>\n",
       "      <th>mintemp</th>\n",
       "      <th>city</th>\n",
       "    </tr>\n",
       "    <tr>\n",
       "      <th>date_time</th>\n",
       "      <th></th>\n",
       "      <th></th>\n",
       "      <th></th>\n",
       "    </tr>\n",
       "  </thead>\n",
       "  <tbody>\n",
       "    <tr>\n",
       "      <th>2018-12-11 00:00:00</th>\n",
       "      <td>1</td>\n",
       "      <td>-2</td>\n",
       "      <td>Chicago</td>\n",
       "    </tr>\n",
       "    <tr>\n",
       "      <th>2018-12-11 03:00:00</th>\n",
       "      <td>1</td>\n",
       "      <td>-2</td>\n",
       "      <td>Chicago</td>\n",
       "    </tr>\n",
       "    <tr>\n",
       "      <th>2018-12-11 06:00:00</th>\n",
       "      <td>1</td>\n",
       "      <td>-2</td>\n",
       "      <td>Chicago</td>\n",
       "    </tr>\n",
       "    <tr>\n",
       "      <th>2018-12-11 09:00:00</th>\n",
       "      <td>1</td>\n",
       "      <td>-2</td>\n",
       "      <td>Chicago</td>\n",
       "    </tr>\n",
       "    <tr>\n",
       "      <th>2018-12-11 12:00:00</th>\n",
       "      <td>1</td>\n",
       "      <td>-2</td>\n",
       "      <td>Chicago</td>\n",
       "    </tr>\n",
       "  </tbody>\n",
       "</table>\n",
       "</div>"
      ],
      "text/plain": [
       "                     maxtemp  mintemp     city\n",
       "date_time                                     \n",
       "2018-12-11 00:00:00        1       -2  Chicago\n",
       "2018-12-11 03:00:00        1       -2  Chicago\n",
       "2018-12-11 06:00:00        1       -2  Chicago\n",
       "2018-12-11 09:00:00        1       -2  Chicago\n",
       "2018-12-11 12:00:00        1       -2  Chicago"
      ]
     },
     "execution_count": 7,
     "metadata": {},
     "output_type": "execute_result"
    }
   ],
   "source": [
    "# Now read data from Los Angeles and Boston in, as well.  Create a single data\n",
    "# frame with data from all three cities, along with a \"city\" \n",
    "\n",
    "df['city'] = 'Chicago'\n",
    "\n",
    "for city_stem in ['los+angeles,ca', 'boston,ma']:\n",
    "    new_df = pd.read_csv(f'../data/{city_stem}.csv', \n",
    "                 usecols=[0, 1,2],\n",
    "                 header=0,\n",
    "                 names=['date_time','maxtemp', 'mintemp'],\n",
    "                parse_dates=['date_time'],\n",
    "                index_col=['date_time'])\n",
    "    new_df['city'] = city_stem.split(',')[0].replace('+', ' ').title()\n",
    "    df = pd.concat([df, new_df])\n",
    "\n",
    "df.head()"
   ]
  },
  {
   "cell_type": "code",
   "execution_count": 8,
   "id": "60614998",
   "metadata": {
    "scrolled": true
   },
   "outputs": [
    {
     "data": {
      "text/html": [
       "<div>\n",
       "<style scoped>\n",
       "    .dataframe tbody tr th:only-of-type {\n",
       "        vertical-align: middle;\n",
       "    }\n",
       "\n",
       "    .dataframe tbody tr th {\n",
       "        vertical-align: top;\n",
       "    }\n",
       "\n",
       "    .dataframe thead tr th {\n",
       "        text-align: left;\n",
       "    }\n",
       "\n",
       "    .dataframe thead tr:last-of-type th {\n",
       "        text-align: right;\n",
       "    }\n",
       "</style>\n",
       "<table border=\"1\" class=\"dataframe\">\n",
       "  <thead>\n",
       "    <tr>\n",
       "      <th></th>\n",
       "      <th colspan=\"8\" halign=\"left\">mintemp</th>\n",
       "      <th colspan=\"8\" halign=\"left\">maxtemp</th>\n",
       "    </tr>\n",
       "    <tr>\n",
       "      <th></th>\n",
       "      <th>count</th>\n",
       "      <th>mean</th>\n",
       "      <th>std</th>\n",
       "      <th>min</th>\n",
       "      <th>25%</th>\n",
       "      <th>50%</th>\n",
       "      <th>75%</th>\n",
       "      <th>max</th>\n",
       "      <th>count</th>\n",
       "      <th>mean</th>\n",
       "      <th>std</th>\n",
       "      <th>min</th>\n",
       "      <th>25%</th>\n",
       "      <th>50%</th>\n",
       "      <th>75%</th>\n",
       "      <th>max</th>\n",
       "    </tr>\n",
       "    <tr>\n",
       "      <th>city</th>\n",
       "      <th></th>\n",
       "      <th></th>\n",
       "      <th></th>\n",
       "      <th></th>\n",
       "      <th></th>\n",
       "      <th></th>\n",
       "      <th></th>\n",
       "      <th></th>\n",
       "      <th></th>\n",
       "      <th></th>\n",
       "      <th></th>\n",
       "      <th></th>\n",
       "      <th></th>\n",
       "      <th></th>\n",
       "      <th></th>\n",
       "      <th></th>\n",
       "    </tr>\n",
       "  </thead>\n",
       "  <tbody>\n",
       "    <tr>\n",
       "      <th>Boston</th>\n",
       "      <td>728.0</td>\n",
       "      <td>-3.142857</td>\n",
       "      <td>4.957195</td>\n",
       "      <td>-14.0</td>\n",
       "      <td>-6.0</td>\n",
       "      <td>-3.0</td>\n",
       "      <td>0.0</td>\n",
       "      <td>9.0</td>\n",
       "      <td>728.0</td>\n",
       "      <td>2.868132</td>\n",
       "      <td>4.945277</td>\n",
       "      <td>-12.0</td>\n",
       "      <td>0.0</td>\n",
       "      <td>2.0</td>\n",
       "      <td>6.0</td>\n",
       "      <td>17.0</td>\n",
       "    </tr>\n",
       "    <tr>\n",
       "      <th>Chicago</th>\n",
       "      <td>728.0</td>\n",
       "      <td>-5.076923</td>\n",
       "      <td>6.255857</td>\n",
       "      <td>-28.0</td>\n",
       "      <td>-9.0</td>\n",
       "      <td>-4.0</td>\n",
       "      <td>-1.0</td>\n",
       "      <td>6.0</td>\n",
       "      <td>728.0</td>\n",
       "      <td>-0.736264</td>\n",
       "      <td>6.128985</td>\n",
       "      <td>-25.0</td>\n",
       "      <td>-3.0</td>\n",
       "      <td>0.0</td>\n",
       "      <td>3.0</td>\n",
       "      <td>9.0</td>\n",
       "    </tr>\n",
       "    <tr>\n",
       "      <th>Los Angeles</th>\n",
       "      <td>728.0</td>\n",
       "      <td>10.637363</td>\n",
       "      <td>2.705200</td>\n",
       "      <td>4.0</td>\n",
       "      <td>9.0</td>\n",
       "      <td>11.0</td>\n",
       "      <td>12.0</td>\n",
       "      <td>17.0</td>\n",
       "      <td>728.0</td>\n",
       "      <td>17.054945</td>\n",
       "      <td>2.708640</td>\n",
       "      <td>12.0</td>\n",
       "      <td>15.0</td>\n",
       "      <td>16.0</td>\n",
       "      <td>19.0</td>\n",
       "      <td>23.0</td>\n",
       "    </tr>\n",
       "  </tbody>\n",
       "</table>\n",
       "</div>"
      ],
      "text/plain": [
       "            mintemp                                                   maxtemp  \\\n",
       "              count       mean       std   min  25%   50%   75%   max   count   \n",
       "city                                                                            \n",
       "Boston        728.0  -3.142857  4.957195 -14.0 -6.0  -3.0   0.0   9.0   728.0   \n",
       "Chicago       728.0  -5.076923  6.255857 -28.0 -9.0  -4.0  -1.0   6.0   728.0   \n",
       "Los Angeles   728.0  10.637363  2.705200   4.0  9.0  11.0  12.0  17.0   728.0   \n",
       "\n",
       "                                                                \n",
       "                  mean       std   min   25%   50%   75%   max  \n",
       "city                                                            \n",
       "Boston        2.868132  4.945277 -12.0   0.0   2.0   6.0  17.0  \n",
       "Chicago      -0.736264  6.128985 -25.0  -3.0   0.0   3.0   9.0  \n",
       "Los Angeles  17.054945  2.708640  12.0  15.0  16.0  19.0  23.0  "
      ]
     },
     "execution_count": 8,
     "metadata": {},
     "output_type": "execute_result"
    }
   ],
   "source": [
    "# Get descriptive statistics for mintemp and maxtemp, grouped by city\n",
    "df.groupby('city')[['mintemp', 'maxtemp']].describe()"
   ]
  },
  {
   "cell_type": "code",
   "execution_count": 9,
   "id": "1e7fe6cf",
   "metadata": {
    "scrolled": true
   },
   "outputs": [
    {
     "data": {
      "text/plain": [
       "maxtemp       AxesSubplot(0.125,0.125;0.352273x0.755)\n",
       "mintemp    AxesSubplot(0.547727,0.125;0.352273x0.755)\n",
       "dtype: object"
      ]
     },
     "execution_count": 9,
     "metadata": {},
     "output_type": "execute_result"
    },
    {
     "data": {
      "image/png": "[encoded data removed]",
      "text/plain": [
       "<Figure size 432x288 with 2 Axes>"
      ]
     },
     "metadata": {
      "needs_background": "light"
     },
     "output_type": "display_data"
    }
   ],
   "source": [
    "# Create a boxplot showing the minimum and maximum temperatures for each of the three cities in df\n",
    "df.plot.box(column=['mintemp', 'maxtemp'], by='city')"
   ]
  }
 ],
 "metadata": {
  "kernelspec": {
   "display_name": "Python 3 (ipykernel)",
   "language": "python",
   "name": "python3"
  },
  "language_info": {
   "codemirror_mode": {
    "name": "ipython",
    "version": 3
   },
   "file_extension": ".py",
   "mimetype": "text/x-python",
   "name": "python",
   "nbconvert_exporter": "python",
   "pygments_lexer": "ipython3",
   "version": "3.10.2"
  }
 },
 "nbformat": 4,
 "nbformat_minor": 5
}

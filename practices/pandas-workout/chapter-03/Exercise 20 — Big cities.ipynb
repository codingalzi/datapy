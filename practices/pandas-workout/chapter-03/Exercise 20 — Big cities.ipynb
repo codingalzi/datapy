{
 "cells": [
  {
   "cell_type": "code",
   "execution_count": 1,
   "metadata": {},
   "outputs": [],
   "source": [
    "import pandas as pd\n",
    "from pandas import Series, DataFrame\n",
    "\n",
    "filename = '../data/cities.json'\n",
    "df = pd.read_json(filename)"
   ]
  },
  {
   "cell_type": "code",
   "execution_count": 2,
   "metadata": {},
   "outputs": [
    {
     "data": {
      "text/plain": [
       "mean    131132.443\n",
       "50%      68207.000\n",
       "Name: population, dtype: float64"
      ]
     },
     "execution_count": 2,
     "metadata": {},
     "output_type": "execute_result"
    }
   ],
   "source": [
    "# What are the mean and median populations for these 1,000 largest cities?\n",
    "# What does that tell us?\n",
    "\n",
    "df['population'].describe()[['mean', '50%']]"
   ]
  },
  {
   "cell_type": "code",
   "execution_count": 3,
   "metadata": {},
   "outputs": [
    {
     "data": {
      "text/plain": [
       "mean    87027.387368\n",
       "50%     65796.000000\n",
       "Name: population, dtype: float64"
      ]
     },
     "execution_count": 3,
     "metadata": {},
     "output_type": "execute_result"
    }
   ],
   "source": [
    "# Along these lines: If we remove the 50 most populous cities, \n",
    "# what happens to the mean population?  What happens to the median?\n",
    "df.loc[50:, 'population'].describe()[['mean', '50%']]"
   ]
  },
  {
   "cell_type": "code",
   "execution_count": 4,
   "metadata": {},
   "outputs": [
    {
     "data": {
      "text/html": [
       "<div>\n",
       "<style scoped>\n",
       "    .dataframe tbody tr th:only-of-type {\n",
       "        vertical-align: middle;\n",
       "    }\n",
       "\n",
       "    .dataframe tbody tr th {\n",
       "        vertical-align: top;\n",
       "    }\n",
       "\n",
       "    .dataframe thead th {\n",
       "        text-align: right;\n",
       "    }\n",
       "</style>\n",
       "<table border=\"1\" class=\"dataframe\">\n",
       "  <thead>\n",
       "    <tr style=\"text-align: right;\">\n",
       "      <th></th>\n",
       "      <th>city</th>\n",
       "      <th>state</th>\n",
       "      <th>rank</th>\n",
       "    </tr>\n",
       "  </thead>\n",
       "  <tbody>\n",
       "    <tr>\n",
       "      <th>62</th>\n",
       "      <td>Anchorage</td>\n",
       "      <td>Alaska</td>\n",
       "      <td>63</td>\n",
       "    </tr>\n",
       "  </tbody>\n",
       "</table>\n",
       "</div>"
      ],
      "text/plain": [
       "         city   state  rank\n",
       "62  Anchorage  Alaska    63"
      ]
     },
     "execution_count": 4,
     "metadata": {},
     "output_type": "execute_result"
    }
   ],
   "source": [
    "# What is the northernmost city, and where does it rank?\n",
    "df.loc[df['latitude'] == df['latitude'].max(), ['city', 'state', 'rank']]"
   ]
  },
  {
   "cell_type": "code",
   "execution_count": 5,
   "metadata": {},
   "outputs": [
    {
     "data": {
      "text/plain": [
       "California    212\n",
       "Name: state, dtype: int64"
      ]
     },
     "execution_count": 5,
     "metadata": {},
     "output_type": "execute_result"
    }
   ],
   "source": [
    "# Which state has the largest number of cities in this list?\n",
    "df['state'].value_counts().head(1)"
   ]
  },
  {
   "cell_type": "code",
   "execution_count": 6,
   "metadata": {},
   "outputs": [
    {
     "data": {
      "text/plain": [
       "Alaska                  1\n",
       "Hawaii                  1\n",
       "District of Columbia    1\n",
       "Maine                   1\n",
       "Vermont                 1\n",
       "Name: state, dtype: int64"
      ]
     },
     "execution_count": 6,
     "metadata": {},
     "output_type": "execute_result"
    }
   ],
   "source": [
    "# Which state has the smallest number of cities in this list?\n",
    "df['state'].value_counts().tail(5)"
   ]
  },
  {
   "cell_type": "code",
   "execution_count": 10,
   "metadata": {},
   "outputs": [
    {
     "data": {
      "text/plain": [
       "'{\"city\":{\"0\":\"New York\",\"1\":\"Los Angeles\",\"2\":\"Chicago\",\"3\":\"Houston\",\"4\":\"Philadelphia\",\"5\":\"Phoenix\",\"6\":\"San Antonio\",\"7\":\"San Diego\",\"8\":\"Dallas\",\"9\":\"San Jose\",\"10\":\"Austin\",\"11\":\"Indianapolis\",\"12\":\"Jacksonville\",\"13\":\"San Francisco\",\"14\":\"Columbus\",\"15\":\"Charlotte\",\"16\":\"Fort Worth\",\"17\":\"Detroit\",\"18\":\"El Paso\",\"19\":\"Memphis\"},\"growth_from_2000_to_2013\":{\"0\":\"4.8%\",\"1\":\"4.8%\",\"2\":\"-6.1%\",\"3\":\"11.0%\",\"4\":\"2.6%\",\"5\":\"14.0%\",\"6\":\"21.0%\",\"7\":\"10.5%\",\"8\":\"5.6%\",\"9\":\"10.5%\",\"10\":\"31.7%\",\"11\":\"7.8%\",\"12\":\"14.3%\",\"13\":\"7.7%\",\"14\":\"14.8%\",\"15\":\"39.1%\",\"16\":\"45.1%\",\"17\":\"-27.1%\",\"18\":\"19.4%\",\"19\":\"-5.3%\"},\"latitude\":{\"0\":40.7127837,\"1\":34.0522342,\"2\":41.8781136,\"3\":29.7604267,\"4\":39.9525839,\"5\":33.4483771,\"6\":29.4241219,\"7\":32.715738,\"8\":32.7766642,\"9\":37.3382082,\"10\":30.267153,\"11\":39.768403,\"12\":30.3321838,\"13\":37.7749295,\"14\":39.9611755,\"15\":35.2270869,\"16\":32.7554883,\"17\":42.331427,\"18\":31.7775757,\"19\":35.1495343},\"longitude\":{\"0\":-74.0059413,\"1\":-118.2436849,\"2\":-87.6297982,\"3\":-95.3698028,\"4\":-75.1652215,\"5\":-112.0740373,\"6\":-98.4936282,\"7\":-117.1610838,\"8\":-96.7969879,\"9\":-121.8863286,\"10\":-97.7430608,\"11\":-86.158068,\"12\":-81.655651,\"13\":-122.4194155,\"14\":-82.9987942,\"15\":-80.8431267,\"16\":-97.3307658,\"17\":-83.0457538,\"18\":-106.4424559,\"19\":-90.0489801},\"population\":{\"0\":8405837,\"1\":3884307,\"2\":2718782,\"3\":2195914,\"4\":1553165,\"5\":1513367,\"6\":1409019,\"7\":1355896,\"8\":1257676,\"9\":998537,\"10\":885400,\"11\":843393,\"12\":842583,\"13\":837442,\"14\":822553,\"15\":792862,\"16\":792727,\"17\":688701,\"18\":674433,\"19\":653450},\"rank\":{\"0\":1,\"1\":2,\"2\":3,\"3\":4,\"4\":5,\"5\":6,\"6\":7,\"7\":8,\"8\":9,\"9\":10,\"10\":11,\"11\":12,\"12\":13,\"13\":14,\"14\":15,\"15\":16,\"16\":17,\"17\":18,\"18\":19,\"19\":20},\"state\":{\"0\":\"New York\",\"1\":\"California\",\"2\":\"Illinois\",\"3\":\"Texas\",\"4\":\"Pennsylvania\",\"5\":\"Arizona\",\"6\":\"Texas\",\"7\":\"California\",\"8\":\"Texas\",\"9\":\"California\",\"10\":\"Texas\",\"11\":\"Indiana\",\"12\":\"Florida\",\"13\":\"California\",\"14\":\"Ohio\",\"15\":\"North Carolina\",\"16\":\"Texas\",\"17\":\"Michigan\",\"18\":\"Texas\",\"19\":\"Tennessee\"}}'"
      ]
     },
     "execution_count": 10,
     "metadata": {},
     "output_type": "execute_result"
    }
   ],
   "source": [
    "df[:20].to_json()"
   ]
  },
  {
   "cell_type": "code",
   "execution_count": null,
   "metadata": {},
   "outputs": [],
   "source": []
  }
 ],
 "metadata": {
  "kernelspec": {
   "display_name": "Python 3 (ipykernel)",
   "language": "python",
   "name": "python3"
  },
  "language_info": {
   "codemirror_mode": {
    "name": "ipython",
    "version": 3
   },
   "file_extension": ".py",
   "mimetype": "text/x-python",
   "name": "python",
   "nbconvert_exporter": "python",
   "pygments_lexer": "ipython3",
   "version": "3.11.0"
  }
 },
 "nbformat": 4,
 "nbformat_minor": 4
}

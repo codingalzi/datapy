{
 "cells": [
  {
   "cell_type": "code",
   "execution_count": 1,
   "id": "5924d033",
   "metadata": {},
   "outputs": [],
   "source": [
    "import numpy as np\n",
    "import pandas as pd"
   ]
  },
  {
   "cell_type": "markdown",
   "id": "739871c4",
   "metadata": {},
   "source": [
    "**문제 1: 성적 평균, 최댓값, 정렬**"
   ]
  },
  {
   "cell_type": "markdown",
   "id": "7801b0e8",
   "metadata": {},
   "source": [
    "A 학생의 월별 성적이다. "
   ]
  },
  {
   "cell_type": "code",
   "execution_count": 2,
   "id": "72eec0ad",
   "metadata": {},
   "outputs": [
    {
     "data": {
      "text/plain": [
       "3월     94\n",
       "4월     97\n",
       "5월     50\n",
       "6월     53\n",
       "9월     53\n",
       "10월    89\n",
       "11월    59\n",
       "12월    69\n",
       "dtype: int32"
      ]
     },
     "execution_count": 2,
     "metadata": {},
     "output_type": "execute_result"
    }
   ],
   "source": [
    "np.random.seed(0)\n",
    "\n",
    "months = '3월 4월 5월 6월 9월 10월 11월 12월'.split()\n",
    "\n",
    "scoreA = pd.Series(np.random.randint(50, 101, 8),\n",
    "              index=months)\n",
    "scoreA"
   ]
  },
  {
   "cell_type": "code",
   "execution_count": 3,
   "id": "8c439109",
   "metadata": {},
   "outputs": [
    {
     "name": "stdout",
     "output_type": "stream",
     "text": [
      "성적 전체 평균: 70.5\n"
     ]
    }
   ],
   "source": [
    "print(f'성적 전체 평균: {scoreA.mean()}')"
   ]
  },
  {
   "cell_type": "code",
   "execution_count": 4,
   "id": "955c122a",
   "metadata": {
    "scrolled": true
   },
   "outputs": [
    {
     "name": "stdout",
     "output_type": "stream",
     "text": [
      "1학기 평균: 73.5\n",
      "2학기 평균: 67.5\n",
      "향상 정도: -6.0\n"
     ]
    }
   ],
   "source": [
    "first_semester_mean = scoreA['3월':'6월'].mean()\n",
    "second_semester_mean = scoreA['9월':'12월'].mean()\n",
    "\n",
    "print(f'1학기 평균: {first_semester_mean}')\n",
    "print(f'2학기 평균: {second_semester_mean}')\n",
    "print(f'향상 정도: {second_semester_mean - first_semester_mean}')"
   ]
  },
  {
   "cell_type": "markdown",
   "id": "b603b75e",
   "metadata": {},
   "source": [
    "(1) 어느 달 성적이 가장 좋은가?"
   ]
  },
  {
   "cell_type": "markdown",
   "id": "0dec1613",
   "metadata": {},
   "source": [
    "- 방식 1: 내림차순으로 정렬 후 첫째 항목"
   ]
  },
  {
   "cell_type": "code",
   "execution_count": 5,
   "id": "dfff2f36",
   "metadata": {},
   "outputs": [
    {
     "data": {
      "text/plain": [
       "'4월'"
      ]
     },
     "execution_count": 5,
     "metadata": {},
     "output_type": "execute_result"
    }
   ],
   "source": [
    "scoreA.sort_values(ascending=False).index[0]"
   ]
  },
  {
   "cell_type": "markdown",
   "id": "9db0f3df",
   "metadata": {},
   "source": [
    "- `max()` 메서드와 부울 인덱싱 활용"
   ]
  },
  {
   "cell_type": "code",
   "execution_count": 6,
   "id": "4e653463",
   "metadata": {},
   "outputs": [
    {
     "data": {
      "text/plain": [
       "'4월'"
      ]
     },
     "execution_count": 6,
     "metadata": {},
     "output_type": "execute_result"
    }
   ],
   "source": [
    "scoreA[scoreA==scoreA.max()].index[0]"
   ]
  },
  {
   "cell_type": "markdown",
   "id": "1ac0f698",
   "metadata": {},
   "source": [
    "(2) 평균이 가장 높았던 3개의 달을 확인하는 코드를 작성하라.\n",
    "단, `sort_values()`와 `head()` 메서드를 연속으로 적용한다."
   ]
  },
  {
   "cell_type": "code",
   "execution_count": 7,
   "id": "4d523d30",
   "metadata": {},
   "outputs": [
    {
     "data": {
      "text/plain": [
       "4월     97\n",
       "3월     94\n",
       "10월    89\n",
       "12월    69\n",
       "11월    59\n",
       "dtype: int32"
      ]
     },
     "execution_count": 7,
     "metadata": {},
     "output_type": "execute_result"
    }
   ],
   "source": [
    "scoreA.sort_values(ascending=False).head(5)"
   ]
  },
  {
   "cell_type": "markdown",
   "id": "c735c96d",
   "metadata": {},
   "source": [
    "(3) 학생들의 성적을 10 단위로 반올림하라. 예를 들어, 82점과 79점 모두 80점으로 반올림돼야 한다.\n",
    "단, `round()` 메서드에 음수 인자를 사용한다."
   ]
  },
  {
   "cell_type": "code",
   "execution_count": 8,
   "id": "a98e1dc5",
   "metadata": {},
   "outputs": [
    {
     "data": {
      "text/plain": [
       "3월      90\n",
       "4월     100\n",
       "5월      50\n",
       "6월      50\n",
       "9월      50\n",
       "10월     90\n",
       "11월     60\n",
       "12월     70\n",
       "dtype: int32"
      ]
     },
     "execution_count": 8,
     "metadata": {},
     "output_type": "execute_result"
    }
   ],
   "source": [
    "scoreA.round(-1)  "
   ]
  },
  {
   "cell_type": "markdown",
   "id": "58d7f4d9",
   "metadata": {},
   "source": [
    "**문제 2: 두 학생 성적 비교**"
   ]
  },
  {
   "cell_type": "markdown",
   "id": "6e6e088a",
   "metadata": {},
   "source": [
    "B 학생의 월별 성적이다. "
   ]
  },
  {
   "cell_type": "code",
   "execution_count": 9,
   "id": "ee50213b",
   "metadata": {},
   "outputs": [
    {
     "data": {
      "text/plain": [
       "9월     59\n",
       "10월    86\n",
       "11월    65\n",
       "12월    50\n",
       "3월     99\n",
       "4월     78\n",
       "5월     75\n",
       "6월     79\n",
       "dtype: int32"
      ]
     },
     "execution_count": 9,
     "metadata": {},
     "output_type": "execute_result"
    }
   ],
   "source": [
    "np.random.seed(10)\n",
    "\n",
    "months = '9월 10월 11월 12월 3월 4월 5월 6월'.split()\n",
    "\n",
    "scoreB = pd.Series(np.random.randint(50, 101, 8),\n",
    "              index=months)\n",
    "scoreB"
   ]
  },
  {
   "cell_type": "markdown",
   "id": "91a3d472",
   "metadata": {},
   "source": [
    "A, B 두 학생의 합은 인덱스별로 계산된다."
   ]
  },
  {
   "cell_type": "code",
   "execution_count": 10,
   "id": "3e678b28",
   "metadata": {},
   "outputs": [
    {
     "data": {
      "text/plain": [
       "10월    175\n",
       "11월    124\n",
       "12월    119\n",
       "3월     193\n",
       "4월     175\n",
       "5월     125\n",
       "6월     132\n",
       "9월     112\n",
       "dtype: int32"
      ]
     },
     "execution_count": 10,
     "metadata": {},
     "output_type": "execute_result"
    }
   ],
   "source": [
    "scoreA + scoreB"
   ]
  },
  {
   "cell_type": "markdown",
   "id": "810803c0",
   "metadata": {},
   "source": [
    "따라서 A, B 두 학생 성적의 월별 평균값은 다음과 같다."
   ]
  },
  {
   "cell_type": "code",
   "execution_count": 11,
   "id": "ca492407",
   "metadata": {},
   "outputs": [
    {
     "data": {
      "text/plain": [
       "10월    87.5\n",
       "11월    62.0\n",
       "12월    59.5\n",
       "3월     96.5\n",
       "4월     87.5\n",
       "5월     62.5\n",
       "6월     66.0\n",
       "9월     56.0\n",
       "dtype: float64"
      ]
     },
     "execution_count": 11,
     "metadata": {},
     "output_type": "execute_result"
    }
   ],
   "source": [
    "(scoreA + scoreB)/2"
   ]
  },
  {
   "cell_type": "markdown",
   "id": "d69871dd",
   "metadata": {},
   "source": [
    "A, B 두 학생의 전체 평균값은 `mean()` 메서드를 이용한다."
   ]
  },
  {
   "cell_type": "code",
   "execution_count": 12,
   "id": "213188b1",
   "metadata": {},
   "outputs": [
    {
     "data": {
      "text/plain": [
       "72.1875"
      ]
     },
     "execution_count": 12,
     "metadata": {},
     "output_type": "execute_result"
    }
   ],
   "source": [
    "((scoreA + scoreB)/2).mean()"
   ]
  },
  {
   "cell_type": "markdown",
   "id": "f4d41578",
   "metadata": {},
   "source": [
    "(1) 평균과 표준편차: 시리즈와 상수의 연산엔 브로드캐스팅이 작동"
   ]
  },
  {
   "cell_type": "markdown",
   "id": "56de9a4b",
   "metadata": {},
   "source": [
    "- B 학생의 성적이 평균 + 표준편차보다 높을 때를 확인하는 표현식을 작성하라."
   ]
  },
  {
   "cell_type": "code",
   "execution_count": 13,
   "id": "1da7a9d7",
   "metadata": {},
   "outputs": [
    {
     "data": {
      "text/plain": [
       "3월    99\n",
       "dtype: int32"
      ]
     },
     "execution_count": 13,
     "metadata": {},
     "output_type": "execute_result"
    }
   ],
   "source": [
    "scoreB[scoreB > scoreB.mean() + scoreB.std()]"
   ]
  },
  {
   "cell_type": "markdown",
   "id": "fc3b0704",
   "metadata": {},
   "source": [
    "- B 학생의 성적이 평균 보다는 높지만 평균 + 표준편차보다는 낮을 때를 확인하는 표현식을 작성하라."
   ]
  },
  {
   "cell_type": "code",
   "execution_count": 14,
   "id": "2f657340",
   "metadata": {},
   "outputs": [
    {
     "data": {
      "text/plain": [
       "10월    86\n",
       "4월     78\n",
       "5월     75\n",
       "6월     79\n",
       "dtype: int32"
      ]
     },
     "execution_count": 14,
     "metadata": {},
     "output_type": "execute_result"
    }
   ],
   "source": [
    "scoreB[(scoreB < scoreB.mean() + scoreB.std()) & (scoreB > scoreB.mean())]"
   ]
  },
  {
   "cell_type": "markdown",
   "id": "d40718cf",
   "metadata": {},
   "source": [
    "- B 학생의 성적이 평균 보다는 낮지만 (평균 - 표준편차)보다는 높을 때를 확인하는 표현식을 작성하라."
   ]
  },
  {
   "cell_type": "code",
   "execution_count": 15,
   "id": "d7a78868",
   "metadata": {},
   "outputs": [
    {
     "data": {
      "text/plain": [
       "9월     59\n",
       "11월    65\n",
       "dtype: int32"
      ]
     },
     "execution_count": 15,
     "metadata": {},
     "output_type": "execute_result"
    }
   ],
   "source": [
    "scoreB[(scoreB > scoreB.mean() - scoreB.std()) & (scoreB < scoreB.mean())]"
   ]
  },
  {
   "cell_type": "markdown",
   "id": "9d23c49a",
   "metadata": {},
   "source": [
    "- B 학생의 성적이 (평균 - 표준편차)보다도 낮을 때를 확인하는 표현식을 작성하라."
   ]
  },
  {
   "cell_type": "code",
   "execution_count": 16,
   "id": "8c8395cd",
   "metadata": {},
   "outputs": [
    {
     "data": {
      "text/plain": [
       "12월    50\n",
       "dtype: int32"
      ]
     },
     "execution_count": 16,
     "metadata": {},
     "output_type": "execute_result"
    }
   ],
   "source": [
    "scoreB[scoreB < scoreB.mean() - scoreB.std()]"
   ]
  },
  {
   "cell_type": "markdown",
   "id": "51f96429",
   "metadata": {},
   "source": [
    "(2) 평균값으로부터 표준편차의 2배보다 큰 차이를 보인 점수가 있는 달이 언제인지를 확인하는 표현식을 작성하라."
   ]
  },
  {
   "cell_type": "code",
   "execution_count": 17,
   "id": "8e8f34c9",
   "metadata": {},
   "outputs": [
    {
     "data": {
      "text/plain": [
       "Series([], dtype: int32)"
      ]
     },
     "execution_count": 17,
     "metadata": {},
     "output_type": "execute_result"
    }
   ],
   "source": [
    "scoreB[(scoreB < scoreB.mean()-2*scoreB.std())  |\n",
    "       (scoreB > scoreB.mean()+2*scoreB.std())]"
   ]
  },
  {
   "cell_type": "markdown",
   "id": "b453bdf8",
   "metadata": {},
   "source": [
    "(3) 평균값(mean)과 중앙값의 차이를 확인하는 표현식을 작성하라."
   ]
  },
  {
   "cell_type": "code",
   "execution_count": 18,
   "id": "660d7038",
   "metadata": {},
   "outputs": [
    {
     "data": {
      "text/plain": [
       "-2.625"
      ]
     },
     "execution_count": 18,
     "metadata": {},
     "output_type": "execute_result"
    }
   ],
   "source": [
    "scoreB.mean() - scoreB.median()"
   ]
  },
  {
   "cell_type": "markdown",
   "id": "4e5e2997",
   "metadata": {},
   "source": [
    "**문제 3: 자리수 계산**"
   ]
  },
  {
   "cell_type": "code",
   "execution_count": 19,
   "id": "88550fef",
   "metadata": {},
   "outputs": [
    {
     "data": {
      "text/plain": [
       "0    44\n",
       "1    47\n",
       "2    64\n",
       "3    67\n",
       "4    67\n",
       "5     9\n",
       "6    83\n",
       "7    21\n",
       "8    36\n",
       "9    87\n",
       "dtype: int32"
      ]
     },
     "execution_count": 19,
     "metadata": {},
     "output_type": "execute_result"
    }
   ],
   "source": [
    "np.random.seed(0)\n",
    "\n",
    "s = pd.Series(np.random.randint(0, 100, 10))\n",
    "s"
   ]
  },
  {
   "cell_type": "markdown",
   "id": "3827390b",
   "metadata": {},
   "source": [
    "10의 자리수로 이뤄진 시리즈를 구하라."
   ]
  },
  {
   "cell_type": "code",
   "execution_count": 20,
   "id": "014b91da",
   "metadata": {},
   "outputs": [
    {
     "data": {
      "text/plain": [
       "0    4\n",
       "1    4\n",
       "2    6\n",
       "3    6\n",
       "4    6\n",
       "5    0\n",
       "6    8\n",
       "7    2\n",
       "8    3\n",
       "9    8\n",
       "dtype: int32"
      ]
     },
     "execution_count": 20,
     "metadata": {},
     "output_type": "execute_result"
    }
   ],
   "source": [
    "s//10"
   ]
  },
  {
   "cell_type": "markdown",
   "id": "aadc1e8d",
   "metadata": {},
   "source": [
    "한자리 숫자이기에 메모리를 아끼기 위해 `int8`을 자료형으로 지정할 수 있다."
   ]
  },
  {
   "cell_type": "code",
   "execution_count": 21,
   "id": "22a24146",
   "metadata": {},
   "outputs": [
    {
     "data": {
      "text/plain": [
       "0    4\n",
       "1    4\n",
       "2    6\n",
       "3    6\n",
       "4    6\n",
       "5    0\n",
       "6    8\n",
       "7    2\n",
       "8    3\n",
       "9    8\n",
       "dtype: int8"
      ]
     },
     "execution_count": 21,
     "metadata": {},
     "output_type": "execute_result"
    }
   ],
   "source": [
    "(s//10).astype('i1') # 또는 'np.int8' 지정"
   ]
  },
  {
   "cell_type": "markdown",
   "id": "49121c39",
   "metadata": {},
   "source": [
    "문자열을 이용하는 아래 방식도 가능하다.\n",
    "\n",
    "- `str` 속성은 모든 항목을 문자열로 변환된 벡터를 가라킴.\n",
    "- 문자열 변환된 벡터에 대한 인덱싱 가능. `get(인덱스)` 메서드 또는 `[인덱스]` 기호 활용."
   ]
  },
  {
   "cell_type": "code",
   "execution_count": 22,
   "id": "dcd04663",
   "metadata": {},
   "outputs": [
    {
     "data": {
      "text/plain": [
       "0      4\n",
       "1      4\n",
       "2      6\n",
       "3      6\n",
       "4      6\n",
       "5    NaN\n",
       "6      8\n",
       "7      2\n",
       "8      3\n",
       "9      8\n",
       "dtype: object"
      ]
     },
     "execution_count": 22,
     "metadata": {},
     "output_type": "execute_result"
    }
   ],
   "source": [
    "s.astype(str).str.get(-2)"
   ]
  },
  {
   "cell_type": "markdown",
   "id": "5fc0893f",
   "metadata": {},
   "source": [
    "그런데 일부 숫자가 한 자리이기에 결측치가 발생한다.\n",
    "따라서 결측치를 0으로 대체한다. \n",
    "단 다른 값들이 문자열이기에 여기서도 문자열 `0`을 사용한다."
   ]
  },
  {
   "cell_type": "code",
   "execution_count": 23,
   "id": "a145d0de",
   "metadata": {},
   "outputs": [
    {
     "data": {
      "text/plain": [
       "0    4\n",
       "1    4\n",
       "2    6\n",
       "3    6\n",
       "4    6\n",
       "5    0\n",
       "6    8\n",
       "7    2\n",
       "8    3\n",
       "9    8\n",
       "dtype: object"
      ]
     },
     "execution_count": 23,
     "metadata": {},
     "output_type": "execute_result"
    }
   ],
   "source": [
    "s.astype(str).str.get(-2).fillna('0')"
   ]
  },
  {
   "cell_type": "code",
   "execution_count": 24,
   "id": "b5659989",
   "metadata": {},
   "outputs": [
    {
     "data": {
      "text/plain": [
       "0    4\n",
       "1    4\n",
       "2    6\n",
       "3    6\n",
       "4    6\n",
       "5    0\n",
       "6    8\n",
       "7    2\n",
       "8    3\n",
       "9    8\n",
       "dtype: object"
      ]
     },
     "execution_count": 24,
     "metadata": {},
     "output_type": "execute_result"
    }
   ],
   "source": [
    "s.astype(str).str[-2].fillna('0')"
   ]
  },
  {
   "cell_type": "markdown",
   "id": "d0d448f3",
   "metadata": {},
   "source": [
    "모든 값을 정수형으로 변환해도 된다."
   ]
  },
  {
   "cell_type": "code",
   "execution_count": 25,
   "id": "60d30973",
   "metadata": {},
   "outputs": [
    {
     "data": {
      "text/plain": [
       "0    4\n",
       "1    4\n",
       "2    6\n",
       "3    6\n",
       "4    6\n",
       "5    0\n",
       "6    8\n",
       "7    2\n",
       "8    3\n",
       "9    8\n",
       "dtype: int8"
      ]
     },
     "execution_count": 25,
     "metadata": {},
     "output_type": "execute_result"
    }
   ],
   "source": [
    "s.astype(str).str.get(-2).fillna('0').astype(np.int8)"
   ]
  },
  {
   "cell_type": "markdown",
   "id": "25a1acec",
   "metadata": {},
   "source": [
    "(1) 문자열을 활용하는 방식을 이용하여 100의 자리수로 이뤄진 시리즈를 구하라."
   ]
  },
  {
   "cell_type": "code",
   "execution_count": 26,
   "id": "67d8bcd7",
   "metadata": {},
   "outputs": [
    {
     "data": {
      "text/plain": [
       "0    2191\n",
       "1     406\n",
       "2    9529\n",
       "3    6061\n",
       "4    8470\n",
       "5    9247\n",
       "6    3623\n",
       "7    4564\n",
       "8    2945\n",
       "9    1774\n",
       "dtype: int32"
      ]
     },
     "execution_count": 26,
     "metadata": {},
     "output_type": "execute_result"
    }
   ],
   "source": [
    "np.random.seed(17)\n",
    "\n",
    "s = pd.Series(np.random.randint(0, 10000, 10))\n",
    "s"
   ]
  },
  {
   "cell_type": "code",
   "execution_count": 27,
   "id": "1bb7fff6",
   "metadata": {
    "scrolled": true
   },
   "outputs": [
    {
     "data": {
      "text/plain": [
       "0    1\n",
       "1    4\n",
       "2    5\n",
       "3    0\n",
       "4    4\n",
       "5    2\n",
       "6    6\n",
       "7    5\n",
       "8    9\n",
       "9    7\n",
       "dtype: object"
      ]
     },
     "execution_count": 27,
     "metadata": {},
     "output_type": "execute_result"
    }
   ],
   "source": [
    "s.astype(str).str.get(-3)"
   ]
  },
  {
   "cell_type": "markdown",
   "id": "e35e8979",
   "metadata": {},
   "source": [
    "(2) `s`를 `int8`, `uint8`, `int16` 자료형으로 표현하고 그 결과를 설명하라."
   ]
  },
  {
   "cell_type": "code",
   "execution_count": 28,
   "id": "58f9d085",
   "metadata": {},
   "outputs": [
    {
     "data": {
      "text/plain": [
       "0   -113\n",
       "1   -106\n",
       "2     57\n",
       "3    -83\n",
       "4     22\n",
       "5     31\n",
       "6     39\n",
       "7    -44\n",
       "8   -127\n",
       "9    -18\n",
       "dtype: int8"
      ]
     },
     "execution_count": 28,
     "metadata": {},
     "output_type": "execute_result"
    }
   ],
   "source": [
    "s.astype(np.int8)"
   ]
  },
  {
   "cell_type": "code",
   "execution_count": 29,
   "id": "c8e4f7f6",
   "metadata": {},
   "outputs": [
    {
     "data": {
      "text/plain": [
       "0    143\n",
       "1    150\n",
       "2     57\n",
       "3    173\n",
       "4     22\n",
       "5     31\n",
       "6     39\n",
       "7    212\n",
       "8    129\n",
       "9    238\n",
       "dtype: uint8"
      ]
     },
     "execution_count": 29,
     "metadata": {},
     "output_type": "execute_result"
    }
   ],
   "source": [
    "s.astype(np.uint8)"
   ]
  },
  {
   "cell_type": "code",
   "execution_count": 30,
   "id": "302a3a4e",
   "metadata": {},
   "outputs": [
    {
     "data": {
      "text/plain": [
       "0    2191\n",
       "1     406\n",
       "2    9529\n",
       "3    6061\n",
       "4    8470\n",
       "5    9247\n",
       "6    3623\n",
       "7    4564\n",
       "8    2945\n",
       "9    1774\n",
       "dtype: int16"
      ]
     },
     "execution_count": 30,
     "metadata": {},
     "output_type": "execute_result"
    }
   ],
   "source": [
    "s.astype(np.int16)"
   ]
  },
  {
   "cell_type": "markdown",
   "id": "4272edd3",
   "metadata": {},
   "source": [
    "(3) 100에서 10000 사이에서 임의로 10개의 부동소수점을 생성한 다음에 정수 부분이 홀수인 숫자로만 이뤄진 시리즈를 구하라.\n",
    "단, `np.random.rand()` 함수를 이용한다."
   ]
  },
  {
   "cell_type": "code",
   "execution_count": 31,
   "id": "8306c854",
   "metadata": {},
   "outputs": [
    {
     "data": {
      "text/plain": [
       "0    294.665003\n",
       "1    530.586756\n",
       "2    191.520787\n",
       "3     67.900358\n",
       "4    786.985460\n",
       "5    656.333522\n",
       "6    637.520896\n",
       "7    575.602894\n",
       "8     39.062916\n",
       "9    357.813604\n",
       "dtype: float64"
      ]
     },
     "execution_count": 31,
     "metadata": {},
     "output_type": "execute_result"
    }
   ],
   "source": [
    "np.random.seed(17)\n",
    "\n",
    "s = pd.Series(np.random.rand(10) * 1000)\n",
    "s"
   ]
  },
  {
   "cell_type": "code",
   "execution_count": 32,
   "id": "cf0d4a2f",
   "metadata": {},
   "outputs": [
    {
     "data": {
      "text/plain": [
       "0    294.665003\n",
       "1    530.586756\n",
       "4    786.985460\n",
       "5    656.333522\n",
       "dtype: float64"
      ]
     },
     "execution_count": 32,
     "metadata": {},
     "output_type": "execute_result"
    }
   ],
   "source": [
    "s[s.astype(np.int64) % 2 == 0]"
   ]
  },
  {
   "cell_type": "markdown",
   "id": "3b62b3da",
   "metadata": {},
   "source": [
    "**문제 4: 표준편차 의미**"
   ]
  },
  {
   "cell_type": "code",
   "execution_count": 33,
   "id": "fe5f8325",
   "metadata": {},
   "outputs": [
    {
     "data": {
      "text/plain": [
       "0        176.405235\n",
       "1         40.015721\n",
       "2         97.873798\n",
       "3        224.089320\n",
       "4        186.755799\n",
       "            ...    \n",
       "99995    -33.771476\n",
       "99996   -202.854844\n",
       "99997     72.618198\n",
       "99998   -116.783052\n",
       "99999   -128.520765\n",
       "Length: 100000, dtype: float64"
      ]
     },
     "execution_count": 33,
     "metadata": {},
     "output_type": "execute_result"
    }
   ],
   "source": [
    "np.random.seed(0)\n",
    "\n",
    "s = pd.Series(np.random.normal(0, 100, 100_000))\n",
    "s"
   ]
  },
  {
   "cell_type": "markdown",
   "id": "eefa128c",
   "metadata": {},
   "source": [
    "(1) 평균값을 중심으로 1 표준편차, 2 표준편차, 3 표준편차 범위 안에 있는 데이터 수의 비율이 각각\n",
    "68%, 95%, 99.7% 정도임을 확인하라."
   ]
  },
  {
   "cell_type": "markdown",
   "id": "759413b2",
   "metadata": {},
   "source": [
    "- 1 표준편차 범위"
   ]
  },
  {
   "cell_type": "code",
   "execution_count": 34,
   "id": "ed1419bf",
   "metadata": {},
   "outputs": [
    {
     "data": {
      "text/plain": [
       "0.68463"
      ]
     },
     "execution_count": 34,
     "metadata": {},
     "output_type": "execute_result"
    }
   ],
   "source": [
    "mask = (s > s.mean() - s.std()) & (s < s.mean() + s.std())\n",
    "s[mask].count() / 100_000"
   ]
  },
  {
   "cell_type": "markdown",
   "id": "51f911df",
   "metadata": {},
   "source": [
    "- 2 표준편차 범위"
   ]
  },
  {
   "cell_type": "code",
   "execution_count": 35,
   "id": "ba669168",
   "metadata": {},
   "outputs": [
    {
     "data": {
      "text/plain": [
       "0.95382"
      ]
     },
     "execution_count": 35,
     "metadata": {},
     "output_type": "execute_result"
    }
   ],
   "source": [
    "mask = (s > s.mean() - 2*s.std()) & (s < s.mean() + 2*s.std())\n",
    "s[mask].count() / 100_000"
   ]
  },
  {
   "cell_type": "markdown",
   "id": "e4bb841a",
   "metadata": {},
   "source": [
    "- 3 표준편차 범위"
   ]
  },
  {
   "cell_type": "code",
   "execution_count": 36,
   "id": "ad1c0815",
   "metadata": {},
   "outputs": [
    {
     "data": {
      "text/plain": [
       "0.99714"
      ]
     },
     "execution_count": 36,
     "metadata": {},
     "output_type": "execute_result"
    }
   ],
   "source": [
    "mask = (s > s.mean() - 3*s.std()) & (s < s.mean() + 3*s.std())\n",
    "s[mask].count() / 100_000"
   ]
  },
  {
   "cell_type": "markdown",
   "id": "2a473fa8",
   "metadata": {},
   "source": [
    "(1) 평균값 `s.mean()` 보다 작은 값들의 평균값과 큰 값들의 평균값의 평균값이 `s.mean()`과 동일한지 여부를 확인하라."
   ]
  },
  {
   "cell_type": "markdown",
   "id": "025e1e23",
   "metadata": {},
   "source": [
    "- 평균값도 작은 값과 큰 값들의 평균값"
   ]
  },
  {
   "cell_type": "code",
   "execution_count": 37,
   "id": "70a44ede",
   "metadata": {},
   "outputs": [
    {
     "data": {
      "text/plain": [
       "0.1529017934377066"
      ]
     },
     "execution_count": 37,
     "metadata": {},
     "output_type": "execute_result"
    }
   ],
   "source": [
    "(s[s < s.mean()].mean() + s[s > s.mean()].mean() ) / 2"
   ]
  },
  {
   "cell_type": "markdown",
   "id": "54823690",
   "metadata": {},
   "source": [
    "- 평균값과 매우 비슷함"
   ]
  },
  {
   "cell_type": "code",
   "execution_count": 38,
   "id": "8d1de64d",
   "metadata": {},
   "outputs": [
    {
     "data": {
      "text/plain": [
       "0.15767005081253402"
      ]
     },
     "execution_count": 38,
     "metadata": {},
     "output_type": "execute_result"
    }
   ],
   "source": [
    "s.mean()"
   ]
  },
  {
   "cell_type": "markdown",
   "id": "e770bfd4",
   "metadata": {},
   "source": [
    "(3) 평균값으로부터 3 표준편차 이상 떨어진 값들의 평균값은?"
   ]
  },
  {
   "cell_type": "code",
   "execution_count": 39,
   "id": "d3eed4a7",
   "metadata": {},
   "outputs": [],
   "source": [
    "mask = (s < s.mean() - 3*s.std()) | (s > s.mean() + 3*s.std())"
   ]
  },
  {
   "cell_type": "code",
   "execution_count": 40,
   "id": "571b816c",
   "metadata": {},
   "outputs": [
    {
     "data": {
      "text/plain": [
       "-2.357791086185572"
      ]
     },
     "execution_count": 40,
     "metadata": {},
     "output_type": "execute_result"
    }
   ],
   "source": [
    "s[mask].mean()"
   ]
  },
  {
   "cell_type": "markdown",
   "id": "d1ad5342",
   "metadata": {},
   "source": [
    "**문제 5: 요일별 온도**"
   ]
  },
  {
   "cell_type": "markdown",
   "id": "16ecd0e9",
   "metadata": {},
   "source": [
    "- 요일(일주일"
   ]
  },
  {
   "cell_type": "code",
   "execution_count": 41,
   "id": "e92c4d5a",
   "metadata": {},
   "outputs": [],
   "source": [
    "np.random.seed(0)\n",
    "\n",
    "days = 'Sun Mon Tue Wed Thu Fri Sat'.split()"
   ]
  },
  {
   "cell_type": "markdown",
   "id": "725d1b56",
   "metadata": {},
   "source": [
    "- 온도: 28일 동안"
   ]
  },
  {
   "cell_type": "code",
   "execution_count": 42,
   "id": "11b5969e",
   "metadata": {},
   "outputs": [
    {
     "data": {
      "text/plain": [
       "Sun    29\n",
       "Mon    22\n",
       "Tue    25\n",
       "Wed    31\n",
       "Thu    29\n",
       "Fri    15\n",
       "Sat    25\n",
       "Sun    19\n",
       "Mon    19\n",
       "Tue    22\n",
       "Wed    21\n",
       "Thu    27\n",
       "Fri    24\n",
       "Sat    21\n",
       "Sun    22\n",
       "Mon    22\n",
       "Tue    27\n",
       "Wed    19\n",
       "Thu    22\n",
       "Fri    16\n",
       "Sat     7\n",
       "Sun    23\n",
       "Mon    24\n",
       "Tue    16\n",
       "Wed    31\n",
       "Thu    13\n",
       "Fri    20\n",
       "Sat    19\n",
       "dtype: int8"
      ]
     },
     "execution_count": 42,
     "metadata": {},
     "output_type": "execute_result"
    }
   ],
   "source": [
    "s = pd.Series(np.random.normal(20, 5, 28), index=days*4).round().astype(np.int8)\n",
    "s"
   ]
  },
  {
   "cell_type": "markdown",
   "id": "c471f338",
   "metadata": {},
   "source": [
    "(1) 주말(토요일과 일요일)의 평균 온도를 계산하라."
   ]
  },
  {
   "cell_type": "code",
   "execution_count": 43,
   "id": "7abb8da7",
   "metadata": {},
   "outputs": [
    {
     "data": {
      "text/plain": [
       "20.625"
      ]
     },
     "execution_count": 43,
     "metadata": {},
     "output_type": "execute_result"
    }
   ],
   "source": [
    "s[['Sun', 'Sat']].mean()"
   ]
  },
  {
   "cell_type": "markdown",
   "id": "724800b7",
   "metadata": {},
   "source": [
    "(2) 전날과의 온도차가 2도 이상인 날의 횟수를 계산하라.\n",
    "단, `diff()` 메서드를 이용한다."
   ]
  },
  {
   "cell_type": "code",
   "execution_count": 44,
   "id": "cd400f10",
   "metadata": {},
   "outputs": [
    {
     "data": {
      "text/plain": [
       "Tue    25\n",
       "Wed    31\n",
       "Sat    25\n",
       "Tue    22\n",
       "Thu    27\n",
       "Tue    27\n",
       "Thu    22\n",
       "Sun    23\n",
       "Wed    31\n",
       "Fri    20\n",
       "dtype: int8"
      ]
     },
     "execution_count": 44,
     "metadata": {},
     "output_type": "execute_result"
    }
   ],
   "source": [
    "s[s.diff() > 2] # periods=1 과 axis=0 이 기본값"
   ]
  },
  {
   "cell_type": "markdown",
   "id": "4c9e8592",
   "metadata": {},
   "source": [
    "(3) 가장 자주 발생하는 온도 두 개와 가각 사용된 횟수를 계산하라.\n",
    "단, `valut_counts()` 메서드를 이용한다."
   ]
  },
  {
   "cell_type": "code",
   "execution_count": 45,
   "id": "088157fd",
   "metadata": {},
   "outputs": [
    {
     "data": {
      "text/plain": [
       "22    5\n",
       "19    4\n",
       "dtype: int64"
      ]
     },
     "execution_count": 45,
     "metadata": {},
     "output_type": "execute_result"
    }
   ],
   "source": [
    "s.value_counts().head(2)"
   ]
  },
  {
   "cell_type": "markdown",
   "id": "349ddda4",
   "metadata": {},
   "source": [
    "**문제 6: 사분위수**"
   ]
  },
  {
   "cell_type": "markdown",
   "id": "b644ad9a",
   "metadata": {},
   "source": [
    "먼저 택시 승객수 데이터셋을 다운로드 한다.\n",
    "택시가 총 9,999번 손님을 받을 때마다 함께 탐승한 승객수가 저장되어 있다."
   ]
  },
  {
   "cell_type": "code",
   "execution_count": 66,
   "id": "a115334a",
   "metadata": {},
   "outputs": [],
   "source": [
    "base_url = 'https://raw.githubusercontent.com/codingalzi/datapy/master/practices/pandas-workout/data/'"
   ]
  },
  {
   "cell_type": "code",
   "execution_count": 47,
   "id": "5fc02f93",
   "metadata": {},
   "outputs": [
    {
     "data": {
      "text/html": [
       "<div>\n",
       "<style scoped>\n",
       "    .dataframe tbody tr th:only-of-type {\n",
       "        vertical-align: middle;\n",
       "    }\n",
       "\n",
       "    .dataframe tbody tr th {\n",
       "        vertical-align: top;\n",
       "    }\n",
       "\n",
       "    .dataframe thead th {\n",
       "        text-align: right;\n",
       "    }\n",
       "</style>\n",
       "<table border=\"1\" class=\"dataframe\">\n",
       "  <thead>\n",
       "    <tr style=\"text-align: right;\">\n",
       "      <th></th>\n",
       "      <th>0</th>\n",
       "    </tr>\n",
       "  </thead>\n",
       "  <tbody>\n",
       "    <tr>\n",
       "      <th>0</th>\n",
       "      <td>1</td>\n",
       "    </tr>\n",
       "    <tr>\n",
       "      <th>1</th>\n",
       "      <td>1</td>\n",
       "    </tr>\n",
       "    <tr>\n",
       "      <th>2</th>\n",
       "      <td>1</td>\n",
       "    </tr>\n",
       "    <tr>\n",
       "      <th>3</th>\n",
       "      <td>1</td>\n",
       "    </tr>\n",
       "    <tr>\n",
       "      <th>4</th>\n",
       "      <td>1</td>\n",
       "    </tr>\n",
       "    <tr>\n",
       "      <th>...</th>\n",
       "      <td>...</td>\n",
       "    </tr>\n",
       "    <tr>\n",
       "      <th>9994</th>\n",
       "      <td>1</td>\n",
       "    </tr>\n",
       "    <tr>\n",
       "      <th>9995</th>\n",
       "      <td>1</td>\n",
       "    </tr>\n",
       "    <tr>\n",
       "      <th>9996</th>\n",
       "      <td>1</td>\n",
       "    </tr>\n",
       "    <tr>\n",
       "      <th>9997</th>\n",
       "      <td>6</td>\n",
       "    </tr>\n",
       "    <tr>\n",
       "      <th>9998</th>\n",
       "      <td>1</td>\n",
       "    </tr>\n",
       "  </tbody>\n",
       "</table>\n",
       "<p>9999 rows × 1 columns</p>\n",
       "</div>"
      ],
      "text/plain": [
       "      0\n",
       "0     1\n",
       "1     1\n",
       "2     1\n",
       "3     1\n",
       "4     1\n",
       "...  ..\n",
       "9994  1\n",
       "9995  1\n",
       "9996  1\n",
       "9997  6\n",
       "9998  1\n",
       "\n",
       "[9999 rows x 1 columns]"
      ]
     },
     "execution_count": 47,
     "metadata": {},
     "output_type": "execute_result"
    }
   ],
   "source": [
    "s = pd.read_csv(base_url+'taxi-passenger-count.csv', header=None)\n",
    "s"
   ]
  },
  {
   "cell_type": "markdown",
   "id": "c6762525",
   "metadata": {},
   "source": [
    "- `squeeze()` 메서드는 1개의 열을 갖는 데이터프레임을 시리즈로 변환한다. 항목은 그대로 둔다."
   ]
  },
  {
   "cell_type": "code",
   "execution_count": 48,
   "id": "57add537",
   "metadata": {},
   "outputs": [
    {
     "data": {
      "text/plain": [
       "0       1\n",
       "1       1\n",
       "2       1\n",
       "3       1\n",
       "4       1\n",
       "       ..\n",
       "9994    1\n",
       "9995    1\n",
       "9996    1\n",
       "9997    6\n",
       "9998    1\n",
       "Name: 0, Length: 9999, dtype: int64"
      ]
     },
     "execution_count": 48,
     "metadata": {},
     "output_type": "execute_result"
    }
   ],
   "source": [
    "s = s.squeeze()\n",
    "s"
   ]
  },
  {
   "cell_type": "markdown",
   "id": "b3f645ad",
   "metadata": {},
   "source": [
    "택시 승객수별 빈도수를 확인한다."
   ]
  },
  {
   "cell_type": "code",
   "execution_count": 49,
   "id": "4d1bb72f",
   "metadata": {},
   "outputs": [
    {
     "data": {
      "text/plain": [
       "1    7207\n",
       "2    1313\n",
       "5     520\n",
       "3     406\n",
       "6     369\n",
       "4     182\n",
       "0       2\n",
       "Name: 0, dtype: int64"
      ]
     },
     "execution_count": 49,
     "metadata": {},
     "output_type": "execute_result"
    }
   ],
   "source": [
    "s.value_counts()"
   ]
  },
  {
   "cell_type": "markdown",
   "id": "bb5ad107",
   "metadata": {},
   "source": [
    "`valule_counts()` 메서드의 `normalize=True` 키워드 인자를 지정하면\n",
    "빈도수를 백분율로 계산한다.\n",
    "아래 결과에 따르면 1인 승객의 비율이 72% 정도, 2인 승객의 비율이 13% 정도이다."
   ]
  },
  {
   "cell_type": "code",
   "execution_count": 50,
   "id": "91b01daa",
   "metadata": {},
   "outputs": [
    {
     "data": {
      "text/plain": [
       "1    0.720772\n",
       "2    0.131313\n",
       "5    0.052005\n",
       "3    0.040604\n",
       "6    0.036904\n",
       "4    0.018202\n",
       "0    0.000200\n",
       "Name: 0, dtype: float64"
      ]
     },
     "execution_count": 50,
     "metadata": {},
     "output_type": "execute_result"
    }
   ],
   "source": [
    "s.value_counts(normalize=True)"
   ]
  },
  {
   "cell_type": "markdown",
   "id": "c4e34803",
   "metadata": {},
   "source": [
    "(1) 제1사분위수, 중앙값(median), 제3사분위수를 확인하라. \n",
    "코드를 실행하기 전에 사분위수를 예측할 수 있는가?"
   ]
  },
  {
   "cell_type": "markdown",
   "id": "2652fa26",
   "metadata": {},
   "source": [
    "답변: \n",
    "\n",
    "- 1인 승객의 비율이 72% 정도이기에 제1사분위수와 중앙값은 1이다.\n",
    "- 2인 승객의 비율이 13% 이기에 제3사분위수는 2가 된다. 이유는 72+13은 85가 되어 75%를 넘기 때문이다.\n",
    "\n",
    "실제로 확인하면 예측과 동일하다."
   ]
  },
  {
   "cell_type": "markdown",
   "id": "c21c8283",
   "metadata": {},
   "source": [
    "- `quantile()` 메서드: 지정된 비율의 분위수 계산"
   ]
  },
  {
   "cell_type": "code",
   "execution_count": 51,
   "id": "b84e99ac",
   "metadata": {},
   "outputs": [
    {
     "data": {
      "text/plain": [
       "0.25    1.0\n",
       "0.50    1.0\n",
       "0.75    2.0\n",
       "Name: 0, dtype: float64"
      ]
     },
     "execution_count": 51,
     "metadata": {},
     "output_type": "execute_result"
    }
   ],
   "source": [
    "s.quantile([.25, .50, .75])"
   ]
  },
  {
   "cell_type": "markdown",
   "id": "d7e95662",
   "metadata": {},
   "source": [
    "(2) 3인부터 6인 승객의 비율이 얼마인지 계산하라."
   ]
  },
  {
   "cell_type": "code",
   "execution_count": 52,
   "id": "1e27c415",
   "metadata": {},
   "outputs": [
    {
     "data": {
      "text/plain": [
       "0.1477147714771477"
      ]
     },
     "execution_count": 52,
     "metadata": {},
     "output_type": "execute_result"
    }
   ],
   "source": [
    "s.value_counts(normalize=True)[[3,4,5,6]].sum()"
   ]
  },
  {
   "cell_type": "markdown",
   "id": "60c02b54",
   "metadata": {},
   "source": [
    "(3) 택시 수를 늘리려 할 때 소형 택시와 대형 택시 중 어떤 택시를 보다 많이 인허가 해줘야 하는지 이유를 설명하라."
   ]
  },
  {
   "cell_type": "markdown",
   "id": "f255bb50",
   "metadata": {},
   "source": [
    "답변: 1, 2인 승객의 비율이 85%에 달하기에 소형 택식를 보다 많이 인허가 해줘야 한다."
   ]
  },
  {
   "cell_type": "markdown",
   "id": "525552fd",
   "metadata": {},
   "source": [
    "**문제 7: 구간 쪼개기**"
   ]
  },
  {
   "cell_type": "markdown",
   "id": "d413b592",
   "metadata": {},
   "source": [
    "택시가 승객을 받을 때의 주행거리 데이터셋을 다운로드 한다.\n",
    "승객 번호는 택시 승객수 데이터와 동일하다."
   ]
  },
  {
   "cell_type": "code",
   "execution_count": 53,
   "id": "26cc04b4",
   "metadata": {},
   "outputs": [
    {
     "data": {
      "text/plain": [
       "0       1.63\n",
       "1       0.46\n",
       "2       0.87\n",
       "3       2.13\n",
       "4       1.40\n",
       "        ... \n",
       "9994    2.70\n",
       "9995    4.50\n",
       "9996    5.59\n",
       "9997    1.54\n",
       "9998    5.80\n",
       "Name: 0, Length: 9999, dtype: float64"
      ]
     },
     "execution_count": 53,
     "metadata": {},
     "output_type": "execute_result"
    }
   ],
   "source": [
    "s = pd.read_csv(base_url+'taxi-distance.csv', header=None).squeeze()\n",
    "s"
   ]
  },
  {
   "cell_type": "markdown",
   "id": "2a17e450",
   "metadata": {},
   "source": [
    "주행거리를 2km, 10km 기준으로 쪼개 총 3개의 구간으로 나눈다.\n",
    "\n",
    "- 2km 미만: 단거리\n",
    "- 2km에서 10km 미만: 중거리\n",
    "- 10km 이상: 장거리"
   ]
  },
  {
   "cell_type": "code",
   "execution_count": 54,
   "id": "194b3da4",
   "metadata": {},
   "outputs": [
    {
     "data": {
      "text/plain": [
       "0       단거리\n",
       "1       단거리\n",
       "2       단거리\n",
       "3       중거리\n",
       "4       단거리\n",
       "       ... \n",
       "9994    중거리\n",
       "9995    중거리\n",
       "9996    중거리\n",
       "9997    단거리\n",
       "9998    중거리\n",
       "Name: 0, Length: 9999, dtype: category\n",
       "Categories (3, object): ['단거리' < '중거리' < '장거리']"
      ]
     },
     "execution_count": 54,
     "metadata": {},
     "output_type": "execute_result"
    }
   ],
   "source": [
    "pd.cut(s, bins=[s.min()-1, 2, 10, s.max()], labels=['단거리', '중거리', '장거리'])"
   ]
  },
  {
   "cell_type": "markdown",
   "id": "cabbd55d",
   "metadata": {},
   "source": [
    "구간별 항목수는 다음과 같다."
   ]
  },
  {
   "cell_type": "code",
   "execution_count": 55,
   "id": "0c886e07",
   "metadata": {},
   "outputs": [
    {
     "data": {
      "text/plain": [
       "단거리    5890\n",
       "중거리    3402\n",
       "장거리     707\n",
       "Name: 0, dtype: int64"
      ]
     },
     "execution_count": 55,
     "metadata": {},
     "output_type": "execute_result"
    }
   ],
   "source": [
    "pd.cut(s, bins=[s.min()-1, 2, 10, s.max()], labels=['단거리', '중거리', '장거리']).value_counts()"
   ]
  },
  {
   "cell_type": "markdown",
   "id": "05f8e3a8",
   "metadata": {},
   "source": [
    "(1) 주행거리의 평균값과 중앙값을 비교한 다음에 그 결과를 설명하라."
   ]
  },
  {
   "cell_type": "markdown",
   "id": "a3f9bbd7",
   "metadata": {},
   "source": [
    "`describe()` 메서드가 수치형 데이터 분포의 기본 정보를 확인해준다."
   ]
  },
  {
   "cell_type": "code",
   "execution_count": 56,
   "id": "071b9588",
   "metadata": {
    "scrolled": true
   },
   "outputs": [
    {
     "data": {
      "text/plain": [
       "count    9999.000000\n",
       "mean        3.158511\n",
       "std         4.037516\n",
       "min         0.000000\n",
       "25%         1.000000\n",
       "50%         1.700000\n",
       "75%         3.300000\n",
       "max        64.600000\n",
       "Name: 0, dtype: float64"
      ]
     },
     "execution_count": 56,
     "metadata": {},
     "output_type": "execute_result"
    }
   ],
   "source": [
    "s.describe()"
   ]
  },
  {
   "cell_type": "markdown",
   "id": "107e387f",
   "metadata": {},
   "source": [
    "평균값이 중앙값보다 보다 많이 크다.\n",
    "이런 이유는 보통 매우 큰 이상치가 존재하기 때문이다.\n",
    "실제로 제3사분위수는 3.3km 인데 반해 최대 주행거리가 64.6km 이다.\n",
    "또한 평균값이 3.16km 정도에 표준편차가 4km 정도이기에\n",
    "이전에 확인한 대로 평균값으로부터 3 표준편차 이내에 위치한 데이터 샘플의 비율이 99.7%에 달한다.\n",
    "그런데 표준편차가 4이기에 `[0, 3.16 + 3*4] = [0, 15.16]` 범위 안에 99.7%의 데이터가 포함되어야 한다.\n",
    "그런데 최댓값 64.6은 여기에 포함되지 않는다."
   ]
  },
  {
   "cell_type": "markdown",
   "id": "f2be4c47",
   "metadata": {},
   "source": [
    "(2) 1인 승객의 경우 단거리, 중거리, 장거리 주행은 각각 몇 번 발생했는가?\n",
    "\n",
    "힌트: 택시 승객수 데이터셋을 이용하여 마스크를 생성한다."
   ]
  },
  {
   "cell_type": "markdown",
   "id": "ae6ac64b",
   "metadata": {},
   "source": [
    "- 택시 승객수 시리즈 생성"
   ]
  },
  {
   "cell_type": "code",
   "execution_count": 57,
   "id": "5621370e",
   "metadata": {},
   "outputs": [],
   "source": [
    "passenger_count = pd.read_csv(base_url+'taxi-passenger-count.csv', header=None).squeeze()"
   ]
  },
  {
   "cell_type": "markdown",
   "id": "d6158274",
   "metadata": {},
   "source": [
    "- 1인 승객 데이터"
   ]
  },
  {
   "cell_type": "code",
   "execution_count": 58,
   "id": "a82d2d69",
   "metadata": {},
   "outputs": [],
   "source": [
    "one_passengers = s[passenger_count == 1]"
   ]
  },
  {
   "cell_type": "markdown",
   "id": "c7158f3f",
   "metadata": {},
   "source": [
    "- 1인 승객 주행거리 빈도수"
   ]
  },
  {
   "cell_type": "code",
   "execution_count": 59,
   "id": "3712e18a",
   "metadata": {},
   "outputs": [
    {
     "data": {
      "text/plain": [
       "단거리    4285\n",
       "중거리    2387\n",
       "장거리     487\n",
       "Name: 0, dtype: int64"
      ]
     },
     "execution_count": 59,
     "metadata": {},
     "output_type": "execute_result"
    }
   ],
   "source": [
    "pd.cut(one_passengers, bins=[s.min(), 2, 10, s.max()], labels=['단거리', '중거리', '장거리']).value_counts()"
   ]
  },
  {
   "cell_type": "markdown",
   "id": "b3d3b212",
   "metadata": {},
   "source": [
    "(3) 구간을 직접 지정하지 않고 `pd.cut()` 함수의 `bins=3` 키워드 인자를 이용하여\n",
    "단순히 구간을 3개로 나누라고만 하면 어떤 일이 발생하는가?"
   ]
  },
  {
   "cell_type": "markdown",
   "id": "72a4306b",
   "metadata": {},
   "source": [
    "- `retbins=True` 키워드 인자: 구간 분할에 사용된 구분점들의 리스트와 함께 튜플 반환"
   ]
  },
  {
   "cell_type": "code",
   "execution_count": 60,
   "id": "4d1c3c63",
   "metadata": {},
   "outputs": [],
   "source": [
    "one_passenger_distance, labels = pd.cut(one_passengers, bins=3, labels=['단거리', '중거리', '장거리'], retbins=True)"
   ]
  },
  {
   "cell_type": "code",
   "execution_count": 61,
   "id": "87979d5a",
   "metadata": {},
   "outputs": [
    {
     "data": {
      "text/plain": [
       "0       단거리\n",
       "1       단거리\n",
       "2       단거리\n",
       "3       단거리\n",
       "4       단거리\n",
       "       ... \n",
       "9993    단거리\n",
       "9994    단거리\n",
       "9995    단거리\n",
       "9996    단거리\n",
       "9998    단거리\n",
       "Name: 0, Length: 7207, dtype: category\n",
       "Categories (3, object): ['단거리' < '중거리' < '장거리']"
      ]
     },
     "execution_count": 61,
     "metadata": {},
     "output_type": "execute_result"
    }
   ],
   "source": [
    "one_passenger_distance"
   ]
  },
  {
   "cell_type": "markdown",
   "id": "e4344777",
   "metadata": {},
   "source": [
    "구간 구분점들은 다음과 같이 주행거리 최솟값부터 최댓값을 정확히 3등분 한 지점들로 구성된다."
   ]
  },
  {
   "cell_type": "code",
   "execution_count": 62,
   "id": "3c152d3c",
   "metadata": {},
   "outputs": [
    {
     "data": {
      "text/plain": [
       "0.0"
      ]
     },
     "execution_count": 62,
     "metadata": {},
     "output_type": "execute_result"
    }
   ],
   "source": [
    "one_passengers.min()"
   ]
  },
  {
   "cell_type": "code",
   "execution_count": 63,
   "id": "c914ad02",
   "metadata": {},
   "outputs": [
    {
     "data": {
      "text/plain": [
       "64.6"
      ]
     },
     "execution_count": 63,
     "metadata": {},
     "output_type": "execute_result"
    }
   ],
   "source": [
    "one_passengers.max()"
   ]
  },
  {
   "cell_type": "markdown",
   "id": "acb49b80",
   "metadata": {},
   "source": [
    "구간의 시작은 최솟값보다 조금 작은 값으로 자동 지정되며\n",
    "구분점은 21.53과 43.07이다.\n",
    "즉, 주행거리가 43.07km 이상되어야 장거리 주행으로 인정된다."
   ]
  },
  {
   "cell_type": "code",
   "execution_count": 64,
   "id": "0cd38d32",
   "metadata": {},
   "outputs": [
    {
     "data": {
      "text/plain": [
       "array([-0.0646    , 21.53333333, 43.06666667, 64.6       ])"
      ]
     },
     "execution_count": 64,
     "metadata": {},
     "output_type": "execute_result"
    }
   ],
   "source": [
    "labels"
   ]
  },
  {
   "cell_type": "markdown",
   "id": "1dd2f77b",
   "metadata": {},
   "source": [
    "- 1인 승객 주행거리 구간별 빈도수"
   ]
  },
  {
   "cell_type": "markdown",
   "id": "d9bb1e14",
   "metadata": {},
   "source": [
    "그런데 구간을 이렇게 나누면 1인 승객 장거리 주행의 경우의 수가 2로 너무 작아진다."
   ]
  },
  {
   "cell_type": "code",
   "execution_count": 65,
   "id": "e1400c51",
   "metadata": {},
   "outputs": [
    {
     "data": {
      "text/plain": [
       "단거리    7179\n",
       "중거리      26\n",
       "장거리       2\n",
       "Name: 0, dtype: int64"
      ]
     },
     "execution_count": 65,
     "metadata": {},
     "output_type": "execute_result"
    }
   ],
   "source": [
    "one_passenger_distance.value_counts()"
   ]
  }
 ],
 "metadata": {
  "kernelspec": {
   "display_name": "Python 3 (ipykernel)",
   "language": "python",
   "name": "python3"
  },
  "language_info": {
   "codemirror_mode": {
    "name": "ipython",
    "version": 3
   },
   "file_extension": ".py",
   "mimetype": "text/x-python",
   "name": "python",
   "nbconvert_exporter": "python",
   "pygments_lexer": "ipython3",
   "version": "3.10.9"
  }
 },
 "nbformat": 4,
 "nbformat_minor": 5
}

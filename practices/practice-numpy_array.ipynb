{
 "cells": [
  {
   "cell_type": "markdown",
   "id": "b0247ce6",
   "metadata": {},
   "source": [
    "# (실습) 넘파이 어레이"
   ]
  },
  {
   "cell_type": "markdown",
   "id": "90b6b935",
   "metadata": {},
   "source": [
    "[100 Numpy Exercises](https://github.com/rougier/numpy-100) 에서 소개된 넘파이 연습문제 100선에서 \n",
    "선택함 문제입니다."
   ]
  },
  {
   "cell_type": "markdown",
   "id": "9ddeb992",
   "metadata": {
    "lines_to_next_cell": 0
   },
   "source": [
    "**문제 1**"
   ]
  },
  {
   "cell_type": "markdown",
   "id": "646e569e",
   "metadata": {
    "lines_to_next_cell": 0
   },
   "source": [
    "넘퍼이 패키지를 `np` 별칭으로 불러와라. (★☆☆)\n",
    "\n",
    "힌트: `import ... as ...`"
   ]
  },
  {
   "cell_type": "code",
   "execution_count": 1,
   "id": "c7970a36",
   "metadata": {},
   "outputs": [],
   "source": [
    "# 코드를 작성하라.\n"
   ]
  },
  {
   "cell_type": "markdown",
   "id": "afe5d47c",
   "metadata": {
    "lines_to_next_cell": 0
   },
   "source": [
    "**문제 2**"
   ]
  },
  {
   "cell_type": "markdown",
   "id": "1b710ca1",
   "metadata": {
    "lines_to_next_cell": 0
   },
   "source": [
    "넘파이 버전과 설정을 출력하라. (★☆☆)\n",
    "\n",
    "힌트: `np.__version__`, `np.show_config()`"
   ]
  },
  {
   "cell_type": "code",
   "execution_count": 2,
   "id": "33919aac",
   "metadata": {},
   "outputs": [],
   "source": [
    "# 코드를 작성하라.\n"
   ]
  },
  {
   "cell_type": "markdown",
   "id": "fc27ed82",
   "metadata": {
    "lines_to_next_cell": 0
   },
   "source": [
    "**문제 3**"
   ]
  },
  {
   "cell_type": "markdown",
   "id": "80b3d446",
   "metadata": {
    "lines_to_next_cell": 0
   },
   "source": [
    "길이 10의 영벡터를 생성하라. (★☆☆)\n",
    "\n",
    "힌트: `np.zeros()`"
   ]
  },
  {
   "cell_type": "code",
   "execution_count": 3,
   "id": "4d705fe8",
   "metadata": {},
   "outputs": [],
   "source": [
    "# 코드를 작성하라.\n"
   ]
  },
  {
   "cell_type": "markdown",
   "id": "44a6c38c",
   "metadata": {
    "lines_to_next_cell": 0
   },
   "source": [
    "**문제 4**"
   ]
  },
  {
   "cell_type": "markdown",
   "id": "875b9df6",
   "metadata": {
    "lines_to_next_cell": 0
   },
   "source": [
    "어레이의 메모리 크기를 확인하는 방법을 예제를 들어 설명하라. (★☆☆)\n",
    "\n",
    "힌트: `size, itemsize`"
   ]
  },
  {
   "cell_type": "code",
   "execution_count": null,
   "id": "1180fd50",
   "metadata": {},
   "outputs": [],
   "source": [
    "# 코드를 작성하라.\n"
   ]
  },
  {
   "cell_type": "markdown",
   "id": "9c6b461e",
   "metadata": {
    "lines_to_next_cell": 0
   },
   "source": [
    "**문제 5**"
   ]
  },
  {
   "cell_type": "markdown",
   "id": "6ad9283e",
   "metadata": {
    "lines_to_next_cell": 0
   },
   "source": [
    "커맨드 라인에서 넘파이의 `add()` 함수에 대한 정보를 구하는 방법은 무엇인가? (★☆☆)\n",
    "\n",
    "힌트: `np.info()`, `np.add()`"
   ]
  },
  {
   "cell_type": "markdown",
   "id": "2ab13918",
   "metadata": {
    "lines_to_next_cell": 0
   },
   "source": [
    "주의사항: 주피터 노트북에서 커맨드 라인 명령문을 실행하려면 느낌표(!) 기호를 함께 붙혀서 시작하며,\n",
    "파이썬 코드를 커맨드 라인에서 실행하려면 `-c` 옵션을 사용해야 한다."
   ]
  },
  {
   "cell_type": "code",
   "execution_count": 4,
   "id": "5e4da8dd",
   "metadata": {},
   "outputs": [
    {
     "name": "stdout",
     "output_type": "stream",
     "text": [
      "hello world\r\n"
     ]
    }
   ],
   "source": [
    "!python -c \"print('hello world')\""
   ]
  },
  {
   "cell_type": "code",
   "execution_count": null,
   "id": "dc12a780",
   "metadata": {},
   "outputs": [],
   "source": [
    "# 코드를 작성하라.\n"
   ]
  },
  {
   "cell_type": "markdown",
   "id": "e927f9e3",
   "metadata": {
    "lines_to_next_cell": 0
   },
   "source": [
    "**문제 7**"
   ]
  },
  {
   "cell_type": "markdown",
   "id": "7b7be8ec",
   "metadata": {
    "lines_to_next_cell": 0
   },
   "source": [
    "10부터 49까지 정수를 대상으로 하는 넘파이 레인지 객체를 생성하라. (★☆☆)\n",
    "\n",
    "힌트: `np.arange()`"
   ]
  },
  {
   "cell_type": "code",
   "execution_count": null,
   "id": "360a5f85",
   "metadata": {},
   "outputs": [],
   "source": [
    "# 코드를 작성하라.\n"
   ]
  },
  {
   "cell_type": "markdown",
   "id": "f86dcd9f",
   "metadata": {
    "lines_to_next_cell": 0
   },
   "source": [
    "**문제 10**"
   ]
  },
  {
   "cell_type": "markdown",
   "id": "6f61d034",
   "metadata": {
    "lines_to_next_cell": 0
   },
   "source": [
    "다음 리스트에서 0이 아닌 항목들의 인덱스로 구성된 어레이를 생성하라. (★☆☆)\n",
    "\n",
    "힌트: `np.nonzero()`"
   ]
  },
  {
   "cell_type": "code",
   "execution_count": 6,
   "id": "1570e13b",
   "metadata": {
    "lines_to_next_cell": 0
   },
   "outputs": [],
   "source": [
    "Z = [1,2,0,0,4,0]"
   ]
  },
  {
   "cell_type": "code",
   "execution_count": null,
   "id": "b4f7fb50",
   "metadata": {},
   "outputs": [],
   "source": [
    "# 코드를 작성하라.\n"
   ]
  },
  {
   "cell_type": "markdown",
   "id": "91f38913",
   "metadata": {
    "lines_to_next_cell": 0
   },
   "source": [
    "**문제 11**"
   ]
  },
  {
   "cell_type": "markdown",
   "id": "d71c377d",
   "metadata": {
    "lines_to_next_cell": 0
   },
   "source": [
    "3x3 모양의 단위 행렬을 2차원 어레이로 생성하라. (★☆☆)\n",
    "\n",
    "```\n",
    "[[1. 0. 0.]\n",
    " [0. 1. 0.]\n",
    " [0. 0. 1.]]\n",
    "```\n",
    "\n",
    "힌트: `np.eye()`"
   ]
  },
  {
   "cell_type": "code",
   "execution_count": null,
   "id": "c5887aaf",
   "metadata": {},
   "outputs": [],
   "source": [
    "# 코드를 작성하라.\n"
   ]
  },
  {
   "cell_type": "markdown",
   "id": "1a572bce",
   "metadata": {
    "lines_to_next_cell": 0
   },
   "source": [
    "**문제 12**"
   ]
  },
  {
   "cell_type": "markdown",
   "id": "f059242f",
   "metadata": {
    "lines_to_next_cell": 0
   },
   "source": [
    "무작위 수로 구성된 3x3x3 모양의 3차원 어레이를 생성하라. (★☆☆)\n",
    "\n",
    "힌트: `np.random.random()`"
   ]
  },
  {
   "cell_type": "code",
   "execution_count": null,
   "id": "cf4e6cd1",
   "metadata": {},
   "outputs": [],
   "source": [
    "# 코드를 작성하라.\n"
   ]
  },
  {
   "cell_type": "markdown",
   "id": "68968dd0",
   "metadata": {
    "lines_to_next_cell": 0
   },
   "source": [
    "**문제 16**"
   ]
  },
  {
   "cell_type": "markdown",
   "id": "8ede4d58",
   "metadata": {
    "lines_to_next_cell": 0
   },
   "source": [
    "1로 채워진 5x5 모양의 어레이를 생성한 후에 0으로 이루어진 패딩을 추가하여\n",
    "6x6 모양의 어레이를 생성하라. (★☆☆)\n",
    "\n",
    "```\n",
    "[[0. 0. 0. 0. 0. 0. 0.]\n",
    " [0. 1. 1. 1. 1. 1. 0.]\n",
    " [0. 1. 1. 1. 1. 1. 0.]\n",
    " [0. 1. 1. 1. 1. 1. 0.]\n",
    " [0. 1. 1. 1. 1. 1. 0.]\n",
    " [0. 1. 1. 1. 1. 1. 0.]\n",
    " [0. 0. 0. 0. 0. 0. 0.]]\n",
    "```\n",
    "\n",
    "힌트: `np.pad()` "
   ]
  },
  {
   "cell_type": "code",
   "execution_count": null,
   "id": "a8e2b25b",
   "metadata": {},
   "outputs": [],
   "source": [
    "# 코드를 작성하라.\n"
   ]
  },
  {
   "cell_type": "markdown",
   "id": "20a538df",
   "metadata": {
    "lines_to_next_cell": 0
   },
   "source": [
    "**문제 17**"
   ]
  },
  {
   "cell_type": "markdown",
   "id": "223a09f0",
   "metadata": {
    "lines_to_next_cell": 0
   },
   "source": [
    "아래 코드를 실행한 결과를 설명하라. (★☆☆)\n",
    "\n",
    "힌트: `NaN` = 수 아님(not a number), `inf` = 무한대"
   ]
  },
  {
   "cell_type": "code",
   "execution_count": 13,
   "id": "c2661fa8",
   "metadata": {
    "lines_to_next_cell": 0
   },
   "outputs": [
    {
     "data": {
      "text/plain": [
       "nan"
      ]
     },
     "execution_count": 13,
     "metadata": {},
     "output_type": "execute_result"
    }
   ],
   "source": [
    "# (1)\n",
    "0 * np.nan"
   ]
  },
  {
   "cell_type": "code",
   "execution_count": 14,
   "id": "4905120d",
   "metadata": {
    "lines_to_next_cell": 0
   },
   "outputs": [
    {
     "data": {
      "text/plain": [
       "False"
      ]
     },
     "execution_count": 14,
     "metadata": {},
     "output_type": "execute_result"
    }
   ],
   "source": [
    "# (2)\n",
    "np.nan == np.nan"
   ]
  },
  {
   "cell_type": "code",
   "execution_count": 15,
   "id": "b3b4218e",
   "metadata": {
    "lines_to_next_cell": 0
   },
   "outputs": [
    {
     "data": {
      "text/plain": [
       "False"
      ]
     },
     "execution_count": 15,
     "metadata": {},
     "output_type": "execute_result"
    }
   ],
   "source": [
    "# (3)\n",
    "np.inf > np.nan"
   ]
  },
  {
   "cell_type": "code",
   "execution_count": 16,
   "id": "c8d51b60",
   "metadata": {
    "lines_to_next_cell": 0
   },
   "outputs": [
    {
     "data": {
      "text/plain": [
       "nan"
      ]
     },
     "execution_count": 16,
     "metadata": {},
     "output_type": "execute_result"
    }
   ],
   "source": [
    "# (4)\n",
    "np.nan - np.nan"
   ]
  },
  {
   "cell_type": "code",
   "execution_count": 17,
   "id": "02d13bf0",
   "metadata": {
    "lines_to_next_cell": 0
   },
   "outputs": [
    {
     "data": {
      "text/plain": [
       "True"
      ]
     },
     "execution_count": 17,
     "metadata": {},
     "output_type": "execute_result"
    }
   ],
   "source": [
    "# (5)\n",
    "np.nan in set([np.nan])"
   ]
  },
  {
   "cell_type": "code",
   "execution_count": 18,
   "id": "82446876",
   "metadata": {
    "lines_to_next_cell": 0
   },
   "outputs": [
    {
     "data": {
      "text/plain": [
       "False"
      ]
     },
     "execution_count": 18,
     "metadata": {},
     "output_type": "execute_result"
    }
   ],
   "source": [
    "#(6)\n",
    "0.3 == 3 * 0.1"
   ]
  },
  {
   "cell_type": "code",
   "execution_count": null,
   "id": "f96330b3",
   "metadata": {},
   "outputs": [],
   "source": [
    "# 코드를 작성하라.\n"
   ]
  },
  {
   "cell_type": "markdown",
   "id": "6edfc727",
   "metadata": {
    "lines_to_next_cell": 0
   },
   "source": [
    "**문제 18**"
   ]
  },
  {
   "cell_type": "markdown",
   "id": "2d683d69",
   "metadata": {
    "lines_to_next_cell": 0
   },
   "source": [
    "5x5 모양의 2차원 어레이를 생성하라. \n",
    "단, 대각선 바로 아래는 1, 2, 3, 4 가 위치하고 나머지는 0이어야 한다. (★☆☆)\n",
    "\n",
    "```\n",
    "[[0 0 0 0 0]\n",
    " [1 0 0 0 0]\n",
    " [0 2 0 0 0]\n",
    " [0 0 3 0 0]\n",
    " [0 0 0 4 0]]\n",
    "```\n",
    "\n",
    "힌트: `np.diag()`"
   ]
  },
  {
   "cell_type": "code",
   "execution_count": null,
   "id": "418204a6",
   "metadata": {},
   "outputs": [],
   "source": [
    "# 코드를 작성하라.\n"
   ]
  },
  {
   "cell_type": "markdown",
   "id": "13e48610",
   "metadata": {
    "lines_to_next_cell": 0
   },
   "source": [
    "**문제 21**"
   ]
  },
  {
   "cell_type": "markdown",
   "id": "4e5fce96",
   "metadata": {
    "lines_to_next_cell": 0
   },
   "source": [
    "`np.tile()` 함수를 이용하여 8x8 모양의 2차원 어레이를 생성하라. (★☆☆)\n",
    "\n",
    "```\n",
    "[[0 1 0 1 0 1 0 1]\n",
    " [1 0 1 0 1 0 1 0]\n",
    " [0 1 0 1 0 1 0 1]\n",
    " [1 0 1 0 1 0 1 0]\n",
    " [0 1 0 1 0 1 0 1]\n",
    " [1 0 1 0 1 0 1 0]\n",
    " [0 1 0 1 0 1 0 1]\n",
    " [1 0 1 0 1 0 1 0]]\n",
    "```"
   ]
  },
  {
   "cell_type": "code",
   "execution_count": null,
   "id": "cf66a5a6",
   "metadata": {},
   "outputs": [],
   "source": [
    "# 코드를 작성하라.\n"
   ]
  },
  {
   "cell_type": "markdown",
   "id": "079d92ac",
   "metadata": {
    "lines_to_next_cell": 0
   },
   "source": [
    "**문제 22**"
   ]
  },
  {
   "cell_type": "markdown",
   "id": "67f24b9b",
   "metadata": {
    "lines_to_next_cell": 0
   },
   "source": [
    "무작위 수로 구성된 5x5 모양의 2차원 어레이를 생성한 후에 정규화하라. (★☆☆)\n",
    "\n",
    "힌트: `(x -mean)/std`\n",
    "\n",
    "참고: <https://hleecaster.com/ml-normalization-concept/>"
   ]
  },
  {
   "cell_type": "code",
   "execution_count": null,
   "id": "0494262d",
   "metadata": {},
   "outputs": [],
   "source": [
    "# 코드를 작성하라.\n"
   ]
  },
  {
   "cell_type": "markdown",
   "id": "cfcc9d1f",
   "metadata": {
    "lines_to_next_cell": 0
   },
   "source": [
    "**문제 24** "
   ]
  },
  {
   "cell_type": "markdown",
   "id": "2634c928",
   "metadata": {
    "lines_to_next_cell": 0
   },
   "source": [
    "Multiply a 5x3 matrix by a 3x2 matrix (real matrix product) (★☆☆)"
   ]
  },
  {
   "cell_type": "code",
   "execution_count": null,
   "id": "f6252c26",
   "metadata": {},
   "outputs": [],
   "source": [
    "# 코드를 작성하라.\n"
   ]
  },
  {
   "cell_type": "markdown",
   "id": "07d77948",
   "metadata": {
    "lines_to_next_cell": 0
   },
   "source": [
    "**문제 26**"
   ]
  },
  {
   "cell_type": "markdown",
   "id": "1b8257af",
   "metadata": {
    "lines_to_next_cell": 0
   },
   "source": [
    "What is the output of the following script? (★☆☆)\n",
    "\n",
    "힌트: `np.sum`"
   ]
  },
  {
   "cell_type": "code",
   "execution_count": 2,
   "id": "cb5ad67c",
   "metadata": {
    "lines_to_next_cell": 0
   },
   "outputs": [
    {
     "name": "stdout",
     "output_type": "stream",
     "text": [
      "9\n",
      "10\n"
     ]
    }
   ],
   "source": [
    "# Author: Jake VanderPlas\n",
    "\n",
    "print(sum(range(5),-1))\n",
    "from numpy import *\n",
    "print(sum(range(5),-1))"
   ]
  },
  {
   "cell_type": "markdown",
   "id": "77622b6b",
   "metadata": {
    "lines_to_next_cell": 0
   },
   "source": [
    "**문제 27**"
   ]
  },
  {
   "cell_type": "markdown",
   "id": "ae0dc0e0",
   "metadata": {
    "lines_to_next_cell": 0
   },
   "source": [
    "Consider an integer vector Z, which of these expressions are legal? (★☆☆)"
   ]
  },
  {
   "cell_type": "code",
   "execution_count": 7,
   "id": "2eb3e08a",
   "metadata": {
    "lines_to_next_cell": 0
   },
   "outputs": [],
   "source": [
    "Z = np.ones((2, 3))\n",
    "\n",
    "# Z**Z\n",
    "# 2 << Z >> 2\n",
    "# Z <- Z\n",
    "# 1j*Z\n",
    "# Z/1/1\n",
    "# Z<Z>Z"
   ]
  },
  {
   "cell_type": "markdown",
   "id": "81d26661",
   "metadata": {
    "lines_to_next_cell": 0
   },
   "source": [
    "**문제 28**"
   ]
  },
  {
   "cell_type": "markdown",
   "id": "be3dbe1c",
   "metadata": {
    "lines_to_next_cell": 0
   },
   "source": [
    "What are the result of the following expressions? (★☆☆)"
   ]
  },
  {
   "cell_type": "code",
   "execution_count": 8,
   "id": "29aa3323",
   "metadata": {
    "lines_to_next_cell": 0
   },
   "outputs": [
    {
     "name": "stderr",
     "output_type": "stream",
     "text": [
      "/tmp/ipykernel_1735/548293649.py:1: RuntimeWarning: invalid value encountered in true_divide\n",
      "  np.array(0) / np.array(0)\n",
      "/tmp/ipykernel_1735/548293649.py:2: RuntimeWarning: divide by zero encountered in floor_divide\n",
      "  np.array(0) // np.array(0)\n"
     ]
    },
    {
     "data": {
      "text/plain": [
       "array([-9.22337204e+18])"
      ]
     },
     "execution_count": 8,
     "metadata": {},
     "output_type": "execute_result"
    }
   ],
   "source": [
    "np.array(0) / np.array(0)\n",
    "np.array(0) // np.array(0)\n",
    "np.array([np.nan]).astype(int).astype(float)"
   ]
  },
  {
   "cell_type": "markdown",
   "id": "9478fc5c",
   "metadata": {
    "lines_to_next_cell": 0
   },
   "source": [
    "**문제 29** "
   ]
  },
  {
   "cell_type": "markdown",
   "id": "3979a29f",
   "metadata": {
    "lines_to_next_cell": 0
   },
   "source": [
    "How to round away from zero a float array ? (★☆☆)\n",
    "힌트: `np.uniform, np.copysign, np.ceil, np.abs, np.where`"
   ]
  },
  {
   "cell_type": "code",
   "execution_count": null,
   "id": "d537828f",
   "metadata": {},
   "outputs": [],
   "source": [
    "# 코드를 작성하라.\n"
   ]
  },
  {
   "cell_type": "markdown",
   "id": "3a1d4f96",
   "metadata": {
    "lines_to_next_cell": 0
   },
   "source": [
    "**문제 30. How to find common values between two arrays? (★☆☆)\n",
    "힌트: `np.intersect1d`"
   ]
  },
  {
   "cell_type": "code",
   "execution_count": null,
   "id": "74fcd00a",
   "metadata": {},
   "outputs": [],
   "source": [
    "# 코드를 작성하라.\n"
   ]
  },
  {
   "cell_type": "markdown",
   "id": "8564618e",
   "metadata": {
    "lines_to_next_cell": 0
   },
   "source": [
    "**문제 31. How to ignore all numpy warnings (not recommended)? (★☆☆)\n",
    "힌트: `np.seterr, np.errstate`"
   ]
  },
  {
   "cell_type": "code",
   "execution_count": null,
   "id": "0cf5d996",
   "metadata": {},
   "outputs": [],
   "source": [
    "# 코드를 작성하라.\n"
   ]
  },
  {
   "cell_type": "markdown",
   "id": "40c9ecf1",
   "metadata": {
    "lines_to_next_cell": 0
   },
   "source": [
    "**문제 32. Is the following expressions true? (★☆☆)"
   ]
  },
  {
   "cell_type": "code",
   "execution_count": null,
   "id": "4b9e1b8c",
   "metadata": {},
   "outputs": [],
   "source": [
    "# 코드를 작성하라.\n"
   ]
  },
  {
   "cell_type": "code",
   "execution_count": 115,
   "id": "967aa471",
   "metadata": {
    "lines_to_next_cell": 0
   },
   "outputs": [
    {
     "name": "stderr",
     "output_type": "stream",
     "text": [
      "/tmp/ipykernel_1450/244602691.py:1: RuntimeWarning: invalid value encountered in sqrt\n",
      "  np.sqrt(-1) == np.emath.sqrt(-1)\n"
     ]
    },
    {
     "data": {
      "text/plain": [
       "False"
      ]
     },
     "execution_count": 115,
     "metadata": {},
     "output_type": "execute_result"
    }
   ],
   "source": [
    "np.sqrt(-1) == np.emath.sqrt(-1)"
   ]
  },
  {
   "cell_type": "code",
   "execution_count": null,
   "id": "32915b6d",
   "metadata": {},
   "outputs": [],
   "source": [
    "# 코드를 작성하라.\n"
   ]
  },
  {
   "cell_type": "markdown",
   "id": "736079d5",
   "metadata": {},
   "source": [
    "힌트: `imaginary number`"
   ]
  },
  {
   "cell_type": "code",
   "execution_count": null,
   "id": "3a62c9ab",
   "metadata": {},
   "outputs": [],
   "source": [
    "# 코드를 작성하라.\n"
   ]
  },
  {
   "cell_type": "markdown",
   "id": "6b4c8e47",
   "metadata": {},
   "source": [
    "**문제 33. How to get the dates of yesterday, today and tomorrow? (★☆☆)\n",
    "힌트: `np.datetime64, np.timedelta64`"
   ]
  },
  {
   "cell_type": "code",
   "execution_count": null,
   "id": "317da587",
   "metadata": {},
   "outputs": [],
   "source": [
    "# 코드를 작성하라.\n"
   ]
  },
  {
   "cell_type": "markdown",
   "id": "e8224b8f",
   "metadata": {},
   "source": [
    "**문제 34. How to get all the dates corresponding to the month of July 2016? (★★☆)\n",
    "힌트: `np.arange(dtype=datetime64['D'])`"
   ]
  },
  {
   "cell_type": "code",
   "execution_count": null,
   "id": "9fa3baeb",
   "metadata": {},
   "outputs": [],
   "source": [
    "# 코드를 작성하라.\n"
   ]
  },
  {
   "cell_type": "markdown",
   "id": "e139393b",
   "metadata": {},
   "source": [
    "**문제 35. How to compute ((A+B)*(-A/2)) in place (without copy)? (★★☆)\n",
    "힌트: `np.add(out=), np.negative(out=), np.multiply(out=), np.divide(out=)`"
   ]
  },
  {
   "cell_type": "code",
   "execution_count": null,
   "id": "6ef45f11",
   "metadata": {},
   "outputs": [],
   "source": [
    "# 코드를 작성하라.\n"
   ]
  },
  {
   "cell_type": "markdown",
   "id": "62364771",
   "metadata": {},
   "source": [
    "**문제 36. Extract the integer part of a random array of positive numbers using 4 different methods (★★☆)\n",
    "힌트: `%, np.floor, astype, np.trunc`"
   ]
  },
  {
   "cell_type": "code",
   "execution_count": null,
   "id": "4d1795b1",
   "metadata": {},
   "outputs": [],
   "source": [
    "# 코드를 작성하라.\n"
   ]
  },
  {
   "cell_type": "markdown",
   "id": "c6ac010d",
   "metadata": {},
   "source": [
    "**문제 37. Create a 5x5 matrix with row values ranging from 0 to 4 (★★☆)\n",
    "힌트: `np.arange`"
   ]
  },
  {
   "cell_type": "code",
   "execution_count": null,
   "id": "1ba89991",
   "metadata": {},
   "outputs": [],
   "source": [
    "# 코드를 작성하라.\n"
   ]
  },
  {
   "cell_type": "markdown",
   "id": "5015bf90",
   "metadata": {},
   "source": [
    "**문제 38. Consider a generator function that generates 10 integers and use it to build an array (★☆☆)\n",
    "힌트: `np.fromiter`"
   ]
  },
  {
   "cell_type": "code",
   "execution_count": null,
   "id": "c8695ae4",
   "metadata": {},
   "outputs": [],
   "source": [
    "# 코드를 작성하라.\n"
   ]
  },
  {
   "cell_type": "markdown",
   "id": "846078d6",
   "metadata": {},
   "source": [
    "**문제 39. Create a vector of size 10 with values ranging from 0 to 1, both excluded (★★☆)\n",
    "힌트: `np.linspace`"
   ]
  },
  {
   "cell_type": "code",
   "execution_count": null,
   "id": "f8a42095",
   "metadata": {},
   "outputs": [],
   "source": [
    "# 코드를 작성하라.\n"
   ]
  },
  {
   "cell_type": "markdown",
   "id": "6137d5e7",
   "metadata": {},
   "source": [
    "**문제 40. Create a random vector of size 10 and sort it (★★☆)\n",
    "힌트: `sort`"
   ]
  },
  {
   "cell_type": "code",
   "execution_count": null,
   "id": "16f10962",
   "metadata": {},
   "outputs": [],
   "source": [
    "# 코드를 작성하라.\n"
   ]
  },
  {
   "cell_type": "markdown",
   "id": "88d005e9",
   "metadata": {},
   "source": [
    "**문제 41. How to sum a small array faster than np.sum? (★★☆)\n",
    "힌트: `np.add.reduce`"
   ]
  },
  {
   "cell_type": "code",
   "execution_count": null,
   "id": "9e8badcc",
   "metadata": {},
   "outputs": [],
   "source": [
    "# 코드를 작성하라.\n"
   ]
  },
  {
   "cell_type": "markdown",
   "id": "c73994dd",
   "metadata": {},
   "source": [
    "**문제 42. Consider two random array A and B, check if they are equal (★★☆)\n",
    "힌트: `np.allclose, np.array_equal`"
   ]
  },
  {
   "cell_type": "code",
   "execution_count": null,
   "id": "a7f85f4f",
   "metadata": {},
   "outputs": [],
   "source": [
    "# 코드를 작성하라.\n"
   ]
  },
  {
   "cell_type": "markdown",
   "id": "07d2d9d3",
   "metadata": {},
   "source": [
    "**문제 43. Make an array immutable (read-only) (★★☆)\n",
    "힌트: `flags.writeable`"
   ]
  },
  {
   "cell_type": "code",
   "execution_count": null,
   "id": "fab39ee6",
   "metadata": {},
   "outputs": [],
   "source": [
    "# 코드를 작성하라.\n"
   ]
  },
  {
   "cell_type": "markdown",
   "id": "7817faa8",
   "metadata": {},
   "source": [
    "**문제 44. Consider a random 10x2 matrix representing cartesian coordinates, convert them to polar coordinates (★★☆)\n",
    "힌트: `np.sqrt, np.arctan2`"
   ]
  },
  {
   "cell_type": "code",
   "execution_count": null,
   "id": "20165340",
   "metadata": {},
   "outputs": [],
   "source": [
    "# 코드를 작성하라.\n"
   ]
  },
  {
   "cell_type": "markdown",
   "id": "db0e3f17",
   "metadata": {},
   "source": [
    "**문제 45. Create random vector of size 10 and replace the maximum value by 0 (★★☆)\n",
    "힌트: `argmax`"
   ]
  },
  {
   "cell_type": "code",
   "execution_count": null,
   "id": "60c6f011",
   "metadata": {},
   "outputs": [],
   "source": [
    "# 코드를 작성하라.\n"
   ]
  },
  {
   "cell_type": "markdown",
   "id": "5d21e929",
   "metadata": {},
   "source": [
    "**문제 46. Create a structured array with `x` and `y` coordinates covering the [0,1]x[0,1] area (★★☆)\n",
    "힌트: `np.meshgrid`"
   ]
  },
  {
   "cell_type": "code",
   "execution_count": null,
   "id": "fa479f35",
   "metadata": {},
   "outputs": [],
   "source": [
    "# 코드를 작성하라.\n"
   ]
  },
  {
   "cell_type": "markdown",
   "id": "1ae0cf7e",
   "metadata": {},
   "source": [
    "**문제 47. Given two arrays, X and Y, construct the Cauchy matrix C (Cij =1/(xi - yj)) (★★☆)\n",
    "힌트: `np.subtract.outer`"
   ]
  },
  {
   "cell_type": "code",
   "execution_count": null,
   "id": "9a2c7bcc",
   "metadata": {},
   "outputs": [],
   "source": [
    "# 코드를 작성하라.\n"
   ]
  },
  {
   "cell_type": "markdown",
   "id": "968678cb",
   "metadata": {},
   "source": [
    "**문제 48. Print the minimum and maximum representable value for each numpy scalar type (★★☆)\n",
    "힌트: `np.iinfo, np.finfo, eps`"
   ]
  },
  {
   "cell_type": "code",
   "execution_count": null,
   "id": "d55fd2fe",
   "metadata": {},
   "outputs": [],
   "source": [
    "# 코드를 작성하라.\n"
   ]
  },
  {
   "cell_type": "markdown",
   "id": "224c2ad4",
   "metadata": {},
   "source": [
    "**문제 49. How to print all the values of an array? (★★☆)\n",
    "힌트: `np.set_printoptions`"
   ]
  },
  {
   "cell_type": "code",
   "execution_count": null,
   "id": "fcfb94f8",
   "metadata": {},
   "outputs": [],
   "source": [
    "# 코드를 작성하라.\n"
   ]
  },
  {
   "cell_type": "markdown",
   "id": "7d72fa62",
   "metadata": {},
   "source": [
    "**문제 50. How to find the closest value (to a given scalar) in a vector? (★★☆)\n",
    "힌트: `argmin`"
   ]
  },
  {
   "cell_type": "code",
   "execution_count": null,
   "id": "c949a8a6",
   "metadata": {},
   "outputs": [],
   "source": [
    "# 코드를 작성하라.\n"
   ]
  },
  {
   "cell_type": "markdown",
   "id": "78924584",
   "metadata": {},
   "source": [
    "**문제 51. Create a structured array representing a position (x,y) and a color (r,g,b) (★★☆)\n",
    "힌트: `dtype`"
   ]
  },
  {
   "cell_type": "code",
   "execution_count": null,
   "id": "bec0fce4",
   "metadata": {},
   "outputs": [],
   "source": [
    "# 코드를 작성하라.\n"
   ]
  },
  {
   "cell_type": "markdown",
   "id": "02ba22eb",
   "metadata": {},
   "source": [
    "**문제 52. Consider a random vector with shape (100,2) representing coordinates, find point by point distances (★★☆)\n",
    "힌트: `np.atleast_2d, T, np.sqrt`"
   ]
  },
  {
   "cell_type": "code",
   "execution_count": null,
   "id": "9d5eef44",
   "metadata": {},
   "outputs": [],
   "source": [
    "# 코드를 작성하라.\n"
   ]
  },
  {
   "cell_type": "markdown",
   "id": "93d0192e",
   "metadata": {},
   "source": [
    "**문제 53. How to convert a float (32 bits) array into an integer (32 bits) in place?\n",
    "힌트: `view and [:] =`"
   ]
  },
  {
   "cell_type": "code",
   "execution_count": null,
   "id": "c632a375",
   "metadata": {},
   "outputs": [],
   "source": [
    "# 코드를 작성하라.\n"
   ]
  },
  {
   "cell_type": "markdown",
   "id": "f8e18881",
   "metadata": {},
   "source": [
    "**문제 54. How to read the following file? (★★☆)\n",
    "```\n",
    "1, 2, 3, 4, 5\n",
    "6,  ,  , 7, 8\n",
    " ,  , 9,10,11\n",
    "```\n",
    "힌트: `np.genfromtxt`"
   ]
  },
  {
   "cell_type": "code",
   "execution_count": null,
   "id": "4bcf0eb7",
   "metadata": {},
   "outputs": [],
   "source": [
    "# 코드를 작성하라.\n"
   ]
  },
  {
   "cell_type": "markdown",
   "id": "4f038753",
   "metadata": {},
   "source": [
    "**문제 55. What is the equivalent of enumerate for numpy arrays? (★★☆)\n",
    "힌트: `np.ndenumerate, np.ndindex`"
   ]
  },
  {
   "cell_type": "code",
   "execution_count": null,
   "id": "f8d4f564",
   "metadata": {},
   "outputs": [],
   "source": [
    "# 코드를 작성하라.\n"
   ]
  },
  {
   "cell_type": "markdown",
   "id": "32a22a5c",
   "metadata": {},
   "source": [
    "**문제 56. Generate a generic 2D Gaussian-like array (★★☆)\n",
    "힌트: `np.meshgrid, np.exp`"
   ]
  },
  {
   "cell_type": "code",
   "execution_count": null,
   "id": "cf166b08",
   "metadata": {},
   "outputs": [],
   "source": [
    "# 코드를 작성하라.\n"
   ]
  },
  {
   "cell_type": "markdown",
   "id": "37b2f331",
   "metadata": {},
   "source": [
    "**문제 57. How to randomly place p elements in a 2D array? (★★☆)\n",
    "힌트: `np.put, np.random.choice`"
   ]
  },
  {
   "cell_type": "code",
   "execution_count": null,
   "id": "56f17495",
   "metadata": {},
   "outputs": [],
   "source": [
    "# 코드를 작성하라.\n"
   ]
  },
  {
   "cell_type": "markdown",
   "id": "3ae11b81",
   "metadata": {},
   "source": [
    "**문제 58. Subtract the mean of each row of a matrix (★★☆)\n",
    "힌트: `mean(axis=,keepdims=)`"
   ]
  },
  {
   "cell_type": "code",
   "execution_count": null,
   "id": "0a80e33e",
   "metadata": {},
   "outputs": [],
   "source": [
    "# 코드를 작성하라.\n"
   ]
  },
  {
   "cell_type": "markdown",
   "id": "a05a46e7",
   "metadata": {},
   "source": [
    "**문제 59. How to sort an array by the nth column? (★★☆)\n",
    "힌트: `argsort`"
   ]
  },
  {
   "cell_type": "code",
   "execution_count": null,
   "id": "dc297ad5",
   "metadata": {},
   "outputs": [],
   "source": [
    "# 코드를 작성하라.\n"
   ]
  },
  {
   "cell_type": "markdown",
   "id": "78a92c5c",
   "metadata": {},
   "source": [
    "**문제 60. How to tell if a given 2D array has null columns? (★★☆)\n",
    "힌트: `any, ~`"
   ]
  },
  {
   "cell_type": "code",
   "execution_count": null,
   "id": "fb4a6d29",
   "metadata": {},
   "outputs": [],
   "source": [
    "# 코드를 작성하라.\n"
   ]
  },
  {
   "cell_type": "markdown",
   "id": "616319fa",
   "metadata": {},
   "source": [
    "**문제 61. Find the nearest value from a given value in an array (★★☆)\n",
    "힌트: `np.abs, argmin, flat`"
   ]
  },
  {
   "cell_type": "code",
   "execution_count": null,
   "id": "df1c66d2",
   "metadata": {},
   "outputs": [],
   "source": [
    "# 코드를 작성하라.\n"
   ]
  },
  {
   "cell_type": "markdown",
   "id": "4d4fcd72",
   "metadata": {},
   "source": [
    "**문제 62. Considering two arrays with shape (1,3) and (3,1), how to compute their sum using an iterator? (★★☆)\n",
    "힌트: `np.nditer`"
   ]
  },
  {
   "cell_type": "code",
   "execution_count": null,
   "id": "0e7522f6",
   "metadata": {},
   "outputs": [],
   "source": [
    "# 코드를 작성하라.\n"
   ]
  },
  {
   "cell_type": "markdown",
   "id": "9276904f",
   "metadata": {},
   "source": [
    "**문제 63. Create an array class that has a name attribute (★★☆)\n",
    "힌트: `class method`"
   ]
  },
  {
   "cell_type": "code",
   "execution_count": null,
   "id": "5c776b81",
   "metadata": {},
   "outputs": [],
   "source": [
    "# 코드를 작성하라.\n"
   ]
  },
  {
   "cell_type": "markdown",
   "id": "80aab0a5",
   "metadata": {},
   "source": [
    "**문제 64. Consider a given vector, how to add 1 to each element indexed by a second vector (be careful with repeated indices)? (★★★)\n",
    "힌트: `np.bincount | np.add.at`"
   ]
  },
  {
   "cell_type": "code",
   "execution_count": null,
   "id": "3e6daa3d",
   "metadata": {},
   "outputs": [],
   "source": [
    "# 코드를 작성하라.\n"
   ]
  },
  {
   "cell_type": "markdown",
   "id": "7ff11afc",
   "metadata": {},
   "source": [
    "**문제 65. How to accumulate elements of a vector (X) to an array (F) based on an index list (I)? (★★★)\n",
    "힌트: `np.bincount`"
   ]
  },
  {
   "cell_type": "code",
   "execution_count": null,
   "id": "405bd90f",
   "metadata": {},
   "outputs": [],
   "source": [
    "# 코드를 작성하라.\n"
   ]
  },
  {
   "cell_type": "markdown",
   "id": "45688ce9",
   "metadata": {},
   "source": [
    "**문제 66. Considering a (w,h,3) image of (dtype=ubyte), compute the number of unique colors (★★☆)\n",
    "힌트: `np.unique`"
   ]
  },
  {
   "cell_type": "code",
   "execution_count": null,
   "id": "4ca276e5",
   "metadata": {},
   "outputs": [],
   "source": [
    "# 코드를 작성하라.\n"
   ]
  },
  {
   "cell_type": "markdown",
   "id": "c6cf18be",
   "metadata": {},
   "source": [
    "**문제 67. Considering a four dimensions array, how to get sum over the last two axis at once? (★★★)\n",
    "힌트: `sum(axis=(-2,-1))`"
   ]
  },
  {
   "cell_type": "code",
   "execution_count": null,
   "id": "c20ee938",
   "metadata": {},
   "outputs": [],
   "source": [
    "# 코드를 작성하라.\n"
   ]
  },
  {
   "cell_type": "markdown",
   "id": "695e1a37",
   "metadata": {},
   "source": [
    "**문제 68. Considering a one-dimensional vector D, how to compute means of subsets of D using a vector S of same size describing subset  indices? (★★★)\n",
    "힌트: `np.bincount`"
   ]
  },
  {
   "cell_type": "code",
   "execution_count": null,
   "id": "1b784b55",
   "metadata": {},
   "outputs": [],
   "source": [
    "# 코드를 작성하라.\n"
   ]
  },
  {
   "cell_type": "markdown",
   "id": "0e55f8cb",
   "metadata": {},
   "source": [
    "**문제 69. How to get the diagonal of a dot product? (★★★)\n",
    "힌트: `np.diag`"
   ]
  },
  {
   "cell_type": "code",
   "execution_count": null,
   "id": "70c0aab1",
   "metadata": {},
   "outputs": [],
   "source": [
    "# 코드를 작성하라.\n"
   ]
  },
  {
   "cell_type": "markdown",
   "id": "1951cceb",
   "metadata": {},
   "source": [
    "**문제 70. Consider the vector [1, 2, 3, 4, 5], how to build a new vector with 3 consecutive zeros interleaved between each value? (★★★)\n",
    "힌트: `array[::4]`"
   ]
  },
  {
   "cell_type": "code",
   "execution_count": null,
   "id": "226dfab1",
   "metadata": {},
   "outputs": [],
   "source": [
    "# 코드를 작성하라.\n"
   ]
  },
  {
   "cell_type": "markdown",
   "id": "4730dfc3",
   "metadata": {},
   "source": [
    "**문제 71. Consider an array of dimension (5,5,3), how to mulitply it by an array with dimensions (5,5)? (★★★)\n",
    "힌트: `array[:, :, None]`"
   ]
  },
  {
   "cell_type": "code",
   "execution_count": null,
   "id": "a9abe764",
   "metadata": {},
   "outputs": [],
   "source": [
    "# 코드를 작성하라.\n"
   ]
  },
  {
   "cell_type": "markdown",
   "id": "1e6b5903",
   "metadata": {},
   "source": [
    "**문제 72. How to swap two rows of an array? (★★★)\n",
    "힌트: `array[[]] = array[[]]`"
   ]
  },
  {
   "cell_type": "code",
   "execution_count": null,
   "id": "2ae836ab",
   "metadata": {},
   "outputs": [],
   "source": [
    "# 코드를 작성하라.\n"
   ]
  },
  {
   "cell_type": "markdown",
   "id": "4dc01c5e",
   "metadata": {},
   "source": [
    "**문제 73. Consider a set of 10 triplets describing 10 triangles (with shared vertices), find the set of unique line segments composing all the  triangles (★★★)\n",
    "힌트: `repeat, np.roll, np.sort, view, np.unique`"
   ]
  },
  {
   "cell_type": "code",
   "execution_count": null,
   "id": "17732e8a",
   "metadata": {},
   "outputs": [],
   "source": [
    "# 코드를 작성하라.\n"
   ]
  },
  {
   "cell_type": "markdown",
   "id": "048d2b63",
   "metadata": {},
   "source": [
    "**문제 74. Given a sorted array C that corresponds to a bincount, how to produce an array A such that np.bincount(A) == C? (★★★)\n",
    "힌트: `np.repeat`"
   ]
  },
  {
   "cell_type": "code",
   "execution_count": null,
   "id": "59fce41f",
   "metadata": {},
   "outputs": [],
   "source": [
    "# 코드를 작성하라.\n"
   ]
  },
  {
   "cell_type": "markdown",
   "id": "99b6cf36",
   "metadata": {},
   "source": [
    "**문제 75. How to compute averages using a sliding window over an array? (★★★)\n",
    "힌트: `np.cumsum, from numpy.lib.stride_tricks import sliding_window_view (np>=1.20.0)`"
   ]
  },
  {
   "cell_type": "code",
   "execution_count": null,
   "id": "29a0230b",
   "metadata": {},
   "outputs": [],
   "source": [
    "# 코드를 작성하라.\n"
   ]
  },
  {
   "cell_type": "markdown",
   "id": "2fc06904",
   "metadata": {},
   "source": [
    "**문제 76. Consider a one-dimensional array Z, build a two-dimensional array whose first row is (Z[0],Z[1],Z[2]) and each subsequent row is  shifted by 1 (last row should be (Z[-3],Z[-2],Z[-1]) (★★★)\n",
    "힌트: `from numpy.lib import stride_tricks, from numpy.lib.stride_tricks import sliding_window_view (np>=1.20.0)`"
   ]
  },
  {
   "cell_type": "code",
   "execution_count": null,
   "id": "269465d0",
   "metadata": {},
   "outputs": [],
   "source": [
    "# 코드를 작성하라.\n"
   ]
  },
  {
   "cell_type": "markdown",
   "id": "ea540b9a",
   "metadata": {},
   "source": [
    "**문제 77. How to negate a boolean, or to change the sign of a float inplace? (★★★)\n",
    "힌트: `np.logical_not, np.negative`"
   ]
  },
  {
   "cell_type": "code",
   "execution_count": null,
   "id": "f03b024d",
   "metadata": {},
   "outputs": [],
   "source": [
    "# 코드를 작성하라.\n"
   ]
  },
  {
   "cell_type": "markdown",
   "id": "91e45dca",
   "metadata": {},
   "source": [
    "**문제 78. Consider 2 sets of points P0,P1 describing lines (2d) and a point p, how to compute distance from p to each line i (P0[i],P1[i])? (★★★)\n",
    "`No hints provided...`"
   ]
  },
  {
   "cell_type": "code",
   "execution_count": null,
   "id": "88ad9a70",
   "metadata": {},
   "outputs": [],
   "source": [
    "# 코드를 작성하라.\n"
   ]
  },
  {
   "cell_type": "markdown",
   "id": "a28f8806",
   "metadata": {},
   "source": [
    "**문제 79. Consider 2 sets of points P0,P1 describing lines (2d) and a set of points P, how to compute distance from each point j (P[j]) to each line i (P0[i],P1[i])? (★★★)\n",
    "`No hints provided...`"
   ]
  },
  {
   "cell_type": "code",
   "execution_count": null,
   "id": "e1e6a4de",
   "metadata": {},
   "outputs": [],
   "source": [
    "# 코드를 작성하라.\n"
   ]
  },
  {
   "cell_type": "markdown",
   "id": "129397fc",
   "metadata": {},
   "source": [
    "**문제 80. Consider an arbitrary array, write a function that extract a subpart with a fixed shape and centered on a given element (pad with a `fill` value when necessary) (★★★)\n",
    "힌트: `minimum maximum`"
   ]
  },
  {
   "cell_type": "code",
   "execution_count": null,
   "id": "4b9125b2",
   "metadata": {},
   "outputs": [],
   "source": [
    "# 코드를 작성하라.\n"
   ]
  },
  {
   "cell_type": "markdown",
   "id": "88ac6c4b",
   "metadata": {},
   "source": [
    "**문제 81. Consider an array Z = [1,2,3,4,5,6,7,8,9,10,11,12,13,14], how to generate an array R = [[1,2,3,4], [2,3,4,5], [3,4,5,6], ..., [11,12,13,14]]? (★★★)\n",
    "힌트: `stride_tricks.as_strided, from numpy.lib.stride_tricks import sliding_window_view (np>=1.20.0)`"
   ]
  },
  {
   "cell_type": "code",
   "execution_count": null,
   "id": "01ef3851",
   "metadata": {},
   "outputs": [],
   "source": [
    "# 코드를 작성하라.\n"
   ]
  },
  {
   "cell_type": "markdown",
   "id": "4546471b",
   "metadata": {},
   "source": [
    "**문제 82. Compute a matrix rank (★★★)\n",
    "힌트: `np.linalg.svd, np.linalg.matrix_rank`"
   ]
  },
  {
   "cell_type": "code",
   "execution_count": null,
   "id": "ca46868d",
   "metadata": {},
   "outputs": [],
   "source": [
    "# 코드를 작성하라.\n"
   ]
  },
  {
   "cell_type": "markdown",
   "id": "a2eb0c1f",
   "metadata": {},
   "source": [
    "**문제 83. How to find the most frequent value in an array?\n",
    "힌트: `np.bincount, argmax`"
   ]
  },
  {
   "cell_type": "code",
   "execution_count": null,
   "id": "e71c9146",
   "metadata": {},
   "outputs": [],
   "source": [
    "# 코드를 작성하라.\n"
   ]
  },
  {
   "cell_type": "markdown",
   "id": "0b1ee21f",
   "metadata": {},
   "source": [
    "**문제 84. Extract all the contiguous 3x3 blocks from a random 10x10 matrix (★★★)\n",
    "힌트: `stride_tricks.as_strided, from numpy.lib.stride_tricks import sliding_window_view (np>=1.20.0)`"
   ]
  },
  {
   "cell_type": "code",
   "execution_count": null,
   "id": "ebe40914",
   "metadata": {},
   "outputs": [],
   "source": [
    "# 코드를 작성하라.\n"
   ]
  },
  {
   "cell_type": "markdown",
   "id": "a0c19e01",
   "metadata": {},
   "source": [
    "**문제 85. Create a 2D array subclass such that Z[i,j] == Z[j,i] (★★★)\n",
    "힌트: `class method`"
   ]
  },
  {
   "cell_type": "code",
   "execution_count": null,
   "id": "7114b1d4",
   "metadata": {},
   "outputs": [],
   "source": [
    "# 코드를 작성하라.\n"
   ]
  },
  {
   "cell_type": "markdown",
   "id": "24f94280",
   "metadata": {},
   "source": [
    "**문제 86. Consider a set of p matrices wich shape (n,n) and a set of p vectors with shape (n,1). How to compute the sum of of the p matrix products at once? (result has shape (n,1)) (★★★)\n",
    "힌트: `np.tensordot`"
   ]
  },
  {
   "cell_type": "code",
   "execution_count": null,
   "id": "e61d8b2d",
   "metadata": {},
   "outputs": [],
   "source": [
    "# 코드를 작성하라.\n"
   ]
  },
  {
   "cell_type": "markdown",
   "id": "3837d46e",
   "metadata": {},
   "source": [
    "**문제 87. Consider a 16x16 array, how to get the block-sum (block size is 4x4)? (★★★)\n",
    "힌트: `np.add.reduceat, from numpy.lib.stride_tricks import sliding_window_view (np>=1.20.0)`"
   ]
  },
  {
   "cell_type": "code",
   "execution_count": null,
   "id": "5a417da0",
   "metadata": {},
   "outputs": [],
   "source": [
    "# 코드를 작성하라.\n"
   ]
  },
  {
   "cell_type": "markdown",
   "id": "66589d81",
   "metadata": {},
   "source": [
    "**문제 88. How to implement the Game of Life using numpy arrays? (★★★)\n",
    "`No hints provided...`"
   ]
  },
  {
   "cell_type": "code",
   "execution_count": null,
   "id": "5d24322e",
   "metadata": {},
   "outputs": [],
   "source": [
    "# 코드를 작성하라.\n"
   ]
  },
  {
   "cell_type": "markdown",
   "id": "8cb1dbb6",
   "metadata": {},
   "source": [
    "**문제 89. How to get the n largest values of an array (★★★)\n",
    "힌트: `np.argsort | np.argpartition`"
   ]
  },
  {
   "cell_type": "code",
   "execution_count": null,
   "id": "f7151734",
   "metadata": {},
   "outputs": [],
   "source": [
    "# 코드를 작성하라.\n"
   ]
  },
  {
   "cell_type": "markdown",
   "id": "52ea2773",
   "metadata": {},
   "source": [
    "**문제 90. Given an arbitrary number of vectors, build the cartesian product (every combinations of every item) (★★★)\n",
    "힌트: `np.indices`"
   ]
  },
  {
   "cell_type": "code",
   "execution_count": null,
   "id": "bbed6fd6",
   "metadata": {},
   "outputs": [],
   "source": [
    "# 코드를 작성하라.\n"
   ]
  },
  {
   "cell_type": "markdown",
   "id": "ea79aa9d",
   "metadata": {},
   "source": [
    "**문제 91. How to create a record array from a regular array? (★★★)\n",
    "힌트: `np.core.records.fromarrays`"
   ]
  },
  {
   "cell_type": "code",
   "execution_count": null,
   "id": "b3287f33",
   "metadata": {},
   "outputs": [],
   "source": [
    "# 코드를 작성하라.\n"
   ]
  },
  {
   "cell_type": "markdown",
   "id": "51fd4e30",
   "metadata": {},
   "source": [
    "**문제 92. Consider a large vector Z, compute Z to the power of 3 using 3 different methods (★★★)\n",
    "힌트: `np.power, *, np.einsum`"
   ]
  },
  {
   "cell_type": "code",
   "execution_count": null,
   "id": "615e95e1",
   "metadata": {},
   "outputs": [],
   "source": [
    "# 코드를 작성하라.\n"
   ]
  },
  {
   "cell_type": "markdown",
   "id": "671ebc4c",
   "metadata": {},
   "source": [
    "**문제 93. Consider two arrays A and B of shape (8,3) and (2,2). How to find rows of A that contain elements of each row of B regardless of the order of the elements in B? (★★★)\n",
    "힌트: `np.where`"
   ]
  },
  {
   "cell_type": "code",
   "execution_count": null,
   "id": "58ac2cbc",
   "metadata": {},
   "outputs": [],
   "source": [
    "# 코드를 작성하라.\n"
   ]
  },
  {
   "cell_type": "markdown",
   "id": "1e2638c6",
   "metadata": {},
   "source": [
    "**문제 94. Considering a 10x3 matrix, extract rows with unequal values (e.g. [2,2,3]) (★★★)\n",
    "`No hints provided...`"
   ]
  },
  {
   "cell_type": "code",
   "execution_count": null,
   "id": "62c4ebc3",
   "metadata": {},
   "outputs": [],
   "source": [
    "# 코드를 작성하라.\n"
   ]
  },
  {
   "cell_type": "markdown",
   "id": "c06ea78e",
   "metadata": {},
   "source": [
    "**문제 95. Convert a vector of ints into a matrix binary representation (★★★)\n",
    "힌트: `np.unpackbits`"
   ]
  },
  {
   "cell_type": "code",
   "execution_count": null,
   "id": "3b457409",
   "metadata": {},
   "outputs": [],
   "source": [
    "# 코드를 작성하라.\n"
   ]
  },
  {
   "cell_type": "markdown",
   "id": "137ea188",
   "metadata": {},
   "source": [
    "**문제 96. Given a two dimensional array, how to extract unique rows? (★★★)\n",
    "힌트: `np.ascontiguousarray | np.unique`"
   ]
  },
  {
   "cell_type": "code",
   "execution_count": null,
   "id": "3a2fefc9",
   "metadata": {},
   "outputs": [],
   "source": [
    "# 코드를 작성하라.\n"
   ]
  },
  {
   "cell_type": "markdown",
   "id": "ca54d524",
   "metadata": {},
   "source": [
    "**문제 97. Considering 2 vectors A & B, write the einsum equivalent of inner, outer, sum, and mul function (★★★)\n",
    "힌트: `np.einsum`"
   ]
  },
  {
   "cell_type": "code",
   "execution_count": null,
   "id": "0b24c976",
   "metadata": {},
   "outputs": [],
   "source": [
    "# 코드를 작성하라.\n"
   ]
  },
  {
   "cell_type": "markdown",
   "id": "d70a635e",
   "metadata": {},
   "source": [
    "**문제 98. Considering a path described by two vectors (X,Y), how to sample it using equidistant samples (★★★)?\n",
    "힌트: `np.cumsum, np.interp`"
   ]
  },
  {
   "cell_type": "code",
   "execution_count": null,
   "id": "daa85d1c",
   "metadata": {},
   "outputs": [],
   "source": [
    "# 코드를 작성하라.\n"
   ]
  },
  {
   "cell_type": "markdown",
   "id": "44c21612",
   "metadata": {},
   "source": [
    "**문제 99. Given an integer n and a 2D array X, select from X the rows which can be interpreted as draws from a multinomial distribution with n degrees, i.e., the rows which only contain integers and which sum to n. (★★★)\n",
    "힌트: `np.logical_and.reduce, np.mod`"
   ]
  },
  {
   "cell_type": "code",
   "execution_count": null,
   "id": "3eacf9a3",
   "metadata": {},
   "outputs": [],
   "source": [
    "# 코드를 작성하라.\n"
   ]
  },
  {
   "cell_type": "markdown",
   "id": "7b8d106d",
   "metadata": {},
   "source": [
    "**문제 100. Compute bootstrapped 95% confidence intervals for the mean of a 1D array X (i.e., resample the elements of an array with replacement N times, compute the mean of each sample, and then compute percentiles over the means). (★★★)\n",
    "힌트: `np.percentile`"
   ]
  },
  {
   "cell_type": "code",
   "execution_count": null,
   "id": "0c8a8028",
   "metadata": {},
   "outputs": [],
   "source": [
    "# 코드를 작성하라.\n"
   ]
  }
 ],
 "metadata": {
  "jupytext": {
   "cell_metadata_filter": "-all",
   "notebook_metadata_filter": "-all",
   "text_representation": {
    "extension": ".md",
    "format_name": "markdown"
   }
  },
  "kernelspec": {
   "display_name": "Python 3 (ipykernel)",
   "language": "python",
   "name": "python3"
  },
  "language_info": {
   "codemirror_mode": {
    "name": "ipython",
    "version": 3
   },
   "file_extension": ".py",
   "mimetype": "text/x-python",
   "name": "python",
   "nbconvert_exporter": "python",
   "pygments_lexer": "ipython3",
   "version": "3.9.7"
  }
 },
 "nbformat": 4,
 "nbformat_minor": 5
}

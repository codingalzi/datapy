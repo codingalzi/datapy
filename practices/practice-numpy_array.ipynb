{
 "cells": [
  {
   "cell_type": "markdown",
   "id": "b0247ce6",
   "metadata": {},
   "source": [
    "# (실습) 넘파이 어레이"
   ]
  },
  {
   "cell_type": "markdown",
   "id": "90b6b935",
   "metadata": {},
   "source": [
    "[100 Numpy Exercises](https://github.com/rougier/numpy-100) 에서 소개된 넘파이 연습문제 100선에서 \n",
    "선택한 문제입니다."
   ]
  },
  {
   "cell_type": "markdown",
   "id": "9ddeb992",
   "metadata": {
    "lines_to_next_cell": 0
   },
   "source": [
    "**문제 1**"
   ]
  },
  {
   "cell_type": "markdown",
   "id": "646e569e",
   "metadata": {
    "lines_to_next_cell": 0
   },
   "source": [
    "아래 두 코드의 기능을 설명하라. (★☆☆)"
   ]
  },
  {
   "cell_type": "code",
   "execution_count": 1,
   "id": "c7970a36",
   "metadata": {},
   "outputs": [],
   "source": [
    "import numpy as np"
   ]
  },
  {
   "cell_type": "code",
   "execution_count": 2,
   "id": "649d7da8",
   "metadata": {},
   "outputs": [],
   "source": [
    "np.random.seed(42)"
   ]
  },
  {
   "cell_type": "markdown",
   "id": "8b11a32a",
   "metadata": {},
   "source": [
    "`코드설명`: "
   ]
  },
  {
   "cell_type": "markdown",
   "id": "afe5d47c",
   "metadata": {
    "lines_to_next_cell": 0
   },
   "source": [
    "**문제 2**"
   ]
  },
  {
   "cell_type": "markdown",
   "id": "1b710ca1",
   "metadata": {
    "lines_to_next_cell": 0
   },
   "source": [
    "넘파이 버전과 설정을 출력하라. (★☆☆)\n",
    "\n",
    "힌트: `np.__version__`, `np.show_config()`"
   ]
  },
  {
   "cell_type": "code",
   "execution_count": 3,
   "id": "33919aac",
   "metadata": {},
   "outputs": [],
   "source": [
    "# 넘파이 버전\n"
   ]
  },
  {
   "cell_type": "code",
   "execution_count": 4,
   "id": "310d8e30",
   "metadata": {},
   "outputs": [],
   "source": [
    "# 넘파이 설정\n"
   ]
  },
  {
   "cell_type": "markdown",
   "id": "fc27ed82",
   "metadata": {
    "lines_to_next_cell": 0
   },
   "source": [
    "**문제 3**"
   ]
  },
  {
   "cell_type": "markdown",
   "id": "80b3d446",
   "metadata": {
    "lines_to_next_cell": 0
   },
   "source": [
    "길이가 10인 영벡터(1차원 어레이)를 한줄 코드로 생성하라. (★☆☆)\n",
    "\n",
    "힌트: `np.zeros()`"
   ]
  },
  {
   "cell_type": "code",
   "execution_count": 5,
   "id": "4d705fe8",
   "metadata": {},
   "outputs": [
    {
     "name": "stdout",
     "output_type": "stream",
     "text": [
      "None\n"
     ]
    }
   ],
   "source": [
    "# None을 한줄 표현식으로 대체하라.\n",
    "\n",
    "Z = None\n",
    "print(Z)"
   ]
  },
  {
   "cell_type": "markdown",
   "id": "44a6c38c",
   "metadata": {
    "lines_to_next_cell": 0
   },
   "source": [
    "**문제 4**"
   ]
  },
  {
   "cell_type": "markdown",
   "id": "875b9df6",
   "metadata": {
    "lines_to_next_cell": 0
   },
   "source": [
    "아래 코드의 실행결과를 설명하라. (★☆☆)"
   ]
  },
  {
   "cell_type": "code",
   "execution_count": 6,
   "id": "9dd2f418",
   "metadata": {},
   "outputs": [
    {
     "name": "stdout",
     "output_type": "stream",
     "text": [
      "800 bytes\n"
     ]
    }
   ],
   "source": [
    "Z = np.zeros((10,10))\n",
    "print(\"%d bytes\" % (Z.size * Z.itemsize))"
   ]
  },
  {
   "cell_type": "markdown",
   "id": "c0264e42",
   "metadata": {},
   "source": [
    "`코드설명`: "
   ]
  },
  {
   "cell_type": "markdown",
   "id": "9c6b461e",
   "metadata": {
    "lines_to_next_cell": 0
   },
   "source": [
    "**문제 5**"
   ]
  },
  {
   "cell_type": "markdown",
   "id": "6ad9283e",
   "metadata": {
    "lines_to_next_cell": 0
   },
   "source": [
    "커맨드 라인에서 넘파이의 `add()` 함수에 대한 정보를 구하는 방법은 다음과 같다. (★☆☆)\n",
    "\n",
    "```bash\n",
    "python -c \"import numpy; numpy.info(numpy.add)\"\n",
    "```"
   ]
  },
  {
   "cell_type": "markdown",
   "id": "2ab13918",
   "metadata": {
    "lines_to_next_cell": 0
   },
   "source": [
    "주피터 노트북에서 커맨드 라인 명령문을 실행하려면 느낌표(`!`) 기호를 함께 붙혀서 시작하며,\n",
    "파이썬 코드를 커맨드 라인에서 실행하려면 `-c` 옵션을 사용해야 한다.\n",
    "또한 여러 명령문을 한줄에 표시하려면 세미콜론을 사용한다."
   ]
  },
  {
   "cell_type": "markdown",
   "id": "0723125b",
   "metadata": {},
   "source": [
    "아래 코드의 실행결과를 설명하라."
   ]
  },
  {
   "cell_type": "code",
   "execution_count": 7,
   "id": "ab590889",
   "metadata": {},
   "outputs": [
    {
     "name": "stdout",
     "output_type": "stream",
     "text": [
      "add(x1, x2, /, out=None, *, where=True, casting='same_kind', order='K', dtype=None, subok=True[, signature, extobj])\r\n",
      "\r\n",
      "Add arguments element-wise.\r\n",
      "\r\n",
      "Parameters\r\n",
      "----------\r\n",
      "x1, x2 : array_like\r\n",
      "    The arrays to be added.\r\n",
      "    If ``x1.shape != x2.shape``, they must be broadcastable to a common\r\n",
      "    shape (which becomes the shape of the output).\r\n",
      "out : ndarray, None, or tuple of ndarray and None, optional\r\n",
      "    A location into which the result is stored. If provided, it must have\r\n",
      "    a shape that the inputs broadcast to. If not provided or None,\r\n",
      "    a freshly-allocated array is returned. A tuple (possible only as a\r\n",
      "    keyword argument) must have length equal to the number of outputs.\r\n",
      "where : array_like, optional\r\n",
      "    This condition is broadcast over the input. At locations where the\r\n",
      "    condition is True, the `out` array will be set to the ufunc result.\r\n",
      "    Elsewhere, the `out` array will retain its original value.\r\n",
      "    Note that if an uninitialized `out` array is created via the default\r\n",
      "    ``out=None``, locations within it where the condition is False will\r\n",
      "    remain uninitialized.\r\n",
      "**kwargs\r\n",
      "    For other keyword-only arguments, see the\r\n",
      "    :ref:`ufunc docs <ufuncs.kwargs>`.\r\n",
      "\r\n",
      "Returns\r\n",
      "-------\r\n",
      "add : ndarray or scalar\r\n",
      "    The sum of `x1` and `x2`, element-wise.\r\n",
      "    This is a scalar if both `x1` and `x2` are scalars.\r\n",
      "\r\n",
      "Notes\r\n",
      "-----\r\n",
      "Equivalent to `x1` + `x2` in terms of array broadcasting.\r\n",
      "\r\n",
      "Examples\r\n",
      "--------\r\n",
      ">>> np.add(1.0, 4.0)\r\n",
      "5.0\r\n",
      ">>> x1 = np.arange(9.0).reshape((3, 3))\r\n",
      ">>> x2 = np.arange(3.0)\r\n",
      ">>> np.add(x1, x2)\r\n",
      "array([[  0.,   2.,   4.],\r\n",
      "       [  3.,   5.,   7.],\r\n",
      "       [  6.,   8.,  10.]])\r\n",
      "\r\n",
      "The ``+`` operator can be used as a shorthand for ``np.add`` on ndarrays.\r\n",
      "\r\n",
      ">>> x1 = np.arange(9.0).reshape((3, 3))\r\n",
      ">>> x2 = np.arange(3.0)\r\n",
      ">>> x1 + x2\r\n",
      "array([[ 0.,  2.,  4.],\r\n",
      "       [ 3.,  5.,  7.],\r\n",
      "       [ 6.,  8., 10.]])\r\n"
     ]
    }
   ],
   "source": [
    "!python -c \"import numpy; numpy.info(numpy.add)\""
   ]
  },
  {
   "cell_type": "markdown",
   "id": "1b9523ef",
   "metadata": {},
   "source": [
    "`코드설명`: "
   ]
  },
  {
   "cell_type": "markdown",
   "id": "e927f9e3",
   "metadata": {
    "lines_to_next_cell": 0
   },
   "source": [
    "**문제 7**"
   ]
  },
  {
   "cell_type": "markdown",
   "id": "7b7be8ec",
   "metadata": {
    "lines_to_next_cell": 0
   },
   "source": [
    "10부터 49까지 정수를 항목으로 갖는 벡터 어레이를 한줄 코드로 생성하라. (★☆☆)\n",
    "\n",
    "힌트: `np.arange()`"
   ]
  },
  {
   "cell_type": "code",
   "execution_count": 8,
   "id": "6b297aba",
   "metadata": {},
   "outputs": [
    {
     "name": "stdout",
     "output_type": "stream",
     "text": [
      "None\n"
     ]
    }
   ],
   "source": [
    "# None을 한줄 표현식으로 대체하라.\n",
    "\n",
    "Z = None\n",
    "print(Z)"
   ]
  },
  {
   "cell_type": "markdown",
   "id": "f86dcd9f",
   "metadata": {
    "lines_to_next_cell": 0
   },
   "source": [
    "**문제 10**"
   ]
  },
  {
   "cell_type": "markdown",
   "id": "6f61d034",
   "metadata": {
    "lines_to_next_cell": 0
   },
   "source": [
    "다음 리스트에서 0이 아닌 항목들의 인덱스로 구성된 어레이를 한줄 코드로 생성하라. (★☆☆)\n",
    "\n",
    "힌트: `np.nonzero()`"
   ]
  },
  {
   "cell_type": "code",
   "execution_count": 9,
   "id": "1570e13b",
   "metadata": {
    "lines_to_next_cell": 0
   },
   "outputs": [],
   "source": [
    "Z = [1, 2, 0, 0, 4, 0]"
   ]
  },
  {
   "cell_type": "code",
   "execution_count": 10,
   "id": "6326e718",
   "metadata": {},
   "outputs": [
    {
     "name": "stdout",
     "output_type": "stream",
     "text": [
      "None\n"
     ]
    }
   ],
   "source": [
    "# None을 한줄 표현식으로 대체하라.\n",
    "\n",
    "non_zeros = None\n",
    "print(non_zeros)"
   ]
  },
  {
   "cell_type": "markdown",
   "id": "91f38913",
   "metadata": {
    "lines_to_next_cell": 0
   },
   "source": [
    "**문제 11**"
   ]
  },
  {
   "cell_type": "markdown",
   "id": "d71c377d",
   "metadata": {
    "lines_to_next_cell": 0
   },
   "source": [
    "아래 3x3 단위 행렬에 해당하는 2차원 어레이를 한줄 코드로 생성하라. (★☆☆)\n",
    "\n",
    "```\n",
    "[[1. 0. 0.]\n",
    " [0. 1. 0.]\n",
    " [0. 0. 1.]]\n",
    "```\n",
    "\n",
    "힌트: `np.eye()`"
   ]
  },
  {
   "cell_type": "code",
   "execution_count": 11,
   "id": "22f19d37",
   "metadata": {},
   "outputs": [
    {
     "name": "stdout",
     "output_type": "stream",
     "text": [
      "None\n"
     ]
    }
   ],
   "source": [
    "# None을 한줄 표현식으로 대체하라.\n",
    "\n",
    "Z = None\n",
    "print(Z)"
   ]
  },
  {
   "cell_type": "markdown",
   "id": "1a572bce",
   "metadata": {
    "lines_to_next_cell": 0
   },
   "source": [
    "**문제 12**"
   ]
  },
  {
   "cell_type": "markdown",
   "id": "f059242f",
   "metadata": {
    "lines_to_next_cell": 0
   },
   "source": [
    "무작위 수로 구성된 (3, 3, 3) 모양의 3차원 어레이를 한줄 코드로 생성하라. (★☆☆)\n",
    "\n",
    "힌트: `np.random.random()`"
   ]
  },
  {
   "cell_type": "code",
   "execution_count": 12,
   "id": "4b37f709",
   "metadata": {},
   "outputs": [
    {
     "name": "stdout",
     "output_type": "stream",
     "text": [
      "None\n"
     ]
    }
   ],
   "source": [
    "# None을 한줄 표현식으로 대체하라.\n",
    "\n",
    "Z = None\n",
    "print(Z)"
   ]
  },
  {
   "cell_type": "markdown",
   "id": "68968dd0",
   "metadata": {
    "lines_to_next_cell": 0
   },
   "source": [
    "**문제 16**"
   ]
  },
  {
   "cell_type": "markdown",
   "id": "8ede4d58",
   "metadata": {
    "lines_to_next_cell": 0
   },
   "source": [
    "1로 채워진 (5, 5) 모양의 어레이를 생성한 후에 0으로 이루어진 패딩을 추가하여\n",
    "아래와 같은 (6, 6) 모양의 어레이를 생성하라. (★☆☆)\n",
    "\n",
    "```\n",
    "[[0. 0. 0. 0. 0. 0. 0.]\n",
    " [0. 1. 1. 1. 1. 1. 0.]\n",
    " [0. 1. 1. 1. 1. 1. 0.]\n",
    " [0. 1. 1. 1. 1. 1. 0.]\n",
    " [0. 1. 1. 1. 1. 1. 0.]\n",
    " [0. 1. 1. 1. 1. 1. 0.]\n",
    " [0. 0. 0. 0. 0. 0. 0.]]\n",
    "```\n",
    "\n",
    "힌트: `np.ones()`, `np.pad()` "
   ]
  },
  {
   "cell_type": "code",
   "execution_count": 46,
   "id": "32a3320c",
   "metadata": {},
   "outputs": [
    {
     "name": "stdout",
     "output_type": "stream",
     "text": [
      "None\n"
     ]
    }
   ],
   "source": [
    "# None과 pass 를 각각 한줄 표현식과 한줄 명령문으로 대체해서 코드를 완성하라.\n",
    "\n",
    "Z = None\n",
    "pass\n",
    "print(Z)"
   ]
  },
  {
   "cell_type": "markdown",
   "id": "20a538df",
   "metadata": {
    "lines_to_next_cell": 0
   },
   "source": [
    "**문제 17**"
   ]
  },
  {
   "cell_type": "markdown",
   "id": "223a09f0",
   "metadata": {
    "lines_to_next_cell": 0
   },
   "source": [
    "아래 코드를 실행한 결과를 설명하라. (★☆☆)\n",
    "\n",
    "힌트: `NaN` = 수 아님(not a number), `inf` = 무한대"
   ]
  },
  {
   "cell_type": "code",
   "execution_count": 47,
   "id": "c2661fa8",
   "metadata": {
    "lines_to_next_cell": 0
   },
   "outputs": [
    {
     "data": {
      "text/plain": [
       "nan"
      ]
     },
     "execution_count": 47,
     "metadata": {},
     "output_type": "execute_result"
    }
   ],
   "source": [
    "# (1)\n",
    "0 * np.nan"
   ]
  },
  {
   "cell_type": "markdown",
   "id": "a1cc8ddc",
   "metadata": {},
   "source": [
    "`코드설명`: "
   ]
  },
  {
   "cell_type": "code",
   "execution_count": 48,
   "id": "4905120d",
   "metadata": {
    "lines_to_next_cell": 0
   },
   "outputs": [
    {
     "data": {
      "text/plain": [
       "False"
      ]
     },
     "execution_count": 48,
     "metadata": {},
     "output_type": "execute_result"
    }
   ],
   "source": [
    "# (2)\n",
    "np.nan == np.nan"
   ]
  },
  {
   "cell_type": "markdown",
   "id": "c87350f4",
   "metadata": {},
   "source": [
    "`코드설명`: "
   ]
  },
  {
   "cell_type": "code",
   "execution_count": 49,
   "id": "b3b4218e",
   "metadata": {
    "lines_to_next_cell": 0
   },
   "outputs": [
    {
     "data": {
      "text/plain": [
       "False"
      ]
     },
     "execution_count": 49,
     "metadata": {},
     "output_type": "execute_result"
    }
   ],
   "source": [
    "# (3)\n",
    "np.inf > np.nan"
   ]
  },
  {
   "cell_type": "markdown",
   "id": "3dbc8a74",
   "metadata": {},
   "source": [
    "`코드설명`: "
   ]
  },
  {
   "cell_type": "code",
   "execution_count": 50,
   "id": "c8d51b60",
   "metadata": {
    "lines_to_next_cell": 0
   },
   "outputs": [
    {
     "data": {
      "text/plain": [
       "nan"
      ]
     },
     "execution_count": 50,
     "metadata": {},
     "output_type": "execute_result"
    }
   ],
   "source": [
    "# (4)\n",
    "np.nan - np.nan"
   ]
  },
  {
   "cell_type": "markdown",
   "id": "a0dbc5a4",
   "metadata": {},
   "source": [
    "`코드설명`: "
   ]
  },
  {
   "cell_type": "code",
   "execution_count": 51,
   "id": "02d13bf0",
   "metadata": {
    "lines_to_next_cell": 0
   },
   "outputs": [
    {
     "data": {
      "text/plain": [
       "True"
      ]
     },
     "execution_count": 51,
     "metadata": {},
     "output_type": "execute_result"
    }
   ],
   "source": [
    "# (5)\n",
    "np.nan in set([np.nan])"
   ]
  },
  {
   "cell_type": "markdown",
   "id": "6bc37bd9",
   "metadata": {},
   "source": [
    "`코드설명`: "
   ]
  },
  {
   "cell_type": "code",
   "execution_count": 52,
   "id": "82446876",
   "metadata": {
    "lines_to_next_cell": 0
   },
   "outputs": [
    {
     "data": {
      "text/plain": [
       "False"
      ]
     },
     "execution_count": 52,
     "metadata": {},
     "output_type": "execute_result"
    }
   ],
   "source": [
    "#(6)\n",
    "0.3 == 3 * 0.1"
   ]
  },
  {
   "cell_type": "markdown",
   "id": "4ae470a9",
   "metadata": {},
   "source": [
    "`코드설명`: "
   ]
  },
  {
   "cell_type": "markdown",
   "id": "6edfc727",
   "metadata": {
    "lines_to_next_cell": 0
   },
   "source": [
    "**문제 18**"
   ]
  },
  {
   "cell_type": "markdown",
   "id": "2d683d69",
   "metadata": {
    "lines_to_next_cell": 0
   },
   "source": [
    "아래와 같은 (5, 5) 모양의 2차원 어레이를 한줄 코드로 생성하라. (★☆☆)\n",
    "\n",
    "```\n",
    "[[0 0 0 0 0]\n",
    " [1 0 0 0 0]\n",
    " [0 2 0 0 0]\n",
    " [0 0 3 0 0]\n",
    " [0 0 0 4 0]]\n",
    "```\n",
    "\n",
    "힌트: `np.diag()`"
   ]
  },
  {
   "cell_type": "code",
   "execution_count": 53,
   "id": "f18982e3",
   "metadata": {},
   "outputs": [
    {
     "name": "stdout",
     "output_type": "stream",
     "text": [
      "None\n"
     ]
    }
   ],
   "source": [
    "# None을 한줄 표현식으로 대체하라.\n",
    "\n",
    "Z = None\n",
    "print(Z)"
   ]
  },
  {
   "cell_type": "markdown",
   "id": "13e48610",
   "metadata": {
    "lines_to_next_cell": 0
   },
   "source": [
    "**문제 21**"
   ]
  },
  {
   "cell_type": "markdown",
   "id": "4e5fce96",
   "metadata": {
    "lines_to_next_cell": 0
   },
   "source": [
    "`np.tile()` 함수를 이용하여 아래와 같은 (8, 8) 모양의 2차원 어레이를 한줄 코드로 생성하라. (★☆☆)\n",
    "\n",
    "```\n",
    "[[0 1 0 1 0 1 0 1]\n",
    " [1 0 1 0 1 0 1 0]\n",
    " [0 1 0 1 0 1 0 1]\n",
    " [1 0 1 0 1 0 1 0]\n",
    " [0 1 0 1 0 1 0 1]\n",
    " [1 0 1 0 1 0 1 0]\n",
    " [0 1 0 1 0 1 0 1]\n",
    " [1 0 1 0 1 0 1 0]]\n",
    "```"
   ]
  },
  {
   "cell_type": "code",
   "execution_count": 54,
   "id": "d51a3753",
   "metadata": {},
   "outputs": [
    {
     "name": "stdout",
     "output_type": "stream",
     "text": [
      "None\n"
     ]
    }
   ],
   "source": [
    "# None을 한줄 표현식으로 대체하라.\n",
    "\n",
    "Z = None\n",
    "print(Z)"
   ]
  },
  {
   "cell_type": "markdown",
   "id": "079d92ac",
   "metadata": {
    "lines_to_next_cell": 0
   },
   "source": [
    "**문제 22**"
   ]
  },
  {
   "cell_type": "markdown",
   "id": "67f24b9b",
   "metadata": {
    "lines_to_next_cell": 0
   },
   "source": [
    "무작위 수로 구성된 (5, 5) 모양의 2차원 어레이를 한줄 코드로 생성한 후에 정규화하라. (★☆☆)\n",
    "\n",
    "정규화 관련 설명: <https://hleecaster.com/ml-normalization-concept/>"
   ]
  },
  {
   "cell_type": "code",
   "execution_count": 55,
   "id": "c72149a5",
   "metadata": {},
   "outputs": [
    {
     "name": "stdout",
     "output_type": "stream",
     "text": [
      "None\n"
     ]
    }
   ],
   "source": [
    "# None과 pass 를 각각 적절한 한줄 표현식과 한줄 명령문으로 대체해서 코드를 완성하라.\n",
    "\n",
    "Z = None\n",
    "pass\n",
    "print(Z)"
   ]
  },
  {
   "cell_type": "markdown",
   "id": "cfcc9d1f",
   "metadata": {
    "lines_to_next_cell": 0
   },
   "source": [
    "**문제 23** "
   ]
  },
  {
   "cell_type": "markdown",
   "id": "2634c928",
   "metadata": {
    "lines_to_next_cell": 0
   },
   "source": [
    "RGBA 색(color) 정보에 해당하는 값 4개로 이루어진 넘파이 어레이들의 자료형인 `color` 를 다음과 \n",
    "같이 정의할 수 있다. \n",
    "네 개의 값은 모두 unsigned byte 자료형인 `np.uint8` 을 갖는다. (★☆☆)\n",
    "\n",
    "참고: <https://www.w3schools.com/html/html_colors_rgb.asp>"
   ]
  },
  {
   "cell_type": "code",
   "execution_count": 56,
   "id": "944f7aa9",
   "metadata": {},
   "outputs": [],
   "source": [
    "color = np.dtype([(\"r\", np.uint8),\n",
    "                  (\"g\", np.uint8),\n",
    "                  (\"b\", np.uint8),\n",
    "                  (\"a\", np.uint8)])"
   ]
  },
  {
   "cell_type": "markdown",
   "id": "d4732ef0",
   "metadata": {},
   "source": [
    "아래 코드를 실행한 결과를 설명하라."
   ]
  },
  {
   "cell_type": "code",
   "execution_count": 57,
   "id": "a6675387",
   "metadata": {},
   "outputs": [],
   "source": [
    "# np.empty((2,3), dtype=color)"
   ]
  },
  {
   "cell_type": "markdown",
   "id": "ce932815",
   "metadata": {},
   "source": [
    "`코드설명`: "
   ]
  },
  {
   "cell_type": "code",
   "execution_count": 58,
   "id": "35580bcb",
   "metadata": {},
   "outputs": [],
   "source": [
    "# np.array([(0, 2, 3, 6), (20, 12, 28, 109)], dtype=color)"
   ]
  },
  {
   "cell_type": "markdown",
   "id": "ed6be59c",
   "metadata": {},
   "source": [
    "`코드설명`: "
   ]
  },
  {
   "cell_type": "code",
   "execution_count": 59,
   "id": "6119921b",
   "metadata": {},
   "outputs": [],
   "source": [
    "# np.array([(0, 2, 3, 6), (20, 12, 28, 109)]).astype(color)  # 브로드캐스팅 작용"
   ]
  },
  {
   "cell_type": "markdown",
   "id": "d8aaae25",
   "metadata": {},
   "source": [
    "`코드설명`: "
   ]
  },
  {
   "cell_type": "markdown",
   "id": "92f71fc9",
   "metadata": {
    "lines_to_next_cell": 0
   },
   "source": [
    "**문제 26**"
   ]
  },
  {
   "cell_type": "markdown",
   "id": "1b8257af",
   "metadata": {
    "lines_to_next_cell": 0
   },
   "source": [
    "파이썬 기본 패키지에서 제공하는 `sum()` 함수와 넘파이의 `sum()` 함수가 어떻게 다르게 작동하는지\n",
    "설명하라. (★☆☆)"
   ]
  },
  {
   "cell_type": "code",
   "execution_count": 9,
   "id": "7c062611",
   "metadata": {
    "lines_to_next_cell": 0
   },
   "outputs": [
    {
     "name": "stdout",
     "output_type": "stream",
     "text": [
      "9\n"
     ]
    }
   ],
   "source": [
    "print(sum(range(5),-1))"
   ]
  },
  {
   "cell_type": "code",
   "execution_count": 10,
   "id": "cb5ad67c",
   "metadata": {
    "lines_to_next_cell": 0
   },
   "outputs": [
    {
     "name": "stdout",
     "output_type": "stream",
     "text": [
      "10\n"
     ]
    }
   ],
   "source": [
    "print(np.sum(range(5),-1))"
   ]
  },
  {
   "cell_type": "markdown",
   "id": "9365bed8",
   "metadata": {},
   "source": [
    "`코드설명`: "
   ]
  },
  {
   "cell_type": "markdown",
   "id": "77622b6b",
   "metadata": {
    "lines_to_next_cell": 0
   },
   "source": [
    "**문제 27**"
   ]
  },
  {
   "cell_type": "markdown",
   "id": "26208ca2",
   "metadata": {
    "lines_to_next_cell": 0
   },
   "source": [
    "정수들의 벡터가 다음과 같이 주어졌다. "
   ]
  },
  {
   "cell_type": "code",
   "execution_count": 61,
   "id": "d3b1238f",
   "metadata": {
    "lines_to_next_cell": 0
   },
   "outputs": [
    {
     "data": {
      "text/plain": [
       "array([1, 4, 7])"
      ]
     },
     "execution_count": 61,
     "metadata": {},
     "output_type": "execute_result"
    }
   ],
   "source": [
    "Z = np.arange(1, 10, 3)\n",
    "Z"
   ]
  },
  {
   "cell_type": "markdown",
   "id": "da63d665",
   "metadata": {
    "lines_to_next_cell": 0
   },
   "source": [
    "아래 표현식 중 오류가 발생하는 것을 확인하고 그 이유를 설명하라. (★☆☆)\n",
    "\n",
    "```python\n",
    "Z**Z\n",
    "2 << Z >> 2\n",
    "Z <- Z\n",
    "1j*Z\n",
    "Z/1/1\n",
    "Z<Z>Z\n",
    "```"
   ]
  },
  {
   "cell_type": "markdown",
   "id": "5562d75b",
   "metadata": {},
   "source": [
    "`코드설명`: "
   ]
  },
  {
   "cell_type": "markdown",
   "id": "81d26661",
   "metadata": {
    "lines_to_next_cell": 0
   },
   "source": [
    "**문제 28**"
   ]
  },
  {
   "cell_type": "markdown",
   "id": "12223ca7",
   "metadata": {
    "lines_to_next_cell": 0
   },
   "source": [
    "아래 표현식 각각의 실행결과를 확인하고 설명하라. (★☆☆)\n",
    "\n",
    "```python\n",
    "np.array(0) / np.array(0)\n",
    "np.array(0) // np.array(0)\n",
    "np.array([np.nan]).astype(int).astype(float)\n",
    "```"
   ]
  },
  {
   "cell_type": "markdown",
   "id": "8bc52761",
   "metadata": {},
   "source": [
    "`코드설명`: "
   ]
  },
  {
   "cell_type": "markdown",
   "id": "4de406d4",
   "metadata": {},
   "source": [
    "**문제 33**"
   ]
  },
  {
   "cell_type": "markdown",
   "id": "6b4c8e47",
   "metadata": {},
   "source": [
    "어제, 오늘, 내일의 날짜를 각각 한줄 코드로 생성하라. (★☆☆)\n",
    "\n",
    "힌트: `np.datetime64, np.timedelta64`"
   ]
  },
  {
   "cell_type": "code",
   "execution_count": 62,
   "id": "317da587",
   "metadata": {},
   "outputs": [],
   "source": [
    "# None을 적절한 표현식으로 대체해서 코드를 완성하라.\n",
    "\n",
    "yesterday = None\n",
    "today     = None\n",
    "tomorrow  = None"
   ]
  },
  {
   "cell_type": "code",
   "execution_count": 63,
   "id": "4053c1c4",
   "metadata": {},
   "outputs": [
    {
     "name": "stdout",
     "output_type": "stream",
     "text": [
      "None\n",
      "None\n",
      "None\n"
     ]
    }
   ],
   "source": [
    "print(yesterday)\n",
    "print(today)\n",
    "print(tomorrow)"
   ]
  },
  {
   "cell_type": "markdown",
   "id": "8552102b",
   "metadata": {},
   "source": [
    "**문제 34**"
   ]
  },
  {
   "cell_type": "markdown",
   "id": "e8224b8f",
   "metadata": {},
   "source": [
    "2022년 5월의 모든 날짜로 구성된 1차원 어레이를 한줄 코드로 생성하라. (★★☆)\n",
    "\n",
    "힌트: `np.arange(dtype=datetime64['D'])`"
   ]
  },
  {
   "cell_type": "code",
   "execution_count": 64,
   "id": "9fa3baeb",
   "metadata": {},
   "outputs": [
    {
     "name": "stdout",
     "output_type": "stream",
     "text": [
      "None\n"
     ]
    }
   ],
   "source": [
    "# None 을 한줄 표현식으로 대체하라.\n",
    "\n",
    "Z = None\n",
    "print(Z)"
   ]
  },
  {
   "cell_type": "markdown",
   "id": "44d65648",
   "metadata": {},
   "source": [
    "**문제 35**"
   ]
  },
  {
   "cell_type": "markdown",
   "id": "3fdef6df",
   "metadata": {},
   "source": [
    "두 개의 1차원 어레이가 다음과 같이 주어졌다."
   ]
  },
  {
   "cell_type": "code",
   "execution_count": 65,
   "id": "5c121c26",
   "metadata": {},
   "outputs": [],
   "source": [
    "A = np.ones(3)*1\n",
    "B = np.ones(3)*2"
   ]
  },
  {
   "cell_type": "markdown",
   "id": "e139393b",
   "metadata": {},
   "source": [
    "아래 두 코드의 실행 결과를 설명하라. (★★☆)"
   ]
  },
  {
   "cell_type": "code",
   "execution_count": 66,
   "id": "f1f74b5c",
   "metadata": {},
   "outputs": [
    {
     "data": {
      "text/plain": [
       "array([-1.5, -1.5, -1.5])"
      ]
     },
     "execution_count": 66,
     "metadata": {},
     "output_type": "execute_result"
    }
   ],
   "source": [
    "(A+B)*(-A/2)"
   ]
  },
  {
   "cell_type": "code",
   "execution_count": 67,
   "id": "6ef45f11",
   "metadata": {},
   "outputs": [
    {
     "data": {
      "text/plain": [
       "array([-1.5, -1.5, -1.5])"
      ]
     },
     "execution_count": 67,
     "metadata": {},
     "output_type": "execute_result"
    }
   ],
   "source": [
    "np.add(A,B,out=B)\n",
    "np.divide(A,2,out=A)\n",
    "np.negative(A,out=A)\n",
    "np.multiply(A,B,out=A)"
   ]
  },
  {
   "cell_type": "markdown",
   "id": "4df5b482",
   "metadata": {},
   "source": [
    "`코드설명`: "
   ]
  },
  {
   "cell_type": "markdown",
   "id": "f8376516",
   "metadata": {},
   "source": [
    "**문제 36**"
   ]
  },
  {
   "cell_type": "markdown",
   "id": "7a29e6fd",
   "metadata": {},
   "source": [
    "1차원 어레이가 다음과 같이 주어졌다."
   ]
  },
  {
   "cell_type": "code",
   "execution_count": 77,
   "id": "13f954a4",
   "metadata": {},
   "outputs": [
    {
     "data": {
      "text/plain": [
       "array([3.74540119, 9.50714306, 7.31993942, 5.98658484, 1.5601864 ,\n",
       "       1.5599452 , 0.58083612, 8.66176146, 6.01115012, 7.08072578])"
      ]
     },
     "execution_count": 77,
     "metadata": {},
     "output_type": "execute_result"
    }
   ],
   "source": [
    "np.random.seed(42)\n",
    "\n",
    "Z = np.random.uniform(0,10,10)\n",
    "Z"
   ]
  },
  {
   "cell_type": "markdown",
   "id": "2deba747",
   "metadata": {},
   "source": [
    "부동소수점의 정수 부분만으로 구성된 어레이를 다음과 같이 생성할 수 있다."
   ]
  },
  {
   "cell_type": "code",
   "execution_count": 80,
   "id": "9a41ab75",
   "metadata": {},
   "outputs": [
    {
     "name": "stdout",
     "output_type": "stream",
     "text": [
      "[3. 9. 7. 5. 1. 1. 0. 8. 6. 7.]\n"
     ]
    }
   ],
   "source": [
    "print(Z - Z%1)"
   ]
  },
  {
   "cell_type": "markdown",
   "id": "58dff108",
   "metadata": {},
   "source": [
    "위 방식 이외에 정수 부분만으로 구성된 어레이를 생성하는 네 가지 방식을 더 소개하라.\n",
    "단, 모두 한줄 표현식으로 작성해야 한다. (★★☆)\n",
    "\n",
    "힌트: `//`, `np.floor()`, `astype()` 메서드, `np.trunc()`"
   ]
  },
  {
   "cell_type": "code",
   "execution_count": 81,
   "id": "291029ec",
   "metadata": {},
   "outputs": [],
   "source": [
    "# 표현식 1\n",
    "\n"
   ]
  },
  {
   "cell_type": "code",
   "execution_count": 82,
   "id": "7b7aa5ef",
   "metadata": {},
   "outputs": [],
   "source": [
    "# 표현식 2\n",
    "\n"
   ]
  },
  {
   "cell_type": "code",
   "execution_count": 81,
   "id": "56481f9a",
   "metadata": {},
   "outputs": [],
   "source": [
    "# 표현식 3\n",
    "\n"
   ]
  },
  {
   "cell_type": "code",
   "execution_count": 81,
   "id": "e6d83b84",
   "metadata": {},
   "outputs": [],
   "source": [
    "# 표현식 4\n",
    "\n"
   ]
  },
  {
   "cell_type": "markdown",
   "id": "cf3d6c86",
   "metadata": {},
   "source": [
    "**문제 37**"
   ]
  },
  {
   "cell_type": "markdown",
   "id": "99e1d72f",
   "metadata": {},
   "source": [
    "아래 모양의 어레이를 한줄 코드로 생성하라. (★★☆)\n",
    "\n",
    "```python\n",
    "[[0. 1. 2. 3. 4.]\n",
    " [0. 1. 2. 3. 4.]\n",
    " [0. 1. 2. 3. 4.]\n",
    " [0. 1. 2. 3. 4.]\n",
    " [0. 1. 2. 3. 4.]]\n",
    "```\n",
    "\n",
    "힌트: `np.tile()`, `np.arange()`"
   ]
  },
  {
   "cell_type": "code",
   "execution_count": 14,
   "id": "1ba89991",
   "metadata": {},
   "outputs": [
    {
     "name": "stdout",
     "output_type": "stream",
     "text": [
      "None\n"
     ]
    }
   ],
   "source": [
    "# None 을 한줄 표현식으로 대체하라.\n",
    "\n",
    "Z = None\n",
    "print(Z)"
   ]
  },
  {
   "cell_type": "markdown",
   "id": "5015bf90",
   "metadata": {},
   "source": [
    "**문제 38**\n",
    "\n",
    "아래 두 코드의 실행결과를 비교 설명하라. (★☆☆)"
   ]
  },
  {
   "cell_type": "code",
   "execution_count": 84,
   "id": "4d5b3db4",
   "metadata": {},
   "outputs": [
    {
     "name": "stdout",
     "output_type": "stream",
     "text": [
      "[0. 1. 2. 3. 4. 5. 6. 7. 8. 9.]\n"
     ]
    }
   ],
   "source": [
    "def generate():\n",
    "    for x in range(10):\n",
    "        yield x\n",
    "\n",
    "        \n",
    "Z = np.fromiter(generate(),dtype=float,count=-1)\n",
    "print(Z)"
   ]
  },
  {
   "cell_type": "code",
   "execution_count": 92,
   "id": "881b57c0",
   "metadata": {},
   "outputs": [
    {
     "name": "stdout",
     "output_type": "stream",
     "text": [
      "[0 1 2 3 4]\n"
     ]
    }
   ],
   "source": [
    "def generate():\n",
    "    for x in range(10):\n",
    "        yield x\n",
    "\n",
    "        \n",
    "Z = np.fromiter(generate(), dtype=int, count=5)\n",
    "print(Z)"
   ]
  },
  {
   "cell_type": "markdown",
   "id": "63278088",
   "metadata": {},
   "source": [
    "`코드설명`: "
   ]
  },
  {
   "cell_type": "markdown",
   "id": "0ba3a551",
   "metadata": {},
   "source": [
    "**문제 39**"
   ]
  },
  {
   "cell_type": "markdown",
   "id": "846078d6",
   "metadata": {},
   "source": [
    "0과 1사이의 부동소수점 10개로 이루어진 1차원 어레이를 생성하는 \n",
    "한줄 코드를 작성하라. \n",
    "단, 0과 1 양끝의 값은 모두 포함되지 않는다. (★★☆)\n",
    "\n",
    "힌트: `np.linspace()`"
   ]
  },
  {
   "cell_type": "code",
   "execution_count": 93,
   "id": "f8a42095",
   "metadata": {},
   "outputs": [
    {
     "name": "stdout",
     "output_type": "stream",
     "text": [
      "[0.09090909 0.18181818 0.27272727 0.36363636 0.45454545 0.54545455\n",
      " 0.63636364 0.72727273 0.81818182 0.90909091]\n"
     ]
    }
   ],
   "source": [
    "# None 을 한줄 표현식으로 대체하라.\n",
    "\n",
    "Z = None\n",
    "print(Z)"
   ]
  },
  {
   "cell_type": "markdown",
   "id": "1f6bc727",
   "metadata": {},
   "source": [
    "**문제 40**"
   ]
  },
  {
   "cell_type": "markdown",
   "id": "6137d5e7",
   "metadata": {},
   "source": [
    "무작위로 생성된 10개의 부동소수점을 항목으로 갖는 벡터(1차원 어레이)를 생성한 후에 오름차순으로 정렬하라.  (★★☆)\n",
    "\n",
    "힌트: `random()` 함수, `sort()` 메서드"
   ]
  },
  {
   "cell_type": "code",
   "execution_count": 15,
   "id": "66c6ba98",
   "metadata": {},
   "outputs": [
    {
     "name": "stdout",
     "output_type": "stream",
     "text": [
      "None\n"
     ]
    }
   ],
   "source": [
    "# None과 pass 를 각각 적절한 한줄 표현식과 한줄 명령문으로 대체해서 코드를 완성하라.\n",
    "\n",
    "Z = None\n",
    "pass\n",
    "print(Z)"
   ]
  },
  {
   "cell_type": "markdown",
   "id": "0a12ed20",
   "metadata": {},
   "source": [
    "**문제 41**"
   ]
  },
  {
   "cell_type": "markdown",
   "id": "88d005e9",
   "metadata": {},
   "source": [
    "아래 코드의 실행결과를 설명하라. (★★☆)"
   ]
  },
  {
   "cell_type": "code",
   "execution_count": 96,
   "id": "9e8badcc",
   "metadata": {},
   "outputs": [
    {
     "data": {
      "text/plain": [
       "45"
      ]
     },
     "execution_count": 96,
     "metadata": {},
     "output_type": "execute_result"
    }
   ],
   "source": [
    "Z = np.arange(10)\n",
    "np.add.reduce(Z)"
   ]
  },
  {
   "cell_type": "markdown",
   "id": "f269302c",
   "metadata": {},
   "source": [
    "`코드설명`: "
   ]
  },
  {
   "cell_type": "markdown",
   "id": "799c3892",
   "metadata": {},
   "source": [
    "**문제 42**"
   ]
  },
  {
   "cell_type": "markdown",
   "id": "7028175d",
   "metadata": {},
   "source": [
    "어레이 두 개가 다음과 같이 주어졌다."
   ]
  },
  {
   "cell_type": "code",
   "execution_count": 110,
   "id": "52c0f4a0",
   "metadata": {},
   "outputs": [],
   "source": [
    "A = np.array([1e10, 1e-8])\n",
    "B = np.array([1.00001e10, 1e-9])"
   ]
  },
  {
   "cell_type": "markdown",
   "id": "c73994dd",
   "metadata": {},
   "source": [
    "아래 두 코드의 실행결과를 설명하라.  (★★☆)"
   ]
  },
  {
   "cell_type": "code",
   "execution_count": 108,
   "id": "e7b512e4",
   "metadata": {},
   "outputs": [
    {
     "name": "stdout",
     "output_type": "stream",
     "text": [
      "True\n"
     ]
    }
   ],
   "source": [
    "equal = np.allclose(A,B)\n",
    "print(equal)"
   ]
  },
  {
   "cell_type": "code",
   "execution_count": 109,
   "id": "a2c77679",
   "metadata": {},
   "outputs": [
    {
     "name": "stdout",
     "output_type": "stream",
     "text": [
      "False\n"
     ]
    }
   ],
   "source": [
    "equal = np.array_equal(A,B)\n",
    "print(equal)"
   ]
  },
  {
   "cell_type": "markdown",
   "id": "95cfabfe",
   "metadata": {},
   "source": [
    "`코드설명`: "
   ]
  },
  {
   "cell_type": "markdown",
   "id": "c8484708",
   "metadata": {},
   "source": [
    "**문제 43**"
   ]
  },
  {
   "cell_type": "markdown",
   "id": "07d2d9d3",
   "metadata": {},
   "source": [
    "아래 코드의 실행결과를 설명하라. (★★☆)"
   ]
  },
  {
   "cell_type": "code",
   "execution_count": 111,
   "id": "fab39ee6",
   "metadata": {},
   "outputs": [],
   "source": [
    "Z = np.zeros(10)\n",
    "Z.flags.writeable = False\n",
    "# Z[0] = 1"
   ]
  },
  {
   "cell_type": "markdown",
   "id": "c0bd6bfb",
   "metadata": {},
   "source": [
    "`코드설명`: "
   ]
  },
  {
   "cell_type": "markdown",
   "id": "147344e1",
   "metadata": {},
   "source": [
    "**문제 44**"
   ]
  },
  {
   "cell_type": "markdown",
   "id": "122268d4",
   "metadata": {},
   "source": [
    "2차원 평면상의 10개의 점에 대한 직교좌표(데카르트 좌표)가 다음과 같다고 가정하자."
   ]
  },
  {
   "cell_type": "code",
   "execution_count": 16,
   "id": "d66abc4b",
   "metadata": {},
   "outputs": [
    {
     "data": {
      "text/plain": [
       "array([[0.37454012, 0.95071431],\n",
       "       [0.73199394, 0.59865848],\n",
       "       [0.15601864, 0.15599452],\n",
       "       [0.05808361, 0.86617615],\n",
       "       [0.60111501, 0.70807258],\n",
       "       [0.02058449, 0.96990985],\n",
       "       [0.83244264, 0.21233911],\n",
       "       [0.18182497, 0.18340451],\n",
       "       [0.30424224, 0.52475643],\n",
       "       [0.43194502, 0.29122914]])"
      ]
     },
     "execution_count": 16,
     "metadata": {},
     "output_type": "execute_result"
    }
   ],
   "source": [
    "np.random.seed(42)\n",
    "\n",
    "Z = np.random.random((10,2))\n",
    "Z"
   ]
  },
  {
   "cell_type": "markdown",
   "id": "7817faa8",
   "metadata": {},
   "source": [
    "주어진 10개의 직교좌표를 극좌표로 변환할 때 각 점의 원점으로부터의 거리 10개를 담은\n",
    "1차원 어레이 `R` 과 x 축으로부터 반시계 방향으로 측정한 각도 10개로 이루어진 1차원 어레이\n",
    "`T` 를 각각 한줄 코드로 구현하라. \n",
    "단, 좌표값은 모두 양의 실수로 가정한다. (★★☆)\n",
    "\n",
    "힌트: `np.sqrt, np.arctan2`\n",
    "\n",
    "참고: [(위키피디아) 극좌표계](https://ko.wikipedia.org/wiki/극좌표계)"
   ]
  },
  {
   "cell_type": "code",
   "execution_count": 22,
   "id": "a853bb33",
   "metadata": {},
   "outputs": [],
   "source": [
    "# None 을 한줄 표현식으로 대체하라.\n",
    "\n",
    "X,Y = Z[:,0], Z[:,1]\n",
    "R = None\n",
    "T = None"
   ]
  },
  {
   "cell_type": "code",
   "execution_count": 20,
   "id": "3ff5f1e3",
   "metadata": {},
   "outputs": [
    {
     "name": "stdout",
     "output_type": "stream",
     "text": [
      "None\n"
     ]
    }
   ],
   "source": [
    "print(R)"
   ]
  },
  {
   "cell_type": "code",
   "execution_count": 21,
   "id": "f1a1eb51",
   "metadata": {},
   "outputs": [
    {
     "name": "stdout",
     "output_type": "stream",
     "text": [
      "None\n"
     ]
    }
   ],
   "source": [
    "print(T)"
   ]
  },
  {
   "cell_type": "code",
   "execution_count": 18,
   "id": "04a54c22",
   "metadata": {},
   "outputs": [
    {
     "data": {
      "text/plain": [
       "array([1.19551066, 0.68552846, 0.78532086, 1.50383906, 0.86691479,\n",
       "       1.54957641, 0.24975369, 0.78972293, 1.04537865, 0.59321867])"
      ]
     },
     "execution_count": 18,
     "metadata": {},
     "output_type": "execute_result"
    }
   ],
   "source": [
    "T"
   ]
  },
  {
   "cell_type": "markdown",
   "id": "5fc238e8",
   "metadata": {},
   "source": [
    "**문제 47**"
   ]
  },
  {
   "cell_type": "markdown",
   "id": "1e87cf58",
   "metadata": {},
   "source": [
    "길이가 n 인 두 벡터 `X`와 `Y`가 주어졌을 때\n",
    "nxn 모양의 코쉬 행렬 $C$의 항목은 다음처럼 정의된다.\n",
    "\n",
    "$$\n",
    "C_{i j} =\\frac{1}{x_i - y_j}\n",
    "$$"
   ]
  },
  {
   "cell_type": "markdown",
   "id": "4738e555",
   "metadata": {},
   "source": [
    "길이가 8일 두 개의 벡터가 다음처럼 주어졌을 때 코쉬 행렬을 \n",
    "(8, 8) 모양의 2차원 어레이로 구현하라.  (★★☆)\n",
    "\n",
    "힌트: `np.subtract.outer()`"
   ]
  },
  {
   "cell_type": "code",
   "execution_count": 27,
   "id": "46c4827f",
   "metadata": {},
   "outputs": [],
   "source": [
    "X = np.arange(8)\n",
    "Y = X + 0.5"
   ]
  },
  {
   "cell_type": "code",
   "execution_count": 28,
   "id": "b61cb0d0",
   "metadata": {},
   "outputs": [
    {
     "name": "stdout",
     "output_type": "stream",
     "text": [
      "None\n"
     ]
    }
   ],
   "source": [
    "C = None\n",
    "print(C)"
   ]
  },
  {
   "cell_type": "markdown",
   "id": "f420e3cb",
   "metadata": {},
   "source": [
    "**문제 48**"
   ]
  },
  {
   "cell_type": "markdown",
   "id": "968678cb",
   "metadata": {},
   "source": [
    "아래 두 코드의 실행결과를 설명하라.  (★★☆)"
   ]
  },
  {
   "cell_type": "code",
   "execution_count": 33,
   "id": "85c463b0",
   "metadata": {},
   "outputs": [
    {
     "name": "stdout",
     "output_type": "stream",
     "text": [
      "-128\n",
      "127\n",
      "-2147483648\n",
      "2147483647\n",
      "-9223372036854775808\n",
      "9223372036854775807\n"
     ]
    }
   ],
   "source": [
    "for dtype in [np.int8, np.int32, np.int64]:\n",
    "    print(np.iinfo(dtype).min)\n",
    "    print(np.iinfo(dtype).max)"
   ]
  },
  {
   "cell_type": "markdown",
   "id": "c10900d4",
   "metadata": {},
   "source": [
    "`코드설명`: "
   ]
  },
  {
   "cell_type": "code",
   "execution_count": 36,
   "id": "472334df",
   "metadata": {},
   "outputs": [
    {
     "name": "stdout",
     "output_type": "stream",
     "text": [
      "-3.4028235e+38\n",
      "3.4028235e+38\n",
      "1.1920929e-07\n",
      "-1.7976931348623157e+308\n",
      "1.7976931348623157e+308\n",
      "2.220446049250313e-16\n"
     ]
    }
   ],
   "source": [
    "for dtype in [np.float32, np.float64]:\n",
    "    print(np.finfo(dtype).min)\n",
    "    print(np.finfo(dtype).max)\n",
    "    print(np.finfo(dtype).eps)"
   ]
  },
  {
   "cell_type": "markdown",
   "id": "bdeb426b",
   "metadata": {},
   "source": [
    "`코드설명`: "
   ]
  },
  {
   "cell_type": "markdown",
   "id": "868d876e",
   "metadata": {},
   "source": [
    "**문제 49**"
   ]
  },
  {
   "cell_type": "markdown",
   "id": "224c2ad4",
   "metadata": {},
   "source": [
    "`np.set_printoptions()` 의 기능을 세 개의 예를 이용하여 설명하라.\n",
    "단, 아래에 주어진 어레이를 이용한다. (★★☆)"
   ]
  },
  {
   "cell_type": "code",
   "execution_count": 57,
   "id": "da5a3f26",
   "metadata": {},
   "outputs": [],
   "source": [
    "Z = np.random.random((40,40))"
   ]
  },
  {
   "cell_type": "code",
   "execution_count": 62,
   "id": "c9aee0c0",
   "metadata": {},
   "outputs": [
    {
     "name": "stdout",
     "output_type": "stream",
     "text": [
      "[[0.61185289 0.13949386 0.29214465 ... 0.19598286 0.04522729 0.32533033]\n",
      " [0.38867729 0.27134903 0.82873751 ... 0.42754102 0.02541913 0.10789143]\n",
      " [0.03142919 0.63641041 0.31435598 ... 0.70301896 0.3636296  0.97178208]\n",
      " ...\n",
      " [0.51908179 0.47918188 0.02564207 ... 0.68111785 0.18143835 0.52516338]\n",
      " [0.70904626 0.10687692 0.56731222 ... 0.6419715  0.60709404 0.54669741]\n",
      " [0.2319471  0.390906   0.59447634 ... 0.66183919 0.55778342 0.73065051]]\n"
     ]
    }
   ],
   "source": [
    "print(Z)"
   ]
  },
  {
   "cell_type": "markdown",
   "id": "5a7d4c88",
   "metadata": {},
   "source": [
    "* 예제 1"
   ]
  },
  {
   "cell_type": "code",
   "execution_count": null,
   "id": "b4bc87ae",
   "metadata": {},
   "outputs": [],
   "source": [
    "# 코드를 작성하라.\n",
    "\n"
   ]
  },
  {
   "cell_type": "markdown",
   "id": "d9350d57",
   "metadata": {},
   "source": [
    "* 예제 2"
   ]
  },
  {
   "cell_type": "code",
   "execution_count": null,
   "id": "177be8a3",
   "metadata": {},
   "outputs": [],
   "source": [
    "# 코드를 작성하라.\n",
    "\n"
   ]
  },
  {
   "cell_type": "markdown",
   "id": "234866f1",
   "metadata": {},
   "source": [
    "* 예제 3"
   ]
  },
  {
   "cell_type": "code",
   "execution_count": null,
   "id": "2cd4be72",
   "metadata": {},
   "outputs": [],
   "source": [
    "# 코드를 작성하라.\n",
    "\n"
   ]
  },
  {
   "cell_type": "markdown",
   "id": "888fc28f",
   "metadata": {},
   "source": [
    "주의사항: 아래 코드는 기본값으로 되돌리는 코드임. 수정하지 말 것."
   ]
  },
  {
   "cell_type": "code",
   "execution_count": 61,
   "id": "9064460c",
   "metadata": {},
   "outputs": [],
   "source": [
    "np.set_printoptions(precision=8, threshold=1000)"
   ]
  },
  {
   "cell_type": "markdown",
   "id": "2115e0fe",
   "metadata": {},
   "source": [
    "**문제 51**"
   ]
  },
  {
   "cell_type": "markdown",
   "id": "78924584",
   "metadata": {},
   "source": [
    "아래 코드는 2차원 평면상의 좌표 `(x,y)` 와 RGB 색상정보 `(r,g,b)` 로\n",
    "이루어진 쌍에 대한 자료형을 정의한다."
   ]
  },
  {
   "cell_type": "code",
   "execution_count": 81,
   "id": "0b4c3544",
   "metadata": {},
   "outputs": [],
   "source": [
    "pos_color = np.dtype([('position', [ ('x', 'f8'), ('y', 'f8')]),\n",
    "                      ('color',    [ ('r', 'f8'), ('g', 'f8'), ('b', 'f8')])])"
   ]
  },
  {
   "cell_type": "markdown",
   "id": "e55f5c0e",
   "metadata": {},
   "source": [
    "아래 코드의 실행결과를 설명하라.  (★★☆)"
   ]
  },
  {
   "cell_type": "code",
   "execution_count": 80,
   "id": "90376a24",
   "metadata": {},
   "outputs": [
    {
     "name": "stdout",
     "output_type": "stream",
     "text": [
      "[((0., 0.), (0., 0., 0.)) ((0., 0.), (0., 0., 0.))\n",
      " ((0., 0.), (0., 0., 0.)) ((0., 0.), (0., 0., 0.))\n",
      " ((0., 0.), (0., 0., 0.)) ((0., 0.), (0., 0., 0.))\n",
      " ((0., 0.), (0., 0., 0.)) ((0., 0.), (0., 0., 0.))\n",
      " ((0., 0.), (0., 0., 0.)) ((0., 0.), (0., 0., 0.))]\n"
     ]
    }
   ],
   "source": [
    "Z = np.zeros(10, dtype=pos_color)\n",
    "print(Z)"
   ]
  },
  {
   "cell_type": "code",
   "execution_count": 82,
   "id": "dd27ef25",
   "metadata": {},
   "outputs": [
    {
     "data": {
      "text/plain": [
       "dtype([('position', [('x', '<f8'), ('y', '<f8')]), ('color', [('r', '<f8'), ('g', '<f8'), ('b', '<f8')])])"
      ]
     },
     "execution_count": 82,
     "metadata": {},
     "output_type": "execute_result"
    }
   ],
   "source": [
    "Z.dtype"
   ]
  },
  {
   "cell_type": "markdown",
   "id": "d88e400d",
   "metadata": {},
   "source": [
    "`코드설명`: "
   ]
  },
  {
   "cell_type": "markdown",
   "id": "02ba22eb",
   "metadata": {},
   "source": [
    "**문제 52. Consider a random vector with shape (100,2) representing coordinates, find point by point distances (★★☆)\n",
    "힌트: `np.atleast_2d, T, np.sqrt`"
   ]
  },
  {
   "cell_type": "code",
   "execution_count": null,
   "id": "9d5eef44",
   "metadata": {},
   "outputs": [],
   "source": [
    "# 코드를 작성하라.\n"
   ]
  },
  {
   "cell_type": "markdown",
   "id": "93d0192e",
   "metadata": {},
   "source": [
    "**문제 53. How to convert a float (32 bits) array into an integer (32 bits) in place?\n",
    "힌트: `view and [:] =`"
   ]
  },
  {
   "cell_type": "code",
   "execution_count": null,
   "id": "c632a375",
   "metadata": {},
   "outputs": [],
   "source": [
    "# 코드를 작성하라.\n"
   ]
  },
  {
   "cell_type": "markdown",
   "id": "f8e18881",
   "metadata": {},
   "source": [
    "**문제 54. How to read the following file? (★★☆)\n",
    "```\n",
    "1, 2, 3, 4, 5\n",
    "6,  ,  , 7, 8\n",
    " ,  , 9,10,11\n",
    "```\n",
    "힌트: `np.genfromtxt`"
   ]
  },
  {
   "cell_type": "code",
   "execution_count": null,
   "id": "4bcf0eb7",
   "metadata": {},
   "outputs": [],
   "source": [
    "# 코드를 작성하라.\n"
   ]
  },
  {
   "cell_type": "markdown",
   "id": "4f038753",
   "metadata": {},
   "source": [
    "**문제 55. What is the equivalent of enumerate for numpy arrays? (★★☆)\n",
    "힌트: `np.ndenumerate, np.ndindex`"
   ]
  },
  {
   "cell_type": "code",
   "execution_count": null,
   "id": "f8d4f564",
   "metadata": {},
   "outputs": [],
   "source": [
    "# 코드를 작성하라.\n"
   ]
  },
  {
   "cell_type": "markdown",
   "id": "32a22a5c",
   "metadata": {},
   "source": [
    "**문제 56. Generate a generic 2D Gaussian-like array (★★☆)\n",
    "힌트: `np.meshgrid, np.exp`"
   ]
  },
  {
   "cell_type": "code",
   "execution_count": null,
   "id": "cf166b08",
   "metadata": {},
   "outputs": [],
   "source": [
    "# 코드를 작성하라.\n"
   ]
  },
  {
   "cell_type": "markdown",
   "id": "37b2f331",
   "metadata": {},
   "source": [
    "**문제 57. How to randomly place p elements in a 2D array? (★★☆)\n",
    "힌트: `np.put, np.random.choice`"
   ]
  },
  {
   "cell_type": "code",
   "execution_count": null,
   "id": "56f17495",
   "metadata": {},
   "outputs": [],
   "source": [
    "# 코드를 작성하라.\n"
   ]
  },
  {
   "cell_type": "markdown",
   "id": "3ae11b81",
   "metadata": {},
   "source": [
    "**문제 58. Subtract the mean of each row of a matrix (★★☆)\n",
    "힌트: `mean(axis=,keepdims=)`"
   ]
  },
  {
   "cell_type": "code",
   "execution_count": null,
   "id": "0a80e33e",
   "metadata": {},
   "outputs": [],
   "source": [
    "# 코드를 작성하라.\n"
   ]
  },
  {
   "cell_type": "markdown",
   "id": "a05a46e7",
   "metadata": {},
   "source": [
    "**문제 59. How to sort an array by the nth column? (★★☆)\n",
    "힌트: `argsort`"
   ]
  },
  {
   "cell_type": "code",
   "execution_count": null,
   "id": "dc297ad5",
   "metadata": {},
   "outputs": [],
   "source": [
    "# 코드를 작성하라.\n"
   ]
  },
  {
   "cell_type": "markdown",
   "id": "78a92c5c",
   "metadata": {},
   "source": [
    "**문제 60. How to tell if a given 2D array has null columns? (★★☆)\n",
    "힌트: `any, ~`"
   ]
  },
  {
   "cell_type": "code",
   "execution_count": null,
   "id": "fb4a6d29",
   "metadata": {},
   "outputs": [],
   "source": [
    "# 코드를 작성하라.\n"
   ]
  },
  {
   "cell_type": "markdown",
   "id": "616319fa",
   "metadata": {},
   "source": [
    "**문제 61. Find the nearest value from a given value in an array (★★☆)\n",
    "힌트: `np.abs, argmin, flat`"
   ]
  },
  {
   "cell_type": "code",
   "execution_count": null,
   "id": "df1c66d2",
   "metadata": {},
   "outputs": [],
   "source": [
    "# 코드를 작성하라.\n"
   ]
  },
  {
   "cell_type": "markdown",
   "id": "4d4fcd72",
   "metadata": {},
   "source": [
    "**문제 62. Considering two arrays with shape (1,3) and (3,1), how to compute their sum using an iterator? (★★☆)\n",
    "힌트: `np.nditer`"
   ]
  },
  {
   "cell_type": "code",
   "execution_count": null,
   "id": "0e7522f6",
   "metadata": {},
   "outputs": [],
   "source": [
    "# 코드를 작성하라.\n"
   ]
  },
  {
   "cell_type": "markdown",
   "id": "9276904f",
   "metadata": {},
   "source": [
    "**문제 63. Create an array class that has a name attribute (★★☆)\n",
    "힌트: `class method`"
   ]
  },
  {
   "cell_type": "code",
   "execution_count": null,
   "id": "5c776b81",
   "metadata": {},
   "outputs": [],
   "source": [
    "# 코드를 작성하라.\n"
   ]
  },
  {
   "cell_type": "markdown",
   "id": "80aab0a5",
   "metadata": {},
   "source": [
    "**문제 64. Consider a given vector, how to add 1 to each element indexed by a second vector (be careful with repeated indices)? (★★★)\n",
    "힌트: `np.bincount | np.add.at`"
   ]
  },
  {
   "cell_type": "code",
   "execution_count": null,
   "id": "3e6daa3d",
   "metadata": {},
   "outputs": [],
   "source": [
    "# 코드를 작성하라.\n"
   ]
  },
  {
   "cell_type": "markdown",
   "id": "7ff11afc",
   "metadata": {},
   "source": [
    "**문제 65. How to accumulate elements of a vector (X) to an array (F) based on an index list (I)? (★★★)\n",
    "힌트: `np.bincount`"
   ]
  },
  {
   "cell_type": "code",
   "execution_count": null,
   "id": "405bd90f",
   "metadata": {},
   "outputs": [],
   "source": [
    "# 코드를 작성하라.\n"
   ]
  },
  {
   "cell_type": "markdown",
   "id": "45688ce9",
   "metadata": {},
   "source": [
    "**문제 66. Considering a (w,h,3) image of (dtype=ubyte), compute the number of unique colors (★★☆)\n",
    "힌트: `np.unique`"
   ]
  },
  {
   "cell_type": "code",
   "execution_count": null,
   "id": "4ca276e5",
   "metadata": {},
   "outputs": [],
   "source": [
    "# 코드를 작성하라.\n"
   ]
  },
  {
   "cell_type": "markdown",
   "id": "c6cf18be",
   "metadata": {},
   "source": [
    "**문제 67. Considering a four dimensions array, how to get sum over the last two axis at once? (★★★)\n",
    "힌트: `sum(axis=(-2,-1))`"
   ]
  },
  {
   "cell_type": "code",
   "execution_count": null,
   "id": "c20ee938",
   "metadata": {},
   "outputs": [],
   "source": [
    "# 코드를 작성하라.\n"
   ]
  },
  {
   "cell_type": "markdown",
   "id": "695e1a37",
   "metadata": {},
   "source": [
    "**문제 68. Considering a one-dimensional vector D, how to compute means of subsets of D using a vector S of same size describing subset  indices? (★★★)\n",
    "힌트: `np.bincount`"
   ]
  },
  {
   "cell_type": "code",
   "execution_count": null,
   "id": "1b784b55",
   "metadata": {},
   "outputs": [],
   "source": [
    "# 코드를 작성하라.\n"
   ]
  },
  {
   "cell_type": "markdown",
   "id": "0e55f8cb",
   "metadata": {},
   "source": [
    "**문제 69. How to get the diagonal of a dot product? (★★★)\n",
    "힌트: `np.diag`"
   ]
  },
  {
   "cell_type": "code",
   "execution_count": null,
   "id": "70c0aab1",
   "metadata": {},
   "outputs": [],
   "source": [
    "# 코드를 작성하라.\n"
   ]
  },
  {
   "cell_type": "markdown",
   "id": "1951cceb",
   "metadata": {},
   "source": [
    "**문제 70. Consider the vector [1, 2, 3, 4, 5], how to build a new vector with 3 consecutive zeros interleaved between each value? (★★★)\n",
    "힌트: `array[::4]`"
   ]
  },
  {
   "cell_type": "code",
   "execution_count": null,
   "id": "226dfab1",
   "metadata": {},
   "outputs": [],
   "source": [
    "# 코드를 작성하라.\n"
   ]
  },
  {
   "cell_type": "markdown",
   "id": "4730dfc3",
   "metadata": {},
   "source": [
    "**문제 71. Consider an array of dimension (5,5,3), how to mulitply it by an array with dimensions (5,5)? (★★★)\n",
    "힌트: `array[:, :, None]`"
   ]
  },
  {
   "cell_type": "code",
   "execution_count": null,
   "id": "a9abe764",
   "metadata": {},
   "outputs": [],
   "source": [
    "# 코드를 작성하라.\n"
   ]
  },
  {
   "cell_type": "markdown",
   "id": "1e6b5903",
   "metadata": {},
   "source": [
    "**문제 72. How to swap two rows of an array? (★★★)\n",
    "힌트: `array[[]] = array[[]]`"
   ]
  },
  {
   "cell_type": "code",
   "execution_count": null,
   "id": "2ae836ab",
   "metadata": {},
   "outputs": [],
   "source": [
    "# 코드를 작성하라.\n"
   ]
  },
  {
   "cell_type": "markdown",
   "id": "4dc01c5e",
   "metadata": {},
   "source": [
    "**문제 73. Consider a set of 10 triplets describing 10 triangles (with shared vertices), find the set of unique line segments composing all the  triangles (★★★)\n",
    "힌트: `repeat, np.roll, np.sort, view, np.unique`"
   ]
  },
  {
   "cell_type": "code",
   "execution_count": null,
   "id": "17732e8a",
   "metadata": {},
   "outputs": [],
   "source": [
    "# 코드를 작성하라.\n"
   ]
  },
  {
   "cell_type": "markdown",
   "id": "048d2b63",
   "metadata": {},
   "source": [
    "**문제 74. Given a sorted array C that corresponds to a bincount, how to produce an array A such that np.bincount(A) == C? (★★★)\n",
    "힌트: `np.repeat`"
   ]
  },
  {
   "cell_type": "code",
   "execution_count": null,
   "id": "59fce41f",
   "metadata": {},
   "outputs": [],
   "source": [
    "# 코드를 작성하라.\n"
   ]
  },
  {
   "cell_type": "markdown",
   "id": "99b6cf36",
   "metadata": {},
   "source": [
    "**문제 75. How to compute averages using a sliding window over an array? (★★★)\n",
    "힌트: `np.cumsum, from numpy.lib.stride_tricks import sliding_window_view (np>=1.20.0)`"
   ]
  },
  {
   "cell_type": "code",
   "execution_count": null,
   "id": "29a0230b",
   "metadata": {},
   "outputs": [],
   "source": [
    "# 코드를 작성하라.\n"
   ]
  },
  {
   "cell_type": "markdown",
   "id": "2fc06904",
   "metadata": {},
   "source": [
    "**문제 76. Consider a one-dimensional array Z, build a two-dimensional array whose first row is (Z[0],Z[1],Z[2]) and each subsequent row is  shifted by 1 (last row should be (Z[-3],Z[-2],Z[-1]) (★★★)\n",
    "힌트: `from numpy.lib import stride_tricks, from numpy.lib.stride_tricks import sliding_window_view (np>=1.20.0)`"
   ]
  },
  {
   "cell_type": "code",
   "execution_count": null,
   "id": "269465d0",
   "metadata": {},
   "outputs": [],
   "source": [
    "# 코드를 작성하라.\n"
   ]
  },
  {
   "cell_type": "markdown",
   "id": "ea540b9a",
   "metadata": {},
   "source": [
    "**문제 77. How to negate a boolean, or to change the sign of a float inplace? (★★★)\n",
    "힌트: `np.logical_not, np.negative`"
   ]
  },
  {
   "cell_type": "code",
   "execution_count": null,
   "id": "f03b024d",
   "metadata": {},
   "outputs": [],
   "source": [
    "# 코드를 작성하라.\n"
   ]
  },
  {
   "cell_type": "markdown",
   "id": "91e45dca",
   "metadata": {},
   "source": [
    "**문제 78. Consider 2 sets of points P0,P1 describing lines (2d) and a point p, how to compute distance from p to each line i (P0[i],P1[i])? (★★★)\n",
    "`No hints provided...`"
   ]
  },
  {
   "cell_type": "code",
   "execution_count": null,
   "id": "88ad9a70",
   "metadata": {},
   "outputs": [],
   "source": [
    "# 코드를 작성하라.\n"
   ]
  },
  {
   "cell_type": "markdown",
   "id": "a28f8806",
   "metadata": {},
   "source": [
    "**문제 79. Consider 2 sets of points P0,P1 describing lines (2d) and a set of points P, how to compute distance from each point j (P[j]) to each line i (P0[i],P1[i])? (★★★)\n",
    "`No hints provided...`"
   ]
  },
  {
   "cell_type": "code",
   "execution_count": null,
   "id": "e1e6a4de",
   "metadata": {},
   "outputs": [],
   "source": [
    "# 코드를 작성하라.\n"
   ]
  },
  {
   "cell_type": "markdown",
   "id": "129397fc",
   "metadata": {},
   "source": [
    "**문제 80. Consider an arbitrary array, write a function that extract a subpart with a fixed shape and centered on a given element (pad with a `fill` value when necessary) (★★★)\n",
    "힌트: `minimum maximum`"
   ]
  },
  {
   "cell_type": "code",
   "execution_count": null,
   "id": "4b9125b2",
   "metadata": {},
   "outputs": [],
   "source": [
    "# 코드를 작성하라.\n"
   ]
  },
  {
   "cell_type": "markdown",
   "id": "88ac6c4b",
   "metadata": {},
   "source": [
    "**문제 81. Consider an array Z = [1,2,3,4,5,6,7,8,9,10,11,12,13,14], how to generate an array R = [[1,2,3,4], [2,3,4,5], [3,4,5,6], ..., [11,12,13,14]]? (★★★)\n",
    "힌트: `stride_tricks.as_strided, from numpy.lib.stride_tricks import sliding_window_view (np>=1.20.0)`"
   ]
  },
  {
   "cell_type": "code",
   "execution_count": null,
   "id": "01ef3851",
   "metadata": {},
   "outputs": [],
   "source": [
    "# 코드를 작성하라.\n"
   ]
  },
  {
   "cell_type": "markdown",
   "id": "4546471b",
   "metadata": {},
   "source": [
    "**문제 82. Compute a matrix rank (★★★)\n",
    "힌트: `np.linalg.svd, np.linalg.matrix_rank`"
   ]
  },
  {
   "cell_type": "code",
   "execution_count": null,
   "id": "ca46868d",
   "metadata": {},
   "outputs": [],
   "source": [
    "# 코드를 작성하라.\n"
   ]
  },
  {
   "cell_type": "markdown",
   "id": "a2eb0c1f",
   "metadata": {},
   "source": [
    "**문제 83. How to find the most frequent value in an array?\n",
    "힌트: `np.bincount, argmax`"
   ]
  },
  {
   "cell_type": "code",
   "execution_count": null,
   "id": "e71c9146",
   "metadata": {},
   "outputs": [],
   "source": [
    "# 코드를 작성하라.\n"
   ]
  },
  {
   "cell_type": "markdown",
   "id": "0b1ee21f",
   "metadata": {},
   "source": [
    "**문제 84. Extract all the contiguous 3x3 blocks from a random 10x10 matrix (★★★)\n",
    "힌트: `stride_tricks.as_strided, from numpy.lib.stride_tricks import sliding_window_view (np>=1.20.0)`"
   ]
  },
  {
   "cell_type": "code",
   "execution_count": null,
   "id": "ebe40914",
   "metadata": {},
   "outputs": [],
   "source": [
    "# 코드를 작성하라.\n"
   ]
  },
  {
   "cell_type": "markdown",
   "id": "a0c19e01",
   "metadata": {},
   "source": [
    "**문제 85. Create a 2D array subclass such that Z[i,j] == Z[j,i] (★★★)\n",
    "힌트: `class method`"
   ]
  },
  {
   "cell_type": "code",
   "execution_count": null,
   "id": "7114b1d4",
   "metadata": {},
   "outputs": [],
   "source": [
    "# 코드를 작성하라.\n"
   ]
  },
  {
   "cell_type": "markdown",
   "id": "24f94280",
   "metadata": {},
   "source": [
    "**문제 86. Consider a set of p matrices wich shape (n,n) and a set of p vectors with shape (n,1). How to compute the sum of of the p matrix products at once? (result has shape (n,1)) (★★★)\n",
    "힌트: `np.tensordot`"
   ]
  },
  {
   "cell_type": "code",
   "execution_count": null,
   "id": "e61d8b2d",
   "metadata": {},
   "outputs": [],
   "source": [
    "# 코드를 작성하라.\n"
   ]
  },
  {
   "cell_type": "markdown",
   "id": "3837d46e",
   "metadata": {},
   "source": [
    "**문제 87. Consider a 16x16 array, how to get the block-sum (block size is 4x4)? (★★★)\n",
    "힌트: `np.add.reduceat, from numpy.lib.stride_tricks import sliding_window_view (np>=1.20.0)`"
   ]
  },
  {
   "cell_type": "code",
   "execution_count": null,
   "id": "5a417da0",
   "metadata": {},
   "outputs": [],
   "source": [
    "# 코드를 작성하라.\n"
   ]
  },
  {
   "cell_type": "markdown",
   "id": "66589d81",
   "metadata": {},
   "source": [
    "**문제 88. How to implement the Game of Life using numpy arrays? (★★★)\n",
    "`No hints provided...`"
   ]
  },
  {
   "cell_type": "code",
   "execution_count": null,
   "id": "5d24322e",
   "metadata": {},
   "outputs": [],
   "source": [
    "# 코드를 작성하라.\n"
   ]
  },
  {
   "cell_type": "markdown",
   "id": "8cb1dbb6",
   "metadata": {},
   "source": [
    "**문제 89. How to get the n largest values of an array (★★★)\n",
    "힌트: `np.argsort | np.argpartition`"
   ]
  },
  {
   "cell_type": "code",
   "execution_count": null,
   "id": "f7151734",
   "metadata": {},
   "outputs": [],
   "source": [
    "# 코드를 작성하라.\n"
   ]
  },
  {
   "cell_type": "markdown",
   "id": "52ea2773",
   "metadata": {},
   "source": [
    "**문제 90. Given an arbitrary number of vectors, build the cartesian product (every combinations of every item) (★★★)\n",
    "힌트: `np.indices`"
   ]
  },
  {
   "cell_type": "code",
   "execution_count": null,
   "id": "bbed6fd6",
   "metadata": {},
   "outputs": [],
   "source": [
    "# 코드를 작성하라.\n"
   ]
  },
  {
   "cell_type": "markdown",
   "id": "ea79aa9d",
   "metadata": {},
   "source": [
    "**문제 91. How to create a record array from a regular array? (★★★)\n",
    "힌트: `np.core.records.fromarrays`"
   ]
  },
  {
   "cell_type": "code",
   "execution_count": null,
   "id": "b3287f33",
   "metadata": {},
   "outputs": [],
   "source": [
    "# 코드를 작성하라.\n"
   ]
  },
  {
   "cell_type": "markdown",
   "id": "51fd4e30",
   "metadata": {},
   "source": [
    "**문제 92. Consider a large vector Z, compute Z to the power of 3 using 3 different methods (★★★)\n",
    "힌트: `np.power, *, np.einsum`"
   ]
  },
  {
   "cell_type": "code",
   "execution_count": null,
   "id": "615e95e1",
   "metadata": {},
   "outputs": [],
   "source": [
    "# 코드를 작성하라.\n"
   ]
  },
  {
   "cell_type": "markdown",
   "id": "671ebc4c",
   "metadata": {},
   "source": [
    "**문제 93. Consider two arrays A and B of shape (8,3) and (2,2). How to find rows of A that contain elements of each row of B regardless of the order of the elements in B? (★★★)\n",
    "힌트: `np.where`"
   ]
  },
  {
   "cell_type": "code",
   "execution_count": null,
   "id": "58ac2cbc",
   "metadata": {},
   "outputs": [],
   "source": [
    "# 코드를 작성하라.\n"
   ]
  },
  {
   "cell_type": "markdown",
   "id": "1e2638c6",
   "metadata": {},
   "source": [
    "**문제 94. Considering a 10x3 matrix, extract rows with unequal values (e.g. [2,2,3]) (★★★)\n",
    "`No hints provided...`"
   ]
  },
  {
   "cell_type": "code",
   "execution_count": null,
   "id": "62c4ebc3",
   "metadata": {},
   "outputs": [],
   "source": [
    "# 코드를 작성하라.\n"
   ]
  },
  {
   "cell_type": "markdown",
   "id": "c06ea78e",
   "metadata": {},
   "source": [
    "**문제 95. Convert a vector of ints into a matrix binary representation (★★★)\n",
    "힌트: `np.unpackbits`"
   ]
  },
  {
   "cell_type": "code",
   "execution_count": null,
   "id": "3b457409",
   "metadata": {},
   "outputs": [],
   "source": [
    "# 코드를 작성하라.\n"
   ]
  },
  {
   "cell_type": "markdown",
   "id": "137ea188",
   "metadata": {},
   "source": [
    "**문제 96. Given a two dimensional array, how to extract unique rows? (★★★)\n",
    "힌트: `np.ascontiguousarray | np.unique`"
   ]
  },
  {
   "cell_type": "code",
   "execution_count": null,
   "id": "3a2fefc9",
   "metadata": {},
   "outputs": [],
   "source": [
    "# 코드를 작성하라.\n"
   ]
  },
  {
   "cell_type": "markdown",
   "id": "ca54d524",
   "metadata": {},
   "source": [
    "**문제 97. Considering 2 vectors A & B, write the einsum equivalent of inner, outer, sum, and mul function (★★★)\n",
    "힌트: `np.einsum`"
   ]
  },
  {
   "cell_type": "code",
   "execution_count": null,
   "id": "0b24c976",
   "metadata": {},
   "outputs": [],
   "source": [
    "# 코드를 작성하라.\n"
   ]
  },
  {
   "cell_type": "markdown",
   "id": "d70a635e",
   "metadata": {},
   "source": [
    "**문제 98. Considering a path described by two vectors (X,Y), how to sample it using equidistant samples (★★★)?\n",
    "힌트: `np.cumsum, np.interp`"
   ]
  },
  {
   "cell_type": "code",
   "execution_count": null,
   "id": "daa85d1c",
   "metadata": {},
   "outputs": [],
   "source": [
    "# 코드를 작성하라.\n"
   ]
  },
  {
   "cell_type": "markdown",
   "id": "44c21612",
   "metadata": {},
   "source": [
    "**문제 99. Given an integer n and a 2D array X, select from X the rows which can be interpreted as draws from a multinomial distribution with n degrees, i.e., the rows which only contain integers and which sum to n. (★★★)\n",
    "힌트: `np.logical_and.reduce, np.mod`"
   ]
  },
  {
   "cell_type": "code",
   "execution_count": null,
   "id": "3eacf9a3",
   "metadata": {},
   "outputs": [],
   "source": [
    "# 코드를 작성하라.\n"
   ]
  },
  {
   "cell_type": "markdown",
   "id": "7b8d106d",
   "metadata": {},
   "source": [
    "**문제 100. Compute bootstrapped 95% confidence intervals for the mean of a 1D array X (i.e., resample the elements of an array with replacement N times, compute the mean of each sample, and then compute percentiles over the means). (★★★)\n",
    "힌트: `np.percentile`"
   ]
  },
  {
   "cell_type": "code",
   "execution_count": null,
   "id": "0c8a8028",
   "metadata": {},
   "outputs": [],
   "source": [
    "# 코드를 작성하라.\n"
   ]
  }
 ],
 "metadata": {
  "jupytext": {
   "cell_metadata_filter": "-all",
   "notebook_metadata_filter": "-all",
   "text_representation": {
    "extension": ".md",
    "format_name": "markdown"
   }
  },
  "kernelspec": {
   "display_name": "Python 3 (ipykernel)",
   "language": "python",
   "name": "python3"
  },
  "language_info": {
   "codemirror_mode": {
    "name": "ipython",
    "version": 3
   },
   "file_extension": ".py",
   "mimetype": "text/x-python",
   "name": "python",
   "nbconvert_exporter": "python",
   "pygments_lexer": "ipython3",
   "version": "3.9.7"
  }
 },
 "nbformat": 4,
 "nbformat_minor": 5
}

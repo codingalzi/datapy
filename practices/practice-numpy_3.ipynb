{
 "cells": [
  {
   "cell_type": "markdown",
   "metadata": {},
   "source": [
    "# (실습) 어레이 중심 프로그래밍"
   ]
  },
  {
   "cell_type": "code",
   "execution_count": 1,
   "metadata": {
    "id": "J71Fcvihxzi9"
   },
   "outputs": [],
   "source": [
    "import numpy as np\n",
    "import matplotlib.pyplot as plt"
   ]
  },
  {
   "cell_type": "markdown",
   "metadata": {},
   "source": [
    "**문제 1**"
   ]
  },
  {
   "cell_type": "markdown",
   "metadata": {},
   "source": [
    "길이가 같은 두 개의 랜덤 벡터 `A`, `B`가 다음과 같이 주어졌다."
   ]
  },
  {
   "cell_type": "code",
   "execution_count": 2,
   "metadata": {},
   "outputs": [
    {
     "data": {
      "text/plain": [
       "array([1, 0, 1, 1, 0])"
      ]
     },
     "execution_count": 2,
     "metadata": {},
     "output_type": "execute_result"
    }
   ],
   "source": [
    "A = np.random.randint(0,2,5)\n",
    "A"
   ]
  },
  {
   "cell_type": "code",
   "execution_count": 3,
   "metadata": {},
   "outputs": [
    {
     "data": {
      "text/plain": [
       "array([0, 1, 0, 0, 1])"
      ]
     },
     "execution_count": 3,
     "metadata": {},
     "output_type": "execute_result"
    }
   ],
   "source": [
    "B = np.random.randint(0,2,5)\n",
    "B"
   ]
  },
  {
   "cell_type": "markdown",
   "metadata": {},
   "source": [
    "(1) 두 벡터의 모든 항목이 동일한지 여부를 판단하라.\n",
    "단, `all()` 메서드를 이용한다."
   ]
  },
  {
   "cell_type": "code",
   "execution_count": 4,
   "metadata": {},
   "outputs": [],
   "source": [
    "Z = (A == B).all()"
   ]
  },
  {
   "cell_type": "markdown",
   "metadata": {},
   "source": [
    "아래 코드는 수정하지 마세요!!!"
   ]
  },
  {
   "cell_type": "code",
   "execution_count": 5,
   "metadata": {},
   "outputs": [],
   "source": [
    "Y = ((A==B).sum() == len(A))\n",
    "assert Z == Y"
   ]
  },
  {
   "cell_type": "markdown",
   "metadata": {},
   "source": [
    "(2) 최소 한 개 이상의 항목이 동일한 인덱스에 위치하는지 여부를 판단하라.\n",
    "단, `any()` 메서드를 이용한다."
   ]
  },
  {
   "cell_type": "code",
   "execution_count": 6,
   "metadata": {},
   "outputs": [],
   "source": [
    "Z = (A == B).any()"
   ]
  },
  {
   "cell_type": "markdown",
   "metadata": {},
   "source": [
    "아래 코드는 수정하지 마세요!!!"
   ]
  },
  {
   "cell_type": "code",
   "execution_count": 7,
   "metadata": {},
   "outputs": [],
   "source": [
    "Y = ((A==B).sum() > 0)\n",
    "assert Z == Y"
   ]
  },
  {
   "cell_type": "markdown",
   "metadata": {},
   "source": [
    "**문제 2**"
   ]
  },
  {
   "cell_type": "markdown",
   "metadata": {},
   "source": [
    "`np.random.rand()` 함수는 `[0, 1)` 구간에서 균등 분포를 \n",
    "따르는 부동소수점을 무작위로 선택하여 지정된 모양의 어레이를 생성한다."
   ]
  },
  {
   "cell_type": "code",
   "execution_count": 8,
   "metadata": {
    "colab": {
     "base_uri": "https://localhost:8080/"
    },
    "id": "3y-9_C7cfMnc",
    "outputId": "4a6ee8f3-f274-48fc-a9f9-1fa558133ff2"
   },
   "outputs": [
    {
     "data": {
      "text/plain": [
       "array([[0.19192539, 0.12728211],\n",
       "       [0.58281035, 0.70862139],\n",
       "       [0.12670719, 0.28643565],\n",
       "       [0.31996388, 0.86262623],\n",
       "       [0.79746522, 0.96836856],\n",
       "       [0.84253928, 0.18091502],\n",
       "       [0.14781629, 0.22615115],\n",
       "       [0.61665194, 0.54989182],\n",
       "       [0.40844947, 0.23547373],\n",
       "       [0.94829807, 0.72810424]])"
      ]
     },
     "execution_count": 8,
     "metadata": {},
     "output_type": "execute_result"
    }
   ],
   "source": [
    "Z = np.random.rand(10, 2)\n",
    "Z"
   ]
  },
  {
   "cell_type": "markdown",
   "metadata": {},
   "source": [
    "변수 `Z`가 가리키는 벡터의 항목 중에서 열별 최댓값을 -1로 대체하라.\n",
    "\n",
    "힌트: `argmax()` 어레이 메서드"
   ]
  },
  {
   "cell_type": "code",
   "execution_count": 9,
   "metadata": {
    "colab": {
     "base_uri": "https://localhost:8080/"
    },
    "id": "3y-9_C7cfMnc",
    "outputId": "4a6ee8f3-f274-48fc-a9f9-1fa558133ff2"
   },
   "outputs": [],
   "source": [
    "Z[Z.argmax(axis=0)] = -1"
   ]
  },
  {
   "cell_type": "markdown",
   "metadata": {},
   "source": [
    "아래 코드는 수정하지 마세요!!!"
   ]
  },
  {
   "cell_type": "code",
   "execution_count": 10,
   "metadata": {},
   "outputs": [],
   "source": [
    "assert (Z.min(axis=0)==-1).all()"
   ]
  },
  {
   "cell_type": "markdown",
   "metadata": {},
   "source": [
    "**문제 3**"
   ]
  },
  {
   "cell_type": "markdown",
   "metadata": {},
   "source": [
    "`np.random.uniform()` 함수는 지정된 구간에서 지정된 개수의 부동소수점을 균등 분포를 따르면서 무작위로 선택해서\n",
    "1차원 어레이를 생성한다. "
   ]
  },
  {
   "cell_type": "code",
   "execution_count": 11,
   "metadata": {},
   "outputs": [
    {
     "data": {
      "text/plain": [
       "array([0.77132064, 0.02075195, 0.63364823, 0.74880388, 0.49850701,\n",
       "       0.22479665, 0.19806286, 0.76053071, 0.16911084, 0.08833981])"
      ]
     },
     "execution_count": 11,
     "metadata": {},
     "output_type": "execute_result"
    }
   ],
   "source": [
    "np.random.seed(10)\n",
    "\n",
    "Z = np.random.uniform(0, 1, 10)\n",
    "Z"
   ]
  },
  {
   "cell_type": "markdown",
   "metadata": {},
   "source": [
    "변수 `Z`가 가리키는 어레이에 포함된 항목 중에서 항목들의 평균값에 가장 가까운 값을 \n",
    "`min_mean` 변수가 가리키도록 하라.\n",
    "단, `argimin()` 메서드와 `np.abs()` 함수를 이용한다."
   ]
  },
  {
   "cell_type": "code",
   "execution_count": 12,
   "metadata": {},
   "outputs": [],
   "source": [
    "z = Z.mean()\n",
    "min_mean = Z[np.abs(Z - z).argmin()] "
   ]
  },
  {
   "cell_type": "markdown",
   "metadata": {},
   "source": [
    "아래 코드는 수정하지 마세요!!!"
   ]
  },
  {
   "cell_type": "code",
   "execution_count": 13,
   "metadata": {},
   "outputs": [],
   "source": [
    "assert round(min_mean, 3) == 0.499"
   ]
  },
  {
   "cell_type": "markdown",
   "metadata": {},
   "source": [
    "**문제 4**"
   ]
  },
  {
   "cell_type": "markdown",
   "metadata": {},
   "source": [
    "2차원 어레이가 다음가 같이 주어졌다."
   ]
  },
  {
   "cell_type": "code",
   "execution_count": 14,
   "metadata": {
    "colab": {
     "base_uri": "https://localhost:8080/"
    },
    "id": "3y-9_C7cfMnc",
    "outputId": "4a6ee8f3-f274-48fc-a9f9-1fa558133ff2"
   },
   "outputs": [
    {
     "data": {
      "text/plain": [
       "array([[0.68535982, 0.95339335],\n",
       "       [0.00394827, 0.51219226],\n",
       "       [0.81262096, 0.61252607],\n",
       "       [0.72175532, 0.29187607],\n",
       "       [0.91777412, 0.71457578],\n",
       "       [0.54254437, 0.14217005],\n",
       "       [0.37334076, 0.67413362],\n",
       "       [0.44183317, 0.43401399],\n",
       "       [0.61776698, 0.51313824],\n",
       "       [0.65039718, 0.60103895]])"
      ]
     },
     "execution_count": 14,
     "metadata": {},
     "output_type": "execute_result"
    }
   ],
   "source": [
    "Z = np.random.rand(10, 2)\n",
    "Z"
   ]
  },
  {
   "cell_type": "markdown",
   "metadata": {},
   "source": [
    "변수 `Z`가 가리키는 어레이를 정규화 하라.\n",
    "즉, 항목들의 평균은 0, 표준편차는 1이 되도록 한다.\n",
    "단, `mean()`과 `std()` 메서드를 이용한다."
   ]
  },
  {
   "cell_type": "code",
   "execution_count": 15,
   "metadata": {
    "colab": {
     "base_uri": "https://localhost:8080/"
    },
    "id": "qMnshZ5lU-Iy",
    "outputId": "7857e7bf-f321-4a9e-db60-d5f0538cfbfc"
   },
   "outputs": [],
   "source": [
    "Z = (Z - Z.mean()) / (Z.std())"
   ]
  },
  {
   "cell_type": "markdown",
   "metadata": {},
   "source": [
    "아래 코드는 수정하지 마세요!!!"
   ]
  },
  {
   "cell_type": "code",
   "execution_count": 16,
   "metadata": {},
   "outputs": [],
   "source": [
    "assert round(Z.mean(), 1) == 0.0\n",
    "assert round(Z.std(), 1) == 1.0"
   ]
  },
  {
   "cell_type": "markdown",
   "metadata": {},
   "source": [
    "**텍스트 파일 다운로드 후 활용**"
   ]
  },
  {
   "cell_type": "markdown",
   "metadata": {},
   "source": [
    "`data_path`가 가리키는 인터넷 주소에 아래 내용의 파일이 저장되어 있다.\n",
    "\n",
    "```python\n",
    "1,  2,  3,  4,  5\n",
    "6,  7,  8,  9, 10\n",
    "11, 12, 13, 14, 15\n",
    "```"
   ]
  },
  {
   "cell_type": "code",
   "execution_count": 17,
   "metadata": {},
   "outputs": [],
   "source": [
    "data_path = \"https://raw.githubusercontent.com/codingalzi/datapy/master/practices/data/exc_data_import.txt\""
   ]
  },
  {
   "cell_type": "markdown",
   "metadata": {},
   "source": [
    "**문제 5**"
   ]
  },
  {
   "cell_type": "markdown",
   "metadata": {},
   "source": [
    "위 파일을 불러와 아래 모양의 2차원 어레이를 생성하라.\n",
    "\n",
    "힌트: `np.genfromtxt()` 함수와 `delimiter` 키워드 매개변수"
   ]
  },
  {
   "cell_type": "markdown",
   "metadata": {},
   "source": [
    "```python\n",
    "array([[ 1,  2,  3,  4,  5],\n",
    "       [ 6,  7,  8,  9, 10],\n",
    "       [11, 12, 13, 14, 15]])\n",
    "```"
   ]
  },
  {
   "cell_type": "code",
   "execution_count": 18,
   "metadata": {},
   "outputs": [],
   "source": [
    "Z = np.genfromtxt(data_path, delimiter=',', dtype=np.int32)"
   ]
  },
  {
   "cell_type": "markdown",
   "metadata": {},
   "source": [
    "아래 코드는 수정하지 마세요!!!"
   ]
  },
  {
   "cell_type": "code",
   "execution_count": 19,
   "metadata": {},
   "outputs": [],
   "source": [
    "assert (Z == np.array([[ 1,  2,  3,  4,  5],\n",
    "                        [ 6,  7,  8,  9, 10],\n",
    "                        [11, 12, 13, 14, 15]])).all()"
   ]
  },
  {
   "cell_type": "markdown",
   "metadata": {},
   "source": [
    "**문제 6**"
   ]
  },
  {
   "cell_type": "markdown",
   "metadata": {},
   "source": [
    "`Z`에 `np.divmod()` 함수를 적용하라. 단 7로 나눈 몫과 나머지로 이루어진 어레이를 생성해야 한다."
   ]
  },
  {
   "cell_type": "code",
   "execution_count": 20,
   "metadata": {},
   "outputs": [],
   "source": [
    "Zmod = np.divmod(Z, 7)"
   ]
  },
  {
   "cell_type": "markdown",
   "metadata": {},
   "source": [
    "아래 코드는 수정하지 마세요!!!"
   ]
  },
  {
   "cell_type": "code",
   "execution_count": 21,
   "metadata": {},
   "outputs": [],
   "source": [
    "assert (Zmod[0] == np.array([[0, 0, 0, 0, 0],\n",
    "                              [0, 1, 1, 1, 1],\n",
    "                              [1, 1, 1, 2, 2]])).all()\n",
    "\n",
    "assert (Zmod[1] == np.array([[1, 2, 3, 4, 5],\n",
    "                              [6, 0, 1, 2, 3],\n",
    "                              [4, 5, 6, 0, 1]])).all()"
   ]
  },
  {
   "cell_type": "markdown",
   "metadata": {},
   "source": [
    "**문제 7**"
   ]
  },
  {
   "cell_type": "markdown",
   "metadata": {},
   "source": [
    "변수 `Z`가 가리키는 어레이에 7로 나누어 떨어지는 항목은 몇 개인지 확인하라.\n",
    "단, `Zmod`와 `sum()` 메서드를 이용한다."
   ]
  },
  {
   "cell_type": "code",
   "execution_count": 22,
   "metadata": {},
   "outputs": [],
   "source": [
    "n_mod7_0 = (Zmod[1] == 0).sum()"
   ]
  },
  {
   "cell_type": "markdown",
   "metadata": {},
   "source": [
    "아래 코드는 수정하지 마세요!!!"
   ]
  },
  {
   "cell_type": "code",
   "execution_count": 23,
   "metadata": {},
   "outputs": [],
   "source": [
    "assert n_mod7_0 == 2"
   ]
  },
  {
   "cell_type": "markdown",
   "metadata": {},
   "source": [
    "**문제 8**"
   ]
  },
  {
   "cell_type": "markdown",
   "metadata": {},
   "source": [
    "변수 `Z`가 가리키는 어레이에 7로 나눴을 때 나머지가 3인 항목만으로 이루어진 1차원 어레이를 생성하라.\n",
    "단, `Z_mod`와 부울 인덱싱을 활용한다."
   ]
  },
  {
   "cell_type": "code",
   "execution_count": 24,
   "metadata": {},
   "outputs": [],
   "source": [
    "n_mod7_3 = Z[Zmod[1] == 3]"
   ]
  },
  {
   "cell_type": "markdown",
   "metadata": {},
   "source": [
    "아래 코드는 수정하지 마세요!!!"
   ]
  },
  {
   "cell_type": "code",
   "execution_count": 25,
   "metadata": {},
   "outputs": [],
   "source": [
    "assert (n_mod7_3 == np.array([ 3, 10])).all()"
   ]
  }
 ],
 "metadata": {
  "colab": {
   "provenance": []
  },
  "kernelspec": {
   "display_name": "Python 3 (ipykernel)",
   "language": "python",
   "name": "python3"
  },
  "language_info": {
   "codemirror_mode": {
    "name": "ipython",
    "version": 3
   },
   "file_extension": ".py",
   "mimetype": "text/x-python",
   "name": "python",
   "nbconvert_exporter": "python",
   "pygments_lexer": "ipython3",
   "version": "3.9.13"
  },
  "vscode": {
   "interpreter": {
    "hash": "ad0f3c8a064f687cbf898a0868fd45ba1c7e928ac8a0404f7c241d812ddc1e76"
   }
  }
 },
 "nbformat": 4,
 "nbformat_minor": 1
}

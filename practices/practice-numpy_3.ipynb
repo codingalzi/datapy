{
 "cells": [
  {
   "cell_type": "markdown",
   "metadata": {},
   "source": [
    "# (실습) 어레이 중심 프로그래밍"
   ]
  },
  {
   "cell_type": "code",
   "execution_count": 1,
   "metadata": {
    "id": "J71Fcvihxzi9"
   },
   "outputs": [],
   "source": [
    "import numpy as np"
   ]
  },
  {
   "cell_type": "markdown",
   "metadata": {},
   "source": [
    "**문제: all(), any() 메서드**"
   ]
  },
  {
   "cell_type": "markdown",
   "metadata": {},
   "source": [
    "길이가 같은 두 개의 랜덤 벡터 `A`, `B`가 다음과 같이 주어졌다."
   ]
  },
  {
   "cell_type": "code",
   "execution_count": null,
   "metadata": {},
   "outputs": [],
   "source": [
    "A = np.random.randint(0,2,5)\n",
    "A"
   ]
  },
  {
   "cell_type": "code",
   "execution_count": null,
   "metadata": {},
   "outputs": [],
   "source": [
    "B = np.random.randint(0,2,5)\n",
    "B"
   ]
  },
  {
   "cell_type": "markdown",
   "metadata": {},
   "source": [
    "두 벡터의 동일여부를 비교하면 항목별로 판단된다."
   ]
  },
  {
   "cell_type": "code",
   "execution_count": null,
   "metadata": {},
   "outputs": [],
   "source": [
    "A == B"
   ]
  },
  {
   "cell_type": "markdown",
   "metadata": {},
   "source": [
    "(1) 두 벡터의 모든 항목이 동일한지 여부를 판단하라.\n",
    "\n",
    "힌트: `all()` 어레이 메서드"
   ]
  },
  {
   "cell_type": "code",
   "execution_count": null,
   "metadata": {},
   "outputs": [],
   "source": [
    "Z = (A == B).all()"
   ]
  },
  {
   "cell_type": "code",
   "execution_count": null,
   "metadata": {},
   "outputs": [],
   "source": [
    "Y = ((A==B).sum() == len(A))\n",
    "assert Z == Y"
   ]
  },
  {
   "cell_type": "markdown",
   "metadata": {},
   "source": [
    "(2) 최소 한 개 이상의 항목이 동일한 인덱스에 위치하는지 여부를 판단하라.\n",
    "\n",
    "힌트: `any()` 메서드"
   ]
  },
  {
   "cell_type": "code",
   "execution_count": null,
   "metadata": {},
   "outputs": [],
   "source": [
    "Z = (A == B).any()"
   ]
  },
  {
   "cell_type": "code",
   "execution_count": null,
   "metadata": {},
   "outputs": [],
   "source": [
    "Y = ((A==B).sum() > 0)\n",
    "assert Z == Y"
   ]
  },
  {
   "cell_type": "markdown",
   "metadata": {},
   "source": [
    "**문제**"
   ]
  },
  {
   "cell_type": "markdown",
   "metadata": {},
   "source": [
    "`np.random.random()` 함수는 `[0, 1)` 구간에서 지정된 개수 만큼의 부동소수점을 \n",
    "임의로 선택하여 벡터를 생성한다."
   ]
  },
  {
   "cell_type": "code",
   "execution_count": 2,
   "metadata": {
    "colab": {
     "base_uri": "https://localhost:8080/"
    },
    "id": "3y-9_C7cfMnc",
    "outputId": "4a6ee8f3-f274-48fc-a9f9-1fa558133ff2"
   },
   "outputs": [],
   "source": [
    "Z = np.random.random(10)"
   ]
  },
  {
   "cell_type": "markdown",
   "metadata": {},
   "source": [
    "변수 `Z`가 가리키는 벡터의 항목 중에서 최댓값을 0으로 대체하라.\n",
    "\n",
    "힌트: `argmax()` 어레이 메서드"
   ]
  },
  {
   "cell_type": "code",
   "execution_count": 5,
   "metadata": {
    "colab": {
     "base_uri": "https://localhost:8080/"
    },
    "id": "3y-9_C7cfMnc",
    "outputId": "4a6ee8f3-f274-48fc-a9f9-1fa558133ff2"
   },
   "outputs": [],
   "source": [
    "Z[Z.argmax()] = 0"
   ]
  },
  {
   "cell_type": "code",
   "execution_count": 6,
   "metadata": {},
   "outputs": [],
   "source": [
    "assert Z.min() == 0"
   ]
  },
  {
   "cell_type": "markdown",
   "metadata": {},
   "source": [
    "## 행렬(2차원 어레이)"
   ]
  },
  {
   "cell_type": "markdown",
   "metadata": {},
   "source": [
    "2차원 어레이를 행렬이라 부른다."
   ]
  },
  {
   "cell_type": "markdown",
   "metadata": {},
   "source": [
    "**문제**"
   ]
  },
  {
   "cell_type": "markdown",
   "metadata": {},
   "source": [
    "앞서 구한 랜덤 행렬을 정규화 하라.\n",
    "즉, 항목들의 평균은 0, 표준편차는 1이 되도록 하라.\n",
    "\n",
    "힌트: `mean()`, `std()` 어레이 메서드"
   ]
  },
  {
   "cell_type": "code",
   "execution_count": null,
   "metadata": {
    "colab": {
     "base_uri": "https://localhost:8080/"
    },
    "id": "qMnshZ5lU-Iy",
    "outputId": "7857e7bf-f321-4a9e-db60-d5f0538cfbfc"
   },
   "outputs": [],
   "source": [
    "Z = (Z - Z.mean()) / (Z.std())"
   ]
  },
  {
   "cell_type": "code",
   "execution_count": null,
   "metadata": {},
   "outputs": [],
   "source": [
    "assert round(Z.mean(), 1) == 0.0"
   ]
  },
  {
   "cell_type": "code",
   "execution_count": null,
   "metadata": {},
   "outputs": [],
   "source": [
    "assert round(Z.std(), 1) == 1.0"
   ]
  },
  {
   "cell_type": "markdown",
   "metadata": {},
   "source": [
    "### 행렬의 곱: `np.dot()` 함수와 `@` 연산자"
   ]
  },
  {
   "cell_type": "markdown",
   "metadata": {},
   "source": [
    "**문제**"
   ]
  },
  {
   "cell_type": "markdown",
   "metadata": {
    "id": "3hW-b5Wb-zBI"
   },
   "source": [
    "(5,3) 모양의 행렬과 (3,2) 모양의 행렬을 곱하는 두 가지 방식을 소개하라.\n",
    "단, 지정된 모양의 행렬은 두 개 모두 `np.ones()` 함수를 이용하여 생성한다.\n",
    "\n",
    "힌트: `np.dot()` 함수, `@` 연산자"
   ]
  },
  {
   "cell_type": "code",
   "execution_count": null,
   "metadata": {
    "colab": {
     "base_uri": "https://localhost:8080/"
    },
    "id": "jBpxA7YRWvK8",
    "outputId": "794db565-6e50-49be-b61c-eb1112da90d3"
   },
   "outputs": [],
   "source": [
    "Z = np.dot(np.ones((5,3)), np.ones((3,2)))"
   ]
  },
  {
   "cell_type": "markdown",
   "metadata": {},
   "source": [
    "또는"
   ]
  },
  {
   "cell_type": "code",
   "execution_count": null,
   "metadata": {
    "colab": {
     "base_uri": "https://localhost:8080/"
    },
    "id": "7wZ8xrs3XSyE",
    "outputId": "2e2dcf97-c749-4a70-f115-1e091268b362"
   },
   "outputs": [],
   "source": [
    "Z = np.ones((5,3)) @ np.ones((3,2))"
   ]
  },
  {
   "cell_type": "code",
   "execution_count": null,
   "metadata": {},
   "outputs": [],
   "source": [
    "assert (Z == np.array([[3., 3.],\n",
    "                       [3., 3.],\n",
    "                       [3., 3.],\n",
    "                       [3., 3.],\n",
    "                       [3., 3.]])).all()"
   ]
  },
  {
   "cell_type": "markdown",
   "metadata": {},
   "source": [
    "## `np.meshgrid()` 함수"
   ]
  },
  {
   "cell_type": "markdown",
   "metadata": {},
   "source": [
    "**문제**"
   ]
  },
  {
   "cell_type": "markdown",
   "metadata": {
    "id": "2kKMj53TflrH"
   },
   "source": [
    "아래 모양의 행렬에 포함된 항목들의 x-좌표와 y-좌표로 이루어진 두 개의 2차원 행렬을 생성하라.\n",
    "\n",
    "힌트: `np.linspace()`, `np.meshgrid()` 함수"
   ]
  },
  {
   "cell_type": "markdown",
   "metadata": {},
   "source": [
    "```python\n",
    "[[(0.  , 0.  ), (0.25, 0.  ), (0.5 , 0.  ), (0.75, 0.  ), (1.  , 0.  )],\n",
    " [(0.  , 0.25), (0.25, 0.25), (0.5 , 0.25), (0.75, 0.25), (1.  , 0.25)],\n",
    " [(0.  , 0.5 ), (0.25, 0.5 ), (0.5 , 0.5 ), (0.75, 0.5 ), (1.  , 0.5 )],\n",
    " [(0.  , 0.75), (0.25, 0.75), (0.5 , 0.75), (0.75, 0.75), (1.  , 0.75)],\n",
    " [(0.  , 1.  ), (0.25, 1.  ), (0.5 , 1.  ), (0.75, 1.  ), (1.  , 1.  )]]\n",
    "```        "
   ]
  },
  {
   "cell_type": "code",
   "execution_count": 16,
   "metadata": {
    "colab": {
     "base_uri": "https://localhost:8080/"
    },
    "id": "W-aLhxnhfj0z",
    "outputId": "16b7723b-ed3b-4125-d9f1-59a89b6eeeb6"
   },
   "outputs": [],
   "source": [
    "Z = np.meshgrid(np.linspace(0,1,5),np.linspace(0,1,5))\n",
    "xs, ys = Z"
   ]
  },
  {
   "cell_type": "code",
   "execution_count": 21,
   "metadata": {},
   "outputs": [],
   "source": [
    "assert (xs == np.array([[0.  , 0.25, 0.5 , 0.75, 1.  ],\n",
    "                        [0.  , 0.25, 0.5 , 0.75, 1.  ],\n",
    "                        [0.  , 0.25, 0.5 , 0.75, 1.  ],\n",
    "                        [0.  , 0.25, 0.5 , 0.75, 1.  ],\n",
    "                        [0.  , 0.25, 0.5 , 0.75, 1.  ]])).all()"
   ]
  },
  {
   "cell_type": "code",
   "execution_count": 23,
   "metadata": {},
   "outputs": [],
   "source": [
    "assert (ys == np.array([[0.  , 0.  , 0.  , 0.  , 0.  ],\n",
    "                        [0.25, 0.25, 0.25, 0.25, 0.25],\n",
    "                        [0.5 , 0.5 , 0.5 , 0.5 , 0.5 ],\n",
    "                        [0.75, 0.75, 0.75, 0.75, 0.75],\n",
    "                        [1.  , 1.  , 1.  , 1.  , 1.  ]])).all()"
   ]
  },
  {
   "cell_type": "code",
   "execution_count": null,
   "metadata": {},
   "outputs": [],
   "source": []
  },
  {
   "cell_type": "code",
   "execution_count": null,
   "metadata": {},
   "outputs": [],
   "source": []
  }
 ],
 "metadata": {
  "colab": {
   "provenance": []
  },
  "kernelspec": {
   "display_name": "Python 3 (ipykernel)",
   "language": "python",
   "name": "python3"
  },
  "language_info": {
   "codemirror_mode": {
    "name": "ipython",
    "version": 3
   },
   "file_extension": ".py",
   "mimetype": "text/x-python",
   "name": "python",
   "nbconvert_exporter": "python",
   "pygments_lexer": "ipython3",
   "version": "3.10.6"
  },
  "vscode": {
   "interpreter": {
    "hash": "ad0f3c8a064f687cbf898a0868fd45ba1c7e928ac8a0404f7c241d812ddc1e76"
   }
  }
 },
 "nbformat": 4,
 "nbformat_minor": 1
}

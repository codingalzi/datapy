{
 "cells": [
  {
   "cell_type": "markdown",
   "id": "97ecff92",
   "metadata": {
    "id": "vN2D9cmLHZ3_"
   },
   "source": [
    "# (실습) 고급 넘파이"
   ]
  },
  {
   "cell_type": "code",
   "execution_count": 18,
   "id": "83c36ad1",
   "metadata": {
    "id": "J71Fcvihxzi9"
   },
   "outputs": [],
   "source": [
    "import numpy as np"
   ]
  },
  {
   "cell_type": "markdown",
   "id": "0dc00b7a",
   "metadata": {},
   "source": [
    "**문제**"
   ]
  },
  {
   "cell_type": "markdown",
   "id": "2f70e989",
   "metadata": {},
   "source": [
    "2차원 어레이 `X`가 다음과 같이 주어졌다."
   ]
  },
  {
   "cell_type": "code",
   "execution_count": 25,
   "id": "1feec4a1",
   "metadata": {},
   "outputs": [],
   "source": [
    "X = np.array([[58, 68, 54, 21, 13, 97, 33],\n",
    "              [60, 49, 12, 88, 50, 43, 99],\n",
    "              [80, 46, 51,  7, 32, 85,  4],\n",
    "              [93, 18, 86, 79, 17, 16, 59],\n",
    "              [88, 88, 62, 98, 86, 45, 33]])"
   ]
  },
  {
   "cell_type": "markdown",
   "id": "5d0f6759",
   "metadata": {},
   "source": [
    "(1) 행렬의 각 행의 평균값으로 이루어진 (5, 1) 모양의 2차원 어레이 `X_mean_1`을 생성하라.\n",
    "단, 소수점 이하는 버리는 `np.int32` dtype을 사용한다.\n",
    "\n",
    "힌트: `mean()` 메서드, `axis`와 `keepdims` 키워드 인자, `astype()` 메서드"
   ]
  },
  {
   "cell_type": "code",
   "execution_count": 26,
   "id": "47f0862b",
   "metadata": {},
   "outputs": [
    {
     "data": {
      "text/plain": [
       "array([[49],\n",
       "       [57],\n",
       "       [43],\n",
       "       [52],\n",
       "       [71]])"
      ]
     },
     "execution_count": 26,
     "metadata": {},
     "output_type": "execute_result"
    }
   ],
   "source": [
    "X_mean_1 = X.mean(axis=1, keepdims=True).astype(np.int32)\n",
    "X_mean_1"
   ]
  },
  {
   "cell_type": "markdown",
   "id": "1b9123ad",
   "metadata": {},
   "source": [
    "(2) X의 항목과 각 행별 평균값의 차이로 이루어진 (5, 7) 모양의 2차원 어레이를 변수 `Z` 가 가리키도록 하라."
   ]
  },
  {
   "cell_type": "code",
   "execution_count": 27,
   "id": "b69c49f5",
   "metadata": {},
   "outputs": [
    {
     "data": {
      "text/plain": [
       "array([[  9,  19,   5, -28, -36,  48, -16],\n",
       "       [  3,  -8, -45,  31,  -7, -14,  42],\n",
       "       [ 37,   3,   8, -36, -11,  42, -39],\n",
       "       [ 41, -34,  34,  27, -35, -36,   7],\n",
       "       [ 17,  17,  -9,  27,  15, -26, -38]])"
      ]
     },
     "execution_count": 27,
     "metadata": {},
     "output_type": "execute_result"
    }
   ],
   "source": [
    "Z = X - X_mean_1\n",
    "Z"
   ]
  },
  {
   "cell_type": "code",
   "execution_count": 30,
   "id": "f3e8c3a2",
   "metadata": {},
   "outputs": [],
   "source": [
    "assert (Z == np.array([[  9,  19,   5, -28, -36,  48, -16],\n",
    "                       [  3,  -8, -45,  31,  -7, -14,  42],\n",
    "                       [ 37,   3,   8, -36, -11,  42, -39],\n",
    "                       [ 41, -34,  34,  27, -35, -36,   7],\n",
    "                       [ 17,  17,  -9,  27,  15, -26, -38]])).all()"
   ]
  },
  {
   "cell_type": "code",
   "execution_count": null,
   "id": "91636a27",
   "metadata": {},
   "outputs": [],
   "source": []
  },
  {
   "cell_type": "code",
   "execution_count": null,
   "id": "602cf215",
   "metadata": {},
   "outputs": [],
   "source": []
  },
  {
   "cell_type": "code",
   "execution_count": null,
   "id": "d41cf785",
   "metadata": {},
   "outputs": [],
   "source": []
  },
  {
   "cell_type": "markdown",
   "id": "dccc250d",
   "metadata": {},
   "source": [
    "**문제**"
   ]
  },
  {
   "cell_type": "markdown",
   "id": "19b30d7f",
   "metadata": {},
   "source": [
    "59.  배열을 n번째 열로 정렬하는 방법"
   ]
  },
  {
   "cell_type": "code",
   "execution_count": null,
   "id": "1dd2382e",
   "metadata": {},
   "outputs": [
    {
     "name": "stdout",
     "output_type": "stream",
     "text": [
      "[[1 4 5]\n",
      " [9 9 2]\n",
      " [7 3 8]]\n",
      "[[7 3 8]\n",
      " [1 4 5]\n",
      " [9 9 2]]\n"
     ]
    }
   ],
   "source": [
    "Z = np.random.randint(0,10,(3,3))\n",
    "\n",
    "print(Z)\n",
    "print(Z[Z[:,1].argsort()]) # 첫번째 열의 수로 행 정렬"
   ]
  },
  {
   "cell_type": "code",
   "execution_count": null,
   "id": "6fc381bb",
   "metadata": {},
   "outputs": [
    {
     "data": {
      "text/plain": [
       "array([2, 0, 1], dtype=int64)"
      ]
     },
     "metadata": {},
     "output_type": "display_data"
    }
   ],
   "source": [
    "Z[:, 1].argsort()"
   ]
  },
  {
   "cell_type": "markdown",
   "id": "0b1b88e5",
   "metadata": {},
   "source": [
    "**문제**"
   ]
  },
  {
   "cell_type": "markdown",
   "id": "e2767d45",
   "metadata": {},
   "source": [
    "89. 배열의 가장 큰 값을 얻는 방법"
   ]
  },
  {
   "cell_type": "code",
   "execution_count": null,
   "id": "f0e78699",
   "metadata": {},
   "outputs": [],
   "source": [
    "Z = np.arange(10000)\n",
    "np.random.shuffle(Z)\n",
    "n = 5"
   ]
  },
  {
   "cell_type": "code",
   "execution_count": null,
   "id": "8e4e0bde",
   "metadata": {},
   "outputs": [
    {
     "name": "stdout",
     "output_type": "stream",
     "text": [
      "[9995 9996 9997 9998 9999]\n"
     ]
    }
   ],
   "source": [
    "print (Z[np.argsort(Z)[-n:]])"
   ]
  },
  {
   "cell_type": "code",
   "execution_count": null,
   "id": "c56d1fe1",
   "metadata": {},
   "outputs": [],
   "source": []
  },
  {
   "cell_type": "code",
   "execution_count": null,
   "id": "cf3ccf43",
   "metadata": {},
   "outputs": [],
   "source": []
  },
  {
   "cell_type": "code",
   "execution_count": null,
   "id": "01b6b9c2",
   "metadata": {},
   "outputs": [],
   "source": []
  },
  {
   "cell_type": "markdown",
   "id": "4523eae0",
   "metadata": {},
   "source": [
    "아래 코드는 인터넷 데이터 저장소로부터 아이리스(붓꽃) 데이터(`iris.data`)를 \n",
    "2차원 넘파이 어레이로 불러온다."
   ]
  },
  {
   "cell_type": "code",
   "execution_count": null,
   "id": "f44d0a1e",
   "metadata": {},
   "outputs": [],
   "source": [
    "import numpy as np\n",
    "\n",
    "# 아이리스(붓꽃) 데이터 불러오기\n",
    "url = 'https://archive.ics.uci.edu/ml/machine-learning-databases/iris/iris.data'\n",
    "iris = np.genfromtxt(url, delimiter=',', dtype='str')"
   ]
  },
  {
   "cell_type": "markdown",
   "id": "4d45917c",
   "metadata": {},
   "source": [
    "`iris.data` 파일에는 아래 형식의 데이터가 150개 들어 있다. \n",
    "\n",
    "```python\n",
    "5.1,3.5,1.4,0.2,Iris-setosa\n",
    "```\n",
    "\n",
    "하나의 데이터에 사용된 값들은 하나의 아이리스(붓꽃)에 대한 꽃잎, 꽃받침과 관련된 특성(features)과 품종을 나타내며,\n",
    "보다 구체적으로 아래 순서를 따른다.\n",
    "\n",
    "```\n",
    "꽃받침 길이, 꽃받침 너비, 꽃잎 길이, 꽃잎 너비, 품종\n",
    "```"
   ]
  },
  {
   "cell_type": "code",
   "execution_count": null,
   "id": "8bb7c2f9",
   "metadata": {},
   "outputs": [],
   "source": [
    "iris.shape"
   ]
  },
  {
   "cell_type": "markdown",
   "id": "c0484899",
   "metadata": {},
   "source": [
    "길이와 너비를 저장하는 특성들은 숫자로 저장되어 있었지만 위 코드는 문자열로 저장된 품종 특성과의 자료형을 통일시키기 위해\n",
    "모두 문자열 자료형으로 불러왔다.\n",
    "처음 5개 데이터를 확인하면 다음과 같다.\n",
    "\n",
    "__참고:__ `'<U15'`는 길이가 최대 15인 유니코드 문자열 자료형을 나타낸다."
   ]
  },
  {
   "cell_type": "code",
   "execution_count": null,
   "id": "3f1f98ba",
   "metadata": {},
   "outputs": [],
   "source": [
    "iris[:5]"
   ]
  },
  {
   "cell_type": "markdown",
   "id": "5bda5d05",
   "metadata": {},
   "source": [
    "수치형 데이터와 품종 데이터를 분리해서 각각 (150,4), (150,) 모양의 어레이를 생성하자.\n",
    "이때 수치형 데이터는 `'f8'`, 즉 `'float64'` 자료형을 사용하도록 한다."
   ]
  },
  {
   "cell_type": "code",
   "execution_count": null,
   "id": "f0a6a0a4",
   "metadata": {},
   "outputs": [],
   "source": [
    "iris_features = iris[:,:4].astype('f8')\n",
    "iris_labels = iris[:, 4]"
   ]
  },
  {
   "cell_type": "code",
   "execution_count": null,
   "id": "ef1b835d",
   "metadata": {},
   "outputs": [],
   "source": [
    "iris_features[:5]"
   ]
  },
  {
   "cell_type": "markdown",
   "id": "51420ffa",
   "metadata": {},
   "source": [
    "150개의 데이터는 아래 세 개의 품종으로 구분되며, 각각 50개씩 아래 언급된 순서대로 구분되어 있다.\n",
    "\n",
    "```\n",
    "'Iris-setosa', 'Iris-versicolor', 'Iris-virginica'\n",
    "```\n",
    "\n",
    "즉, 0번, 50번, 100번부터 각 품종의 데이터가 시작된다."
   ]
  },
  {
   "cell_type": "code",
   "execution_count": null,
   "id": "ec1e3d75",
   "metadata": {},
   "outputs": [],
   "source": [
    "iris_labels[::50]"
   ]
  },
  {
   "cell_type": "code",
   "execution_count": null,
   "id": "2bc9ae96",
   "metadata": {},
   "outputs": [],
   "source": [
    "iris_labels[:5]"
   ]
  },
  {
   "cell_type": "code",
   "execution_count": null,
   "id": "35fa2b46",
   "metadata": {},
   "outputs": [],
   "source": [
    "iris_labels[50:55]"
   ]
  },
  {
   "cell_type": "code",
   "execution_count": null,
   "id": "fd477f1b",
   "metadata": {},
   "outputs": [],
   "source": [
    "iris_labels[100:105]"
   ]
  },
  {
   "cell_type": "markdown",
   "id": "707f09a7",
   "metadata": {},
   "source": [
    "**문제 1**"
   ]
  },
  {
   "cell_type": "markdown",
   "id": "bcca0683",
   "metadata": {},
   "source": [
    "꽃잎 길이(2번 열)가 1.5보다 크거나 꽃받침 길이(0번 열)가 5.0보다 작은 데이터만 추출하라."
   ]
  },
  {
   "cell_type": "code",
   "execution_count": null,
   "id": "9a6320ee",
   "metadata": {},
   "outputs": [],
   "source": [
    "# None을 적절한 부울 표현식으로 대체하라.\n",
    "\n",
    "mask = None\n",
    "iris_features[mask]"
   ]
  },
  {
   "cell_type": "markdown",
   "id": "bc8df63e",
   "metadata": {},
   "source": [
    "**문제 2**"
   ]
  },
  {
   "cell_type": "markdown",
   "id": "41628dd8",
   "metadata": {},
   "source": [
    "꽃받침 길이(0번 열)와 꽃잎 길이(2번 열) 사이의 상관관계를 계산하라.\n",
    "\n",
    "힌트: 넘파이의 적절한 함수를 활용한다. 상관계수에 대한 설명은 [위키백과: 상관분석](https://ko.wikipedia.org/wiki/상관_분석)을 참고한다."
   ]
  },
  {
   "cell_type": "code",
   "execution_count": null,
   "id": "90beda34",
   "metadata": {},
   "outputs": [],
   "source": [
    "# 적절한 넘파이 함수를 호출하라.\n"
   ]
  },
  {
   "cell_type": "markdown",
   "id": "b97ffc00",
   "metadata": {},
   "source": [
    "**문제 3**"
   ]
  },
  {
   "cell_type": "markdown",
   "id": "b6699dd6",
   "metadata": {},
   "source": [
    "아래 식으로 계산된 값을 갖는 새로운 열(column)이 추가된 2차원 어레이  `iris_features_added`를 생성하라.\n",
    "\n",
    "$$\\frac{\\text{원주율} \\times \\text{꽃잎길이} \\times \\text{꽃받침길이}^2}{3} $$\n",
    "\n",
    "힌트: `np.stack()` 함수를 활용할 수 있다."
   ]
  },
  {
   "cell_type": "code",
   "execution_count": null,
   "id": "48627edc",
   "metadata": {},
   "outputs": [],
   "source": [
    "# pass와 None을 각각 적절한 코드와 표현식으로 대체하라.\n",
    "\n",
    "pass\n",
    "iris_features_added = None"
   ]
  },
  {
   "cell_type": "code",
   "execution_count": null,
   "id": "57fbd892",
   "metadata": {},
   "outputs": [],
   "source": [
    "# 아래 주석을 해제하고 실행하라.\n",
    "\n",
    "# assert iris_features_added.shape == (150, 5)\n",
    "# iris_features_added[:5]"
   ]
  },
  {
   "cell_type": "markdown",
   "id": "4d4b4f93",
   "metadata": {},
   "source": [
    "**문제 4**"
   ]
  },
  {
   "cell_type": "markdown",
   "id": "ffedb587",
   "metadata": {},
   "source": [
    "`Iris_versicolor` 품종에 해당하는 데이터만 `iris_features`로부터 추출하라. "
   ]
  },
  {
   "cell_type": "code",
   "execution_count": null,
   "id": "523d1d75",
   "metadata": {},
   "outputs": [],
   "source": [
    "# None을 적절한 부울 표현식으로 대체하라.\n",
    "\n",
    "mask = None\n",
    "iris_features[mask][:5]"
   ]
  },
  {
   "cell_type": "markdown",
   "id": "dc332748",
   "metadata": {},
   "source": [
    "**문제 5**"
   ]
  },
  {
   "cell_type": "markdown",
   "id": "17a8b3f7",
   "metadata": {},
   "source": [
    "꽃받침 길이(0번 열)의 평균값(mean), 중앙값(median), 표준편차(standard deviation)를 구하라."
   ]
  },
  {
   "cell_type": "code",
   "execution_count": null,
   "id": "4d122a6e",
   "metadata": {},
   "outputs": [],
   "source": [
    "# None을 적절한 표현식으로 대체하라.\n",
    "\n",
    "petal_length_mean = None\n",
    "petal_length_median = None\n",
    "petal_length_std = None\n",
    "\n",
    "print(petal_length_mean, petal_length_median, petal_length_std)"
   ]
  },
  {
   "cell_type": "markdown",
   "id": "a2c3c9e4",
   "metadata": {},
   "source": [
    "**문제 6**"
   ]
  },
  {
   "cell_type": "markdown",
   "id": "11d0a4d8",
   "metadata": {},
   "source": [
    "세 개의 품종 별 꽃받침 너비(1번 열)의 평균값을 계산하여 아래 어레이와 동일한 모양을 갖는 \n",
    "어레이 `iris_kind_sepal_length`를 생성하라.\n",
    "\n",
    "```\n",
    "[['Iris-setosa', 3.418],\n",
    " ['Iris-versicolor', 2.770],\n",
    " ['Iris-virginica', 2.974]]\n",
    "```"
   ]
  },
  {
   "cell_type": "code",
   "execution_count": null,
   "id": "4845447a",
   "metadata": {},
   "outputs": [],
   "source": [
    "# pass와 None을 각각 적절한 코드와 표현식으로 대체하라.\n",
    "\n",
    "pass\n",
    "iris_kind_sepal_length = None\n",
    "\n",
    "iris_kind_sepal_length"
   ]
  },
  {
   "cell_type": "markdown",
   "id": "e3715123",
   "metadata": {},
   "source": [
    "**문제 7**"
   ]
  },
  {
   "cell_type": "markdown",
   "id": "3c42692f",
   "metadata": {},
   "source": [
    "꽃잎 너비(3번 열)에 사용된 값을 모두 0과 1사이의 값으로 변환하라. \n",
    "\n",
    "힌트: 꽃잎 너비 등 하나의 특성에 속하는 값을 모두 0과 1사이의 값으로 변환하는 작업을 정규화(normalization)라 한다.\n",
    "정규화에 대한 설명은 [정규화/표준화](https://rucrazia.tistory.com/90)를 참고하라."
   ]
  },
  {
   "cell_type": "code",
   "execution_count": null,
   "id": "aefce832",
   "metadata": {},
   "outputs": [],
   "source": [
    "# None을 적절한 부울 표현식으로 대체하라.\n",
    "\n",
    "iris_features_normalized = None"
   ]
  },
  {
   "cell_type": "code",
   "execution_count": null,
   "id": "c6c01fbf",
   "metadata": {},
   "outputs": [],
   "source": [
    "# 아래 주석을 해제하고 실행하라.\n",
    "\n",
    "# iris_features_normalized[:5]"
   ]
  },
  {
   "cell_type": "markdown",
   "id": "d3c1a73a",
   "metadata": {},
   "source": [
    "**문제 8**"
   ]
  },
  {
   "cell_type": "markdown",
   "id": "18411e15",
   "metadata": {},
   "source": [
    "`iris_features`에 사용된 모든 값을 특성 별로 표준화(standardization)하라. \n",
    "\n",
    "힌트: 표준화에 대한 설명은 [정규화/표준화](https://rucrazia.tistory.com/90)를 참고하라."
   ]
  },
  {
   "cell_type": "code",
   "execution_count": null,
   "id": "2f960ff4",
   "metadata": {},
   "outputs": [],
   "source": [
    "# None을 적절한 부울 표현식으로 대체하라.\n",
    "\n",
    "iris_features_standardized = None"
   ]
  },
  {
   "cell_type": "code",
   "execution_count": null,
   "id": "c29ef50d",
   "metadata": {},
   "outputs": [],
   "source": [
    "# 아래 주석을 해제하고 실행하라.\n",
    "\n",
    "# iris_features_standardized[:5]"
   ]
  }
 ],
 "metadata": {
  "kernelspec": {
   "display_name": "Python 3 (ipykernel)",
   "language": "python",
   "name": "python3"
  },
  "language_info": {
   "codemirror_mode": {
    "name": "ipython",
    "version": 3
   },
   "file_extension": ".py",
   "mimetype": "text/x-python",
   "name": "python",
   "nbconvert_exporter": "python",
   "pygments_lexer": "ipython3",
   "version": "3.9.13"
  }
 },
 "nbformat": 4,
 "nbformat_minor": 5
}

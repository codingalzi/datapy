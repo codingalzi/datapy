{
 "cells": [
  {
   "attachments": {},
   "cell_type": "markdown",
   "metadata": {},
   "source": [
    "# (실습) 고급 넘파이"
   ]
  },
  {
   "cell_type": "code",
   "execution_count": 2,
   "metadata": {
    "id": "J71Fcvihxzi9"
   },
   "outputs": [],
   "source": [
    "import numpy as np"
   ]
  },
  {
   "cell_type": "markdown",
   "metadata": {},
   "source": [
    "**문제**"
   ]
  },
  {
   "attachments": {},
   "cell_type": "markdown",
   "metadata": {},
   "source": [
    "2차원 어레이 `X`가 다음과 같이 주어졌다."
   ]
  },
  {
   "cell_type": "code",
   "execution_count": 3,
   "metadata": {},
   "outputs": [
    {
     "data": {
      "text/plain": [
       "array([[0.52525698, 0.29383326, 0.01527651, 0.70185385, 0.51650966,\n",
       "        0.97380103, 0.57837234, 0.59756262, 0.6283926 , 0.91628802],\n",
       "       [0.38649827, 0.6604306 , 0.62784889, 0.52646013, 0.65744099,\n",
       "        0.68228389, 0.58172721, 0.91926388, 0.65966491, 0.7381808 ],\n",
       "       [0.11895481, 0.74858939, 0.65498861, 0.97350888, 0.26455125,\n",
       "        0.50280034, 0.9042335 , 0.20276846, 0.60492839, 0.63085013],\n",
       "       [0.2258304 , 0.98375997, 0.31948983, 0.71648597, 0.06259837,\n",
       "        0.88108657, 0.10239511, 0.86426359, 0.06751916, 0.23960856],\n",
       "       [0.87089762, 0.31939286, 0.24239931, 0.86676792, 0.67836059,\n",
       "        0.91326664, 0.46145464, 0.2118836 , 0.91250845, 0.04334961]])"
      ]
     },
     "execution_count": 3,
     "metadata": {},
     "output_type": "execute_result"
    }
   ],
   "source": [
    "X = np.random.rand(5, 10)\n",
    "X"
   ]
  },
  {
   "attachments": {},
   "cell_type": "markdown",
   "metadata": {},
   "source": [
    "(1) 행렬의 각 행의 평균값으로 이루어진 (5, 1) 모양의 2차원 어레이를 생성하라.\n",
    "\n",
    "힌트: `mean()` 메서드, `axis`와 `keepdims` 키워드 인자"
   ]
  },
  {
   "cell_type": "code",
   "execution_count": 8,
   "metadata": {},
   "outputs": [
    {
     "data": {
      "text/plain": [
       "array([[0.57471469],\n",
       "       [0.64397996],\n",
       "       [0.56061738],\n",
       "       [0.44630375],\n",
       "       [0.55202812]])"
      ]
     },
     "execution_count": 8,
     "metadata": {},
     "output_type": "execute_result"
    }
   ],
   "source": [
    "X.mean(axis=1, keepdims=True)"
   ]
  },
  {
   "cell_type": "code",
   "execution_count": null,
   "metadata": {},
   "outputs": [],
   "source": []
  }
 ],
 "metadata": {
  "colab": {
   "provenance": []
  },
  "kernelspec": {
   "display_name": "Python 3 (ipykernel)",
   "language": "python",
   "name": "python3"
  },
  "language_info": {
   "codemirror_mode": {
    "name": "ipython",
    "version": 3
   },
   "file_extension": ".py",
   "mimetype": "text/x-python",
   "name": "python",
   "nbconvert_exporter": "python",
   "pygments_lexer": "ipython3",
   "version": "3.9.13"
  },
  "vscode": {
   "interpreter": {
    "hash": "ad0f3c8a064f687cbf898a0868fd45ba1c7e928ac8a0404f7c241d812ddc1e76"
   }
  }
 },
 "nbformat": 4,
 "nbformat_minor": 1
}

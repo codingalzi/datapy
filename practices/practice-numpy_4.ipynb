{
 "cells": [
  {
   "cell_type": "markdown",
   "id": "97ecff92",
   "metadata": {
    "id": "vN2D9cmLHZ3_"
   },
   "source": [
    "# (실습) 고급 넘파이"
   ]
  },
  {
   "cell_type": "code",
   "execution_count": 1,
   "id": "83c36ad1",
   "metadata": {
    "id": "J71Fcvihxzi9"
   },
   "outputs": [],
   "source": [
    "import numpy as np"
   ]
  },
  {
   "cell_type": "markdown",
   "id": "0dc00b7a",
   "metadata": {},
   "source": [
    "**문제**"
   ]
  },
  {
   "cell_type": "markdown",
   "id": "2f70e989",
   "metadata": {},
   "source": [
    "2차원 어레이 `X`가 다음과 같이 주어졌다."
   ]
  },
  {
   "cell_type": "code",
   "execution_count": 2,
   "id": "1feec4a1",
   "metadata": {},
   "outputs": [],
   "source": [
    "X = np.array([[58, 68, 54, 21, 13, 97, 33],\n",
    "              [60, 49, 12, 88, 50, 43, 99],\n",
    "              [80, 46, 51,  7, 32, 85,  4],\n",
    "              [93, 18, 86, 79, 17, 16, 59],\n",
    "              [88, 88, 62, 98, 86, 45, 33]])"
   ]
  },
  {
   "cell_type": "markdown",
   "id": "5d0f6759",
   "metadata": {},
   "source": [
    "(1) 행렬의 각 행의 평균값으로 이루어진 (5, 1) 모양의 2차원 어레이 `X_mean_1`을 생성하라.\n",
    "단, 소수점 이하는 버리는 `np.int32` dtype을 사용한다.\n",
    "또한 `mean()` 메서드, `axis`와 `keepdims` 키워드 인자, `astype()` 메서드를 이용한다."
   ]
  },
  {
   "cell_type": "code",
   "execution_count": 3,
   "id": "47f0862b",
   "metadata": {},
   "outputs": [],
   "source": [
    "X_mean_1 = X.mean(axis=1, keepdims=True).astype(np.int32)"
   ]
  },
  {
   "cell_type": "markdown",
   "id": "027fd88f",
   "metadata": {},
   "source": [
    "아래 코드는 수정하지 마세요!!!"
   ]
  },
  {
   "cell_type": "code",
   "execution_count": 4,
   "id": "6aafda71",
   "metadata": {},
   "outputs": [],
   "source": [
    "assert (X_mean_1 == np.array([[49], [57], [43], [52], [71]])).all()"
   ]
  },
  {
   "cell_type": "markdown",
   "id": "1b9123ad",
   "metadata": {},
   "source": [
    "(2) X의 항목과 각 행별 평균값의 차이로 이루어진 (5, 7) 모양의 2차원 어레이를 변수 `Z` 가 가리키도록 하라."
   ]
  },
  {
   "cell_type": "code",
   "execution_count": 5,
   "id": "b69c49f5",
   "metadata": {},
   "outputs": [],
   "source": [
    "Z = X - X_mean_1"
   ]
  },
  {
   "cell_type": "markdown",
   "id": "a269d886",
   "metadata": {},
   "source": [
    "아래 코드는 수정하지 마세요!!!"
   ]
  },
  {
   "cell_type": "code",
   "execution_count": 6,
   "id": "f3e8c3a2",
   "metadata": {},
   "outputs": [],
   "source": [
    "assert (Z == np.array([[  9,  19,   5, -28, -36,  48, -16],\n",
    "                        [  3,  -8, -45,  31,  -7, -14,  42],\n",
    "                        [ 37,   3,   8, -36, -11,  42, -39],\n",
    "                        [ 41, -34,  34,  27, -35, -36,   7],\n",
    "                        [ 17,  17,  -9,  27,  15, -26, -38]])).all()"
   ]
  },
  {
   "cell_type": "markdown",
   "id": "dccc250d",
   "metadata": {},
   "source": [
    "**문제**"
   ]
  },
  {
   "cell_type": "markdown",
   "id": "19b30d7f",
   "metadata": {},
   "source": [
    "다음 어레이를 이용한다."
   ]
  },
  {
   "cell_type": "code",
   "execution_count": 7,
   "id": "5dd1071f",
   "metadata": {},
   "outputs": [
    {
     "data": {
      "text/plain": [
       "array([[11, 34,  2],\n",
       "       [47,  3,  7],\n",
       "       [35, 40, 16],\n",
       "       [16,  2, 15]])"
      ]
     },
     "execution_count": 7,
     "metadata": {},
     "output_type": "execute_result"
    }
   ],
   "source": [
    "np.random.seed(1235)\n",
    "\n",
    "Z = np.random.randint(0,50,(4, 3))\n",
    "Z"
   ]
  },
  {
   "cell_type": "markdown",
   "id": "208bebd5",
   "metadata": {},
   "source": [
    "`argsort()` 메서드는 행 또는 열 별로 크기 순으로 정열할 때 사용할 수 있는 항목들의 인덱스로\n",
    "이루어진 동일한 모양의 어레이를 생성한다."
   ]
  },
  {
   "cell_type": "markdown",
   "id": "0e4e88e9",
   "metadata": {},
   "source": [
    "- 행 별로 작은 값에서부터 큰 값이 자리한 위치의 인덱스 확인"
   ]
  },
  {
   "cell_type": "code",
   "execution_count": 8,
   "id": "1dd2382e",
   "metadata": {},
   "outputs": [
    {
     "data": {
      "text/plain": [
       "array([[2, 0, 1],\n",
       "       [1, 2, 0],\n",
       "       [2, 0, 1],\n",
       "       [1, 2, 0]], dtype=int64)"
      ]
     },
     "execution_count": 8,
     "metadata": {},
     "output_type": "execute_result"
    }
   ],
   "source": [
    "Z.argsort(axis=1)"
   ]
  },
  {
   "cell_type": "markdown",
   "id": "852a632b",
   "metadata": {},
   "source": [
    "- 열 별로 작은 값에서부터 큰 값이 자리한 위치의 인덱스 확인"
   ]
  },
  {
   "cell_type": "code",
   "execution_count": 9,
   "id": "a0958d36",
   "metadata": {},
   "outputs": [
    {
     "data": {
      "text/plain": [
       "array([[0, 3, 0],\n",
       "       [3, 1, 1],\n",
       "       [2, 0, 3],\n",
       "       [1, 2, 2]], dtype=int64)"
      ]
     },
     "execution_count": 9,
     "metadata": {},
     "output_type": "execute_result"
    }
   ],
   "source": [
    "Z.argsort(axis=0)"
   ]
  },
  {
   "cell_type": "markdown",
   "id": "8d82b43d",
   "metadata": {},
   "source": [
    "이제 1열에 위치한 값들의 순서대로 행을 재배치하는 코드를 작성하라.\n",
    "단, `argsort()` 메서드와 인덱싱, 슬라이싱, 팬시 인덱싱을 사용한다."
   ]
  },
  {
   "cell_type": "code",
   "execution_count": 10,
   "id": "f20353a1",
   "metadata": {},
   "outputs": [],
   "source": [
    "X = Z[Z[:,1].argsort()]"
   ]
  },
  {
   "cell_type": "markdown",
   "id": "7a9c7429",
   "metadata": {},
   "source": [
    "아래 코드는 수정하지 마세요!!!"
   ]
  },
  {
   "cell_type": "code",
   "execution_count": 11,
   "id": "0b17940e",
   "metadata": {},
   "outputs": [],
   "source": [
    "assert (X == np.array([[16,  2, 15],\n",
    "                        [47,  3,  7],\n",
    "                        [11, 34,  2],\n",
    "                        [35, 40, 16]])).all()"
   ]
  },
  {
   "cell_type": "markdown",
   "id": "0b1b88e5",
   "metadata": {},
   "source": [
    "**문제**"
   ]
  },
  {
   "cell_type": "markdown",
   "id": "4fa0b4c5",
   "metadata": {},
   "source": [
    "(1) 아래 어레이를 표준화하라.\n",
    "즉, 항목들의 평균값은 0, 표준편차는 1이 되도록 한다.\n",
    "단, `mean()` 메서드와 `std()` 메서드를 이용한다."
   ]
  },
  {
   "cell_type": "code",
   "execution_count": 12,
   "id": "5144bc7f",
   "metadata": {},
   "outputs": [
    {
     "data": {
      "text/plain": [
       "array([[0.29402834, 0.9123881 , 0.8884201 ],\n",
       "       [0.46703564, 0.69077209, 0.39681955],\n",
       "       [0.30376276, 0.00500947, 0.53283571],\n",
       "       [0.51832966, 0.81580692, 0.97340724]])"
      ]
     },
     "execution_count": 12,
     "metadata": {},
     "output_type": "execute_result"
    }
   ],
   "source": [
    "X = np.random.rand(4, 3)\n",
    "X"
   ]
  },
  {
   "cell_type": "code",
   "execution_count": 13,
   "id": "580154be",
   "metadata": {},
   "outputs": [],
   "source": [
    "mean = X.mean()"
   ]
  },
  {
   "cell_type": "code",
   "execution_count": 14,
   "id": "e9985901",
   "metadata": {},
   "outputs": [],
   "source": [
    "std_var = X.std()"
   ]
  },
  {
   "cell_type": "code",
   "execution_count": 15,
   "id": "79b56a4b",
   "metadata": {},
   "outputs": [],
   "source": [
    "Z = (X - mean)/std_var"
   ]
  },
  {
   "cell_type": "markdown",
   "id": "b263db9e",
   "metadata": {},
   "source": [
    "아래 코드는 수정하지 마세요!!!"
   ]
  },
  {
   "cell_type": "code",
   "execution_count": 16,
   "id": "cf3ccf43",
   "metadata": {},
   "outputs": [],
   "source": [
    "assert (round(Z.mean(), 2) == 0.0)\n",
    "assert (round(Z.std(), 1) == 1.)"
   ]
  },
  {
   "cell_type": "markdown",
   "id": "597b7b5a",
   "metadata": {},
   "source": [
    "(2) X를 행 별로 표준화하라.\n",
    "즉, 각 행의 평균값은 0, 표준편차는 1이 되도록 한다."
   ]
  },
  {
   "cell_type": "code",
   "execution_count": 17,
   "id": "15c25d02",
   "metadata": {},
   "outputs": [
    {
     "data": {
      "text/plain": [
       "array([0.69827885, 0.5182091 , 0.28053598, 0.76918127])"
      ]
     },
     "execution_count": 17,
     "metadata": {},
     "output_type": "execute_result"
    }
   ],
   "source": [
    "row_means = X.mean(axis=1)\n",
    "row_means"
   ]
  },
  {
   "cell_type": "code",
   "execution_count": 18,
   "id": "a58c4c05",
   "metadata": {},
   "outputs": [
    {
     "data": {
      "text/plain": [
       "array([0.2860157 , 0.12534237, 0.21610915, 0.18868733])"
      ]
     },
     "execution_count": 18,
     "metadata": {},
     "output_type": "execute_result"
    }
   ],
   "source": [
    "row_stds = X.std(axis=1)\n",
    "row_stds"
   ]
  },
  {
   "cell_type": "code",
   "execution_count": 19,
   "id": "d7478a3c",
   "metadata": {},
   "outputs": [],
   "source": [
    "Z = (X - row_means[:, np.newaxis])/row_stds[:, np.newaxis]"
   ]
  },
  {
   "cell_type": "markdown",
   "id": "f4fb97a4",
   "metadata": {},
   "source": [
    "아래 코드는 수정하지 마세요!!!"
   ]
  },
  {
   "cell_type": "code",
   "execution_count": 20,
   "id": "d781becc",
   "metadata": {},
   "outputs": [],
   "source": [
    "assert (np.round(Z.mean(axis=1), 1) == 0.).all()\n",
    "assert (np.round(Z.std(axis=1), 1) == 1.).all()"
   ]
  }
 ],
 "metadata": {
  "kernelspec": {
   "display_name": "Python 3 (ipykernel)",
   "language": "python",
   "name": "python3"
  },
  "language_info": {
   "codemirror_mode": {
    "name": "ipython",
    "version": 3
   },
   "file_extension": ".py",
   "mimetype": "text/x-python",
   "name": "python",
   "nbconvert_exporter": "python",
   "pygments_lexer": "ipython3",
   "version": "3.10.6"
  }
 },
 "nbformat": 4,
 "nbformat_minor": 5
}

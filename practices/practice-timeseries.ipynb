{
 "cells": [
  {
   "cell_type": "markdown",
   "metadata": {},
   "source": [
    "# (실습) 시계열 데이터"
   ]
  },
  {
   "cell_type": "code",
   "execution_count": 1,
   "metadata": {
    "id": "J71Fcvihxzi9"
   },
   "outputs": [],
   "source": [
    "import numpy as np"
   ]
  },
  {
   "cell_type": "markdown",
   "metadata": {},
   "source": [
    "## 날짜와 시간"
   ]
  },
  {
   "cell_type": "markdown",
   "metadata": {},
   "source": [
    "**문제**"
   ]
  },
  {
   "cell_type": "markdown",
   "metadata": {
    "id": "u9GhV2hB-yra"
   },
   "source": [
    "`today`는 오늘 날짜를 가리킨다."
   ]
  },
  {
   "cell_type": "code",
   "execution_count": null,
   "metadata": {
    "colab": {
     "base_uri": "https://localhost:8080/"
    },
    "id": "tAMG2LiPceev",
    "outputId": "c5cc493c-36d1-4e3b-807d-5a358c43528e"
   },
   "outputs": [],
   "source": [
    "today     = np.datetime64('today')\n",
    "today"
   ]
  },
  {
   "cell_type": "markdown",
   "metadata": {},
   "source": [
    "변수 `yesterday`가 어제 날짜를 가리키도록 하라.\n",
    "\n",
    "힌트: `np.timedelta64()` 함수"
   ]
  },
  {
   "cell_type": "code",
   "execution_count": null,
   "metadata": {
    "colab": {
     "base_uri": "https://localhost:8080/"
    },
    "id": "tAMG2LiPceev",
    "outputId": "c5cc493c-36d1-4e3b-807d-5a358c43528e"
   },
   "outputs": [],
   "source": [
    "yesterday = np.datetime64('today') - np.timedelta64(1)"
   ]
  },
  {
   "cell_type": "code",
   "execution_count": null,
   "metadata": {},
   "outputs": [],
   "source": [
    "assert yesterday == today - np.timedelta64(1, 'D')"
   ]
  },
  {
   "cell_type": "markdown",
   "metadata": {},
   "source": [
    "**문제**"
   ]
  },
  {
   "cell_type": "markdown",
   "metadata": {},
   "source": [
    "변수 `tomorrow`가 내일 날짜를 가리키도록 하라.\n",
    "\n",
    "힌트: `np.timedelta64()` 함수"
   ]
  },
  {
   "cell_type": "code",
   "execution_count": null,
   "metadata": {
    "colab": {
     "base_uri": "https://localhost:8080/"
    },
    "id": "tAMG2LiPceev",
    "outputId": "c5cc493c-36d1-4e3b-807d-5a358c43528e"
   },
   "outputs": [],
   "source": [
    "tomorrow  = np.datetime64('today') + np.timedelta64(1)"
   ]
  },
  {
   "cell_type": "code",
   "execution_count": null,
   "metadata": {},
   "outputs": [],
   "source": [
    "assert tomorrow == today + np.timedelta64(1, 'D')"
   ]
  },
  {
   "cell_type": "markdown",
   "metadata": {},
   "source": [
    "**문제**"
   ]
  },
  {
   "cell_type": "markdown",
   "metadata": {
    "id": "9pQ7RzXG-yoj"
   },
   "source": [
    "변수 `Z`가 2023년 6월의 모든 날짜를 담은 1차원 어레이를 가리키도록 하라."
   ]
  },
  {
   "cell_type": "code",
   "execution_count": null,
   "metadata": {
    "colab": {
     "base_uri": "https://localhost:8080/"
    },
    "id": "tv211e0dcnZ0",
    "outputId": "7c43ac18-236d-4935-a296-15fbf8746e8c"
   },
   "outputs": [],
   "source": [
    "Z = np.arange('2023-06', '2023-07', dtype='datetime64[D]')"
   ]
  },
  {
   "cell_type": "code",
   "execution_count": null,
   "metadata": {},
   "outputs": [],
   "source": [
    "assert (Z == np.array(['2023-06-01', '2023-06-02', '2023-06-03', '2023-06-04',\n",
    "                        '2023-06-05', '2023-06-06', '2023-06-07', '2023-06-08',\n",
    "                        '2023-06-09', '2023-06-10', '2023-06-11', '2023-06-12',\n",
    "                        '2023-06-13', '2023-06-14', '2023-06-15', '2023-06-16',\n",
    "                        '2023-06-17', '2023-06-18', '2023-06-19', '2023-06-20',\n",
    "                        '2023-06-21', '2023-06-22', '2023-06-23', '2023-06-24',\n",
    "                        '2023-06-25', '2023-06-26', '2023-06-27', '2023-06-28',\n",
    "                        '2023-06-29', '2023-06-30'], dtype='datetime64[D]')).all()"
   ]
  },
  {
   "cell_type": "code",
   "execution_count": null,
   "metadata": {},
   "outputs": [],
   "source": []
  },
  {
   "cell_type": "code",
   "execution_count": null,
   "metadata": {},
   "outputs": [],
   "source": []
  },
  {
   "cell_type": "code",
   "execution_count": null,
   "metadata": {},
   "outputs": [],
   "source": []
  }
 ],
 "metadata": {
  "colab": {
   "provenance": []
  },
  "kernelspec": {
   "display_name": "Python 3 (ipykernel)",
   "language": "python",
   "name": "python3"
  },
  "language_info": {
   "codemirror_mode": {
    "name": "ipython",
    "version": 3
   },
   "file_extension": ".py",
   "mimetype": "text/x-python",
   "name": "python",
   "nbconvert_exporter": "python",
   "pygments_lexer": "ipython3",
   "version": "3.10.6"
  },
  "vscode": {
   "interpreter": {
    "hash": "ad0f3c8a064f687cbf898a0868fd45ba1c7e928ac8a0404f7c241d812ddc1e76"
   }
  }
 },
 "nbformat": 4,
 "nbformat_minor": 1
}

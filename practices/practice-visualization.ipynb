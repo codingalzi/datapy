{
 "cells": [
  {
   "cell_type": "markdown",
   "id": "f3c17522",
   "metadata": {},
   "source": [
    "# (실습) 시각화"
   ]
  },
  {
   "cell_type": "markdown",
   "id": "b0431227",
   "metadata": {},
   "source": [
    "pyplot과 seaborn 라이브러리 튜토리얼을 따라하는 과제입니다. \n",
    "\n",
    " \n",
    "\n",
    "과제 내용: 아래 두 개의 링크에 있는 내용을 따라하며 구글 코랩에 정리합니다. (따로따로 정리)\n",
    "\n",
    " \n",
    "\n",
    "- 링크 1: https://www.w3schools.com/python/matplotlib_intro.asp (Matplotlib Intro 부터 Matplotlib Pie Charts 까지 튜토리얼 따라하기)\n",
    "\n",
    " \n",
    "\n",
    "- 링크 2: https://seaborn.pydata.org/tutorial/relational.html\n",
    "\n",
    " \n",
    "\n",
    "제출 내용: 두 개의 구글 코랩 주소\n",
    "\n",
    " \n",
    "\n",
    "주요 포인트: 튜토리얼 내용을 따라하면서 실행되는 코드의 기능과 내용을 간략하게 소개해야 합니다. 즉, 여러분 스스로 누군가를 대상으로 튜토리얼을 진행하다고 가정하고 작성합니다. \n",
    "\n",
    " \n",
    "\n",
    "참고: 이 과제는 마감 후에 여러분의 상호평가를 진행한 결과를 바탕으로 최종 평가될 예정입니다.\n",
    "\n"
   ]
  }
 ],
 "metadata": {
  "kernelspec": {
   "display_name": "Python 3 (ipykernel)",
   "language": "python",
   "name": "python3"
  },
  "language_info": {
   "codemirror_mode": {
    "name": "ipython",
    "version": 3
   },
   "file_extension": ".py",
   "mimetype": "text/x-python",
   "name": "python",
   "nbconvert_exporter": "python",
   "pygments_lexer": "ipython3",
   "version": "3.9.7"
  }
 },
 "nbformat": 4,
 "nbformat_minor": 5
}

{
 "cells": [
  {
   "cell_type": "code",
   "execution_count": 1,
   "metadata": {},
   "outputs": [],
   "source": [
    "import numpy as np"
   ]
  },
  {
   "cell_type": "markdown",
   "metadata": {},
   "source": [
    "**문제**"
   ]
  },
  {
   "cell_type": "markdown",
   "metadata": {
    "id": "ZFpq0wWO-ymG"
   },
   "source": [
    "35. (A+B)*(-A/2)를 제 자리에서 계산하는 방법(복사본 없이)"
   ]
  },
  {
   "cell_type": "code",
   "execution_count": null,
   "metadata": {
    "colab": {
     "base_uri": "https://localhost:8080/"
    },
    "id": "gZjpyuvocqMR",
    "outputId": "5c90a79e-dbb4-41ca-b4d8-e9c62056623e"
   },
   "outputs": [],
   "source": [
    "A = np.ones(3)*1\n",
    "B = np.ones(3)*2\n",
    "C = np.ones(3)*3\n",
    "\n",
    "np.add(A,B,out=B)\n",
    "np.divide(A,2,out=A)\n",
    "np.negative(A,out=A)\n",
    "np.multiply(A,B,out=A)"
   ]
  },
  {
   "cell_type": "markdown",
   "metadata": {},
   "source": [
    "**문제**"
   ]
  },
  {
   "cell_type": "markdown",
   "metadata": {
    "id": "69d0llxv-yjp"
   },
   "source": [
    "36. 4가지 다른 방법을 사용하여 양수 배열의 정수 부분 추출하기\n"
   ]
  },
  {
   "cell_type": "code",
   "execution_count": null,
   "metadata": {
    "colab": {
     "base_uri": "https://localhost:8080/"
    },
    "id": "xTXPBTuVct_B",
    "outputId": "1f54011b-1753-409b-b835-50c3bdfe2401"
   },
   "outputs": [],
   "source": [
    "Z = np.random.uniform(0,10,10)\n",
    "\n",
    "print(Z - Z%1)\n",
    "print(Z // 1)\n",
    "print(np.floor(Z))\n",
    "print(Z.astype(int))\n",
    "print(np.trunc(Z))"
   ]
  },
  {
   "cell_type": "markdown",
   "metadata": {},
   "source": [
    "**문제**"
   ]
  },
  {
   "cell_type": "markdown",
   "metadata": {
    "id": "n1c_xYgu-yhW"
   },
   "source": [
    "37. 행 값이 0~4인 5*5 매트릭스 만들기\n"
   ]
  },
  {
   "cell_type": "code",
   "execution_count": null,
   "metadata": {
    "colab": {
     "base_uri": "https://localhost:8080/"
    },
    "id": "1eXRQS31czdk",
    "outputId": "93678b1c-4ce6-48df-ea94-2912b7dad370"
   },
   "outputs": [],
   "source": [
    "Z = np.zeros((5,5))\n",
    "Z += np.arange(5)\n",
    "print(Z)"
   ]
  },
  {
   "cell_type": "markdown",
   "metadata": {},
   "source": [
    "**문제**"
   ]
  },
  {
   "cell_type": "markdown",
   "metadata": {
    "id": "QQHmPqDv-yex"
   },
   "source": [
    "38. 10개의 정수 생성 후 이것을 사용하여 배열을 만드는 함수를 구현하기"
   ]
  },
  {
   "cell_type": "code",
   "execution_count": null,
   "metadata": {
    "colab": {
     "base_uri": "https://localhost:8080/"
    },
    "id": "w6emojo2c232",
    "outputId": "4925a9be-304d-4229-e149-27ed931df643"
   },
   "outputs": [],
   "source": [
    "def generate():\n",
    "    for x in range(10):\n",
    "        yield x\n",
    "\n",
    "Z = np.fromiter(generate(),dtype=float,count=-1) # 함수대로, 지정한 타입대로 배열 생성\n",
    "\n",
    "print(Z)"
   ]
  },
  {
   "cell_type": "markdown",
   "metadata": {},
   "source": [
    "**문제**"
   ]
  },
  {
   "cell_type": "markdown",
   "metadata": {
    "id": "WRJMQ5VF-ycH"
   },
   "source": [
    "39. 0에서 1 사이의 값으로 크기 10의 벡터를 만듭니다(0 과 1 제외)."
   ]
  },
  {
   "cell_type": "code",
   "execution_count": null,
   "metadata": {
    "colab": {
     "base_uri": "https://localhost:8080/"
    },
    "id": "Ds1NgUjzdKaw",
    "outputId": "6dd98a60-e3a5-405a-d9d5-12b64e045d15"
   },
   "outputs": [],
   "source": [
    "Z = np.linspace(0,1,11,endpoint=False)[1:]\n",
    "print(Z)"
   ]
  },
  {
   "cell_type": "markdown",
   "metadata": {},
   "source": [
    "**문제**"
   ]
  },
  {
   "cell_type": "markdown",
   "metadata": {
    "id": "jw_cKFWs-ySb"
   },
   "source": [
    "40. 크기가 10이고 랜덤의 수로 이뤄진 벡터를 만들어 정렬하기"
   ]
  },
  {
   "cell_type": "code",
   "execution_count": null,
   "metadata": {
    "colab": {
     "base_uri": "https://localhost:8080/"
    },
    "id": "RxICnm5IdNYQ",
    "outputId": "548d780c-b88b-4195-8f84-9a2e69d75dab"
   },
   "outputs": [],
   "source": [
    "Z = np.random.random(10)\n",
    "Z.sort()\n",
    "print(Z)"
   ]
  },
  {
   "cell_type": "markdown",
   "metadata": {},
   "source": [
    "**문제**"
   ]
  },
  {
   "cell_type": "markdown",
   "metadata": {
    "id": "gRGsFEiN-xpk"
   },
   "source": [
    "41. `np.sum`보다 1차원 배열을 더 빨리 더하는 방법"
   ]
  },
  {
   "cell_type": "code",
   "execution_count": null,
   "metadata": {
    "colab": {
     "base_uri": "https://localhost:8080/"
    },
    "id": "N0le8AXrzfVU",
    "outputId": "5b7fb280-44ee-4006-dbe2-28e036c6ef47"
   },
   "outputs": [],
   "source": [
    "Z = np.arange(10)\n",
    "np.add.reduce(Z)"
   ]
  },
  {
   "cell_type": "markdown",
   "metadata": {},
   "source": [
    "**문제**"
   ]
  },
  {
   "cell_type": "markdown",
   "metadata": {
    "id": "kB7BF0KWeHIP"
   },
   "source": [
    "42. 두 개의 랜덤 배열 A와 B가 같은지 확인"
   ]
  },
  {
   "cell_type": "code",
   "execution_count": null,
   "metadata": {
    "colab": {
     "base_uri": "https://localhost:8080/"
    },
    "id": "F31QpEn0eDKB",
    "outputId": "f62e16d8-3d8b-4e16-d9ba-537e27466786"
   },
   "outputs": [],
   "source": [
    "A = np.random.randint(0,2,5)\n",
    "B = np.random.randint(0,2,5)\n",
    "\n",
    "print(A)\n",
    "print(B)"
   ]
  },
  {
   "cell_type": "code",
   "execution_count": null,
   "metadata": {
    "colab": {
     "base_uri": "https://localhost:8080/"
    },
    "id": "QiXLt22se0J2",
    "outputId": "bbc7e4f9-6f19-40f3-ec02-ece59f1077dd"
   },
   "outputs": [],
   "source": [
    "# 허용오차 있음\n",
    "equal = np.allclose(A,B)\n",
    "print(equal)"
   ]
  },
  {
   "cell_type": "code",
   "execution_count": null,
   "metadata": {
    "colab": {
     "base_uri": "https://localhost:8080/"
    },
    "id": "TcVt1pjyeO2p",
    "outputId": "510dfbd1-43df-4b47-fe41-2af6a4fc46a3"
   },
   "outputs": [],
   "source": [
    "# 허용오차 두지 않음\n",
    "equal = np.array_equal(A,B)\n",
    "print(equal)"
   ]
  },
  {
   "cell_type": "markdown",
   "metadata": {},
   "source": [
    "**문제**"
   ]
  },
  {
   "cell_type": "markdown",
   "metadata": {
    "id": "Vw6P5gefevM1"
   },
   "source": [
    "43. 배열을 불변으로 만들기(읽기 전용)"
   ]
  },
  {
   "cell_type": "code",
   "execution_count": null,
   "metadata": {
    "id": "DxBgzXmteNug"
   },
   "outputs": [],
   "source": [
    "Z = np.zeros(10)\n",
    "Z.flags.writeable = False\n",
    "\n",
    "# 읽기 전용이라 오류 발생\n",
    "Z[0] = 1"
   ]
  },
  {
   "cell_type": "markdown",
   "metadata": {},
   "source": [
    "**문제**"
   ]
  },
  {
   "cell_type": "markdown",
   "metadata": {
    "id": "JMdM88M_fUNZ"
   },
   "source": [
    "44. 데카르트 좌표를 나타내는 랜덤 10*2 행렬로 극좌표로 변환"
   ]
  },
  {
   "cell_type": "code",
   "execution_count": null,
   "metadata": {
    "colab": {
     "base_uri": "https://localhost:8080/"
    },
    "id": "BByLdvFQfTWy",
    "outputId": "d498a3c2-81e1-41d2-9b89-bd3ce6b27918"
   },
   "outputs": [],
   "source": [
    "Z = np.random.random((10,2))\n",
    "\n",
    "X,Y = Z[:,0], Z[:,1]\n",
    "\n",
    "R = np.sqrt(X**2+Y**2)\n",
    "T = np.arctan2(Y,X)\n",
    "\n",
    "print(R)\n",
    "print(T)"
   ]
  },
  {
   "cell_type": "markdown",
   "metadata": {},
   "source": [
    "**문제**"
   ]
  },
  {
   "cell_type": "markdown",
   "metadata": {
    "id": "iYJqb0d6feXe"
   },
   "source": [
    "\n",
    "45. 크기 10의 랜덤 벡터를 만들고 최대값을 0으로 바꾸기"
   ]
  },
  {
   "cell_type": "code",
   "execution_count": null,
   "metadata": {
    "colab": {
     "base_uri": "https://localhost:8080/"
    },
    "id": "3y-9_C7cfMnc",
    "outputId": "4a6ee8f3-f274-48fc-a9f9-1fa558133ff2"
   },
   "outputs": [],
   "source": [
    "Z = np.random.random(10)\n",
    "Z[Z.argmax()] = 0\n",
    "print(Z)"
   ]
  },
  {
   "cell_type": "markdown",
   "metadata": {},
   "source": [
    "**문제**"
   ]
  },
  {
   "cell_type": "markdown",
   "metadata": {
    "id": "2kKMj53TflrH"
   },
   "source": [
    "46. [0,1]x[0,1] 영역을 포함하는 (x,y) 좌표로 구성된 배열 만들기"
   ]
  },
  {
   "cell_type": "code",
   "execution_count": null,
   "metadata": {
    "colab": {
     "base_uri": "https://localhost:8080/"
    },
    "id": "W-aLhxnhfj0z",
    "outputId": "16b7723b-ed3b-4125-d9f1-59a89b6eeeb6"
   },
   "outputs": [],
   "source": [
    "Z = np.zeros((5,5), [('x',float),('y',float)])\n",
    "Z['x'], Z['y'] = np.meshgrid(np.linspace(0,1,5),np.linspace(0,1,5))                     \n",
    "print(Z)"
   ]
  },
  {
   "cell_type": "markdown",
   "metadata": {},
   "source": [
    "**문제**"
   ]
  },
  {
   "cell_type": "markdown",
   "metadata": {
    "id": "TgTKNYQJf10x"
   },
   "source": [
    "47. X와 Y의 두 배열이 주어지면 Cauchy 행렬 `C(Cij = 1/(xi - yj)`를 구성하도록 하기"
   ]
  },
  {
   "cell_type": "code",
   "execution_count": null,
   "metadata": {
    "colab": {
     "base_uri": "https://localhost:8080/"
    },
    "id": "ggBX0rrvfq5w",
    "outputId": "610280c1-f1a7-4d4a-8435-fa6a26c8cc87"
   },
   "outputs": [],
   "source": [
    "X = np.arange(8)\n",
    "Y = X + 0.5\n",
    "\n",
    "C = 1.0 / np.subtract.outer(X, Y)\n",
    "\n",
    "print(np.linalg.det(C))"
   ]
  },
  {
   "cell_type": "markdown",
   "metadata": {},
   "source": [
    "**문제**"
   ]
  },
  {
   "cell_type": "markdown",
   "metadata": {
    "id": "3EMebiWVgC41"
   },
   "source": [
    "48.  각 numpy 스칼라 유형에 대해 표현 가능한 최소값과 최대값을 출력하기"
   ]
  },
  {
   "cell_type": "code",
   "execution_count": null,
   "metadata": {
    "colab": {
     "base_uri": "https://localhost:8080/"
    },
    "id": "R96RtvxngAfb",
    "outputId": "bac86697-a521-495b-aa67-52833669b459"
   },
   "outputs": [],
   "source": [
    "# 정수\n",
    "for dtype in [np.int8, np.int32, np.int64]:\n",
    "   print(np.iinfo(dtype).min)\n",
    "   print(np.iinfo(dtype).max)\n",
    "\n",
    "print(\"---------\")\n",
    "\n",
    "# 실수\n",
    "for dtype in [np.float32, np.float64]:\n",
    "   print(np.finfo(dtype).min)\n",
    "   print(np.finfo(dtype).max)\n",
    "   print(np.finfo(dtype).eps)"
   ]
  },
  {
   "cell_type": "markdown",
   "metadata": {},
   "source": [
    "**문제**"
   ]
  },
  {
   "cell_type": "markdown",
   "metadata": {
    "id": "Tf5_tgtsgTJp"
   },
   "source": [
    "49. 배열의 모든 값을 인쇄하는 방법"
   ]
  },
  {
   "cell_type": "code",
   "execution_count": null,
   "metadata": {
    "colab": {
     "base_uri": "https://localhost:8080/"
    },
    "id": "1nGGsUYogI0j",
    "outputId": "7d9e59c6-d14e-4437-d4d6-bed6a3fad4ce"
   },
   "outputs": [],
   "source": [
    "np.set_printoptions(threshold=float(\"inf\"))\n",
    "Z = np.zeros((16,16))\n",
    "print(Z)"
   ]
  },
  {
   "cell_type": "markdown",
   "metadata": {},
   "source": [
    "**문제**"
   ]
  },
  {
   "cell_type": "markdown",
   "metadata": {
    "id": "jJ3DUjFUgXL7"
   },
   "source": [
    "50. 벡터에서 (특정 스칼라에) 가장 가까운 값을 찾는 방법"
   ]
  },
  {
   "cell_type": "code",
   "execution_count": null,
   "metadata": {
    "colab": {
     "base_uri": "https://localhost:8080/"
    },
    "id": "9id1trT9gVn6",
    "outputId": "ed202018-d53c-4b53-91c8-e0c63ab6acf8"
   },
   "outputs": [],
   "source": [
    "Z = np.arange(100)\n",
    "v = np.random.uniform(0,100)\n",
    "\n",
    "index = (np.abs(Z-v)).argmin()\n",
    "\n",
    "print(Z[index])"
   ]
  },
  {
   "cell_type": "markdown",
   "metadata": {},
   "source": [
    "**문제**"
   ]
  },
  {
   "cell_type": "markdown",
   "metadata": {
    "id": "Fnb0MkVlgeN2"
   },
   "source": [
    "51. 위치(x,y)와 색상(r,g,b)을 나타내는 구조화된 배열을 만들기"
   ]
  },
  {
   "cell_type": "code",
   "execution_count": null,
   "metadata": {
    "colab": {
     "base_uri": "https://localhost:8080/"
    },
    "id": "5BZ3Rw9YgbJK",
    "outputId": "f06b42bd-ee0a-4f1d-a09f-339d8f742de1"
   },
   "outputs": [],
   "source": [
    "Z = np.zeros(10, [ ('position', [ ('x', float, 1),\n",
    "                                  ('y', float, 1)]),\n",
    "                   ('color',    [ ('r', float, 1),\n",
    "                                  ('g', float, 1),\n",
    "                                  ('b', float, 1)])])\n",
    "print(Z)"
   ]
  },
  {
   "cell_type": "markdown",
   "metadata": {},
   "source": [
    "**문제**"
   ]
  },
  {
   "cell_type": "markdown",
   "metadata": {
    "id": "gxVOHH3jgoTU"
   },
   "source": [
    "52. 점 거리별 점 찾기\n",
    "\n",
    "(좌표를 나타내는 형상(100,2)이 있는 랜덤 벡터 고려)"
   ]
  },
  {
   "cell_type": "code",
   "execution_count": null,
   "metadata": {
    "colab": {
     "base_uri": "https://localhost:8080/"
    },
    "id": "O2D3BId1ghaq",
    "outputId": "37690a85-9252-46ec-92ad-9b8e8f80b6a7"
   },
   "outputs": [],
   "source": [
    "Z = np.random.random((10,2))\n",
    "\n",
    "X,Y = np.atleast_2d(Z[:,0], Z[:,1])\n",
    "\n",
    "# 거리구하기\n",
    "D = np.sqrt( (X-X.T)**2 + (Y-Y.T)**2)\n",
    "print(D)"
   ]
  },
  {
   "cell_type": "code",
   "execution_count": null,
   "metadata": {
    "colab": {
     "base_uri": "https://localhost:8080/"
    },
    "id": "omg4KuV5gvg9",
    "outputId": "ebb5b809-4c7d-4718-efca-ec594f782fda"
   },
   "outputs": [],
   "source": [
    "# spicy 사용하면 더 빠르게 할 수 있음\n",
    "\n",
    "import scipy\n",
    "\n",
    "import scipy.spatial\n",
    "\n",
    "Z = np.random.random((10,2))\n",
    "D = scipy.spatial.distance.cdist(Z,Z)\n",
    "print(D)\n"
   ]
  },
  {
   "cell_type": "markdown",
   "metadata": {},
   "source": [
    "**문제**"
   ]
  },
  {
   "cell_type": "markdown",
   "metadata": {
    "id": "xqN4dQByg7av"
   },
   "source": [
    "53. 실수(32비트) 배열을 정수(32비트)로 변환하는 방법"
   ]
  },
  {
   "cell_type": "code",
   "execution_count": null,
   "metadata": {
    "colab": {
     "base_uri": "https://localhost:8080/"
    },
    "id": "ITtGSqkng5Pm",
    "outputId": "b876e08b-8672-4947-90cb-2dd3859f1ad5"
   },
   "outputs": [],
   "source": [
    "Z = (np.random.rand(10)*100).astype(np.float32)\n",
    "\n",
    "Y = Z.view(np.int32)\n",
    "\n",
    "Y[:] = Z\n",
    "print(Y)"
   ]
  },
  {
   "cell_type": "markdown",
   "metadata": {},
   "source": [
    "**문제**"
   ]
  },
  {
   "cell_type": "markdown",
   "metadata": {
    "id": "BfUs1qPFhCzz"
   },
   "source": [
    "54. 다음 파일을 읽는 방법\n",
    "\n",
    "1, 2, 3, 4, 5   \n",
    "6,  ,   ,  7, 8   \n",
    "  ,  , 9,10, 11  \n"
   ]
  },
  {
   "cell_type": "code",
   "execution_count": null,
   "metadata": {
    "colab": {
     "base_uri": "https://localhost:8080/"
    },
    "id": "-Yd18_kLg-qz",
    "outputId": "9177715a-91cb-4664-922b-56df515e5e70"
   },
   "outputs": [],
   "source": [
    "from io import StringIO\n",
    "\n",
    "# 가짜 파일 생성\n",
    "s = StringIO('''1, 2, 3, 4, 5\n",
    "\n",
    "                6,  ,  , 7, 8\n",
    "\n",
    "                 ,  , 9,10,11\n",
    "''')\n",
    "\n",
    "Z = np.genfromtxt(s, delimiter=\",\", dtype=np.int)\n",
    "print(Z)"
   ]
  },
  {
   "cell_type": "markdown",
   "metadata": {},
   "source": [
    "**문제**"
   ]
  },
  {
   "cell_type": "markdown",
   "metadata": {
    "id": "ZienDepvhXL7"
   },
   "source": [
    "55. 어레이에 대한 인덱스, 요소 구하기"
   ]
  },
  {
   "cell_type": "code",
   "execution_count": null,
   "metadata": {
    "colab": {
     "base_uri": "https://localhost:8080/"
    },
    "id": "KDahw4nnhPR_",
    "outputId": "44b521b8-2147-4450-ec79-f45475021a18"
   },
   "outputs": [],
   "source": [
    "Z = np.arange(9).reshape(3,3)\n",
    "\n",
    "for index, value in np.ndenumerate(Z):\n",
    "    print(index, value)\n",
    "\n",
    "for index in np.ndindex(Z.shape):\n",
    "    print(index, Z[index])\n"
   ]
  },
  {
   "cell_type": "markdown",
   "metadata": {},
   "source": [
    "**문제**"
   ]
  },
  {
   "cell_type": "markdown",
   "metadata": {
    "id": "kTrRD8FfNrxj"
   },
   "source": [
    "56. 2차원 가우스 배열 만들기"
   ]
  },
  {
   "cell_type": "code",
   "execution_count": null,
   "metadata": {
    "colab": {
     "base_uri": "https://localhost:8080/"
    },
    "id": "D0lN9_CthdKf",
    "outputId": "541e4f37-4a7a-4889-e063-4bae4734f520"
   },
   "outputs": [],
   "source": [
    "X, Y = np.meshgrid(np.linspace(-1,1,10), np.linspace(-1,1,10))\n",
    "\n",
    "D = np.sqrt(X*X+Y*Y)\n",
    "\n",
    "sigma, mu = 1.0, 0.0\n",
    "\n",
    "G = np.exp(-( (D-mu)**2 / ( 2.0 * sigma**2 ) ) )\n",
    "print(G)"
   ]
  },
  {
   "cell_type": "markdown",
   "metadata": {},
   "source": [
    "**문제**"
   ]
  },
  {
   "cell_type": "markdown",
   "metadata": {
    "id": "KitlVcFbN0WB"
   },
   "source": [
    "57.  2차원 배열에 p 요소를 랜덤으로 배치하는 방법"
   ]
  },
  {
   "cell_type": "code",
   "execution_count": null,
   "metadata": {
    "colab": {
     "base_uri": "https://localhost:8080/"
    },
    "id": "Rj4TKNmqNx_5",
    "outputId": "d87a6472-c074-4733-c7e0-92514652afcd"
   },
   "outputs": [],
   "source": [
    "n = 10\n",
    "p = 3\n",
    "\n",
    "Z = np.zeros((n,n))\n",
    "\n",
    "np.put(Z, np.random.choice(range(n*n), p, replace=False),1) # 1을 3개 무작위로 배치하게 선택\n",
    "print(Z)"
   ]
  },
  {
   "cell_type": "markdown",
   "metadata": {},
   "source": [
    "**문제**"
   ]
  },
  {
   "cell_type": "markdown",
   "metadata": {
    "id": "1i9-UPz-OGPk"
   },
   "source": [
    "58.  행렬의 각 행의 평균을 출력 하는 방법"
   ]
  },
  {
   "cell_type": "code",
   "execution_count": null,
   "metadata": {
    "colab": {
     "base_uri": "https://localhost:8080/"
    },
    "id": "EN0XM04mN9IX",
    "outputId": "dc27a7ce-2baf-4090-ea33-6ad044d019b8"
   },
   "outputs": [],
   "source": [
    "X = np.random.rand(5, 10)\n",
    "# 최신버전\n",
    "Y = X - X.mean(axis=1, keepdims=True)\n",
    "\n",
    "print(Y)"
   ]
  },
  {
   "cell_type": "code",
   "execution_count": null,
   "metadata": {
    "colab": {
     "base_uri": "https://localhost:8080/"
    },
    "id": "Hb6-zl1OOR92",
    "outputId": "0aa4d738-96fc-43ca-d8a7-423e37530168"
   },
   "outputs": [],
   "source": [
    "# 구버전\n",
    "Y = X - X.mean(axis=1).reshape(-1, 1)\n",
    "\n",
    "print(Y)"
   ]
  },
  {
   "cell_type": "markdown",
   "metadata": {},
   "source": [
    "**문제**"
   ]
  },
  {
   "cell_type": "markdown",
   "metadata": {
    "id": "qAzNP9y0Oa8L"
   },
   "source": [
    "59.  배열을 n번째 열로 정렬하는 방법"
   ]
  },
  {
   "cell_type": "code",
   "execution_count": null,
   "metadata": {
    "colab": {
     "base_uri": "https://localhost:8080/"
    },
    "id": "uYsQvMp6OZB2",
    "outputId": "190491ed-5801-44ff-c0d7-4a467b6780cb"
   },
   "outputs": [],
   "source": [
    "Z = np.random.randint(0,10,(3,3))\n",
    "\n",
    "print(Z)\n",
    "print(Z[Z[:,1].argsort()]) # 첫번째 열의 수로 행 정렬"
   ]
  },
  {
   "cell_type": "markdown",
   "metadata": {},
   "source": [
    "**문제**"
   ]
  },
  {
   "cell_type": "markdown",
   "metadata": {
    "id": "pcXEy3q3PJgK"
   },
   "source": [
    "60. 주어진 2차원 배열에 `null` 열이 있는지 확인하는 방법"
   ]
  },
  {
   "cell_type": "code",
   "execution_count": null,
   "metadata": {
    "colab": {
     "base_uri": "https://localhost:8080/"
    },
    "id": "ic7yP5aiOfYe",
    "outputId": "675c07dc-78dd-4120-e8ae-921be207e33e"
   },
   "outputs": [],
   "source": [
    "Z = np.random.randint(0,3,(3,10))\n",
    "Z"
   ]
  },
  {
   "cell_type": "code",
   "execution_count": null,
   "metadata": {
    "colab": {
     "base_uri": "https://localhost:8080/"
    },
    "id": "zNl9KLdtPShT",
    "outputId": "607d845e-a92f-433a-92a1-092b07c47bbe"
   },
   "outputs": [],
   "source": [
    "print((~Z.any(axis=0)).any())"
   ]
  },
  {
   "cell_type": "markdown",
   "metadata": {},
   "source": [
    "**문제**"
   ]
  },
  {
   "cell_type": "markdown",
   "metadata": {
    "id": "PQP1c6xuPaAW"
   },
   "source": [
    "61. 배열의 지정된 값에서 가장 가까운 값 찾기"
   ]
  },
  {
   "cell_type": "code",
   "execution_count": null,
   "metadata": {
    "colab": {
     "base_uri": "https://localhost:8080/"
    },
    "id": "jDIVfbACPV0j",
    "outputId": "587827b6-3f0e-4faa-9d1e-504abde13b4e"
   },
   "outputs": [],
   "source": [
    "Z = np.random.uniform(0,1,10)\n",
    "z = 0.5\n",
    "\n",
    "# argmin : 최솟값 인덱스\n",
    "# flat : 1차원 어레이로 취급 후 인덱싱\n",
    "m = Z.flat[np.abs(Z - z).argmin()] \n",
    "print(m)"
   ]
  },
  {
   "cell_type": "markdown",
   "metadata": {},
   "source": [
    "**문제**"
   ]
  },
  {
   "cell_type": "markdown",
   "metadata": {
    "id": "4MgQhD9nQnyI"
   },
   "source": [
    "62. 반복문을 사용하여 합계를 계산하는 방법  \n",
    "(형상 (1,3)과 (3,1)의 두 배열을 고려)\n"
   ]
  },
  {
   "cell_type": "code",
   "execution_count": null,
   "metadata": {
    "colab": {
     "base_uri": "https://localhost:8080/"
    },
    "id": "nTpruzDwPdil",
    "outputId": "abbbaa3a-a4a4-4e4b-eb53-2e6a4ad430d8"
   },
   "outputs": [],
   "source": [
    "A = np.arange(3).reshape(3,1)\n",
    "B = np.arange(3).reshape(1,3)\n",
    "\n",
    "print(A)\n",
    "print(B)"
   ]
  },
  {
   "cell_type": "code",
   "execution_count": null,
   "metadata": {
    "colab": {
     "base_uri": "https://localhost:8080/"
    },
    "id": "DNUA_f21QvHF",
    "outputId": "a5a95af1-6de0-4422-ee41-05b00a7e15de"
   },
   "outputs": [],
   "source": [
    "it = np.nditer([A,B,None])\n",
    "\n",
    "for x,y,z in it: z[...] = x + y\n",
    "\n",
    "print(it.operands[2])"
   ]
  },
  {
   "cell_type": "markdown",
   "metadata": {},
   "source": [
    "**문제**"
   ]
  },
  {
   "cell_type": "markdown",
   "metadata": {
    "id": "s6g_fJvrRrtc"
   },
   "source": [
    "63. 이름 속성을 가진 어레이 클래스 생성"
   ]
  },
  {
   "cell_type": "code",
   "execution_count": null,
   "metadata": {
    "id": "BuxuD87bRpeu"
   },
   "outputs": [],
   "source": [
    "class NamedArray(np.ndarray):\n",
    "    def __new__(cls, array, name=\"no name\"): # 이름 기본값 \n",
    "        obj = np.asarray(array).view(cls)\n",
    "        obj.name = name\n",
    "        return obj\n",
    "        \n",
    "    def __array_finalize__(self, obj):\n",
    "        if obj is None: return\n",
    "        self.info = getattr(obj, 'name', \"no name\")"
   ]
  },
  {
   "cell_type": "code",
   "execution_count": null,
   "metadata": {
    "colab": {
     "base_uri": "https://localhost:8080/"
    },
    "id": "DcavYXSORwdd",
    "outputId": "39fd3810-e5ca-4663-88c8-682f0cac087f"
   },
   "outputs": [],
   "source": [
    "Z = NamedArray(np.arange(10), \"range_10\") #range_10이라는 이름을 가진 어레이 생성\n",
    "print (Z.name)"
   ]
  },
  {
   "cell_type": "markdown",
   "metadata": {},
   "source": [
    "**문제**"
   ]
  },
  {
   "cell_type": "markdown",
   "metadata": {
    "id": "QS_zP2j9SIHL"
   },
   "source": [
    "64. 주어진 벡터를 생각해 보자. 두 번째 벡터에 의해 인덱싱된 각 요소에 1을 추가하는 방법"
   ]
  },
  {
   "cell_type": "code",
   "execution_count": null,
   "metadata": {
    "colab": {
     "base_uri": "https://localhost:8080/"
    },
    "id": "8yqE48qARyqT",
    "outputId": "0fa0085d-b72b-4006-d149-322603ff2f7d"
   },
   "outputs": [],
   "source": [
    "Z = np.ones(10)\n",
    "I = np.random.randint(0,len(Z),20)\n",
    "\n",
    "print(I)"
   ]
  },
  {
   "cell_type": "code",
   "execution_count": null,
   "metadata": {
    "colab": {
     "base_uri": "https://localhost:8080/"
    },
    "id": "_LkATEzTTLgj",
    "outputId": "2048040f-c379-4324-e5d4-5efa7107fe67"
   },
   "outputs": [],
   "source": [
    "Z += np.bincount(I, minlength=len(Z)) # I 배열 원소의 빈도수+1 Z에 저장\n",
    "print(Z)"
   ]
  },
  {
   "cell_type": "code",
   "execution_count": null,
   "metadata": {
    "colab": {
     "base_uri": "https://localhost:8080/"
    },
    "id": "ONvb_kGqTBwn",
    "outputId": "a7160b71-9140-4757-ca0e-aab8f8080572"
   },
   "outputs": [],
   "source": [
    "Z = np.ones(10)\n",
    "I = np.random.randint(0,len(Z),20)\n",
    "\n",
    "print(I)\n",
    "# 다른 방법\n",
    "np.add.at(Z, I, 1)\n",
    "print(Z)"
   ]
  },
  {
   "cell_type": "markdown",
   "metadata": {},
   "source": [
    "**문제**"
   ]
  },
  {
   "cell_type": "markdown",
   "metadata": {
    "id": "qDpyxrR6SM5f"
   },
   "source": [
    "65. 인덱스 목록(I)을 기준으로 배열(F)에 벡터(X) 요소를 누적하는 방법 "
   ]
  },
  {
   "cell_type": "code",
   "execution_count": null,
   "metadata": {
    "colab": {
     "base_uri": "https://localhost:8080/"
    },
    "id": "y2MUiiIbSQlV",
    "outputId": "ef6b779b-8fbb-4ba2-81c1-77c2c21c8fda"
   },
   "outputs": [],
   "source": [
    "X = [1,2,3,4,5,6]\n",
    "I = [1,3,9,3,4,1]\n",
    "\n",
    "F = np.bincount(I,X) # I의 원소의 인덱스를 X에 대입해 얻은 원소를 F에 표현\n",
    "print(F)"
   ]
  },
  {
   "cell_type": "markdown",
   "metadata": {},
   "source": [
    "**문제**"
   ]
  },
  {
   "cell_type": "markdown",
   "metadata": {
    "id": "ij_x-aTqSRIg"
   },
   "source": [
    "66. `(dtype = ubyte)`의 (w,h,3) 이미지를 고려하여 고유 색상의 수를 계산합니다. "
   ]
  },
  {
   "cell_type": "code",
   "execution_count": null,
   "metadata": {
    "colab": {
     "base_uri": "https://localhost:8080/"
    },
    "id": "-UOp1VxbU4i3",
    "outputId": "4b01b18c-c9bc-4289-cbcd-fcd4de703b1f"
   },
   "outputs": [],
   "source": [
    "w,h = 16,16\n",
    "I = np.random.randint(0,2,(h,w,3)).astype(np.ubyte)\n",
    "F = I[...,0]*256*256 + I[...,1]*256 +I[...,2]\n",
    "\n",
    "n = len(np.unique(F))\n",
    "print(np.unique(I))"
   ]
  },
  {
   "cell_type": "markdown",
   "metadata": {},
   "source": [
    "**문제**"
   ]
  },
  {
   "cell_type": "markdown",
   "metadata": {
    "id": "4AHCrO_3VBU-"
   },
   "source": [
    "67. 4차원 배열을 고려했을 때, 마지막 두 축에서 합계를 한 번에 얻는 방법"
   ]
  },
  {
   "cell_type": "code",
   "execution_count": null,
   "metadata": {
    "colab": {
     "base_uri": "https://localhost:8080/"
    },
    "id": "7hnB-DUTU8r8",
    "outputId": "2e66bef9-7b74-4f53-e237-64eaa5b9b5b5"
   },
   "outputs": [],
   "source": [
    "A = np.random.randint(0,10,(3,4,3,4))\n",
    "A"
   ]
  },
  {
   "cell_type": "code",
   "execution_count": null,
   "metadata": {
    "colab": {
     "base_uri": "https://localhost:8080/"
    },
    "id": "KEqPNrcnVHRA",
    "outputId": "6642035c-6c75-471c-f8a9-6d6978f33b30"
   },
   "outputs": [],
   "source": [
    "sum = A.sum(axis=(-2,-1)) # 마지막 두 축의 합\n",
    "print(sum)"
   ]
  },
  {
   "cell_type": "code",
   "execution_count": null,
   "metadata": {
    "colab": {
     "base_uri": "https://localhost:8080/"
    },
    "id": "-d1Ty25nVNIP",
    "outputId": "da7359e7-7b5d-4677-e1be-1dec2b1c2908"
   },
   "outputs": [],
   "source": [
    "# 차원을 줄여 같은 동작을 하게 함\n",
    "sum = A.reshape(A.shape[:-2] + (-1,)).sum(axis=-1)\n",
    "print(sum)"
   ]
  },
  {
   "cell_type": "markdown",
   "metadata": {},
   "source": [
    "**문제**"
   ]
  },
  {
   "cell_type": "markdown",
   "metadata": {
    "id": "-K4cBSQdV_Sz"
   },
   "source": [
    "68. 1차원 벡터 D를 고려했을 때, 부분 집합 지수를 설명하는 동일한 크기의 벡터 S를 사용하여 D의 부분 집합 평균을 계산하는 방법"
   ]
  },
  {
   "cell_type": "code",
   "execution_count": null,
   "metadata": {
    "colab": {
     "base_uri": "https://localhost:8080/"
    },
    "id": "MpXTRFDUWKYb",
    "outputId": "daeb8588-cfe8-4dd2-dd38-f3db1be90752"
   },
   "outputs": [],
   "source": [
    "D = np.random.uniform(0,1,100)\n",
    "S = np.random.randint(0,10,100)\n",
    "\n",
    "D_sums = np.bincount(S, weights=D)\n",
    "D_counts = np.bincount(S)\n",
    "D_means = D_sums / D_counts\n",
    "\n",
    "print(D_means)"
   ]
  },
  {
   "cell_type": "code",
   "execution_count": null,
   "metadata": {
    "colab": {
     "base_uri": "https://localhost:8080/"
    },
    "id": "RUfMbjAQWOFR",
    "outputId": "599ee031-5f22-4889-f5b6-78f72751a521"
   },
   "outputs": [],
   "source": [
    "# 판다스를 사용한다면 ...\n",
    "import pandas as pd\n",
    "print(pd.Series(D).groupby(S).mean())"
   ]
  },
  {
   "cell_type": "markdown",
   "metadata": {},
   "source": [
    "**문제**"
   ]
  },
  {
   "cell_type": "markdown",
   "metadata": {
    "id": "G9b-31cMWX7X"
   },
   "source": [
    "69. 도트 제품의 대각선을 구하는 방법"
   ]
  },
  {
   "cell_type": "code",
   "execution_count": null,
   "metadata": {
    "colab": {
     "base_uri": "https://localhost:8080/"
    },
    "id": "7gL-YpDaWRxJ",
    "outputId": "c38df169-87ae-473c-9ba2-fe0cc26db496"
   },
   "outputs": [],
   "source": [
    "A = np.random.uniform(0,1,(5,5))\n",
    "B = np.random.uniform(0,1,(5,5))\n",
    "print(A)\n",
    "print(\"====================================================================\")\n",
    "print(B)"
   ]
  },
  {
   "cell_type": "code",
   "execution_count": null,
   "metadata": {
    "colab": {
     "base_uri": "https://localhost:8080/"
    },
    "id": "7f0ayHXGWe3_",
    "outputId": "df246cda-40c5-44b4-af83-7a467a7aadfc"
   },
   "outputs": [],
   "source": [
    "np.diag(np.dot(A, B))"
   ]
  },
  {
   "cell_type": "code",
   "execution_count": null,
   "metadata": {
    "colab": {
     "base_uri": "https://localhost:8080/"
    },
    "id": "H-bgGEqpWhXz",
    "outputId": "1c170ed0-7b61-4ed8-c79b-aca5302e304f"
   },
   "outputs": [],
   "source": [
    "# 빠르게 한다면...\n",
    "np.einsum(\"ij,ji->i\", A, B)"
   ]
  },
  {
   "cell_type": "markdown",
   "metadata": {},
   "source": [
    "**문제**"
   ]
  },
  {
   "cell_type": "markdown",
   "metadata": {
    "id": "afbQDhmlWx7h"
   },
   "source": [
    "70. 벡터 [1, 2, 3, 4, 5]를 생각해보자. 각 값 사이에 3연속으로 0이 인터리브된 새 벡터를 만드는 방법"
   ]
  },
  {
   "cell_type": "code",
   "execution_count": null,
   "metadata": {
    "colab": {
     "base_uri": "https://localhost:8080/"
    },
    "id": "SERsgMjfWwYN",
    "outputId": "c9480aa1-f306-46f0-ce53-9f256fae63b9"
   },
   "outputs": [],
   "source": [
    "Z = np.array([1,2,3,4,5])\n",
    "nz = 3\n",
    "\n",
    "Z0 = np.zeros(len(Z) + (len(Z)-1)*(nz))\n",
    "\n",
    "Z0[::nz+1] = Z\n",
    "print(Z0)"
   ]
  },
  {
   "cell_type": "markdown",
   "metadata": {},
   "source": [
    "**문제**"
   ]
  },
  {
   "cell_type": "markdown",
   "metadata": {
    "id": "IcZW09SHXF1w"
   },
   "source": [
    "71. 차원 배열(5,5,3), 차원 배열(5,5)을 곱하는 방법"
   ]
  },
  {
   "cell_type": "code",
   "execution_count": null,
   "metadata": {
    "colab": {
     "base_uri": "https://localhost:8080/"
    },
    "id": "W_-eI4w3W8Ex",
    "outputId": "0404ea3d-4208-4196-daeb-faf949e4c373"
   },
   "outputs": [],
   "source": [
    "A = np.ones((5,5,3))\n",
    "B = 2*np.ones((5,5))\n",
    "print(A)\n",
    "print(\"===========\")\n",
    "print(B)\n",
    "print(\"===========\")\n",
    "print(A * B[:,:,None])"
   ]
  },
  {
   "cell_type": "markdown",
   "metadata": {},
   "source": [
    "**문제**"
   ]
  },
  {
   "cell_type": "markdown",
   "metadata": {
    "id": "RiqT_A4YXILP"
   },
   "source": [
    "72. 배열의 두 행을 바꾸는 방법"
   ]
  },
  {
   "cell_type": "code",
   "execution_count": null,
   "metadata": {
    "colab": {
     "base_uri": "https://localhost:8080/"
    },
    "id": "XPdiCdJBXJvv",
    "outputId": "6b9fd45e-619d-4bbf-9a7f-ae4edb79b065"
   },
   "outputs": [],
   "source": [
    "A = np.arange(25).reshape(5,5)\n",
    "A[[0,1]] = A[[1,0]]\n",
    "print(A)"
   ]
  },
  {
   "cell_type": "markdown",
   "metadata": {},
   "source": [
    "**문제**"
   ]
  },
  {
   "cell_type": "markdown",
   "metadata": {
    "id": "ghZ6SSvNXKO3"
   },
   "source": [
    "73. 10개의 삼각형(공유 꼭지점 포함)을 설명하는 10개의 세쌍둥이 집합을 생각해보자. 모든 삼각형을 구성하는 고유한 선 세그먼트 집합을 찾는다."
   ]
  },
  {
   "cell_type": "code",
   "execution_count": null,
   "metadata": {
    "colab": {
     "base_uri": "https://localhost:8080/"
    },
    "id": "NEqmNbzvXkT5",
    "outputId": "05b1e2ae-a177-4ed2-907e-38984f1808b5"
   },
   "outputs": [],
   "source": [
    "faces = np.random.randint(0,100,(10,3))\n",
    "\n",
    "F = np.roll(faces.repeat(2,axis=1),-1,axis=1) # 행별로 원소를 두번씩 반복하고 맨 앞에 있는 것을 맨 뒤로 옮긴다\n",
    "F = F.reshape(len(F)*3,2) # 배열 모양 바꾸기\n",
    "F = np.sort(F,axis=1) # 행 기준 정렬 \n",
    "\n",
    "G = F.view( dtype=[('p0',F.dtype),('p1',F.dtype)] ) # G는 F얕은 복사\n",
    "\n",
    "G = np.unique(G) #유일한 값으로 다시 저장\n",
    "print(G)"
   ]
  },
  {
   "cell_type": "markdown",
   "metadata": {},
   "source": [
    "**문제**"
   ]
  },
  {
   "cell_type": "markdown",
   "metadata": {
    "id": "mBfUI9p3aTQ9"
   },
   "source": [
    "74. 빈 카운트에 해당하는 정렬된 `배열 C`가 주어진 경우 `np.bincount(A) == C`와 같은 `배열 A`를 생성하는 방법"
   ]
  },
  {
   "cell_type": "code",
   "execution_count": null,
   "metadata": {
    "colab": {
     "base_uri": "https://localhost:8080/"
    },
    "id": "9weTqme3Zvc5",
    "outputId": "85621f71-5aaa-4683-bbfd-8d7e7ae05ee4"
   },
   "outputs": [],
   "source": [
    "C = np.bincount([1,1,2,3,4,4,6])\n",
    "A = np.repeat(np.arange(len(C)), C)\n",
    "print(A)"
   ]
  },
  {
   "cell_type": "markdown",
   "metadata": {},
   "source": [
    "**문제**"
   ]
  },
  {
   "cell_type": "markdown",
   "metadata": {
    "id": "YLFncZicacgW"
   },
   "source": [
    "75. 배열 상의 슬라이딩 창을 사용하여 평균을 계산하는 방법"
   ]
  },
  {
   "cell_type": "code",
   "execution_count": null,
   "metadata": {
    "colab": {
     "base_uri": "https://localhost:8080/"
    },
    "id": "8oFpAEUfabTG",
    "outputId": "b128e86f-69b3-4bb0-91f3-c4714c9e079c"
   },
   "outputs": [],
   "source": [
    "def moving_average(a, n=3) :\n",
    "    ret = np.cumsum(a, dtype=float)\n",
    "    ret[n:] = ret[n:] - ret[:-n]\n",
    "    return ret[n - 1:] / n\n",
    "\n",
    "Z = np.arange(20)\n",
    "print(moving_average(Z, n=3))"
   ]
  },
  {
   "cell_type": "markdown",
   "metadata": {},
   "source": [
    "**문제**"
   ]
  },
  {
   "cell_type": "markdown",
   "metadata": {
    "id": "xwTJ7IE5akvj"
   },
   "source": [
    "76. 1차원 배열 Z를 고려하여 첫 번째 행이 (Z[0], Z[1], Z[2])인 2차원 배열을 만들고 그 다음 행이 1로 이동되도록 하기\n",
    "\n",
    "   마지막 행은 (Z[-3], Z[-2], Z[-1]). "
   ]
  },
  {
   "cell_type": "code",
   "execution_count": null,
   "metadata": {
    "colab": {
     "base_uri": "https://localhost:8080/"
    },
    "id": "Vc4Y0uCRahho",
    "outputId": "e5522b12-fb86-4899-fe13-a410c6dad363"
   },
   "outputs": [],
   "source": [
    "from numpy.lib import stride_tricks\n",
    "\n",
    "def rolling(a, window):\n",
    "    shape = (a.size - window + 1, window) # (8,3)\n",
    "    strides = (a.itemsize, a.itemsize)    # (8,8)\n",
    "    return stride_tricks.as_strided(a, shape=shape, strides=strides) # 주어진 모양과 보폭으로 배열 만듬\n",
    "\n",
    "Z = rolling(np.arange(10), 3)\n",
    "print(Z)"
   ]
  },
  {
   "cell_type": "markdown",
   "metadata": {},
   "source": [
    "**문제**"
   ]
  },
  {
   "cell_type": "markdown",
   "metadata": {
    "id": "P80drO0Cb6dG"
   },
   "source": [
    "77. 부울을 부정하는 방법 또는 부동 부호를 변경하는 방법"
   ]
  },
  {
   "cell_type": "code",
   "execution_count": null,
   "metadata": {
    "colab": {
     "base_uri": "https://localhost:8080/"
    },
    "id": "jRuFNMx1a4L9",
    "outputId": "3f61933b-2969-43dd-ecdf-33c56a6ca6fa"
   },
   "outputs": [],
   "source": [
    "Z = np.random.randint(0,2,100)\n",
    "print(Z)\n",
    "\n",
    "np.logical_not(Z, out=Z)"
   ]
  },
  {
   "cell_type": "code",
   "execution_count": null,
   "metadata": {
    "colab": {
     "base_uri": "https://localhost:8080/"
    },
    "id": "j8wOcs3Nb_es",
    "outputId": "31103642-e2cd-4a27-e26c-be08b5fc4cfe"
   },
   "outputs": [],
   "source": [
    "Z = np.random.uniform(-1.0,1.0,100)\n",
    "np.negative(Z, out=Z) # 원소에 -1곱"
   ]
  },
  {
   "cell_type": "markdown",
   "metadata": {},
   "source": [
    "**문제**"
   ]
  },
  {
   "cell_type": "markdown",
   "metadata": {
    "id": "hLzt-3LWdzyz"
   },
   "source": [
    "78. p에서 각 선(i)까지의 거리를 계산하는 방법은"
   ]
  },
  {
   "cell_type": "code",
   "execution_count": null,
   "metadata": {
    "colab": {
     "base_uri": "https://localhost:8080/"
    },
    "id": "y4XdxE4EgWtB",
    "outputId": "ff25c341-7723-446b-e446-cdab121ef42f"
   },
   "outputs": [],
   "source": [
    "# 거리를 계산하는 함수\n",
    "def distance(P0, P1, p):\n",
    "    T = P1 - P0\n",
    "    L = (T**2).sum(axis=1)\n",
    "    U = -((P0[:,0]-p[...,0])*T[:,0] + (P0[:,1]-p[...,1])*T[:,1]) / L\n",
    "    U = U.reshape(len(U),1)\n",
    "    D = P0 + U*T - p\n",
    "    return np.sqrt((D**2).sum(axis=1))\n",
    "\n",
    "P0 = np.random.uniform(-10,10,(10,2))\n",
    "P1 = np.random.uniform(-10,10,(10,2))\n",
    "p  = np.random.uniform(-10,10,( 1,2))\n",
    "print(distance(P0, P1, p))"
   ]
  },
  {
   "cell_type": "markdown",
   "metadata": {},
   "source": [
    "**문제**"
   ]
  },
  {
   "cell_type": "markdown",
   "metadata": {
    "id": "ky1OjNIzd0JY"
   },
   "source": [
    "79. 각 점 j(P[j])에서 각 선 i(P0[i]까지의 거리를 계산하는 방법"
   ]
  },
  {
   "cell_type": "code",
   "execution_count": null,
   "metadata": {
    "colab": {
     "base_uri": "https://localhost:8080/"
    },
    "id": "2_iOfkbSgiMI",
    "outputId": "56c1dc44-c594-4db9-8685-871ea6d5b7a4"
   },
   "outputs": [],
   "source": [
    "P0 = np.random.uniform(-10, 10, (10,2))\n",
    "P1 = np.random.uniform(-10,10,(10,2))\n",
    "p = np.random.uniform(-10, 10, (10,2))\n",
    "\n",
    "print(np.array([distance(P0,P1,p_i) for p_i in p]))"
   ]
  },
  {
   "cell_type": "markdown",
   "metadata": {},
   "source": [
    "**문제**"
   ]
  },
  {
   "cell_type": "markdown",
   "metadata": {
    "id": "rmQXkkyBd47n"
   },
   "source": [
    "80.  임의 배열을 고려하여 지정된 요소(필요한 경우 채우기 값을 가진 패드)를 중심으로 아래의 추출 기능을 작성해보자"
   ]
  },
  {
   "cell_type": "code",
   "execution_count": null,
   "metadata": {
    "id": "V31PAEFzgpgV"
   },
   "outputs": [],
   "source": [
    "Z = np.random.randint(0,10,(10,10))\n",
    "shape = (5,5)\n",
    "fill  = 0\n",
    "position = (1,1)"
   ]
  },
  {
   "cell_type": "code",
   "execution_count": null,
   "metadata": {
    "id": "EwiYEAdbgvob"
   },
   "outputs": [],
   "source": [
    "R = np.ones(shape, dtype=Z.dtype)*fill\n",
    "P  = np.array(list(position)).astype(int)\n",
    "Rs = np.array(list(R.shape)).astype(int)\n",
    "Zs = np.array(list(Z.shape)).astype(int)"
   ]
  },
  {
   "cell_type": "code",
   "execution_count": null,
   "metadata": {
    "id": "X8rrWV3ngwhY"
   },
   "outputs": [],
   "source": [
    "R_start = np.zeros((len(shape),)).astype(int)\n",
    "R_stop  = np.array(list(shape)).astype(int)\n",
    "Z_start = (P-Rs//2)\n",
    "Z_stop  = (P+Rs//2)+Rs%2"
   ]
  },
  {
   "cell_type": "code",
   "execution_count": null,
   "metadata": {
    "id": "VSqLr-WbgyNw"
   },
   "outputs": [],
   "source": [
    "R_start = (R_start - np.minimum(Z_start,0)).tolist()\n",
    "Z_start = (np.maximum(Z_start,0)).tolist()\n",
    "R_stop = np.maximum(R_start, (R_stop - np.maximum(Z_stop-Zs,0))).tolist()\n",
    "Z_stop = (np.minimum(Z_stop,Zs)).tolist()"
   ]
  },
  {
   "cell_type": "code",
   "execution_count": null,
   "metadata": {
    "colab": {
     "base_uri": "https://localhost:8080/"
    },
    "id": "BLjbBFKKg0Bx",
    "outputId": "8be2ec2d-db48-44ba-aee9-a64c26b13c96"
   },
   "outputs": [],
   "source": [
    "r = [slice(start,stop) for start,stop in zip(R_start,R_stop)]\n",
    "z = [slice(start,stop) for start,stop in zip(Z_start,Z_stop)]\n",
    "R[r] = Z[z]\n",
    "\n",
    "print(Z)\n",
    "print(R)"
   ]
  },
  {
   "cell_type": "markdown",
   "metadata": {},
   "source": [
    "**문제**"
   ]
  },
  {
   "cell_type": "markdown",
   "metadata": {
    "id": "4HVN-d4Qd45f"
   },
   "source": [
    "81. 배열 R × [1,2,3,4,5,6,7,8,9,10,11,3,13,14]을 생성하는 방법. \n",
    "\n",
    "배열 R × [[1,2,3,4,5], [3,4,6], [1,12,13,14], [1,12,13,14]"
   ]
  },
  {
   "cell_type": "code",
   "execution_count": null,
   "metadata": {
    "colab": {
     "base_uri": "https://localhost:8080/"
    },
    "id": "UshRmLnyg6u1",
    "outputId": "dbbb5060-1c78-43c8-a5e6-acf489bc6f14"
   },
   "outputs": [],
   "source": [
    "Z = np.arange(1,15,dtype=np.uint32)\n",
    "R = stride_tricks.as_strided(Z,(11,4),(4,4))\n",
    "\n",
    "print(R)"
   ]
  },
  {
   "cell_type": "markdown",
   "metadata": {},
   "source": [
    "**문제**"
   ]
  },
  {
   "cell_type": "markdown",
   "metadata": {
    "id": "au3MxlUjd43p"
   },
   "source": [
    "82. 행렬 순위 계산"
   ]
  },
  {
   "cell_type": "code",
   "execution_count": null,
   "metadata": {
    "colab": {
     "base_uri": "https://localhost:8080/"
    },
    "id": "HaeeoS3jg9EH",
    "outputId": "8459ae38-cc92-4398-b91b-eb8bf164a3cd"
   },
   "outputs": [],
   "source": [
    "Z = np.random.uniform(0,1,(10,10))\n",
    "U, S, V = np.linalg.svd(Z) #특이값 분해\n",
    "\n",
    "rank = np.sum(S > 1e-10)\n",
    "print(rank)"
   ]
  },
  {
   "cell_type": "markdown",
   "metadata": {},
   "source": [
    "**문제**"
   ]
  },
  {
   "cell_type": "markdown",
   "metadata": {
    "id": "WK21CJLid41f"
   },
   "source": [
    "83. 어레이에서 가장 빈번한 값을 찾는 방법"
   ]
  },
  {
   "cell_type": "code",
   "execution_count": null,
   "metadata": {
    "colab": {
     "base_uri": "https://localhost:8080/"
    },
    "id": "6rp0deqBhF5a",
    "outputId": "90ba9374-c2c6-4e5a-e139-186938fefb49"
   },
   "outputs": [],
   "source": [
    "Z = np.random.randint(0,10,50)\n",
    "print(np.bincount(Z).argmax())"
   ]
  },
  {
   "cell_type": "markdown",
   "metadata": {},
   "source": [
    "**문제**"
   ]
  },
  {
   "cell_type": "markdown",
   "metadata": {
    "id": "ANSyQr_id4y_"
   },
   "source": [
    "84. 임의의 10x10 매트릭스에서 모든 연속 3x3 블록 추출"
   ]
  },
  {
   "cell_type": "code",
   "execution_count": null,
   "metadata": {
    "colab": {
     "base_uri": "https://localhost:8080/"
    },
    "id": "Z_U8pgo7hLRg",
    "outputId": "af833a55-ab39-4c8c-a4f8-72937f14fb87"
   },
   "outputs": [],
   "source": [
    "Z = np.random.randint(0,5,(10,10)) #10x10매트릭스\n",
    "\n",
    "n = 3\n",
    "i = 1 + (Z.shape[0]-3)\n",
    "j = 1 + (Z.shape[1]-3)\n",
    "\n",
    "C = stride_tricks.as_strided(Z, shape=(i, j, n, n), strides=Z.strides + Z.strides)\n",
    "print(C)"
   ]
  },
  {
   "cell_type": "markdown",
   "metadata": {},
   "source": [
    "**문제**"
   ]
  },
  {
   "cell_type": "markdown",
   "metadata": {
    "id": "4dNUJw9cd4vI"
   },
   "source": [
    "85. Z[i,j] [ Z[j,i]와 같은 2차원 어레이 하위 클래스 생성하기"
   ]
  },
  {
   "cell_type": "code",
   "execution_count": null,
   "metadata": {
    "colab": {
     "base_uri": "https://localhost:8080/"
    },
    "id": "e1iE6ScqhYF_",
    "outputId": "d9dde279-12f6-4e05-f7e3-a533d4d9c90c"
   },
   "outputs": [],
   "source": [
    "class Symetric(np.ndarray):\n",
    "    def __setitem__(self, index, value):\n",
    "        i,j = index\n",
    "        super(Symetric, self).__setitem__((i,j), value)\n",
    "        super(Symetric, self).__setitem__((j,i), value)\n",
    "\n",
    "def symetric(Z):\n",
    "    return np.asarray(Z + Z.T - np.diag(Z.diagonal())).view(Symetric)\n",
    "\n",
    "S = symetric(np.random.randint(0,10,(5,5)))\n",
    "S[2,3] = 42\n",
    "print(S)"
   ]
  },
  {
   "cell_type": "markdown",
   "metadata": {},
   "source": [
    "**문제**"
   ]
  },
  {
   "cell_type": "markdown",
   "metadata": {
    "id": "W6Cb7hDgd4r1"
   },
   "source": [
    "86. 형상 모수(n,n)와 형상 모수(n,1)가 있는 p 벡터의 집합(n,1)을 생각해보자. p 매트릭스 제품의 합계를 한 번에 계산하는 방법. (결과 모양은 (n,1)임)"
   ]
  },
  {
   "cell_type": "code",
   "execution_count": null,
   "metadata": {
    "colab": {
     "base_uri": "https://localhost:8080/"
    },
    "id": "czwBzrmthn10",
    "outputId": "0f831c74-2f77-4e11-fc2d-c245df099d39"
   },
   "outputs": [],
   "source": [
    "p, n = 10, 20\n",
    "\n",
    "M = np.ones((p,n,n))\n",
    "V = np.ones((p,n,1))\n",
    "S = np.tensordot(M, V, axes=[[0, 2], [0, 1]]) # 지정 축을 따라 dot곱 계산\n",
    "print(S)"
   ]
  },
  {
   "cell_type": "markdown",
   "metadata": {},
   "source": [
    "**문제**"
   ]
  },
  {
   "cell_type": "markdown",
   "metadata": {
    "id": "RsNW9i9dd4pb"
   },
   "source": [
    "87. 블록 합을 얻는 방법(블록 크기는 4x4)인 16x16 어레이를 생각해보자."
   ]
  },
  {
   "cell_type": "code",
   "execution_count": null,
   "metadata": {
    "id": "davvmnngh2hs"
   },
   "outputs": [],
   "source": [
    "Z = np.ones((16,16))\n",
    "k = 4\n",
    "S = np.add.reduceat(np.add.reduceat(Z, np.arange(0, Z.shape[0], k), axis=0),\n",
    "                                    np.arange(0, Z.shape[1], k), axis=1)\n",
    "# np.add.reduceat : 주어진 배열의 인덱스를 고려하여 해당인덱스부터 끝까지의 합계를 구해 배열로 반환\n",
    "print(S)"
   ]
  },
  {
   "cell_type": "markdown",
   "metadata": {},
   "source": [
    "**문제**"
   ]
  },
  {
   "cell_type": "markdown",
   "metadata": {
    "id": "04crSPXfd4m9"
   },
   "source": [
    "88. Numpy 어레이를 사용하여 `Game of Life`를 구현하는 방법\n",
    "\n",
    "[라이프게임]( https://ko.wikipedia.org/wiki/%EB%9D%BC%EC%9D%B4%ED%94%84_%EA%B2%8C%EC%9E%84)"
   ]
  },
  {
   "cell_type": "code",
   "execution_count": null,
   "metadata": {
    "colab": {
     "base_uri": "https://localhost:8080/"
    },
    "id": "51XNavN1itAg",
    "outputId": "8ad621fc-df95-4477-d6cf-a09f005b65a4"
   },
   "outputs": [],
   "source": [
    "def iterate(Z):\n",
    "    # 이웃한 것 더하기\n",
    "    N = (Z[0:-2,0:-2] + Z[0:-2,1:-1] + Z[0:-2,2:] +\n",
    "         Z[1:-1,0:-2]                + Z[1:-1,2:] +\n",
    "         Z[2:  ,0:-2] + Z[2:  ,1:-1] + Z[2:  ,2:])\n",
    "\n",
    "    # 규칙 적용\n",
    "    birth = (N==3) & (Z[1:-1,1:-1]==0)\n",
    "    survive = ((N==2) | (N==3)) & (Z[1:-1,1:-1]==1)\n",
    "    Z[...] = 0\n",
    "    Z[1:-1,1:-1][birth | survive] = 1\n",
    "    return Z\n",
    "\n",
    "Z = np.random.randint(0,2,(50,50))\n",
    "for i in range(100): Z = iterate(Z)\n",
    "print(Z)"
   ]
  },
  {
   "cell_type": "markdown",
   "metadata": {},
   "source": [
    "**문제**"
   ]
  },
  {
   "cell_type": "markdown",
   "metadata": {
    "id": "4N38j--9d4kN"
   },
   "source": [
    "89. 배열의 가장 큰 값을 얻는 방법"
   ]
  },
  {
   "cell_type": "code",
   "execution_count": null,
   "metadata": {
    "id": "XDYhnpJGjeXY"
   },
   "outputs": [],
   "source": [
    "Z = np.arange(10000)\n",
    "np.random.shuffle(Z)\n",
    "n = 5"
   ]
  },
  {
   "cell_type": "code",
   "execution_count": null,
   "metadata": {
    "colab": {
     "base_uri": "https://localhost:8080/"
    },
    "id": "UwzY2pMyjg-u",
    "outputId": "0b7ff867-2a45-4e3b-d6b8-f519b9ef10ef"
   },
   "outputs": [],
   "source": [
    "print (Z[np.argsort(Z)[-n:]])"
   ]
  },
  {
   "cell_type": "code",
   "execution_count": null,
   "metadata": {
    "colab": {
     "base_uri": "https://localhost:8080/"
    },
    "id": "8n21n45-jisB",
    "outputId": "6fd5ffca-8262-4cec-842e-497e042a506f"
   },
   "outputs": [],
   "source": [
    "# 다른 방법\n",
    "print (Z[np.argpartition(-Z,n)[:n]])"
   ]
  },
  {
   "cell_type": "markdown",
   "metadata": {},
   "source": [
    "**문제**"
   ]
  },
  {
   "cell_type": "markdown",
   "metadata": {
    "id": "OAM00vSHd4g4"
   },
   "source": [
    "90. 임의의 수의 벡터가 주어지면 데카르트 제품(모든 항목의 모든 조합)을 작성한다"
   ]
  },
  {
   "cell_type": "code",
   "execution_count": null,
   "metadata": {
    "colab": {
     "base_uri": "https://localhost:8080/"
    },
    "id": "XiBhhFtVjlt_",
    "outputId": "cacfdb3c-9412-4035-f27c-42abb717faa5"
   },
   "outputs": [],
   "source": [
    "def cartesian(arrays):\n",
    "    arrays = [np.asarray(a) for a in arrays]\n",
    "    shape = (len(x) for x in arrays)\n",
    "\n",
    "    ix = np.indices(shape, dtype=int)\n",
    "    ix = ix.reshape(len(arrays), -1).T\n",
    "\n",
    "    for n, arr in enumerate(arrays):\n",
    "        ix[:, n] = arrays[n][ix[:, n]]\n",
    "\n",
    "    return ix\n",
    "\n",
    "print (cartesian(([1, 2, 3], [4, 5], [6, 7])))"
   ]
  },
  {
   "cell_type": "markdown",
   "metadata": {},
   "source": [
    "**문제**"
   ]
  },
  {
   "cell_type": "markdown",
   "metadata": {
    "id": "FSbYzU0Id4UW"
   },
   "source": [
    "91. 일반 배열에서 레코드 배열을 만드는 방법"
   ]
  },
  {
   "cell_type": "code",
   "execution_count": null,
   "metadata": {
    "colab": {
     "base_uri": "https://localhost:8080/"
    },
    "id": "x6l8071ijsbP",
    "outputId": "6432a621-543e-4de4-ef23-24f446298655"
   },
   "outputs": [],
   "source": [
    "# 레코드 배열은 인덱스 대신 배열필드에 엑세스가능\n",
    "Z = np.array([(\"Hello\", 2.5, 3),\n",
    "              (\"World\", 3.6, 2)])\n",
    "R = np.core.records.fromarrays(Z.T, names='col1, col2, col3',\n",
    "                               formats = 'S8, f8, i8')\n",
    "print(R)"
   ]
  },
  {
   "cell_type": "markdown",
   "metadata": {},
   "source": [
    "**문제**"
   ]
  },
  {
   "cell_type": "markdown",
   "metadata": {
    "id": "lt1D9uVzd3Z9"
   },
   "source": [
    "92. 큰 벡터 Z를 구하자. 3가지 다른 방법을 사용하고 Z를 3의 제곱으로 구한다. "
   ]
  },
  {
   "cell_type": "code",
   "execution_count": null,
   "metadata": {
    "colab": {
     "base_uri": "https://localhost:8080/"
    },
    "id": "SXvsEoEojyEs",
    "outputId": "ddb74017-9cf8-46d1-da8f-2bcdac6fdc9b"
   },
   "outputs": [],
   "source": [
    "x = np.random.rand(int(5e7))\n",
    "\n",
    "%timeit np.power(x,3)"
   ]
  },
  {
   "cell_type": "code",
   "execution_count": null,
   "metadata": {
    "colab": {
     "base_uri": "https://localhost:8080/"
    },
    "id": "I-TCU-yQkLjX",
    "outputId": "77a5b2d7-22cb-49eb-8de8-9cf48a08e407"
   },
   "outputs": [],
   "source": [
    "%timeit x*x*x"
   ]
  },
  {
   "cell_type": "code",
   "execution_count": null,
   "metadata": {
    "colab": {
     "base_uri": "https://localhost:8080/"
    },
    "id": "kOkQ8PaqkPKd",
    "outputId": "57e0d063-82aa-4619-e0de-6152f88e0058"
   },
   "outputs": [],
   "source": [
    "%timeit np.einsum('i,i,i->i',x,x,x)"
   ]
  },
  {
   "cell_type": "markdown",
   "metadata": {},
   "source": [
    "**문제**"
   ]
  },
  {
   "cell_type": "markdown",
   "metadata": {
    "id": "efLwWFuyfDLB"
   },
   "source": [
    "93. 형상 (8,3)과 (2,2)의 배열 A와 B를 두 개의 배열로 간주한다. B의 원소의 순서에 상관없이 B의 각 행의 원소가 포함된 A 행을 찾는 방법은"
   ]
  },
  {
   "cell_type": "code",
   "execution_count": null,
   "metadata": {
    "colab": {
     "base_uri": "https://localhost:8080/"
    },
    "id": "dvAQyF6Vj-lC",
    "outputId": "859c8f42-e5c4-43d2-9544-f5e5cb2652d4"
   },
   "outputs": [],
   "source": [
    "A = np.random.randint(0,5,(8,3))\n",
    "B = np.random.randint(0,5,(2,2))\n",
    "\n",
    "C = (A[..., np.newaxis, np.newaxis] == B)   # A에 2차원을 추가한 배열과 B 비교 \n",
    "rows = np.where(C.any((3,1)).all(1))[0]     # 원소 4개 중 하나라도 같은것이 있는지 찾고\n",
    "                                            # all메서드로 두 값이 모두 참인 행만 남겨 \n",
    "                                            # where 메서드로 구한 값의 행 인덱스 추출 \n",
    "print(rows)"
   ]
  },
  {
   "cell_type": "markdown",
   "metadata": {},
   "source": [
    "**문제**"
   ]
  },
  {
   "cell_type": "markdown",
   "metadata": {
    "id": "QTu_qCP2fDAW"
   },
   "source": [
    "94. 10x3 행렬에서 값이 동일하지 않은 행(예: [2,2,3])을 추출하자"
   ]
  },
  {
   "cell_type": "code",
   "execution_count": null,
   "metadata": {
    "colab": {
     "base_uri": "https://localhost:8080/"
    },
    "id": "v0u5ioykk8yj",
    "outputId": "a5d31973-00c6-4f24-96c5-91f8d6f62d7c"
   },
   "outputs": [],
   "source": [
    "Z = np.random.randint(0,5,(10,3))\n",
    "print(Z)\n",
    "print(\"\\n\")\n",
    "\n",
    "E = np.all(Z[:,1:] == Z[:,:-1], axis=1)\n",
    "U = Z[~E]\n",
    "print(U)\n",
    "print(\"\\n\")\n",
    "\n",
    "U = Z[Z.max(axis=1) != Z.min(axis=1),:]\n",
    "print(U)"
   ]
  },
  {
   "cell_type": "markdown",
   "metadata": {},
   "source": [
    "**문제**"
   ]
  },
  {
   "cell_type": "markdown",
   "metadata": {
    "id": "bT9Re9NEfC1q"
   },
   "source": [
    "95. 정수 벡터를 행렬 이진수 표현으로 변환"
   ]
  },
  {
   "cell_type": "code",
   "execution_count": null,
   "metadata": {
    "colab": {
     "base_uri": "https://localhost:8080/"
    },
    "id": "Kgvc3qm2lWg5",
    "outputId": "4a824d19-4ddf-4926-968b-9abbaebbd82b"
   },
   "outputs": [],
   "source": [
    "I = np.array([0, 1, 2, 3, 15, 16, 32, 64, 128])\n",
    "\n",
    "B = ((I.reshape(-1,1) & (2**np.arange(8))) != 0).astype(int) # 이진수로 변환 후 정수로 나타냄\n",
    "print(B[:,::-1])"
   ]
  },
  {
   "cell_type": "code",
   "execution_count": null,
   "metadata": {
    "colab": {
     "base_uri": "https://localhost:8080/"
    },
    "id": "p8hWAYTJloxO",
    "outputId": "0a480c9e-2f20-4e52-db93-ecc659b5de92"
   },
   "outputs": [],
   "source": [
    "# 또 다른 방법\n",
    "I = np.array([0, 1, 2, 3, 15, 16, 32, 64, 128], dtype=np.uint8)\n",
    "print(np.unpackbits(I[:, np.newaxis], axis=1))"
   ]
  },
  {
   "cell_type": "markdown",
   "metadata": {},
   "source": [
    "**문제**"
   ]
  },
  {
   "cell_type": "markdown",
   "metadata": {
    "id": "zB-aZu1XfCqR"
   },
   "source": [
    "96. 2차원 배열이 주어진 경우 고유 행을 추출하는 방법"
   ]
  },
  {
   "cell_type": "code",
   "execution_count": null,
   "metadata": {
    "colab": {
     "base_uri": "https://localhost:8080/"
    },
    "id": "OaZEejx4lXRv",
    "outputId": "86f3d97d-f88b-4274-c9ca-746ee1881859"
   },
   "outputs": [],
   "source": [
    "Z = np.random.randint(0,2,(6,3))\n",
    "\n",
    "T = np.ascontiguousarray(Z).view(np.dtype((np.void, Z.dtype.itemsize * Z.shape[1])))\n",
    "\n",
    "_, idx = np.unique(T, return_index=True) # 중복되지 않는 행 추출\n",
    "uZ = Z[idx]\n",
    "print(uZ)"
   ]
  },
  {
   "cell_type": "code",
   "execution_count": null,
   "metadata": {
    "colab": {
     "base_uri": "https://localhost:8080/"
    },
    "id": "7O6s44Hdl9v8",
    "outputId": "373b9134-7319-4c3b-c1c3-4b2e79c5ad54"
   },
   "outputs": [],
   "source": [
    "# 다른 방법\n",
    "# numpy 버전 1.13에서 가능\n",
    "uZ = np.unique(Z, axis=0)\n",
    "print(uZ)"
   ]
  },
  {
   "cell_type": "markdown",
   "metadata": {},
   "source": [
    "**문제**"
   ]
  },
  {
   "cell_type": "markdown",
   "metadata": {
    "id": "HxZIsH4HfCe9"
   },
   "source": [
    "97. 2개의 벡터 A와 B로 내적, 외적, 합계 및 다중 함수에 해당하는 einsum을 작성하자"
   ]
  },
  {
   "cell_type": "code",
   "execution_count": null,
   "metadata": {
    "colab": {
     "base_uri": "https://localhost:8080/"
    },
    "id": "_JkpSooWlYbi",
    "outputId": "43f4ba8a-e897-47c5-a571-254b499b238f"
   },
   "outputs": [],
   "source": [
    "A = np.random.uniform(0,1,10)\n",
    "B = np.random.uniform(0,1,10)\n",
    "\n",
    "np.einsum('i->', A)       # np.sum(A)\n",
    "np.einsum('i,i->i', A, B) # A * B\n",
    "np.einsum('i,i', A, B)    # np.inner(A, B)\n",
    "np.einsum('i,j->ij', A, B)    # np.outer(A, B)"
   ]
  },
  {
   "cell_type": "markdown",
   "metadata": {},
   "source": [
    "**문제**"
   ]
  },
  {
   "cell_type": "markdown",
   "metadata": {
    "id": "1654ZLCefCUp"
   },
   "source": [
    "98. 두 벡터(X,Y)가 나타내는 경로를 고려할 때 등거리 샘플을 사용하여 샘플링하는 방법"
   ]
  },
  {
   "cell_type": "code",
   "execution_count": null,
   "metadata": {
    "id": "drpHdYbHlZJp"
   },
   "outputs": [],
   "source": [
    "phi = np.arange(0, 10*np.pi, 0.1)\n",
    "a = 1\n",
    "x = a*phi*np.cos(phi)\n",
    "y = a*phi*np.sin(phi)\n",
    "\n",
    "dr = (np.diff(x)**2 + np.diff(y)**2)**.5 # 세그먼트 길이\n",
    "r = np.zeros_like(x)\n",
    "r[1:] = np.cumsum(dr)                # 경로 더함\n",
    "r_int = np.linspace(0, r.max(), 200) # 일정 간격으로 된 경로\n",
    "x_int = np.interp(r_int, r, x)       # 더한 경로\n",
    "y_int = np.interp(r_int, r, y)"
   ]
  },
  {
   "cell_type": "markdown",
   "metadata": {},
   "source": [
    "**문제**"
   ]
  },
  {
   "cell_type": "markdown",
   "metadata": {
    "id": "sF7X7SHlfCGR"
   },
   "source": [
    "99. 정수 n과 2차원 배열 X가 주어진 경우, n도의 다항 분포에서 추출한 것으로 해석할 수 있는 행, 즉 정수만 포함하는 행과 n의 합을 X에서 선택한다."
   ]
  },
  {
   "cell_type": "code",
   "execution_count": null,
   "metadata": {
    "colab": {
     "base_uri": "https://localhost:8080/"
    },
    "id": "3EY0CUZQlZw8",
    "outputId": "84f5cbfa-4b2e-4eb7-cc3e-4015f7e04f82"
   },
   "outputs": [],
   "source": [
    "X = np.asarray([[1.0, 0.0, 3.0, 8.0],\n",
    "                [2.0, 0.0, 1.0, 1.0],\n",
    "                [1.5, 2.5, 1.0, 0.0]])\n",
    "n = 4\n",
    "M = np.logical_and.reduce(np.mod(X, 1) == 0, axis=-1)\n",
    "M &= (X.sum(axis=-1) == n)\n",
    "print(X[M])"
   ]
  },
  {
   "cell_type": "markdown",
   "metadata": {},
   "source": [
    "**문제**"
   ]
  },
  {
   "cell_type": "markdown",
   "metadata": {
    "id": "VErbIMp7fBoo"
   },
   "source": [
    "100. 1차원 배열 X의 평균에 대해 부트스트랩 95% 신뢰 구간 계산(즉, 배열 요소를 대체 N번으로 다시 표본 추출, 각 표본의 평균 계산, 평균에 대한 백분위수 계산)\n",
    "\n",
    "- 부트스트랩 계산 : 표본으로 주어진 데이터를 기준으로 복원표집해 통계량을 구함"
   ]
  },
  {
   "cell_type": "code",
   "execution_count": null,
   "metadata": {
    "colab": {
     "base_uri": "https://localhost:8080/"
    },
    "id": "XHJLzufscCkx",
    "outputId": "6aa2d86b-5ef5-4d4d-abaa-70519ec644c5"
   },
   "outputs": [],
   "source": [
    "X = np.random.randn(100) # 랜덤 구성된 1차원 어레이\n",
    "N = 1000 # 부트스트랩 샘플 수\n",
    "\n",
    "idx = np.random.randint(0, X.size, (N, X.size))\n",
    "\n",
    "means = X[idx].mean(axis=1)\n",
    "\n",
    "confint = np.percentile(means, [2.5, 97.5]) # 백분위로 값 구함\n",
    "print(confint)"
   ]
  }
 ],
 "metadata": {
  "colab": {
   "provenance": []
  },
  "kernelspec": {
   "display_name": "Python 3 (ipykernel)",
   "language": "python",
   "name": "python3"
  },
  "language_info": {
   "codemirror_mode": {
    "name": "ipython",
    "version": 3
   },
   "file_extension": ".py",
   "mimetype": "text/x-python",
   "name": "python",
   "nbconvert_exporter": "python",
   "pygments_lexer": "ipython3",
   "version": "3.9.13"
  },
  "vscode": {
   "interpreter": {
    "hash": "ad0f3c8a064f687cbf898a0868fd45ba1c7e928ac8a0404f7c241d812ddc1e76"
   }
  }
 },
 "nbformat": 4,
 "nbformat_minor": 1
}

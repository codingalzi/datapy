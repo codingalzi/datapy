{
 "cells": [
  {
   "cell_type": "markdown",
   "id": "0c69c476",
   "metadata": {},
   "source": [
    "# (실습) 판다스 데이터프레임"
   ]
  },
  {
   "cell_type": "markdown",
   "id": "b0d4bb27",
   "metadata": {},
   "source": [
    "**문제 1**"
   ]
  },
  {
   "cell_type": "markdown",
   "id": "fad6d189",
   "metadata": {},
   "source": [
    "아래 링크에 있는 내용을 따라하며 정리하세요.\n",
    "\n",
    "https://github.com/justmarkham/pandas-videos/blob/master/top_25_pandas_tricks.ipynb\n",
    "\n",
    "일부 내용은 아래 유튜브 동영상을 참고해야 합니다. \n",
    "\n",
    "https://www.youtube.com/watch?v=RlIiVeig3hc&ab_channel=DataSchool"
   ]
  }
 ],
 "metadata": {
  "kernelspec": {
   "display_name": "Python 3 (ipykernel)",
   "language": "python",
   "name": "python3"
  },
  "language_info": {
   "codemirror_mode": {
    "name": "ipython",
    "version": 3
   },
   "file_extension": ".py",
   "mimetype": "text/x-python",
   "name": "python",
   "nbconvert_exporter": "python",
   "pygments_lexer": "ipython3",
   "version": "3.9.7"
  }
 },
 "nbformat": 4,
 "nbformat_minor": 5
}

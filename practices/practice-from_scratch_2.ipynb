{
 "cells": [
  {
   "attachments": {},
   "cell_type": "markdown",
   "id": "4ba112a7",
   "metadata": {},
   "source": [
    "# (실습) 통계 기초"
   ]
  },
  {
   "attachments": {},
   "cell_type": "markdown",
   "id": "451e25d5",
   "metadata": {},
   "source": [
    "## 중심 경향성과 평균"
   ]
  },
  {
   "cell_type": "markdown",
   "id": "db6605f6",
   "metadata": {},
   "source": [
    "**문제 1**"
   ]
  },
  {
   "attachments": {},
   "cell_type": "markdown",
   "id": "76eac8ef",
   "metadata": {},
   "source": [
    "Head First Statistics 참고"
   ]
  },
  {
   "attachments": {},
   "cell_type": "markdown",
   "id": "bc282b82",
   "metadata": {},
   "source": [
    "## 산포도와 분산"
   ]
  },
  {
   "attachments": {},
   "cell_type": "markdown",
   "id": "4c316456",
   "metadata": {},
   "source": [
    "**문제**"
   ]
  },
  {
   "attachments": {},
   "cell_type": "markdown",
   "id": "76eac8ef",
   "metadata": {},
   "source": [
    "Head First Statistics 참고"
   ]
  }
 ],
 "metadata": {
  "kernelspec": {
   "display_name": "base",
   "language": "python",
   "name": "python3"
  },
  "language_info": {
   "codemirror_mode": {
    "name": "ipython",
    "version": 3
   },
   "file_extension": ".py",
   "mimetype": "text/x-python",
   "name": "python",
   "nbconvert_exporter": "python",
   "pygments_lexer": "ipython3",
   "version": "3.9.12 (main, Apr  4 2022, 05:22:27) [MSC v.1916 64 bit (AMD64)]"
  },
  "vscode": {
   "interpreter": {
    "hash": "ad0f3c8a064f687cbf898a0868fd45ba1c7e928ac8a0404f7c241d812ddc1e76"
   }
  }
 },
 "nbformat": 4,
 "nbformat_minor": 5
}

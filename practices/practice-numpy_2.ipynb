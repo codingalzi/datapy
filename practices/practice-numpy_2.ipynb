{
 "cells": [
  {
   "cell_type": "markdown",
   "metadata": {},
   "source": [
    "# (실습) 어레이 인덱싱"
   ]
  },
  {
   "cell_type": "code",
   "execution_count": 1,
   "metadata": {
    "id": "J71Fcvihxzi9"
   },
   "outputs": [],
   "source": [
    "import numpy as np"
   ]
  },
  {
   "cell_type": "markdown",
   "metadata": {},
   "source": [
    "**문제**"
   ]
  },
  {
   "cell_type": "markdown",
   "metadata": {
    "id": "jY6MtbSO-y-v"
   },
   "source": [
    "벡터가 아래와 같이 주어졌다."
   ]
  },
  {
   "cell_type": "code",
   "execution_count": 13,
   "metadata": {
    "colab": {
     "base_uri": "https://localhost:8080/"
    },
    "id": "3ipYric0XRMw",
    "outputId": "96de1898-27fd-4b3c-a726-a65ad270da23"
   },
   "outputs": [],
   "source": [
    "Z = np.arange(11)"
   ]
  },
  {
   "cell_type": "markdown",
   "metadata": {
    "id": "jY6MtbSO-y-v"
   },
   "source": [
    "3보다 크고 8보다 작은 값을 모두 음의 값으로 부호를 바꿔라.\n",
    "\n",
    "힌트: 마스크 활용, 어레이와 스칼라 곱셈."
   ]
  },
  {
   "cell_type": "code",
   "execution_count": 14,
   "metadata": {
    "colab": {
     "base_uri": "https://localhost:8080/"
    },
    "id": "3ipYric0XRMw",
    "outputId": "96de1898-27fd-4b3c-a726-a65ad270da23"
   },
   "outputs": [],
   "source": [
    "mask = (3 < Z) & (Z < 8)\n",
    "Z[mask] *= -1"
   ]
  },
  {
   "cell_type": "code",
   "execution_count": 15,
   "metadata": {
    "colab": {
     "base_uri": "https://localhost:8080/"
    },
    "id": "3ipYric0XRMw",
    "outputId": "96de1898-27fd-4b3c-a726-a65ad270da23"
   },
   "outputs": [],
   "source": [
    "assert (Z == np.array([ 0,  1,  2,  3, -4, -5, -6, -7,  8,  9, 10])).all()"
   ]
  },
  {
   "cell_type": "markdown",
   "metadata": {},
   "source": [
    "**문제**"
   ]
  },
  {
   "cell_type": "markdown",
   "metadata": {},
   "source": [
    "변수 `Z`가 0에서 49까지의 정수로 구성된 1차원 어레이를 가리키도록 하라.\n",
    "단, 내림차순으로 정렬되어야 하며 이를 위해 어레이 슬라이싱을 반드시 이용한다.\n",
    "또한 `sort()` 메서드는 사용하지 않는다."
   ]
  },
  {
   "cell_type": "code",
   "execution_count": null,
   "metadata": {},
   "outputs": [],
   "source": [
    "Z = np.arange(50)\n",
    "Z = Z[::-1]"
   ]
  },
  {
   "cell_type": "markdown",
   "metadata": {},
   "source": [
    "아래 코드는 수정하지 마세요!!!"
   ]
  },
  {
   "cell_type": "code",
   "execution_count": null,
   "metadata": {},
   "outputs": [],
   "source": [
    "assert (Z == np.array([49, 48, 47, 46, 45, 44, 43, 42, 41, 40, 39, 38, 37, 36, 35, 34, 33,\n",
    "                       32, 31, 30, 29, 28, 27, 26, 25, 24, 23, 22, 21, 20, 19, 18, 17, 16,\n",
    "                       15, 14, 13, 12, 11, 10,  9,  8,  7,  6,  5,  4,  3,  2,  1,  0])).all()"
   ]
  },
  {
   "cell_type": "markdown",
   "metadata": {},
   "source": [
    "**문제**"
   ]
  },
  {
   "cell_type": "markdown",
   "metadata": {},
   "source": [
    "변수 `Z`가 아래와 같은 (8,8) 모양의 2차원 어레이를 가리키도록 하라.\n",
    "\n",
    "```\n",
    "[[0 1 0 1 0 1 0 1]\n",
    " [1 0 1 0 1 0 1 0]\n",
    " [0 1 0 1 0 1 0 1]\n",
    " [1 0 1 0 1 0 1 0]\n",
    " [0 1 0 1 0 1 0 1]\n",
    " [1 0 1 0 1 0 1 0]\n",
    " [0 1 0 1 0 1 0 1]\n",
    " [1 0 1 0 1 0 1 0]]\n",
    "```\n",
    "\n",
    "힌트: `np.zeros()` 함수, 어레이 슬라이싱"
   ]
  },
  {
   "cell_type": "code",
   "execution_count": null,
   "metadata": {},
   "outputs": [],
   "source": [
    "Z = np.zeros((8,8))\n",
    "Z[1::2,::2] = 1 # 1번 행부터 격행으로, 요소들을 하나씩 건너뛰며 1로 지정\n",
    "Z[::2,1::2] = 1 # 0번 행부터 격행으로, 요소들을 하나씩 건너뛰며 1로 지정"
   ]
  },
  {
   "cell_type": "markdown",
   "metadata": {},
   "source": [
    "아래 코드는 수정하지 마세요!!!"
   ]
  },
  {
   "cell_type": "code",
   "execution_count": null,
   "metadata": {},
   "outputs": [],
   "source": [
    "assert (Z == np.array([[0, 1, 0, 1, 0, 1, 0, 1],\n",
    "                       [1, 0, 1, 0, 1, 0, 1, 0],\n",
    "                       [0, 1, 0, 1, 0, 1, 0, 1],\n",
    "                       [1, 0, 1, 0, 1, 0, 1, 0],\n",
    "                       [0, 1, 0, 1, 0, 1, 0, 1],\n",
    "                       [1, 0, 1, 0, 1, 0, 1, 0],\n",
    "                       [0, 1, 0, 1, 0, 1, 0, 1],\n",
    "                       [1, 0, 1, 0, 1, 0, 1, 0]])).all()"
   ]
  },
  {
   "cell_type": "markdown",
   "metadata": {},
   "source": [
    "**문제**"
   ]
  },
  {
   "cell_type": "markdown",
   "metadata": {},
   "source": [
    "변수 `Z`가 아래와 같은 (10,10) 모양의 2차원 어레이를 가리키도록 하라.\n",
    "단, `np.ones()` 함수와 어레이 슬라이싱을 반드시 이용한다.\n",
    "\n",
    "```\n",
    "[[1. 1. 1. 1. 1. 1. 1. 1. 1. 1.]\n",
    " [1. 0. 0. 0. 0. 0. 0. 0. 0. 1.]\n",
    " [1. 0. 0. 0. 0. 0. 0. 0. 0. 1.]\n",
    " [1. 0. 0. 0. 0. 0. 0. 0. 0. 1.]\n",
    " [1. 0. 0. 0. 0. 0. 0. 0. 0. 1.]\n",
    " [1. 0. 0. 0. 0. 0. 0. 0. 0. 1.]\n",
    " [1. 0. 0. 0. 0. 0. 0. 0. 0. 1.]\n",
    " [1. 0. 0. 0. 0. 0. 0. 0. 0. 1.]\n",
    " [1. 0. 0. 0. 0. 0. 0. 0. 0. 1.]\n",
    " [1. 1. 1. 1. 1. 1. 1. 1. 1. 1.]]\n",
    "```"
   ]
  },
  {
   "cell_type": "code",
   "execution_count": null,
   "metadata": {},
   "outputs": [],
   "source": [
    "Z = np.ones((10,10))\n",
    "Z[1:-1,1:-1] = 0"
   ]
  },
  {
   "cell_type": "markdown",
   "metadata": {},
   "source": [
    "아래 코드는 수정하지 마세요!!!"
   ]
  },
  {
   "cell_type": "code",
   "execution_count": null,
   "metadata": {},
   "outputs": [],
   "source": [
    "assert (Z  == np.array([[1., 1., 1., 1., 1., 1., 1., 1., 1., 1.],\n",
    "                        [1., 0., 0., 0., 0., 0., 0., 0., 0., 1.],\n",
    "                        [1., 0., 0., 0., 0., 0., 0., 0., 0., 1.],\n",
    "                        [1., 0., 0., 0., 0., 0., 0., 0., 0., 1.],\n",
    "                        [1., 0., 0., 0., 0., 0., 0., 0., 0., 1.],\n",
    "                        [1., 0., 0., 0., 0., 0., 0., 0., 0., 1.],\n",
    "                        [1., 0., 0., 0., 0., 0., 0., 0., 0., 1.],\n",
    "                        [1., 0., 0., 0., 0., 0., 0., 0., 0., 1.],\n",
    "                        [1., 0., 0., 0., 0., 0., 0., 0., 0., 1.],\n",
    "                        [1., 1., 1., 1., 1., 1., 1., 1., 1., 1.]])).all()"
   ]
  },
  {
   "cell_type": "markdown",
   "metadata": {},
   "source": [
    "**문제**"
   ]
  },
  {
   "cell_type": "markdown",
   "metadata": {},
   "source": [
    "(1) 변수 `Z`가 아래와 같은 (7,7) 모양의 2차원 어레이를 가리키도록 하라.\n",
    "단, `np.ones()` 함수, `np.pad()` 함수, 어레이 슬라이싱을 반드시 이용한다.\n",
    "\n",
    "```\n",
    "[[0. 0. 0. 0. 0. 0. 0.]\n",
    " [0. 1. 1. 1. 1. 1. 0.]\n",
    " [0. 1. 1. 1. 1. 1. 0.]\n",
    " [0. 1. 1. 1. 1. 1. 0.]\n",
    " [0. 1. 1. 1. 1. 1. 0.]\n",
    " [0. 1. 1. 1. 1. 1. 0.]\n",
    " [0. 0. 0. 0. 0. 0. 0.]]\n",
    "```"
   ]
  },
  {
   "cell_type": "code",
   "execution_count": null,
   "metadata": {},
   "outputs": [],
   "source": [
    "Z = np.ones((5,5)) # 1로 이루어진 5*5배열을 만들고\n",
    "Z = np.pad(Z, pad_width=1, mode='constant', constant_values=0) # 크기 1만큼의 0으로 패딩"
   ]
  },
  {
   "cell_type": "markdown",
   "metadata": {},
   "source": [
    "아래 코드는 수정하지 마세요!!!"
   ]
  },
  {
   "cell_type": "code",
   "execution_count": null,
   "metadata": {},
   "outputs": [],
   "source": [
    "assert (Z == np.array([[0., 0., 0., 0., 0., 0., 0.],\n",
    "                        [0., 1., 1., 1., 1., 1., 0.],\n",
    "                        [0., 1., 1., 1., 1., 1., 0.],\n",
    "                        [0., 1., 1., 1., 1., 1., 0.],\n",
    "                        [0., 1., 1., 1., 1., 1., 0.],\n",
    "                        [0., 1., 1., 1., 1., 1., 0.],\n",
    "                        [0., 0., 0., 0., 0., 0., 0.]])).all"
   ]
  },
  {
   "cell_type": "markdown",
   "metadata": {},
   "source": [
    "(2) 이번에는 인덱싱과 슬라이싱만을 이용하여 동일한 어레이를 생성하라."
   ]
  },
  {
   "cell_type": "code",
   "execution_count": null,
   "metadata": {},
   "outputs": [
    {
     "name": "stdout",
     "output_type": "stream",
     "text": [
      "[[0. 0. 0. 0. 0. 0. 0.]\n",
      " [0. 1. 1. 1. 1. 1. 0.]\n",
      " [0. 1. 1. 1. 1. 1. 0.]\n",
      " [0. 1. 1. 1. 1. 1. 0.]\n",
      " [0. 1. 1. 1. 1. 1. 0.]\n",
      " [0. 1. 1. 1. 1. 1. 0.]\n",
      " [0. 0. 0. 0. 0. 0. 0.]]\n"
     ]
    }
   ],
   "source": [
    "# 이것도 같은 동작\n",
    "Z[:, [0, -1]] = 0\n",
    "Z[[0, -1], :] = 0\n",
    "print(Z)"
   ]
  },
  {
   "cell_type": "markdown",
   "metadata": {},
   "source": [
    "아래 코드는 수정하지 마세요!!!"
   ]
  },
  {
   "cell_type": "code",
   "execution_count": null,
   "metadata": {},
   "outputs": [],
   "source": [
    "assert (Z == np.array([[0., 0., 0., 0., 0., 0., 0.],\n",
    "                        [0., 1., 1., 1., 1., 1., 0.],\n",
    "                        [0., 1., 1., 1., 1., 1., 0.],\n",
    "                        [0., 1., 1., 1., 1., 1., 0.],\n",
    "                        [0., 1., 1., 1., 1., 1., 0.],\n",
    "                        [0., 1., 1., 1., 1., 1., 0.],\n",
    "                        [0., 0., 0., 0., 0., 0., 0.]])).all"
   ]
  },
  {
   "cell_type": "code",
   "execution_count": null,
   "metadata": {},
   "outputs": [],
   "source": []
  },
  {
   "cell_type": "code",
   "execution_count": null,
   "metadata": {},
   "outputs": [],
   "source": []
  },
  {
   "cell_type": "code",
   "execution_count": null,
   "metadata": {},
   "outputs": [],
   "source": []
  },
  {
   "cell_type": "markdown",
   "metadata": {},
   "source": [
    "**문제**"
   ]
  },
  {
   "cell_type": "markdown",
   "metadata": {},
   "source": [
    "72. 배열의 두 행을 바꾸는 방법"
   ]
  },
  {
   "cell_type": "code",
   "execution_count": null,
   "metadata": {},
   "outputs": [
    {
     "name": "stdout",
     "output_type": "stream",
     "text": [
      "[[ 0  1  2  3  4]\n",
      " [ 5  6  7  8  9]\n",
      " [10 11 12 13 14]\n",
      " [15 16 17 18 19]\n",
      " [20 21 22 23 24]]\n",
      "[[ 5  6  7  8  9]\n",
      " [ 0  1  2  3  4]\n",
      " [10 11 12 13 14]\n",
      " [15 16 17 18 19]\n",
      " [20 21 22 23 24]]\n"
     ]
    }
   ],
   "source": [
    "A = np.arange(25).reshape(5,5)\n",
    "print(A)\n",
    "A[[0,1]] = A[[1,0]]\n",
    "print(A)"
   ]
  }
 ],
 "metadata": {
  "colab": {
   "provenance": []
  },
  "kernelspec": {
   "display_name": "Python 3 (ipykernel)",
   "language": "python",
   "name": "python3"
  },
  "language_info": {
   "codemirror_mode": {
    "name": "ipython",
    "version": 3
   },
   "file_extension": ".py",
   "mimetype": "text/x-python",
   "name": "python",
   "nbconvert_exporter": "python",
   "pygments_lexer": "ipython3",
   "version": "3.10.6"
  },
  "vscode": {
   "interpreter": {
    "hash": "ad0f3c8a064f687cbf898a0868fd45ba1c7e928ac8a0404f7c241d812ddc1e76"
   }
  }
 },
 "nbformat": 4,
 "nbformat_minor": 1
}

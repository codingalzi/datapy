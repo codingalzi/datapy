{
 "cells": [
  {
   "cell_type": "markdown",
   "metadata": {
    "slideshow": {
     "slide_type": "slide"
    }
   },
   "source": [
    "# 8. 선형대수 기초"
   ]
  },
  {
   "cell_type": "markdown",
   "metadata": {
    "slideshow": {
     "slide_type": "slide"
    }
   },
   "source": [
    "## 주요 내용"
   ]
  },
  {
   "cell_type": "markdown",
   "metadata": {},
   "source": [
    "- 벡터"
   ]
  },
  {
   "cell_type": "markdown",
   "metadata": {},
   "source": [
    "- 행렬"
   ]
  },
  {
   "cell_type": "markdown",
   "metadata": {
    "slideshow": {
     "slide_type": "slide"
    }
   },
   "source": [
    "## 개요"
   ]
  },
  {
   "cell_type": "markdown",
   "metadata": {
    "slideshow": {
     "slide_type": ""
    }
   },
   "source": [
    "앞으로 배울 `numpy.array` 자료형이 제공하는 다양한 기능의 이해에 도움을 주는 내용"
   ]
  },
  {
   "cell_type": "markdown",
   "metadata": {
    "slideshow": {
     "slide_type": "slide"
    }
   },
   "source": [
    "## 8.1. 벡터"
   ]
  },
  {
   "cell_type": "markdown",
   "metadata": {},
   "source": [
    "- 벡터와 차원"
   ]
  },
  {
   "cell_type": "markdown",
   "metadata": {},
   "source": [
    "- 리스트와 벡터"
   ]
  },
  {
   "cell_type": "markdown",
   "metadata": {},
   "source": [
    "- 벡터 항목별 연산"
   ]
  },
  {
   "cell_type": "markdown",
   "metadata": {},
   "source": [
    "- 벡터 내적과 크기"
   ]
  },
  {
   "cell_type": "markdown",
   "metadata": {
    "slideshow": {
     "slide_type": "slide"
    }
   },
   "source": [
    "### 벡터와 차원"
   ]
  },
  {
   "cell_type": "markdown",
   "metadata": {},
   "source": [
    "- 벡터: 유한 개의 값으로 구성"
   ]
  },
  {
   "cell_type": "markdown",
   "metadata": {},
   "source": [
    "- 차원<font size='2'>dimension</font>: 항목의 개수"
   ]
  },
  {
   "cell_type": "markdown",
   "metadata": {},
   "source": [
    "- 벡터 예제:\n",
    "\n",
    "    * 2차원 평면 공간에서 방향과 크기를 표현하는 2차원 벡터: \n",
    "\n",
    "            [x, y]\n",
    "\n",
    "    * 사람들의 키, 몸무게, 나이로 이루어진 3차원 벡터: \n",
    "\n",
    "            [키, 몸무게, 나이]\n",
    "\n",
    "    * 네 번의 시험 점수로 이루어진 4차원 벡터: \n",
    "\n",
    "            [1차점수, 2차점수, 3차점수, 4차점수]"
   ]
  },
  {
   "cell_type": "markdown",
   "metadata": {
    "slideshow": {
     "slide_type": "slide"
    }
   },
   "source": [
    "### 리스트와 벡터"
   ]
  },
  {
   "cell_type": "markdown",
   "metadata": {},
   "source": [
    "- 벡터를 리스트로 구현 가능\n",
    "- x축, y축 좌표로 구성된 2차원 벡터"
   ]
  },
  {
   "cell_type": "code",
   "execution_count": 1,
   "metadata": {},
   "outputs": [],
   "source": [
    "# [x좌표, y좌표]\n",
    "\n",
    "twoDVector1 = [3, 1]\n",
    "twoDVector2 = [-2, 5]"
   ]
  },
  {
   "cell_type": "markdown",
   "metadata": {},
   "source": [
    "- 키, 몸무게, 나이로 구성된 3차원 벡터"
   ]
  },
  {
   "cell_type": "code",
   "execution_count": 2,
   "metadata": {},
   "outputs": [],
   "source": [
    "# [키, 몸무게, 나이]\n",
    "\n",
    "height_weight_age1 = [70, 170, 50]\n",
    "height_weight_age2 = [66, 163, 50]"
   ]
  },
  {
   "cell_type": "markdown",
   "metadata": {},
   "source": [
    "- 1차부터 4차까지의 시험 점수로 구성된 4차원 벡터"
   ]
  },
  {
   "cell_type": "code",
   "execution_count": 3,
   "metadata": {},
   "outputs": [],
   "source": [
    "# [1차점수, 2차점수, 3차점수, 4차점수]\n",
    "\n",
    "grades1 = [95, 80, 75, 62]\n",
    "grades2 = [85, 82, 79, 82]"
   ]
  },
  {
   "cell_type": "markdown",
   "metadata": {
    "slideshow": {
     "slide_type": "slide"
    }
   },
   "source": [
    "### 벡터 항목별 연산"
   ]
  },
  {
   "cell_type": "markdown",
   "metadata": {},
   "source": [
    "- 벡터 항목별 사칙연산"
   ]
  },
  {
   "cell_type": "markdown",
   "metadata": {},
   "source": [
    "- 벡터 스칼라 곱셈"
   ]
  },
  {
   "cell_type": "markdown",
   "metadata": {},
   "source": [
    "- 항목별 평균 벡터"
   ]
  },
  {
   "cell_type": "markdown",
   "metadata": {
    "slideshow": {
     "slide_type": "slide"
    }
   },
   "source": [
    "### 벡터 항목별 덧셈"
   ]
  },
  {
   "cell_type": "markdown",
   "metadata": {},
   "source": [
    "동일 차원의 두 벡터의 항목별 덧셈"
   ]
  },
  {
   "cell_type": "markdown",
   "metadata": {},
   "source": [
    "$$\n",
    "[u_1, \\cdots, u_n] + [v_1, \\cdots, v_n] = [u_1 + v_1, \\cdots, u_n + v_n]\n",
    "$$"
   ]
  },
  {
   "cell_type": "code",
   "execution_count": 4,
   "metadata": {},
   "outputs": [],
   "source": [
    "def addV(u, v):\n",
    "    assert len(u) == len(v)   # 두 벡터의 길이가 같은 경우만 취급\n",
    "\n",
    "    return [u_i + v_i for u_i, v_i in zip(u, v)]"
   ]
  },
  {
   "cell_type": "code",
   "execution_count": 5,
   "metadata": {},
   "outputs": [
    {
     "data": {
      "text/plain": [
       "[180, 162, 154, 144]"
      ]
     },
     "execution_count": 5,
     "metadata": {},
     "output_type": "execute_result"
    }
   ],
   "source": [
    "addV([95, 80, 75, 62], [85, 82, 79, 82])"
   ]
  },
  {
   "cell_type": "markdown",
   "metadata": {
    "slideshow": {
     "slide_type": "slide"
    }
   },
   "source": [
    "### 벡터 리스트의 합"
   ]
  },
  {
   "cell_type": "markdown",
   "metadata": {},
   "source": [
    "동일한 차원의 임의의 개수의 벡터를 항목별로 더하는 함수"
   ]
  },
  {
   "cell_type": "code",
   "execution_count": 6,
   "metadata": {},
   "outputs": [],
   "source": [
    "def vector_sum(vectors):\n",
    "    \"\"\"\n",
    "    vectors: 동일한 차원의 벡터들의 리스트\n",
    "    반환값: 각 항목의 합으로 이루어진 동일한 차원의 벡터\n",
    "    \"\"\"\n",
    "    \n",
    "    # 입력값 확인\n",
    "    assert len(vectors) > 0          # 1개 이상의 벡터가 주어져야 함\n",
    "    num_elements = len(vectors[0])   # 벡터 개수\n",
    "    assert all(len(v) == num_elements for v in vectors)   # 모든 벡터의 크기가 같아야 함\n",
    "\n",
    "    # 동일한 위치의 항목을 모두 더한 값들로 이루어진 벡터 반환\n",
    "    return [sum(vector[i] for vector in vectors) for i in range(num_elements)]"
   ]
  },
  {
   "cell_type": "code",
   "execution_count": 7,
   "metadata": {},
   "outputs": [
    {
     "data": {
      "text/plain": [
       "[16, 20]"
      ]
     },
     "execution_count": 7,
     "metadata": {},
     "output_type": "execute_result"
    }
   ],
   "source": [
    "vector_sum([[1, 2], [3, 4], [5, 6], [7, 8]])"
   ]
  },
  {
   "cell_type": "markdown",
   "metadata": {
    "slideshow": {
     "slide_type": "slide"
    }
   },
   "source": [
    "### 벡터 항목별 뺄셈"
   ]
  },
  {
   "cell_type": "markdown",
   "metadata": {},
   "source": [
    "동일 차원의 벡터 두 개의 항목별 뺄셈"
   ]
  },
  {
   "cell_type": "markdown",
   "metadata": {},
   "source": [
    "$$\n",
    "[u_1, \\cdots, u_n] - [v_1, \\cdots, v_n] = [u_1 - v_1, \\cdots, u_n - v_n]\n",
    "$$"
   ]
  },
  {
   "cell_type": "code",
   "execution_count": 8,
   "metadata": {},
   "outputs": [],
   "source": [
    "def subtractV(v, w):\n",
    "    assert len(v) == len(w)   # 두 벡터의 길이가 같은 경우만 취급\n",
    "\n",
    "    return [v_i - w_i for v_i, w_i in zip(v, w)]"
   ]
  },
  {
   "cell_type": "code",
   "execution_count": 9,
   "metadata": {},
   "outputs": [
    {
     "data": {
      "text/plain": [
       "[5, -4]"
      ]
     },
     "execution_count": 9,
     "metadata": {},
     "output_type": "execute_result"
    }
   ],
   "source": [
    "subtractV([3, 1], [-2, 5])"
   ]
  },
  {
   "cell_type": "markdown",
   "metadata": {
    "slideshow": {
     "slide_type": "slide"
    }
   },
   "source": [
    "### 벡터 항목별 곱셈"
   ]
  },
  {
   "cell_type": "markdown",
   "metadata": {},
   "source": [
    "동일 차원의 벡터 두 개의 항목별 곱셈"
   ]
  },
  {
   "cell_type": "markdown",
   "metadata": {},
   "source": [
    "$$\n",
    "[u_1, \\cdots, u_n] \\ast [v_1, \\cdots, v_n] = [u_1 \\ast v_1, \\cdots, u_n \\ast v_n]\n",
    "$$"
   ]
  },
  {
   "cell_type": "code",
   "execution_count": 10,
   "metadata": {},
   "outputs": [],
   "source": [
    "def multiplyV(v, w):\n",
    "    assert len(v) == len(w)   # 두 벡터의 길이가 같은 경우만 취급\n",
    "\n",
    "    return [v_i * w_i for v_i, w_i in zip(v, w)]"
   ]
  },
  {
   "cell_type": "code",
   "execution_count": 11,
   "metadata": {},
   "outputs": [
    {
     "data": {
      "text/plain": [
       "[-6, 5]"
      ]
     },
     "execution_count": 11,
     "metadata": {},
     "output_type": "execute_result"
    }
   ],
   "source": [
    "multiplyV([3, 1], [-2, 5])"
   ]
  },
  {
   "cell_type": "markdown",
   "metadata": {
    "slideshow": {
     "slide_type": "slide"
    }
   },
   "source": [
    "### 벡터 항목별 나눗셈"
   ]
  },
  {
   "cell_type": "markdown",
   "metadata": {},
   "source": [
    "동일 차원의 벡터 두 개의 항목별 나눗셈"
   ]
  },
  {
   "cell_type": "markdown",
   "metadata": {},
   "source": [
    "$$\n",
    "[u_1, \\cdots, u_n] / [v_1, \\cdots, v_n] = [u_1 / v_1, \\cdots, u_n / v_n]\n",
    "$$"
   ]
  },
  {
   "cell_type": "code",
   "execution_count": 12,
   "metadata": {},
   "outputs": [],
   "source": [
    "def divideV(v, w):\n",
    "    assert len(v) == len(w)   # 두 벡터의 길이가 같은 경우만 취급\n",
    "\n",
    "    return [v_i / w_i for v_i, w_i in zip(v, w)]"
   ]
  },
  {
   "cell_type": "code",
   "execution_count": 13,
   "metadata": {},
   "outputs": [
    {
     "data": {
      "text/plain": [
       "[1.1176470588235294, 0.975609756097561, 0.9493670886075949, 0.7560975609756098]"
      ]
     },
     "execution_count": 13,
     "metadata": {},
     "output_type": "execute_result"
    }
   ],
   "source": [
    "divideV([95, 80, 75, 62], [85, 82, 79, 82])"
   ]
  },
  {
   "cell_type": "markdown",
   "metadata": {
    "slideshow": {
     "slide_type": "slide"
    }
   },
   "source": [
    "### 벡터 스칼라 곱셈"
   ]
  },
  {
   "cell_type": "markdown",
   "metadata": {},
   "source": [
    "스칼라 곱셈은 벡터의 각 항목을 지정된 수로 곱하기"
   ]
  },
  {
   "cell_type": "markdown",
   "metadata": {},
   "source": [
    "$$\n",
    "c \\ast [u_1, \\cdots, u_n] = [c\\ast u_1, \\cdots, c\\ast u_n]\n",
    "$$"
   ]
  },
  {
   "cell_type": "code",
   "execution_count": 14,
   "metadata": {},
   "outputs": [],
   "source": [
    "def scalar_multiplyV(c, v):\n",
    "    return [c * v_i for v_i in v]"
   ]
  },
  {
   "cell_type": "code",
   "execution_count": 15,
   "metadata": {},
   "outputs": [
    {
     "data": {
      "text/plain": [
       "[2, 4, 6]"
      ]
     },
     "execution_count": 15,
     "metadata": {},
     "output_type": "execute_result"
    }
   ],
   "source": [
    "scalar_multiplyV(2, [1, 2, 3])"
   ]
  },
  {
   "cell_type": "markdown",
   "metadata": {
    "slideshow": {
     "slide_type": "slide"
    }
   },
   "source": [
    "### 항목별 평균 벡터"
   ]
  },
  {
   "cell_type": "markdown",
   "metadata": {},
   "source": [
    "여러 개의 동일 차원 벡터가 주어졌을 때 항목별 평균 구하기"
   ]
  },
  {
   "cell_type": "markdown",
   "metadata": {},
   "source": [
    "$$\n",
    "\\frac 1 3 \\ast (\\, [1, 2] + [2, 1] + [2, 3]\\, ) \n",
    "=  \\frac 1 3 \\ast [1+2+2, 2+1+3]\n",
    "= [5/3, 2]\n",
    "$$"
   ]
  },
  {
   "cell_type": "code",
   "execution_count": 16,
   "metadata": {},
   "outputs": [],
   "source": [
    "def meanV(vectors):\n",
    "    n = len(vectors)\n",
    "    \n",
    "    return scalar_multiplyV(1/n, vector_sum(vectors))"
   ]
  },
  {
   "cell_type": "code",
   "execution_count": 17,
   "metadata": {},
   "outputs": [
    {
     "data": {
      "text/plain": [
       "[4.5, 3.75, 5.0]"
      ]
     },
     "execution_count": 17,
     "metadata": {},
     "output_type": "execute_result"
    }
   ],
   "source": [
    "meanV([[3, 2, 6], [2, 5, 9], [7, 5, 1], [6, 3, 4]])"
   ]
  },
  {
   "cell_type": "markdown",
   "metadata": {
    "slideshow": {
     "slide_type": "slide"
    }
   },
   "source": [
    "### 벡터 내적"
   ]
  },
  {
   "cell_type": "markdown",
   "metadata": {},
   "source": [
    "동일 차원의 벡터 두 개의 내적: 위치에 있는 항목끼기 곱한 후 모두 더한 값"
   ]
  },
  {
   "cell_type": "markdown",
   "metadata": {},
   "source": [
    "$$\n",
    "[u_1, \\cdots, u_n] \\cdot [v_1, \\cdots, v_n]\n",
    "= \\sum_{i=1}^n u_i\\ast v_i \n",
    "= u_1\\ast v_1 + \\cdots + u_n\\ast v_n\n",
    "$$"
   ]
  },
  {
   "cell_type": "code",
   "execution_count": 18,
   "metadata": {},
   "outputs": [],
   "source": [
    "def dotV(v, w):\n",
    "    assert len(v) == len(w), \"벡터들의 길이가 동일해야 함\"\"\"\n",
    "\n",
    "    return sum(v_i * w_i for v_i, w_i in zip(v, w))"
   ]
  },
  {
   "cell_type": "code",
   "execution_count": 19,
   "metadata": {},
   "outputs": [
    {
     "data": {
      "text/plain": [
       "32"
      ]
     },
     "execution_count": 19,
     "metadata": {},
     "output_type": "execute_result"
    }
   ],
   "source": [
    "dotV([1, 2, 3], [4, 5, 6])"
   ]
  },
  {
   "cell_type": "markdown",
   "metadata": {
    "slideshow": {
     "slide_type": "slide"
    }
   },
   "source": [
    "### 벡터 크기"
   ]
  },
  {
   "cell_type": "markdown",
   "metadata": {},
   "source": [
    "벡터 $v = [v_1, \\cdots, v_n]$의 크기: $v$ 자신과의 내적의 제곱근"
   ]
  },
  {
   "cell_type": "markdown",
   "metadata": {},
   "source": [
    "$$\\| v\\| = \\sqrt{v \\ast v} = \\sqrt{v_1^2 + \\cdots + v_n^2}$$"
   ]
  },
  {
   "cell_type": "markdown",
   "metadata": {},
   "source": [
    "$$\\|\\, [3, 4] \\, \\|  = \\sqrt{3^2 + 4^2} = \\sqrt{5^2} = 5$$"
   ]
  },
  {
   "cell_type": "code",
   "execution_count": 20,
   "metadata": {},
   "outputs": [],
   "source": [
    "import math\n",
    "\n",
    "def norm(v):\n",
    "    sum_of_squares = dotV(v, v)\n",
    "    return math.sqrt(sum_of_squares)"
   ]
  },
  {
   "cell_type": "code",
   "execution_count": 21,
   "metadata": {},
   "outputs": [
    {
     "data": {
      "text/plain": [
       "5.0"
      ]
     },
     "execution_count": 21,
     "metadata": {},
     "output_type": "execute_result"
    }
   ],
   "source": [
    "norm([3, 4])"
   ]
  },
  {
   "cell_type": "markdown",
   "metadata": {
    "slideshow": {
     "slide_type": "slide"
    }
   },
   "source": [
    "## 8.2. 행렬"
   ]
  },
  {
   "cell_type": "markdown",
   "metadata": {},
   "source": [
    "- 행렬의 모양"
   ]
  },
  {
   "cell_type": "markdown",
   "metadata": {},
   "source": [
    "- 행벡터와 열벡터"
   ]
  },
  {
   "cell_type": "markdown",
   "metadata": {},
   "source": [
    "- 행렬 항목별 연산"
   ]
  },
  {
   "cell_type": "markdown",
   "metadata": {},
   "source": [
    "- 행렬 곱셈"
   ]
  },
  {
   "cell_type": "markdown",
   "metadata": {},
   "source": [
    "- 전치 행렬"
   ]
  },
  {
   "cell_type": "markdown",
   "metadata": {
    "slideshow": {
     "slide_type": "slide"
    }
   },
   "source": [
    "### 행렬의 정의"
   ]
  },
  {
   "cell_type": "markdown",
   "metadata": {},
   "source": [
    "- 행렬<font size='2'>matrix</font>: 숫자를 행과 열로 구성된 직사각형 모양으로 나열한 것"
   ]
  },
  {
   "cell_type": "markdown",
   "metadata": {},
   "source": [
    "- $n \\times k$ 행렬: $n$ 개의 행과 $k$ 개의 열로 구성된 행렬"
   ]
  },
  {
   "cell_type": "markdown",
   "metadata": {},
   "source": [
    "- 리스트의 리스트, 즉 2중 리스트로 구현 가능"
   ]
  },
  {
   "cell_type": "code",
   "execution_count": 22,
   "metadata": {},
   "outputs": [],
   "source": [
    "# 2x3 행렬\n",
    "\n",
    "A = [[1, 2, 3],\n",
    "     [4, 5, 6]]"
   ]
  },
  {
   "cell_type": "code",
   "execution_count": 23,
   "metadata": {},
   "outputs": [],
   "source": [
    "# 3x2 행렬\n",
    "\n",
    "B = [[1, 2],\n",
    "     [3, 4],\n",
    "     [5, 6]]"
   ]
  },
  {
   "cell_type": "markdown",
   "metadata": {
    "slideshow": {
     "slide_type": "slide"
    }
   },
   "source": [
    "### 행렬의 모양"
   ]
  },
  {
   "cell_type": "markdown",
   "metadata": {},
   "source": [
    "- $n \\times k$ 행렬의 모양<font size='2'>shape</font>: $(n,k)$"
   ]
  },
  {
   "cell_type": "markdown",
   "metadata": {},
   "source": [
    "- 예제: $1, 2, 3, 4, 5, 6$ 여섯 개의 항목을 가진 행렬의 모양은 네 종류"
   ]
  },
  {
   "cell_type": "markdown",
   "metadata": {},
   "source": [
    "* (1, 6) 모양의 행렬: 한 개의 행과 여섯 개의 열\n",
    "\n",
    "$$\n",
    "\\begin{bmatrix}\n",
    "    1 & 2 & 3 & 4 & 5 & 6\n",
    "\\end{bmatrix}\n",
    "$$"
   ]
  },
  {
   "cell_type": "markdown",
   "metadata": {},
   "source": [
    "* (2, 3) 모양의 행렬: 두 개의 행과 세 개의 열\n",
    "\n",
    "$$\n",
    "\\begin{bmatrix}\n",
    "    1 & 2 & 3\\\\\n",
    "    4 & 5 & 6\n",
    "\\end{bmatrix}\n",
    "$$"
   ]
  },
  {
   "cell_type": "markdown",
   "metadata": {
    "slideshow": {
     "slide_type": "slide"
    }
   },
   "source": [
    "* (3, 2) 모양의 행렬: 세 개의 행과 두 개의 열\n",
    "\n",
    "$$\n",
    "\\begin{bmatrix}\n",
    "    1 & 2 \\\\\n",
    "    3 & 4 \\\\\n",
    "    5 & 6\n",
    "\\end{bmatrix}\n",
    "$$"
   ]
  },
  {
   "cell_type": "markdown",
   "metadata": {},
   "source": [
    "* (6, 1) 모양의 행렬: 여섯 개의 행과 한 개의 열\n",
    "\n",
    "$$\n",
    "\\begin{bmatrix}\n",
    "    1 \\\\\n",
    "    2 \\\\\n",
    "    3 \\\\\n",
    "    4 \\\\\n",
    "    5 \\\\\n",
    "    6\n",
    "\\end{bmatrix}\n",
    "$$"
   ]
  },
  {
   "cell_type": "markdown",
   "metadata": {
    "slideshow": {
     "slide_type": "slide"
    }
   },
   "source": [
    "### `shape()` 함수"
   ]
  },
  {
   "cell_type": "markdown",
   "metadata": {
    "slideshow": {
     "slide_type": ""
    }
   },
   "source": [
    "`shape()` 함수: 주어진 행렬의 모양을 튜플로 반환"
   ]
  },
  {
   "cell_type": "code",
   "execution_count": 24,
   "metadata": {},
   "outputs": [],
   "source": [
    "def shape(M):\n",
    "    \"\"\"\n",
    "    M: 행렬\n",
    "    M[i]의 길이가 일정하다고 가정\n",
    "    \"\"\"\n",
    "\n",
    "    num_rows = len(M)    # 행의 수\n",
    "    num_cols = len(M[0]) # 열의 수\n",
    "    return num_rows, num_cols"
   ]
  },
  {
   "cell_type": "code",
   "execution_count": 25,
   "metadata": {},
   "outputs": [
    {
     "data": {
      "text/plain": [
       "(2, 3)"
      ]
     },
     "execution_count": 25,
     "metadata": {},
     "output_type": "execute_result"
    }
   ],
   "source": [
    "shape(A)"
   ]
  },
  {
   "cell_type": "markdown",
   "metadata": {
    "slideshow": {
     "slide_type": "slide"
    }
   },
   "source": [
    "### 행과 열의 인덱스"
   ]
  },
  {
   "cell_type": "markdown",
   "metadata": {},
   "source": [
    "<div align=\"center\"><img src=\"https://raw.githubusercontent.com/codingalzi/datapy/master/jupyter-book/images/Matrix_row-column.jpg\" width=\"50%\"></div>\n",
    "<br>"
   ]
  },
  {
   "cell_type": "markdown",
   "metadata": {
    "slideshow": {
     "slide_type": "slide"
    }
   },
   "source": [
    "### 행벡터와 열벡터"
   ]
  },
  {
   "cell_type": "markdown",
   "metadata": {},
   "source": [
    "지정된 인덱스의 행과 지정된 인덱스의 열의 항목들로 구성된 행벡터와 열벡터 생성"
   ]
  },
  {
   "cell_type": "code",
   "execution_count": 26,
   "metadata": {},
   "outputs": [],
   "source": [
    "# i번 행벡터\n",
    "def get_row(M, i):\n",
    "    \"\"\"\n",
    "    M: 행렬\n",
    "    i: 행 인덱스\n",
    "    \"\"\"\n",
    "\n",
    "    return M[i]             "
   ]
  },
  {
   "cell_type": "code",
   "execution_count": 27,
   "metadata": {},
   "outputs": [],
   "source": [
    "# j번 열벡터\n",
    "def get_column(M, j):\n",
    "    \"\"\"\n",
    "    M: 행렬\n",
    "    j: 열 인덱스\n",
    "    \"\"\"\n",
    "\n",
    "    return [M_i[j] for M_i in M]"
   ]
  },
  {
   "cell_type": "markdown",
   "metadata": {
    "slideshow": {
     "slide_type": "slide"
    }
   },
   "source": [
    "### 예제:"
   ]
  },
  {
   "cell_type": "code",
   "execution_count": 28,
   "metadata": {},
   "outputs": [
    {
     "data": {
      "text/plain": [
       "[1, 2, 3]"
      ]
     },
     "execution_count": 28,
     "metadata": {},
     "output_type": "execute_result"
    }
   ],
   "source": [
    "get_row(A, 0)"
   ]
  },
  {
   "cell_type": "code",
   "execution_count": 29,
   "metadata": {},
   "outputs": [
    {
     "data": {
      "text/plain": [
       "[2, 4, 6]"
      ]
     },
     "execution_count": 29,
     "metadata": {},
     "output_type": "execute_result"
    }
   ],
   "source": [
    "get_column(B, 1)"
   ]
  },
  {
   "cell_type": "markdown",
   "metadata": {
    "slideshow": {
     "slide_type": "slide"
    }
   },
   "source": [
    "### 행렬 초기화"
   ]
  },
  {
   "cell_type": "markdown",
   "metadata": {},
   "source": [
    "`make_matrix(n, m, entry_fn)` 함수: \n",
    "\n",
    "* 인자\n",
    "    * `n`: 행의 수\n",
    "    * `m`: 열의 수\n",
    "    * `entry_fn`: i, j가 주어지면 i행, j열에 위치한 항목 계산\n",
    "* 반환값: 지정된 방식으로 계산된 (i, j) 모양의 행렬"
   ]
  },
  {
   "cell_type": "code",
   "execution_count": 30,
   "metadata": {},
   "outputs": [],
   "source": [
    "def make_matrix(n, m, entry_fn):\n",
    "    \"\"\"\n",
    "    n: 행의 수\n",
    "    m: 열의 수\n",
    "    entry_fn: (i, j)에 대해 i행, j열에 위치한 항목 계산\n",
    "    \"\"\"\n",
    "    \n",
    "    return [ [entry_fn(i, j) for j in range(m)] for i in range(n) ]   "
   ]
  },
  {
   "cell_type": "markdown",
   "metadata": {
    "slideshow": {
     "slide_type": "slide"
    }
   },
   "source": [
    "### 0-행렬"
   ]
  },
  {
   "cell_type": "code",
   "execution_count": 31,
   "metadata": {},
   "outputs": [],
   "source": [
    "def zeros(x):\n",
    "    \"\"\"\n",
    "    x = (n, m), 단 n, m은 양의 정수\n",
    "    \"\"\"\n",
    "\n",
    "    n = x[0]\n",
    "    m = x[1]\n",
    "    zero_function = lambda i, j: 0\n",
    "    \n",
    "    return make_matrix(n, m, zero_function)"
   ]
  },
  {
   "cell_type": "code",
   "execution_count": 32,
   "metadata": {},
   "outputs": [
    {
     "data": {
      "text/plain": [
       "[[0, 0, 0, 0, 0, 0, 0],\n",
       " [0, 0, 0, 0, 0, 0, 0],\n",
       " [0, 0, 0, 0, 0, 0, 0],\n",
       " [0, 0, 0, 0, 0, 0, 0],\n",
       " [0, 0, 0, 0, 0, 0, 0]]"
      ]
     },
     "execution_count": 32,
     "metadata": {},
     "output_type": "execute_result"
    }
   ],
   "source": [
    "zeros((5,7))"
   ]
  },
  {
   "cell_type": "markdown",
   "metadata": {
    "slideshow": {
     "slide_type": "slide"
    }
   },
   "source": [
    "### 1-행렬"
   ]
  },
  {
   "cell_type": "code",
   "execution_count": 33,
   "metadata": {},
   "outputs": [],
   "source": [
    "def ones(x):\n",
    "    \"\"\"\n",
    "    x = (n, m), 단 n, m은 양의 정수\n",
    "    \"\"\"\n",
    "\n",
    "    n = x[0]\n",
    "    m = x[1]\n",
    "    one_function = lambda i, j: 1\n",
    "    \n",
    "    return make_matrix(n, m, one_function)"
   ]
  },
  {
   "cell_type": "code",
   "execution_count": 34,
   "metadata": {},
   "outputs": [
    {
     "data": {
      "text/plain": [
       "[[1, 1, 1, 1, 1, 1, 1],\n",
       " [1, 1, 1, 1, 1, 1, 1],\n",
       " [1, 1, 1, 1, 1, 1, 1],\n",
       " [1, 1, 1, 1, 1, 1, 1],\n",
       " [1, 1, 1, 1, 1, 1, 1]]"
      ]
     },
     "execution_count": 34,
     "metadata": {},
     "output_type": "execute_result"
    }
   ],
   "source": [
    "ones((5,7))"
   ]
  },
  {
   "cell_type": "markdown",
   "metadata": {
    "slideshow": {
     "slide_type": "slide"
    }
   },
   "source": [
    "### 임의 행렬"
   ]
  },
  {
   "cell_type": "code",
   "execution_count": 35,
   "metadata": {},
   "outputs": [],
   "source": [
    "import random\n",
    "\n",
    "def rand(n, m):\n",
    "    \"\"\"\n",
    "    n, m: 양의 정수\n",
    "    \"\"\"\n",
    "\n",
    "    random_function = lambda i, j: random.random()\n",
    "\n",
    "    return make_matrix(n, m, random_function)"
   ]
  },
  {
   "cell_type": "code",
   "execution_count": 36,
   "metadata": {},
   "outputs": [
    {
     "data": {
      "text/plain": [
       "[[0.3511028213336852, 0.8676715323001264, 0.3013156551806422],\n",
       " [0.07774536939220611, 0.8469618229487147, 0.9804318704582395],\n",
       " [0.46037996255964087, 0.0842173134780333, 0.4808625331822418],\n",
       " [0.5945736058832598, 0.19441800034043066, 0.8802333919878156],\n",
       " [0.15761338660359048, 0.6528558742999265, 0.27158530140491044]]"
      ]
     },
     "execution_count": 36,
     "metadata": {},
     "output_type": "execute_result"
    }
   ],
   "source": [
    "rand(5,3)"
   ]
  },
  {
   "cell_type": "markdown",
   "metadata": {
    "slideshow": {
     "slide_type": "slide"
    }
   },
   "source": [
    "### round() 함수"
   ]
  },
  {
   "cell_type": "code",
   "execution_count": 37,
   "metadata": {},
   "outputs": [],
   "source": [
    "def rand(n, m, ndigits=2):\n",
    "    \"\"\"\n",
    "    n, m: 양의 정수\n",
    "    \"\"\"\n",
    "\n",
    "    random_function = lambda i, j: round(random.random(), ndigits)  # ndigits: 소수점 이하 자릿수\n",
    "\n",
    "    return make_matrix(n, m, random_function)"
   ]
  },
  {
   "cell_type": "code",
   "execution_count": 38,
   "metadata": {},
   "outputs": [
    {
     "data": {
      "text/plain": [
       "[[0.96978, 0.10956, 0.99788],\n",
       " [0.55265, 0.46579, 0.56945],\n",
       " [0.39963, 0.01909, 0.18548],\n",
       " [0.29955, 0.95569, 0.71364],\n",
       " [0.62312, 0.06842, 0.67892]]"
      ]
     },
     "execution_count": 38,
     "metadata": {},
     "output_type": "execute_result"
    }
   ],
   "source": [
    "rand(5, 3, 5)"
   ]
  },
  {
   "cell_type": "markdown",
   "metadata": {
    "slideshow": {
     "slide_type": "slide"
    }
   },
   "source": [
    "### 항등행렬"
   ]
  },
  {
   "cell_type": "code",
   "execution_count": 39,
   "metadata": {},
   "outputs": [],
   "source": [
    "def identity(n):\n",
    "    \"\"\"\n",
    "    n: 양의 정수\n",
    "    \"\"\"\n",
    "    one_function = lambda i, j: 1 if i == j else 0\n",
    "    return make_matrix(n, n, one_function)"
   ]
  },
  {
   "cell_type": "code",
   "execution_count": 40,
   "metadata": {},
   "outputs": [
    {
     "data": {
      "text/plain": [
       "[[1, 0, 0, 0, 0],\n",
       " [0, 1, 0, 0, 0],\n",
       " [0, 0, 1, 0, 0],\n",
       " [0, 0, 0, 1, 0],\n",
       " [0, 0, 0, 0, 1]]"
      ]
     },
     "execution_count": 40,
     "metadata": {},
     "output_type": "execute_result"
    }
   ],
   "source": [
    "identity(5)"
   ]
  },
  {
   "cell_type": "markdown",
   "metadata": {
    "slideshow": {
     "slide_type": "slide"
    }
   },
   "source": [
    "### 행렬 항목별 연산"
   ]
  },
  {
   "cell_type": "markdown",
   "metadata": {},
   "source": [
    "- 행렬 항목별 사칙연산"
   ]
  },
  {
   "cell_type": "markdown",
   "metadata": {},
   "source": [
    "- 행렬 스칼라 곱셈"
   ]
  },
  {
   "cell_type": "markdown",
   "metadata": {
    "slideshow": {
     "slide_type": "slide"
    }
   },
   "source": [
    "### 행렬 항목별 덧셈"
   ]
  },
  {
   "cell_type": "markdown",
   "metadata": {},
   "source": [
    "$$\n",
    "\\begin{align*}\n",
    "\\begin{bmatrix}1&3&7\\\\1&0&0\\end{bmatrix} \n",
    "+ \\begin{bmatrix}0&0&5\\\\7&5&0\\end{bmatrix}\n",
    "&= \\begin{bmatrix}1+0&3+0&7+5\\\\1+7&0+5&0+0\\end{bmatrix} \\\\[.5ex]\n",
    "&= \\begin{bmatrix}1&3&12\\\\8&5&0\\end{bmatrix}\n",
    "\\end{align*}\n",
    "$$"
   ]
  },
  {
   "cell_type": "code",
   "execution_count": 41,
   "metadata": {},
   "outputs": [],
   "source": [
    "def addM(A, B):\n",
    "    assert shape(A) == shape(B)\n",
    "    \n",
    "    m, n = shape(A)\n",
    "    return make_matrix(m, n, lambda i, j: A[i][j] + B[i][j])"
   ]
  },
  {
   "cell_type": "code",
   "execution_count": 42,
   "metadata": {
    "slideshow": {
     "slide_type": ""
    }
   },
   "outputs": [],
   "source": [
    "C = [[1, 3, 7],\n",
    "     [1, 0, 0]]\n",
    "\n",
    "D = [[0, 0, 5], \n",
    "     [7, 5, 0]]"
   ]
  },
  {
   "cell_type": "code",
   "execution_count": 43,
   "metadata": {},
   "outputs": [
    {
     "data": {
      "text/plain": [
       "[[1, 3, 12], [8, 5, 0]]"
      ]
     },
     "execution_count": 43,
     "metadata": {},
     "output_type": "execute_result"
    }
   ],
   "source": [
    "addM(C, D)"
   ]
  },
  {
   "cell_type": "markdown",
   "metadata": {
    "slideshow": {
     "slide_type": "slide"
    }
   },
   "source": [
    "### 행렬 항목별 뺄셈"
   ]
  },
  {
   "cell_type": "markdown",
   "metadata": {},
   "source": [
    "$$\n",
    "\\begin{align*}\n",
    "\\begin{bmatrix}1&3&7\\\\1&0&0\\end{bmatrix} \n",
    "- \\begin{bmatrix}0&0&5\\\\7&5&0\\end{bmatrix}\n",
    "&= \\begin{bmatrix}1-0&3-0&7-5\\\\1-7&0-5&0-0\\end{bmatrix} \\\\[.5ex]\n",
    "&= \\begin{bmatrix}1&3&2\\\\-6&-5&0\\end{bmatrix}\n",
    "\\end{align*}\n",
    "$$"
   ]
  },
  {
   "cell_type": "code",
   "execution_count": 44,
   "metadata": {},
   "outputs": [],
   "source": [
    "def subtractM(A, B):\n",
    "    assert shape(A) == shape(B)\n",
    "    \n",
    "    m, n = shape(A)\n",
    "    \n",
    "    return make_matrix(m, n, lambda i, j: A[i][j] - B[i][j])"
   ]
  },
  {
   "cell_type": "code",
   "execution_count": 45,
   "metadata": {},
   "outputs": [
    {
     "data": {
      "text/plain": [
       "[[1, 3, 2], [-6, -5, 0]]"
      ]
     },
     "execution_count": 45,
     "metadata": {},
     "output_type": "execute_result"
    }
   ],
   "source": [
    "subtractM(C, D)"
   ]
  },
  {
   "cell_type": "markdown",
   "metadata": {
    "slideshow": {
     "slide_type": "slide"
    }
   },
   "source": [
    "### 행렬 스칼라 곱셈"
   ]
  },
  {
   "cell_type": "markdown",
   "metadata": {},
   "source": [
    "$$\n",
    "2\\ast \n",
    "\\begin{bmatrix}1&8&-3\\\\4&-2&5\\end{bmatrix}\n",
    "= \\begin{bmatrix}2\\ast 1&2\\ast 8&2\\ast -3\\\\2\\ast 4&2\\ast -2&2\\ast 5\\end{bmatrix}\n",
    "= \\begin{bmatrix}2&16&-6\\\\8&-4&10\\end{bmatrix}\n",
    "$$"
   ]
  },
  {
   "cell_type": "code",
   "execution_count": 46,
   "metadata": {},
   "outputs": [],
   "source": [
    "def scalar_multiplyM(c, M):\n",
    "    return [[c * row_i for row_i in row] for row in M]"
   ]
  },
  {
   "cell_type": "code",
   "execution_count": 47,
   "metadata": {},
   "outputs": [
    {
     "data": {
      "text/plain": [
       "[[2, 6, 14], [2, 0, 0]]"
      ]
     },
     "execution_count": 47,
     "metadata": {},
     "output_type": "execute_result"
    }
   ],
   "source": [
    "scalar_multiplyM(2, C)"
   ]
  },
  {
   "cell_type": "markdown",
   "metadata": {
    "slideshow": {
     "slide_type": "slide"
    }
   },
   "source": [
    "### 행렬 곱셈"
   ]
  },
  {
   "cell_type": "markdown",
   "metadata": {},
   "source": [
    "<div align=\"center\"><img src=\"https://raw.githubusercontent.com/codingalzi/datapy/master/jupyter-book/images/Matrix_mult_diagram.jpg\" width=\"40%\"></div>"
   ]
  },
  {
   "cell_type": "markdown",
   "metadata": {
    "slideshow": {
     "slide_type": ""
    }
   },
   "source": [
    "$$\n",
    "\\begin{align*}\n",
    "\\begin{bmatrix}\n",
    "    1&0&2\\\\-1&3&1\n",
    "\\end{bmatrix}\n",
    "\\cdot\n",
    "\\begin{bmatrix}\n",
    "    3&1\\\\2&1\\\\1&0\n",
    "\\end{bmatrix}\n",
    "&=\n",
    "\\begin{bmatrix}\n",
    "    (1\\ast 3+0\\ast 2+2\\ast 1)&(1\\ast 1+0\\ast 1+2\\ast 0)\\\\(-1\\ast 3+3\\ast 2+1\\ast 1)&(-1\\ast 1+3\\ast 1+1\\ast 0)\n",
    "\\end{bmatrix} \\\\[.5ex]\n",
    "&= \n",
    "\\begin{bmatrix}\n",
    "    5&1\\\\4&2\n",
    "\\end{bmatrix}\n",
    "\\end{align*}\n",
    "$$"
   ]
  },
  {
   "cell_type": "code",
   "execution_count": 48,
   "metadata": {
    "slideshow": {
     "slide_type": "slide"
    }
   },
   "outputs": [],
   "source": [
    "def matmul(A, B):\n",
    "    \"\"\"\n",
    "    A: (m, n) 모양의 행렬(2중 리스트)\n",
    "    B: (n, p) 모양의 행렬(2중 리스트)\n",
    "    \"\"\"\n",
    "\n",
    "    mat_mul = [[sum(a*b for a,b in zip(A_row, B_col)) for B_col in zip(*B)] for A_row in A]\n",
    "    return mat_mul\n"
   ]
  },
  {
   "cell_type": "code",
   "execution_count": 49,
   "metadata": {
    "slideshow": {
     "slide_type": ""
    }
   },
   "outputs": [],
   "source": [
    "# 2x3 행렬\n",
    "A = [[1, 0, 2],\n",
    "     [-1, 3, 1]]\n",
    "\n",
    "# 3x2 행렬\n",
    "B = [[3, 1],\n",
    "     [2, 1],\n",
    "     [1, 0]]"
   ]
  },
  {
   "cell_type": "code",
   "execution_count": 50,
   "metadata": {},
   "outputs": [
    {
     "data": {
      "text/plain": [
       "[[5, 1], [4, 2]]"
      ]
     },
     "execution_count": 50,
     "metadata": {},
     "output_type": "execute_result"
    }
   ],
   "source": [
    "matmul(A, B)"
   ]
  },
  {
   "cell_type": "markdown",
   "metadata": {
    "slideshow": {
     "slide_type": "slide"
    }
   },
   "source": [
    "### 행렬 곱셈의 항등원"
   ]
  },
  {
   "cell_type": "markdown",
   "metadata": {},
   "source": [
    "항등행렬은 행렬 곱셈의 항등원임"
   ]
  },
  {
   "cell_type": "markdown",
   "metadata": {},
   "source": [
    "$$\n",
    "\\begin{bmatrix}\n",
    "    3&1 \\\\\n",
    "    2&1 \\\\\n",
    "    1&0\n",
    "\\end{bmatrix}\n",
    "\\cdot\n",
    "\\begin{bmatrix}\n",
    "    1&0 \\\\ \n",
    "    0&1\n",
    "\\end{bmatrix}\n",
    "=\n",
    "\\begin{bmatrix}\n",
    "    (3\\ast 1+1\\ast 0)&(3\\ast 0+1\\ast 1) \\\\\n",
    "    (2\\ast 1+1\\ast 0)&(2\\ast 0+1\\ast 1) \\\\\n",
    "    (1\\ast 1+0\\ast 0)&(1\\ast 0+0\\ast 1) \\\\\n",
    "\\end{bmatrix}\n",
    "= \n",
    "\\begin{bmatrix}\n",
    "    3&1\\\\\n",
    "    2&1\\\\\n",
    "    1&0\n",
    "\\end{bmatrix}\n",
    "$$"
   ]
  },
  {
   "cell_type": "code",
   "execution_count": 51,
   "metadata": {},
   "outputs": [
    {
     "data": {
      "text/plain": [
       "True"
      ]
     },
     "execution_count": 51,
     "metadata": {},
     "output_type": "execute_result"
    }
   ],
   "source": [
    "# 3x2 행렬\n",
    "M = [[3, 1],\n",
    "     [2, 1],\n",
    "     [1, 0]]\n",
    "\n",
    "matmul(M, identity(2)) == M"
   ]
  },
  {
   "cell_type": "markdown",
   "metadata": {
    "slideshow": {
     "slide_type": "slide"
    }
   },
   "source": [
    "### 전치행렬"
   ]
  },
  {
   "cell_type": "markdown",
   "metadata": {},
   "source": [
    "$A^T$: 행렬 $A$의 행과 열을 바꾼 것"
   ]
  },
  {
   "cell_type": "markdown",
   "metadata": {},
   "source": [
    "$$\n",
    "\\begin{bmatrix}\n",
    "    9&8&7\\\\\n",
    "    -1&3&4\n",
    "\\end{bmatrix}^{T}\n",
    "=\n",
    "\\begin{bmatrix}\n",
    "    9&-1\\\\\n",
    "    8&3\\\\\n",
    "    7&4\n",
    "\\end{bmatrix}\n",
    "$$"
   ]
  },
  {
   "cell_type": "code",
   "execution_count": 52,
   "metadata": {
    "slideshow": {
     "slide_type": "slide"
    }
   },
   "outputs": [],
   "source": [
    "def transpose(M):\n",
    "    \"\"\"\n",
    "    M: (m, n) 모양의 행렬\n",
    "    \"\"\"\n",
    "\n",
    "    return [list(col) for col in zip(*M)]"
   ]
  },
  {
   "cell_type": "code",
   "execution_count": 53,
   "metadata": {},
   "outputs": [],
   "source": [
    "X = [[9, 8, 7],\n",
    "     [-1, 3, 4]]"
   ]
  },
  {
   "cell_type": "code",
   "execution_count": 54,
   "metadata": {},
   "outputs": [
    {
     "data": {
      "text/plain": [
       "[[9, -1], [8, 3], [7, 4]]"
      ]
     },
     "execution_count": 54,
     "metadata": {},
     "output_type": "execute_result"
    }
   ],
   "source": [
    "transpose(X)"
   ]
  },
  {
   "cell_type": "markdown",
   "metadata": {
    "slideshow": {
     "slide_type": "slide"
    }
   },
   "source": [
    "### 전치행렬의 성질"
   ]
  },
  {
   "cell_type": "markdown",
   "metadata": {},
   "source": [
    "$a$를 스칼라, $A$와 $B$를 크기가 같은 행렬이라 하자. 이때 다음이 성립한다.\n",
    "\n",
    "* $(A^T)^T = A$\n",
    "* $(A + B)^T = A^T + B^T$\n",
    "* $(A - B)^T = A^T - B^T$\n",
    "* $(a\\ast A)^T = a\\ast A^T$\n",
    "* $(A\\cdot B)^T = B^T \\cdot A^T$"
   ]
  }
 ],
 "metadata": {
  "celltoolbar": "Slideshow",
  "kernelspec": {
   "display_name": "Python 3 (ipykernel)",
   "language": "python",
   "name": "python3"
  },
  "language_info": {
   "codemirror_mode": {
    "name": "ipython",
    "version": 3
   },
   "file_extension": ".py",
   "mimetype": "text/x-python",
   "name": "python",
   "nbconvert_exporter": "python",
   "pygments_lexer": "ipython3",
   "version": "3.10.6"
  },
  "vscode": {
   "interpreter": {
    "hash": "ad0f3c8a064f687cbf898a0868fd45ba1c7e928ac8a0404f7c241d812ddc1e76"
   }
  }
 },
 "nbformat": 4,
 "nbformat_minor": 2
}

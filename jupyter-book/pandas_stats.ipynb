{
 "cells": [
  {
   "cell_type": "markdown",
   "metadata": {},
   "source": [
    "# 판다스 활용: 통계 기초"
   ]
  },
  {
   "cell_type": "markdown",
   "metadata": {},
   "source": [
    "**주요 내용**"
   ]
  },
  {
   "cell_type": "markdown",
   "metadata": {},
   "source": [
    "`Series`와 `DataFrame` 객체를로부터 기초 통계 자료를 추출하는 방식을 다룬다.\n",
    "\n",
    "* 합, 평균, 표준편차\n",
    "* 상관관계, 공분산\n",
    "* 중복값 처리"
   ]
  },
  {
   "cell_type": "markdown",
   "metadata": {},
   "source": [
    "**기본 설정**"
   ]
  },
  {
   "cell_type": "markdown",
   "metadata": {},
   "source": [
    "`pandas` 라이브러리는 보통 `pd` 라는 별칭으로 사용된다."
   ]
  },
  {
   "cell_type": "code",
   "execution_count": 1,
   "metadata": {},
   "outputs": [],
   "source": [
    "import pandas as pd\n",
    "import numpy as np"
   ]
  },
  {
   "cell_type": "markdown",
   "metadata": {},
   "source": [
    "랜덤 시드, 어레이 내부에 사용되는 부동소수점 정확도, 도표 크기 지정 옵션 등은 이전과 동일하다."
   ]
  },
  {
   "cell_type": "code",
   "execution_count": 2,
   "metadata": {},
   "outputs": [],
   "source": [
    "np.random.seed(12345)\n",
    "np.set_printoptions(precision=4, suppress=True)\n",
    "\n",
    "import matplotlib.pyplot as plt\n",
    "plt.rc('figure', figsize=(10, 6))"
   ]
  },
  {
   "cell_type": "markdown",
   "metadata": {},
   "source": [
    "`Series`와 `DataFrame`을 표로 보여줄 때 사용되는 행의 수를 20으로 지정한다. \n",
    "기본 값은 60이다."
   ]
  },
  {
   "cell_type": "code",
   "execution_count": 3,
   "metadata": {},
   "outputs": [],
   "source": [
    "PREVIOUS_MAX_ROWS = pd.options.display.max_rows # 원래 60이 기본.\n",
    "pd.set_option(\"max_rows\", 20)"
   ]
  },
  {
   "cell_type": "markdown",
   "metadata": {},
   "source": [
    "## 합, 평균, 표준편차"
   ]
  },
  {
   "cell_type": "markdown",
   "metadata": {},
   "source": [
    "기초 통계에서 사용되는 주요 메서드들의 활용법을 살펴본다.\n",
    "\n",
    "* `sum()`\n",
    "* `mean()`\n",
    "* `std()`\n",
    "* `idxmax()`/`idxmin()`\n",
    "* `cumsum()`\n",
    "* `describe()`"
   ]
  },
  {
   "cell_type": "markdown",
   "metadata": {},
   "source": [
    "기본적으로 열 단위로 작동하며, 결측치는 행 또는 열의 모든 값이 결측치가 아니라면 기본적으로 무시된다.\n",
    "행 단위로 작동하게 하려면 축을 `axis=1` 또는 `axis='columns`로 지정하고,\n",
    "결측치를 무시하지 않으려면 `skipna=False`로 지정한다."
   ]
  },
  {
   "cell_type": "code",
   "execution_count": 4,
   "metadata": {},
   "outputs": [
    {
     "data": {
      "text/html": [
       "<div>\n",
       "<style scoped>\n",
       "    .dataframe tbody tr th:only-of-type {\n",
       "        vertical-align: middle;\n",
       "    }\n",
       "\n",
       "    .dataframe tbody tr th {\n",
       "        vertical-align: top;\n",
       "    }\n",
       "\n",
       "    .dataframe thead th {\n",
       "        text-align: right;\n",
       "    }\n",
       "</style>\n",
       "<table border=\"1\" class=\"dataframe\">\n",
       "  <thead>\n",
       "    <tr style=\"text-align: right;\">\n",
       "      <th></th>\n",
       "      <th>one</th>\n",
       "      <th>two</th>\n",
       "    </tr>\n",
       "  </thead>\n",
       "  <tbody>\n",
       "    <tr>\n",
       "      <th>a</th>\n",
       "      <td>1.40</td>\n",
       "      <td>NaN</td>\n",
       "    </tr>\n",
       "    <tr>\n",
       "      <th>b</th>\n",
       "      <td>7.10</td>\n",
       "      <td>-4.5</td>\n",
       "    </tr>\n",
       "    <tr>\n",
       "      <th>c</th>\n",
       "      <td>NaN</td>\n",
       "      <td>NaN</td>\n",
       "    </tr>\n",
       "    <tr>\n",
       "      <th>d</th>\n",
       "      <td>0.75</td>\n",
       "      <td>-1.3</td>\n",
       "    </tr>\n",
       "  </tbody>\n",
       "</table>\n",
       "</div>"
      ],
      "text/plain": [
       "    one  two\n",
       "a  1.40  NaN\n",
       "b  7.10 -4.5\n",
       "c   NaN  NaN\n",
       "d  0.75 -1.3"
      ]
     },
     "execution_count": 4,
     "metadata": {},
     "output_type": "execute_result"
    }
   ],
   "source": [
    "df = pd.DataFrame([[1.4, np.nan], [7.1, -4.5],\n",
    "                   [np.nan, np.nan], [0.75, -1.3]],\n",
    "                  index=['a', 'b', 'c', 'd'],\n",
    "                  columns=['one', 'two'])\n",
    "df"
   ]
  },
  {
   "cell_type": "markdown",
   "metadata": {},
   "source": [
    "* `sum()` 메서드: 행/열 단위 합 계산"
   ]
  },
  {
   "cell_type": "code",
   "execution_count": 5,
   "metadata": {},
   "outputs": [
    {
     "data": {
      "text/plain": [
       "one    9.25\n",
       "two   -5.80\n",
       "dtype: float64"
      ]
     },
     "execution_count": 5,
     "metadata": {},
     "output_type": "execute_result"
    }
   ],
   "source": [
    "df.sum()"
   ]
  },
  {
   "cell_type": "markdown",
   "metadata": {},
   "source": [
    "결측치를 무시하지 않으면, 결측치가 포함된 행/렬에 대한 계산은 하지 않는다."
   ]
  },
  {
   "cell_type": "code",
   "execution_count": 6,
   "metadata": {},
   "outputs": [
    {
     "data": {
      "text/plain": [
       "one   NaN\n",
       "two   NaN\n",
       "dtype: float64"
      ]
     },
     "execution_count": 6,
     "metadata": {},
     "output_type": "execute_result"
    }
   ],
   "source": [
    "df.sum(skipna=False)"
   ]
  },
  {
   "cell_type": "code",
   "execution_count": 7,
   "metadata": {},
   "outputs": [
    {
     "data": {
      "text/plain": [
       "a    1.40\n",
       "b    2.60\n",
       "c    0.00\n",
       "d   -0.55\n",
       "dtype: float64"
      ]
     },
     "execution_count": 7,
     "metadata": {},
     "output_type": "execute_result"
    }
   ],
   "source": [
    "df.sum(axis='columns')"
   ]
  },
  {
   "cell_type": "markdown",
   "metadata": {},
   "source": [
    "시리즈는 하나의 열을 갖는 데이터프레임처럼 작동한다."
   ]
  },
  {
   "cell_type": "code",
   "execution_count": 8,
   "metadata": {},
   "outputs": [
    {
     "data": {
      "text/plain": [
       "a    1.40\n",
       "b    7.10\n",
       "c     NaN\n",
       "d    0.75\n",
       "Name: one, dtype: float64"
      ]
     },
     "execution_count": 8,
     "metadata": {},
     "output_type": "execute_result"
    }
   ],
   "source": [
    "df['one']"
   ]
  },
  {
   "cell_type": "code",
   "execution_count": 9,
   "metadata": {},
   "outputs": [
    {
     "data": {
      "text/plain": [
       "9.25"
      ]
     },
     "execution_count": 9,
     "metadata": {},
     "output_type": "execute_result"
    }
   ],
   "source": [
    "df['one'].sum()"
   ]
  },
  {
   "cell_type": "markdown",
   "metadata": {},
   "source": [
    "* `mean()` 메서드: 평균값 계산"
   ]
  },
  {
   "cell_type": "code",
   "execution_count": 10,
   "metadata": {},
   "outputs": [
    {
     "data": {
      "text/plain": [
       "one    3.083333\n",
       "two   -2.900000\n",
       "dtype: float64"
      ]
     },
     "execution_count": 10,
     "metadata": {},
     "output_type": "execute_result"
    }
   ],
   "source": [
    "df.mean()"
   ]
  },
  {
   "cell_type": "code",
   "execution_count": 11,
   "metadata": {},
   "outputs": [
    {
     "data": {
      "text/plain": [
       "a    1.400\n",
       "b    1.300\n",
       "c      NaN\n",
       "d   -0.275\n",
       "dtype: float64"
      ]
     },
     "execution_count": 11,
     "metadata": {},
     "output_type": "execute_result"
    }
   ],
   "source": [
    "df.mean(axis='columns')"
   ]
  },
  {
   "cell_type": "markdown",
   "metadata": {},
   "source": [
    "결측치를 무시하지 않으면, 결측치가 포함된 행/렬에 대한 계산은 하지 않는다."
   ]
  },
  {
   "cell_type": "code",
   "execution_count": 12,
   "metadata": {},
   "outputs": [
    {
     "data": {
      "text/plain": [
       "one   NaN\n",
       "two   NaN\n",
       "dtype: float64"
      ]
     },
     "execution_count": 12,
     "metadata": {},
     "output_type": "execute_result"
    }
   ],
   "source": [
    "df.mean(skipna=False)"
   ]
  },
  {
   "cell_type": "code",
   "execution_count": 13,
   "metadata": {},
   "outputs": [
    {
     "data": {
      "text/plain": [
       "a      NaN\n",
       "b    1.300\n",
       "c      NaN\n",
       "d   -0.275\n",
       "dtype: float64"
      ]
     },
     "execution_count": 13,
     "metadata": {},
     "output_type": "execute_result"
    }
   ],
   "source": [
    "df.mean(axis='columns', skipna=False)"
   ]
  },
  {
   "cell_type": "markdown",
   "metadata": {},
   "source": [
    "시리즈의 경우도 동일하게 작동한다."
   ]
  },
  {
   "cell_type": "code",
   "execution_count": 14,
   "metadata": {},
   "outputs": [
    {
     "data": {
      "text/plain": [
       "3.0833333333333335"
      ]
     },
     "execution_count": 14,
     "metadata": {},
     "output_type": "execute_result"
    }
   ],
   "source": [
    "df['one'].mean()"
   ]
  },
  {
   "cell_type": "code",
   "execution_count": 15,
   "metadata": {},
   "outputs": [
    {
     "data": {
      "text/plain": [
       "nan"
      ]
     },
     "execution_count": 15,
     "metadata": {},
     "output_type": "execute_result"
    }
   ],
   "source": [
    "df['one'].mean(skipna=False)"
   ]
  },
  {
   "cell_type": "markdown",
   "metadata": {},
   "source": [
    "* `std()` 메서드: 표준편차 계산"
   ]
  },
  {
   "cell_type": "code",
   "execution_count": 16,
   "metadata": {},
   "outputs": [
    {
     "data": {
      "text/plain": [
       "one    3.493685\n",
       "two    2.262742\n",
       "dtype: float64"
      ]
     },
     "execution_count": 16,
     "metadata": {},
     "output_type": "execute_result"
    }
   ],
   "source": [
    "df.std()"
   ]
  },
  {
   "cell_type": "code",
   "execution_count": 17,
   "metadata": {},
   "outputs": [
    {
     "data": {
      "text/plain": [
       "a         NaN\n",
       "b    8.202439\n",
       "c         NaN\n",
       "d    1.449569\n",
       "dtype: float64"
      ]
     },
     "execution_count": 17,
     "metadata": {},
     "output_type": "execute_result"
    }
   ],
   "source": [
    "df.std(axis='columns')"
   ]
  },
  {
   "cell_type": "code",
   "execution_count": 18,
   "metadata": {},
   "outputs": [
    {
     "data": {
      "text/plain": [
       "one   NaN\n",
       "two   NaN\n",
       "dtype: float64"
      ]
     },
     "execution_count": 18,
     "metadata": {},
     "output_type": "execute_result"
    }
   ],
   "source": [
    "df.std(skipna=False)"
   ]
  },
  {
   "cell_type": "code",
   "execution_count": 19,
   "metadata": {},
   "outputs": [
    {
     "data": {
      "text/plain": [
       "a         NaN\n",
       "b    8.202439\n",
       "c         NaN\n",
       "d    1.449569\n",
       "dtype: float64"
      ]
     },
     "execution_count": 19,
     "metadata": {},
     "output_type": "execute_result"
    }
   ],
   "source": [
    "df.std(axis='columns', skipna=False)"
   ]
  },
  {
   "cell_type": "markdown",
   "metadata": {},
   "source": [
    "* `idxmax()`/`idxmin()`: 최댓값/최솟값을 갖는 인덱스 확인"
   ]
  },
  {
   "cell_type": "markdown",
   "metadata": {},
   "source": [
    "아래 코드는 열별 최댓값을 갖는 인덱스를 찾아준다."
   ]
  },
  {
   "cell_type": "code",
   "execution_count": 20,
   "metadata": {},
   "outputs": [
    {
     "data": {
      "text/plain": [
       "one    b\n",
       "two    d\n",
       "dtype: object"
      ]
     },
     "execution_count": 20,
     "metadata": {},
     "output_type": "execute_result"
    }
   ],
   "source": [
    "df.idxmax()"
   ]
  },
  {
   "cell_type": "markdown",
   "metadata": {},
   "source": [
    "아래 코드는 행별 최솟값을 갖는 인덱스를 찾아준다."
   ]
  },
  {
   "cell_type": "code",
   "execution_count": 21,
   "metadata": {},
   "outputs": [
    {
     "data": {
      "text/plain": [
       "a    one\n",
       "b    two\n",
       "c    NaN\n",
       "d    two\n",
       "dtype: object"
      ]
     },
     "execution_count": 21,
     "metadata": {},
     "output_type": "execute_result"
    }
   ],
   "source": [
    "df.idxmin(axis=1)"
   ]
  },
  {
   "cell_type": "markdown",
   "metadata": {},
   "source": [
    "* `cumsum()`: 누적 합 계산"
   ]
  },
  {
   "cell_type": "code",
   "execution_count": 22,
   "metadata": {},
   "outputs": [
    {
     "data": {
      "text/html": [
       "<div>\n",
       "<style scoped>\n",
       "    .dataframe tbody tr th:only-of-type {\n",
       "        vertical-align: middle;\n",
       "    }\n",
       "\n",
       "    .dataframe tbody tr th {\n",
       "        vertical-align: top;\n",
       "    }\n",
       "\n",
       "    .dataframe thead th {\n",
       "        text-align: right;\n",
       "    }\n",
       "</style>\n",
       "<table border=\"1\" class=\"dataframe\">\n",
       "  <thead>\n",
       "    <tr style=\"text-align: right;\">\n",
       "      <th></th>\n",
       "      <th>one</th>\n",
       "      <th>two</th>\n",
       "    </tr>\n",
       "  </thead>\n",
       "  <tbody>\n",
       "    <tr>\n",
       "      <th>a</th>\n",
       "      <td>1.40</td>\n",
       "      <td>NaN</td>\n",
       "    </tr>\n",
       "    <tr>\n",
       "      <th>b</th>\n",
       "      <td>8.50</td>\n",
       "      <td>-4.5</td>\n",
       "    </tr>\n",
       "    <tr>\n",
       "      <th>c</th>\n",
       "      <td>NaN</td>\n",
       "      <td>NaN</td>\n",
       "    </tr>\n",
       "    <tr>\n",
       "      <th>d</th>\n",
       "      <td>9.25</td>\n",
       "      <td>-5.8</td>\n",
       "    </tr>\n",
       "  </tbody>\n",
       "</table>\n",
       "</div>"
      ],
      "text/plain": [
       "    one  two\n",
       "a  1.40  NaN\n",
       "b  8.50 -4.5\n",
       "c   NaN  NaN\n",
       "d  9.25 -5.8"
      ]
     },
     "execution_count": 22,
     "metadata": {},
     "output_type": "execute_result"
    }
   ],
   "source": [
    "df.cumsum()"
   ]
  },
  {
   "cell_type": "code",
   "execution_count": 23,
   "metadata": {},
   "outputs": [
    {
     "data": {
      "text/html": [
       "<div>\n",
       "<style scoped>\n",
       "    .dataframe tbody tr th:only-of-type {\n",
       "        vertical-align: middle;\n",
       "    }\n",
       "\n",
       "    .dataframe tbody tr th {\n",
       "        vertical-align: top;\n",
       "    }\n",
       "\n",
       "    .dataframe thead th {\n",
       "        text-align: right;\n",
       "    }\n",
       "</style>\n",
       "<table border=\"1\" class=\"dataframe\">\n",
       "  <thead>\n",
       "    <tr style=\"text-align: right;\">\n",
       "      <th></th>\n",
       "      <th>one</th>\n",
       "      <th>two</th>\n",
       "    </tr>\n",
       "  </thead>\n",
       "  <tbody>\n",
       "    <tr>\n",
       "      <th>a</th>\n",
       "      <td>1.4</td>\n",
       "      <td>NaN</td>\n",
       "    </tr>\n",
       "    <tr>\n",
       "      <th>b</th>\n",
       "      <td>8.5</td>\n",
       "      <td>NaN</td>\n",
       "    </tr>\n",
       "    <tr>\n",
       "      <th>c</th>\n",
       "      <td>NaN</td>\n",
       "      <td>NaN</td>\n",
       "    </tr>\n",
       "    <tr>\n",
       "      <th>d</th>\n",
       "      <td>NaN</td>\n",
       "      <td>NaN</td>\n",
       "    </tr>\n",
       "  </tbody>\n",
       "</table>\n",
       "</div>"
      ],
      "text/plain": [
       "   one  two\n",
       "a  1.4  NaN\n",
       "b  8.5  NaN\n",
       "c  NaN  NaN\n",
       "d  NaN  NaN"
      ]
     },
     "execution_count": 23,
     "metadata": {},
     "output_type": "execute_result"
    }
   ],
   "source": [
    "df.cumsum(skipna=False)"
   ]
  },
  {
   "cell_type": "markdown",
   "metadata": {},
   "source": [
    "* `describe()`: 요약 통계 보여주기"
   ]
  },
  {
   "cell_type": "markdown",
   "metadata": {},
   "source": [
    "수치형 데이터의 경우 평균값, 표준편차, 사분위수 등의 통계 정보를 요약해서 보여준다."
   ]
  },
  {
   "cell_type": "code",
   "execution_count": 24,
   "metadata": {},
   "outputs": [
    {
     "data": {
      "text/html": [
       "<div>\n",
       "<style scoped>\n",
       "    .dataframe tbody tr th:only-of-type {\n",
       "        vertical-align: middle;\n",
       "    }\n",
       "\n",
       "    .dataframe tbody tr th {\n",
       "        vertical-align: top;\n",
       "    }\n",
       "\n",
       "    .dataframe thead th {\n",
       "        text-align: right;\n",
       "    }\n",
       "</style>\n",
       "<table border=\"1\" class=\"dataframe\">\n",
       "  <thead>\n",
       "    <tr style=\"text-align: right;\">\n",
       "      <th></th>\n",
       "      <th>one</th>\n",
       "      <th>two</th>\n",
       "    </tr>\n",
       "  </thead>\n",
       "  <tbody>\n",
       "    <tr>\n",
       "      <th>count</th>\n",
       "      <td>3.000000</td>\n",
       "      <td>2.000000</td>\n",
       "    </tr>\n",
       "    <tr>\n",
       "      <th>mean</th>\n",
       "      <td>3.083333</td>\n",
       "      <td>-2.900000</td>\n",
       "    </tr>\n",
       "    <tr>\n",
       "      <th>std</th>\n",
       "      <td>3.493685</td>\n",
       "      <td>2.262742</td>\n",
       "    </tr>\n",
       "    <tr>\n",
       "      <th>min</th>\n",
       "      <td>0.750000</td>\n",
       "      <td>-4.500000</td>\n",
       "    </tr>\n",
       "    <tr>\n",
       "      <th>25%</th>\n",
       "      <td>1.075000</td>\n",
       "      <td>-3.700000</td>\n",
       "    </tr>\n",
       "    <tr>\n",
       "      <th>50%</th>\n",
       "      <td>1.400000</td>\n",
       "      <td>-2.900000</td>\n",
       "    </tr>\n",
       "    <tr>\n",
       "      <th>75%</th>\n",
       "      <td>4.250000</td>\n",
       "      <td>-2.100000</td>\n",
       "    </tr>\n",
       "    <tr>\n",
       "      <th>max</th>\n",
       "      <td>7.100000</td>\n",
       "      <td>-1.300000</td>\n",
       "    </tr>\n",
       "  </tbody>\n",
       "</table>\n",
       "</div>"
      ],
      "text/plain": [
       "            one       two\n",
       "count  3.000000  2.000000\n",
       "mean   3.083333 -2.900000\n",
       "std    3.493685  2.262742\n",
       "min    0.750000 -4.500000\n",
       "25%    1.075000 -3.700000\n",
       "50%    1.400000 -2.900000\n",
       "75%    4.250000 -2.100000\n",
       "max    7.100000 -1.300000"
      ]
     },
     "execution_count": 24,
     "metadata": {},
     "output_type": "execute_result"
    }
   ],
   "source": [
    "df.describe()"
   ]
  },
  {
   "cell_type": "markdown",
   "metadata": {},
   "source": [
    "수치형 데이터가 아닐 경우 다른 요약 통계를 보여준다."
   ]
  },
  {
   "cell_type": "code",
   "execution_count": 25,
   "metadata": {},
   "outputs": [
    {
     "data": {
      "text/plain": [
       "0    a\n",
       "1    a\n",
       "2    b\n",
       "3    c\n",
       "4    a\n",
       "5    a\n",
       "6    b\n",
       "7    c\n",
       "dtype: object"
      ]
     },
     "execution_count": 25,
     "metadata": {},
     "output_type": "execute_result"
    }
   ],
   "source": [
    "ser = pd.Series(['a', 'a', 'b', 'c'] * 2)\n",
    "ser"
   ]
  },
  {
   "cell_type": "code",
   "execution_count": 26,
   "metadata": {},
   "outputs": [
    {
     "data": {
      "text/plain": [
       "count     8\n",
       "unique    3\n",
       "top       a\n",
       "freq      4\n",
       "dtype: object"
      ]
     },
     "execution_count": 26,
     "metadata": {},
     "output_type": "execute_result"
    }
   ],
   "source": [
    "ser.describe()"
   ]
  },
  {
   "cell_type": "markdown",
   "metadata": {},
   "source": [
    "## 상관관계와 공분산"
   ]
  },
  {
   "cell_type": "markdown",
   "metadata": {},
   "source": [
    "금융 사이트에서 구한 4 개 회사의 주가(price)와 거래량(volume)을 담고 있는 두 개의 데이터를 이용하여\n",
    "상관계수와 공분산을 계산해본다."
   ]
  },
  {
   "cell_type": "markdown",
   "metadata": {},
   "source": [
    "이를 위해 먼저 바이너리 파일 두 개를 다운로드해서 지정된 하위 디렉토리에 저장한다."
   ]
  },
  {
   "cell_type": "markdown",
   "metadata": {},
   "source": [
    "* 파일 저장 디렉토리 지정 및 생성"
   ]
  },
  {
   "cell_type": "code",
   "execution_count": 27,
   "metadata": {},
   "outputs": [],
   "source": [
    "from pathlib import Path\n",
    "\n",
    "data_path = Path() / \"examples\"\n",
    "\n",
    "data_path.mkdir(parents=True, exist_ok=True)"
   ]
  },
  {
   "cell_type": "markdown",
   "metadata": {},
   "source": [
    "* 특정 서버에서 파일 다운로드 함수"
   ]
  },
  {
   "cell_type": "code",
   "execution_count": 28,
   "metadata": {},
   "outputs": [],
   "source": [
    "from urllib.request import urlretrieve\n",
    "\n",
    "# 파일 서버 기본 주소\n",
    "base_url = \"https://github.com/codingalzi/datapy/raw/master/jupyter-book/examples/\"\n",
    "    \n",
    "def myWget(filename):\n",
    "    # 다운로드 대상 파일 경로\n",
    "    file_url = base_url + filename + \"?taw=true\"\n",
    "    \n",
    "    # 저장 경로와 파일명\n",
    "    target_path = data_path / filename\n",
    "\n",
    "    return urlretrieve(file_url, target_path)"
   ]
  },
  {
   "cell_type": "markdown",
   "metadata": {},
   "source": [
    "두 개의 픽클 파일 다운로드한다.\n",
    "- pkl 파일: 판다스에서 제공하는 객체를 `to_pickle()` 메서드를 이용하여 \n",
    "    컴퓨터에 파일로 저장할 때 사용되는 바이너리 파일."
   ]
  },
  {
   "cell_type": "code",
   "execution_count": 35,
   "metadata": {},
   "outputs": [
    {
     "data": {
      "text/plain": [
       "(PosixPath('examples/yahoo_price.pkl'),\n",
       " <http.client.HTTPMessage at 0x7ff5934d26a0>)"
      ]
     },
     "execution_count": 35,
     "metadata": {},
     "output_type": "execute_result"
    }
   ],
   "source": [
    "myWget(\"yahoo_price.pkl\")"
   ]
  },
  {
   "cell_type": "code",
   "execution_count": 34,
   "metadata": {},
   "outputs": [
    {
     "data": {
      "text/plain": [
       "(PosixPath('examples/yahoo_volume.pkl'),\n",
       " <http.client.HTTPMessage at 0x7ff5934d2d90>)"
      ]
     },
     "execution_count": 34,
     "metadata": {},
     "output_type": "execute_result"
    }
   ],
   "source": [
    "myWget(\"yahoo_volume.pkl\")"
   ]
  },
  {
   "cell_type": "markdown",
   "metadata": {},
   "source": [
    "다운로드한 두 개의 데이터를 불러온다.\n",
    "\n",
    "- `read_pickle()`: 저장된 pkl 파일을 파이썬으로 불러오는 함수"
   ]
  },
  {
   "cell_type": "markdown",
   "metadata": {},
   "source": [
    "아래 코드는 일별 주가 데이터를 불러온다.\n",
    "2010년 1월 4일부터 2016년 10월 21일까지의 데이터 1714개를 담고 있다."
   ]
  },
  {
   "cell_type": "code",
   "execution_count": null,
   "metadata": {},
   "outputs": [],
   "source": [
    "price = pd.read_pickle('examples/yahoo_price.pkl')\n",
    "price"
   ]
  },
  {
   "cell_type": "markdown",
   "metadata": {},
   "source": [
    "아래 코드는 동일 회사, 동일 날짜의 1일 거래량(volume) 담고 있는 데이터를 불러온다."
   ]
  },
  {
   "cell_type": "code",
   "execution_count": null,
   "metadata": {},
   "outputs": [],
   "source": [
    "volume = pd.read_pickle('examples/yahoo_volume.pkl')\n",
    "volume"
   ]
  },
  {
   "cell_type": "markdown",
   "metadata": {},
   "source": [
    "주가의 일단위 변화율을 알아보기 위해 퍼센트 변화율을 확인해보자.\n",
    "\n",
    "__참고:__ 증권분야에서 return은 이익율을 의미한다."
   ]
  },
  {
   "cell_type": "code",
   "execution_count": null,
   "metadata": {},
   "outputs": [],
   "source": [
    "returns = price.pct_change()\n",
    "returns.tail()"
   ]
  },
  {
   "cell_type": "markdown",
   "metadata": {},
   "source": [
    "**`corr()`/`cov()` 메서드**"
   ]
  },
  {
   "cell_type": "markdown",
   "metadata": {},
   "source": [
    "상관계수와 공분산 모두 두 확률변수 사이의 선형관계를 보여주며\n",
    "차이점은 다음과 같다.\n",
    "\n",
    "- 공분산: 두 확률변수 $X, Y$ 사이의 선형관계를 계량화 함. \n",
    "    양수/음수 여부에 따라 양 또는 음의 선형관계이며,\n",
    "    절댓값이 클 수록 강한 선형관계임.\n",
    "    다만, 사용되는 확률변수의 척도(scale)에 많은 영향을 받음.\n",
    "    따라서 보통 정규화한 값인 상관계수를 사용함.\n",
    "\n",
    "$$\n",
    "\\begin{align*}\n",
    "Cov(X, Y) & = E((X-\\mu_X)(Y-\\mu_Y))\\\\[2ex]\n",
    "\\mu_X & = E(X) = \\dfrac{\\sum X}{n}\\\\[1.5ex]\n",
    "\\mu_Y & = E(Y) = \\dfrac{\\sum Y}{n}\n",
    "\\end{align*}\n",
    "$$\n",
    "\n",
    "- 상관계수: 두 확률변수 사이의 선형관계를 -1과 1 사이의 값으로 표현.\n",
    "    양수/음수 여부에 따라 양 또는 음의 선형관계이며,\n",
    "    절댓값이 1에 가까울 수록 강한 선형관계임.\n",
    "$$\n",
    "\\begin{align*}\n",
    "\\rho & = \\frac{Cov(X, Y)}{\\sigma_X\\cdot \\sigma_Y}\\\\[2ex]\n",
    "\\sigma_X & = \\sqrt{Var(X)}\\\\[1.5ex]\n",
    "\\sigma_X & = \\sqrt{Var(X)}\\\\[1.5ex]\n",
    "Var(X) & = \\dfrac{\\sum (X-\\mu_X)^2}{n}\\\\[1.5ex]\n",
    "Var(Y) & = \\dfrac{\\sum (X-\\mu_Y)^2}{n}\n",
    "\\end{align*}\n",
    "$$    "
   ]
  },
  {
   "cell_type": "markdown",
   "metadata": {},
   "source": [
    "'MSFT'와 'IBM' 사이의 상관계수는 다음과 같다."
   ]
  },
  {
   "cell_type": "code",
   "execution_count": null,
   "metadata": {},
   "outputs": [],
   "source": [
    "returns['MSFT'].corr(returns['IBM'])"
   ]
  },
  {
   "cell_type": "markdown",
   "metadata": {},
   "source": [
    "'MSFT'와 'IBM' 사이의 공분산은 다음과 같다."
   ]
  },
  {
   "cell_type": "code",
   "execution_count": null,
   "metadata": {},
   "outputs": [],
   "source": [
    "returns['MSFT'].cov(returns['IBM'])"
   ]
  },
  {
   "cell_type": "markdown",
   "metadata": {},
   "source": [
    "아래와 같이 속성으로 처리할 수 있으면 보다 깔금하게 보인다."
   ]
  },
  {
   "cell_type": "code",
   "execution_count": null,
   "metadata": {},
   "outputs": [],
   "source": [
    "returns.MSFT.corr(returns.IBM)"
   ]
  },
  {
   "cell_type": "markdown",
   "metadata": {},
   "source": [
    "전체 회사를 대상으로 하는 상관계수와 공분산을 계산할 수도 있다."
   ]
  },
  {
   "cell_type": "code",
   "execution_count": null,
   "metadata": {},
   "outputs": [],
   "source": [
    "returns.corr()"
   ]
  },
  {
   "cell_type": "code",
   "execution_count": null,
   "metadata": {},
   "outputs": [],
   "source": [
    "returns.cov()"
   ]
  },
  {
   "cell_type": "markdown",
   "metadata": {},
   "source": [
    "**`corrwith()` 메서드: 다른 시리즈 또는 데이터프레임과의 상관계수 계산**"
   ]
  },
  {
   "cell_type": "markdown",
   "metadata": {},
   "source": [
    "시리즈를 인자로 사용하면 각 열에 대한 상관계수를 계산한다."
   ]
  },
  {
   "cell_type": "code",
   "execution_count": null,
   "metadata": {},
   "outputs": [],
   "source": [
    "returns.corrwith(returns.IBM)"
   ]
  },
  {
   "cell_type": "markdown",
   "metadata": {},
   "source": [
    "데이터프레임을 인자로 사용하면 공통 인덱스를 사용하는 모든 열에 대한 상관계수를 계산한다."
   ]
  },
  {
   "cell_type": "code",
   "execution_count": null,
   "metadata": {},
   "outputs": [],
   "source": [
    "returns.corrwith(volume)"
   ]
  },
  {
   "cell_type": "markdown",
   "metadata": {},
   "source": [
    "## 중복과 빈도"
   ]
  },
  {
   "cell_type": "markdown",
   "metadata": {},
   "source": [
    "**`unique()` 메서드**"
   ]
  },
  {
   "cell_type": "markdown",
   "metadata": {},
   "source": [
    "시리즈에서 사용된 값을 중복 없이 확인하려면 `unique()` 메서드를 이용한다.\n",
    "`set()` 함수와 유사하게 작동하며, 넘파이 어레이를 반환한다."
   ]
  },
  {
   "cell_type": "code",
   "execution_count": null,
   "metadata": {},
   "outputs": [],
   "source": [
    "obj = pd.Series(['c', 'a', 'd', 'a', 'a', 'b', 'b', 'c', 'c'])\n",
    "obj"
   ]
  },
  {
   "cell_type": "code",
   "execution_count": null,
   "metadata": {},
   "outputs": [],
   "source": [
    "uniques = obj.unique()\n",
    "uniques"
   ]
  },
  {
   "cell_type": "markdown",
   "metadata": {},
   "source": [
    "**`value_counts()` 메서드**"
   ]
  },
  {
   "cell_type": "markdown",
   "metadata": {},
   "source": [
    "값들의 빈도수를 확인하기 위해 사용한다."
   ]
  },
  {
   "cell_type": "code",
   "execution_count": null,
   "metadata": {},
   "outputs": [],
   "source": [
    "obj.value_counts()"
   ]
  },
  {
   "cell_type": "code",
   "execution_count": null,
   "metadata": {},
   "outputs": [],
   "source": [
    "pd.value_counts(obj.values, sort=False)"
   ]
  },
  {
   "cell_type": "markdown",
   "metadata": {
    "id": "z1ru7qoX0Nmq"
   },
   "source": [
    "## 붓꽃 데이터셋 다루기"
   ]
  },
  {
   "cell_type": "markdown",
   "metadata": {
    "id": "PuQD7FBI0Nmq"
   },
   "source": [
    "아래 코드는 인터넷 데이터 저장소로부터 아이리스(붓꽃) 데이터(`iris.data`)를 \n",
    "2차원 넘파이 어레이로 불러온다."
   ]
  },
  {
   "cell_type": "code",
   "execution_count": null,
   "metadata": {
    "id": "LUVIDcz10Nmq"
   },
   "outputs": [],
   "source": [
    "# 아이리스(붓꽃) 데이터 불러오기\n",
    "url = 'https://archive.ics.uci.edu/ml/machine-learning-databases/iris/iris.data'\n",
    "iris = np.genfromtxt(url, delimiter=',', dtype='str')"
   ]
  },
  {
   "cell_type": "markdown",
   "metadata": {
    "id": "2KCBBeMr0Nmq"
   },
   "source": [
    "`iris.data` 파일에는 아래 형식의 데이터가 150개 들어 있다. \n",
    "\n",
    "```python\n",
    "5.1,3.5,1.4,0.2,Iris-setosa\n",
    "```\n",
    "\n",
    "하나의 데이터에 사용된 값들은 하나의 아이리스(붓꽃)에 대한 꽃잎, 꽃받침과 관련된 특성(features)과 품종을 나타내며,\n",
    "보다 구체적으로 아래 순서를 따른다.\n",
    "\n",
    "```\n",
    "꽃받침 길이, 꽃받침 너비, 꽃잎 길이, 꽃잎 너비, 품종\n",
    "```"
   ]
  },
  {
   "cell_type": "code",
   "execution_count": null,
   "metadata": {},
   "outputs": [],
   "source": [
    "type(iris)"
   ]
  },
  {
   "cell_type": "code",
   "execution_count": null,
   "metadata": {
    "colab": {
     "base_uri": "https://localhost:8080/"
    },
    "id": "1C3bQX6t0Nmq",
    "outputId": "13b265c0-76c2-4d2d-ef1e-b00e815cd1ba"
   },
   "outputs": [],
   "source": [
    "iris.shape"
   ]
  },
  {
   "cell_type": "markdown",
   "metadata": {
    "id": "XfZUO6-V0Nmr"
   },
   "source": [
    "길이와 너비를 저장하는 특성들은 숫자로 저장되어 있었지만 위 코드는 문자열로 저장된 품종 특성과의 자료형을 통일시키기 위해\n",
    "모두 문자열 자료형으로 불러왔다.\n",
    "처음 5개 데이터를 확인하면 다음과 같다.\n",
    "\n",
    "__참고:__ `'<U15'`는 길이가 최대 15인 유니코드 문자열 자료형을 나타낸다."
   ]
  },
  {
   "cell_type": "code",
   "execution_count": null,
   "metadata": {
    "colab": {
     "base_uri": "https://localhost:8080/"
    },
    "id": "6bFQRBdh0Nmr",
    "outputId": "1af0a523-ee73-4d78-9a9d-97e1b9c10d47"
   },
   "outputs": [],
   "source": [
    "iris[:5]"
   ]
  },
  {
   "cell_type": "markdown",
   "metadata": {
    "id": "FviHZkeR0Nmr"
   },
   "source": [
    "수치형 데이터와 품종 데이터를 분리해서 각각 (150,4), (150,) 모양의 어레이를 생성하자.\n",
    "이때 수치형 데이터는 `'f8'`, 즉 `'float64'` 자료형을 사용하도록 한다."
   ]
  },
  {
   "cell_type": "code",
   "execution_count": null,
   "metadata": {
    "id": "tZRCjmvh0Nmr"
   },
   "outputs": [],
   "source": [
    "iris_features = iris[:,:4].astype('f8')\n",
    "iris_labels = iris[:, 4]"
   ]
  },
  {
   "cell_type": "markdown",
   "metadata": {},
   "source": [
    "두 어레이를 판다스의 데이터프레임으로 형변환한다.\n",
    "이때 각 열의 이름을 사용된 데이터 특성을 반영하도록 지정한다."
   ]
  },
  {
   "cell_type": "code",
   "execution_count": null,
   "metadata": {
    "colab": {
     "base_uri": "https://localhost:8080/",
     "height": 203
    },
    "id": "SihJ0vNH0Nmr",
    "outputId": "92ab38e7-0360-4621-ed29-4759e7efe23b"
   },
   "outputs": [],
   "source": [
    "columns = ['꽃받침길이', '꽃받침너비', '꽃잎길이', '꽃잎너비']\n",
    "iris_features = pd.DataFrame(iris_features, columns=columns)\n",
    "iris_features[:5]"
   ]
  },
  {
   "cell_type": "markdown",
   "metadata": {},
   "source": [
    "레이블은 판다스의 시리즈로 변환한다."
   ]
  },
  {
   "cell_type": "code",
   "execution_count": null,
   "metadata": {
    "colab": {
     "base_uri": "https://localhost:8080/"
    },
    "id": "yLxZuvTGjf6q",
    "outputId": "a48b5e12-092b-4ac0-fada-cefb197215d7"
   },
   "outputs": [],
   "source": [
    "iris_labels = pd.Series(iris_labels)\n",
    "iris_labels"
   ]
  },
  {
   "cell_type": "markdown",
   "metadata": {
    "id": "GOjOv4pl0Nmr"
   },
   "source": [
    "150개의 데이터는 아래 세 개의 품종으로 구분되며, 각각 50개씩 아래 언급된 순서대로 구분되어 있다.\n",
    "\n",
    "```\n",
    "'Iris-setosa', 'Iris-versicolor', 'Iris-virginica'\n",
    "```\n",
    "\n",
    "즉, 0번, 50번, 100번부터 각 품종의 데이터가 시작된다.\n",
    "넘파이의 경우와는 달리 인덱스를 항상 함께 보여준다."
   ]
  },
  {
   "cell_type": "code",
   "execution_count": null,
   "metadata": {
    "colab": {
     "base_uri": "https://localhost:8080/"
    },
    "id": "XWABUAyy0Nms",
    "outputId": "fb5bf4ee-cfff-4bff-d10e-b8ef97d85cf3"
   },
   "outputs": [],
   "source": [
    "iris_labels[::50]"
   ]
  },
  {
   "cell_type": "code",
   "execution_count": null,
   "metadata": {
    "colab": {
     "base_uri": "https://localhost:8080/"
    },
    "id": "M6k6HyG60Nms",
    "outputId": "390b131d-3d62-4184-821f-cfdd601d2dd8"
   },
   "outputs": [],
   "source": [
    "iris_labels[:5]"
   ]
  },
  {
   "cell_type": "code",
   "execution_count": null,
   "metadata": {
    "colab": {
     "base_uri": "https://localhost:8080/"
    },
    "id": "fuGT0Asr0Nms",
    "outputId": "b3908d4d-5b03-40d6-c7d4-b0ec83356b6a"
   },
   "outputs": [],
   "source": [
    "iris_labels[50:55]"
   ]
  },
  {
   "cell_type": "code",
   "execution_count": null,
   "metadata": {
    "colab": {
     "base_uri": "https://localhost:8080/"
    },
    "id": "zIGKhJrN0Nms",
    "outputId": "89707692-fbaa-4cab-e061-4f5f951c48c2"
   },
   "outputs": [],
   "source": [
    "iris_labels[100:105]"
   ]
  },
  {
   "cell_type": "markdown",
   "metadata": {
    "id": "ul95hHae0Nms"
   },
   "source": [
    "__예제 1.__ 꽃잎 길이(2번 열)가 1.5보다 크거나 꽃받침 길이(0번 열)가 5.0보다 작은 데이터만 추출하라."
   ]
  },
  {
   "cell_type": "markdown",
   "metadata": {},
   "source": [
    "부울 인덱싱은 넘파이의 경우와 기본적으로 동일하다."
   ]
  },
  {
   "cell_type": "code",
   "execution_count": null,
   "metadata": {
    "colab": {
     "base_uri": "https://localhost:8080/"
    },
    "id": "T6ZZnEot0Nmt",
    "outputId": "3d06fa3e-98e2-46cb-cdf8-42ecc3f4c4f6"
   },
   "outputs": [],
   "source": [
    "mask = (iris_features.꽃잎길이>1.5) | (iris_features.꽃받침길이<5.0)\n",
    "mask"
   ]
  },
  {
   "cell_type": "markdown",
   "metadata": {},
   "source": [
    "조건을 만족하는 샘플의 수는 아래와 같다."
   ]
  },
  {
   "cell_type": "code",
   "execution_count": null,
   "metadata": {},
   "outputs": [],
   "source": [
    "mask.sum()"
   ]
  },
  {
   "cell_type": "markdown",
   "metadata": {},
   "source": [
    "조건을 만족하는 샘플들은 다음과 같다.\n",
    "예를 들어 0번 4번 인덱스의 붓꽃은 조건에 맞지 않아 부울 인덱싱에서 걸러진다.\n",
    "하지만 아래에서 볼 수 있듯이 다른 붓꽃의 인덱스가 조정되지는 않는다.\n",
    "즉, 인덱스는 한 번 정해지면 절대 변하지 않는다."
   ]
  },
  {
   "cell_type": "code",
   "execution_count": null,
   "metadata": {
    "colab": {
     "base_uri": "https://localhost:8080/"
    },
    "id": "eCtQCNrXkK1m",
    "outputId": "d27baae5-bc6d-40f4-875e-7709e0ced76e"
   },
   "outputs": [],
   "source": [
    "iris_features[mask]"
   ]
  },
  {
   "cell_type": "markdown",
   "metadata": {
    "id": "NEeBCuW90Nmt"
   },
   "source": [
    "__예제 2.__ 꽃받침 길이(0번 열)와 꽃잎 길이(2번 열) 사이의 피어슨 상관계수를 계산하라.\n",
    "\n",
    "힌트: 넘파이의 적절한 함수를 활용한다. 상관계수에 대한 설명은 [위키백과: 상관분석](https://ko.wikipedia.org/wiki/상관_분석)을 참고한다.\n",
    "상관계수를 구하는 여러 방식이 있지만 판다스의 `corr()` 함수는 피어슨 상관계수를 기본으로 계산한다.\n",
    "다른 방식의 상관계수를 구하려며 `method` 키워드 인자를 다르게 지정해야 한다. \n",
    "보다 자세한 사항은 [판다스: `corr()` 함수 문서](https://pandas.pydata.org/pandas-docs/stable/reference/api/pandas.DataFrame.corr.html)를 참조하라."
   ]
  },
  {
   "cell_type": "markdown",
   "metadata": {},
   "source": [
    "데이터프레임의 `corr()` 메서드는 모든 특성들 사이의 피어슨 상관계수로 이루어진 데이터프레임을 반환환다."
   ]
  },
  {
   "cell_type": "code",
   "execution_count": null,
   "metadata": {
    "colab": {
     "base_uri": "https://localhost:8080/",
     "height": 172
    },
    "id": "4scOJUVUl1Pa",
    "outputId": "b237169c-96a4-4cb2-99c8-dae2b76270cb"
   },
   "outputs": [],
   "source": [
    "iris_corr = iris_features.corr()\n",
    "iris_corr"
   ]
  },
  {
   "cell_type": "markdown",
   "metadata": {},
   "source": [
    "따라서 '꽃받침길이'와 다른 특성들 사이의 상관계수를 역순으로 정렬하면 다음과 같다.\n",
    "\n",
    "- 인덱싱: 데이터프레임의 인덱싱은 기본적으로 열(column) 단위로 이루어진다. \n",
    "    행(row) 단위 인덱싱은 `loc()` 또는 `iloc()` 메서드를 이용한다.\n",
    "- `sort_values()`: 열 단위로 오름차순으로 정렬함. 역순으로 하고자 할 경우 `ascending=False` 키워드 인자 사용."
   ]
  },
  {
   "cell_type": "code",
   "execution_count": null,
   "metadata": {
    "colab": {
     "base_uri": "https://localhost:8080/"
    },
    "id": "k5l78GM1mfz5",
    "outputId": "1204d1f5-8e14-4201-8844-be45d84ab5bc"
   },
   "outputs": [],
   "source": [
    "iris_corr['꽃받침길이'].sort_values(ascending=False)"
   ]
  },
  {
   "cell_type": "markdown",
   "metadata": {},
   "source": [
    "따라서 '꽃받침길이'와 '꽃잎길이' 사이의 상관계수가 가장 높으며 \n",
    "아래처럼 인덱싱을 두 번 사용하면 해당 값을 확인할 수 있다."
   ]
  },
  {
   "cell_type": "code",
   "execution_count": null,
   "metadata": {
    "colab": {
     "base_uri": "https://localhost:8080/"
    },
    "id": "Jy1yjGUDmwaH",
    "outputId": "77fa65d3-0c65-44c7-d077-c316c5940137"
   },
   "outputs": [],
   "source": [
    "iris_corr['꽃받침길이']['꽃잎길이']"
   ]
  },
  {
   "cell_type": "markdown",
   "metadata": {
    "id": "h6fWfGPP0Nmt"
   },
   "source": [
    "__예제 3.__ 아래 식으로 계산된 값을 갖는 새로운 열(column)이 추가된 데이터프레임 `iris_features_added`를 생성하라.\n",
    "열의 이름은 '길이속성1'으로 지정한다.\n",
    "\n",
    "$$\\frac{\\text{원주율} \\times \\text{꽃잎길이} \\times \\text{꽃받침길이}^2}{3} $$"
   ]
  },
  {
   "cell_type": "markdown",
   "metadata": {},
   "source": [
    "시리즈를 생성하면서 동시에 `name='길이특성1'` 이라는 키워드 인자를 사용하는 이유는\n",
    "이어서 `iris_features` 데이터프레임과 합칠 때 새로 추가되는 열의 이름으로 \n",
    "사용되도록 하기 위함이다."
   ]
  },
  {
   "cell_type": "code",
   "execution_count": null,
   "metadata": {
    "colab": {
     "base_uri": "https://localhost:8080/",
     "height": 203
    },
    "id": "M4cPMPr_0Nmt",
    "outputId": "6fe1f7fe-e693-44d0-87df-0134de6482ae"
   },
   "outputs": [],
   "source": [
    "# pass와 None을 각각 적절한 코드와 표현식으로 대체하라.\n",
    "\n",
    "scaled = (3.14 * iris_features['꽃잎길이'] * iris_features['꽃받침길이']**2) / 3\n",
    "length_property1 = pd.Series(scaled, name='길이특성1')"
   ]
  },
  {
   "cell_type": "code",
   "execution_count": null,
   "metadata": {},
   "outputs": [],
   "source": [
    "length_property1"
   ]
  },
  {
   "cell_type": "code",
   "execution_count": null,
   "metadata": {
    "colab": {
     "base_uri": "https://localhost:8080/",
     "height": 203
    },
    "id": "M4cPMPr_0Nmt",
    "outputId": "6fe1f7fe-e693-44d0-87df-0134de6482ae"
   },
   "outputs": [],
   "source": [
    "iris_features_added = pd.concat([iris_features, length_property1], axis=1)\n",
    "\n",
    "assert iris_features_added.shape == (150, 5)\n",
    "iris_features_added"
   ]
  },
  {
   "cell_type": "markdown",
   "metadata": {
    "id": "sPb0bX1F0Nmt"
   },
   "source": [
    "__예제 4.__ `Iris_versicolor` 품종에 해당하는 데이터만 `iris_features`로부터 추출하라. "
   ]
  },
  {
   "cell_type": "markdown",
   "metadata": {},
   "source": [
    "부울 인덱싱을 사용한다."
   ]
  },
  {
   "cell_type": "code",
   "execution_count": null,
   "metadata": {
    "colab": {
     "base_uri": "https://localhost:8080/"
    },
    "id": "Fvq7ZIuV0Nmt",
    "outputId": "7ef7353b-0ae5-4c5e-ac32-13fce5dc6bab"
   },
   "outputs": [],
   "source": [
    "# None을 적절한 부울 표현식으로 대체하라.\n",
    "\n",
    "mask = iris_labels == 'Iris-versicolor'\n",
    "mask"
   ]
  },
  {
   "cell_type": "markdown",
   "metadata": {},
   "source": [
    "정확히 50개의 샘플에 대해서만 `True`이다."
   ]
  },
  {
   "cell_type": "code",
   "execution_count": null,
   "metadata": {},
   "outputs": [],
   "source": [
    "mask.sum()"
   ]
  },
  {
   "cell_type": "markdown",
   "metadata": {},
   "source": [
    "보다 정확히는 50번부터 99번까지 붓꽃만 선택된다."
   ]
  },
  {
   "cell_type": "code",
   "execution_count": null,
   "metadata": {
    "id": "cdOOPTOqoBqk"
   },
   "outputs": [],
   "source": [
    "iris_versicolor = iris_features[mask]\n",
    "iris_versicolor.head()"
   ]
  },
  {
   "cell_type": "code",
   "execution_count": null,
   "metadata": {
    "colab": {
     "base_uri": "https://localhost:8080/",
     "height": 203
    },
    "id": "bMUROt0NoXN_",
    "outputId": "9a31d8b6-ba4d-4501-a64c-f683c9f98820"
   },
   "outputs": [],
   "source": [
    "iris_versicolor.tail()"
   ]
  },
  {
   "cell_type": "markdown",
   "metadata": {
    "id": "kTpmu5nd0Nmu"
   },
   "source": [
    "__예제 5.__ 꽃받침 길이(0번 열)의 평균값(mean), 중앙값(median), 표준편차(standard deviation)를 구하라.\n",
    "\n",
    "__참고:__ 데이터프레임의 메서드는 기본적으로 열(columns)에 대한 속성을 다룬다.\n",
    "즉, `axis=0`을 기본 축으로 사용한다."
   ]
  },
  {
   "cell_type": "code",
   "execution_count": null,
   "metadata": {
    "colab": {
     "base_uri": "https://localhost:8080/"
    },
    "id": "22bMyia_otWO",
    "outputId": "8a16ca41-00cf-4ad1-97e6-563e78accb55"
   },
   "outputs": [],
   "source": [
    "iris_mean = iris_features.mean()\n",
    "iris_mean"
   ]
  },
  {
   "cell_type": "code",
   "execution_count": null,
   "metadata": {
    "colab": {
     "base_uri": "https://localhost:8080/"
    },
    "id": "22bMyia_otWO",
    "outputId": "8a16ca41-00cf-4ad1-97e6-563e78accb55"
   },
   "outputs": [],
   "source": [
    "iris_mean = iris_features.mean(axis=0)\n",
    "iris_mean"
   ]
  },
  {
   "cell_type": "code",
   "execution_count": null,
   "metadata": {
    "colab": {
     "base_uri": "https://localhost:8080/"
    },
    "id": "tVHd_2stpcWR",
    "outputId": "593826fc-fdec-473c-b93c-bf1327892d21"
   },
   "outputs": [],
   "source": [
    "iris_median = iris_features.median()\n",
    "iris_median"
   ]
  },
  {
   "cell_type": "code",
   "execution_count": null,
   "metadata": {
    "colab": {
     "base_uri": "https://localhost:8080/"
    },
    "id": "QUyLgg2fpjfG",
    "outputId": "2010b117-3082-474f-91f6-c507e0c9d66e"
   },
   "outputs": [],
   "source": [
    "iris_std = iris_features.std()\n",
    "iris_std"
   ]
  },
  {
   "cell_type": "markdown",
   "metadata": {},
   "source": [
    "따라서 `for` 반복문을 이용하여 간단하게 세 개의 평균을 확인할 수 있다.\n",
    "\n",
    "__참고:__ 특정 객체의 메소드로 이루어진 리스트에 포함된 메소드에 대한 반복문을 활용할 수 있다.\n",
    "아래 코드는 통계와 관련해서 데이터프레임 객체가 제공하는 세 개의 메서드에 \n",
    "대한 반복문을 적용하는 방식을 보여준다."
   ]
  },
  {
   "cell_type": "code",
   "execution_count": null,
   "metadata": {},
   "outputs": [],
   "source": [
    "average_methods = [pd.DataFrame.mean, pd.DataFrame.median, pd.DataFrame.std]\n",
    "\n",
    "for fun in average_methods:\n",
    "    print(fun(iris_features)['꽃받침길이'], end=' ')"
   ]
  },
  {
   "cell_type": "markdown",
   "metadata": {
    "id": "rxi1lkS20Nmu"
   },
   "source": [
    "__예제 6.__ 세 개의 품종 별 꽃받침 너비(1번 열)의 평균값을 계산하여 아래 모양의  \n",
    "데이터프레임과 시리즈(Series) `iris_mean_sepal_length`를 생성하라.\n",
    "\n",
    "|                 | 평균 꽃받침 너비 |\n",
    "| ---:            | ---:             |\n",
    "| Iris-setosa     | 3.418            |\n",
    "| Iris-versicolor | 2.770            |\n",
    "| Iris-virginica  | 2.974            |\n"
   ]
  },
  {
   "cell_type": "markdown",
   "metadata": {},
   "source": [
    "데이터프레임을 만들려면 `index`와 `columns` 키워드를 인자를 적절하게 지정해야 한다."
   ]
  },
  {
   "cell_type": "code",
   "execution_count": null,
   "metadata": {
    "colab": {
     "base_uri": "https://localhost:8080/"
    },
    "id": "3wPKs76A0Nmu",
    "outputId": "8e48a3c1-b61f-442a-9a8d-b890917dfeec"
   },
   "outputs": [],
   "source": [
    "kinds = list(set(iris_labels))\n",
    "kinds.sort()                      # 이름 순서를 맞추기 위해\n",
    "\n",
    "iris_mean_sepal_width = []\n",
    "\n",
    "for kind in kinds:\n",
    "    mask = iris_labels == kind\n",
    "    mean_0 = iris_features[mask].mean()['꽃받침너비']\n",
    "    iris_mean_sepal_width.append(mean_0)\n",
    "    \n",
    "pd.DataFrame(iris_mean_sepal_width, index=kinds, columns=['평균 꽃받침 너비'])"
   ]
  },
  {
   "cell_type": "markdown",
   "metadata": {},
   "source": [
    "시리즈를 만들려면 `index`와 `name` 키워드를 인자를 적절하게 지정해야 한다."
   ]
  },
  {
   "cell_type": "code",
   "execution_count": null,
   "metadata": {
    "colab": {
     "base_uri": "https://localhost:8080/"
    },
    "id": "3wPKs76A0Nmu",
    "outputId": "8e48a3c1-b61f-442a-9a8d-b890917dfeec"
   },
   "outputs": [],
   "source": [
    "kinds = list(set(iris_labels))\n",
    "kinds.sort()                      # 이름 순서를 맞추기 위해\n",
    "\n",
    "iris_mean_sepal_width = []\n",
    "\n",
    "for kind in kinds:\n",
    "    mask = iris_labels == kind\n",
    "    mean_0 = iris_features[mask].mean()['꽃받침너비']\n",
    "    iris_mean_sepal_width.append(mean_0)\n",
    "    \n",
    "pd.Series(iris_mean_sepal_width, index=kinds, name='평균 꽃받침 너비')"
   ]
  },
  {
   "cell_type": "markdown",
   "metadata": {
    "id": "gGi6px0z0Nmu"
   },
   "source": [
    "__예제 7.__ 꽃잎 너비(3번 열)에 사용된 값을 모두 0과 1사이의 값으로 변환하라. \n",
    "\n",
    "힌트: 하나의 특성, 여기서는 꽃잎 너비,에 속하는 값을 모두 0과 1사이의 값으로 변환하는 작업을 정규화(normalization)이라 한다.\n",
    "정규화에 대한 설명은 [정규화/표준화](https://rucrazia.tistory.com/90)을 참고하라."
   ]
  },
  {
   "cell_type": "code",
   "execution_count": null,
   "metadata": {
    "colab": {
     "base_uri": "https://localhost:8080/",
     "height": 203
    },
    "id": "DzkJWTlhv-k-",
    "outputId": "6e2ec618-b7f4-40ab-faa0-58755b7d70ac"
   },
   "outputs": [],
   "source": [
    "iris_features[:5]"
   ]
  },
  {
   "cell_type": "markdown",
   "metadata": {},
   "source": [
    "넘파이의 경우와 동일하게 작동한다.\n",
    "하지만 데이터프레임의 메서드는 기본적으로 축을 0으로 지정해서 열 단위로 작동하기에\n",
    "조금 더 간단하게 구현할 수 있다."
   ]
  },
  {
   "cell_type": "code",
   "execution_count": null,
   "metadata": {
    "colab": {
     "base_uri": "https://localhost:8080/"
    },
    "id": "-klhdFmvxJZb",
    "outputId": "e343c0f6-aa70-4335-e05f-885b5e251b97"
   },
   "outputs": [],
   "source": [
    "iris_features.min()"
   ]
  },
  {
   "cell_type": "code",
   "execution_count": null,
   "metadata": {
    "colab": {
     "base_uri": "https://localhost:8080/"
    },
    "id": "-klhdFmvxJZb",
    "outputId": "e343c0f6-aa70-4335-e05f-885b5e251b97"
   },
   "outputs": [],
   "source": [
    "iris_features.min(axis=0)"
   ]
  },
  {
   "cell_type": "code",
   "execution_count": null,
   "metadata": {
    "colab": {
     "base_uri": "https://localhost:8080/",
     "height": 417
    },
    "id": "xv7fcbb60Nmu",
    "outputId": "1bcfe0a6-1d39-47c1-9821-560a0c057e93"
   },
   "outputs": [],
   "source": [
    "iris_features_normalized = (iris_features - iris_features.min())/(iris_features.max() - iris_features.min())\n",
    "\n",
    "iris_features_normalized"
   ]
  },
  {
   "cell_type": "markdown",
   "metadata": {},
   "source": [
    "이제 꽃잎 너비에 대한 정보만 인덱싱으로 추출하면 된다."
   ]
  },
  {
   "cell_type": "code",
   "execution_count": null,
   "metadata": {},
   "outputs": [],
   "source": [
    "iris_features_normalized.꽃잎너비"
   ]
  },
  {
   "cell_type": "markdown",
   "metadata": {
    "id": "7JsHgv360Nmv"
   },
   "source": [
    "__예제 8.__ `iris_features`에 사용된 모든 값을 특성 별로 표준화(standardization)하라. \n",
    "\n",
    "힌트: 표준화에 대한 설명은 [정규화/표준화](https://rucrazia.tistory.com/90)을 참고하라."
   ]
  },
  {
   "cell_type": "markdown",
   "metadata": {},
   "source": [
    "`mean()`, `std()` 메서드도 기본적으로 축을 0으로 지정해서 작동한다."
   ]
  },
  {
   "cell_type": "code",
   "execution_count": null,
   "metadata": {
    "colab": {
     "base_uri": "https://localhost:8080/"
    },
    "id": "vzy5xziSyfCF",
    "outputId": "28c349cf-6967-4b94-a10b-c37bd370fb8e"
   },
   "outputs": [],
   "source": [
    "iris_features.mean()"
   ]
  },
  {
   "cell_type": "code",
   "execution_count": null,
   "metadata": {
    "colab": {
     "base_uri": "https://localhost:8080/"
    },
    "id": "vzy5xziSyfCF",
    "outputId": "28c349cf-6967-4b94-a10b-c37bd370fb8e"
   },
   "outputs": [],
   "source": [
    "iris_features.std()"
   ]
  },
  {
   "cell_type": "code",
   "execution_count": null,
   "metadata": {
    "colab": {
     "base_uri": "https://localhost:8080/",
     "height": 203
    },
    "id": "q0lFBkNW0Nmv",
    "outputId": "7e103fbf-edaa-4276-f463-dec4f86a7a0a"
   },
   "outputs": [],
   "source": [
    "# None을 적절한 부울 표현식으로 대체하라.\n",
    "\n",
    "iris_features_standardized = (iris_features - iris_features.mean()) / iris_features.std()\n",
    "\n",
    "iris_features_standardized[:5]"
   ]
  },
  {
   "cell_type": "markdown",
   "metadata": {},
   "source": [
    "## 연습문제 "
   ]
  },
  {
   "cell_type": "markdown",
   "metadata": {},
   "source": [
    "참고: [(실습) 판다스 활용: 통계 기초](https://colab.research.google.com/github/codingalzi/datapy/blob/master/practices/practice-pandas_stats.ipynb)"
   ]
  }
 ],
 "metadata": {
  "kernelspec": {
   "display_name": "Python 3 (ipykernel)",
   "language": "python",
   "name": "python3"
  },
  "language_info": {
   "codemirror_mode": {
    "name": "ipython",
    "version": 3
   },
   "file_extension": ".py",
   "mimetype": "text/x-python",
   "name": "python",
   "nbconvert_exporter": "python",
   "pygments_lexer": "ipython3",
   "version": "3.9.7"
  }
 },
 "nbformat": 4,
 "nbformat_minor": 1
}

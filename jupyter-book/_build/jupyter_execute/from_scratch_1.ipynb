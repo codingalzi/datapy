{
 "cells": [
  {
   "attachments": {},
   "cell_type": "markdown",
   "metadata": {},
   "source": [
    "(sec:from_scratch_1)=\n",
    "# 선형대수 기초"
   ]
  },
  {
   "cell_type": "markdown",
   "metadata": {},
   "source": [
    "**참고** \n",
    "\n",
    "여기서 사용하는 코드는 조엘 그루스(Joel Grus)의 \n",
    "[밑다닥부터 시작하는 데이터 과학](https://github.com/joelgrus/data-science-from-scratch) \n",
    "4장에 사용된 소스코드의 일부를 기반으로 작성되었다."
   ]
  },
  {
   "attachments": {},
   "cell_type": "markdown",
   "metadata": {},
   "source": [
    "**주요 내용**\n",
    "\n",
    "선형대수의 주요 개념인 벡터와 행렬을 각각 1차원과 2차원 리스트로 구현하여 실용적으로 사용하는 과정을 살펴본다.\n",
    "특히 벡터와 행렬의 연산 등을 모두 리스트를 이용하여 구현한다. \n",
    "이를 위해 {ref}`sec:list-comprehension`을 많이 활용한다.\n",
    "앞으로 {ref}`sec:numpy_1`에서 배울 `numpy.array` 자료형이 제공하는 다양한 기능에 대한 보다 깊은 이해에\n",
    "도움될 것으로 기대한다. "
   ]
  },
  {
   "cell_type": "markdown",
   "metadata": {},
   "source": [
    "## 벡터"
   ]
  },
  {
   "attachments": {},
   "cell_type": "markdown",
   "metadata": {},
   "source": [
    "벡터는 유한 개의 값으로 구성된다.\n",
    "보통 수를 항목으로 사용하며, 항목의 수를 벡터의 **차원**<font size='2'>dimension</font>이라 부른다.\n",
    "벡터는 수학, 통계, 물리 등 과학 분야에서 많이 사용되며, \n",
    "최근에 컴퓨터 데이터 분석이 발전하면서 벡터의 활용도 매우 높아졌다.\n",
    "\n",
    "* 2차원 평면 공간에서 방향과 크기를 표현하는 2차원 벡터: \n",
    "\n",
    "        [x, y]\n",
    "\n",
    "* 사람들의 키, 몸무게, 나이로 이루어진 3차원 벡터: \n",
    "\n",
    "        [키, 몸무게, 나이]\n",
    "\n",
    "* 네 번의 시험 점수로 이루어진 4차원 벡터: \n",
    "\n",
    "        [1차점수, 2차점수, 3차점수, 4차점수]"
   ]
  },
  {
   "attachments": {},
   "cell_type": "markdown",
   "metadata": {},
   "source": [
    "### 리스트와 벡터"
   ]
  },
  {
   "cell_type": "markdown",
   "metadata": {},
   "source": [
    "리스트를 이용하여 벡터를 구현할 수 있다."
   ]
  },
  {
   "attachments": {},
   "cell_type": "markdown",
   "metadata": {},
   "source": [
    "- x축, y축 좌표로 구성된 2차원 벡터"
   ]
  },
  {
   "cell_type": "code",
   "execution_count": 1,
   "metadata": {},
   "outputs": [],
   "source": [
    "# [x좌표, y좌표]\n",
    "\n",
    "twoDVector1 = [3, 1]\n",
    "twoDVector2 = [-2, 5]"
   ]
  },
  {
   "attachments": {},
   "cell_type": "markdown",
   "metadata": {},
   "source": [
    "- 키, 몸무게, 나이로 구성된 3차원 벡터"
   ]
  },
  {
   "cell_type": "code",
   "execution_count": 2,
   "metadata": {},
   "outputs": [],
   "source": [
    "# [키, 몸무게, 나이]\n",
    "\n",
    "height_weight_age1 = [70, 170, 50]\n",
    "height_weight_age2 = [66, 163, 50]"
   ]
  },
  {
   "attachments": {},
   "cell_type": "markdown",
   "metadata": {},
   "source": [
    "- 1차부터 4차까지의 시험 점수로 구성된 4차원 벡터"
   ]
  },
  {
   "cell_type": "code",
   "execution_count": 3,
   "metadata": {},
   "outputs": [],
   "source": [
    "# [1차점수, 2차점수, 3차점수, 4차점수]\n",
    "\n",
    "grades1 = [95, 80, 75, 62]\n",
    "grades2 = [85, 82, 79, 82]"
   ]
  },
  {
   "attachments": {},
   "cell_type": "markdown",
   "metadata": {},
   "source": [
    "### 벡터 항목별 연산"
   ]
  },
  {
   "attachments": {},
   "cell_type": "markdown",
   "metadata": {},
   "source": [
    "**벡터 항목별 덧셈**"
   ]
  },
  {
   "attachments": {},
   "cell_type": "markdown",
   "metadata": {},
   "source": [
    "두 벡터의 항목별 덧셈은 같은 위치에 있는 항목끼기 더한 결과로 이루어진 벡터를 생성한다.\n",
    "\n",
    "$$\n",
    "[u_1, \\cdots, u_n] + [v_1, \\cdots, v_n] = [u_1 + v_1, \\cdots, u_n + v_n]\n",
    "$$\n",
    "\n",
    "차원이 같은 두 벡터의 항목별 덧셈을 실행하는 함수는 다음과 같다."
   ]
  },
  {
   "cell_type": "code",
   "execution_count": 4,
   "metadata": {},
   "outputs": [],
   "source": [
    "def addV(u, v):\n",
    "    assert len(u) == len(v)   # 두 벡터의 길이가 같은 경우만 취급\n",
    "\n",
    "    return [u_i + v_i for u_i, v_i in zip(v, v)]"
   ]
  },
  {
   "cell_type": "code",
   "execution_count": 5,
   "metadata": {},
   "outputs": [
    {
     "data": {
      "text/plain": [
       "[-4, 10]"
      ]
     },
     "execution_count": 5,
     "metadata": {},
     "output_type": "execute_result"
    }
   ],
   "source": [
    "addV(twoDVector1, twoDVector2)"
   ]
  },
  {
   "cell_type": "code",
   "execution_count": 6,
   "metadata": {},
   "outputs": [
    {
     "data": {
      "text/plain": [
       "[132, 326, 100]"
      ]
     },
     "execution_count": 6,
     "metadata": {},
     "output_type": "execute_result"
    }
   ],
   "source": [
    "addV(height_weight_age1, height_weight_age2)"
   ]
  },
  {
   "cell_type": "code",
   "execution_count": 7,
   "metadata": {},
   "outputs": [
    {
     "data": {
      "text/plain": [
       "[170, 164, 158, 164]"
      ]
     },
     "execution_count": 7,
     "metadata": {},
     "output_type": "execute_result"
    }
   ],
   "source": [
    "addV(grades1, grades2)"
   ]
  },
  {
   "attachments": {},
   "cell_type": "markdown",
   "metadata": {},
   "source": [
    "**벡터 리스트의 합**"
   ]
  },
  {
   "attachments": {},
   "cell_type": "markdown",
   "metadata": {},
   "source": [
    "동일한 차원의 임의의 개수의 벡터를 항목별로 더하는 함수를 다음과 같이 정의할 수 있다.\n",
    "함수의 본문에 사용된 `all()` 함수는 리스트, 튜플 등에 포함된 모든 항목이 참인 경우에만\n",
    "참을 반환한다."
   ]
  },
  {
   "cell_type": "code",
   "execution_count": 8,
   "metadata": {},
   "outputs": [],
   "source": [
    "def vector_sum(vectors):\n",
    "    \"\"\"\n",
    "    vectors: 동일한 차원의 벡터들의 리스트\n",
    "    반환값: 각 항목의 합으로 이루어진 동일한 차원의 벡터\n",
    "    \"\"\"\n",
    "    \n",
    "    # 입력값 확인\n",
    "    assert len(vectors) > 0          # 1개 이상의 벡터가 주어져야 함\n",
    "    num_elements = len(vectors[0])   # 벡터 개수\n",
    "    assert all(len(v) == num_elements for v in vectors)   # 모든 벡터의 크기가 같아야 함\n",
    "\n",
    "    # 동일한 위치의 항목을 모두 더한 값들로 이루어진 벡터 반환\n",
    "    return [sum(vector[i] for vector in vectors) for i in range(num_elements)]"
   ]
  },
  {
   "attachments": {},
   "cell_type": "markdown",
   "metadata": {},
   "source": [
    "예를 들어, 2차원 벡터 네 개를 더한 결과는 다음과 같다."
   ]
  },
  {
   "cell_type": "code",
   "execution_count": 9,
   "metadata": {},
   "outputs": [
    {
     "data": {
      "text/plain": [
       "[16, 20]"
      ]
     },
     "execution_count": 9,
     "metadata": {},
     "output_type": "execute_result"
    }
   ],
   "source": [
    "vector_sum([[1, 2], [3, 4], [5, 6], [7, 8]])"
   ]
  },
  {
   "attachments": {},
   "cell_type": "markdown",
   "metadata": {},
   "source": [
    "**벡터 항목별 뺄셈**"
   ]
  },
  {
   "attachments": {},
   "cell_type": "markdown",
   "metadata": {},
   "source": [
    "차원이 같은 벡터 두 개의 항목별 뺄셈은 같은 위치에 있는 항목끼기 뺀 결과로 이루어진 벡터를 생성한다.\n",
    "\n",
    "$$\n",
    "[u_1, \\cdots, u_n] - [v_1, \\cdots, v_n] = [u_1 - v_1, \\cdots, u_n - v_n]\n",
    "$$\n",
    "\n",
    "차원이 같은 두 벡터의 항목별 뺄셈을 실행하는 함수는 다음과 같다."
   ]
  },
  {
   "cell_type": "code",
   "execution_count": 10,
   "metadata": {},
   "outputs": [],
   "source": [
    "def subtractV(v, w):\n",
    "    assert len(v) == len(w)   # 두 벡터의 길이가 같은 경우만 취급\n",
    "\n",
    "    return [v_i - w_i for v_i, w_i in zip(v, w)]"
   ]
  },
  {
   "cell_type": "code",
   "execution_count": 11,
   "metadata": {},
   "outputs": [
    {
     "data": {
      "text/plain": [
       "[5, -4]"
      ]
     },
     "execution_count": 11,
     "metadata": {},
     "output_type": "execute_result"
    }
   ],
   "source": [
    "subtractV(twoDVector1, twoDVector2)"
   ]
  },
  {
   "cell_type": "code",
   "execution_count": 12,
   "metadata": {},
   "outputs": [
    {
     "data": {
      "text/plain": [
       "[4, 7, 0]"
      ]
     },
     "execution_count": 12,
     "metadata": {},
     "output_type": "execute_result"
    }
   ],
   "source": [
    "subtractV(height_weight_age1, height_weight_age2)"
   ]
  },
  {
   "attachments": {},
   "cell_type": "markdown",
   "metadata": {},
   "source": [
    "**벡터 항목별 곱셈**"
   ]
  },
  {
   "attachments": {},
   "cell_type": "markdown",
   "metadata": {},
   "source": [
    "차원이 같은 벡터 두 개의 항목별 곱셈은 같은 위치에 있는 항목끼기 곱한 결과로 이루어진 벡터를 생성한다.\n",
    "\n",
    "$$\n",
    "[u_1, \\cdots, u_n] \\ast [v_1, \\cdots, v_n] = [u_1 \\ast v_1, \\cdots, u_n \\ast v_n]\n",
    "$$\n",
    "\n",
    "차원이 같은 두 벡터의 항목별 곱셈을 실행하는 함수는 다음과 같다."
   ]
  },
  {
   "cell_type": "code",
   "execution_count": 13,
   "metadata": {},
   "outputs": [],
   "source": [
    "def multV(v, w):\n",
    "    assert len(v) == len(w)   # 두 벡터의 길이가 같은 경우만 취급\n",
    "\n",
    "    return [v_i * w_i for v_i, w_i in zip(v, w)]"
   ]
  },
  {
   "cell_type": "code",
   "execution_count": 14,
   "metadata": {},
   "outputs": [
    {
     "data": {
      "text/plain": [
       "[-6, 5]"
      ]
     },
     "execution_count": 14,
     "metadata": {},
     "output_type": "execute_result"
    }
   ],
   "source": [
    "multV(twoDVector1, twoDVector2)"
   ]
  },
  {
   "cell_type": "code",
   "execution_count": 15,
   "metadata": {},
   "outputs": [
    {
     "data": {
      "text/plain": [
       "[8075, 6560, 5925, 5084]"
      ]
     },
     "execution_count": 15,
     "metadata": {},
     "output_type": "execute_result"
    }
   ],
   "source": [
    "multV(grades1, grades2)"
   ]
  },
  {
   "attachments": {},
   "cell_type": "markdown",
   "metadata": {},
   "source": [
    "**벡터 항목별 나눗셈**"
   ]
  },
  {
   "attachments": {},
   "cell_type": "markdown",
   "metadata": {},
   "source": [
    "차원이 같은 벡터 두 개의 항목별 나눗셈은 같은 위치에 있는 항목끼기 나눈 결과로 이루어진 벡터를 생성한다.\n",
    "\n",
    "$$\n",
    "[u_1, \\cdots, u_n] / [v_1, \\cdots, v_n] = [u_1 / v_1, \\cdots, u_n / v_n]\n",
    "$$\n",
    "\n",
    "차원이 같은 두 벡터의 항목별 나눗셈을 실행하는 함수는 다음과 같다."
   ]
  },
  {
   "cell_type": "code",
   "execution_count": 16,
   "metadata": {},
   "outputs": [],
   "source": [
    "def divV(v, w):\n",
    "    assert len(v) == len(w)   # 두 벡터의 길이가 같은 경우만 취급\n",
    "\n",
    "    return [v_i / w_i for v_i, w_i in zip(v, w)]"
   ]
  },
  {
   "cell_type": "code",
   "execution_count": 17,
   "metadata": {},
   "outputs": [
    {
     "data": {
      "text/plain": [
       "[-1.5, 0.2]"
      ]
     },
     "execution_count": 17,
     "metadata": {},
     "output_type": "execute_result"
    }
   ],
   "source": [
    "divV(twoDVector1, twoDVector2)"
   ]
  },
  {
   "cell_type": "code",
   "execution_count": 18,
   "metadata": {},
   "outputs": [
    {
     "data": {
      "text/plain": [
       "[1.1176470588235294, 0.975609756097561, 0.9493670886075949, 0.7560975609756098]"
      ]
     },
     "execution_count": 18,
     "metadata": {},
     "output_type": "execute_result"
    }
   ],
   "source": [
    "divV(grades1, grades2)"
   ]
  },
  {
   "attachments": {},
   "cell_type": "markdown",
   "metadata": {},
   "source": [
    "**벡터 스칼라 곱셈**"
   ]
  },
  {
   "attachments": {},
   "cell_type": "markdown",
   "metadata": {},
   "source": [
    "하나의 수와 하나의 벡터의 곱셈을 스칼라 곱셈이라 부른다. \n",
    "스칼라 곱셈은 벡터의 각 항목을 지정된 수로 곱한다.\n",
    "\n",
    "$$\n",
    "c \\ast [u_1, \\cdots, u_n] = [c\\ast u_1, \\cdots, c\\ast u_n]\n",
    "$$"
   ]
  },
  {
   "attachments": {},
   "cell_type": "markdown",
   "metadata": {},
   "source": [
    "벡터의 각 항목에 동일한 부동소수점을 곱한 결과를 반화하는 함수는 다음과 같다."
   ]
  },
  {
   "cell_type": "code",
   "execution_count": 19,
   "metadata": {},
   "outputs": [],
   "source": [
    "def scalar_multV(c, v):\n",
    "    return [c * v_i for v_i in v]"
   ]
  },
  {
   "cell_type": "code",
   "execution_count": 20,
   "metadata": {},
   "outputs": [
    {
     "data": {
      "text/plain": [
       "[2, 4, 6]"
      ]
     },
     "execution_count": 20,
     "metadata": {},
     "output_type": "execute_result"
    }
   ],
   "source": [
    "scalar_multV(2, [1, 2, 3])"
   ]
  },
  {
   "attachments": {},
   "cell_type": "markdown",
   "metadata": {},
   "source": [
    "**항목별 평균 벡터**"
   ]
  },
  {
   "attachments": {},
   "cell_type": "markdown",
   "metadata": {},
   "source": [
    "여러 개의 동일 차원 벡터가 주어졌을 때 항목별 평균을 구할 수 있다.\n",
    "항목별 평균은 항목끼리 모두 더한 후 벡터의 개수로 나눈다."
   ]
  },
  {
   "attachments": {},
   "cell_type": "markdown",
   "metadata": {},
   "source": [
    ":::{prf:example}\n",
    ":label: exp-twdDVectorsMean\n",
    "\n",
    "3개의 2차원 벡터들의 평균은 아래와 같이 작동한다.\n",
    "\n",
    "$$\n",
    "\\frac 1 3 \\ast (\\, [1, 2] + [2, 1] + [2, 3]\\, ) \n",
    "=  \\frac 1 3 \\ast [1+2+2, 2+1+3]\n",
    "= [5/3, 2]\n",
    "$$\n",
    ":::"
   ]
  },
  {
   "attachments": {},
   "cell_type": "markdown",
   "metadata": {},
   "source": [
    "항목별 평균으로 이루어진 벡터를 반환하는 함수는 다음과 같이\n",
    "벡터들의 합을 벡터의 개수로 나눈다."
   ]
  },
  {
   "cell_type": "code",
   "execution_count": 21,
   "metadata": {},
   "outputs": [],
   "source": [
    "def vector_mean(vectors):\n",
    "    n = len(vectors)\n",
    "    \n",
    "    return scalar_multV(1/n, vector_sum(vectors))"
   ]
  },
  {
   "cell_type": "code",
   "execution_count": 22,
   "metadata": {},
   "outputs": [
    {
     "data": {
      "text/plain": [
       "[4.5, 3.75]"
      ]
     },
     "execution_count": 22,
     "metadata": {},
     "output_type": "execute_result"
    }
   ],
   "source": [
    "vector_mean([[3, 2], [2, 5], [7, 5], [6, 3]])"
   ]
  },
  {
   "attachments": {},
   "cell_type": "markdown",
   "metadata": {},
   "source": [
    "### 벡터 내적과 크기"
   ]
  },
  {
   "attachments": {},
   "cell_type": "markdown",
   "metadata": {},
   "source": [
    "차원이 같은 벡터 두 개의 내적은 같은 위치에 있는 항목끼기 곱한 후 모두 더한 값이다.\n",
    "벡터의 내적은 점곱<font size='2'>dot product</font>를 사용하며 벡터들의 곱과 구별된다.\n",
    "\n",
    "$$\n",
    "[u_1, \\cdots, u_n] \\cdot [v_1, \\cdots, v_n]\n",
    "= \\sum_{i=1}^n u_i\\ast v_i \n",
    "= u_1\\ast v_1 + \\cdots + u_n\\ast v_n\n",
    "$$"
   ]
  },
  {
   "cell_type": "markdown",
   "metadata": {},
   "source": [
    "**벡터 내적 함수**\n",
    "\n",
    "동일 차원의 두 벡터의 내적을 반환하는 함수는 다음과 같다."
   ]
  },
  {
   "cell_type": "code",
   "execution_count": 23,
   "metadata": {},
   "outputs": [],
   "source": [
    "def dot(v, w):\n",
    "    assert len(v) == len(w), \"벡터들의 길이가 동일해야 함\"\"\"\n",
    "\n",
    "    return sum(v_i * w_i for v_i, w_i in zip(v, w))"
   ]
  },
  {
   "cell_type": "code",
   "execution_count": 24,
   "metadata": {},
   "outputs": [
    {
     "data": {
      "text/plain": [
       "32"
      ]
     },
     "execution_count": 24,
     "metadata": {},
     "output_type": "execute_result"
    }
   ],
   "source": [
    "dot([1, 2, 3], [4, 5, 6])"
   ]
  },
  {
   "attachments": {},
   "cell_type": "markdown",
   "metadata": {},
   "source": [
    "**벡터의 크기**"
   ]
  },
  {
   "attachments": {},
   "cell_type": "markdown",
   "metadata": {},
   "source": [
    "벡터 $v = [v_1, \\cdots, v_n]$가 주어졌을 때 \n",
    "벡터 $v$의 크기 $\\| v\\|$는 $v$ 자신과의 내적의 제곱근이다.\n",
    "\n",
    "$$\\| v\\| = \\sqrt{v \\cdot v} = \\sqrt{v_1^2 + \\cdots + v_n^2}$$"
   ]
  },
  {
   "attachments": {},
   "cell_type": "markdown",
   "metadata": {},
   "source": [
    ":::{prf:example}\n",
    ":label: exp-size\n",
    "\n",
    "벡터 $[3, 4]$의 크기는 다음과 같다.\n",
    "\n",
    "$$\\|\\, [3, 4] \\, \\|  = \\sqrt{3^2 + 4^2} = \\sqrt{5^2} = 5$$\n",
    ":::"
   ]
  },
  {
   "attachments": {},
   "cell_type": "markdown",
   "metadata": {},
   "source": [
    "**벡터의 크기 계산 함수**\n",
    "\n",
    "제곱근은 `math` 모듈의 `sqrt()` 함수를 이용한다.\n",
    "참고로 벡터의 크기는 영어로 magnitude로 표기한다."
   ]
  },
  {
   "cell_type": "code",
   "execution_count": 25,
   "metadata": {},
   "outputs": [],
   "source": [
    "import math\n",
    "\n",
    "def magnitude(v):\n",
    "    sum_of_squares = dot(v, v)\n",
    "    return math.sqrt(sum_of_squares)"
   ]
  },
  {
   "cell_type": "code",
   "execution_count": 26,
   "metadata": {},
   "outputs": [
    {
     "data": {
      "text/plain": [
       "5.0"
      ]
     },
     "execution_count": 26,
     "metadata": {},
     "output_type": "execute_result"
    }
   ],
   "source": [
    "magnitude([3, 4])"
   ]
  },
  {
   "cell_type": "markdown",
   "metadata": {},
   "source": [
    "## 행렬"
   ]
  },
  {
   "attachments": {},
   "cell_type": "markdown",
   "metadata": {},
   "source": [
    "**행렬**<font size='2'>matrix</font>은 숫자를 행과 열로 구성된 직사각형 모양으로 나열한 것이다. \n",
    "$n$ 개의 행과 $k$ 개의 열로 구성된 행렬을 $n \\times k$ 행렬이라 부른다.\n",
    "대부분의 프로그래밍 언어에서 행렬을 리스트의 리스트, 즉 2중 리스트로 구현한다.\n",
    "예를 들어 아래 코드에서 `A`는 $2 \\times 3$ 행렬이고, `B`는 $3 \\times 2$ 행렬이다."
   ]
  },
  {
   "cell_type": "code",
   "execution_count": 27,
   "metadata": {},
   "outputs": [],
   "source": [
    "# 2x3 행렬\n",
    "\n",
    "A = [[1, 2, 3],\n",
    "     [4, 5, 6]]"
   ]
  },
  {
   "cell_type": "code",
   "execution_count": 28,
   "metadata": {},
   "outputs": [],
   "source": [
    "# 3x2 행렬\n",
    "\n",
    "B = [[1, 2],\n",
    "     [3, 4],\n",
    "     [5, 6]]"
   ]
  },
  {
   "attachments": {},
   "cell_type": "markdown",
   "metadata": {},
   "source": [
    "**행렬의 모양**"
   ]
  },
  {
   "attachments": {},
   "cell_type": "markdown",
   "metadata": {},
   "source": [
    "$n \\times k$ 행렬의 **모양**<font size='2'>shape</font>을 $(n,k)$로 표기한다.\n",
    "예를 들어, $1, 2, 3, 4, 5, 6$ 여섯 개의 항목을 가진 행렬의 모양은 네 종류인데, \n",
    "이유는 6을 두 개의 양의 정수의 곱셈으로 표현하는 방법이 네 가지이기 때문이다. "
   ]
  },
  {
   "attachments": {},
   "cell_type": "markdown",
   "metadata": {},
   "source": [
    "* (1, 6) 모양의 행렬: 한 개의 행과 여섯 개의 열\n",
    "\n",
    "$$\n",
    "\\begin{bmatrix}\n",
    "    1 & 2 & 3 & 4 & 5 & 6\n",
    "\\end{bmatrix}\n",
    "$$"
   ]
  },
  {
   "attachments": {},
   "cell_type": "markdown",
   "metadata": {},
   "source": [
    "* (2, 3) 모양의 행렬: 두 개의 행과 세 개의 열\n",
    "\n",
    "$$\n",
    "\\begin{bmatrix}\n",
    "    1 & 2 & 3\\\\\n",
    "    4 & 5 & 6\n",
    "\\end{bmatrix}\n",
    "$$"
   ]
  },
  {
   "attachments": {},
   "cell_type": "markdown",
   "metadata": {},
   "source": [
    "* (3, 2) 모양의 행렬: 세 개의 행과 두 개의 열\n",
    "\n",
    "$$\n",
    "\\begin{bmatrix}\n",
    "    1 & 2 \\\\\n",
    "    3 & 4 \\\\\n",
    "    5 & 6\n",
    "\\end{bmatrix}\n",
    "$$"
   ]
  },
  {
   "attachments": {},
   "cell_type": "markdown",
   "metadata": {},
   "source": [
    "* (6, 1) 모양의 행렬: 여섯 개의 행과 한 개의 열\n",
    "\n",
    "$$\n",
    "\\begin{bmatrix}\n",
    "    1 \\\\\n",
    "    2 \\\\\n",
    "    3 \\\\\n",
    "    4 \\\\\n",
    "    5 \\\\\n",
    "    6\n",
    "\\end{bmatrix}\n",
    "$$"
   ]
  },
  {
   "attachments": {},
   "cell_type": "markdown",
   "metadata": {},
   "source": [
    "아래 그림은 행렬의 행과 열의 인덱스를 보여준다."
   ]
  },
  {
   "attachments": {},
   "cell_type": "markdown",
   "metadata": {},
   "source": [
    "<div align=\"center\"><img src=\"https://raw.githubusercontent.com/codingalzi/datapy/master/jupyter-book/images/Matrix_row-column.jpg\" width=\"50%\"></div>\n",
    "<br>"
   ]
  },
  {
   "attachments": {},
   "cell_type": "markdown",
   "metadata": {},
   "source": [
    "**행렬의 모양 확인 함수**"
   ]
  },
  {
   "attachments": {},
   "cell_type": "markdown",
   "metadata": {},
   "source": [
    "아래 코드의 `shape()` 함수는 주어진 행렬의 모양을 튜플로 반환한다."
   ]
  },
  {
   "cell_type": "code",
   "execution_count": 29,
   "metadata": {},
   "outputs": [],
   "source": [
    "def shape(M):\n",
    "    \"\"\"\n",
    "    M: 행렬\n",
    "    M[i]의 길이가 일정하다고 가정\n",
    "    \"\"\"\n",
    "\n",
    "    num_rows = len(M)    # 행의 수\n",
    "    num_cols = len(M[0]) # 열의 수\n",
    "    return num_rows, num_cols"
   ]
  },
  {
   "cell_type": "code",
   "execution_count": 30,
   "metadata": {},
   "outputs": [
    {
     "data": {
      "text/plain": [
       "(2, 3)"
      ]
     },
     "execution_count": 30,
     "metadata": {},
     "output_type": "execute_result"
    }
   ],
   "source": [
    "shape(A)"
   ]
  },
  {
   "cell_type": "code",
   "execution_count": 31,
   "metadata": {},
   "outputs": [
    {
     "data": {
      "text/plain": [
       "(3, 2)"
      ]
     },
     "execution_count": 31,
     "metadata": {},
     "output_type": "execute_result"
    }
   ],
   "source": [
    "shape(B)"
   ]
  },
  {
   "cell_type": "markdown",
   "metadata": {},
   "source": [
    "**행벡터와 열벡터**\n",
    "\n",
    "아래 두 함수는 각각 지정된 행와 지정된 열의 항목들로 구성된 행벡터와 열벡터를 반환한다."
   ]
  },
  {
   "cell_type": "code",
   "execution_count": 32,
   "metadata": {},
   "outputs": [],
   "source": [
    "# i번 행벡터\n",
    "def get_row(M, i):\n",
    "    \"\"\"\n",
    "    M: 행렬\n",
    "    i: 행 인덱스\n",
    "    \"\"\"\n",
    "\n",
    "    return M[i]             \n",
    "\n",
    "# j번 열벡터\n",
    "def get_column(M, j):\n",
    "    \"\"\"\n",
    "    M: 행렬\n",
    "    j: 열 인덱스\n",
    "    \"\"\"\n",
    "\n",
    "    return [M_i[j] for M_i in M]"
   ]
  },
  {
   "cell_type": "markdown",
   "metadata": {},
   "source": [
    "행렬 `A`의 0번 행은 다음과 같다."
   ]
  },
  {
   "cell_type": "code",
   "execution_count": 33,
   "metadata": {},
   "outputs": [
    {
     "data": {
      "text/plain": [
       "[1, 2, 3]"
      ]
     },
     "execution_count": 33,
     "metadata": {},
     "output_type": "execute_result"
    }
   ],
   "source": [
    "get_row(A, 0)"
   ]
  },
  {
   "cell_type": "markdown",
   "metadata": {},
   "source": [
    "행렬 `B`의 1번 열은 다음과 같다."
   ]
  },
  {
   "cell_type": "code",
   "execution_count": 34,
   "metadata": {},
   "outputs": [
    {
     "data": {
      "text/plain": [
       "[2, 4, 6]"
      ]
     },
     "execution_count": 34,
     "metadata": {},
     "output_type": "execute_result"
    }
   ],
   "source": [
    "get_column(B, 1)"
   ]
  },
  {
   "attachments": {},
   "cell_type": "markdown",
   "metadata": {},
   "source": [
    "**$i$ 행, $j$ 열의 항목**"
   ]
  },
  {
   "attachments": {},
   "cell_type": "markdown",
   "metadata": {},
   "source": [
    "행렬 $M$의 $i$ 행, $j$ 열의 항목은 $i$ 번 인덱스 행의, $j$ 번 인덱스 열에 위치한 값을 가리키며\n",
    "$M_{i, j}$로 표기한다."
   ]
  },
  {
   "attachments": {},
   "cell_type": "markdown",
   "metadata": {},
   "source": [
    "### 행렬 초기화"
   ]
  },
  {
   "attachments": {},
   "cell_type": "markdown",
   "metadata": {},
   "source": [
    "경우에 따라 0으로만, 1로만, 또는 임의의 수로 구성된 특정 모양의 행렬을 필요할 수 있다.\n",
    "아래 `make_matrix()` 함수는 행렬의 항목을 생성하는 방식을 지정하면\n",
    "원하는 모양의 행렬을 생성한다.\n",
    "\n",
    "* 인자: 3개의 인자가 사용된다.\n",
    "    * `n`: 행의 수\n",
    "    * `m`: 열의 수\n",
    "    * `entry_fn`: i, j가 주어지면 i행, j열에 위치한 항목 계산\n",
    "* 반환값: 지정된 방식으로 계산된 (i, j) 모양의 행렬"
   ]
  },
  {
   "cell_type": "code",
   "execution_count": 35,
   "metadata": {},
   "outputs": [],
   "source": [
    "def make_matrix(n, m, entry_fn):\n",
    "    \"\"\"\n",
    "    n: 행의 수\n",
    "    m: 열의 수\n",
    "    entry_fn: (i, j)에 대해 i행, j열에 위치한 항목 계산\n",
    "    \"\"\"\n",
    "    \n",
    "    return [ [entry_fn(i, j) for j in range(m)] for i in range(n) ]   "
   ]
  },
  {
   "attachments": {},
   "cell_type": "markdown",
   "metadata": {},
   "source": [
    "**0-행렬**\n",
    "\n",
    "0-행렬<font size='2'>zero matrix</font>이란 행렬의 모든 원소의 값이 0인 행렬을 말한다.\n",
    "아래 행렬은 (3, 2) 모양의 0-행렬이다.\n",
    "\n",
    "$$\n",
    "\\begin{bmatrix}\n",
    "    0 & 0 \\\\\n",
    "    0 & 0 \\\\\n",
    "    0 & 0\n",
    "\\end{bmatrix}\n",
    "$$"
   ]
  },
  {
   "attachments": {},
   "cell_type": "markdown",
   "metadata": {},
   "source": [
    "지정된 모양의 0-행렬을 생성하는 함수는 다음과 같다."
   ]
  },
  {
   "cell_type": "code",
   "execution_count": 36,
   "metadata": {},
   "outputs": [],
   "source": [
    "def zeros(x):\n",
    "    \"\"\"\n",
    "    x = (n, m), 단 n, m은 양의 정수\n",
    "    \"\"\"\n",
    "\n",
    "    n = x[0]\n",
    "    m = x[1]\n",
    "    zero_function = lambda i, j: 0\n",
    "    \n",
    "    return make_matrix(n, m, zero_function)"
   ]
  },
  {
   "cell_type": "code",
   "execution_count": 37,
   "metadata": {},
   "outputs": [
    {
     "data": {
      "text/plain": [
       "[[0, 0, 0, 0, 0, 0, 0],\n",
       " [0, 0, 0, 0, 0, 0, 0],\n",
       " [0, 0, 0, 0, 0, 0, 0],\n",
       " [0, 0, 0, 0, 0, 0, 0],\n",
       " [0, 0, 0, 0, 0, 0, 0]]"
      ]
     },
     "execution_count": 37,
     "metadata": {},
     "output_type": "execute_result"
    }
   ],
   "source": [
    "zeros((5,7))"
   ]
  },
  {
   "attachments": {},
   "cell_type": "markdown",
   "metadata": {},
   "source": [
    "**1-행렬**\n",
    "\n",
    "1-행렬<font size='2'>one matrix</font>이란 행렬의 모든 원소의 값이 1인 행렬을 말한다.\n",
    "아래 행렬은 (3, 4) 모양의 1-행렬이다.\n",
    "\n",
    "$$\n",
    "\\begin{bmatrix}\n",
    "    1 & 1 & 1 & 1 \\\\\n",
    "    1 & 1 & 1 & 1 \\\\\n",
    "    1 & 1 & 1 & 1\n",
    "\\end{bmatrix}\n",
    "$$"
   ]
  },
  {
   "attachments": {},
   "cell_type": "markdown",
   "metadata": {},
   "source": [
    "지정된 모양의 1-행렬을 생성하는 함수는 다음과 같다."
   ]
  },
  {
   "cell_type": "code",
   "execution_count": 38,
   "metadata": {},
   "outputs": [],
   "source": [
    "def ones(x):\n",
    "    \"\"\"\n",
    "    x = (n, m), 단 n, m은 양의 정수\n",
    "    \"\"\"\n",
    "\n",
    "    n = x[0]\n",
    "    m = x[1]\n",
    "    one_function = lambda i, j: 1\n",
    "    \n",
    "    return make_matrix(n, m, one_function)"
   ]
  },
  {
   "cell_type": "code",
   "execution_count": 39,
   "metadata": {},
   "outputs": [
    {
     "data": {
      "text/plain": [
       "[[1, 1, 1, 1, 1, 1, 1],\n",
       " [1, 1, 1, 1, 1, 1, 1],\n",
       " [1, 1, 1, 1, 1, 1, 1],\n",
       " [1, 1, 1, 1, 1, 1, 1],\n",
       " [1, 1, 1, 1, 1, 1, 1]]"
      ]
     },
     "execution_count": 39,
     "metadata": {},
     "output_type": "execute_result"
    }
   ],
   "source": [
    "ones((5,7))"
   ]
  },
  {
   "attachments": {},
   "cell_type": "markdown",
   "metadata": {},
   "source": [
    "**임의행렬**"
   ]
  },
  {
   "attachments": {},
   "cell_type": "markdown",
   "metadata": {},
   "source": [
    "임의행렬<font size='2'>random matrix</font>은 행렬의 항목이 임의의 수로 구성된 행렬을 가리킨다.\n",
    "여기서는 0과 1 사이의 임의의 수로만 구성된 임의행렬을 생성한다.\n",
    "이를 위해 `random` 모듈의 `random()` 함수를 이용한다."
   ]
  },
  {
   "cell_type": "code",
   "execution_count": 40,
   "metadata": {},
   "outputs": [],
   "source": [
    "import random"
   ]
  },
  {
   "attachments": {},
   "cell_type": "markdown",
   "metadata": {},
   "source": [
    "`random.random()` 함수는 [0, 1) 구간에서 임의의 수를 무작위로 반환한다."
   ]
  },
  {
   "cell_type": "code",
   "execution_count": 41,
   "metadata": {},
   "outputs": [
    {
     "data": {
      "text/plain": [
       "0.2161837388197183"
      ]
     },
     "execution_count": 41,
     "metadata": {},
     "output_type": "execute_result"
    }
   ],
   "source": [
    "random.random()"
   ]
  },
  {
   "cell_type": "code",
   "execution_count": 42,
   "metadata": {},
   "outputs": [
    {
     "data": {
      "text/plain": [
       "0.23314232562188686"
      ]
     },
     "execution_count": 42,
     "metadata": {},
     "output_type": "execute_result"
    }
   ],
   "source": [
    "random.random()"
   ]
  },
  {
   "attachments": {},
   "cell_type": "markdown",
   "metadata": {},
   "source": [
    "지정된 모양의 임의행렬을 생성하는 함수는 다음과 같다."
   ]
  },
  {
   "cell_type": "code",
   "execution_count": 43,
   "metadata": {},
   "outputs": [],
   "source": [
    "def rand(n, m):\n",
    "    \"\"\"\n",
    "    n, m: 양의 정수\n",
    "    \"\"\"\n",
    "\n",
    "    random_function = lambda i, j: random.random()\n",
    "\n",
    "    return make_matrix(n, m, random_function)"
   ]
  },
  {
   "attachments": {},
   "cell_type": "markdown",
   "metadata": {},
   "source": [
    ":::{admonition} 함수의 인자 형식\n",
    ":class: warning\n",
    "\n",
    "`zeros()` 함수와 `ones()` 함수는 행렬의 모양을 가리키는 튜플을 인자로 받는다.\n",
    "반면에 `rand()` 함수는 행과 열의 크기 두 개의 인자를 받는다.\n",
    "이는 나중에 다룰 {ref}`sec:numpy_1`에서 소개하는 넘파이 모듈에 포함된 동일한 이름의 함수들과\n",
    "형식을 맞추기 위해서이다.\n",
    ":::"
   ]
  },
  {
   "cell_type": "code",
   "execution_count": 44,
   "metadata": {},
   "outputs": [
    {
     "data": {
      "text/plain": [
       "[[0.5776646924495183, 0.40195108809243096, 0.8732852614236691],\n",
       " [0.5470400341845183, 0.05868935551572996, 0.6303957078844395],\n",
       " [0.2802307599670715, 0.6935457930399754, 0.5256151563569802],\n",
       " [0.1168611413807823, 0.27778156076054383, 0.40760026332641075],\n",
       " [0.17327790058425074, 0.39181128657208364, 0.1638633131692383]]"
      ]
     },
     "execution_count": 44,
     "metadata": {},
     "output_type": "execute_result"
    }
   ],
   "source": [
    "rand(5,3)"
   ]
  },
  {
   "attachments": {},
   "cell_type": "markdown",
   "metadata": {},
   "source": [
    "부동소수점을 소수점 아래 몇 자리까지만 보이도록 하기 위해 `round()` 함수를 이용할 수 있다.\n",
    "`rand()` 함수를 재정의 한다. \n",
    "이때 항목을 생성하는 함수에 필요한 소수점 이하 자릿수를 `ndigits=2` 키워드 매개변수가\n",
    "받도록 한다. 기본값은 2로 지정한다."
   ]
  },
  {
   "cell_type": "code",
   "execution_count": 45,
   "metadata": {},
   "outputs": [],
   "source": [
    "def rand(n, m, ndigits=2):\n",
    "    \"\"\"\n",
    "    n, m: 양의 정수\n",
    "    \"\"\"\n",
    "\n",
    "    random_function = lambda i, j: round(random.random(), ndigits)  # ndigits: 소수점 이하 자릿수\n",
    "\n",
    "    return make_matrix(n, m, random_function)"
   ]
  },
  {
   "attachments": {},
   "cell_type": "markdown",
   "metadata": {},
   "source": [
    "소수점 이하 셋째 자리에서 반올림한 값을 사용하도록 하려면\n",
    "기본 인자 2를 그대로 사용하면 되기에 굳이 셋째 인자를 지정할 필요가 없다."
   ]
  },
  {
   "cell_type": "code",
   "execution_count": 46,
   "metadata": {},
   "outputs": [
    {
     "data": {
      "text/plain": [
       "[[0.4, 0.62, 0.93],\n",
       " [0.02, 0.41, 0.49],\n",
       " [0.77, 0.76, 0.68],\n",
       " [0.69, 0.21, 0.59],\n",
       " [0.3, 0.97, 0.73]]"
      ]
     },
     "execution_count": 46,
     "metadata": {},
     "output_type": "execute_result"
    }
   ],
   "source": [
    "rand(5, 3)"
   ]
  },
  {
   "attachments": {},
   "cell_type": "markdown",
   "metadata": {},
   "source": [
    "소수점 아래 다섯째 자리까지 보이도록 하려면 셋째 인자를 5로 지정한다."
   ]
  },
  {
   "cell_type": "code",
   "execution_count": 47,
   "metadata": {},
   "outputs": [
    {
     "data": {
      "text/plain": [
       "[[0.6336, 0.02453, 0.01897],\n",
       " [0.58863, 0.8712, 0.60837],\n",
       " [0.69392, 0.86338, 0.56096],\n",
       " [0.50933, 0.41791, 0.10397],\n",
       " [0.62789, 0.9448, 0.09547]]"
      ]
     },
     "execution_count": 47,
     "metadata": {},
     "output_type": "execute_result"
    }
   ],
   "source": [
    "rand(5, 3, 5)"
   ]
  },
  {
   "attachments": {},
   "cell_type": "markdown",
   "metadata": {},
   "source": [
    "키워드 매개변수 이름을 함께 사용해도 된다."
   ]
  },
  {
   "cell_type": "code",
   "execution_count": 48,
   "metadata": {},
   "outputs": [
    {
     "data": {
      "text/plain": [
       "[[0.44799, 0.12674, 0.61549],\n",
       " [0.67866, 0.07455, 0.50594],\n",
       " [0.37296, 0.7475, 0.52876],\n",
       " [0.30732, 0.66696, 0.61518],\n",
       " [0.13883, 0.70307, 0.23563]]"
      ]
     },
     "execution_count": 48,
     "metadata": {},
     "output_type": "execute_result"
    }
   ],
   "source": [
    "rand(5, 3, ndigits=5)"
   ]
  },
  {
   "attachments": {},
   "cell_type": "markdown",
   "metadata": {},
   "source": [
    "**항등행렬**\n",
    "\n",
    "항등행렬<font size='2'>identity matrix</font>은 정사각형 모양의 행렬 중에서 대각선 상에 위치한 항목은 1이고\n",
    "나머지는 0인 행렬을 말한다. \n",
    "예를 들어 아래 행렬은 (5, 5) 모양의 단위행렬이다.\n",
    "\n",
    "$$\n",
    "\\begin{bmatrix}\n",
    "    1&0&0&0&0 \\\\\n",
    "    0&1&0&0&0 \\\\\n",
    "    0&0&1&0&0 \\\\\n",
    "    0&0&0&1&0 \\\\\n",
    "    0&0&0&0&1\n",
    "\\end{bmatrix}\n",
    "$$\n",
    "\n",
    "단위행렬은 행과 열의 개수가 동일한 정방행렬이며,\n",
    "지정된 모양의 단위행렬을 생성하는 함수는 다음과 같다."
   ]
  },
  {
   "cell_type": "code",
   "execution_count": 49,
   "metadata": {},
   "outputs": [],
   "source": [
    "def identity(n):\n",
    "    \"\"\"\n",
    "    n: 양의 정수\n",
    "    \"\"\"\n",
    "    one_function = lambda i, j: 1 if i == j else 0\n",
    "    \n",
    "    return make_matrix(n, n, one_function)"
   ]
  },
  {
   "cell_type": "code",
   "execution_count": 50,
   "metadata": {},
   "outputs": [
    {
     "data": {
      "text/plain": [
       "[[1, 0, 0, 0, 0],\n",
       " [0, 1, 0, 0, 0],\n",
       " [0, 0, 1, 0, 0],\n",
       " [0, 0, 0, 1, 0],\n",
       " [0, 0, 0, 0, 1]]"
      ]
     },
     "execution_count": 50,
     "metadata": {},
     "output_type": "execute_result"
    }
   ],
   "source": [
    "identity(5)"
   ]
  },
  {
   "attachments": {},
   "cell_type": "markdown",
   "metadata": {},
   "source": [
    "### 행렬 항목별 연산"
   ]
  },
  {
   "attachments": {},
   "cell_type": "markdown",
   "metadata": {},
   "source": [
    "**행렬의 항목별 덧셈**\n",
    "\n",
    "모양이 같은 두 행렬의 항목별 덧셈은 항목별로 더한 결과로 이루어진 행렬이다.\n",
    "$2 \\times 3$ 행렬의 항목별 덧셈은 다음과 같다."
   ]
  },
  {
   "attachments": {},
   "cell_type": "markdown",
   "metadata": {},
   "source": [
    "$$\n",
    "\\begin{align*}\n",
    "\\begin{bmatrix}1&3&7\\\\1&0&0\\end{bmatrix} \n",
    "+ \\begin{bmatrix}0&0&5\\\\7&5&0\\end{bmatrix}\n",
    "&= \\begin{bmatrix}1+0&3+0&7+5\\\\1+7&0+5&0+0\\end{bmatrix} \\\\[.5ex]\n",
    "&= \\begin{bmatrix}1&3&12\\\\8&5&0\\end{bmatrix}\n",
    "\\end{align*}\n",
    "$$"
   ]
  },
  {
   "attachments": {},
   "cell_type": "markdown",
   "metadata": {},
   "source": [
    "행렬의 항목별 덧셈을 계산하는 함수는 다음과 같다."
   ]
  },
  {
   "cell_type": "code",
   "execution_count": 51,
   "metadata": {},
   "outputs": [],
   "source": [
    "def addM(A, B):\n",
    "    assert shape(A) == shape(B)\n",
    "    \n",
    "    m, n = shape(A)\n",
    "    \n",
    "    return make_matrix(m, n, lambda i, j: A[i][j] + B[i][j])"
   ]
  },
  {
   "cell_type": "code",
   "execution_count": 52,
   "metadata": {},
   "outputs": [],
   "source": [
    "C = [[1, 3, 7],\n",
    "     [1, 0, 0]]\n",
    "\n",
    "D = [[0, 0, 5], \n",
    "     [7, 5, 0]]"
   ]
  },
  {
   "cell_type": "code",
   "execution_count": 53,
   "metadata": {},
   "outputs": [
    {
     "data": {
      "text/plain": [
       "[[1, 3, 12], [8, 5, 0]]"
      ]
     },
     "execution_count": 53,
     "metadata": {},
     "output_type": "execute_result"
    }
   ],
   "source": [
    "addM(C, D)"
   ]
  },
  {
   "attachments": {},
   "cell_type": "markdown",
   "metadata": {},
   "source": [
    "**행렬의 항목별 뺄셈**\n",
    "\n",
    "모양이 같은 두 행렬의 항복별 뺄셈은 항목별로 뺀 결과로 이루어진 행렬이다.\n",
    "$2 \\times 3$ 행렬의 항목별 뺄셈은 다음과 같다."
   ]
  },
  {
   "attachments": {},
   "cell_type": "markdown",
   "metadata": {},
   "source": [
    "$$\n",
    "\\begin{align*}\n",
    "\\begin{bmatrix}1&3&7\\\\1&0&0\\end{bmatrix} \n",
    "- \\begin{bmatrix}0&0&5\\\\7&5&0\\end{bmatrix}\n",
    "&= \\begin{bmatrix}1-0&3-0&7-5\\\\1-7&0-5&0-0\\end{bmatrix} \\\\[.5ex]\n",
    "&= \\begin{bmatrix}1&3&2\\\\-6&-5&0\\end{bmatrix}\n",
    "\\end{align*}\n",
    "$$"
   ]
  },
  {
   "attachments": {},
   "cell_type": "markdown",
   "metadata": {},
   "source": [
    "행렬의 항목별 뺄셈을 계산하는 함수는 다음과 같다."
   ]
  },
  {
   "cell_type": "code",
   "execution_count": 54,
   "metadata": {},
   "outputs": [],
   "source": [
    "def subtractM(A, B):\n",
    "    assert shape(A) == shape(B)\n",
    "    \n",
    "    m, n = shape(A)\n",
    "    \n",
    "    return make_matrix(m, n, lambda i, j: A[i][j] - B[i][j])"
   ]
  },
  {
   "cell_type": "code",
   "execution_count": 55,
   "metadata": {},
   "outputs": [
    {
     "data": {
      "text/plain": [
       "[[1, 3, 2], [-6, -5, 0]]"
      ]
     },
     "execution_count": 55,
     "metadata": {},
     "output_type": "execute_result"
    }
   ],
   "source": [
    "subtractM(C, D)"
   ]
  },
  {
   "attachments": {},
   "cell_type": "markdown",
   "metadata": {},
   "source": [
    "**행렬의 스칼라 곱셈**\n",
    "\n",
    "숫자 하나와 행렬의 곱셈을 행렬 스칼라 곱셈이라 부른다. \n",
    "스칼라 곱셈은 행렬의 각 항목을 지정된 숫자로 곱해 새로운 행렬을 생성한다.\n",
    "(2, 3) 모양의 행렬의 스칼라 곱셈은 다음과 같다.\n",
    "\n",
    "$$\n",
    "2\\ast \n",
    "\\begin{bmatrix}1&8&-3\\\\4&-2&5\\end{bmatrix}\n",
    "= \\begin{bmatrix}2\\ast 1&2\\ast 8&2\\ast -3\\\\2\\ast 4&2\\ast -2&2\\ast 5\\end{bmatrix}\n",
    "= \\begin{bmatrix}2&16&-6\\\\8&-4&10\\end{bmatrix}\n",
    "$$"
   ]
  },
  {
   "attachments": {},
   "cell_type": "markdown",
   "metadata": {},
   "source": [
    "### 행렬 곱셈"
   ]
  },
  {
   "attachments": {},
   "cell_type": "markdown",
   "metadata": {},
   "source": [
    "($m$, $n$) 모양의 $A$와 ($n$, $p$) 모양의 행렬 $B$의 곱 $A \\cdot B$는 ($m$, $p$) 모양의 행렬이며,\n",
    "$i$ 행, $j$ 열의 항목 $(A \\cdot B)_{i,j}$는 다음과 같이 정의된다."
   ]
  },
  {
   "attachments": {},
   "cell_type": "markdown",
   "metadata": {},
   "source": [
    "$$\n",
    "(A \\cdot B)_{i, j}\n",
    "= A_{i,0} \\ast B_{0,j} + A_{i,2} \\ast B_{2,j} + \\cdots + A_{i,(n-1)} \\ast B_{(n-1),j}\n",
    "$$"
   ]
  },
  {
   "attachments": {},
   "cell_type": "markdown",
   "metadata": {},
   "source": [
    "아래 그림으로 (4, 2) 모양의 행렬 $A$와 (2, 3) 모양의 행렬 $B$의 점곱인 $A\\cdot B$의 항목을 계산하는 과정을 보여준다."
   ]
  },
  {
   "attachments": {},
   "cell_type": "markdown",
   "metadata": {},
   "source": [
    "<div align=\"center\"><img src=\"https://raw.githubusercontent.com/codingalzi/datapy/master/jupyter-book/images/Matrix_mult_diagram.jpg\" width=\"50%\"></div>\n",
    "\n",
    "출처: [위키백과](https://en.wikipedia.org/wiki/Dot_product)"
   ]
  },
  {
   "attachments": {},
   "cell_type": "markdown",
   "metadata": {},
   "source": [
    "예를 들어 $2 \\times 3$ 행렬과 $3 \\times 2$ 행렬의 곱셈은 다음과 같다.\n",
    "\n",
    "$$\n",
    "\\begin{align*}\n",
    "\\begin{bmatrix}\n",
    "    1&0&2\\\\-1&3&1\n",
    "\\end{bmatrix}\n",
    "\\begin{bmatrix}\n",
    "    3&1\\\\2&1\\\\1&0\n",
    "\\end{bmatrix}\n",
    "&=\n",
    "\\begin{bmatrix}\n",
    "    (1\\cdot 3+0\\cdot 2+2\\cdot 1)&(1\\cdot 1+0\\cdot 1+2\\cdot 0)\\\\(-1\\cdot 3+3\\cdot 2+1\\cdot 1)&(-1\\cdot 1+3\\cdot 1+1\\cdot 0)\n",
    "\\end{bmatrix} \\\\[.5ex]\n",
    "&= \n",
    "\\begin{bmatrix}\n",
    "    5&1\\\\4&2\n",
    "\\end{bmatrix}\n",
    "\\end{align*}\n",
    "$$"
   ]
  },
  {
   "attachments": {},
   "cell_type": "markdown",
   "metadata": {},
   "source": [
    "**항등행렬과 항등원**\n",
    "\n",
    "임의의 행렬 $M$과 항등행렬과의 곱은 $M$ 자신이다. \n",
    "즉 항등행렬은 행렬 곱셈의 항등원이다."
   ]
  },
  {
   "attachments": {},
   "cell_type": "markdown",
   "metadata": {},
   "source": [
    "$$\n",
    "\\begin{bmatrix}\n",
    "    3&1 \\\\\n",
    "    2&1 \\\\\n",
    "    1&0\n",
    "\\end{bmatrix}\n",
    "\\cdot\n",
    "\\begin{bmatrix}\n",
    "    1&0 \\\\ \n",
    "    0&1\n",
    "\\end{bmatrix}\n",
    "=\n",
    "\\begin{bmatrix}\n",
    "    (3\\cdot 1+1\\cdot 0)&(3\\cdot 0+1\\cdot 1) \\\\\n",
    "    (2\\cdot 1+1\\cdot 0)&(2\\cdot 0+1\\cdot 1) \\\\\n",
    "    (1\\cdot 1+0\\cdot 0)&(1\\cdot 0+0\\cdot 1) \\\\\n",
    "\\end{bmatrix}\n",
    "= \n",
    "\\begin{bmatrix}\n",
    "    3&1\\\\\n",
    "    2&1\\\\\n",
    "    1&0\n",
    "\\end{bmatrix}\n",
    "$$"
   ]
  },
  {
   "attachments": {},
   "cell_type": "markdown",
   "metadata": {},
   "source": [
    "### 전치행렬"
   ]
  },
  {
   "attachments": {},
   "cell_type": "markdown",
   "metadata": {},
   "source": [
    "행렬의 **전치**란 행과 열을 바꾸는 것으로, 행렬 $A$의 전치는 $A^T$로 표기한다. \n",
    "즉, $A$가 ($m$, $n$) 모양의 행렬이면 $A^T$는 ($n$, $m$) 모양의 행렬이다.\n",
    "$A^T$의 $i$행의 $j$열번째 값은 $A$의 $j$행의 $i$열번째 값이다. \n",
    "즉 다음이 성립한다.\n",
    "\n",
    "$$\n",
    "A ^{T}_{i,j} = A_{j,i}\n",
    "$$"
   ]
  },
  {
   "attachments": {},
   "cell_type": "markdown",
   "metadata": {},
   "source": [
    "예를 들어, 다음은 (2, 3) 모양의 행렬의 전치가 (3, 2) 모양의 행렬이 됨을 잘 보여준다.\n",
    "\n",
    "$$\n",
    "\\begin{bmatrix}\n",
    "    9&8&7\\\\\n",
    "    -1&3&4\n",
    "\\end{bmatrix}^{T}\n",
    "=\n",
    "\\begin{bmatrix}\n",
    "    9&-1\\\\\n",
    "    8&3\\\\\n",
    "    7&4\n",
    "\\end{bmatrix}\n",
    "$$"
   ]
  },
  {
   "cell_type": "markdown",
   "metadata": {},
   "source": [
    "**전치행렬의 성질**"
   ]
  },
  {
   "attachments": {},
   "cell_type": "markdown",
   "metadata": {},
   "source": [
    "$a$를 스칼라, $A$와 $B$를 크기가 같은 행렬이라 하자. 이때 다음이 성립한다.\n",
    "\n",
    "* $(A^T)^T = A$\n",
    "* $(A + B)^T = A^T + B^T$\n",
    "* $(A - B)^T = A^T - B^T$\n",
    "* $(a\\cdot A)^T = a\\cdot A^T$\n",
    "* $(A B)^T = B^T A^T$"
   ]
  },
  {
   "cell_type": "markdown",
   "metadata": {},
   "source": [
    "## 연습문제"
   ]
  },
  {
   "cell_type": "markdown",
   "metadata": {},
   "source": [
    "참고: [(실습) 선형대수 기초 밑바닥부터](https://colab.research.google.com/github/codingalzi/datapy/blob/master/practices/practice-linear_algebra_basics.ipynb)"
   ]
  }
 ],
 "metadata": {
  "kernelspec": {
   "display_name": "base",
   "language": "python",
   "name": "python3"
  },
  "language_info": {
   "codemirror_mode": {
    "name": "ipython",
    "version": 3
   },
   "file_extension": ".py",
   "mimetype": "text/x-python",
   "name": "python",
   "nbconvert_exporter": "python",
   "pygments_lexer": "ipython3",
   "version": "3.9.12"
  },
  "vscode": {
   "interpreter": {
    "hash": "ad0f3c8a064f687cbf898a0868fd45ba1c7e928ac8a0404f7c241d812ddc1e76"
   }
  }
 },
 "nbformat": 4,
 "nbformat_minor": 2
}
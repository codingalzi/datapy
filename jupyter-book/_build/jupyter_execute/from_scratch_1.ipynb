{
 "cells": [
  {
   "attachments": {},
   "cell_type": "markdown",
   "metadata": {},
   "source": [
    "(sec:from_scratch_1)=\n",
    "# 선형대수 기초"
   ]
  },
  {
   "cell_type": "markdown",
   "metadata": {},
   "source": [
    "**참고** \n",
    "\n",
    "여기서 사용하는 코드는 조엘 그루스(Joel Grus)의 \n",
    "[밑다닥부터 시작하는 데이터 과학](https://github.com/joelgrus/data-science-from-scratch) \n",
    "4장에 사용된 소스코드의 일부를 기반으로 작성되었다."
   ]
  },
  {
   "cell_type": "markdown",
   "metadata": {},
   "source": [
    "**주요 내용**\n",
    "\n",
    "넘파이 어레이(`numpy.array`)는 길이와 모양에 대한 정보와 함께 어레이를 조작하거나 \n",
    "어레이로부터 다양한 정보를 추출하는 메서드를 기본으로 제공한다.\n",
    "반면에 파이썬 리스트(`list`)는 인덱싱과 몇 개의 리스트 조작 기능 이외에 \n",
    "별 다른 정보와 기능을 제공하지 않는다. \n",
    "\n",
    "여기서는 벡터와 행렬을 각각 1차원과 2차원 리스트로 구현하여 실용적으로 사용하는 과정을 살펴본다.\n",
    "보다 구체적으로는 벡터와 행렬의 자료형 정의에서 출발하여 벡터와 행렬의 연산 등을 모두 \n",
    "리스트와 기본 파이썬만을 이용하여 구현한다. \n",
    "\n",
    "이를 통해 넘파이 어레이가 제공하는 다양한 기능에 대한 보다 깊은 이해와 함께 파이썬 데이터 분석 관련\n",
    "프로그래밍 실력 향상에 도움을 주고자 한다."
   ]
  },
  {
   "attachments": {},
   "cell_type": "markdown",
   "metadata": {},
   "source": [
    "**주의사항** \n",
    "\n",
    "아래 코드는 \n",
    "[리스트 조건제시법](https://codingalzi.github.io/pybook/collections2.html#sec-comprehension)을 \n",
    "활용한다. "
   ]
  },
  {
   "cell_type": "markdown",
   "metadata": {},
   "source": [
    "## 벡터"
   ]
  },
  {
   "attachments": {},
   "cell_type": "markdown",
   "metadata": {},
   "source": [
    "벡터는 유한 개의 값으로 구성된다.\n",
    "보통 수를 항목으로 사용하며, 항목의 수를 벡터의 **차원**<font size='2'>dimension</font>이라 부른다.\n",
    "벡터는 수학, 통계, 물리 등 과학 분야에서 많이 사용되며, \n",
    "최근에 컴퓨터 데이터 분석이 발전하면서 벡터의 활용도 매우 높아졌다.\n",
    "\n",
    "* 2차원 평면 공간에서 방향과 크기를 표현하는 2차원 벡터: (x, y)\n",
    "* 사람들의 키, 몸무게, 나이로 이루어진 3차원 벡터: (키, 몸무게, 나이)\n",
    "* 네 번의 시험 점수로 이루어진 4차원 벡터: (1차점수, 2차점수, 3차점수, 4차점수)"
   ]
  },
  {
   "attachments": {},
   "cell_type": "markdown",
   "metadata": {},
   "source": [
    "### 리스트와 벡터"
   ]
  },
  {
   "cell_type": "markdown",
   "metadata": {},
   "source": [
    "리스트를 이용하여 벡터를 구현할 수 있다."
   ]
  },
  {
   "attachments": {},
   "cell_type": "markdown",
   "metadata": {},
   "source": [
    "**예제**\n",
    "\n",
    "x축, y축 좌표로 구성된 2차원 벡터"
   ]
  },
  {
   "cell_type": "code",
   "execution_count": 1,
   "metadata": {},
   "outputs": [],
   "source": [
    "# (x축, y축)\n",
    "\n",
    "twoDVector1 = [3, 1]\n",
    "twoDVector2 = [-2, 5]"
   ]
  },
  {
   "attachments": {},
   "cell_type": "markdown",
   "metadata": {},
   "source": [
    "**예제**\n",
    "\n",
    "키, 몸무게, 나이로 구성된 3차원 벡터"
   ]
  },
  {
   "cell_type": "code",
   "execution_count": 2,
   "metadata": {},
   "outputs": [],
   "source": [
    "# (키, 몸무게, 나이)\n",
    "\n",
    "height_weight_age1 = [70, 170, 50]\n",
    "height_weight_age2 = [66, 163, 50]"
   ]
  },
  {
   "attachments": {},
   "cell_type": "markdown",
   "metadata": {},
   "source": [
    "**예제**\n",
    "\n",
    "1차부터 4차까지의 시험 점수로 구성된 4차원 벡터"
   ]
  },
  {
   "cell_type": "code",
   "execution_count": 3,
   "metadata": {},
   "outputs": [],
   "source": [
    "# (1차점수, 2차점수, 3차점수, 4차점수)\n",
    "\n",
    "grades1 = [95, 80, 75, 62]\n",
    "grades2 = [85, 82, 79, 82]"
   ]
  },
  {
   "attachments": {},
   "cell_type": "markdown",
   "metadata": {},
   "source": [
    "### 벡터 연산"
   ]
  },
  {
   "attachments": {},
   "cell_type": "markdown",
   "metadata": {},
   "source": [
    "**벡터 덧셈**"
   ]
  },
  {
   "attachments": {},
   "cell_type": "markdown",
   "metadata": {},
   "source": [
    "차원이 같은 벡터 두 개를 더할 수 있다.\n",
    "두 벡터의 덧셈은 같은 위치에 있는 항목끼기 더한 결과로 이루어진 벡터를 생성한다.\n",
    "벡터 $u = (u_1, \\cdots, u_n)$와 벡터 $v = (v_1, \\cdots, v_n)$가 주어졌을 때\n",
    "두 벡터의 덧셈은 아래와 같다. \n",
    "\n",
    "$$\n",
    "u + v \n",
    "= (u_1 + v_1, \\cdots, u_n + v_n)\n",
    "$$"
   ]
  },
  {
   "cell_type": "markdown",
   "metadata": {},
   "source": [
    "**벡터 덧셈 함수**\n",
    "\n",
    "차원이 같은 두 벡터의 항목별 합을 항목으로 같은 벡터를 반환하는 함수는 다음과 같다."
   ]
  },
  {
   "cell_type": "code",
   "execution_count": 4,
   "metadata": {},
   "outputs": [],
   "source": [
    "def addV(v, w):\n",
    "    assert len(v) == len(w)   # 두 벡터의 길이가 같은 경우만 취급\n",
    "\n",
    "    return [v_i + w_i for v_i, w_i in zip(v, w)]"
   ]
  },
  {
   "cell_type": "code",
   "execution_count": 5,
   "metadata": {},
   "outputs": [
    {
     "data": {
      "text/plain": [
       "[1, 6]"
      ]
     },
     "execution_count": 5,
     "metadata": {},
     "output_type": "execute_result"
    }
   ],
   "source": [
    "addV(twoDVector1, twoDVector2)"
   ]
  },
  {
   "cell_type": "code",
   "execution_count": 6,
   "metadata": {},
   "outputs": [
    {
     "data": {
      "text/plain": [
       "[136, 333, 100]"
      ]
     },
     "execution_count": 6,
     "metadata": {},
     "output_type": "execute_result"
    }
   ],
   "source": [
    "addV(height_weight_age1, height_weight_age2)"
   ]
  },
  {
   "cell_type": "code",
   "execution_count": 7,
   "metadata": {},
   "outputs": [
    {
     "data": {
      "text/plain": [
       "[180, 162, 154, 144]"
      ]
     },
     "execution_count": 7,
     "metadata": {},
     "output_type": "execute_result"
    }
   ],
   "source": [
    "addV(grades1, grades2)"
   ]
  },
  {
   "attachments": {},
   "cell_type": "markdown",
   "metadata": {},
   "source": [
    "**벡터 리스트의 합**"
   ]
  },
  {
   "attachments": {},
   "cell_type": "markdown",
   "metadata": {},
   "source": [
    "동일한 차원의 임의의 개수의 벡터를 더하는 함수를 다음과 같이 정의할 수 있다.\n",
    "함수의 본문에 사용된 `all()` 함수는 리스트, 튜플 등에 포함된 모든 항목이 참인 경우에만\n",
    "참을 반환한다."
   ]
  },
  {
   "cell_type": "code",
   "execution_count": 8,
   "metadata": {},
   "outputs": [],
   "source": [
    "def vector_sum(vectors):\n",
    "    \"\"\"\n",
    "    vectors: 동일한 차원의 벡터들의 리스트\n",
    "    반환값: 각 항목의 합으로 이루어진 동일한 차원의 벡터\n",
    "    \"\"\"\n",
    "    \n",
    "    # 입력값 확인\n",
    "    assert len(vectors) > 0          # 1개 이상의 벡터가 주어져야 함\n",
    "    num_elements = len(vectors[0])   # 벡터 개수\n",
    "    assert all(len(v) == num_elements for v in vectors)   # 모든 벡터의 크기가 같아야 함\n",
    "\n",
    "    # 동일한 위치의 항목을 모두 더한 값들로 이루어진 벡터 반환\n",
    "    return [sum(vector[i] for vector in vectors) for i in range(num_elements)]"
   ]
  },
  {
   "attachments": {},
   "cell_type": "markdown",
   "metadata": {},
   "source": [
    "**예제: 네 개의 2차원 벡터 덧셈**\n",
    "\n",
    "예를 들어, 2차원 벡터 네 개를 더한 결과는 다음과 같다."
   ]
  },
  {
   "cell_type": "code",
   "execution_count": 9,
   "metadata": {},
   "outputs": [
    {
     "data": {
      "text/plain": [
       "[16, 20]"
      ]
     },
     "execution_count": 9,
     "metadata": {},
     "output_type": "execute_result"
    }
   ],
   "source": [
    "vector_sum([[1, 2], [3, 4], [5, 6], [7, 8]])"
   ]
  },
  {
   "attachments": {},
   "cell_type": "markdown",
   "metadata": {},
   "source": [
    "**벡터 뺄셈**"
   ]
  },
  {
   "attachments": {},
   "cell_type": "markdown",
   "metadata": {},
   "source": [
    "차원이 같은 벡터에 대해 뺄셈을 정의할 수 있다.\n",
    "차원이 같은 벡터 두 개의 덧셈은 같은 위치에 있는 항목끼기 뺀 결과로 이루어진 벡터를 생성한다.\n",
    "벡터 $u = (u_1, \\cdots, u_n)$와 벡터 $v = (v_1, \\cdots, v_n)$가 주어졌을 때\n",
    "두 벡터의 뺄셈은 아래와 같다. \n",
    "\n",
    "$$\n",
    "u - v \n",
    "= (u_1 - v_1, \\cdots, u_n - v_n)\n",
    "$$"
   ]
  },
  {
   "cell_type": "markdown",
   "metadata": {},
   "source": [
    "**벡터 뺄셈 함수**\n",
    "\n",
    "차원이 같은 두 벡터의 항목별 차를 항목으로 같은 벡터를 반환하는 함수는 다음과 같다."
   ]
  },
  {
   "cell_type": "code",
   "execution_count": 10,
   "metadata": {},
   "outputs": [],
   "source": [
    "def subtractV(v, w):\n",
    "    assert len(v) == len(w)   # 두 벡터의 길이가 같은 경우만 취급\n",
    "\n",
    "    return [v_i - w_i for v_i, w_i in zip(v, w)]"
   ]
  },
  {
   "cell_type": "code",
   "execution_count": 11,
   "metadata": {},
   "outputs": [
    {
     "data": {
      "text/plain": [
       "[5, -4]"
      ]
     },
     "execution_count": 11,
     "metadata": {},
     "output_type": "execute_result"
    }
   ],
   "source": [
    "subtractV(twoDVector1, twoDVector2)"
   ]
  },
  {
   "cell_type": "code",
   "execution_count": 12,
   "metadata": {},
   "outputs": [
    {
     "data": {
      "text/plain": [
       "[4, 7, 0]"
      ]
     },
     "execution_count": 12,
     "metadata": {},
     "output_type": "execute_result"
    }
   ],
   "source": [
    "subtractV(height_weight_age1, height_weight_age2)"
   ]
  },
  {
   "cell_type": "code",
   "execution_count": 13,
   "metadata": {},
   "outputs": [
    {
     "data": {
      "text/plain": [
       "[10, -2, -4, -20]"
      ]
     },
     "execution_count": 13,
     "metadata": {},
     "output_type": "execute_result"
    }
   ],
   "source": [
    "subtractV(grades1, grades2)"
   ]
  },
  {
   "attachments": {},
   "cell_type": "markdown",
   "metadata": {},
   "source": [
    "**벡터 스칼라 곱셈**"
   ]
  },
  {
   "attachments": {},
   "cell_type": "markdown",
   "metadata": {},
   "source": [
    "하나 수와 하나의 벡터의 곱셈을 스칼라 곱셈이라 부른다. \n",
    "스칼라 곱셈은 벡터의 각 항목을 지정된 수로 곱한다.\n",
    "벡터 $u = (u_1, \\cdots, u_n)$와 하나의 수 $c$가 주어졌을 때\n",
    "벡터 스칼라 곱셈은 아래와 같다. \n",
    "\n",
    "$$\n",
    "c\\cdot u\n",
    "= (c\\cdot u_1, \\cdots, c\\cdot u_n)\n",
    "$$"
   ]
  },
  {
   "cell_type": "markdown",
   "metadata": {},
   "source": [
    "**벡터 스칼라 곱셈 함수**\n",
    "\n",
    "벡터의 각 항목에 동일한 부동소수점을 곱한 결과를 반화하는 함수는 다음과 같다."
   ]
  },
  {
   "cell_type": "code",
   "execution_count": 14,
   "metadata": {},
   "outputs": [],
   "source": [
    "def scalar_multV(c, v):\n",
    "    return [c * v_i for v_i in v]"
   ]
  },
  {
   "cell_type": "code",
   "execution_count": 15,
   "metadata": {},
   "outputs": [
    {
     "data": {
      "text/plain": [
       "[2, 4, 6]"
      ]
     },
     "execution_count": 15,
     "metadata": {},
     "output_type": "execute_result"
    }
   ],
   "source": [
    "scalar_multV(2, [1, 2, 3])"
   ]
  },
  {
   "attachments": {},
   "cell_type": "markdown",
   "metadata": {},
   "source": [
    "**항목별 평균 벡터**"
   ]
  },
  {
   "attachments": {},
   "cell_type": "markdown",
   "metadata": {},
   "source": [
    "동일한 차원의 벡터가 여러 개 주어졌을 때 항목별 평균을 구할 수 있다.\n",
    "항목별 평균은 항목끼리 모두 더한 후 벡터의 개수로 나눈다."
   ]
  },
  {
   "attachments": {},
   "cell_type": "markdown",
   "metadata": {},
   "source": [
    "**예제:3개의 2차원 벡터들의 평균**"
   ]
  },
  {
   "attachments": {},
   "cell_type": "markdown",
   "metadata": {},
   "source": [
    "$$\n",
    "\\frac 1 3 \\cdot \\left ((1, 2) + (2, 1) + (2, 3) \\right) \n",
    "=  \\frac 1 3 \\cdot (1+2+2, 2+1+3) \n",
    "= \\left (\\frac 5 3, 2 \\right)\n",
    "$$"
   ]
  },
  {
   "attachments": {},
   "cell_type": "markdown",
   "metadata": {},
   "source": [
    "**항목별 평균 벡터 함수**\n",
    "\n",
    "동일한 차원의 여러 벡터가 주어졌을 때 항목별 평균으로 이루어진 벡터를 반환하는 함수는 다음과 같이\n",
    "벡터들의 합을 벡터의 개수로 나눈다."
   ]
  },
  {
   "cell_type": "code",
   "execution_count": 16,
   "metadata": {},
   "outputs": [],
   "source": [
    "def vector_mean(vectors):\n",
    "    n = len(vectors)\n",
    "    \n",
    "    return scalar_multV(1/n, vector_sum(vectors))"
   ]
  },
  {
   "cell_type": "code",
   "execution_count": 17,
   "metadata": {},
   "outputs": [
    {
     "data": {
      "text/plain": [
       "[4.5, 3.75]"
      ]
     },
     "execution_count": 17,
     "metadata": {},
     "output_type": "execute_result"
    }
   ],
   "source": [
    "vector_mean([[3, 2], [2, 5], [7, 5], [6, 3]])"
   ]
  },
  {
   "attachments": {},
   "cell_type": "markdown",
   "metadata": {},
   "source": [
    "### 벡터 내적과 크기"
   ]
  },
  {
   "cell_type": "markdown",
   "metadata": {},
   "source": [
    "차원이 같은 벡터 두 개의 내적은 같은 위치에 있는 항목끼기 곱한 후 모두 더한 값이다.\n",
    "벡터 $u = (u_1, \\cdots, u_n)$와 벡터 $v = (v_1, \\cdots, v_n)$가 주어졌을 때\n",
    "두 벡터의 내적은 아래와 같다. \n",
    "\n",
    "$$\n",
    "u \\cdot v \n",
    "= \\sum_{i=1}^n u_i\\cdot v_i \n",
    "= u_1\\cdot v_1 + \\cdots + u_n\\cdot v_n\n",
    "$$"
   ]
  },
  {
   "cell_type": "markdown",
   "metadata": {},
   "source": [
    "**벡터 내적 함수**\n",
    "\n",
    "동일 차원의 두 벡터의 내적을 반환하는 함수는 다음과 같다."
   ]
  },
  {
   "cell_type": "code",
   "execution_count": 18,
   "metadata": {},
   "outputs": [],
   "source": [
    "def dot(v, w):\n",
    "    assert len(v) == len(w), \"벡터들의 길이가 동일해야 함\"\"\"\n",
    "\n",
    "    return sum(v_i * w_i for v_i, w_i in zip(v, w))"
   ]
  },
  {
   "cell_type": "code",
   "execution_count": 19,
   "metadata": {},
   "outputs": [
    {
     "data": {
      "text/plain": [
       "32"
      ]
     },
     "execution_count": 19,
     "metadata": {},
     "output_type": "execute_result"
    }
   ],
   "source": [
    "dot([1, 2, 3], [4, 5, 6])"
   ]
  },
  {
   "attachments": {},
   "cell_type": "markdown",
   "metadata": {},
   "source": [
    "**벡터의 크기**"
   ]
  },
  {
   "attachments": {},
   "cell_type": "markdown",
   "metadata": {},
   "source": [
    "벡터 $v = (v_1, \\cdots, v_n)$가 주어졌을 때 \n",
    "벡터 $v$의 크기 $\\| v\\|$는 $v$ 자신과의 내적의 제곱근이다.\n",
    "\n",
    "$$\\| v\\| = \\sqrt{v \\cdot v} = \\sqrt{v_1^2 + \\cdots + v_n^2}$$"
   ]
  },
  {
   "attachments": {},
   "cell_type": "markdown",
   "metadata": {},
   "source": [
    "**예제**\n",
    "\n",
    "벡터 $(3, 4)$의 크기는 다음과 같다.\n",
    "\n",
    "$$\\| (3, 4)\\|  = \\sqrt{3^2 + 4^2} = \\sqrt{5^2} = 5$$"
   ]
  },
  {
   "attachments": {},
   "cell_type": "markdown",
   "metadata": {},
   "source": [
    "**벡터의 크기 계산 함수**\n",
    "\n",
    "제곱근은 `math` 모듈의 `sqrt()` 함수를 이용한다.\n",
    "참고로 벡터의 크기는 영어로 magnitude로 표기한다."
   ]
  },
  {
   "cell_type": "code",
   "execution_count": 20,
   "metadata": {},
   "outputs": [],
   "source": [
    "import math\n",
    "\n",
    "def magnitude(v):\n",
    "    sum_of_squares = dot(v, v)\n",
    "    return math.sqrt(sum_of_squares)"
   ]
  },
  {
   "cell_type": "code",
   "execution_count": 21,
   "metadata": {},
   "outputs": [
    {
     "data": {
      "text/plain": [
       "5.0"
      ]
     },
     "execution_count": 21,
     "metadata": {},
     "output_type": "execute_result"
    }
   ],
   "source": [
    "magnitude([3, 4])"
   ]
  },
  {
   "cell_type": "markdown",
   "metadata": {},
   "source": [
    "## 행렬"
   ]
  },
  {
   "attachments": {},
   "cell_type": "markdown",
   "metadata": {},
   "source": [
    "**행렬**<font size='2'>matrix</font>은 숫자를 행과 열로 구성된 직사각형 모양으로 나열한 것이다. \n",
    "$n$ 개의 행과 $k$ 개의 열로 구성된 행렬을 $n \\times k$ 행렬이라 부른다.\n",
    "대부분의 프로그래밍 언어에서 행렬을 리스트의 리스트, 즉 2중 리스트로 구현한다.\n",
    "예를 들어 아래 코드에서 `A`는 $2 \\times 3$ 행렬이고, `B`는 $3 \\times 2$ 행렬이다."
   ]
  },
  {
   "cell_type": "code",
   "execution_count": 22,
   "metadata": {},
   "outputs": [],
   "source": [
    "# 2x3 행렬\n",
    "\n",
    "A = [[1, 2, 3],\n",
    "     [4, 5, 6]]"
   ]
  },
  {
   "cell_type": "code",
   "execution_count": 23,
   "metadata": {},
   "outputs": [],
   "source": [
    "# 3x2 행렬\n",
    "\n",
    "B = [[1, 2],\n",
    "     [3, 4],\n",
    "     [5, 6]]"
   ]
  },
  {
   "attachments": {},
   "cell_type": "markdown",
   "metadata": {},
   "source": [
    "**행렬의 모양**"
   ]
  },
  {
   "attachments": {},
   "cell_type": "markdown",
   "metadata": {},
   "source": [
    "$n \\times k$ 행렬의 **모양**<font size='2'>shape</font>을 $(n,k)$로 표기한다.\n",
    "예를 들어, $1, 2, 3, 4, 5, 6$ 여섯 개의 항목을 가진 행렬의 모양은 네 종류인데, \n",
    "이유는 6을 두 개의 양의 정수의 곱셈으로 표현하는 방법이 네 가지이기 때문이다. "
   ]
  },
  {
   "attachments": {},
   "cell_type": "markdown",
   "metadata": {},
   "source": [
    "* (1, 6) 모양의 행렬: 한 개의 행과 여섯 개의 열\n",
    "\n",
    "$$\n",
    "\\begin{bmatrix}\n",
    "    1 & 2 & 3 & 4 & 5 & 6\n",
    "\\end{bmatrix}\n",
    "$$"
   ]
  },
  {
   "attachments": {},
   "cell_type": "markdown",
   "metadata": {},
   "source": [
    "* (2, 3) 모양의 행렬: 두 개의 행과 세 개의 열\n",
    "\n",
    "$$\n",
    "\\begin{bmatrix}\n",
    "    1 & 2 & 3\\\\\n",
    "    4 & 5 & 6\n",
    "\\end{bmatrix}\n",
    "$$"
   ]
  },
  {
   "attachments": {},
   "cell_type": "markdown",
   "metadata": {},
   "source": [
    "* (3, 2) 모양의 행렬: 세 개의 행과 두 개의 열\n",
    "\n",
    "$$\n",
    "\\begin{bmatrix}\n",
    "    1 & 2 \\\\\n",
    "    3 & 4 \\\\\n",
    "    5 & 6\n",
    "\\end{bmatrix}\n",
    "$$"
   ]
  },
  {
   "attachments": {},
   "cell_type": "markdown",
   "metadata": {},
   "source": [
    "* (6, 1) 모양의 행렬: 여섯 개의 행과 한 개의 열\n",
    "\n",
    "$$\n",
    "\\begin{bmatrix}\n",
    "    1 \\\\\n",
    "    2 \\\\\n",
    "    3 \\\\\n",
    "    4 \\\\\n",
    "    5 \\\\\n",
    "    6\n",
    "\\end{bmatrix}\n",
    "$$"
   ]
  },
  {
   "attachments": {},
   "cell_type": "markdown",
   "metadata": {},
   "source": [
    "**행렬의 모양 확인 함수**"
   ]
  },
  {
   "attachments": {},
   "cell_type": "markdown",
   "metadata": {},
   "source": [
    "아래 코드의 `shape()` 함수는 주어진 행렬의 모양을 튜플로 반환한다."
   ]
  },
  {
   "cell_type": "code",
   "execution_count": 24,
   "metadata": {},
   "outputs": [],
   "source": [
    "def shape(M):\n",
    "    \"\"\"\n",
    "    M: 행렬\n",
    "    M[i]의 길이가 일정하다고 가정\n",
    "    \"\"\"\n",
    "\n",
    "    num_rows = len(M)    # 행의 수\n",
    "    num_cols = len(M[0]) # 열의 수\n",
    "    return num_rows, num_cols"
   ]
  },
  {
   "cell_type": "code",
   "execution_count": 25,
   "metadata": {},
   "outputs": [
    {
     "data": {
      "text/plain": [
       "(2, 3)"
      ]
     },
     "execution_count": 25,
     "metadata": {},
     "output_type": "execute_result"
    }
   ],
   "source": [
    "shape(A)"
   ]
  },
  {
   "cell_type": "code",
   "execution_count": 26,
   "metadata": {},
   "outputs": [
    {
     "data": {
      "text/plain": [
       "(3, 2)"
      ]
     },
     "execution_count": 26,
     "metadata": {},
     "output_type": "execute_result"
    }
   ],
   "source": [
    "shape(B)"
   ]
  },
  {
   "cell_type": "markdown",
   "metadata": {},
   "source": [
    "**행벡터와 열벡터**\n",
    "\n",
    "아래 두 함수는 각각 지정된 행와 지정된 열의 항목들로 구성된 행벡터와 열벡터를 반환한다."
   ]
  },
  {
   "cell_type": "code",
   "execution_count": 27,
   "metadata": {},
   "outputs": [],
   "source": [
    "# i번 행벡터\n",
    "def get_row(M, i):\n",
    "    \"\"\"\n",
    "    M: 행렬\n",
    "    i: 행 인덱스\n",
    "    \"\"\"\n",
    "\n",
    "    return M[i]             \n",
    "\n",
    "# j번 열벡터\n",
    "def get_column(M, j):\n",
    "    \"\"\"\n",
    "    M: 행렬\n",
    "    j: 열 인덱스\n",
    "    \"\"\"\n",
    "\n",
    "    return [M_i[j] for M_i in M]"
   ]
  },
  {
   "cell_type": "markdown",
   "metadata": {},
   "source": [
    "행렬 `A`의 0번 행은 다음과 같다."
   ]
  },
  {
   "cell_type": "code",
   "execution_count": 28,
   "metadata": {},
   "outputs": [
    {
     "data": {
      "text/plain": [
       "[1, 2, 3]"
      ]
     },
     "execution_count": 28,
     "metadata": {},
     "output_type": "execute_result"
    }
   ],
   "source": [
    "get_row(A, 0)"
   ]
  },
  {
   "cell_type": "markdown",
   "metadata": {},
   "source": [
    "행렬 `B`의 1번 열은 다음과 같다."
   ]
  },
  {
   "cell_type": "code",
   "execution_count": 29,
   "metadata": {},
   "outputs": [
    {
     "data": {
      "text/plain": [
       "[2, 4, 6]"
      ]
     },
     "execution_count": 29,
     "metadata": {},
     "output_type": "execute_result"
    }
   ],
   "source": [
    "get_column(B, 1)"
   ]
  },
  {
   "attachments": {},
   "cell_type": "markdown",
   "metadata": {},
   "source": [
    "### 행렬 초기화"
   ]
  },
  {
   "attachments": {},
   "cell_type": "markdown",
   "metadata": {},
   "source": [
    "경우에 따라 0으로만, 1로만, 또는 무작위 수로 구성된 특정 모양의 행렬을 필요하다.\n",
    "`make_matrix()` 함수는 행렬의 항목을 생성하는 방식을 지정하면\n",
    "원하는 모양의 행렬을 생성한다.\n",
    "\n",
    "* 인자: 3개의 인자가 사용된다.\n",
    "    * `n`: 행의 수\n",
    "    * `m`: 열의 수\n",
    "    * `entry_fn`: i, j가 주어지면 i행, j열에 위치한 값 계산\n",
    "* 반환값: 지정된 방식으로 계산된 (i, j) 모양의 행렬"
   ]
  },
  {
   "cell_type": "code",
   "execution_count": 30,
   "metadata": {},
   "outputs": [],
   "source": [
    "def make_matrix(n, m, entry_fn):\n",
    "    \"\"\"\n",
    "    n: 행의 수\n",
    "    m: 열의 수\n",
    "    entry_fn: (i, j)에 대해 i행, j열에 위치한 항목 계산\n",
    "    \"\"\"\n",
    "    \n",
    "    return [ [entry_fn(i, j) for j in range(m)] for i in range(n) ]   "
   ]
  },
  {
   "attachments": {},
   "cell_type": "markdown",
   "metadata": {},
   "source": [
    "**0-행렬**\n",
    "\n",
    "0-행렬<font size='2'>zero matrix</font>이란 행렬의 모든 원소의 값이 0인 행렬을 말한다.\n",
    "예를 들어 아래 행렬은 (3, 2) 모양의 0-행렬이다.\n",
    "\n",
    "$$\n",
    "\\begin{bmatrix}\n",
    "    0 & 0 \\\\\n",
    "    0 & 0 \\\\\n",
    "    0 & 0\n",
    "\\end{bmatrix}\n",
    "$$"
   ]
  },
  {
   "attachments": {},
   "cell_type": "markdown",
   "metadata": {},
   "source": [
    "지정된 모양의 0-행렬을 생성하는 함수는 다음과 같다."
   ]
  },
  {
   "cell_type": "code",
   "execution_count": 31,
   "metadata": {},
   "outputs": [],
   "source": [
    "def zeros(x):\n",
    "    \"\"\"\n",
    "    x = (n, m), 단 n, m은 양의 정수\n",
    "    \"\"\"\n",
    "\n",
    "    n = x[0]\n",
    "    m = x[1]\n",
    "    \n",
    "    zero_function = lambda i, j: 0\n",
    "    \n",
    "    return make_matrix(n, m, zero_function)"
   ]
  },
  {
   "cell_type": "code",
   "execution_count": 32,
   "metadata": {},
   "outputs": [
    {
     "data": {
      "text/plain": [
       "[[0, 0, 0, 0, 0, 0, 0],\n",
       " [0, 0, 0, 0, 0, 0, 0],\n",
       " [0, 0, 0, 0, 0, 0, 0],\n",
       " [0, 0, 0, 0, 0, 0, 0],\n",
       " [0, 0, 0, 0, 0, 0, 0]]"
      ]
     },
     "execution_count": 32,
     "metadata": {},
     "output_type": "execute_result"
    }
   ],
   "source": [
    "zeros((5,7))"
   ]
  },
  {
   "attachments": {},
   "cell_type": "markdown",
   "metadata": {},
   "source": [
    "**1-행렬**\n",
    "\n",
    "1-행렬<font size='2'>one matrix</font>이란 행렬의 모든 원소의 값이 1인 행렬을 말한다.\n",
    "예를 들어 아래 행렬은 (3, 4) 모양의 1-행렬이다.\n",
    "\n",
    "$$\n",
    "\\begin{bmatrix}\n",
    "    1 & 1 & 1 & 1 \\\\\n",
    "    1 & 1 & 1 & 1 \\\\\n",
    "    1 & 1 & 1 & 1\n",
    "\\end{bmatrix}\n",
    "$$"
   ]
  },
  {
   "attachments": {},
   "cell_type": "markdown",
   "metadata": {},
   "source": [
    "지정된 모양의 1-행렬을 생성하는 함수는 다음과 같다."
   ]
  },
  {
   "cell_type": "code",
   "execution_count": 33,
   "metadata": {},
   "outputs": [],
   "source": [
    "def ones(x):\n",
    "    \"\"\"\n",
    "    x = (n, m), 단 n, m은 양의 정수\n",
    "    \"\"\"\n",
    "\n",
    "    n = x[0]\n",
    "    m = x[1]\n",
    "    \n",
    "    one_function = lambda i, j: 1\n",
    "    \n",
    "    return make_matrix(n, m, one_function)"
   ]
  },
  {
   "cell_type": "code",
   "execution_count": 34,
   "metadata": {},
   "outputs": [
    {
     "data": {
      "text/plain": [
       "[[1, 1, 1, 1, 1, 1, 1],\n",
       " [1, 1, 1, 1, 1, 1, 1],\n",
       " [1, 1, 1, 1, 1, 1, 1],\n",
       " [1, 1, 1, 1, 1, 1, 1],\n",
       " [1, 1, 1, 1, 1, 1, 1]]"
      ]
     },
     "execution_count": 34,
     "metadata": {},
     "output_type": "execute_result"
    }
   ],
   "source": [
    "ones((5,7))"
   ]
  },
  {
   "attachments": {},
   "cell_type": "markdown",
   "metadata": {},
   "source": [
    "**임의행렬**"
   ]
  },
  {
   "attachments": {},
   "cell_type": "markdown",
   "metadata": {},
   "source": [
    "임의행렬<font size='2'>random matrix</font>은 행렬의 항목이 임의의 수로 구성된 행렬을 가리킨다.\n",
    "여기서는 0과 1 사이의 임의의 수로만 구성된 임의행렬을 생성한다.\n",
    "이를 위해 `random` 모듈의 `random()` 함수를 이용한다."
   ]
  },
  {
   "cell_type": "code",
   "execution_count": 35,
   "metadata": {},
   "outputs": [],
   "source": [
    "import random"
   ]
  },
  {
   "attachments": {},
   "cell_type": "markdown",
   "metadata": {},
   "source": [
    "`random.random()` 함수는 [0, 1) 구간에서 임의의 수를 무작위로 생성한다."
   ]
  },
  {
   "cell_type": "code",
   "execution_count": 36,
   "metadata": {},
   "outputs": [
    {
     "data": {
      "text/plain": [
       "0.539417169327166"
      ]
     },
     "execution_count": 36,
     "metadata": {},
     "output_type": "execute_result"
    }
   ],
   "source": [
    "random.random()"
   ]
  },
  {
   "cell_type": "code",
   "execution_count": 37,
   "metadata": {},
   "outputs": [
    {
     "data": {
      "text/plain": [
       "0.8017145743073804"
      ]
     },
     "execution_count": 37,
     "metadata": {},
     "output_type": "execute_result"
    }
   ],
   "source": [
    "random.random()"
   ]
  },
  {
   "attachments": {},
   "cell_type": "markdown",
   "metadata": {},
   "source": [
    "지정된 모양의 임의행렬을 생성하는 함수는 다음과 같다."
   ]
  },
  {
   "cell_type": "code",
   "execution_count": 38,
   "metadata": {},
   "outputs": [],
   "source": [
    "def rand(n, m):\n",
    "    \"\"\"\n",
    "    n, m: 양의 정수\n",
    "    \"\"\"\n",
    "\n",
    "    random_function = lambda i, j: random.random()\n",
    "\n",
    "    return make_matrix(n, m, random_function)"
   ]
  },
  {
   "cell_type": "code",
   "execution_count": 39,
   "metadata": {},
   "outputs": [
    {
     "data": {
      "text/plain": [
       "[[0.17402779280992575, 0.1399943943998775, 0.3530959875580475],\n",
       " [0.5796463675564463, 0.1565756969383273, 0.39526173165663947],\n",
       " [0.22075396913252998, 0.10725107897939379, 0.35118015732747454],\n",
       " [0.7233205158961336, 0.9262679565721521, 0.8104645350895081],\n",
       " [0.8168121174815007, 0.19034862418715714, 0.47109848127936305]]"
      ]
     },
     "execution_count": 39,
     "metadata": {},
     "output_type": "execute_result"
    }
   ],
   "source": [
    "rand(5,3)"
   ]
  },
  {
   "attachments": {},
   "cell_type": "markdown",
   "metadata": {},
   "source": [
    "부동소수점을 소수점 아래 몇 자리까지만 보이도록 하기 위해 `round()` 함수를 이용할 수 있다.\n",
    "`rand()` 함수를 재정의 한다. \n",
    "이때 항목을 생성하는 함수에 필요한 소수점 이하 자릿수를 `ndigits=2` 키워드 매개변수가\n",
    "받도록 한다. 기본값은 2로 지정한다."
   ]
  },
  {
   "cell_type": "code",
   "execution_count": 40,
   "metadata": {},
   "outputs": [],
   "source": [
    "def rand(n, m, ndigits=2):\n",
    "    \"\"\"\n",
    "    n, m: 양의 정수\n",
    "    \"\"\"\n",
    "\n",
    "    random_function = lambda i, j: round(random.random(), ndigits)  # ndigits: 소수점 이하 자릿수\n",
    "\n",
    "    return make_matrix(n, m, random_function)"
   ]
  },
  {
   "attachments": {},
   "cell_type": "markdown",
   "metadata": {},
   "source": [
    "소수점 이하 셋째 자리에서 반올림한 값을 사용하도록 하려면\n",
    "기본 인자 2를 그대로 사용하면 되기에 굳이 셋째 인자를 지정할 필요가 없다."
   ]
  },
  {
   "cell_type": "code",
   "execution_count": 41,
   "metadata": {},
   "outputs": [
    {
     "data": {
      "text/plain": [
       "[[0.09, 0.53, 0.25],\n",
       " [0.42, 0.73, 0.93],\n",
       " [0.56, 0.34, 0.84],\n",
       " [0.74, 0.99, 0.34],\n",
       " [0.48, 0.13, 0.15]]"
      ]
     },
     "execution_count": 41,
     "metadata": {},
     "output_type": "execute_result"
    }
   ],
   "source": [
    "rand(5, 3)"
   ]
  },
  {
   "attachments": {},
   "cell_type": "markdown",
   "metadata": {},
   "source": [
    "소수점 아래 다섯째 자리까지 보이도록 하려면 셋째 인자를 5로 지정한다."
   ]
  },
  {
   "cell_type": "code",
   "execution_count": 42,
   "metadata": {},
   "outputs": [
    {
     "data": {
      "text/plain": [
       "[[0.62102, 0.63104, 0.52366],\n",
       " [0.14903, 0.16547, 0.94336],\n",
       " [0.44541, 0.52215, 0.747],\n",
       " [0.31979, 0.20534, 0.82856],\n",
       " [0.36443, 0.07318, 0.74367]]"
      ]
     },
     "execution_count": 42,
     "metadata": {},
     "output_type": "execute_result"
    }
   ],
   "source": [
    "rand(5, 3, 5)"
   ]
  },
  {
   "attachments": {},
   "cell_type": "markdown",
   "metadata": {},
   "source": [
    "키워드 매개변수 이름을 함께 사용해도 된다."
   ]
  },
  {
   "cell_type": "code",
   "execution_count": 43,
   "metadata": {},
   "outputs": [
    {
     "data": {
      "text/plain": [
       "[[0.95192, 0.31103, 0.40867],\n",
       " [0.80557, 0.85585, 0.70595],\n",
       " [0.51084, 0.10138, 0.99163],\n",
       " [0.52311, 0.78791, 0.05524],\n",
       " [0.99105, 0.63279, 0.60464]]"
      ]
     },
     "execution_count": 43,
     "metadata": {},
     "output_type": "execute_result"
    }
   ],
   "source": [
    "rand(5, 3, ndigits=5)"
   ]
  },
  {
   "attachments": {},
   "cell_type": "markdown",
   "metadata": {},
   "source": [
    "**항등행렬**\n",
    "\n",
    "항등행렬<font size='2'>identity matrix</font>은 정사각형 모양의 행렬 중에서 대각선 상에 위치한 항목은 1이고\n",
    "나머지는 0인 행렬을 말한다. \n",
    "예를 들어 아래 행렬은 (5, 5) 모양의 단위행렬이다.\n",
    "\n",
    "$$\n",
    "\\begin{bmatrix}\n",
    "    1&0&0&0&0 \\\\\n",
    "    0&1&0&0&0 \\\\\n",
    "    0&0&1&0&0 \\\\\n",
    "    0&0&0&1&0 \\\\\n",
    "    0&0&0&0&1\n",
    "\\end{bmatrix}\n",
    "$$\n",
    "\n",
    "단위행렬은 행과 열의 개수가 동일한 정방행렬이며,\n",
    "지정된 모양의 단위행렬을 생성하는 함수는 다음과 같다."
   ]
  },
  {
   "cell_type": "code",
   "execution_count": 44,
   "metadata": {},
   "outputs": [],
   "source": [
    "def identity(n):\n",
    "    \"\"\"\n",
    "    n: 양의 정수\n",
    "    \"\"\"\n",
    "    one_function = lambda i, j: 1 if i == j else 0\n",
    "    \n",
    "    return make_matrix(n, n, one_function)"
   ]
  },
  {
   "cell_type": "code",
   "execution_count": 45,
   "metadata": {},
   "outputs": [
    {
     "data": {
      "text/plain": [
       "[[1, 0, 0, 0, 0],\n",
       " [0, 1, 0, 0, 0],\n",
       " [0, 0, 1, 0, 0],\n",
       " [0, 0, 0, 1, 0],\n",
       " [0, 0, 0, 0, 1]]"
      ]
     },
     "execution_count": 45,
     "metadata": {},
     "output_type": "execute_result"
    }
   ],
   "source": [
    "identity(5)"
   ]
  },
  {
   "attachments": {},
   "cell_type": "markdown",
   "metadata": {},
   "source": [
    "### 행렬 연산"
   ]
  },
  {
   "attachments": {},
   "cell_type": "markdown",
   "metadata": {},
   "source": [
    "**행렬의 덧셈과 뺄셈**\n",
    "\n",
    "모양이 같은 두 행렬의 덧셈/뺄셈은 항목별로 더한/뺀 결과로 이루어진 행렬이다.\n",
    "즉, 벡터의 덧셈/뺄셈과 동일한 방식이다.\n",
    "예를 들어, $2 \\times 3$ 행렬의 덧셈/뺄셈은 다음과 같다."
   ]
  },
  {
   "attachments": {},
   "cell_type": "markdown",
   "metadata": {},
   "source": [
    "* 행렬 덧셈\n",
    "\n",
    "    $$\n",
    "    \\begin{align*}\n",
    "    \\begin{bmatrix}1&3&7\\\\1&0&0\\end{bmatrix} \n",
    "    + \\begin{bmatrix}0&0&5\\\\7&5&0\\end{bmatrix}\n",
    "    &= \\begin{bmatrix}1+0&3+0&7+5\\\\1+7&0+5&0+0\\end{bmatrix} \\\\[.5ex]\n",
    "    &= \\begin{bmatrix}1&3&12\\\\8&5&0\\end{bmatrix}\n",
    "    \\end{align*}\n",
    "    $$"
   ]
  },
  {
   "attachments": {},
   "cell_type": "markdown",
   "metadata": {},
   "source": [
    "* 행렬 뺄셈\n",
    "\n",
    "    $$\n",
    "    \\begin{align*}\n",
    "    \\begin{bmatrix}1&3&7\\\\1&0&0\\end{bmatrix} \n",
    "    - \\begin{bmatrix}0&0&5\\\\7&5&0\\end{bmatrix}\n",
    "    &= \\begin{bmatrix}1-0&3-0&7-5\\\\1-7&0-5&0-0\\end{bmatrix} \\\\[.5ex]\n",
    "    &= \\begin{bmatrix}1&3&2\\\\-6&-5&0\\end{bmatrix}\n",
    "    \\end{align*}\n",
    "    $$"
   ]
  },
  {
   "cell_type": "markdown",
   "metadata": {},
   "source": [
    "행렬의 덧셈과 뺄셈을 계산하는 함수는 다음과 같다."
   ]
  },
  {
   "cell_type": "code",
   "execution_count": 46,
   "metadata": {},
   "outputs": [],
   "source": [
    "def addM(A, B):\n",
    "    assert shape(A) == shape(B)\n",
    "    \n",
    "    m, n = shape(A)\n",
    "    \n",
    "    return make_matrix(m, n, lambda i, j: A[i][j] + B[i][j])\n",
    "\n",
    "def subtractM(A, B):\n",
    "    assert shape(A) == shape(B)\n",
    "    \n",
    "    m, n = shape(A)\n",
    "    \n",
    "    return make_matrix(m, n, lambda i, j: A[i][j] - B[i][j])"
   ]
  },
  {
   "cell_type": "code",
   "execution_count": 47,
   "metadata": {},
   "outputs": [],
   "source": [
    "C = [[1, 3, 7],\n",
    "     [1, 0, 0]]\n",
    "\n",
    "D = [[0, 0, 5], \n",
    "     [7, 5, 0]]"
   ]
  },
  {
   "cell_type": "code",
   "execution_count": 48,
   "metadata": {},
   "outputs": [
    {
     "data": {
      "text/plain": [
       "[[1, 3, 12], [8, 5, 0]]"
      ]
     },
     "execution_count": 48,
     "metadata": {},
     "output_type": "execute_result"
    }
   ],
   "source": [
    "addM(C, D)"
   ]
  },
  {
   "cell_type": "code",
   "execution_count": 49,
   "metadata": {},
   "outputs": [
    {
     "data": {
      "text/plain": [
       "[[1, 3, 2], [-6, -5, 0]]"
      ]
     },
     "execution_count": 49,
     "metadata": {},
     "output_type": "execute_result"
    }
   ],
   "source": [
    "subtractM(C, D)"
   ]
  },
  {
   "cell_type": "markdown",
   "metadata": {},
   "source": [
    "**행렬의 스칼라 곱셈**\n",
    "\n",
    "숫자 하나와 행렬의 곱셈을 행렬 스칼라 곱셈이라 부른다. \n",
    "스칼라 곱셈은 행렬의 각 항목을 지정된 숫자로 곱해 새로운 행렬을 생성한다.\n",
    "즉, 벡터의 스칼라 곱셈과 동일한 방식이다. \n",
    "\n",
    "예를 들어, (2, 3) 모양의 행렬의 스칼라 곱셈은 다음과 같다.\n",
    "\n",
    "$$\n",
    "\\begin{align*}\n",
    "2\\cdot \n",
    "\\begin{bmatrix}1&8&-3\\\\4&-2&5\\end{bmatrix}\n",
    "&= \\begin{bmatrix}2\\cdot 1&2\\cdot 8&2\\cdot -3\\\\2\\cdot 4&2\\cdot -2&2\\cdot 5\\end{bmatrix} \\\\[.5ex]\n",
    "&= \\begin{bmatrix}2&16&-6\\\\8&-4&10\\end{bmatrix}\n",
    "\\end{align*}\n",
    "$$"
   ]
  },
  {
   "cell_type": "markdown",
   "metadata": {},
   "source": [
    "**행렬 곱셈**\n",
    "\n",
    "$m \\times n$ 행렬 $A$와 $n \\times p$ 행렬 $B$의 곱은 $m \\times p$ 행렬이며, \n",
    "각 $(i, j)$번째 항목은 다음과 같이 정의된다."
   ]
  },
  {
   "cell_type": "markdown",
   "metadata": {},
   "source": [
    "$$\n",
    "\\begin{align*}\n",
    "(A B)_{ij}\n",
    "&= \\sum _{k=0}^{n-1} A_{ik} \\cdot B_{kj} \\\\\n",
    "&= A_{i0} \\cdot B_{0j} + A_{i2} \\cdot B_{2j} + \\cdots + A_{i(n-1)} \\cdot B_{(n-1)j}\n",
    "\\end{align*}\n",
    "$$"
   ]
  },
  {
   "cell_type": "markdown",
   "metadata": {},
   "source": [
    "그림으로 나타내면 다음과 같다."
   ]
  },
  {
   "cell_type": "markdown",
   "metadata": {},
   "source": [
    "<div align=\"center\"><img src=\"https://raw.githubusercontent.com/codingalzi/datapy/master/jupyter-book/images/Matrix_mult_diagram.png\" width=\"30%\"></div>\n",
    "\n",
    "출처: [위키백과](https://en.wikipedia.org/wiki/Dot_product)"
   ]
  },
  {
   "cell_type": "markdown",
   "metadata": {},
   "source": [
    "즉, 좌측 행렬 열의 수 $n$과 우측 행렬 행의 수 $n$이 같은 경우에만 곱셈이 가능하다.\n",
    "예를 들어, $2 \\times 3$ 행렬과 $3 \\times 2$ 행렬의 곱셈은 다음과 같다.\n",
    "\n",
    "$$\n",
    "\\begin{align*}\n",
    "\\begin{bmatrix}\n",
    "    1&0&2\\\\-1&3&1\n",
    "\\end{bmatrix}\n",
    "\\begin{bmatrix}\n",
    "    3&1\\\\2&1\\\\1&0\n",
    "\\end{bmatrix}\n",
    "&=\n",
    "\\begin{bmatrix}\n",
    "    (1\\cdot 3+0\\cdot 2+2\\cdot 1)&(1\\cdot 1+0\\cdot 1+2\\cdot 0)\\\\(-1\\cdot 3+3\\cdot 2+1\\cdot 1)&(-1\\cdot 1+3\\cdot 1+1\\cdot 0)\n",
    "\\end{bmatrix} \\\\[.5ex]\n",
    "&= \n",
    "\\begin{bmatrix}\n",
    "    5&1\\\\4&2\n",
    "\\end{bmatrix}\n",
    "\\end{align*}\n",
    "$$"
   ]
  },
  {
   "cell_type": "markdown",
   "metadata": {},
   "source": [
    "**행렬 곱셈과 벡터 내적**\n",
    "\n",
    "행렬 $A B$의 $(i, j)$번째 항목 $(A B)_{ij}$는\n",
    "벡터 내적과 깊이 연관되어 있다.\n",
    "\n",
    "먼저, $m \\times n$ 행렬 $A$와 $n \\times p$ 행렬 $B$의 곱 $A \\times B$의\n",
    "$(i, j)$ 번째 항목은 다음과 같다."
   ]
  },
  {
   "cell_type": "markdown",
   "metadata": {},
   "source": [
    "$$\n",
    "\\begin{align*}\n",
    "(A B)_{ij}\n",
    "&= \\sum _{k=0}^{n-1} A_{ik} \\cdot B_{kj} \\\\\n",
    "&= A_{i0} \\cdot B_{0j} + A_{i2} \\cdot B_{2j} + \\cdots + A_{i(n-1)} \\cdot B_{(n-1)j}\n",
    "\\end{align*}\n",
    "$$"
   ]
  },
  {
   "cell_type": "markdown",
   "metadata": {},
   "source": [
    "반면에 행렬 $A$의 $i$ 행벡터를 \n",
    "\n",
    "$$A^0_i = (A_{i0},\\dots, A_{i(n-1)}),$$\n",
    "\n",
    "행렬 $B$의 $j$ 열벡터를 \n",
    "\n",
    "$$B^1_j = (B_{0j},\\dots, B_{(n-1)j})$$\n",
    "\n",
    "라 할 때, 다음이 성립한다.\n",
    "\n",
    "$$\n",
    "A^0_i \\cdot B^1_j\n",
    "= A_{i0} \\cdot B_{0j} + A_{i2} \\cdot B_{2j} + \\cdots + A_{i(n-1)} \\cdot B_{(n-1)j}\n",
    "$$\n",
    "\n",
    "즉, $(A B)_{ij}$는 $A$의 $i$ 행벡터와 $B$의 $j$ 열벡터의 **내적**으로 정의된다."
   ]
  },
  {
   "cell_type": "markdown",
   "metadata": {},
   "source": [
    "예를 들어 $2 \\times 3$ 행렬과 $3 \\times 2$ 행렬의 곱셈을 다시 살펴보자."
   ]
  },
  {
   "cell_type": "markdown",
   "metadata": {},
   "source": [
    "$$\n",
    "\\begin{align*}\n",
    "\\begin{bmatrix}\n",
    "    1&0&2\\\\-1&3&1\n",
    "\\end{bmatrix}\n",
    "\\cdot \n",
    "\\begin{bmatrix}\n",
    "    3&1\\\\2&1\\\\1&0\n",
    "\\end{bmatrix}\n",
    "&=\n",
    "\\begin{bmatrix}\n",
    "    (1\\cdot 3+0\\cdot 2+2\\cdot 1)&(1\\cdot 1+0\\cdot 1+2\\cdot 0)\\\\(-1\\cdot 3+3\\cdot 2+1\\cdot 1)&(-1\\cdot 1+3\\cdot 1+1\\cdot 0)\n",
    "\\end{bmatrix} \\\\[.5ex]\n",
    "&= \n",
    "\\begin{bmatrix}\n",
    "    5&1\\\\4&2\n",
    "\\end{bmatrix}\n",
    "\\end{align*}\n",
    "$$"
   ]
  },
  {
   "cell_type": "markdown",
   "metadata": {},
   "source": [
    "위 계산을 벡터 내적으로 표현해보자.\n",
    "먼저 두 행렬 $A$와 $B$를 지정한다."
   ]
  },
  {
   "cell_type": "markdown",
   "metadata": {},
   "source": [
    "$$\n",
    "A = \\begin{bmatrix}\n",
    "    1&0&2\\\\-1&3&1\n",
    "\\end{bmatrix} \\text{,}\n",
    "\\qquad\n",
    "B = \\begin{bmatrix}\n",
    "    3&1\\\\2&1\\\\1&0\n",
    "\\end{bmatrix}\n",
    "$$"
   ]
  },
  {
   "cell_type": "markdown",
   "metadata": {},
   "source": [
    "그러면 \n",
    "\n",
    "$$(A\\cdot B)_{11} = -1\\cdot 1+3\\cdot 1+1\\cdot 0 = 2$$\n",
    "\n",
    "이고, 이것은 아래 결과와 동일하다."
   ]
  },
  {
   "cell_type": "markdown",
   "metadata": {},
   "source": [
    "$$\n",
    "\\begin{align*}\n",
    "A^0_1 \\cdot B^1_1\n",
    "&= \n",
    "\\begin{bmatrix}\n",
    "    -1&3&1\n",
    "\\end{bmatrix}\n",
    "\\cdot\n",
    "\\begin{bmatrix}\n",
    "    1 & 1 & 0\n",
    "\\end{bmatrix} \\\\[.5ex]\n",
    "&=\n",
    "-1\\cdot 1+3\\cdot 1+1\\cdot 0 \\\\\n",
    "&=\n",
    "2\n",
    "\\end{align*}\n",
    "$$"
   ]
  },
  {
   "cell_type": "markdown",
   "metadata": {},
   "source": [
    "**항등원**\n",
    "\n",
    "영행렬은 행렬 덧셈의 항등원이며, 단위행렬은 행렬 곱셈의 항등원이다."
   ]
  },
  {
   "cell_type": "markdown",
   "metadata": {},
   "source": [
    "$$\n",
    "\\begin{align*}\n",
    "\\begin{bmatrix}\n",
    "    3&1 \\\\\n",
    "    2&1 \\\\\n",
    "    1&0\n",
    "\\end{bmatrix}\n",
    "+\n",
    "\\begin{bmatrix}\n",
    "    0&0 \\\\ \n",
    "    0&0 \\\\\n",
    "    0&0\n",
    "\\end{bmatrix}\n",
    "&= \n",
    "\\begin{bmatrix}\n",
    "    (3+0)&(1+0)\\\\\n",
    "    (2+0)&(1+0)\\\\\n",
    "    (1+0)&(0+0)\n",
    "\\end{bmatrix} \\\\[.5ex]\n",
    "&= \n",
    "\\begin{bmatrix}\n",
    "    3&1\\\\\n",
    "    2&1\\\\\n",
    "    1&0\n",
    "\\end{bmatrix}\\\\[2ex]\n",
    "\\begin{bmatrix}\n",
    "    3&1 \\\\\n",
    "    2&1 \\\\\n",
    "    1&0\n",
    "\\end{bmatrix}\n",
    "\\begin{bmatrix}\n",
    "    1&0 \\\\ \n",
    "    0&1\n",
    "\\end{bmatrix}\n",
    "&=\n",
    "\\begin{bmatrix}\n",
    "    (3\\cdot 1+1\\cdot 0)&(3\\cdot 0+1\\cdot 1) \\\\\n",
    "    (2\\cdot 1+1\\cdot 0)&(2\\cdot 0+1\\cdot 1) \\\\\n",
    "    (1\\cdot 1+0\\cdot 0)&(1\\cdot 0+0\\cdot 1) \\\\\n",
    "\\end{bmatrix} \\\\[.5ex]\n",
    "&= \n",
    "\\begin{bmatrix}\n",
    "    3&1\\\\\n",
    "    2&1\\\\\n",
    "    1&0\n",
    "\\end{bmatrix}\n",
    "\\end{align*}\n",
    "$$"
   ]
  },
  {
   "cell_type": "markdown",
   "metadata": {},
   "source": [
    "**전치행렬**"
   ]
  },
  {
   "cell_type": "markdown",
   "metadata": {},
   "source": [
    "행렬의 **전치**란 행과 열을 바꾸는 것으로, 행렬 $A$의 전치는 $A^T$로 나타낸다. \n",
    "즉, $A$가 $m \\times n$ 행렬이면 $A^T$는 $n \\times m$ 행렬이며,\n",
    "그리고 $A^T$의 $i$행의 $j$열번째 값은 $A$의 $j$행의 $i$열번째 값이다. \n",
    "즉,\n",
    "\n",
    "$$\n",
    "A ^{T}_{ij} = A_{ji}\n",
    "$$"
   ]
  },
  {
   "cell_type": "markdown",
   "metadata": {},
   "source": [
    "예를 들어, $2\\times 3$ 행렬의 전치는 $3 \\times 2$ 행렬이 되며 다음과 같이 작동한다.\n",
    "\n",
    "$$\n",
    "\\begin{bmatrix}\n",
    "    9&8&7\\\\\n",
    "    -1&3&4\n",
    "\\end{bmatrix}^{T}\n",
    "=\n",
    "\\begin{bmatrix}\n",
    "    9&-1\\\\\n",
    "    8&3\\\\\n",
    "    7&4\n",
    "\\end{bmatrix}\n",
    "$$"
   ]
  },
  {
   "cell_type": "markdown",
   "metadata": {},
   "source": [
    "**전치행렬의 성질**"
   ]
  },
  {
   "cell_type": "markdown",
   "metadata": {},
   "source": [
    "$a$를 스칼라, $A, B$를 크기가 같은 행렬이라 하자. 이때 다음이 성립한다.\n",
    "\n",
    "* $(A^T)^T = A$\n",
    "* $(A + B)^T = A^T + B^T$\n",
    "* $(A - B)^T = A^T - B^T$\n",
    "* $(a\\cdot A)^T = a\\cdot A^T$\n",
    "* $(A B)^T = B^T A^T$"
   ]
  },
  {
   "cell_type": "markdown",
   "metadata": {},
   "source": [
    "## 연습문제"
   ]
  },
  {
   "cell_type": "markdown",
   "metadata": {},
   "source": [
    "참고: [(실습) 선형대수 기초 밑바닥부터](https://colab.research.google.com/github/codingalzi/datapy/blob/master/practices/practice-linear_algebra_basics.ipynb)"
   ]
  }
 ],
 "metadata": {
  "kernelspec": {
   "display_name": "base",
   "language": "python",
   "name": "python3"
  },
  "language_info": {
   "codemirror_mode": {
    "name": "ipython",
    "version": 3
   },
   "file_extension": ".py",
   "mimetype": "text/x-python",
   "name": "python",
   "nbconvert_exporter": "python",
   "pygments_lexer": "ipython3",
   "version": "3.9.7"
  },
  "vscode": {
   "interpreter": {
    "hash": "ad0f3c8a064f687cbf898a0868fd45ba1c7e928ac8a0404f7c241d812ddc1e76"
   }
  }
 },
 "nbformat": 4,
 "nbformat_minor": 2
}
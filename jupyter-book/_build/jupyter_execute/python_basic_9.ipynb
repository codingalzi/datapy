{
 "cells": [
  {
   "cell_type": "markdown",
   "id": "93eaa197",
   "metadata": {},
   "source": [
    "# 클래스, 인스턴스, 객체 (준비중)"
   ]
  },
  {
   "cell_type": "markdown",
   "id": "0dd2ec20",
   "metadata": {},
   "source": [
    "클래스, 인스턴스, 객체 간단히 소개"
   ]
  },
  {
   "cell_type": "markdown",
   "id": "ccfd51fb",
   "metadata": {},
   "source": [
    "- [파이썬 상속](https://codingalzi.github.io/pybook/inheritance.html)의 Vector 클래스를 상속을 사용하지 않고 직접 정의.\n",
    "- 그런 다음 [선형대수 기초](https://codingalzi.github.io/datapy/python_basic_7.html)를 Vector 클래스로 해결."
   ]
  }
 ],
 "metadata": {
  "kernelspec": {
   "display_name": "Python 3 (ipykernel)",
   "language": "python",
   "name": "python3"
  },
  "language_info": {
   "codemirror_mode": {
    "name": "ipython",
    "version": 3
   },
   "file_extension": ".py",
   "mimetype": "text/x-python",
   "name": "python",
   "nbconvert_exporter": "python",
   "pygments_lexer": "ipython3",
   "version": "3.10.9"
  }
 },
 "nbformat": 4,
 "nbformat_minor": 5
}
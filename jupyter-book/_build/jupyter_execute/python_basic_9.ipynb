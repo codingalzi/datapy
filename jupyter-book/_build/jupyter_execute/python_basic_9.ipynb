{
 "cells": [
  {
   "cell_type": "markdown",
   "id": "93eaa197",
   "metadata": {},
   "source": [
    "# 클래스, 객체, 상속 (준비중)"
   ]
  },
  {
   "cell_type": "markdown",
   "id": "0dd2ec20",
   "metadata": {},
   "source": [
    "클래스, 인스턴스, 객체, 상속 간단히 소개"
   ]
  },
  {
   "cell_type": "markdown",
   "id": "ccfd51fb",
   "metadata": {},
   "source": [
    "- [클래스의 기본 요소](https://codingalzi.github.io/pybook/proper_classes.html)의 Vector 클래스를 상속을 사용하지 않고 직접 정의.\n",
    "- 그런 다음 [선형대수 기초](https://codingalzi.github.io/datapy/from_scratch_1.html)를 Vector 클래스로 해결."
   ]
  }
 ],
 "metadata": {
  "kernelspec": {
   "display_name": "Python 3 (ipykernel)",
   "language": "python",
   "name": "python3"
  },
  "language_info": {
   "codemirror_mode": {
    "name": "ipython",
    "version": 3
   },
   "file_extension": ".py",
   "mimetype": "text/x-python",
   "name": "python",
   "nbconvert_exporter": "python",
   "pygments_lexer": "ipython3",
   "version": "3.11.4"
  }
 },
 "nbformat": 4,
 "nbformat_minor": 5
}
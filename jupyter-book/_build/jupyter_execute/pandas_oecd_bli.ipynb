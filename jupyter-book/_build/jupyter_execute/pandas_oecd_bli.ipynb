{
 "cells": [
  {
   "cell_type": "markdown",
   "metadata": {
    "id": "9LbtdzIIC1KF"
   },
   "source": [
    "(sec:oecd-bli)=\n",
    "# OECD 국가의 삶의 만족도"
   ]
  },
  {
   "cell_type": "markdown",
   "metadata": {
    "id": "LHGDi6R-C1KI"
   },
   "source": [
    "__참고:__ 오렐리앙 제롱의 [<핸즈온 머신러닝(2판)>](https://github.com/ageron/handson-ml2) \n",
    "1장의 소스코드를 사용합니다."
   ]
  },
  {
   "cell_type": "markdown",
   "metadata": {
    "id": "0eStRwPMC1KJ"
   },
   "source": [
    "## 주요 내용"
   ]
  },
  {
   "cell_type": "markdown",
   "metadata": {
    "id": "e8EL4SpeC1KJ"
   },
   "source": [
    "1인당 [GDP(국내총생산)](https://ko.wikipedia.org/wiki/%EA%B5%AD%EB%82%B4%EC%B4%9D%EC%83%9D%EC%82%B0)와 삶의 만족도 사이의 \n",
    "선형 관계를 예측하는 모델의 훈련과정을 자세하게 소개한다."
   ]
  },
  {
   "cell_type": "markdown",
   "metadata": {
    "id": "FK9lwyREC1KJ"
   },
   "source": [
    "**참고**\n",
    "\n",
    "핸즈온 머신러닝(3판)은 2020년 데이터를 사용하지만 여기서는 2판에서 사용하는 2015년도 데이터를 사용한다.\n",
    "2020년 데이터는 [연습문제](https://colab.research.google.com/github/codingalzi/handson-ml3/blob/master/practices/practice_ml_landscape.ipynb)에서 다룬다."
   ]
  },
  {
   "cell_type": "markdown",
   "metadata": {
    "id": "i3VsdS7c_yut"
   },
   "source": [
    "## 기본 설정"
   ]
  },
  {
   "cell_type": "markdown",
   "metadata": {
    "id": "F1CPYM7dC1KK"
   },
   "source": [
    "파이썬 3.7 이상을 요구한다."
   ]
  },
  {
   "cell_type": "code",
   "execution_count": 1,
   "metadata": {
    "id": "cZmuxunSC1KK"
   },
   "outputs": [],
   "source": [
    "import sys\n",
    "assert sys.version_info >= (3, 7)"
   ]
  },
  {
   "cell_type": "markdown",
   "metadata": {
    "id": "AgKrdUOYC1KL"
   },
   "source": [
    "넘파이와 판다스 모듈은 필수적이다."
   ]
  },
  {
   "cell_type": "code",
   "execution_count": 2,
   "metadata": {
    "id": "Pkthf-FMdXbW"
   },
   "outputs": [],
   "source": [
    "# 모듈: 넘파이와 판다스\n",
    "import numpy as np\n",
    "import pandas as pd"
   ]
  },
  {
   "cell_type": "markdown",
   "metadata": {
    "id": "pXm2da7xC1KL"
   },
   "source": [
    "머신러닝 모델은 무작위 선택을 실행한다.\n",
    "실행 결과를 매번 동일하게 유지하기 위해 랜덤 시드를 지정한다."
   ]
  },
  {
   "cell_type": "code",
   "execution_count": 3,
   "metadata": {
    "id": "u3CSzVKzC1KL"
   },
   "outputs": [],
   "source": [
    "# 랜덤 시드 설정: 동일한 실행 결과 얻기\n",
    "np.random.seed(42)"
   ]
  },
  {
   "cell_type": "markdown",
   "metadata": {
    "id": "AKi74CPkC1KM"
   },
   "source": [
    "그래프 출력에 필요한 기본 설정을 지정한다."
   ]
  },
  {
   "cell_type": "code",
   "execution_count": 4,
   "metadata": {
    "id": "zhaGTBv2C1KM"
   },
   "outputs": [],
   "source": [
    "# 그래프 출력 설정\n",
    "import matplotlib.pyplot as plt\n",
    "\n",
    "plt.rc('font', size=12)\n",
    "plt.rc('axes', labelsize=14, titlesize=14)\n",
    "plt.rc('legend', fontsize=12)\n",
    "plt.rc('xtick', labelsize=10)\n",
    "plt.rc('ytick', labelsize=10)"
   ]
  },
  {
   "cell_type": "markdown",
   "metadata": {
    "id": "u89IMVtLVOjN"
   },
   "source": [
    "판다스 기본 설정"
   ]
  },
  {
   "cell_type": "code",
   "execution_count": 5,
   "metadata": {
    "id": "aTX9oDbqVR0_"
   },
   "outputs": [],
   "source": [
    "pd.set_option('display.max_columns', None)"
   ]
  },
  {
   "cell_type": "markdown",
   "metadata": {
    "id": "ZWo2mNCGC1KM"
   },
   "source": [
    "## 선형회귀 모델 구현"
   ]
  },
  {
   "cell_type": "markdown",
   "metadata": {
    "id": "faY9oFaPC1KM"
   },
   "source": [
    "선형회귀 모델의 구현과정은 일반적으로 아래 다섯 단계로 이루어진다.\n",
    "\n",
    "1. 문제 정의\n",
    "1. 데이터 구하기\n",
    "1. 데이터 적재, 정제, 전처리\n",
    "1. 모델 선택과 훈련\n",
    "1. 모델 활용"
   ]
  },
  {
   "cell_type": "markdown",
   "metadata": {
    "id": "_lVvXk2aah6v"
   },
   "source": [
    "### 1단계: 문제 정의"
   ]
  },
  {
   "cell_type": "markdown",
   "metadata": {
    "id": "OgvHisuGC1KM"
   },
   "source": [
    "어느 국가의 1인당 GDP가 알려졌을 때 해당 국가의 삶의 만족도를 예측하는 모델을 구현해야 한다."
   ]
  },
  {
   "cell_type": "markdown",
   "metadata": {
    "id": "3Q6VS4Q0C1KM"
   },
   "source": [
    "### 2단계: 데이터 구하기"
   ]
  },
  {
   "cell_type": "markdown",
   "metadata": {
    "id": "UH3a-VlafLIh"
   },
   "source": [
    "모델 훈련에 사용되는 훈련 셋은 __입력__ 데이터 셋과 \n",
    "__타깃__<font size=\"2\">target</font> 데이터 셋으로 구분된다.\n",
    "모델 훈련은 입력 데이터와 타깃 데이터 사이의 관계를 가장 적절하게 \n",
    "묘사하는 모델을 학습하는 과정이다."
   ]
  },
  {
   "cell_type": "markdown",
   "metadata": {
    "id": "7MphB0vKC1KN"
   },
   "source": [
    "1인당 GDP와 삶의 만족도 사이의 관계를 가장 적절하게 묘사하는 모델의 훈련에\n",
    "사용되는 훈련 셋은 다음과 같다.\n",
    "\n",
    "- 입력 데이터\n",
    "    - 국가별 1인당 GDP 데이터\n",
    "    - 출처: [국제통화기금(IMF)](https://ko.wikipedia.org/wiki/%EA%B5%AD%EC%A0%9C_%ED%86%B5%ED%99%94_%EA%B8%B0%EA%B8%88#:~:text=%EA%B5%AD%EC%A0%9C%20%ED%86%B5%ED%99%94%20%EA%B8%B0%EA%B8%88(%E5%9C%8B%E9%9A%9B%E9%80%9A%E8%B2%A8,%EC%9C%84%EC%9E%84%EB%B0%9B%EC%9D%80%20%EA%B5%AD%EC%A0%9C%20%EA%B8%B0%EA%B5%AC%EC%9D%B4%EB%8B%A4.)의 \n",
    "['세계 경제전망 데이터베이스'](http://goo.gl/j1MSKe).\n",
    "- 타깃 데이터\n",
    "    - [OECD](https://ko.wikipedia.org/wiki/%EA%B2%BD%EC%A0%9C%ED%98%91%EB%A0%A5%EA%B0%9C%EB%B0%9C%EA%B8%B0%EA%B5%AC)\n",
    "    회원 국가별 '삶의 만족도'(life satisfaction) 데이터\n",
    "    - 출처: OECD의 \n",
    "        ['더 나은 삶의 지수'(BLI, Better Life Index)](https://stats.oecd.org/Index.aspx?DataSetCode=BLI)."
   ]
  },
  {
   "cell_type": "markdown",
   "metadata": {
    "id": "u2gTcuoeC1KN"
   },
   "source": [
    "훈련 데이터 구하는 과정을 여기서는 \n",
    "특정 서버에 저장된 다음 두 개의 csv 파일을 다운로드하는 것으로 대체한다.\n",
    "\n",
    "* gdp_per_capita_2015.csv\n",
    "    - IMF(국제통화기금)에 제공하는 1인당 국내총생산 데이터(GDP) 데이터\n",
    "* oecd_bli_2015.csv\n",
    "    - 2015년도 기준 OECD 국가들의 '더 나은 삶의 지수'(BLI) 데이터"
   ]
  },
  {
   "cell_type": "markdown",
   "metadata": {
    "id": "kRfyzb-iC1KN"
   },
   "source": [
    "최종적으로 아래 표와 같은 데이터를 생성해야 하는데 언급된 데이터 파일을 다운로드 하면 전혀\n",
    "다른 모양의 데이터가 파일에 포함되어 있다.\n",
    "이어지는 3단계에서 원본 데이터 파일에서 아래 모양의 표를 어떻게 유도해낼 수 있는지\n",
    "자세히 설명한다. \n",
    "설명 이해가 어렵다면 4단계로 넘아가도 선형회귀 모델의 훈련 과정을 이해할 수 있다.\n",
    "하지만 훈련 보다는 데이터를 준비하는 과정이 일반적으로 더 중요하기에 3단계를 \n",
    "최대한 이해하도록 노력할 것을 권장한다."
   ]
  },
  {
   "cell_type": "markdown",
   "metadata": {
    "id": "zTrizpZbC1KN"
   },
   "source": [
    "| 국가 | 1인당 GDP(미국 달러) | 삶의 만족도 |\n",
    "| :--- | :--- | :--- |\n",
    "| 헝가리 | 12,240 | 4.9 |\n",
    "| 한국 | 27,195 | 5.8 |\n",
    "| 프랑스 | 37,675 | 6.5 |\n",
    "| 호주 | 50,9672 | 7.3 |\n",
    "| 미국 | 55,805 | 7.2 |"
   ]
  },
  {
   "cell_type": "markdown",
   "metadata": {
    "id": "1oKdsRdEfLIh"
   },
   "source": [
    "### 3단계: 데이터 적재, 정제, 전처리"
   ]
  },
  {
   "cell_type": "markdown",
   "metadata": {
    "id": "tZTHzk8xC1KN"
   },
   "source": [
    "컴퓨터에 저장된 또는 다운로드된 데이터는 일반적으로 바로 모델 훈련에 사용할 수 없으며, \n",
    "데이터 적재, 데이터 정제, 데이터 전처리 등의 과정을 거쳐야 비로소 모델 훈련에 활용될 수 있다.\n",
    "\n",
    "* __데이터 적재__(data loading): 서버에 존재하거나 컴퓨터에 저장되어 있는 파일을 \n",
    "    특정 자료형의 값으로 불러오는 과정\n",
    "\n",
    "* __데이터 정제__(data cleaning): 적재된 데이터 셋에 포함된 오류, 부정확한 값, \n",
    "    누락된 값, 상관없는 값 등을 제거, 수정, 보완하는 과정\n",
    "\n",
    "* __데이터 전처리__(data preprocessing): 정제된 데이터 셋을 모델 훈련에 적절한 형식으로 변환하거나\n",
    "    적절한 내용의 데이터를 추가하거나 삭제하는 과정"
   ]
  },
  {
   "cell_type": "markdown",
   "metadata": {
    "id": "RQmkDH-3fLIi"
   },
   "source": [
    "#### 1인당 GDP 데이터 적재, 정제, 전처리"
   ]
  },
  {
   "cell_type": "markdown",
   "metadata": {
    "id": "eF75ITQKFJpi"
   },
   "source": [
    "2015년 기준 국가별 1인당 GDP 관련 데이터가 저장되어 있는 서버 주소는 다음과 같다."
   ]
  },
  {
   "cell_type": "code",
   "execution_count": 6,
   "metadata": {
    "id": "dipvGb2yC1KO"
   },
   "outputs": [],
   "source": [
    "datapath = \"https://raw.githubusercontent.com/codingalzi/handson-ml3/master/notebooks/data/lifesat/\""
   ]
  },
  {
   "cell_type": "markdown",
   "metadata": {
    "id": "Hgnbv-XWC1KO"
   },
   "source": [
    "판다스의 `read_csv()` 함수는 지정된 경로에 저장된 csv 을 판다스의 데이터프레임 객체로 적재한다.\n",
    "적재할 때 사용되는 옵션 인자는 다음과 같다.\n",
    "\n",
    "- `thousands=','`: 1000단위로 쉼표 찍기\n",
    "- `delimiter='\\t'`: 탭(tab)으로 열 구분\n",
    "- `encoding='latin1'`: 인코딩 방식 지정. 파일에서 사용된 'C&ocirc;te d'Ivoire'(코트디브와르)와 같은 특수 알파벳을 사용하는 국가명 처리 용도임.\n",
    "- `na_values=\"n/a\"`: 결측치를 'NaN'으로 처리."
   ]
  },
  {
   "cell_type": "code",
   "execution_count": 7,
   "metadata": {
    "id": "4KOHAUozfLIi"
   },
   "outputs": [],
   "source": [
    "gdp_per_capita_2015 = pd.read_csv(datapath + \"gdp_per_capita_2015.csv\", \n",
    "                             thousands=',', \n",
    "                             delimiter='\\t',\n",
    "                             encoding='latin1', \n",
    "                             na_values=\"n/a\")"
   ]
  },
  {
   "cell_type": "markdown",
   "metadata": {
    "id": "XuzC3TR8C1KO"
   },
   "source": [
    "총 190개 국가의 1인당 GDP 정보를 담고 있다."
   ]
  },
  {
   "cell_type": "code",
   "execution_count": 8,
   "metadata": {
    "colab": {
     "base_uri": "https://localhost:8080/",
     "height": 423
    },
    "id": "pAFyCzNSC1KO",
    "outputId": "181089c7-28e7-4497-8032-454dbdf1f7eb",
    "scrolled": true
   },
   "outputs": [
    {
     "data": {
      "text/html": [
       "<div>\n",
       "<style scoped>\n",
       "    .dataframe tbody tr th:only-of-type {\n",
       "        vertical-align: middle;\n",
       "    }\n",
       "\n",
       "    .dataframe tbody tr th {\n",
       "        vertical-align: top;\n",
       "    }\n",
       "\n",
       "    .dataframe thead th {\n",
       "        text-align: right;\n",
       "    }\n",
       "</style>\n",
       "<table border=\"1\" class=\"dataframe\">\n",
       "  <thead>\n",
       "    <tr style=\"text-align: right;\">\n",
       "      <th></th>\n",
       "      <th>Country</th>\n",
       "      <th>Subject Descriptor</th>\n",
       "      <th>Units</th>\n",
       "      <th>Scale</th>\n",
       "      <th>Country/Series-specific Notes</th>\n",
       "      <th>2015</th>\n",
       "      <th>Estimates Start After</th>\n",
       "    </tr>\n",
       "  </thead>\n",
       "  <tbody>\n",
       "    <tr>\n",
       "      <th>0</th>\n",
       "      <td>Afghanistan</td>\n",
       "      <td>Gross domestic product per capita, current prices</td>\n",
       "      <td>U.S. dollars</td>\n",
       "      <td>Units</td>\n",
       "      <td>See notes for:  Gross domestic product, curren...</td>\n",
       "      <td>599.994</td>\n",
       "      <td>2013.0</td>\n",
       "    </tr>\n",
       "    <tr>\n",
       "      <th>1</th>\n",
       "      <td>Albania</td>\n",
       "      <td>Gross domestic product per capita, current prices</td>\n",
       "      <td>U.S. dollars</td>\n",
       "      <td>Units</td>\n",
       "      <td>See notes for:  Gross domestic product, curren...</td>\n",
       "      <td>3995.383</td>\n",
       "      <td>2010.0</td>\n",
       "    </tr>\n",
       "    <tr>\n",
       "      <th>2</th>\n",
       "      <td>Algeria</td>\n",
       "      <td>Gross domestic product per capita, current prices</td>\n",
       "      <td>U.S. dollars</td>\n",
       "      <td>Units</td>\n",
       "      <td>See notes for:  Gross domestic product, curren...</td>\n",
       "      <td>4318.135</td>\n",
       "      <td>2014.0</td>\n",
       "    </tr>\n",
       "    <tr>\n",
       "      <th>3</th>\n",
       "      <td>Angola</td>\n",
       "      <td>Gross domestic product per capita, current prices</td>\n",
       "      <td>U.S. dollars</td>\n",
       "      <td>Units</td>\n",
       "      <td>See notes for:  Gross domestic product, curren...</td>\n",
       "      <td>4100.315</td>\n",
       "      <td>2014.0</td>\n",
       "    </tr>\n",
       "    <tr>\n",
       "      <th>4</th>\n",
       "      <td>Antigua and Barbuda</td>\n",
       "      <td>Gross domestic product per capita, current prices</td>\n",
       "      <td>U.S. dollars</td>\n",
       "      <td>Units</td>\n",
       "      <td>See notes for:  Gross domestic product, curren...</td>\n",
       "      <td>14414.302</td>\n",
       "      <td>2011.0</td>\n",
       "    </tr>\n",
       "    <tr>\n",
       "      <th>...</th>\n",
       "      <td>...</td>\n",
       "      <td>...</td>\n",
       "      <td>...</td>\n",
       "      <td>...</td>\n",
       "      <td>...</td>\n",
       "      <td>...</td>\n",
       "      <td>...</td>\n",
       "    </tr>\n",
       "    <tr>\n",
       "      <th>185</th>\n",
       "      <td>Vietnam</td>\n",
       "      <td>Gross domestic product per capita, current prices</td>\n",
       "      <td>U.S. dollars</td>\n",
       "      <td>Units</td>\n",
       "      <td>See notes for:  Gross domestic product, curren...</td>\n",
       "      <td>2088.344</td>\n",
       "      <td>2012.0</td>\n",
       "    </tr>\n",
       "    <tr>\n",
       "      <th>186</th>\n",
       "      <td>Yemen</td>\n",
       "      <td>Gross domestic product per capita, current prices</td>\n",
       "      <td>U.S. dollars</td>\n",
       "      <td>Units</td>\n",
       "      <td>See notes for:  Gross domestic product, curren...</td>\n",
       "      <td>1302.940</td>\n",
       "      <td>2008.0</td>\n",
       "    </tr>\n",
       "    <tr>\n",
       "      <th>187</th>\n",
       "      <td>Zambia</td>\n",
       "      <td>Gross domestic product per capita, current prices</td>\n",
       "      <td>U.S. dollars</td>\n",
       "      <td>Units</td>\n",
       "      <td>See notes for:  Gross domestic product, curren...</td>\n",
       "      <td>1350.151</td>\n",
       "      <td>2010.0</td>\n",
       "    </tr>\n",
       "    <tr>\n",
       "      <th>188</th>\n",
       "      <td>Zimbabwe</td>\n",
       "      <td>Gross domestic product per capita, current prices</td>\n",
       "      <td>U.S. dollars</td>\n",
       "      <td>Units</td>\n",
       "      <td>See notes for:  Gross domestic product, curren...</td>\n",
       "      <td>1064.350</td>\n",
       "      <td>2012.0</td>\n",
       "    </tr>\n",
       "    <tr>\n",
       "      <th>189</th>\n",
       "      <td>International Monetary Fund, World Economic Ou...</td>\n",
       "      <td>NaN</td>\n",
       "      <td>NaN</td>\n",
       "      <td>NaN</td>\n",
       "      <td>NaN</td>\n",
       "      <td>NaN</td>\n",
       "      <td>NaN</td>\n",
       "    </tr>\n",
       "  </tbody>\n",
       "</table>\n",
       "<p>190 rows × 7 columns</p>\n",
       "</div>"
      ],
      "text/plain": [
       "                                               Country  \\\n",
       "0                                          Afghanistan   \n",
       "1                                              Albania   \n",
       "2                                              Algeria   \n",
       "3                                               Angola   \n",
       "4                                  Antigua and Barbuda   \n",
       "..                                                 ...   \n",
       "185                                            Vietnam   \n",
       "186                                              Yemen   \n",
       "187                                             Zambia   \n",
       "188                                           Zimbabwe   \n",
       "189  International Monetary Fund, World Economic Ou...   \n",
       "\n",
       "                                    Subject Descriptor         Units  Scale  \\\n",
       "0    Gross domestic product per capita, current prices  U.S. dollars  Units   \n",
       "1    Gross domestic product per capita, current prices  U.S. dollars  Units   \n",
       "2    Gross domestic product per capita, current prices  U.S. dollars  Units   \n",
       "3    Gross domestic product per capita, current prices  U.S. dollars  Units   \n",
       "4    Gross domestic product per capita, current prices  U.S. dollars  Units   \n",
       "..                                                 ...           ...    ...   \n",
       "185  Gross domestic product per capita, current prices  U.S. dollars  Units   \n",
       "186  Gross domestic product per capita, current prices  U.S. dollars  Units   \n",
       "187  Gross domestic product per capita, current prices  U.S. dollars  Units   \n",
       "188  Gross domestic product per capita, current prices  U.S. dollars  Units   \n",
       "189                                                NaN           NaN    NaN   \n",
       "\n",
       "                         Country/Series-specific Notes       2015  \\\n",
       "0    See notes for:  Gross domestic product, curren...    599.994   \n",
       "1    See notes for:  Gross domestic product, curren...   3995.383   \n",
       "2    See notes for:  Gross domestic product, curren...   4318.135   \n",
       "3    See notes for:  Gross domestic product, curren...   4100.315   \n",
       "4    See notes for:  Gross domestic product, curren...  14414.302   \n",
       "..                                                 ...        ...   \n",
       "185  See notes for:  Gross domestic product, curren...   2088.344   \n",
       "186  See notes for:  Gross domestic product, curren...   1302.940   \n",
       "187  See notes for:  Gross domestic product, curren...   1350.151   \n",
       "188  See notes for:  Gross domestic product, curren...   1064.350   \n",
       "189                                                NaN        NaN   \n",
       "\n",
       "     Estimates Start After  \n",
       "0                   2013.0  \n",
       "1                   2010.0  \n",
       "2                   2014.0  \n",
       "3                   2014.0  \n",
       "4                   2011.0  \n",
       "..                     ...  \n",
       "185                 2012.0  \n",
       "186                 2008.0  \n",
       "187                 2010.0  \n",
       "188                 2012.0  \n",
       "189                    NaN  \n",
       "\n",
       "[190 rows x 7 columns]"
      ]
     },
     "execution_count": 8,
     "metadata": {},
     "output_type": "execute_result"
    }
   ],
   "source": [
    "gdp_per_capita_2015"
   ]
  },
  {
   "cell_type": "markdown",
   "metadata": {
    "id": "MpWTktncC1KP",
    "outputId": "8ac53511-cbd4-438f-9153-a4c526c8362c"
   },
   "source": [
    "국가명을 행 인덱스로 지정한다."
   ]
  },
  {
   "cell_type": "code",
   "execution_count": 9,
   "metadata": {
    "colab": {
     "base_uri": "https://localhost:8080/",
     "height": 455
    },
    "id": "uaS6TyEDC1KP",
    "outputId": "b359cb54-2444-4b2d-b384-e17964b1dab9"
   },
   "outputs": [
    {
     "data": {
      "text/html": [
       "<div>\n",
       "<style scoped>\n",
       "    .dataframe tbody tr th:only-of-type {\n",
       "        vertical-align: middle;\n",
       "    }\n",
       "\n",
       "    .dataframe tbody tr th {\n",
       "        vertical-align: top;\n",
       "    }\n",
       "\n",
       "    .dataframe thead th {\n",
       "        text-align: right;\n",
       "    }\n",
       "</style>\n",
       "<table border=\"1\" class=\"dataframe\">\n",
       "  <thead>\n",
       "    <tr style=\"text-align: right;\">\n",
       "      <th></th>\n",
       "      <th>Subject Descriptor</th>\n",
       "      <th>Units</th>\n",
       "      <th>Scale</th>\n",
       "      <th>Country/Series-specific Notes</th>\n",
       "      <th>2015</th>\n",
       "      <th>Estimates Start After</th>\n",
       "    </tr>\n",
       "    <tr>\n",
       "      <th>Country</th>\n",
       "      <th></th>\n",
       "      <th></th>\n",
       "      <th></th>\n",
       "      <th></th>\n",
       "      <th></th>\n",
       "      <th></th>\n",
       "    </tr>\n",
       "  </thead>\n",
       "  <tbody>\n",
       "    <tr>\n",
       "      <th>Afghanistan</th>\n",
       "      <td>Gross domestic product per capita, current prices</td>\n",
       "      <td>U.S. dollars</td>\n",
       "      <td>Units</td>\n",
       "      <td>See notes for:  Gross domestic product, curren...</td>\n",
       "      <td>599.994</td>\n",
       "      <td>2013.0</td>\n",
       "    </tr>\n",
       "    <tr>\n",
       "      <th>Albania</th>\n",
       "      <td>Gross domestic product per capita, current prices</td>\n",
       "      <td>U.S. dollars</td>\n",
       "      <td>Units</td>\n",
       "      <td>See notes for:  Gross domestic product, curren...</td>\n",
       "      <td>3995.383</td>\n",
       "      <td>2010.0</td>\n",
       "    </tr>\n",
       "    <tr>\n",
       "      <th>Algeria</th>\n",
       "      <td>Gross domestic product per capita, current prices</td>\n",
       "      <td>U.S. dollars</td>\n",
       "      <td>Units</td>\n",
       "      <td>See notes for:  Gross domestic product, curren...</td>\n",
       "      <td>4318.135</td>\n",
       "      <td>2014.0</td>\n",
       "    </tr>\n",
       "    <tr>\n",
       "      <th>Angola</th>\n",
       "      <td>Gross domestic product per capita, current prices</td>\n",
       "      <td>U.S. dollars</td>\n",
       "      <td>Units</td>\n",
       "      <td>See notes for:  Gross domestic product, curren...</td>\n",
       "      <td>4100.315</td>\n",
       "      <td>2014.0</td>\n",
       "    </tr>\n",
       "    <tr>\n",
       "      <th>Antigua and Barbuda</th>\n",
       "      <td>Gross domestic product per capita, current prices</td>\n",
       "      <td>U.S. dollars</td>\n",
       "      <td>Units</td>\n",
       "      <td>See notes for:  Gross domestic product, curren...</td>\n",
       "      <td>14414.302</td>\n",
       "      <td>2011.0</td>\n",
       "    </tr>\n",
       "    <tr>\n",
       "      <th>...</th>\n",
       "      <td>...</td>\n",
       "      <td>...</td>\n",
       "      <td>...</td>\n",
       "      <td>...</td>\n",
       "      <td>...</td>\n",
       "      <td>...</td>\n",
       "    </tr>\n",
       "    <tr>\n",
       "      <th>Vietnam</th>\n",
       "      <td>Gross domestic product per capita, current prices</td>\n",
       "      <td>U.S. dollars</td>\n",
       "      <td>Units</td>\n",
       "      <td>See notes for:  Gross domestic product, curren...</td>\n",
       "      <td>2088.344</td>\n",
       "      <td>2012.0</td>\n",
       "    </tr>\n",
       "    <tr>\n",
       "      <th>Yemen</th>\n",
       "      <td>Gross domestic product per capita, current prices</td>\n",
       "      <td>U.S. dollars</td>\n",
       "      <td>Units</td>\n",
       "      <td>See notes for:  Gross domestic product, curren...</td>\n",
       "      <td>1302.940</td>\n",
       "      <td>2008.0</td>\n",
       "    </tr>\n",
       "    <tr>\n",
       "      <th>Zambia</th>\n",
       "      <td>Gross domestic product per capita, current prices</td>\n",
       "      <td>U.S. dollars</td>\n",
       "      <td>Units</td>\n",
       "      <td>See notes for:  Gross domestic product, curren...</td>\n",
       "      <td>1350.151</td>\n",
       "      <td>2010.0</td>\n",
       "    </tr>\n",
       "    <tr>\n",
       "      <th>Zimbabwe</th>\n",
       "      <td>Gross domestic product per capita, current prices</td>\n",
       "      <td>U.S. dollars</td>\n",
       "      <td>Units</td>\n",
       "      <td>See notes for:  Gross domestic product, curren...</td>\n",
       "      <td>1064.350</td>\n",
       "      <td>2012.0</td>\n",
       "    </tr>\n",
       "    <tr>\n",
       "      <th>International Monetary Fund, World Economic Outlook Database, April 2016</th>\n",
       "      <td>NaN</td>\n",
       "      <td>NaN</td>\n",
       "      <td>NaN</td>\n",
       "      <td>NaN</td>\n",
       "      <td>NaN</td>\n",
       "      <td>NaN</td>\n",
       "    </tr>\n",
       "  </tbody>\n",
       "</table>\n",
       "<p>190 rows × 6 columns</p>\n",
       "</div>"
      ],
      "text/plain": [
       "                                                                                   Subject Descriptor  \\\n",
       "Country                                                                                                 \n",
       "Afghanistan                                         Gross domestic product per capita, current prices   \n",
       "Albania                                             Gross domestic product per capita, current prices   \n",
       "Algeria                                             Gross domestic product per capita, current prices   \n",
       "Angola                                              Gross domestic product per capita, current prices   \n",
       "Antigua and Barbuda                                 Gross domestic product per capita, current prices   \n",
       "...                                                                                               ...   \n",
       "Vietnam                                             Gross domestic product per capita, current prices   \n",
       "Yemen                                               Gross domestic product per capita, current prices   \n",
       "Zambia                                              Gross domestic product per capita, current prices   \n",
       "Zimbabwe                                            Gross domestic product per capita, current prices   \n",
       "International Monetary Fund, World Economic Out...                                                NaN   \n",
       "\n",
       "                                                           Units  Scale  \\\n",
       "Country                                                                   \n",
       "Afghanistan                                         U.S. dollars  Units   \n",
       "Albania                                             U.S. dollars  Units   \n",
       "Algeria                                             U.S. dollars  Units   \n",
       "Angola                                              U.S. dollars  Units   \n",
       "Antigua and Barbuda                                 U.S. dollars  Units   \n",
       "...                                                          ...    ...   \n",
       "Vietnam                                             U.S. dollars  Units   \n",
       "Yemen                                               U.S. dollars  Units   \n",
       "Zambia                                              U.S. dollars  Units   \n",
       "Zimbabwe                                            U.S. dollars  Units   \n",
       "International Monetary Fund, World Economic Out...           NaN    NaN   \n",
       "\n",
       "                                                                        Country/Series-specific Notes  \\\n",
       "Country                                                                                                 \n",
       "Afghanistan                                         See notes for:  Gross domestic product, curren...   \n",
       "Albania                                             See notes for:  Gross domestic product, curren...   \n",
       "Algeria                                             See notes for:  Gross domestic product, curren...   \n",
       "Angola                                              See notes for:  Gross domestic product, curren...   \n",
       "Antigua and Barbuda                                 See notes for:  Gross domestic product, curren...   \n",
       "...                                                                                               ...   \n",
       "Vietnam                                             See notes for:  Gross domestic product, curren...   \n",
       "Yemen                                               See notes for:  Gross domestic product, curren...   \n",
       "Zambia                                              See notes for:  Gross domestic product, curren...   \n",
       "Zimbabwe                                            See notes for:  Gross domestic product, curren...   \n",
       "International Monetary Fund, World Economic Out...                                                NaN   \n",
       "\n",
       "                                                         2015  \\\n",
       "Country                                                         \n",
       "Afghanistan                                           599.994   \n",
       "Albania                                              3995.383   \n",
       "Algeria                                              4318.135   \n",
       "Angola                                               4100.315   \n",
       "Antigua and Barbuda                                 14414.302   \n",
       "...                                                       ...   \n",
       "Vietnam                                              2088.344   \n",
       "Yemen                                                1302.940   \n",
       "Zambia                                               1350.151   \n",
       "Zimbabwe                                             1064.350   \n",
       "International Monetary Fund, World Economic Out...        NaN   \n",
       "\n",
       "                                                    Estimates Start After  \n",
       "Country                                                                    \n",
       "Afghanistan                                                        2013.0  \n",
       "Albania                                                            2010.0  \n",
       "Algeria                                                            2014.0  \n",
       "Angola                                                             2014.0  \n",
       "Antigua and Barbuda                                                2011.0  \n",
       "...                                                                   ...  \n",
       "Vietnam                                                            2012.0  \n",
       "Yemen                                                              2008.0  \n",
       "Zambia                                                             2010.0  \n",
       "Zimbabwe                                                           2012.0  \n",
       "International Monetary Fund, World Economic Out...                    NaN  \n",
       "\n",
       "[190 rows x 6 columns]"
      ]
     },
     "execution_count": 9,
     "metadata": {},
     "output_type": "execute_result"
    }
   ],
   "source": [
    "gdp_per_capita_2015.set_index(\"Country\", inplace=True)\n",
    "\n",
    "gdp_per_capita_2015"
   ]
  },
  {
   "cell_type": "markdown",
   "metadata": {
    "id": "XFBz3pCgC1KP",
    "outputId": "8ac53511-cbd4-438f-9153-a4c526c8362c"
   },
   "source": [
    "이어서 1인당 GDP 데이터임을 명시하기 위해 열 이름 `\"2015\"`를 `\"GDP per capita\"`로 변경한다."
   ]
  },
  {
   "cell_type": "code",
   "execution_count": 10,
   "metadata": {
    "colab": {
     "base_uri": "https://localhost:8080/",
     "height": 237
    },
    "id": "ckNemk0LC1KP",
    "outputId": "c73653b7-b0f6-4a01-dbd2-55905ef3d313"
   },
   "outputs": [
    {
     "data": {
      "text/html": [
       "<div>\n",
       "<style scoped>\n",
       "    .dataframe tbody tr th:only-of-type {\n",
       "        vertical-align: middle;\n",
       "    }\n",
       "\n",
       "    .dataframe tbody tr th {\n",
       "        vertical-align: top;\n",
       "    }\n",
       "\n",
       "    .dataframe thead th {\n",
       "        text-align: right;\n",
       "    }\n",
       "</style>\n",
       "<table border=\"1\" class=\"dataframe\">\n",
       "  <thead>\n",
       "    <tr style=\"text-align: right;\">\n",
       "      <th></th>\n",
       "      <th>Subject Descriptor</th>\n",
       "      <th>Units</th>\n",
       "      <th>Scale</th>\n",
       "      <th>Country/Series-specific Notes</th>\n",
       "      <th>GDP per capita</th>\n",
       "      <th>Estimates Start After</th>\n",
       "    </tr>\n",
       "    <tr>\n",
       "      <th>Country</th>\n",
       "      <th></th>\n",
       "      <th></th>\n",
       "      <th></th>\n",
       "      <th></th>\n",
       "      <th></th>\n",
       "      <th></th>\n",
       "    </tr>\n",
       "  </thead>\n",
       "  <tbody>\n",
       "    <tr>\n",
       "      <th>Afghanistan</th>\n",
       "      <td>Gross domestic product per capita, current prices</td>\n",
       "      <td>U.S. dollars</td>\n",
       "      <td>Units</td>\n",
       "      <td>See notes for:  Gross domestic product, curren...</td>\n",
       "      <td>599.994</td>\n",
       "      <td>2013.0</td>\n",
       "    </tr>\n",
       "    <tr>\n",
       "      <th>Albania</th>\n",
       "      <td>Gross domestic product per capita, current prices</td>\n",
       "      <td>U.S. dollars</td>\n",
       "      <td>Units</td>\n",
       "      <td>See notes for:  Gross domestic product, curren...</td>\n",
       "      <td>3995.383</td>\n",
       "      <td>2010.0</td>\n",
       "    </tr>\n",
       "    <tr>\n",
       "      <th>Algeria</th>\n",
       "      <td>Gross domestic product per capita, current prices</td>\n",
       "      <td>U.S. dollars</td>\n",
       "      <td>Units</td>\n",
       "      <td>See notes for:  Gross domestic product, curren...</td>\n",
       "      <td>4318.135</td>\n",
       "      <td>2014.0</td>\n",
       "    </tr>\n",
       "    <tr>\n",
       "      <th>Angola</th>\n",
       "      <td>Gross domestic product per capita, current prices</td>\n",
       "      <td>U.S. dollars</td>\n",
       "      <td>Units</td>\n",
       "      <td>See notes for:  Gross domestic product, curren...</td>\n",
       "      <td>4100.315</td>\n",
       "      <td>2014.0</td>\n",
       "    </tr>\n",
       "    <tr>\n",
       "      <th>Antigua and Barbuda</th>\n",
       "      <td>Gross domestic product per capita, current prices</td>\n",
       "      <td>U.S. dollars</td>\n",
       "      <td>Units</td>\n",
       "      <td>See notes for:  Gross domestic product, curren...</td>\n",
       "      <td>14414.302</td>\n",
       "      <td>2011.0</td>\n",
       "    </tr>\n",
       "  </tbody>\n",
       "</table>\n",
       "</div>"
      ],
      "text/plain": [
       "                                                    Subject Descriptor  \\\n",
       "Country                                                                  \n",
       "Afghanistan          Gross domestic product per capita, current prices   \n",
       "Albania              Gross domestic product per capita, current prices   \n",
       "Algeria              Gross domestic product per capita, current prices   \n",
       "Angola               Gross domestic product per capita, current prices   \n",
       "Antigua and Barbuda  Gross domestic product per capita, current prices   \n",
       "\n",
       "                            Units  Scale  \\\n",
       "Country                                    \n",
       "Afghanistan          U.S. dollars  Units   \n",
       "Albania              U.S. dollars  Units   \n",
       "Algeria              U.S. dollars  Units   \n",
       "Angola               U.S. dollars  Units   \n",
       "Antigua and Barbuda  U.S. dollars  Units   \n",
       "\n",
       "                                         Country/Series-specific Notes  \\\n",
       "Country                                                                  \n",
       "Afghanistan          See notes for:  Gross domestic product, curren...   \n",
       "Albania              See notes for:  Gross domestic product, curren...   \n",
       "Algeria              See notes for:  Gross domestic product, curren...   \n",
       "Angola               See notes for:  Gross domestic product, curren...   \n",
       "Antigua and Barbuda  See notes for:  Gross domestic product, curren...   \n",
       "\n",
       "                     GDP per capita  Estimates Start After  \n",
       "Country                                                     \n",
       "Afghanistan                 599.994                 2013.0  \n",
       "Albania                    3995.383                 2010.0  \n",
       "Algeria                    4318.135                 2014.0  \n",
       "Angola                     4100.315                 2014.0  \n",
       "Antigua and Barbuda       14414.302                 2011.0  "
      ]
     },
     "execution_count": 10,
     "metadata": {},
     "output_type": "execute_result"
    }
   ],
   "source": [
    "gdp_per_capita_2015.rename(columns={\"2015\": \"GDP per capita\"}, inplace=True) \n",
    "\n",
    "gdp_per_capita_2015.head()"
   ]
  },
  {
   "cell_type": "markdown",
   "metadata": {
    "id": "l6ws4szhC1KP"
   },
   "source": [
    "#### 삶의 만족도 데이터 적재, 정제, 전처리"
   ]
  },
  {
   "cell_type": "markdown",
   "metadata": {
    "id": "6elL5nNU9dBJ"
   },
   "source": [
    "OECD 국가별 삶의 만족도 데이터는 '더 나은 삶의 지수' 데이터 파일에 포함되어 있다. \n",
    "따라서 먼저 해당 csv 파일을 판다스의 데이터프레임 객체로 불러온 후에 \n",
    "삶의 만족도와 관련된 내용을 추출하는 과정을 밟는다.\n",
    "\n",
    "- `pandas.read_csv()` 함수는 지정한 경로에 저장되어 있는 csv 파일을 다운로드하여 바로 데이터프레임 객체를\n",
    "생성한다."
   ]
  },
  {
   "cell_type": "code",
   "execution_count": 11,
   "metadata": {
    "id": "PjGtsWetfLIh"
   },
   "outputs": [],
   "source": [
    "oecd_bli = pd.read_csv(datapath + \"oecd_bli_2015.csv\", thousands=',')"
   ]
  },
  {
   "cell_type": "markdown",
   "metadata": {
    "id": "Gu9A_8wsC1KQ"
   },
   "source": [
    "생성된 데이터프레임의 모양은 다음과 같다."
   ]
  },
  {
   "cell_type": "code",
   "execution_count": 12,
   "metadata": {
    "colab": {
     "base_uri": "https://localhost:8080/"
    },
    "id": "zLeWoOhoC1KQ",
    "outputId": "1b2a919e-2b34-43e7-83a0-567b8f9f6682"
   },
   "outputs": [
    {
     "data": {
      "text/plain": [
       "(3292, 17)"
      ]
     },
     "execution_count": 12,
     "metadata": {},
     "output_type": "execute_result"
    }
   ],
   "source": [
    "oecd_bli.shape"
   ]
  },
  {
   "cell_type": "markdown",
   "metadata": {
    "id": "xJ9vzSjsC1KQ"
   },
   "source": [
    "처음 5행를 살펴보자."
   ]
  },
  {
   "cell_type": "code",
   "execution_count": 13,
   "metadata": {
    "colab": {
     "base_uri": "https://localhost:8080/",
     "height": 206
    },
    "id": "VcysrGBGC1KQ",
    "outputId": "3e08c963-40c4-47dd-d0da-153af19a996c"
   },
   "outputs": [
    {
     "data": {
      "text/html": [
       "<div>\n",
       "<style scoped>\n",
       "    .dataframe tbody tr th:only-of-type {\n",
       "        vertical-align: middle;\n",
       "    }\n",
       "\n",
       "    .dataframe tbody tr th {\n",
       "        vertical-align: top;\n",
       "    }\n",
       "\n",
       "    .dataframe thead th {\n",
       "        text-align: right;\n",
       "    }\n",
       "</style>\n",
       "<table border=\"1\" class=\"dataframe\">\n",
       "  <thead>\n",
       "    <tr style=\"text-align: right;\">\n",
       "      <th></th>\n",
       "      <th>LOCATION</th>\n",
       "      <th>Country</th>\n",
       "      <th>INDICATOR</th>\n",
       "      <th>Indicator</th>\n",
       "      <th>MEASURE</th>\n",
       "      <th>Measure</th>\n",
       "      <th>INEQUALITY</th>\n",
       "      <th>Inequality</th>\n",
       "      <th>Unit Code</th>\n",
       "      <th>Unit</th>\n",
       "      <th>PowerCode Code</th>\n",
       "      <th>PowerCode</th>\n",
       "      <th>Reference Period Code</th>\n",
       "      <th>Reference Period</th>\n",
       "      <th>Value</th>\n",
       "      <th>Flag Codes</th>\n",
       "      <th>Flags</th>\n",
       "    </tr>\n",
       "  </thead>\n",
       "  <tbody>\n",
       "    <tr>\n",
       "      <th>0</th>\n",
       "      <td>AUS</td>\n",
       "      <td>Australia</td>\n",
       "      <td>HO_BASE</td>\n",
       "      <td>Dwellings without basic facilities</td>\n",
       "      <td>L</td>\n",
       "      <td>Value</td>\n",
       "      <td>TOT</td>\n",
       "      <td>Total</td>\n",
       "      <td>PC</td>\n",
       "      <td>Percentage</td>\n",
       "      <td>0</td>\n",
       "      <td>units</td>\n",
       "      <td>NaN</td>\n",
       "      <td>NaN</td>\n",
       "      <td>1.1</td>\n",
       "      <td>E</td>\n",
       "      <td>Estimated value</td>\n",
       "    </tr>\n",
       "    <tr>\n",
       "      <th>1</th>\n",
       "      <td>AUT</td>\n",
       "      <td>Austria</td>\n",
       "      <td>HO_BASE</td>\n",
       "      <td>Dwellings without basic facilities</td>\n",
       "      <td>L</td>\n",
       "      <td>Value</td>\n",
       "      <td>TOT</td>\n",
       "      <td>Total</td>\n",
       "      <td>PC</td>\n",
       "      <td>Percentage</td>\n",
       "      <td>0</td>\n",
       "      <td>units</td>\n",
       "      <td>NaN</td>\n",
       "      <td>NaN</td>\n",
       "      <td>1.0</td>\n",
       "      <td>NaN</td>\n",
       "      <td>NaN</td>\n",
       "    </tr>\n",
       "    <tr>\n",
       "      <th>2</th>\n",
       "      <td>BEL</td>\n",
       "      <td>Belgium</td>\n",
       "      <td>HO_BASE</td>\n",
       "      <td>Dwellings without basic facilities</td>\n",
       "      <td>L</td>\n",
       "      <td>Value</td>\n",
       "      <td>TOT</td>\n",
       "      <td>Total</td>\n",
       "      <td>PC</td>\n",
       "      <td>Percentage</td>\n",
       "      <td>0</td>\n",
       "      <td>units</td>\n",
       "      <td>NaN</td>\n",
       "      <td>NaN</td>\n",
       "      <td>2.0</td>\n",
       "      <td>NaN</td>\n",
       "      <td>NaN</td>\n",
       "    </tr>\n",
       "    <tr>\n",
       "      <th>3</th>\n",
       "      <td>CAN</td>\n",
       "      <td>Canada</td>\n",
       "      <td>HO_BASE</td>\n",
       "      <td>Dwellings without basic facilities</td>\n",
       "      <td>L</td>\n",
       "      <td>Value</td>\n",
       "      <td>TOT</td>\n",
       "      <td>Total</td>\n",
       "      <td>PC</td>\n",
       "      <td>Percentage</td>\n",
       "      <td>0</td>\n",
       "      <td>units</td>\n",
       "      <td>NaN</td>\n",
       "      <td>NaN</td>\n",
       "      <td>0.2</td>\n",
       "      <td>NaN</td>\n",
       "      <td>NaN</td>\n",
       "    </tr>\n",
       "    <tr>\n",
       "      <th>4</th>\n",
       "      <td>CZE</td>\n",
       "      <td>Czech Republic</td>\n",
       "      <td>HO_BASE</td>\n",
       "      <td>Dwellings without basic facilities</td>\n",
       "      <td>L</td>\n",
       "      <td>Value</td>\n",
       "      <td>TOT</td>\n",
       "      <td>Total</td>\n",
       "      <td>PC</td>\n",
       "      <td>Percentage</td>\n",
       "      <td>0</td>\n",
       "      <td>units</td>\n",
       "      <td>NaN</td>\n",
       "      <td>NaN</td>\n",
       "      <td>0.9</td>\n",
       "      <td>NaN</td>\n",
       "      <td>NaN</td>\n",
       "    </tr>\n",
       "  </tbody>\n",
       "</table>\n",
       "</div>"
      ],
      "text/plain": [
       "  LOCATION         Country INDICATOR                           Indicator  \\\n",
       "0      AUS       Australia   HO_BASE  Dwellings without basic facilities   \n",
       "1      AUT         Austria   HO_BASE  Dwellings without basic facilities   \n",
       "2      BEL         Belgium   HO_BASE  Dwellings without basic facilities   \n",
       "3      CAN          Canada   HO_BASE  Dwellings without basic facilities   \n",
       "4      CZE  Czech Republic   HO_BASE  Dwellings without basic facilities   \n",
       "\n",
       "  MEASURE Measure INEQUALITY Inequality Unit Code        Unit  PowerCode Code  \\\n",
       "0       L   Value        TOT      Total        PC  Percentage               0   \n",
       "1       L   Value        TOT      Total        PC  Percentage               0   \n",
       "2       L   Value        TOT      Total        PC  Percentage               0   \n",
       "3       L   Value        TOT      Total        PC  Percentage               0   \n",
       "4       L   Value        TOT      Total        PC  Percentage               0   \n",
       "\n",
       "  PowerCode  Reference Period Code  Reference Period  Value Flag Codes  \\\n",
       "0     units                    NaN               NaN    1.1          E   \n",
       "1     units                    NaN               NaN    1.0        NaN   \n",
       "2     units                    NaN               NaN    2.0        NaN   \n",
       "3     units                    NaN               NaN    0.2        NaN   \n",
       "4     units                    NaN               NaN    0.9        NaN   \n",
       "\n",
       "             Flags  \n",
       "0  Estimated value  \n",
       "1              NaN  \n",
       "2              NaN  \n",
       "3              NaN  \n",
       "4              NaN  "
      ]
     },
     "execution_count": 13,
     "metadata": {},
     "output_type": "execute_result"
    }
   ],
   "source": [
    "oecd_bli.head()"
   ]
  },
  {
   "cell_type": "markdown",
   "metadata": {
    "id": "617X4cR4C1KQ"
   },
   "source": [
    "국가별 삶의 만족도는 `'Life satisfaction'`이라는 측정지표(`'Indicator'`) 열(column)의\n",
    "특성값 중에 하나이다. \n",
    "총 24개 측정지표가 사용되며 그중에 하나임을 확인할 수 있다."
   ]
  },
  {
   "cell_type": "code",
   "execution_count": 14,
   "metadata": {
    "colab": {
     "base_uri": "https://localhost:8080/"
    },
    "id": "3SAEaL6oC1KQ",
    "outputId": "f876531b-c86d-4b8d-b353-a1e0a85e0f37"
   },
   "outputs": [
    {
     "data": {
      "text/plain": [
       "array(['Dwellings without basic facilities', 'Housing expenditure',\n",
       "       'Rooms per person', 'Household net adjusted disposable income',\n",
       "       'Household net financial wealth', 'Employment rate',\n",
       "       'Job security', 'Long-term unemployment rate', 'Personal earnings',\n",
       "       'Quality of support network', 'Educational attainment',\n",
       "       'Student skills', 'Years in education', 'Air pollution',\n",
       "       'Water quality', 'Consultation on rule-making', 'Voter turnout',\n",
       "       'Life expectancy', 'Self-reported health', 'Life satisfaction',\n",
       "       'Assault rate', 'Homicide rate',\n",
       "       'Employees working very long hours',\n",
       "       'Time devoted to leisure and personal care'], dtype=object)"
      ]
     },
     "execution_count": 14,
     "metadata": {},
     "output_type": "execute_result"
    }
   ],
   "source": [
    "oecd_bli.Indicator.unique()"
   ]
  },
  {
   "cell_type": "markdown",
   "metadata": {
    "id": "t7cxXQoEC1KQ"
   },
   "source": [
    "24개 측정지표 중 하나임을 확인한다."
   ]
  },
  {
   "cell_type": "code",
   "execution_count": 15,
   "metadata": {
    "colab": {
     "base_uri": "https://localhost:8080/"
    },
    "id": "PVNS3LbvC1KQ",
    "outputId": "e3a91480-a353-4383-8ecc-0544d5ba391a"
   },
   "outputs": [
    {
     "data": {
      "text/plain": [
       "(24,)"
      ]
     },
     "execution_count": 15,
     "metadata": {},
     "output_type": "execute_result"
    }
   ],
   "source": [
    "oecd_bli.Indicator.unique().shape"
   ]
  },
  {
   "cell_type": "code",
   "execution_count": 16,
   "metadata": {
    "colab": {
     "base_uri": "https://localhost:8080/"
    },
    "id": "UgXd-lKYC1KQ",
    "outputId": "7ff59e9f-478f-49b4-d201-2e5aadb7c1c2"
   },
   "outputs": [
    {
     "data": {
      "text/plain": [
       "True"
      ]
     },
     "execution_count": 16,
     "metadata": {},
     "output_type": "execute_result"
    }
   ],
   "source": [
    "'Life satisfaction' in oecd_bli.Indicator.unique()"
   ]
  },
  {
   "cell_type": "markdown",
   "metadata": {
    "id": "n701QNdWC1KQ"
   },
   "source": [
    "그런데 삶의 만족도와 관련된 행이 OECD 회원국의 수인 37보다 많다.\n",
    "이는 삶의 만족도와 관련해서 데이터의 중복이 있다는 것을 의미한다. "
   ]
  },
  {
   "cell_type": "code",
   "execution_count": 17,
   "metadata": {
    "colab": {
     "base_uri": "https://localhost:8080/"
    },
    "id": "9q5lNM1PC1KR",
    "outputId": "22e334f7-bc30-4a06-99e2-8a61e1e41e6b"
   },
   "outputs": [
    {
     "data": {
      "text/plain": [
       "(179, 17)"
      ]
     },
     "execution_count": 17,
     "metadata": {},
     "output_type": "execute_result"
    }
   ],
   "source": [
    "mask = oecd_bli.Indicator == 'Life satisfaction'\n",
    "oecd_bli[mask].shape"
   ]
  },
  {
   "cell_type": "markdown",
   "metadata": {
    "id": "Keq0onY6C1KR"
   },
   "source": [
    "무엇이 중복되었는지를 알아내기 위해 \n",
    "OECD 회원국가별로 `'Indicator'` 열에 포함된 24개 측정지표에 해당하는 값(value)만을 따로 추출해보자.\n",
    "즉, ['더 나은 삶의 지수'(BLI, Better Life Index) 자료](https://stats.oecd.org/Index.aspx?DataSetCode=BLI)에서\n",
    "볼 수 있는 아래 테이블 이미지와 같은 데이터프레임을 생성하고자 한다. \n",
    "\n",
    "- 행: OECD 회원국(`Country`)\n",
    "- 열: 측정지표(`Indicator`)\n",
    "- 항목 값: 국가별 지표 수치(`Value`)"
   ]
  },
  {
   "cell_type": "markdown",
   "metadata": {
    "id": "KWjaqDudC1KR"
   },
   "source": [
    "<div align=\"center\"><img src=\"https://raw.githubusercontent.com/codingalzi/pydata/master/notebooks/images/oecd_bli.png\"/></div>"
   ]
  },
  {
   "cell_type": "markdown",
   "metadata": {
    "id": "qU86O9VWC1KR"
   },
   "source": [
    "이를 위해 국가명(`'Country'` 열의 항목)을 행의 인덱스 이름으로, \n",
    "`'Indicator'`의 항목을 열의 인덱스 이름으로 사용하는 데이터프레임을 생성한다.\n",
    "해당 열과 항목에 해당하는 값은 `'Value'` 열에 포함된 값을 사용한다.\n",
    "\n",
    "그런데 OECD의 원본 파일에는 각 측정지표의 값으로 국가별 소득 불평등(`'INEQUALITY'`)과 관련된 다섯 가지 \n",
    "기준에 따라 다른 값이 포함되어 있다(위 이미지 좌상단 화살표 참조).\n",
    "\n",
    "| 기준   | 기호 | 대상     |\n",
    "| :---  | :---| :---    |\n",
    "| Total | TOT | 전체 인구 |\n",
    "| Men   | MN  | 남성     |\n",
    "| Wemen | WMN | 여성     |\n",
    "| High  | HGH | 상위 소득 |\n",
    "| Low   | LW  | 하위 소득 |"
   ]
  },
  {
   "cell_type": "code",
   "execution_count": 18,
   "metadata": {
    "colab": {
     "base_uri": "https://localhost:8080/"
    },
    "id": "vLmSidZpC1KR",
    "outputId": "f773a68e-21ab-442a-c0c8-275f3446b8d4"
   },
   "outputs": [
    {
     "data": {
      "text/plain": [
       "array(['TOT', 'MN', 'WMN', 'HGH', 'LW'], dtype=object)"
      ]
     },
     "execution_count": 18,
     "metadata": {},
     "output_type": "execute_result"
    }
   ],
   "source": [
    "oecd_bli.INEQUALITY.unique()"
   ]
  },
  {
   "cell_type": "markdown",
   "metadata": {
    "id": "DqCOCJAOC1KR"
   },
   "source": [
    "각 기준별 행의 개수는 다음과 같다."
   ]
  },
  {
   "cell_type": "code",
   "execution_count": 19,
   "metadata": {
    "colab": {
     "base_uri": "https://localhost:8080/"
    },
    "id": "I-_OkehrC1KR",
    "outputId": "6ecee2a0-be6b-4115-8df2-41608ca8839c"
   },
   "outputs": [
    {
     "name": "stdout",
     "output_type": "stream",
     "text": [
      "TOT:\t888행\n",
      " MN:\t881행\n",
      "WMN:\t881행\n",
      "HGH:\t328행\n",
      " LW:\t314행\n",
      "\n",
      " 총:\t3292행\n"
     ]
    }
   ],
   "source": [
    "arr1 = oecd_bli.INEQUALITY.unique()\n",
    "\n",
    "sum = 0\n",
    "for ineq in arr1:\n",
    "    num_lines = (oecd_bli['INEQUALITY'] == ineq).sum()\n",
    "    print(f\"{ineq:>3}:\\t{num_lines}행\")\n",
    "\n",
    "    sum += num_lines # 총 라인 수\n",
    "\n",
    "print(f\"\\n 총:\\t{sum}행\")"
   ]
  },
  {
   "cell_type": "markdown",
   "metadata": {
    "id": "kXgpSrkPC1KR"
   },
   "source": [
    "전체 인구를 대상으로 하는 `TOT` 기준에 포함된 데이터만 추출한다."
   ]
  },
  {
   "cell_type": "code",
   "execution_count": 20,
   "metadata": {
    "id": "1vCduxWhC1KR"
   },
   "outputs": [],
   "source": [
    "oecd_bli = oecd_bli[oecd_bli[\"INEQUALITY\"]==\"TOT\"]"
   ]
  },
  {
   "cell_type": "markdown",
   "metadata": {
    "id": "-6VLffcoC1KS"
   },
   "source": [
    "앞서 확인한 대로 총 888개의 행으로 이루어진 데이터프레임이다."
   ]
  },
  {
   "cell_type": "code",
   "execution_count": 21,
   "metadata": {
    "colab": {
     "base_uri": "https://localhost:8080/"
    },
    "id": "Tp_xuBkvC1KS",
    "outputId": "bdb3a116-09ed-4e0c-f389-ecbdd7bcaf66"
   },
   "outputs": [
    {
     "data": {
      "text/plain": [
       "(888, 17)"
      ]
     },
     "execution_count": 21,
     "metadata": {},
     "output_type": "execute_result"
    }
   ],
   "source": [
    "oecd_bli.shape"
   ]
  },
  {
   "cell_type": "markdown",
   "metadata": {
    "id": "F5jcDdtYC1KS"
   },
   "source": [
    "여기서 `37 * 24 = 888`이 성립함에 주목해야 한다. \n",
    "왜냐하면 이는 위데이터프레임이 37개 OECD 회원국별로 24개의 지표를 조사한 데이터를 포함한다는 의미이기 때문이다.\n",
    "또한 측정된 지표값은 `'Value'` 열에 포함되어 있다.\n",
    "\n",
    "이제 데이터프레임 객체의 `pivot()` 메서드를 이용하여 \n",
    "`'Indicator'` 의 항목에 대한 각 국가별 수치만을 추출하기 위해\n",
    "국가명(`'Country'` 열의 항목)을 행의 인덱스 이름으로, \n",
    "`'Indicator'`의 항목을 열의 인덱스 이름으로 사용하면서\n",
    "해당 행과 열의 항목에는 `'Value'` 열에 포함된 값을 사용하는 \n",
    "데이터프레임을 아래와 같이 생성할 수 있다."
   ]
  },
  {
   "cell_type": "code",
   "execution_count": 22,
   "metadata": {
    "id": "t9-kIMa8C1KS"
   },
   "outputs": [],
   "source": [
    "oecd_bli = oecd_bli.pivot(index=\"Country\", columns=\"Indicator\", values=\"Value\")"
   ]
  },
  {
   "cell_type": "markdown",
   "metadata": {
    "id": "wVCJvjP-C1KS"
   },
   "source": [
    "이제 총 37개 국가의 측정지표별 수치를 확인하면 다음과 같다."
   ]
  },
  {
   "cell_type": "code",
   "execution_count": 23,
   "metadata": {
    "colab": {
     "base_uri": "https://localhost:8080/",
     "height": 1000
    },
    "id": "EA6520b7C1KS",
    "outputId": "d1cd778d-5ab8-441b-9280-7e2eaec1e7ca"
   },
   "outputs": [
    {
     "data": {
      "text/html": [
       "<div>\n",
       "<style scoped>\n",
       "    .dataframe tbody tr th:only-of-type {\n",
       "        vertical-align: middle;\n",
       "    }\n",
       "\n",
       "    .dataframe tbody tr th {\n",
       "        vertical-align: top;\n",
       "    }\n",
       "\n",
       "    .dataframe thead th {\n",
       "        text-align: right;\n",
       "    }\n",
       "</style>\n",
       "<table border=\"1\" class=\"dataframe\">\n",
       "  <thead>\n",
       "    <tr style=\"text-align: right;\">\n",
       "      <th>Indicator</th>\n",
       "      <th>Air pollution</th>\n",
       "      <th>Assault rate</th>\n",
       "      <th>Consultation on rule-making</th>\n",
       "      <th>Dwellings without basic facilities</th>\n",
       "      <th>Educational attainment</th>\n",
       "      <th>Employees working very long hours</th>\n",
       "      <th>Employment rate</th>\n",
       "      <th>Homicide rate</th>\n",
       "      <th>Household net adjusted disposable income</th>\n",
       "      <th>Household net financial wealth</th>\n",
       "      <th>Housing expenditure</th>\n",
       "      <th>Job security</th>\n",
       "      <th>Life expectancy</th>\n",
       "      <th>Life satisfaction</th>\n",
       "      <th>Long-term unemployment rate</th>\n",
       "      <th>Personal earnings</th>\n",
       "      <th>Quality of support network</th>\n",
       "      <th>Rooms per person</th>\n",
       "      <th>Self-reported health</th>\n",
       "      <th>Student skills</th>\n",
       "      <th>Time devoted to leisure and personal care</th>\n",
       "      <th>Voter turnout</th>\n",
       "      <th>Water quality</th>\n",
       "      <th>Years in education</th>\n",
       "    </tr>\n",
       "    <tr>\n",
       "      <th>Country</th>\n",
       "      <th></th>\n",
       "      <th></th>\n",
       "      <th></th>\n",
       "      <th></th>\n",
       "      <th></th>\n",
       "      <th></th>\n",
       "      <th></th>\n",
       "      <th></th>\n",
       "      <th></th>\n",
       "      <th></th>\n",
       "      <th></th>\n",
       "      <th></th>\n",
       "      <th></th>\n",
       "      <th></th>\n",
       "      <th></th>\n",
       "      <th></th>\n",
       "      <th></th>\n",
       "      <th></th>\n",
       "      <th></th>\n",
       "      <th></th>\n",
       "      <th></th>\n",
       "      <th></th>\n",
       "      <th></th>\n",
       "      <th></th>\n",
       "    </tr>\n",
       "  </thead>\n",
       "  <tbody>\n",
       "    <tr>\n",
       "      <th>Australia</th>\n",
       "      <td>13.0</td>\n",
       "      <td>2.1</td>\n",
       "      <td>10.5</td>\n",
       "      <td>1.1</td>\n",
       "      <td>76.0</td>\n",
       "      <td>14.02</td>\n",
       "      <td>72.0</td>\n",
       "      <td>0.8</td>\n",
       "      <td>31588.0</td>\n",
       "      <td>47657.0</td>\n",
       "      <td>20.0</td>\n",
       "      <td>4.8</td>\n",
       "      <td>82.1</td>\n",
       "      <td>7.3</td>\n",
       "      <td>1.08</td>\n",
       "      <td>50449.0</td>\n",
       "      <td>92.0</td>\n",
       "      <td>2.3</td>\n",
       "      <td>85.0</td>\n",
       "      <td>512.0</td>\n",
       "      <td>14.41</td>\n",
       "      <td>93.0</td>\n",
       "      <td>91.0</td>\n",
       "      <td>19.4</td>\n",
       "    </tr>\n",
       "    <tr>\n",
       "      <th>Austria</th>\n",
       "      <td>27.0</td>\n",
       "      <td>3.4</td>\n",
       "      <td>7.1</td>\n",
       "      <td>1.0</td>\n",
       "      <td>83.0</td>\n",
       "      <td>7.61</td>\n",
       "      <td>72.0</td>\n",
       "      <td>0.4</td>\n",
       "      <td>31173.0</td>\n",
       "      <td>49887.0</td>\n",
       "      <td>21.0</td>\n",
       "      <td>3.9</td>\n",
       "      <td>81.0</td>\n",
       "      <td>6.9</td>\n",
       "      <td>1.19</td>\n",
       "      <td>45199.0</td>\n",
       "      <td>89.0</td>\n",
       "      <td>1.6</td>\n",
       "      <td>69.0</td>\n",
       "      <td>500.0</td>\n",
       "      <td>14.46</td>\n",
       "      <td>75.0</td>\n",
       "      <td>94.0</td>\n",
       "      <td>17.0</td>\n",
       "    </tr>\n",
       "    <tr>\n",
       "      <th>Belgium</th>\n",
       "      <td>21.0</td>\n",
       "      <td>6.6</td>\n",
       "      <td>4.5</td>\n",
       "      <td>2.0</td>\n",
       "      <td>72.0</td>\n",
       "      <td>4.57</td>\n",
       "      <td>62.0</td>\n",
       "      <td>1.1</td>\n",
       "      <td>28307.0</td>\n",
       "      <td>83876.0</td>\n",
       "      <td>21.0</td>\n",
       "      <td>5.0</td>\n",
       "      <td>80.5</td>\n",
       "      <td>6.9</td>\n",
       "      <td>3.88</td>\n",
       "      <td>48082.0</td>\n",
       "      <td>94.0</td>\n",
       "      <td>2.2</td>\n",
       "      <td>74.0</td>\n",
       "      <td>509.0</td>\n",
       "      <td>15.71</td>\n",
       "      <td>89.0</td>\n",
       "      <td>87.0</td>\n",
       "      <td>18.9</td>\n",
       "    </tr>\n",
       "    <tr>\n",
       "      <th>Brazil</th>\n",
       "      <td>18.0</td>\n",
       "      <td>7.9</td>\n",
       "      <td>4.0</td>\n",
       "      <td>6.7</td>\n",
       "      <td>45.0</td>\n",
       "      <td>10.41</td>\n",
       "      <td>67.0</td>\n",
       "      <td>25.5</td>\n",
       "      <td>11664.0</td>\n",
       "      <td>6844.0</td>\n",
       "      <td>21.0</td>\n",
       "      <td>4.6</td>\n",
       "      <td>73.7</td>\n",
       "      <td>7.0</td>\n",
       "      <td>1.97</td>\n",
       "      <td>17177.0</td>\n",
       "      <td>90.0</td>\n",
       "      <td>1.6</td>\n",
       "      <td>69.0</td>\n",
       "      <td>402.0</td>\n",
       "      <td>14.97</td>\n",
       "      <td>79.0</td>\n",
       "      <td>72.0</td>\n",
       "      <td>16.3</td>\n",
       "    </tr>\n",
       "    <tr>\n",
       "      <th>Canada</th>\n",
       "      <td>15.0</td>\n",
       "      <td>1.3</td>\n",
       "      <td>10.5</td>\n",
       "      <td>0.2</td>\n",
       "      <td>89.0</td>\n",
       "      <td>3.94</td>\n",
       "      <td>72.0</td>\n",
       "      <td>1.5</td>\n",
       "      <td>29365.0</td>\n",
       "      <td>67913.0</td>\n",
       "      <td>21.0</td>\n",
       "      <td>6.4</td>\n",
       "      <td>81.5</td>\n",
       "      <td>7.3</td>\n",
       "      <td>0.90</td>\n",
       "      <td>46911.0</td>\n",
       "      <td>92.0</td>\n",
       "      <td>2.5</td>\n",
       "      <td>89.0</td>\n",
       "      <td>522.0</td>\n",
       "      <td>14.25</td>\n",
       "      <td>61.0</td>\n",
       "      <td>91.0</td>\n",
       "      <td>17.2</td>\n",
       "    </tr>\n",
       "    <tr>\n",
       "      <th>Chile</th>\n",
       "      <td>46.0</td>\n",
       "      <td>6.9</td>\n",
       "      <td>2.0</td>\n",
       "      <td>9.4</td>\n",
       "      <td>57.0</td>\n",
       "      <td>15.42</td>\n",
       "      <td>62.0</td>\n",
       "      <td>4.4</td>\n",
       "      <td>14533.0</td>\n",
       "      <td>17733.0</td>\n",
       "      <td>18.0</td>\n",
       "      <td>4.4</td>\n",
       "      <td>78.9</td>\n",
       "      <td>6.7</td>\n",
       "      <td>1.59</td>\n",
       "      <td>22101.0</td>\n",
       "      <td>86.0</td>\n",
       "      <td>1.2</td>\n",
       "      <td>59.0</td>\n",
       "      <td>436.0</td>\n",
       "      <td>14.41</td>\n",
       "      <td>49.0</td>\n",
       "      <td>73.0</td>\n",
       "      <td>16.5</td>\n",
       "    </tr>\n",
       "    <tr>\n",
       "      <th>Czech Republic</th>\n",
       "      <td>16.0</td>\n",
       "      <td>2.8</td>\n",
       "      <td>6.8</td>\n",
       "      <td>0.9</td>\n",
       "      <td>92.0</td>\n",
       "      <td>6.98</td>\n",
       "      <td>68.0</td>\n",
       "      <td>0.8</td>\n",
       "      <td>18404.0</td>\n",
       "      <td>17299.0</td>\n",
       "      <td>26.0</td>\n",
       "      <td>4.1</td>\n",
       "      <td>78.2</td>\n",
       "      <td>6.5</td>\n",
       "      <td>3.12</td>\n",
       "      <td>20338.0</td>\n",
       "      <td>85.0</td>\n",
       "      <td>1.4</td>\n",
       "      <td>60.0</td>\n",
       "      <td>500.0</td>\n",
       "      <td>14.98</td>\n",
       "      <td>59.0</td>\n",
       "      <td>85.0</td>\n",
       "      <td>18.1</td>\n",
       "    </tr>\n",
       "    <tr>\n",
       "      <th>Denmark</th>\n",
       "      <td>15.0</td>\n",
       "      <td>3.9</td>\n",
       "      <td>7.0</td>\n",
       "      <td>0.9</td>\n",
       "      <td>78.0</td>\n",
       "      <td>2.03</td>\n",
       "      <td>73.0</td>\n",
       "      <td>0.3</td>\n",
       "      <td>26491.0</td>\n",
       "      <td>44488.0</td>\n",
       "      <td>24.0</td>\n",
       "      <td>5.6</td>\n",
       "      <td>80.1</td>\n",
       "      <td>7.5</td>\n",
       "      <td>1.78</td>\n",
       "      <td>48347.0</td>\n",
       "      <td>95.0</td>\n",
       "      <td>1.9</td>\n",
       "      <td>72.0</td>\n",
       "      <td>498.0</td>\n",
       "      <td>16.06</td>\n",
       "      <td>88.0</td>\n",
       "      <td>94.0</td>\n",
       "      <td>19.4</td>\n",
       "    </tr>\n",
       "    <tr>\n",
       "      <th>Estonia</th>\n",
       "      <td>9.0</td>\n",
       "      <td>5.5</td>\n",
       "      <td>3.3</td>\n",
       "      <td>8.1</td>\n",
       "      <td>90.0</td>\n",
       "      <td>3.30</td>\n",
       "      <td>68.0</td>\n",
       "      <td>4.8</td>\n",
       "      <td>15167.0</td>\n",
       "      <td>7680.0</td>\n",
       "      <td>19.0</td>\n",
       "      <td>5.2</td>\n",
       "      <td>76.5</td>\n",
       "      <td>5.6</td>\n",
       "      <td>3.82</td>\n",
       "      <td>18944.0</td>\n",
       "      <td>89.0</td>\n",
       "      <td>1.5</td>\n",
       "      <td>54.0</td>\n",
       "      <td>526.0</td>\n",
       "      <td>14.90</td>\n",
       "      <td>64.0</td>\n",
       "      <td>79.0</td>\n",
       "      <td>17.5</td>\n",
       "    </tr>\n",
       "    <tr>\n",
       "      <th>Finland</th>\n",
       "      <td>15.0</td>\n",
       "      <td>2.4</td>\n",
       "      <td>9.0</td>\n",
       "      <td>0.6</td>\n",
       "      <td>85.0</td>\n",
       "      <td>3.58</td>\n",
       "      <td>69.0</td>\n",
       "      <td>1.4</td>\n",
       "      <td>27927.0</td>\n",
       "      <td>18761.0</td>\n",
       "      <td>22.0</td>\n",
       "      <td>6.9</td>\n",
       "      <td>80.7</td>\n",
       "      <td>7.4</td>\n",
       "      <td>1.73</td>\n",
       "      <td>40060.0</td>\n",
       "      <td>95.0</td>\n",
       "      <td>1.9</td>\n",
       "      <td>65.0</td>\n",
       "      <td>529.0</td>\n",
       "      <td>14.89</td>\n",
       "      <td>69.0</td>\n",
       "      <td>94.0</td>\n",
       "      <td>19.7</td>\n",
       "    </tr>\n",
       "    <tr>\n",
       "      <th>France</th>\n",
       "      <td>12.0</td>\n",
       "      <td>5.0</td>\n",
       "      <td>3.5</td>\n",
       "      <td>0.5</td>\n",
       "      <td>73.0</td>\n",
       "      <td>8.15</td>\n",
       "      <td>64.0</td>\n",
       "      <td>0.6</td>\n",
       "      <td>28799.0</td>\n",
       "      <td>48741.0</td>\n",
       "      <td>21.0</td>\n",
       "      <td>6.5</td>\n",
       "      <td>82.1</td>\n",
       "      <td>6.5</td>\n",
       "      <td>3.99</td>\n",
       "      <td>40242.0</td>\n",
       "      <td>87.0</td>\n",
       "      <td>1.8</td>\n",
       "      <td>67.0</td>\n",
       "      <td>500.0</td>\n",
       "      <td>15.33</td>\n",
       "      <td>80.0</td>\n",
       "      <td>82.0</td>\n",
       "      <td>16.4</td>\n",
       "    </tr>\n",
       "    <tr>\n",
       "      <th>Germany</th>\n",
       "      <td>16.0</td>\n",
       "      <td>3.6</td>\n",
       "      <td>4.5</td>\n",
       "      <td>0.1</td>\n",
       "      <td>86.0</td>\n",
       "      <td>5.25</td>\n",
       "      <td>73.0</td>\n",
       "      <td>0.5</td>\n",
       "      <td>31252.0</td>\n",
       "      <td>50394.0</td>\n",
       "      <td>21.0</td>\n",
       "      <td>3.1</td>\n",
       "      <td>81.0</td>\n",
       "      <td>7.0</td>\n",
       "      <td>2.37</td>\n",
       "      <td>43682.0</td>\n",
       "      <td>94.0</td>\n",
       "      <td>1.8</td>\n",
       "      <td>65.0</td>\n",
       "      <td>515.0</td>\n",
       "      <td>15.31</td>\n",
       "      <td>72.0</td>\n",
       "      <td>95.0</td>\n",
       "      <td>18.2</td>\n",
       "    </tr>\n",
       "    <tr>\n",
       "      <th>Greece</th>\n",
       "      <td>27.0</td>\n",
       "      <td>3.7</td>\n",
       "      <td>6.5</td>\n",
       "      <td>0.7</td>\n",
       "      <td>68.0</td>\n",
       "      <td>6.16</td>\n",
       "      <td>49.0</td>\n",
       "      <td>1.6</td>\n",
       "      <td>18575.0</td>\n",
       "      <td>14579.0</td>\n",
       "      <td>25.0</td>\n",
       "      <td>12.2</td>\n",
       "      <td>80.7</td>\n",
       "      <td>4.8</td>\n",
       "      <td>18.39</td>\n",
       "      <td>25503.0</td>\n",
       "      <td>83.0</td>\n",
       "      <td>1.2</td>\n",
       "      <td>74.0</td>\n",
       "      <td>466.0</td>\n",
       "      <td>14.91</td>\n",
       "      <td>64.0</td>\n",
       "      <td>69.0</td>\n",
       "      <td>18.6</td>\n",
       "    </tr>\n",
       "    <tr>\n",
       "      <th>Hungary</th>\n",
       "      <td>15.0</td>\n",
       "      <td>3.6</td>\n",
       "      <td>7.9</td>\n",
       "      <td>4.8</td>\n",
       "      <td>82.0</td>\n",
       "      <td>3.19</td>\n",
       "      <td>58.0</td>\n",
       "      <td>1.3</td>\n",
       "      <td>15442.0</td>\n",
       "      <td>13277.0</td>\n",
       "      <td>20.0</td>\n",
       "      <td>5.7</td>\n",
       "      <td>75.2</td>\n",
       "      <td>4.9</td>\n",
       "      <td>5.10</td>\n",
       "      <td>20948.0</td>\n",
       "      <td>87.0</td>\n",
       "      <td>1.1</td>\n",
       "      <td>57.0</td>\n",
       "      <td>487.0</td>\n",
       "      <td>15.04</td>\n",
       "      <td>62.0</td>\n",
       "      <td>77.0</td>\n",
       "      <td>17.6</td>\n",
       "    </tr>\n",
       "    <tr>\n",
       "      <th>Iceland</th>\n",
       "      <td>18.0</td>\n",
       "      <td>2.7</td>\n",
       "      <td>5.1</td>\n",
       "      <td>0.4</td>\n",
       "      <td>71.0</td>\n",
       "      <td>12.25</td>\n",
       "      <td>82.0</td>\n",
       "      <td>0.3</td>\n",
       "      <td>23965.0</td>\n",
       "      <td>43045.0</td>\n",
       "      <td>24.0</td>\n",
       "      <td>4.1</td>\n",
       "      <td>83.0</td>\n",
       "      <td>7.5</td>\n",
       "      <td>1.18</td>\n",
       "      <td>55716.0</td>\n",
       "      <td>96.0</td>\n",
       "      <td>1.5</td>\n",
       "      <td>77.0</td>\n",
       "      <td>484.0</td>\n",
       "      <td>14.61</td>\n",
       "      <td>81.0</td>\n",
       "      <td>97.0</td>\n",
       "      <td>19.8</td>\n",
       "    </tr>\n",
       "    <tr>\n",
       "      <th>Ireland</th>\n",
       "      <td>13.0</td>\n",
       "      <td>2.6</td>\n",
       "      <td>9.0</td>\n",
       "      <td>0.2</td>\n",
       "      <td>75.0</td>\n",
       "      <td>4.20</td>\n",
       "      <td>60.0</td>\n",
       "      <td>0.8</td>\n",
       "      <td>23917.0</td>\n",
       "      <td>31580.0</td>\n",
       "      <td>19.0</td>\n",
       "      <td>5.9</td>\n",
       "      <td>81.0</td>\n",
       "      <td>7.0</td>\n",
       "      <td>8.39</td>\n",
       "      <td>49506.0</td>\n",
       "      <td>96.0</td>\n",
       "      <td>2.1</td>\n",
       "      <td>82.0</td>\n",
       "      <td>516.0</td>\n",
       "      <td>15.19</td>\n",
       "      <td>70.0</td>\n",
       "      <td>80.0</td>\n",
       "      <td>17.6</td>\n",
       "    </tr>\n",
       "    <tr>\n",
       "      <th>Israel</th>\n",
       "      <td>21.0</td>\n",
       "      <td>6.4</td>\n",
       "      <td>2.5</td>\n",
       "      <td>3.7</td>\n",
       "      <td>85.0</td>\n",
       "      <td>16.03</td>\n",
       "      <td>67.0</td>\n",
       "      <td>2.3</td>\n",
       "      <td>22104.0</td>\n",
       "      <td>52933.0</td>\n",
       "      <td>21.0</td>\n",
       "      <td>5.0</td>\n",
       "      <td>81.8</td>\n",
       "      <td>7.4</td>\n",
       "      <td>0.79</td>\n",
       "      <td>28817.0</td>\n",
       "      <td>87.0</td>\n",
       "      <td>1.2</td>\n",
       "      <td>80.0</td>\n",
       "      <td>474.0</td>\n",
       "      <td>14.48</td>\n",
       "      <td>68.0</td>\n",
       "      <td>68.0</td>\n",
       "      <td>15.8</td>\n",
       "    </tr>\n",
       "    <tr>\n",
       "      <th>Italy</th>\n",
       "      <td>21.0</td>\n",
       "      <td>4.7</td>\n",
       "      <td>5.0</td>\n",
       "      <td>1.1</td>\n",
       "      <td>57.0</td>\n",
       "      <td>3.66</td>\n",
       "      <td>56.0</td>\n",
       "      <td>0.7</td>\n",
       "      <td>25166.0</td>\n",
       "      <td>54987.0</td>\n",
       "      <td>24.0</td>\n",
       "      <td>5.9</td>\n",
       "      <td>82.3</td>\n",
       "      <td>6.0</td>\n",
       "      <td>6.94</td>\n",
       "      <td>34561.0</td>\n",
       "      <td>90.0</td>\n",
       "      <td>1.4</td>\n",
       "      <td>66.0</td>\n",
       "      <td>490.0</td>\n",
       "      <td>14.98</td>\n",
       "      <td>75.0</td>\n",
       "      <td>71.0</td>\n",
       "      <td>16.8</td>\n",
       "    </tr>\n",
       "    <tr>\n",
       "      <th>Japan</th>\n",
       "      <td>24.0</td>\n",
       "      <td>1.4</td>\n",
       "      <td>7.3</td>\n",
       "      <td>6.4</td>\n",
       "      <td>94.0</td>\n",
       "      <td>22.26</td>\n",
       "      <td>72.0</td>\n",
       "      <td>0.3</td>\n",
       "      <td>26111.0</td>\n",
       "      <td>86764.0</td>\n",
       "      <td>22.0</td>\n",
       "      <td>2.4</td>\n",
       "      <td>83.2</td>\n",
       "      <td>5.9</td>\n",
       "      <td>1.67</td>\n",
       "      <td>35405.0</td>\n",
       "      <td>89.0</td>\n",
       "      <td>1.8</td>\n",
       "      <td>30.0</td>\n",
       "      <td>540.0</td>\n",
       "      <td>14.93</td>\n",
       "      <td>53.0</td>\n",
       "      <td>85.0</td>\n",
       "      <td>16.3</td>\n",
       "    </tr>\n",
       "    <tr>\n",
       "      <th>Korea</th>\n",
       "      <td>30.0</td>\n",
       "      <td>2.1</td>\n",
       "      <td>10.4</td>\n",
       "      <td>4.2</td>\n",
       "      <td>82.0</td>\n",
       "      <td>18.72</td>\n",
       "      <td>64.0</td>\n",
       "      <td>1.1</td>\n",
       "      <td>19510.0</td>\n",
       "      <td>29091.0</td>\n",
       "      <td>16.0</td>\n",
       "      <td>3.2</td>\n",
       "      <td>81.3</td>\n",
       "      <td>5.8</td>\n",
       "      <td>0.01</td>\n",
       "      <td>36354.0</td>\n",
       "      <td>72.0</td>\n",
       "      <td>1.4</td>\n",
       "      <td>35.0</td>\n",
       "      <td>542.0</td>\n",
       "      <td>14.63</td>\n",
       "      <td>76.0</td>\n",
       "      <td>78.0</td>\n",
       "      <td>17.5</td>\n",
       "    </tr>\n",
       "    <tr>\n",
       "      <th>Luxembourg</th>\n",
       "      <td>12.0</td>\n",
       "      <td>4.3</td>\n",
       "      <td>6.0</td>\n",
       "      <td>0.1</td>\n",
       "      <td>78.0</td>\n",
       "      <td>3.47</td>\n",
       "      <td>66.0</td>\n",
       "      <td>0.4</td>\n",
       "      <td>38951.0</td>\n",
       "      <td>61765.0</td>\n",
       "      <td>21.0</td>\n",
       "      <td>4.3</td>\n",
       "      <td>81.5</td>\n",
       "      <td>6.9</td>\n",
       "      <td>1.78</td>\n",
       "      <td>56021.0</td>\n",
       "      <td>87.0</td>\n",
       "      <td>2.0</td>\n",
       "      <td>72.0</td>\n",
       "      <td>490.0</td>\n",
       "      <td>15.12</td>\n",
       "      <td>91.0</td>\n",
       "      <td>86.0</td>\n",
       "      <td>15.1</td>\n",
       "    </tr>\n",
       "    <tr>\n",
       "      <th>Mexico</th>\n",
       "      <td>30.0</td>\n",
       "      <td>12.8</td>\n",
       "      <td>9.0</td>\n",
       "      <td>4.2</td>\n",
       "      <td>37.0</td>\n",
       "      <td>28.83</td>\n",
       "      <td>61.0</td>\n",
       "      <td>23.4</td>\n",
       "      <td>13085.0</td>\n",
       "      <td>9056.0</td>\n",
       "      <td>21.0</td>\n",
       "      <td>4.9</td>\n",
       "      <td>74.6</td>\n",
       "      <td>6.7</td>\n",
       "      <td>0.08</td>\n",
       "      <td>16193.0</td>\n",
       "      <td>77.0</td>\n",
       "      <td>1.0</td>\n",
       "      <td>66.0</td>\n",
       "      <td>417.0</td>\n",
       "      <td>13.89</td>\n",
       "      <td>63.0</td>\n",
       "      <td>67.0</td>\n",
       "      <td>14.4</td>\n",
       "    </tr>\n",
       "    <tr>\n",
       "      <th>Netherlands</th>\n",
       "      <td>30.0</td>\n",
       "      <td>4.9</td>\n",
       "      <td>6.1</td>\n",
       "      <td>0.0</td>\n",
       "      <td>73.0</td>\n",
       "      <td>0.45</td>\n",
       "      <td>74.0</td>\n",
       "      <td>0.9</td>\n",
       "      <td>27888.0</td>\n",
       "      <td>77961.0</td>\n",
       "      <td>19.0</td>\n",
       "      <td>4.5</td>\n",
       "      <td>81.2</td>\n",
       "      <td>7.3</td>\n",
       "      <td>2.40</td>\n",
       "      <td>47590.0</td>\n",
       "      <td>90.0</td>\n",
       "      <td>2.0</td>\n",
       "      <td>76.0</td>\n",
       "      <td>519.0</td>\n",
       "      <td>15.44</td>\n",
       "      <td>75.0</td>\n",
       "      <td>92.0</td>\n",
       "      <td>18.7</td>\n",
       "    </tr>\n",
       "    <tr>\n",
       "      <th>New Zealand</th>\n",
       "      <td>11.0</td>\n",
       "      <td>2.2</td>\n",
       "      <td>10.3</td>\n",
       "      <td>0.2</td>\n",
       "      <td>74.0</td>\n",
       "      <td>13.87</td>\n",
       "      <td>73.0</td>\n",
       "      <td>1.2</td>\n",
       "      <td>23815.0</td>\n",
       "      <td>28290.0</td>\n",
       "      <td>23.0</td>\n",
       "      <td>5.1</td>\n",
       "      <td>81.5</td>\n",
       "      <td>7.3</td>\n",
       "      <td>0.75</td>\n",
       "      <td>35609.0</td>\n",
       "      <td>94.0</td>\n",
       "      <td>2.4</td>\n",
       "      <td>90.0</td>\n",
       "      <td>509.0</td>\n",
       "      <td>14.87</td>\n",
       "      <td>77.0</td>\n",
       "      <td>89.0</td>\n",
       "      <td>18.1</td>\n",
       "    </tr>\n",
       "    <tr>\n",
       "      <th>Norway</th>\n",
       "      <td>16.0</td>\n",
       "      <td>3.3</td>\n",
       "      <td>8.1</td>\n",
       "      <td>0.3</td>\n",
       "      <td>82.0</td>\n",
       "      <td>2.82</td>\n",
       "      <td>75.0</td>\n",
       "      <td>0.6</td>\n",
       "      <td>33492.0</td>\n",
       "      <td>8797.0</td>\n",
       "      <td>17.0</td>\n",
       "      <td>3.1</td>\n",
       "      <td>81.5</td>\n",
       "      <td>7.4</td>\n",
       "      <td>0.32</td>\n",
       "      <td>50282.0</td>\n",
       "      <td>94.0</td>\n",
       "      <td>2.0</td>\n",
       "      <td>76.0</td>\n",
       "      <td>496.0</td>\n",
       "      <td>15.56</td>\n",
       "      <td>78.0</td>\n",
       "      <td>94.0</td>\n",
       "      <td>17.9</td>\n",
       "    </tr>\n",
       "    <tr>\n",
       "      <th>OECD - Total</th>\n",
       "      <td>20.0</td>\n",
       "      <td>3.9</td>\n",
       "      <td>7.3</td>\n",
       "      <td>2.4</td>\n",
       "      <td>75.0</td>\n",
       "      <td>12.51</td>\n",
       "      <td>65.0</td>\n",
       "      <td>4.0</td>\n",
       "      <td>25908.0</td>\n",
       "      <td>67139.0</td>\n",
       "      <td>18.0</td>\n",
       "      <td>5.4</td>\n",
       "      <td>79.6</td>\n",
       "      <td>6.6</td>\n",
       "      <td>2.79</td>\n",
       "      <td>36118.0</td>\n",
       "      <td>88.0</td>\n",
       "      <td>1.8</td>\n",
       "      <td>68.0</td>\n",
       "      <td>497.0</td>\n",
       "      <td>14.97</td>\n",
       "      <td>68.0</td>\n",
       "      <td>81.0</td>\n",
       "      <td>17.7</td>\n",
       "    </tr>\n",
       "    <tr>\n",
       "      <th>Poland</th>\n",
       "      <td>33.0</td>\n",
       "      <td>1.4</td>\n",
       "      <td>10.8</td>\n",
       "      <td>3.2</td>\n",
       "      <td>90.0</td>\n",
       "      <td>7.41</td>\n",
       "      <td>60.0</td>\n",
       "      <td>0.9</td>\n",
       "      <td>17852.0</td>\n",
       "      <td>10919.0</td>\n",
       "      <td>21.0</td>\n",
       "      <td>7.3</td>\n",
       "      <td>76.9</td>\n",
       "      <td>5.8</td>\n",
       "      <td>3.77</td>\n",
       "      <td>22655.0</td>\n",
       "      <td>91.0</td>\n",
       "      <td>1.1</td>\n",
       "      <td>58.0</td>\n",
       "      <td>521.0</td>\n",
       "      <td>14.20</td>\n",
       "      <td>55.0</td>\n",
       "      <td>79.0</td>\n",
       "      <td>18.4</td>\n",
       "    </tr>\n",
       "    <tr>\n",
       "      <th>Portugal</th>\n",
       "      <td>18.0</td>\n",
       "      <td>5.7</td>\n",
       "      <td>6.5</td>\n",
       "      <td>0.9</td>\n",
       "      <td>38.0</td>\n",
       "      <td>9.62</td>\n",
       "      <td>61.0</td>\n",
       "      <td>1.1</td>\n",
       "      <td>20086.0</td>\n",
       "      <td>31245.0</td>\n",
       "      <td>19.0</td>\n",
       "      <td>8.6</td>\n",
       "      <td>80.5</td>\n",
       "      <td>5.1</td>\n",
       "      <td>9.11</td>\n",
       "      <td>23688.0</td>\n",
       "      <td>86.0</td>\n",
       "      <td>1.6</td>\n",
       "      <td>46.0</td>\n",
       "      <td>488.0</td>\n",
       "      <td>14.95</td>\n",
       "      <td>58.0</td>\n",
       "      <td>86.0</td>\n",
       "      <td>17.6</td>\n",
       "    </tr>\n",
       "    <tr>\n",
       "      <th>Russia</th>\n",
       "      <td>15.0</td>\n",
       "      <td>3.8</td>\n",
       "      <td>2.5</td>\n",
       "      <td>15.1</td>\n",
       "      <td>94.0</td>\n",
       "      <td>0.16</td>\n",
       "      <td>69.0</td>\n",
       "      <td>12.8</td>\n",
       "      <td>19292.0</td>\n",
       "      <td>3412.0</td>\n",
       "      <td>11.0</td>\n",
       "      <td>4.0</td>\n",
       "      <td>70.2</td>\n",
       "      <td>6.0</td>\n",
       "      <td>1.70</td>\n",
       "      <td>20885.0</td>\n",
       "      <td>90.0</td>\n",
       "      <td>0.9</td>\n",
       "      <td>37.0</td>\n",
       "      <td>481.0</td>\n",
       "      <td>14.97</td>\n",
       "      <td>65.0</td>\n",
       "      <td>56.0</td>\n",
       "      <td>16.0</td>\n",
       "    </tr>\n",
       "    <tr>\n",
       "      <th>Slovak Republic</th>\n",
       "      <td>13.0</td>\n",
       "      <td>3.0</td>\n",
       "      <td>6.6</td>\n",
       "      <td>0.6</td>\n",
       "      <td>92.0</td>\n",
       "      <td>7.02</td>\n",
       "      <td>60.0</td>\n",
       "      <td>1.2</td>\n",
       "      <td>17503.0</td>\n",
       "      <td>8663.0</td>\n",
       "      <td>26.0</td>\n",
       "      <td>5.5</td>\n",
       "      <td>76.2</td>\n",
       "      <td>6.1</td>\n",
       "      <td>9.46</td>\n",
       "      <td>20307.0</td>\n",
       "      <td>90.0</td>\n",
       "      <td>1.1</td>\n",
       "      <td>66.0</td>\n",
       "      <td>472.0</td>\n",
       "      <td>14.99</td>\n",
       "      <td>59.0</td>\n",
       "      <td>81.0</td>\n",
       "      <td>16.3</td>\n",
       "    </tr>\n",
       "    <tr>\n",
       "      <th>Slovenia</th>\n",
       "      <td>26.0</td>\n",
       "      <td>3.9</td>\n",
       "      <td>10.3</td>\n",
       "      <td>0.5</td>\n",
       "      <td>85.0</td>\n",
       "      <td>5.63</td>\n",
       "      <td>63.0</td>\n",
       "      <td>0.4</td>\n",
       "      <td>19326.0</td>\n",
       "      <td>18465.0</td>\n",
       "      <td>20.0</td>\n",
       "      <td>5.5</td>\n",
       "      <td>80.2</td>\n",
       "      <td>5.7</td>\n",
       "      <td>5.15</td>\n",
       "      <td>32037.0</td>\n",
       "      <td>90.0</td>\n",
       "      <td>1.5</td>\n",
       "      <td>65.0</td>\n",
       "      <td>499.0</td>\n",
       "      <td>14.62</td>\n",
       "      <td>52.0</td>\n",
       "      <td>88.0</td>\n",
       "      <td>18.4</td>\n",
       "    </tr>\n",
       "    <tr>\n",
       "      <th>Spain</th>\n",
       "      <td>24.0</td>\n",
       "      <td>4.2</td>\n",
       "      <td>7.3</td>\n",
       "      <td>0.1</td>\n",
       "      <td>55.0</td>\n",
       "      <td>5.89</td>\n",
       "      <td>56.0</td>\n",
       "      <td>0.6</td>\n",
       "      <td>22477.0</td>\n",
       "      <td>24774.0</td>\n",
       "      <td>22.0</td>\n",
       "      <td>17.8</td>\n",
       "      <td>82.5</td>\n",
       "      <td>6.5</td>\n",
       "      <td>12.96</td>\n",
       "      <td>34824.0</td>\n",
       "      <td>95.0</td>\n",
       "      <td>1.9</td>\n",
       "      <td>72.0</td>\n",
       "      <td>490.0</td>\n",
       "      <td>16.06</td>\n",
       "      <td>69.0</td>\n",
       "      <td>71.0</td>\n",
       "      <td>17.6</td>\n",
       "    </tr>\n",
       "    <tr>\n",
       "      <th>Sweden</th>\n",
       "      <td>10.0</td>\n",
       "      <td>5.1</td>\n",
       "      <td>10.9</td>\n",
       "      <td>0.0</td>\n",
       "      <td>88.0</td>\n",
       "      <td>1.13</td>\n",
       "      <td>74.0</td>\n",
       "      <td>0.7</td>\n",
       "      <td>29185.0</td>\n",
       "      <td>60328.0</td>\n",
       "      <td>20.0</td>\n",
       "      <td>6.5</td>\n",
       "      <td>81.8</td>\n",
       "      <td>7.2</td>\n",
       "      <td>1.37</td>\n",
       "      <td>40818.0</td>\n",
       "      <td>92.0</td>\n",
       "      <td>1.7</td>\n",
       "      <td>81.0</td>\n",
       "      <td>482.0</td>\n",
       "      <td>15.11</td>\n",
       "      <td>86.0</td>\n",
       "      <td>95.0</td>\n",
       "      <td>19.3</td>\n",
       "    </tr>\n",
       "    <tr>\n",
       "      <th>Switzerland</th>\n",
       "      <td>20.0</td>\n",
       "      <td>4.2</td>\n",
       "      <td>8.4</td>\n",
       "      <td>0.0</td>\n",
       "      <td>86.0</td>\n",
       "      <td>6.72</td>\n",
       "      <td>80.0</td>\n",
       "      <td>0.5</td>\n",
       "      <td>33491.0</td>\n",
       "      <td>108823.0</td>\n",
       "      <td>22.0</td>\n",
       "      <td>3.0</td>\n",
       "      <td>82.8</td>\n",
       "      <td>7.5</td>\n",
       "      <td>1.46</td>\n",
       "      <td>54236.0</td>\n",
       "      <td>96.0</td>\n",
       "      <td>1.8</td>\n",
       "      <td>81.0</td>\n",
       "      <td>518.0</td>\n",
       "      <td>14.98</td>\n",
       "      <td>49.0</td>\n",
       "      <td>96.0</td>\n",
       "      <td>17.3</td>\n",
       "    </tr>\n",
       "    <tr>\n",
       "      <th>Turkey</th>\n",
       "      <td>35.0</td>\n",
       "      <td>5.0</td>\n",
       "      <td>5.5</td>\n",
       "      <td>12.7</td>\n",
       "      <td>34.0</td>\n",
       "      <td>40.86</td>\n",
       "      <td>50.0</td>\n",
       "      <td>1.2</td>\n",
       "      <td>14095.0</td>\n",
       "      <td>3251.0</td>\n",
       "      <td>21.0</td>\n",
       "      <td>8.1</td>\n",
       "      <td>74.6</td>\n",
       "      <td>5.6</td>\n",
       "      <td>2.37</td>\n",
       "      <td>16919.0</td>\n",
       "      <td>86.0</td>\n",
       "      <td>1.1</td>\n",
       "      <td>68.0</td>\n",
       "      <td>462.0</td>\n",
       "      <td>13.42</td>\n",
       "      <td>88.0</td>\n",
       "      <td>62.0</td>\n",
       "      <td>16.4</td>\n",
       "    </tr>\n",
       "    <tr>\n",
       "      <th>United Kingdom</th>\n",
       "      <td>13.0</td>\n",
       "      <td>1.9</td>\n",
       "      <td>11.5</td>\n",
       "      <td>0.2</td>\n",
       "      <td>78.0</td>\n",
       "      <td>12.70</td>\n",
       "      <td>71.0</td>\n",
       "      <td>0.3</td>\n",
       "      <td>27029.0</td>\n",
       "      <td>60778.0</td>\n",
       "      <td>23.0</td>\n",
       "      <td>5.2</td>\n",
       "      <td>81.0</td>\n",
       "      <td>6.8</td>\n",
       "      <td>2.77</td>\n",
       "      <td>41192.0</td>\n",
       "      <td>91.0</td>\n",
       "      <td>1.9</td>\n",
       "      <td>74.0</td>\n",
       "      <td>502.0</td>\n",
       "      <td>14.83</td>\n",
       "      <td>66.0</td>\n",
       "      <td>88.0</td>\n",
       "      <td>16.4</td>\n",
       "    </tr>\n",
       "    <tr>\n",
       "      <th>United States</th>\n",
       "      <td>18.0</td>\n",
       "      <td>1.5</td>\n",
       "      <td>8.3</td>\n",
       "      <td>0.1</td>\n",
       "      <td>89.0</td>\n",
       "      <td>11.30</td>\n",
       "      <td>67.0</td>\n",
       "      <td>5.2</td>\n",
       "      <td>41355.0</td>\n",
       "      <td>145769.0</td>\n",
       "      <td>18.0</td>\n",
       "      <td>5.9</td>\n",
       "      <td>78.7</td>\n",
       "      <td>7.2</td>\n",
       "      <td>1.91</td>\n",
       "      <td>56340.0</td>\n",
       "      <td>90.0</td>\n",
       "      <td>2.4</td>\n",
       "      <td>88.0</td>\n",
       "      <td>492.0</td>\n",
       "      <td>14.27</td>\n",
       "      <td>68.0</td>\n",
       "      <td>85.0</td>\n",
       "      <td>17.2</td>\n",
       "    </tr>\n",
       "  </tbody>\n",
       "</table>\n",
       "</div>"
      ],
      "text/plain": [
       "Indicator        Air pollution  Assault rate  Consultation on rule-making  \\\n",
       "Country                                                                     \n",
       "Australia                 13.0           2.1                         10.5   \n",
       "Austria                   27.0           3.4                          7.1   \n",
       "Belgium                   21.0           6.6                          4.5   \n",
       "Brazil                    18.0           7.9                          4.0   \n",
       "Canada                    15.0           1.3                         10.5   \n",
       "Chile                     46.0           6.9                          2.0   \n",
       "Czech Republic            16.0           2.8                          6.8   \n",
       "Denmark                   15.0           3.9                          7.0   \n",
       "Estonia                    9.0           5.5                          3.3   \n",
       "Finland                   15.0           2.4                          9.0   \n",
       "France                    12.0           5.0                          3.5   \n",
       "Germany                   16.0           3.6                          4.5   \n",
       "Greece                    27.0           3.7                          6.5   \n",
       "Hungary                   15.0           3.6                          7.9   \n",
       "Iceland                   18.0           2.7                          5.1   \n",
       "Ireland                   13.0           2.6                          9.0   \n",
       "Israel                    21.0           6.4                          2.5   \n",
       "Italy                     21.0           4.7                          5.0   \n",
       "Japan                     24.0           1.4                          7.3   \n",
       "Korea                     30.0           2.1                         10.4   \n",
       "Luxembourg                12.0           4.3                          6.0   \n",
       "Mexico                    30.0          12.8                          9.0   \n",
       "Netherlands               30.0           4.9                          6.1   \n",
       "New Zealand               11.0           2.2                         10.3   \n",
       "Norway                    16.0           3.3                          8.1   \n",
       "OECD - Total              20.0           3.9                          7.3   \n",
       "Poland                    33.0           1.4                         10.8   \n",
       "Portugal                  18.0           5.7                          6.5   \n",
       "Russia                    15.0           3.8                          2.5   \n",
       "Slovak Republic           13.0           3.0                          6.6   \n",
       "Slovenia                  26.0           3.9                         10.3   \n",
       "Spain                     24.0           4.2                          7.3   \n",
       "Sweden                    10.0           5.1                         10.9   \n",
       "Switzerland               20.0           4.2                          8.4   \n",
       "Turkey                    35.0           5.0                          5.5   \n",
       "United Kingdom            13.0           1.9                         11.5   \n",
       "United States             18.0           1.5                          8.3   \n",
       "\n",
       "Indicator        Dwellings without basic facilities  Educational attainment  \\\n",
       "Country                                                                       \n",
       "Australia                                       1.1                    76.0   \n",
       "Austria                                         1.0                    83.0   \n",
       "Belgium                                         2.0                    72.0   \n",
       "Brazil                                          6.7                    45.0   \n",
       "Canada                                          0.2                    89.0   \n",
       "Chile                                           9.4                    57.0   \n",
       "Czech Republic                                  0.9                    92.0   \n",
       "Denmark                                         0.9                    78.0   \n",
       "Estonia                                         8.1                    90.0   \n",
       "Finland                                         0.6                    85.0   \n",
       "France                                          0.5                    73.0   \n",
       "Germany                                         0.1                    86.0   \n",
       "Greece                                          0.7                    68.0   \n",
       "Hungary                                         4.8                    82.0   \n",
       "Iceland                                         0.4                    71.0   \n",
       "Ireland                                         0.2                    75.0   \n",
       "Israel                                          3.7                    85.0   \n",
       "Italy                                           1.1                    57.0   \n",
       "Japan                                           6.4                    94.0   \n",
       "Korea                                           4.2                    82.0   \n",
       "Luxembourg                                      0.1                    78.0   \n",
       "Mexico                                          4.2                    37.0   \n",
       "Netherlands                                     0.0                    73.0   \n",
       "New Zealand                                     0.2                    74.0   \n",
       "Norway                                          0.3                    82.0   \n",
       "OECD - Total                                    2.4                    75.0   \n",
       "Poland                                          3.2                    90.0   \n",
       "Portugal                                        0.9                    38.0   \n",
       "Russia                                         15.1                    94.0   \n",
       "Slovak Republic                                 0.6                    92.0   \n",
       "Slovenia                                        0.5                    85.0   \n",
       "Spain                                           0.1                    55.0   \n",
       "Sweden                                          0.0                    88.0   \n",
       "Switzerland                                     0.0                    86.0   \n",
       "Turkey                                         12.7                    34.0   \n",
       "United Kingdom                                  0.2                    78.0   \n",
       "United States                                   0.1                    89.0   \n",
       "\n",
       "Indicator        Employees working very long hours  Employment rate  \\\n",
       "Country                                                               \n",
       "Australia                                    14.02             72.0   \n",
       "Austria                                       7.61             72.0   \n",
       "Belgium                                       4.57             62.0   \n",
       "Brazil                                       10.41             67.0   \n",
       "Canada                                        3.94             72.0   \n",
       "Chile                                        15.42             62.0   \n",
       "Czech Republic                                6.98             68.0   \n",
       "Denmark                                       2.03             73.0   \n",
       "Estonia                                       3.30             68.0   \n",
       "Finland                                       3.58             69.0   \n",
       "France                                        8.15             64.0   \n",
       "Germany                                       5.25             73.0   \n",
       "Greece                                        6.16             49.0   \n",
       "Hungary                                       3.19             58.0   \n",
       "Iceland                                      12.25             82.0   \n",
       "Ireland                                       4.20             60.0   \n",
       "Israel                                       16.03             67.0   \n",
       "Italy                                         3.66             56.0   \n",
       "Japan                                        22.26             72.0   \n",
       "Korea                                        18.72             64.0   \n",
       "Luxembourg                                    3.47             66.0   \n",
       "Mexico                                       28.83             61.0   \n",
       "Netherlands                                   0.45             74.0   \n",
       "New Zealand                                  13.87             73.0   \n",
       "Norway                                        2.82             75.0   \n",
       "OECD - Total                                 12.51             65.0   \n",
       "Poland                                        7.41             60.0   \n",
       "Portugal                                      9.62             61.0   \n",
       "Russia                                        0.16             69.0   \n",
       "Slovak Republic                               7.02             60.0   \n",
       "Slovenia                                      5.63             63.0   \n",
       "Spain                                         5.89             56.0   \n",
       "Sweden                                        1.13             74.0   \n",
       "Switzerland                                   6.72             80.0   \n",
       "Turkey                                       40.86             50.0   \n",
       "United Kingdom                               12.70             71.0   \n",
       "United States                                11.30             67.0   \n",
       "\n",
       "Indicator        Homicide rate  Household net adjusted disposable income  \\\n",
       "Country                                                                    \n",
       "Australia                  0.8                                   31588.0   \n",
       "Austria                    0.4                                   31173.0   \n",
       "Belgium                    1.1                                   28307.0   \n",
       "Brazil                    25.5                                   11664.0   \n",
       "Canada                     1.5                                   29365.0   \n",
       "Chile                      4.4                                   14533.0   \n",
       "Czech Republic             0.8                                   18404.0   \n",
       "Denmark                    0.3                                   26491.0   \n",
       "Estonia                    4.8                                   15167.0   \n",
       "Finland                    1.4                                   27927.0   \n",
       "France                     0.6                                   28799.0   \n",
       "Germany                    0.5                                   31252.0   \n",
       "Greece                     1.6                                   18575.0   \n",
       "Hungary                    1.3                                   15442.0   \n",
       "Iceland                    0.3                                   23965.0   \n",
       "Ireland                    0.8                                   23917.0   \n",
       "Israel                     2.3                                   22104.0   \n",
       "Italy                      0.7                                   25166.0   \n",
       "Japan                      0.3                                   26111.0   \n",
       "Korea                      1.1                                   19510.0   \n",
       "Luxembourg                 0.4                                   38951.0   \n",
       "Mexico                    23.4                                   13085.0   \n",
       "Netherlands                0.9                                   27888.0   \n",
       "New Zealand                1.2                                   23815.0   \n",
       "Norway                     0.6                                   33492.0   \n",
       "OECD - Total               4.0                                   25908.0   \n",
       "Poland                     0.9                                   17852.0   \n",
       "Portugal                   1.1                                   20086.0   \n",
       "Russia                    12.8                                   19292.0   \n",
       "Slovak Republic            1.2                                   17503.0   \n",
       "Slovenia                   0.4                                   19326.0   \n",
       "Spain                      0.6                                   22477.0   \n",
       "Sweden                     0.7                                   29185.0   \n",
       "Switzerland                0.5                                   33491.0   \n",
       "Turkey                     1.2                                   14095.0   \n",
       "United Kingdom             0.3                                   27029.0   \n",
       "United States              5.2                                   41355.0   \n",
       "\n",
       "Indicator        Household net financial wealth  Housing expenditure  \\\n",
       "Country                                                                \n",
       "Australia                               47657.0                 20.0   \n",
       "Austria                                 49887.0                 21.0   \n",
       "Belgium                                 83876.0                 21.0   \n",
       "Brazil                                   6844.0                 21.0   \n",
       "Canada                                  67913.0                 21.0   \n",
       "Chile                                   17733.0                 18.0   \n",
       "Czech Republic                          17299.0                 26.0   \n",
       "Denmark                                 44488.0                 24.0   \n",
       "Estonia                                  7680.0                 19.0   \n",
       "Finland                                 18761.0                 22.0   \n",
       "France                                  48741.0                 21.0   \n",
       "Germany                                 50394.0                 21.0   \n",
       "Greece                                  14579.0                 25.0   \n",
       "Hungary                                 13277.0                 20.0   \n",
       "Iceland                                 43045.0                 24.0   \n",
       "Ireland                                 31580.0                 19.0   \n",
       "Israel                                  52933.0                 21.0   \n",
       "Italy                                   54987.0                 24.0   \n",
       "Japan                                   86764.0                 22.0   \n",
       "Korea                                   29091.0                 16.0   \n",
       "Luxembourg                              61765.0                 21.0   \n",
       "Mexico                                   9056.0                 21.0   \n",
       "Netherlands                             77961.0                 19.0   \n",
       "New Zealand                             28290.0                 23.0   \n",
       "Norway                                   8797.0                 17.0   \n",
       "OECD - Total                            67139.0                 18.0   \n",
       "Poland                                  10919.0                 21.0   \n",
       "Portugal                                31245.0                 19.0   \n",
       "Russia                                   3412.0                 11.0   \n",
       "Slovak Republic                          8663.0                 26.0   \n",
       "Slovenia                                18465.0                 20.0   \n",
       "Spain                                   24774.0                 22.0   \n",
       "Sweden                                  60328.0                 20.0   \n",
       "Switzerland                            108823.0                 22.0   \n",
       "Turkey                                   3251.0                 21.0   \n",
       "United Kingdom                          60778.0                 23.0   \n",
       "United States                          145769.0                 18.0   \n",
       "\n",
       "Indicator        Job security  Life expectancy  Life satisfaction  \\\n",
       "Country                                                             \n",
       "Australia                 4.8             82.1                7.3   \n",
       "Austria                   3.9             81.0                6.9   \n",
       "Belgium                   5.0             80.5                6.9   \n",
       "Brazil                    4.6             73.7                7.0   \n",
       "Canada                    6.4             81.5                7.3   \n",
       "Chile                     4.4             78.9                6.7   \n",
       "Czech Republic            4.1             78.2                6.5   \n",
       "Denmark                   5.6             80.1                7.5   \n",
       "Estonia                   5.2             76.5                5.6   \n",
       "Finland                   6.9             80.7                7.4   \n",
       "France                    6.5             82.1                6.5   \n",
       "Germany                   3.1             81.0                7.0   \n",
       "Greece                   12.2             80.7                4.8   \n",
       "Hungary                   5.7             75.2                4.9   \n",
       "Iceland                   4.1             83.0                7.5   \n",
       "Ireland                   5.9             81.0                7.0   \n",
       "Israel                    5.0             81.8                7.4   \n",
       "Italy                     5.9             82.3                6.0   \n",
       "Japan                     2.4             83.2                5.9   \n",
       "Korea                     3.2             81.3                5.8   \n",
       "Luxembourg                4.3             81.5                6.9   \n",
       "Mexico                    4.9             74.6                6.7   \n",
       "Netherlands               4.5             81.2                7.3   \n",
       "New Zealand               5.1             81.5                7.3   \n",
       "Norway                    3.1             81.5                7.4   \n",
       "OECD - Total              5.4             79.6                6.6   \n",
       "Poland                    7.3             76.9                5.8   \n",
       "Portugal                  8.6             80.5                5.1   \n",
       "Russia                    4.0             70.2                6.0   \n",
       "Slovak Republic           5.5             76.2                6.1   \n",
       "Slovenia                  5.5             80.2                5.7   \n",
       "Spain                    17.8             82.5                6.5   \n",
       "Sweden                    6.5             81.8                7.2   \n",
       "Switzerland               3.0             82.8                7.5   \n",
       "Turkey                    8.1             74.6                5.6   \n",
       "United Kingdom            5.2             81.0                6.8   \n",
       "United States             5.9             78.7                7.2   \n",
       "\n",
       "Indicator        Long-term unemployment rate  Personal earnings  \\\n",
       "Country                                                           \n",
       "Australia                               1.08            50449.0   \n",
       "Austria                                 1.19            45199.0   \n",
       "Belgium                                 3.88            48082.0   \n",
       "Brazil                                  1.97            17177.0   \n",
       "Canada                                  0.90            46911.0   \n",
       "Chile                                   1.59            22101.0   \n",
       "Czech Republic                          3.12            20338.0   \n",
       "Denmark                                 1.78            48347.0   \n",
       "Estonia                                 3.82            18944.0   \n",
       "Finland                                 1.73            40060.0   \n",
       "France                                  3.99            40242.0   \n",
       "Germany                                 2.37            43682.0   \n",
       "Greece                                 18.39            25503.0   \n",
       "Hungary                                 5.10            20948.0   \n",
       "Iceland                                 1.18            55716.0   \n",
       "Ireland                                 8.39            49506.0   \n",
       "Israel                                  0.79            28817.0   \n",
       "Italy                                   6.94            34561.0   \n",
       "Japan                                   1.67            35405.0   \n",
       "Korea                                   0.01            36354.0   \n",
       "Luxembourg                              1.78            56021.0   \n",
       "Mexico                                  0.08            16193.0   \n",
       "Netherlands                             2.40            47590.0   \n",
       "New Zealand                             0.75            35609.0   \n",
       "Norway                                  0.32            50282.0   \n",
       "OECD - Total                            2.79            36118.0   \n",
       "Poland                                  3.77            22655.0   \n",
       "Portugal                                9.11            23688.0   \n",
       "Russia                                  1.70            20885.0   \n",
       "Slovak Republic                         9.46            20307.0   \n",
       "Slovenia                                5.15            32037.0   \n",
       "Spain                                  12.96            34824.0   \n",
       "Sweden                                  1.37            40818.0   \n",
       "Switzerland                             1.46            54236.0   \n",
       "Turkey                                  2.37            16919.0   \n",
       "United Kingdom                          2.77            41192.0   \n",
       "United States                           1.91            56340.0   \n",
       "\n",
       "Indicator        Quality of support network  Rooms per person  \\\n",
       "Country                                                         \n",
       "Australia                              92.0               2.3   \n",
       "Austria                                89.0               1.6   \n",
       "Belgium                                94.0               2.2   \n",
       "Brazil                                 90.0               1.6   \n",
       "Canada                                 92.0               2.5   \n",
       "Chile                                  86.0               1.2   \n",
       "Czech Republic                         85.0               1.4   \n",
       "Denmark                                95.0               1.9   \n",
       "Estonia                                89.0               1.5   \n",
       "Finland                                95.0               1.9   \n",
       "France                                 87.0               1.8   \n",
       "Germany                                94.0               1.8   \n",
       "Greece                                 83.0               1.2   \n",
       "Hungary                                87.0               1.1   \n",
       "Iceland                                96.0               1.5   \n",
       "Ireland                                96.0               2.1   \n",
       "Israel                                 87.0               1.2   \n",
       "Italy                                  90.0               1.4   \n",
       "Japan                                  89.0               1.8   \n",
       "Korea                                  72.0               1.4   \n",
       "Luxembourg                             87.0               2.0   \n",
       "Mexico                                 77.0               1.0   \n",
       "Netherlands                            90.0               2.0   \n",
       "New Zealand                            94.0               2.4   \n",
       "Norway                                 94.0               2.0   \n",
       "OECD - Total                           88.0               1.8   \n",
       "Poland                                 91.0               1.1   \n",
       "Portugal                               86.0               1.6   \n",
       "Russia                                 90.0               0.9   \n",
       "Slovak Republic                        90.0               1.1   \n",
       "Slovenia                               90.0               1.5   \n",
       "Spain                                  95.0               1.9   \n",
       "Sweden                                 92.0               1.7   \n",
       "Switzerland                            96.0               1.8   \n",
       "Turkey                                 86.0               1.1   \n",
       "United Kingdom                         91.0               1.9   \n",
       "United States                          90.0               2.4   \n",
       "\n",
       "Indicator        Self-reported health  Student skills  \\\n",
       "Country                                                 \n",
       "Australia                        85.0           512.0   \n",
       "Austria                          69.0           500.0   \n",
       "Belgium                          74.0           509.0   \n",
       "Brazil                           69.0           402.0   \n",
       "Canada                           89.0           522.0   \n",
       "Chile                            59.0           436.0   \n",
       "Czech Republic                   60.0           500.0   \n",
       "Denmark                          72.0           498.0   \n",
       "Estonia                          54.0           526.0   \n",
       "Finland                          65.0           529.0   \n",
       "France                           67.0           500.0   \n",
       "Germany                          65.0           515.0   \n",
       "Greece                           74.0           466.0   \n",
       "Hungary                          57.0           487.0   \n",
       "Iceland                          77.0           484.0   \n",
       "Ireland                          82.0           516.0   \n",
       "Israel                           80.0           474.0   \n",
       "Italy                            66.0           490.0   \n",
       "Japan                            30.0           540.0   \n",
       "Korea                            35.0           542.0   \n",
       "Luxembourg                       72.0           490.0   \n",
       "Mexico                           66.0           417.0   \n",
       "Netherlands                      76.0           519.0   \n",
       "New Zealand                      90.0           509.0   \n",
       "Norway                           76.0           496.0   \n",
       "OECD - Total                     68.0           497.0   \n",
       "Poland                           58.0           521.0   \n",
       "Portugal                         46.0           488.0   \n",
       "Russia                           37.0           481.0   \n",
       "Slovak Republic                  66.0           472.0   \n",
       "Slovenia                         65.0           499.0   \n",
       "Spain                            72.0           490.0   \n",
       "Sweden                           81.0           482.0   \n",
       "Switzerland                      81.0           518.0   \n",
       "Turkey                           68.0           462.0   \n",
       "United Kingdom                   74.0           502.0   \n",
       "United States                    88.0           492.0   \n",
       "\n",
       "Indicator        Time devoted to leisure and personal care  Voter turnout  \\\n",
       "Country                                                                     \n",
       "Australia                                            14.41           93.0   \n",
       "Austria                                              14.46           75.0   \n",
       "Belgium                                              15.71           89.0   \n",
       "Brazil                                               14.97           79.0   \n",
       "Canada                                               14.25           61.0   \n",
       "Chile                                                14.41           49.0   \n",
       "Czech Republic                                       14.98           59.0   \n",
       "Denmark                                              16.06           88.0   \n",
       "Estonia                                              14.90           64.0   \n",
       "Finland                                              14.89           69.0   \n",
       "France                                               15.33           80.0   \n",
       "Germany                                              15.31           72.0   \n",
       "Greece                                               14.91           64.0   \n",
       "Hungary                                              15.04           62.0   \n",
       "Iceland                                              14.61           81.0   \n",
       "Ireland                                              15.19           70.0   \n",
       "Israel                                               14.48           68.0   \n",
       "Italy                                                14.98           75.0   \n",
       "Japan                                                14.93           53.0   \n",
       "Korea                                                14.63           76.0   \n",
       "Luxembourg                                           15.12           91.0   \n",
       "Mexico                                               13.89           63.0   \n",
       "Netherlands                                          15.44           75.0   \n",
       "New Zealand                                          14.87           77.0   \n",
       "Norway                                               15.56           78.0   \n",
       "OECD - Total                                         14.97           68.0   \n",
       "Poland                                               14.20           55.0   \n",
       "Portugal                                             14.95           58.0   \n",
       "Russia                                               14.97           65.0   \n",
       "Slovak Republic                                      14.99           59.0   \n",
       "Slovenia                                             14.62           52.0   \n",
       "Spain                                                16.06           69.0   \n",
       "Sweden                                               15.11           86.0   \n",
       "Switzerland                                          14.98           49.0   \n",
       "Turkey                                               13.42           88.0   \n",
       "United Kingdom                                       14.83           66.0   \n",
       "United States                                        14.27           68.0   \n",
       "\n",
       "Indicator        Water quality  Years in education  \n",
       "Country                                             \n",
       "Australia                 91.0                19.4  \n",
       "Austria                   94.0                17.0  \n",
       "Belgium                   87.0                18.9  \n",
       "Brazil                    72.0                16.3  \n",
       "Canada                    91.0                17.2  \n",
       "Chile                     73.0                16.5  \n",
       "Czech Republic            85.0                18.1  \n",
       "Denmark                   94.0                19.4  \n",
       "Estonia                   79.0                17.5  \n",
       "Finland                   94.0                19.7  \n",
       "France                    82.0                16.4  \n",
       "Germany                   95.0                18.2  \n",
       "Greece                    69.0                18.6  \n",
       "Hungary                   77.0                17.6  \n",
       "Iceland                   97.0                19.8  \n",
       "Ireland                   80.0                17.6  \n",
       "Israel                    68.0                15.8  \n",
       "Italy                     71.0                16.8  \n",
       "Japan                     85.0                16.3  \n",
       "Korea                     78.0                17.5  \n",
       "Luxembourg                86.0                15.1  \n",
       "Mexico                    67.0                14.4  \n",
       "Netherlands               92.0                18.7  \n",
       "New Zealand               89.0                18.1  \n",
       "Norway                    94.0                17.9  \n",
       "OECD - Total              81.0                17.7  \n",
       "Poland                    79.0                18.4  \n",
       "Portugal                  86.0                17.6  \n",
       "Russia                    56.0                16.0  \n",
       "Slovak Republic           81.0                16.3  \n",
       "Slovenia                  88.0                18.4  \n",
       "Spain                     71.0                17.6  \n",
       "Sweden                    95.0                19.3  \n",
       "Switzerland               96.0                17.3  \n",
       "Turkey                    62.0                16.4  \n",
       "United Kingdom            88.0                16.4  \n",
       "United States             85.0                17.2  "
      ]
     },
     "execution_count": 23,
     "metadata": {},
     "output_type": "execute_result"
    }
   ],
   "source": [
    "oecd_bli"
   ]
  },
  {
   "cell_type": "markdown",
   "metadata": {
    "id": "mf8O3K0jC1KS"
   },
   "source": [
    "참고로 대한민국의 측정지표별 수치는 다음과 같다(위 이미지 중간의 파란띠로 구분된 영역 참조)."
   ]
  },
  {
   "cell_type": "code",
   "execution_count": 24,
   "metadata": {
    "colab": {
     "base_uri": "https://localhost:8080/"
    },
    "id": "bVEhCPoyC1KS",
    "outputId": "ebfa9329-5d69-4e63-cc90-d1e8aacd8653"
   },
   "outputs": [
    {
     "data": {
      "text/plain": [
       "Indicator\n",
       "Air pollution                                   30.00\n",
       "Assault rate                                     2.10\n",
       "Consultation on rule-making                     10.40\n",
       "Dwellings without basic facilities               4.20\n",
       "Educational attainment                          82.00\n",
       "Employees working very long hours               18.72\n",
       "Employment rate                                 64.00\n",
       "Homicide rate                                    1.10\n",
       "Household net adjusted disposable income     19510.00\n",
       "Household net financial wealth               29091.00\n",
       "Housing expenditure                             16.00\n",
       "Job security                                     3.20\n",
       "Life expectancy                                 81.30\n",
       "Life satisfaction                                5.80\n",
       "Long-term unemployment rate                      0.01\n",
       "Personal earnings                            36354.00\n",
       "Quality of support network                      72.00\n",
       "Rooms per person                                 1.40\n",
       "Self-reported health                            35.00\n",
       "Student skills                                 542.00\n",
       "Time devoted to leisure and personal care       14.63\n",
       "Voter turnout                                   76.00\n",
       "Water quality                                   78.00\n",
       "Years in education                              17.50\n",
       "Name: Korea, dtype: float64"
      ]
     },
     "execution_count": 24,
     "metadata": {},
     "output_type": "execute_result"
    }
   ],
   "source": [
    "oecd_bli.loc['Korea']"
   ]
  },
  {
   "cell_type": "markdown",
   "metadata": {
    "id": "e3Ll4sW8CkFn"
   },
   "source": [
    "알파벳 순으로 첫 5개 국가의 삶의 만족도는 `\"Life satisfaction\"` 열(column)에서 확인할 수 있다."
   ]
  },
  {
   "cell_type": "code",
   "execution_count": 25,
   "metadata": {
    "colab": {
     "base_uri": "https://localhost:8080/"
    },
    "id": "15T7EozwfLIi",
    "outputId": "2ca87aa1-a25d-41ed-f00a-53a139d6100e"
   },
   "outputs": [
    {
     "data": {
      "text/plain": [
       "Country\n",
       "Australia    7.3\n",
       "Austria      6.9\n",
       "Belgium      6.9\n",
       "Brazil       7.0\n",
       "Canada       7.3\n",
       "Name: Life satisfaction, dtype: float64"
      ]
     },
     "execution_count": 25,
     "metadata": {},
     "output_type": "execute_result"
    }
   ],
   "source": [
    "oecd_bli[\"Life satisfaction\"].head()"
   ]
  },
  {
   "cell_type": "markdown",
   "metadata": {
    "id": "DPaCKhp3GkNo"
   },
   "source": [
    "#### 데이터 병합"
   ]
  },
  {
   "cell_type": "markdown",
   "metadata": {
    "id": "82AsWgtEGd_v"
   },
   "source": [
    "앞서 살펴본 대로 1인당 GDP 데이터는 OECD 회원국 이외의 국가 데이터도 포함되어 있다.\n",
    "OECD 회원국으로 제한해서 1인당 GDP와 삶의 만족도 사이의 관계를 파악하기 위해\n",
    "앞서 구한 두 개의 데이터프레임을 하나로 병합한다.\n",
    "\n",
    "- 판다스의 `merge()` 함수를 이용한다. \n",
    "- OECD 회원국들만 대상으로 하기 위해 \n",
    "    `left_index=True`와 `right_index=True`로 설정한다."
   ]
  },
  {
   "cell_type": "code",
   "execution_count": 26,
   "metadata": {
    "id": "vzx39qQifLIi"
   },
   "outputs": [],
   "source": [
    "oecd_country_stats = pd.merge(left=gdp_per_capita_2015['GDP per capita'],\n",
    "                              right=oecd_bli['Life satisfaction'], \n",
    "                              left_index=True, right_index=True)"
   ]
  },
  {
   "cell_type": "code",
   "execution_count": 27,
   "metadata": {
    "colab": {
     "base_uri": "https://localhost:8080/",
     "height": 1000
    },
    "id": "NsZG_Wg_C1KT",
    "outputId": "57ac74ce-59a8-4c60-aa8d-3e7fb2f356d4"
   },
   "outputs": [
    {
     "data": {
      "text/html": [
       "<div>\n",
       "<style scoped>\n",
       "    .dataframe tbody tr th:only-of-type {\n",
       "        vertical-align: middle;\n",
       "    }\n",
       "\n",
       "    .dataframe tbody tr th {\n",
       "        vertical-align: top;\n",
       "    }\n",
       "\n",
       "    .dataframe thead th {\n",
       "        text-align: right;\n",
       "    }\n",
       "</style>\n",
       "<table border=\"1\" class=\"dataframe\">\n",
       "  <thead>\n",
       "    <tr style=\"text-align: right;\">\n",
       "      <th></th>\n",
       "      <th>GDP per capita</th>\n",
       "      <th>Life satisfaction</th>\n",
       "    </tr>\n",
       "    <tr>\n",
       "      <th>Country</th>\n",
       "      <th></th>\n",
       "      <th></th>\n",
       "    </tr>\n",
       "  </thead>\n",
       "  <tbody>\n",
       "    <tr>\n",
       "      <th>Australia</th>\n",
       "      <td>50961.865</td>\n",
       "      <td>7.3</td>\n",
       "    </tr>\n",
       "    <tr>\n",
       "      <th>Austria</th>\n",
       "      <td>43724.031</td>\n",
       "      <td>6.9</td>\n",
       "    </tr>\n",
       "    <tr>\n",
       "      <th>Belgium</th>\n",
       "      <td>40106.632</td>\n",
       "      <td>6.9</td>\n",
       "    </tr>\n",
       "    <tr>\n",
       "      <th>Brazil</th>\n",
       "      <td>8669.998</td>\n",
       "      <td>7.0</td>\n",
       "    </tr>\n",
       "    <tr>\n",
       "      <th>Canada</th>\n",
       "      <td>43331.961</td>\n",
       "      <td>7.3</td>\n",
       "    </tr>\n",
       "    <tr>\n",
       "      <th>Chile</th>\n",
       "      <td>13340.905</td>\n",
       "      <td>6.7</td>\n",
       "    </tr>\n",
       "    <tr>\n",
       "      <th>Czech Republic</th>\n",
       "      <td>17256.918</td>\n",
       "      <td>6.5</td>\n",
       "    </tr>\n",
       "    <tr>\n",
       "      <th>Denmark</th>\n",
       "      <td>52114.165</td>\n",
       "      <td>7.5</td>\n",
       "    </tr>\n",
       "    <tr>\n",
       "      <th>Estonia</th>\n",
       "      <td>17288.083</td>\n",
       "      <td>5.6</td>\n",
       "    </tr>\n",
       "    <tr>\n",
       "      <th>Finland</th>\n",
       "      <td>41973.988</td>\n",
       "      <td>7.4</td>\n",
       "    </tr>\n",
       "    <tr>\n",
       "      <th>France</th>\n",
       "      <td>37675.006</td>\n",
       "      <td>6.5</td>\n",
       "    </tr>\n",
       "    <tr>\n",
       "      <th>Germany</th>\n",
       "      <td>40996.511</td>\n",
       "      <td>7.0</td>\n",
       "    </tr>\n",
       "    <tr>\n",
       "      <th>Greece</th>\n",
       "      <td>18064.288</td>\n",
       "      <td>4.8</td>\n",
       "    </tr>\n",
       "    <tr>\n",
       "      <th>Hungary</th>\n",
       "      <td>12239.894</td>\n",
       "      <td>4.9</td>\n",
       "    </tr>\n",
       "    <tr>\n",
       "      <th>Iceland</th>\n",
       "      <td>50854.583</td>\n",
       "      <td>7.5</td>\n",
       "    </tr>\n",
       "    <tr>\n",
       "      <th>Ireland</th>\n",
       "      <td>51350.744</td>\n",
       "      <td>7.0</td>\n",
       "    </tr>\n",
       "    <tr>\n",
       "      <th>Israel</th>\n",
       "      <td>35343.336</td>\n",
       "      <td>7.4</td>\n",
       "    </tr>\n",
       "    <tr>\n",
       "      <th>Italy</th>\n",
       "      <td>29866.581</td>\n",
       "      <td>6.0</td>\n",
       "    </tr>\n",
       "    <tr>\n",
       "      <th>Japan</th>\n",
       "      <td>32485.545</td>\n",
       "      <td>5.9</td>\n",
       "    </tr>\n",
       "    <tr>\n",
       "      <th>Korea</th>\n",
       "      <td>27195.197</td>\n",
       "      <td>5.8</td>\n",
       "    </tr>\n",
       "    <tr>\n",
       "      <th>Luxembourg</th>\n",
       "      <td>101994.093</td>\n",
       "      <td>6.9</td>\n",
       "    </tr>\n",
       "    <tr>\n",
       "      <th>Mexico</th>\n",
       "      <td>9009.280</td>\n",
       "      <td>6.7</td>\n",
       "    </tr>\n",
       "    <tr>\n",
       "      <th>Netherlands</th>\n",
       "      <td>43603.115</td>\n",
       "      <td>7.3</td>\n",
       "    </tr>\n",
       "    <tr>\n",
       "      <th>New Zealand</th>\n",
       "      <td>37044.891</td>\n",
       "      <td>7.3</td>\n",
       "    </tr>\n",
       "    <tr>\n",
       "      <th>Norway</th>\n",
       "      <td>74822.106</td>\n",
       "      <td>7.4</td>\n",
       "    </tr>\n",
       "    <tr>\n",
       "      <th>Poland</th>\n",
       "      <td>12495.334</td>\n",
       "      <td>5.8</td>\n",
       "    </tr>\n",
       "    <tr>\n",
       "      <th>Portugal</th>\n",
       "      <td>19121.592</td>\n",
       "      <td>5.1</td>\n",
       "    </tr>\n",
       "    <tr>\n",
       "      <th>Russia</th>\n",
       "      <td>9054.914</td>\n",
       "      <td>6.0</td>\n",
       "    </tr>\n",
       "    <tr>\n",
       "      <th>Slovak Republic</th>\n",
       "      <td>15991.736</td>\n",
       "      <td>6.1</td>\n",
       "    </tr>\n",
       "    <tr>\n",
       "      <th>Slovenia</th>\n",
       "      <td>20732.482</td>\n",
       "      <td>5.7</td>\n",
       "    </tr>\n",
       "    <tr>\n",
       "      <th>Spain</th>\n",
       "      <td>25864.721</td>\n",
       "      <td>6.5</td>\n",
       "    </tr>\n",
       "    <tr>\n",
       "      <th>Sweden</th>\n",
       "      <td>49866.266</td>\n",
       "      <td>7.2</td>\n",
       "    </tr>\n",
       "    <tr>\n",
       "      <th>Switzerland</th>\n",
       "      <td>80675.308</td>\n",
       "      <td>7.5</td>\n",
       "    </tr>\n",
       "    <tr>\n",
       "      <th>Turkey</th>\n",
       "      <td>9437.372</td>\n",
       "      <td>5.6</td>\n",
       "    </tr>\n",
       "    <tr>\n",
       "      <th>United Kingdom</th>\n",
       "      <td>43770.688</td>\n",
       "      <td>6.8</td>\n",
       "    </tr>\n",
       "    <tr>\n",
       "      <th>United States</th>\n",
       "      <td>55805.204</td>\n",
       "      <td>7.2</td>\n",
       "    </tr>\n",
       "  </tbody>\n",
       "</table>\n",
       "</div>"
      ],
      "text/plain": [
       "                 GDP per capita  Life satisfaction\n",
       "Country                                           \n",
       "Australia             50961.865                7.3\n",
       "Austria               43724.031                6.9\n",
       "Belgium               40106.632                6.9\n",
       "Brazil                 8669.998                7.0\n",
       "Canada                43331.961                7.3\n",
       "Chile                 13340.905                6.7\n",
       "Czech Republic        17256.918                6.5\n",
       "Denmark               52114.165                7.5\n",
       "Estonia               17288.083                5.6\n",
       "Finland               41973.988                7.4\n",
       "France                37675.006                6.5\n",
       "Germany               40996.511                7.0\n",
       "Greece                18064.288                4.8\n",
       "Hungary               12239.894                4.9\n",
       "Iceland               50854.583                7.5\n",
       "Ireland               51350.744                7.0\n",
       "Israel                35343.336                7.4\n",
       "Italy                 29866.581                6.0\n",
       "Japan                 32485.545                5.9\n",
       "Korea                 27195.197                5.8\n",
       "Luxembourg           101994.093                6.9\n",
       "Mexico                 9009.280                6.7\n",
       "Netherlands           43603.115                7.3\n",
       "New Zealand           37044.891                7.3\n",
       "Norway                74822.106                7.4\n",
       "Poland                12495.334                5.8\n",
       "Portugal              19121.592                5.1\n",
       "Russia                 9054.914                6.0\n",
       "Slovak Republic       15991.736                6.1\n",
       "Slovenia              20732.482                5.7\n",
       "Spain                 25864.721                6.5\n",
       "Sweden                49866.266                7.2\n",
       "Switzerland           80675.308                7.5\n",
       "Turkey                 9437.372                5.6\n",
       "United Kingdom        43770.688                6.8\n",
       "United States         55805.204                7.2"
      ]
     },
     "execution_count": 27,
     "metadata": {},
     "output_type": "execute_result"
    }
   ],
   "source": [
    "oecd_country_stats"
   ]
  },
  {
   "cell_type": "markdown",
   "metadata": {
    "id": "0-0FXycbC1KT"
   },
   "source": [
    "1인당 GDP와 삶의 만족도 사이의 선형 관계를 눈으로 확인하기 위해 국가를 \n",
    "1인당 GDP 기준 오름차순으로 정렬시킨다."
   ]
  },
  {
   "cell_type": "code",
   "execution_count": 28,
   "metadata": {
    "colab": {
     "base_uri": "https://localhost:8080/",
     "height": 1000
    },
    "id": "U7XPA6oZC1KT",
    "outputId": "7fdbaadb-805a-45a8-a626-56390f09f4c2"
   },
   "outputs": [
    {
     "data": {
      "text/html": [
       "<div>\n",
       "<style scoped>\n",
       "    .dataframe tbody tr th:only-of-type {\n",
       "        vertical-align: middle;\n",
       "    }\n",
       "\n",
       "    .dataframe tbody tr th {\n",
       "        vertical-align: top;\n",
       "    }\n",
       "\n",
       "    .dataframe thead th {\n",
       "        text-align: right;\n",
       "    }\n",
       "</style>\n",
       "<table border=\"1\" class=\"dataframe\">\n",
       "  <thead>\n",
       "    <tr style=\"text-align: right;\">\n",
       "      <th></th>\n",
       "      <th>GDP per capita</th>\n",
       "      <th>Life satisfaction</th>\n",
       "    </tr>\n",
       "    <tr>\n",
       "      <th>Country</th>\n",
       "      <th></th>\n",
       "      <th></th>\n",
       "    </tr>\n",
       "  </thead>\n",
       "  <tbody>\n",
       "    <tr>\n",
       "      <th>Brazil</th>\n",
       "      <td>8669.998</td>\n",
       "      <td>7.0</td>\n",
       "    </tr>\n",
       "    <tr>\n",
       "      <th>Mexico</th>\n",
       "      <td>9009.280</td>\n",
       "      <td>6.7</td>\n",
       "    </tr>\n",
       "    <tr>\n",
       "      <th>Russia</th>\n",
       "      <td>9054.914</td>\n",
       "      <td>6.0</td>\n",
       "    </tr>\n",
       "    <tr>\n",
       "      <th>Turkey</th>\n",
       "      <td>9437.372</td>\n",
       "      <td>5.6</td>\n",
       "    </tr>\n",
       "    <tr>\n",
       "      <th>Hungary</th>\n",
       "      <td>12239.894</td>\n",
       "      <td>4.9</td>\n",
       "    </tr>\n",
       "    <tr>\n",
       "      <th>Poland</th>\n",
       "      <td>12495.334</td>\n",
       "      <td>5.8</td>\n",
       "    </tr>\n",
       "    <tr>\n",
       "      <th>Chile</th>\n",
       "      <td>13340.905</td>\n",
       "      <td>6.7</td>\n",
       "    </tr>\n",
       "    <tr>\n",
       "      <th>Slovak Republic</th>\n",
       "      <td>15991.736</td>\n",
       "      <td>6.1</td>\n",
       "    </tr>\n",
       "    <tr>\n",
       "      <th>Czech Republic</th>\n",
       "      <td>17256.918</td>\n",
       "      <td>6.5</td>\n",
       "    </tr>\n",
       "    <tr>\n",
       "      <th>Estonia</th>\n",
       "      <td>17288.083</td>\n",
       "      <td>5.6</td>\n",
       "    </tr>\n",
       "    <tr>\n",
       "      <th>Greece</th>\n",
       "      <td>18064.288</td>\n",
       "      <td>4.8</td>\n",
       "    </tr>\n",
       "    <tr>\n",
       "      <th>Portugal</th>\n",
       "      <td>19121.592</td>\n",
       "      <td>5.1</td>\n",
       "    </tr>\n",
       "    <tr>\n",
       "      <th>Slovenia</th>\n",
       "      <td>20732.482</td>\n",
       "      <td>5.7</td>\n",
       "    </tr>\n",
       "    <tr>\n",
       "      <th>Spain</th>\n",
       "      <td>25864.721</td>\n",
       "      <td>6.5</td>\n",
       "    </tr>\n",
       "    <tr>\n",
       "      <th>Korea</th>\n",
       "      <td>27195.197</td>\n",
       "      <td>5.8</td>\n",
       "    </tr>\n",
       "    <tr>\n",
       "      <th>Italy</th>\n",
       "      <td>29866.581</td>\n",
       "      <td>6.0</td>\n",
       "    </tr>\n",
       "    <tr>\n",
       "      <th>Japan</th>\n",
       "      <td>32485.545</td>\n",
       "      <td>5.9</td>\n",
       "    </tr>\n",
       "    <tr>\n",
       "      <th>Israel</th>\n",
       "      <td>35343.336</td>\n",
       "      <td>7.4</td>\n",
       "    </tr>\n",
       "    <tr>\n",
       "      <th>New Zealand</th>\n",
       "      <td>37044.891</td>\n",
       "      <td>7.3</td>\n",
       "    </tr>\n",
       "    <tr>\n",
       "      <th>France</th>\n",
       "      <td>37675.006</td>\n",
       "      <td>6.5</td>\n",
       "    </tr>\n",
       "    <tr>\n",
       "      <th>Belgium</th>\n",
       "      <td>40106.632</td>\n",
       "      <td>6.9</td>\n",
       "    </tr>\n",
       "    <tr>\n",
       "      <th>Germany</th>\n",
       "      <td>40996.511</td>\n",
       "      <td>7.0</td>\n",
       "    </tr>\n",
       "    <tr>\n",
       "      <th>Finland</th>\n",
       "      <td>41973.988</td>\n",
       "      <td>7.4</td>\n",
       "    </tr>\n",
       "    <tr>\n",
       "      <th>Canada</th>\n",
       "      <td>43331.961</td>\n",
       "      <td>7.3</td>\n",
       "    </tr>\n",
       "    <tr>\n",
       "      <th>Netherlands</th>\n",
       "      <td>43603.115</td>\n",
       "      <td>7.3</td>\n",
       "    </tr>\n",
       "    <tr>\n",
       "      <th>Austria</th>\n",
       "      <td>43724.031</td>\n",
       "      <td>6.9</td>\n",
       "    </tr>\n",
       "    <tr>\n",
       "      <th>United Kingdom</th>\n",
       "      <td>43770.688</td>\n",
       "      <td>6.8</td>\n",
       "    </tr>\n",
       "    <tr>\n",
       "      <th>Sweden</th>\n",
       "      <td>49866.266</td>\n",
       "      <td>7.2</td>\n",
       "    </tr>\n",
       "    <tr>\n",
       "      <th>Iceland</th>\n",
       "      <td>50854.583</td>\n",
       "      <td>7.5</td>\n",
       "    </tr>\n",
       "    <tr>\n",
       "      <th>Australia</th>\n",
       "      <td>50961.865</td>\n",
       "      <td>7.3</td>\n",
       "    </tr>\n",
       "    <tr>\n",
       "      <th>Ireland</th>\n",
       "      <td>51350.744</td>\n",
       "      <td>7.0</td>\n",
       "    </tr>\n",
       "    <tr>\n",
       "      <th>Denmark</th>\n",
       "      <td>52114.165</td>\n",
       "      <td>7.5</td>\n",
       "    </tr>\n",
       "    <tr>\n",
       "      <th>United States</th>\n",
       "      <td>55805.204</td>\n",
       "      <td>7.2</td>\n",
       "    </tr>\n",
       "    <tr>\n",
       "      <th>Norway</th>\n",
       "      <td>74822.106</td>\n",
       "      <td>7.4</td>\n",
       "    </tr>\n",
       "    <tr>\n",
       "      <th>Switzerland</th>\n",
       "      <td>80675.308</td>\n",
       "      <td>7.5</td>\n",
       "    </tr>\n",
       "    <tr>\n",
       "      <th>Luxembourg</th>\n",
       "      <td>101994.093</td>\n",
       "      <td>6.9</td>\n",
       "    </tr>\n",
       "  </tbody>\n",
       "</table>\n",
       "</div>"
      ],
      "text/plain": [
       "                 GDP per capita  Life satisfaction\n",
       "Country                                           \n",
       "Brazil                 8669.998                7.0\n",
       "Mexico                 9009.280                6.7\n",
       "Russia                 9054.914                6.0\n",
       "Turkey                 9437.372                5.6\n",
       "Hungary               12239.894                4.9\n",
       "Poland                12495.334                5.8\n",
       "Chile                 13340.905                6.7\n",
       "Slovak Republic       15991.736                6.1\n",
       "Czech Republic        17256.918                6.5\n",
       "Estonia               17288.083                5.6\n",
       "Greece                18064.288                4.8\n",
       "Portugal              19121.592                5.1\n",
       "Slovenia              20732.482                5.7\n",
       "Spain                 25864.721                6.5\n",
       "Korea                 27195.197                5.8\n",
       "Italy                 29866.581                6.0\n",
       "Japan                 32485.545                5.9\n",
       "Israel                35343.336                7.4\n",
       "New Zealand           37044.891                7.3\n",
       "France                37675.006                6.5\n",
       "Belgium               40106.632                6.9\n",
       "Germany               40996.511                7.0\n",
       "Finland               41973.988                7.4\n",
       "Canada                43331.961                7.3\n",
       "Netherlands           43603.115                7.3\n",
       "Austria               43724.031                6.9\n",
       "United Kingdom        43770.688                6.8\n",
       "Sweden                49866.266                7.2\n",
       "Iceland               50854.583                7.5\n",
       "Australia             50961.865                7.3\n",
       "Ireland               51350.744                7.0\n",
       "Denmark               52114.165                7.5\n",
       "United States         55805.204                7.2\n",
       "Norway                74822.106                7.4\n",
       "Switzerland           80675.308                7.5\n",
       "Luxembourg           101994.093                6.9"
      ]
     },
     "execution_count": 28,
     "metadata": {},
     "output_type": "execute_result"
    }
   ],
   "source": [
    "oecd_country_stats.sort_values(by=\"GDP per capita\", inplace=True)\n",
    "\n",
    "oecd_country_stats"
   ]
  },
  {
   "cell_type": "markdown",
   "metadata": {
    "id": "hwaalbQ1C1KT"
   },
   "source": [
    "#### 추가 설정"
   ]
  },
  {
   "cell_type": "markdown",
   "metadata": {
    "id": "bBKF8FbcK75g"
   },
   "source": [
    "선형회귀 모델을 훈련시킬 때 발생할 수 있는 과대적합 문제를 설명하기 위해\n",
    "고의로 7개 국가의 데이터를 데이터 셋에서 제외시키고 훈련 시킬 때와 \n",
    "그렇지 않을 때를 비교하고자 한다.\n",
    "\n",
    "제외 대상 국가는 브라질, 멕시코, 칠레, 체코, 노르웨이, 스위스, 룩셈부르크 이다.\n",
    "데이터프레임에서 아래 인덱스를 이용하여 7개 국가를 제외시키고 훈련을 시킬 것이다."
   ]
  },
  {
   "cell_type": "code",
   "execution_count": 29,
   "metadata": {
    "id": "ZN4J5Ew8fLIj"
   },
   "outputs": [],
   "source": [
    "omitted_indices = [0, 1, 6, 8, 33, 34, 35]\n",
    "\n",
    "kept_indices = list( set(range(36)) - set(omitted_indices) )"
   ]
  },
  {
   "cell_type": "markdown",
   "metadata": {
    "id": "y4CqTfGSC1KU"
   },
   "source": [
    "제외된 7개 국가의 1인당 GDP와 삶의 만족도 데이터는 다음과 같다."
   ]
  },
  {
   "cell_type": "code",
   "execution_count": 30,
   "metadata": {
    "colab": {
     "base_uri": "https://localhost:8080/",
     "height": 300
    },
    "id": "Wz2MHKM1C1KU",
    "outputId": "e86c9966-5a04-441e-d32a-e798db18f14d"
   },
   "outputs": [
    {
     "data": {
      "text/html": [
       "<div>\n",
       "<style scoped>\n",
       "    .dataframe tbody tr th:only-of-type {\n",
       "        vertical-align: middle;\n",
       "    }\n",
       "\n",
       "    .dataframe tbody tr th {\n",
       "        vertical-align: top;\n",
       "    }\n",
       "\n",
       "    .dataframe thead th {\n",
       "        text-align: right;\n",
       "    }\n",
       "</style>\n",
       "<table border=\"1\" class=\"dataframe\">\n",
       "  <thead>\n",
       "    <tr style=\"text-align: right;\">\n",
       "      <th></th>\n",
       "      <th>GDP per capita</th>\n",
       "      <th>Life satisfaction</th>\n",
       "    </tr>\n",
       "    <tr>\n",
       "      <th>Country</th>\n",
       "      <th></th>\n",
       "      <th></th>\n",
       "    </tr>\n",
       "  </thead>\n",
       "  <tbody>\n",
       "    <tr>\n",
       "      <th>Brazil</th>\n",
       "      <td>8669.998</td>\n",
       "      <td>7.0</td>\n",
       "    </tr>\n",
       "    <tr>\n",
       "      <th>Mexico</th>\n",
       "      <td>9009.280</td>\n",
       "      <td>6.7</td>\n",
       "    </tr>\n",
       "    <tr>\n",
       "      <th>Chile</th>\n",
       "      <td>13340.905</td>\n",
       "      <td>6.7</td>\n",
       "    </tr>\n",
       "    <tr>\n",
       "      <th>Czech Republic</th>\n",
       "      <td>17256.918</td>\n",
       "      <td>6.5</td>\n",
       "    </tr>\n",
       "    <tr>\n",
       "      <th>Norway</th>\n",
       "      <td>74822.106</td>\n",
       "      <td>7.4</td>\n",
       "    </tr>\n",
       "    <tr>\n",
       "      <th>Switzerland</th>\n",
       "      <td>80675.308</td>\n",
       "      <td>7.5</td>\n",
       "    </tr>\n",
       "    <tr>\n",
       "      <th>Luxembourg</th>\n",
       "      <td>101994.093</td>\n",
       "      <td>6.9</td>\n",
       "    </tr>\n",
       "  </tbody>\n",
       "</table>\n",
       "</div>"
      ],
      "text/plain": [
       "                GDP per capita  Life satisfaction\n",
       "Country                                          \n",
       "Brazil                8669.998                7.0\n",
       "Mexico                9009.280                6.7\n",
       "Chile                13340.905                6.7\n",
       "Czech Republic       17256.918                6.5\n",
       "Norway               74822.106                7.4\n",
       "Switzerland          80675.308                7.5\n",
       "Luxembourg          101994.093                6.9"
      ]
     },
     "execution_count": 30,
     "metadata": {},
     "output_type": "execute_result"
    }
   ],
   "source": [
    "missing_data = oecd_country_stats.iloc[omitted_indices]\n",
    "\n",
    "missing_data"
   ]
  },
  {
   "cell_type": "markdown",
   "metadata": {
    "id": "K4K57J0nC1KU"
   },
   "source": [
    "7개 국가를 제외한 국가들의 1인당 GDP와 삶의 만족도 데이터를 지정한다."
   ]
  },
  {
   "cell_type": "code",
   "execution_count": 31,
   "metadata": {
    "id": "qax3AOkHC1KU"
   },
   "outputs": [],
   "source": [
    "sample_data = oecd_country_stats.iloc[kept_indices] "
   ]
  },
  {
   "cell_type": "markdown",
   "metadata": {
    "id": "B7ZOe2t7C1KU"
   },
   "source": [
    "### 4단계: 모델 선택과 훈련"
   ]
  },
  {
   "cell_type": "markdown",
   "metadata": {
    "id": "jtxTmNgjM0jH"
   },
   "source": [
    "#### 선형 관계 확인"
   ]
  },
  {
   "cell_type": "markdown",
   "metadata": {
    "id": "opoNhrYMLBRp"
   },
   "source": [
    "아래 코드는 앞서 언급된 7개 국가의 데이터를 제외한 국가들의 1인당 GDP와 \n",
    "삶의 만족도 사이의 관계를 산점도로 나타낸다.\n",
    "선형관계를 잘 보여주는 다음 다섯 개 국가는 빨간색 점으로 표시한다.\n",
    "\n",
    "* 헝가리(Hungary)\n",
    "* 대한민국(Korea)\n",
    "* 프랑스(France)\n",
    "* 호주(Australia)\n",
    "* 미국(United States)"
   ]
  },
  {
   "cell_type": "code",
   "execution_count": 32,
   "metadata": {
    "colab": {
     "base_uri": "https://localhost:8080/",
     "height": 233
    },
    "id": "786ll6jafLIj",
    "outputId": "4df95641-cb1c-4214-9bc6-c13a903e7b49"
   },
   "outputs": [
    {
     "data": {
      "image/png": "[encoded data removed]",
      "text/plain": [
       "<Figure size 500x300 with 1 Axes>"
      ]
     },
     "metadata": {},
     "output_type": "display_data"
    }
   ],
   "source": [
    "# 7개 국가를 제외한 국가들의 데이터 산점도\n",
    "sample_data.plot(kind='scatter', x=\"GDP per capita\", y='Life satisfaction', figsize=(5,3))\n",
    "plt.axis([0, 60000, 0, 10])\n",
    "\n",
    "# 언급된 5개 국가명과 좌표\n",
    "position_text = {\n",
    "    \"Hungary\": (7000, 1),\n",
    "    \"Korea\": (24000, 1.7),\n",
    "    \"France\": (33000, 2.2),\n",
    "    \"Australia\": (43000, 2.7),\n",
    "    \"United States\": (52000, 3.8),\n",
    "}\n",
    "\n",
    "# 5개 국가는 좌표를 이용하여 빨강색 점으로 표기\n",
    "for country, pos_text in position_text.items():\n",
    "    pos_data_x, pos_data_y = sample_data.loc[country]            # 5개 국가의 지표\n",
    "    \n",
    "    # 5개 국가명 표기\n",
    "    country = \"U.S.\" if country == \"United States\" else country  # 미국은 U.S. 로 표기\n",
    "    \n",
    "    # 화살표 그리기\n",
    "    plt.annotate(country, xy=(pos_data_x, pos_data_y), \n",
    "                 xytext=pos_text,\n",
    "                 arrowprops=dict(facecolor='black', width=0.5, shrink=0.1, headwidth=5) )\n",
    "    \n",
    "    # 5개 국가 산점도 그리기: 빨강색 점\n",
    "    plt.plot(pos_data_x, pos_data_y, \"ro\")\n",
    "\n",
    "# x 축 제목 새롭게 지정\n",
    "plt.xlabel(\"GDP per capita (USD)\")\n",
    "\n",
    "plt.show()"
   ]
  },
  {
   "cell_type": "markdown",
   "metadata": {
    "id": "0Y7UCwmlL-6W"
   },
   "source": [
    "언급된 5개 국가의 1인당 GDP와 삶의 만족도를 데이터에서 직접 확인하면 다음과 같다."
   ]
  },
  {
   "cell_type": "code",
   "execution_count": 33,
   "metadata": {
    "colab": {
     "base_uri": "https://localhost:8080/",
     "height": 237
    },
    "id": "jxhc5gBE9_WT",
    "outputId": "ac329718-24ca-4f41-ecbe-e974d3caa425"
   },
   "outputs": [
    {
     "data": {
      "text/html": [
       "<div>\n",
       "<style scoped>\n",
       "    .dataframe tbody tr th:only-of-type {\n",
       "        vertical-align: middle;\n",
       "    }\n",
       "\n",
       "    .dataframe tbody tr th {\n",
       "        vertical-align: top;\n",
       "    }\n",
       "\n",
       "    .dataframe thead th {\n",
       "        text-align: right;\n",
       "    }\n",
       "</style>\n",
       "<table border=\"1\" class=\"dataframe\">\n",
       "  <thead>\n",
       "    <tr style=\"text-align: right;\">\n",
       "      <th></th>\n",
       "      <th>GDP per capita</th>\n",
       "      <th>Life satisfaction</th>\n",
       "    </tr>\n",
       "    <tr>\n",
       "      <th>Country</th>\n",
       "      <th></th>\n",
       "      <th></th>\n",
       "    </tr>\n",
       "  </thead>\n",
       "  <tbody>\n",
       "    <tr>\n",
       "      <th>Hungary</th>\n",
       "      <td>12239.894</td>\n",
       "      <td>4.9</td>\n",
       "    </tr>\n",
       "    <tr>\n",
       "      <th>Korea</th>\n",
       "      <td>27195.197</td>\n",
       "      <td>5.8</td>\n",
       "    </tr>\n",
       "    <tr>\n",
       "      <th>France</th>\n",
       "      <td>37675.006</td>\n",
       "      <td>6.5</td>\n",
       "    </tr>\n",
       "    <tr>\n",
       "      <th>Australia</th>\n",
       "      <td>50961.865</td>\n",
       "      <td>7.3</td>\n",
       "    </tr>\n",
       "    <tr>\n",
       "      <th>United States</th>\n",
       "      <td>55805.204</td>\n",
       "      <td>7.2</td>\n",
       "    </tr>\n",
       "  </tbody>\n",
       "</table>\n",
       "</div>"
      ],
      "text/plain": [
       "               GDP per capita  Life satisfaction\n",
       "Country                                         \n",
       "Hungary             12239.894                4.9\n",
       "Korea               27195.197                5.8\n",
       "France              37675.006                6.5\n",
       "Australia           50961.865                7.3\n",
       "United States       55805.204                7.2"
      ]
     },
     "execution_count": 33,
     "metadata": {},
     "output_type": "execute_result"
    }
   ],
   "source": [
    "sample_data.loc[list(position_text.keys())]"
   ]
  },
  {
   "cell_type": "markdown",
   "metadata": {
    "id": "NVga35bvM9Te"
   },
   "source": [
    "위 산점도에 따르면 1인당 GDP와 삶의 만족도가 어느 정도 선형 관계에 있는 것처럼 보인다."
   ]
  },
  {
   "cell_type": "markdown",
   "metadata": {
    "id": "LS4IcHjtC1KV"
   },
   "source": [
    "#### 선형회귀 모델"
   ]
  },
  {
   "cell_type": "markdown",
   "metadata": {
    "id": "uxkg3Jfl_iQR"
   },
   "source": [
    "직선처럼 y 축의 값이 x 축의 값에 선형적으로 의존하는 관계를 __선형관계__라 하며,\n",
    "그런 선형관계를 함수로 구현하는 모델을 __선형회귀 모델__(linear regression model)이라 한다.\n",
    "선형회귀 모델은 직선을 나타내는 1차 함수의 그래프로 표현되며,\n",
    "직선은 절편(y축과 만나는 점)과 기울기 두 개의 값에 의해 정해진다.\n",
    "\n",
    "예를 들어, 1인당 GDP와 삶의 만족도 사이에 다음 선형 관계가 성립하도록 하는\n",
    "절편 $\\theta_0$ 와 기울기 $\\theta_1$ 을 구해야 한다.\n",
    "\n",
    "$$\n",
    "\\text{'삶의만족도'} = \\theta_0 + \\theta_1 \\cdot \\text{'1인당GDP'}\n",
    "$$\n",
    "\n",
    "$\\theta_0$ 와 $\\theta_1$ 처럼 모델 구현에 사용되는 값들을 모델의 \n",
    "__파라미터__<font size=\"2\">parameter</font>라 하며,\n",
    "모델의 파라미터를 찾아내는 것이 머신러닝 모델훈련의 핵심이다. "
   ]
  },
  {
   "cell_type": "markdown",
   "metadata": {
    "id": "3v8aDUqzC1KV"
   },
   "source": [
    "#### 사이킷런 라이브러리 활용"
   ]
  },
  {
   "cell_type": "markdown",
   "metadata": {
    "id": "ED7LDUNPC1KV"
   },
   "source": [
    "**사이킷런**<font size=\"2\">scikit-learn</font> 라이브러리는 머신러닝에서 사용되는 \n",
    "다양한 모델을 제공한다.\n",
    "선형회귀의 경우 `LinearRegression` 클래스의 객체를 생성하여 훈련시키면 \n",
    "최적의 절편과 기울기를 계산해준다. \n",
    "\n",
    "사이킷런의 모델을 지정하고 훈련시키는 과정은 다음과 같다."
   ]
  },
  {
   "cell_type": "markdown",
   "metadata": {
    "id": "lemUrEeCC1KV"
   },
   "source": [
    "**과정 1: 모델 지정**"
   ]
  },
  {
   "cell_type": "markdown",
   "metadata": {
    "id": "JOYxSxCsC1KV"
   },
   "source": [
    "사이킷런(sklearn) 패키지의 `linear_model` 모듈에 포함된 `LinearRegression` 클래스의 객체를 선언한다.\n",
    "선언된 모델은 아직 어떤 훈련도 하지 않은 상태이다. "
   ]
  },
  {
   "cell_type": "code",
   "execution_count": 34,
   "metadata": {
    "id": "6qm6yOoSfLIk"
   },
   "outputs": [],
   "source": [
    "from sklearn.linear_model import LinearRegression\n",
    "\n",
    "lin1 = LinearRegression()"
   ]
  },
  {
   "cell_type": "markdown",
   "metadata": {
    "id": "ules_1NqC1KV"
   },
   "source": [
    "**과정 2: 훈련 셋 지정**"
   ]
  },
  {
   "cell_type": "markdown",
   "metadata": {
    "id": "W_bSUmD7C1KV"
   },
   "source": [
    "입력 데이터 셋은 x 축에, 타깃 데이터 셋은 y 축에 해당한다.\n",
    "\n",
    "* 입력 데이터: 1인당 GDP\n",
    "* 타깃 데이터: 삶의 만족도\n",
    "\n",
    "입력 데이터와 타깃 데이터를 2차원 어레이로 지정한다. \n",
    "사이킷런의 선형회귀 모델이 2차원 어레이 형식의 입력 데이터 셋과 타깃 데이터 셋을 요구한다.\n",
    "넘파이의 `c_` 함수를 활용해서 차원을 늘려준다."
   ]
  },
  {
   "cell_type": "code",
   "execution_count": 35,
   "metadata": {
    "id": "xTDMw7JxC1KV"
   },
   "outputs": [],
   "source": [
    "Xsample = np.c_[sample_data[\"GDP per capita\"]]\n",
    "ysample = np.c_[sample_data[\"Life satisfaction\"]]"
   ]
  },
  {
   "cell_type": "markdown",
   "metadata": {
    "id": "jNiN1SrnC1KV"
   },
   "source": [
    "변환 전의 처음 5개 데이터는 다음과 같다."
   ]
  },
  {
   "cell_type": "code",
   "execution_count": 36,
   "metadata": {
    "colab": {
     "base_uri": "https://localhost:8080/"
    },
    "id": "cqt1nCk_C1KV",
    "outputId": "7f40b67b-3c41-4df8-e0ec-9b66166c46e6"
   },
   "outputs": [
    {
     "data": {
      "text/plain": [
       "array([ 9054.914,  9437.372, 12239.894, 12495.334, 15991.736])"
      ]
     },
     "execution_count": 36,
     "metadata": {},
     "output_type": "execute_result"
    }
   ],
   "source": [
    "np.array(sample_data[\"GDP per capita\"][:5])"
   ]
  },
  {
   "cell_type": "markdown",
   "metadata": {
    "id": "0-3U4tPyC1KW"
   },
   "source": [
    "2차원 어레이로 변환 된 입력 데이터의 처음 5개는 다음과 같다."
   ]
  },
  {
   "cell_type": "code",
   "execution_count": 37,
   "metadata": {
    "colab": {
     "base_uri": "https://localhost:8080/"
    },
    "id": "mAlM7NrSC1KW",
    "outputId": "9942fa76-35e4-49f5-ba59-39b6b8044c14"
   },
   "outputs": [
    {
     "data": {
      "text/plain": [
       "array([[ 9054.914],\n",
       "       [ 9437.372],\n",
       "       [12239.894],\n",
       "       [12495.334],\n",
       "       [15991.736]])"
      ]
     },
     "execution_count": 37,
     "metadata": {},
     "output_type": "execute_result"
    }
   ],
   "source": [
    "Xsample[:5]"
   ]
  },
  {
   "cell_type": "markdown",
   "metadata": {
    "id": "tjA22Fe9C1KW"
   },
   "source": [
    "타깃 데이터 또한 마찬가지이다."
   ]
  },
  {
   "cell_type": "code",
   "execution_count": 38,
   "metadata": {
    "colab": {
     "base_uri": "https://localhost:8080/"
    },
    "id": "wf3WxaLuC1KW",
    "outputId": "0d0c6376-c0fb-44d4-86c6-527781a60768"
   },
   "outputs": [
    {
     "data": {
      "text/plain": [
       "array([[6. ],\n",
       "       [5.6],\n",
       "       [4.9],\n",
       "       [5.8],\n",
       "       [6.1]])"
      ]
     },
     "execution_count": 38,
     "metadata": {},
     "output_type": "execute_result"
    }
   ],
   "source": [
    "ysample[:5]"
   ]
  },
  {
   "cell_type": "markdown",
   "metadata": {
    "id": "MAmH2wdHC1KW"
   },
   "source": [
    "**과정 3: 모델 훈련**"
   ]
  },
  {
   "cell_type": "markdown",
   "metadata": {
    "id": "nE_pE-5OC1KW"
   },
   "source": [
    "\n",
    "선형 모델의 `fit()` 메서드를 지정된 입력 데이터 셋과 타깃 터이터 셋을 \n",
    "인자로 사용해서 호출하면\n",
    "최적의 $\\theta_0$와 $\\theta_1$ 파라미터를 찾는 훈련이 실행되며\n",
    "훈련이 종료되면 최적의 파라미터가 업데이트된 객체 자신이 반환된다."
   ]
  },
  {
   "cell_type": "code",
   "execution_count": 39,
   "metadata": {
    "colab": {
     "base_uri": "https://localhost:8080/",
     "height": 74
    },
    "id": "C9gwkz25C1KW",
    "outputId": "6f25ee83-414c-4b08-f662-a6c02530cad7"
   },
   "outputs": [
    {
     "data": {
      "text/html": [
       "<style>#sk-container-id-1 {color: black;background-color: white;}#sk-container-id-1 pre{padding: 0;}#sk-container-id-1 div.sk-toggleable {background-color: white;}#sk-container-id-1 label.sk-toggleable__label {cursor: pointer;display: block;width: 100%;margin-bottom: 0;padding: 0.3em;box-sizing: border-box;text-align: center;}#sk-container-id-1 label.sk-toggleable__label-arrow:before {content: \"▸\";float: left;margin-right: 0.25em;color: #696969;}#sk-container-id-1 label.sk-toggleable__label-arrow:hover:before {color: black;}#sk-container-id-1 div.sk-estimator:hover label.sk-toggleable__label-arrow:before {color: black;}#sk-container-id-1 div.sk-toggleable__content {max-height: 0;max-width: 0;overflow: hidden;text-align: left;background-color: #f0f8ff;}#sk-container-id-1 div.sk-toggleable__content pre {margin: 0.2em;color: black;border-radius: 0.25em;background-color: #f0f8ff;}#sk-container-id-1 input.sk-toggleable__control:checked~div.sk-toggleable__content {max-height: 200px;max-width: 100%;overflow: auto;}#sk-container-id-1 input.sk-toggleable__control:checked~label.sk-toggleable__label-arrow:before {content: \"▾\";}#sk-container-id-1 div.sk-estimator input.sk-toggleable__control:checked~label.sk-toggleable__label {background-color: #d4ebff;}#sk-container-id-1 div.sk-label input.sk-toggleable__control:checked~label.sk-toggleable__label {background-color: #d4ebff;}#sk-container-id-1 input.sk-hidden--visually {border: 0;clip: rect(1px 1px 1px 1px);clip: rect(1px, 1px, 1px, 1px);height: 1px;margin: -1px;overflow: hidden;padding: 0;position: absolute;width: 1px;}#sk-container-id-1 div.sk-estimator {font-family: monospace;background-color: #f0f8ff;border: 1px dotted black;border-radius: 0.25em;box-sizing: border-box;margin-bottom: 0.5em;}#sk-container-id-1 div.sk-estimator:hover {background-color: #d4ebff;}#sk-container-id-1 div.sk-parallel-item::after {content: \"\";width: 100%;border-bottom: 1px solid gray;flex-grow: 1;}#sk-container-id-1 div.sk-label:hover label.sk-toggleable__label {background-color: #d4ebff;}#sk-container-id-1 div.sk-serial::before {content: \"\";position: absolute;border-left: 1px solid gray;box-sizing: border-box;top: 0;bottom: 0;left: 50%;z-index: 0;}#sk-container-id-1 div.sk-serial {display: flex;flex-direction: column;align-items: center;background-color: white;padding-right: 0.2em;padding-left: 0.2em;position: relative;}#sk-container-id-1 div.sk-item {position: relative;z-index: 1;}#sk-container-id-1 div.sk-parallel {display: flex;align-items: stretch;justify-content: center;background-color: white;position: relative;}#sk-container-id-1 div.sk-item::before, #sk-container-id-1 div.sk-parallel-item::before {content: \"\";position: absolute;border-left: 1px solid gray;box-sizing: border-box;top: 0;bottom: 0;left: 50%;z-index: -1;}#sk-container-id-1 div.sk-parallel-item {display: flex;flex-direction: column;z-index: 1;position: relative;background-color: white;}#sk-container-id-1 div.sk-parallel-item:first-child::after {align-self: flex-end;width: 50%;}#sk-container-id-1 div.sk-parallel-item:last-child::after {align-self: flex-start;width: 50%;}#sk-container-id-1 div.sk-parallel-item:only-child::after {width: 0;}#sk-container-id-1 div.sk-dashed-wrapped {border: 1px dashed gray;margin: 0 0.4em 0.5em 0.4em;box-sizing: border-box;padding-bottom: 0.4em;background-color: white;}#sk-container-id-1 div.sk-label label {font-family: monospace;font-weight: bold;display: inline-block;line-height: 1.2em;}#sk-container-id-1 div.sk-label-container {text-align: center;}#sk-container-id-1 div.sk-container {/* jupyter's `normalize.less` sets `[hidden] { display: none; }` but bootstrap.min.css set `[hidden] { display: none !important; }` so we also need the `!important` here to be able to override the default hidden behavior on the sphinx rendered scikit-learn.org. See: https://github.com/scikit-learn/scikit-learn/issues/21755 */display: inline-block !important;position: relative;}#sk-container-id-1 div.sk-text-repr-fallback {display: none;}</style><div id=\"sk-container-id-1\" class=\"sk-top-container\"><div class=\"sk-text-repr-fallback\"><pre>LinearRegression()</pre><b>In a Jupyter environment, please rerun this cell to show the HTML representation or trust the notebook. <br />On GitHub, the HTML representation is unable to render, please try loading this page with nbviewer.org.</b></div><div class=\"sk-container\" hidden><div class=\"sk-item\"><div class=\"sk-estimator sk-toggleable\"><input class=\"sk-toggleable__control sk-hidden--visually\" id=\"sk-estimator-id-1\" type=\"checkbox\" checked><label for=\"sk-estimator-id-1\" class=\"sk-toggleable__label sk-toggleable__label-arrow\">LinearRegression</label><div class=\"sk-toggleable__content\"><pre>LinearRegression()</pre></div></div></div></div></div>"
      ],
      "text/plain": [
       "LinearRegression()"
      ]
     },
     "execution_count": 39,
     "metadata": {},
     "output_type": "execute_result"
    }
   ],
   "source": [
    "lin1.fit(Xsample, ysample)"
   ]
  },
  {
   "cell_type": "markdown",
   "metadata": {
    "id": "SVr4kbIcC1KW"
   },
   "source": [
    "훈련된 모델이 알아낸 최적 선형 모델의 절편과 기울기는 아래 두 속성에 저장된다.\n",
    "\n",
    "* `intercept_[0]`: 직선의 절편\n",
    "* `coef_[0]`: 직선의 기울기"
   ]
  },
  {
   "cell_type": "code",
   "execution_count": 40,
   "metadata": {
    "colab": {
     "base_uri": "https://localhost:8080/"
    },
    "id": "gK4XWEYdC1KW",
    "outputId": "f1bbba91-8051-4db0-aba7-448856acad6b"
   },
   "outputs": [
    {
     "name": "stdout",
     "output_type": "stream",
     "text": [
      "절편:\t 4.853052800266435\n",
      "기울기:\t 4.911544589158485e-05\n"
     ]
    }
   ],
   "source": [
    "t0, t1 = lin1.intercept_[0], lin1.coef_[0][0]\n",
    "\n",
    "print(f\"절편:\\t {t0}\")\n",
    "print(f\"기울기:\\t {t1}\")"
   ]
  },
  {
   "cell_type": "markdown",
   "metadata": {
    "id": "ib2Rs7KsAn9j"
   },
   "source": [
    "구해진 기울기와 절편을 이용하여 산점도와 함께 직선을 그리면 다음과 같다."
   ]
  },
  {
   "cell_type": "code",
   "execution_count": 41,
   "metadata": {
    "colab": {
     "base_uri": "https://localhost:8080/",
     "height": 233
    },
    "id": "GM3jaIv1fLIl",
    "outputId": "3cc6f205-05b7-4220-e283-0d31e9e33ce6"
   },
   "outputs": [
    {
     "data": {
      "image/png": "[encoded data removed]",
      "text/plain": [
       "<Figure size 500x300 with 1 Axes>"
      ]
     },
     "metadata": {},
     "output_type": "display_data"
    }
   ],
   "source": [
    "# 산점도\n",
    "sample_data.plot(kind='scatter', x=\"GDP per capita\", y='Life satisfaction', figsize=(5,3))\n",
    "plt.xlabel(\"GDP per capita (USD)\")\n",
    "plt.axis([0, 60000, 0, 10])\n",
    "\n",
    "# 직선 그리기\n",
    "X=np.linspace(0, 60000, 1000)\n",
    "plt.plot(X, t0 + t1*X, \"b\")\n",
    "\n",
    "# 직선의 절편과 기울기 정보 명시\n",
    "plt.text(5000, 3.1, r\"$\\theta_0 = 4.85$\", fontsize=14, color=\"b\")\n",
    "plt.text(5000, 2.2, r\"$\\theta_1 = 4.91 \\times 10^{-5}$\", fontsize=14, color=\"b\")\n",
    "\n",
    "plt.show()"
   ]
  },
  {
   "cell_type": "markdown",
   "metadata": {
    "id": "ot5QhLe0BR5w"
   },
   "source": [
    "### 5단계: 모델 활용"
   ]
  },
  {
   "cell_type": "markdown",
   "metadata": {
    "id": "fnq-t9qZBZd-"
   },
   "source": [
    "한 국가의 1인당 GDP가 알려졌을 때 \n",
    "훈련된 모델에 포함된 $\\theta_0$ 와 $\\theta_1$ 을 이용하여 \n",
    "해당 국가의 삶의 만족도를 예측한다. \n",
    "예를 들어, OECD에 속하지 않는 키프러스(Cyprus)의 1인당 GDP를 이용하여\n",
    "키프러스 국민의 삶의 만족도를 예측한다."
   ]
  },
  {
   "cell_type": "code",
   "execution_count": 42,
   "metadata": {
    "colab": {
     "base_uri": "https://localhost:8080/"
    },
    "id": "nhnfS8jQfLIl",
    "outputId": "d8b90904-d773-4f6d-ff42-11d9ff785bd6"
   },
   "outputs": [
    {
     "data": {
      "text/plain": [
       "22587.49"
      ]
     },
     "execution_count": 42,
     "metadata": {},
     "output_type": "execute_result"
    }
   ],
   "source": [
    "cyprus_gdp_per_capita_2015 = gdp_per_capita_2015.loc[\"Cyprus\"][\"GDP per capita\"]\n",
    "\n",
    "cyprus_gdp_per_capita_2015"
   ]
  },
  {
   "cell_type": "markdown",
   "metadata": {
    "id": "11KnQQmKCbQq"
   },
   "source": [
    "훈련된 모델의 `predict()` 메서드가 아래 식을 이용하여 삶의 만족도를 계산한다. \n",
    "\n",
    "$$\n",
    "\\theta_0 + \\theta_1 \\cdot \\text{'1인당GDP'}\n",
    "$$\n",
    "\n",
    "키프러스 국민의 삶의 만족도는 5.96 정도로 예측된다."
   ]
  },
  {
   "cell_type": "code",
   "execution_count": 43,
   "metadata": {
    "colab": {
     "base_uri": "https://localhost:8080/"
    },
    "id": "a_dU9MTwB72q",
    "outputId": "0250f032-b768-4aa3-cce7-df0a4a5f4fc2"
   },
   "outputs": [
    {
     "data": {
      "text/plain": [
       "5.962447443188149"
      ]
     },
     "execution_count": 43,
     "metadata": {},
     "output_type": "execute_result"
    }
   ],
   "source": [
    "cyprus_predicted_life_satisfaction = lin1.predict([[cyprus_gdp_per_capita_2015]])[0, 0]\n",
    "\n",
    "cyprus_predicted_life_satisfaction"
   ]
  },
  {
   "cell_type": "markdown",
   "metadata": {
    "id": "tseGO4MOh3ZX"
   },
   "source": [
    "## 머신러닝의 모델 훈련의 어려움"
   ]
  },
  {
   "cell_type": "markdown",
   "metadata": {
    "id": "Eh3SL2kpC1KX"
   },
   "source": [
    "머신러닝 알고리즘을 훈련시키다보면 다양한 어려움에 부딪힌다. \n",
    "여기서는 선형회귀 모델이 훈련셋에 민감하게 반응하는 것을 보이고자 한다."
   ]
  },
  {
   "cell_type": "markdown",
   "metadata": {
    "id": "aPeIcRu5FbCg"
   },
   "source": [
    "### 훈련 데이터 추가"
   ]
  },
  {
   "cell_type": "markdown",
   "metadata": {
    "id": "jO1x_6gBFllU"
   },
   "source": [
    "앞서 제외시킨 7개 국가의 데이터를 포함해서 선형회귀 모델을 훈련시켜 보자.\n",
    "제외된 7개 국가의 데이터는 다음과 같다.\n",
    "\n",
    "* 브라질(Brazil)\n",
    "* 멕시코(Mexico)\n",
    "* 칠레(Chile)\n",
    "* 체코(Czech Repulic)\n",
    "* 노르웨이(Norway)\n",
    "* 스위스(Switzerland)\n",
    "* 룩셈부르크(Luxembourg)"
   ]
  },
  {
   "cell_type": "code",
   "execution_count": 44,
   "metadata": {
    "colab": {
     "base_uri": "https://localhost:8080/",
     "height": 300
    },
    "id": "fpEMdt8cfLIn",
    "outputId": "0f08532e-0983-4569-8ace-6c80445a84df"
   },
   "outputs": [
    {
     "data": {
      "text/html": [
       "<div>\n",
       "<style scoped>\n",
       "    .dataframe tbody tr th:only-of-type {\n",
       "        vertical-align: middle;\n",
       "    }\n",
       "\n",
       "    .dataframe tbody tr th {\n",
       "        vertical-align: top;\n",
       "    }\n",
       "\n",
       "    .dataframe thead th {\n",
       "        text-align: right;\n",
       "    }\n",
       "</style>\n",
       "<table border=\"1\" class=\"dataframe\">\n",
       "  <thead>\n",
       "    <tr style=\"text-align: right;\">\n",
       "      <th></th>\n",
       "      <th>GDP per capita</th>\n",
       "      <th>Life satisfaction</th>\n",
       "    </tr>\n",
       "    <tr>\n",
       "      <th>Country</th>\n",
       "      <th></th>\n",
       "      <th></th>\n",
       "    </tr>\n",
       "  </thead>\n",
       "  <tbody>\n",
       "    <tr>\n",
       "      <th>Brazil</th>\n",
       "      <td>8669.998</td>\n",
       "      <td>7.0</td>\n",
       "    </tr>\n",
       "    <tr>\n",
       "      <th>Mexico</th>\n",
       "      <td>9009.280</td>\n",
       "      <td>6.7</td>\n",
       "    </tr>\n",
       "    <tr>\n",
       "      <th>Chile</th>\n",
       "      <td>13340.905</td>\n",
       "      <td>6.7</td>\n",
       "    </tr>\n",
       "    <tr>\n",
       "      <th>Czech Republic</th>\n",
       "      <td>17256.918</td>\n",
       "      <td>6.5</td>\n",
       "    </tr>\n",
       "    <tr>\n",
       "      <th>Norway</th>\n",
       "      <td>74822.106</td>\n",
       "      <td>7.4</td>\n",
       "    </tr>\n",
       "    <tr>\n",
       "      <th>Switzerland</th>\n",
       "      <td>80675.308</td>\n",
       "      <td>7.5</td>\n",
       "    </tr>\n",
       "    <tr>\n",
       "      <th>Luxembourg</th>\n",
       "      <td>101994.093</td>\n",
       "      <td>6.9</td>\n",
       "    </tr>\n",
       "  </tbody>\n",
       "</table>\n",
       "</div>"
      ],
      "text/plain": [
       "                GDP per capita  Life satisfaction\n",
       "Country                                          \n",
       "Brazil                8669.998                7.0\n",
       "Mexico                9009.280                6.7\n",
       "Chile                13340.905                6.7\n",
       "Czech Republic       17256.918                6.5\n",
       "Norway               74822.106                7.4\n",
       "Switzerland          80675.308                7.5\n",
       "Luxembourg          101994.093                6.9"
      ]
     },
     "execution_count": 44,
     "metadata": {},
     "output_type": "execute_result"
    }
   ],
   "source": [
    "missing_data"
   ]
  },
  {
   "cell_type": "markdown",
   "metadata": {
    "id": "LR_yQU7FG7-A"
   },
   "source": [
    "아래 좌표는 7개 국가명을 아래 그래프에서 표기할 때 사용할 좌표이다."
   ]
  },
  {
   "cell_type": "code",
   "execution_count": 45,
   "metadata": {
    "id": "mzD3BA8X2ZtN"
   },
   "outputs": [],
   "source": [
    "position_text2 = {\n",
    "    \"Brazil\": (1000, 9.0),\n",
    "    \"Mexico\": (11000, 9.0),\n",
    "    \"Chile\": (25000, 9.0),\n",
    "    \"Czech Republic\": (35000, 9.0),\n",
    "    \"Norway\": (60000, 3),\n",
    "    \"Switzerland\": (72000, 3.0),\n",
    "    \"Luxembourg\": (90000, 3.0),\n",
    "}"
   ]
  },
  {
   "cell_type": "markdown",
   "metadata": {
    "id": "HKiZxo9OHE75"
   },
   "source": [
    "7개 국가를 포함한 전체 훈련 데이터 셋을 이용하여 훈련한 결과를\n",
    "7개 국가를 제외했을 때의 훈련 결과와 비교한다.\n",
    "\n",
    "* 검정 실선: 7개 국가 포함 예측 선형 모델\n",
    "* 파랑 점선: 7개 국가 제외 예측 선형 모델"
   ]
  },
  {
   "cell_type": "code",
   "execution_count": 46,
   "metadata": {
    "colab": {
     "base_uri": "https://localhost:8080/",
     "height": 233
    },
    "id": "ii9DczeMfLIn",
    "outputId": "ad5c7132-634f-4dac-d9f6-72c8159c6e04"
   },
   "outputs": [
    {
     "data": {
      "image/png": "[encoded data removed]",
      "text/plain": [
       "<Figure size 800x300 with 1 Axes>"
      ]
     },
     "metadata": {},
     "output_type": "display_data"
    }
   ],
   "source": [
    "# 7개 국가를 제외한 국가들의 산점도 (파랑색 점)\n",
    "sample_data.plot(kind='scatter', x=\"GDP per capita\", y='Life satisfaction', figsize=(8,3))\n",
    "plt.axis([0, 110000, 0, 10])\n",
    "\n",
    "# 7개 국가 산점도(빨강 점)\n",
    "for country, pos_text in position_text2.items():\n",
    "    pos_data_x, pos_data_y = missing_data.loc[country]\n",
    "    # 7개 국가명 표기\n",
    "    plt.annotate(country, xy=(pos_data_x, pos_data_y), xytext=pos_text,\n",
    "            arrowprops=dict(facecolor='black', width=0.5, shrink=0.1, headwidth=5))\n",
    "    plt.plot(pos_data_x, pos_data_y, \"rs\")\n",
    "\n",
    "# 7개 국가 제외 예측 선형 모델 그래프 (파랑 점선)\n",
    "X=np.linspace(0, 110000, 1000)\n",
    "plt.plot(X, t0 + t1*X, \"b:\")\n",
    "\n",
    "# 7개 국가 포함 선형회귀 모델 훈련 및 예측\n",
    "lin_reg_full = LinearRegression()\n",
    "Xfull = np.c_[oecd_country_stats[\"GDP per capita\"]]\n",
    "yfull = np.c_[oecd_country_stats[\"Life satisfaction\"]]\n",
    "lin_reg_full.fit(Xfull, yfull)\n",
    "\n",
    "# 7개 국가 포함 예측 선형 모델 그래프(검정 실선)\n",
    "t0full, t1full = lin_reg_full.intercept_[0], lin_reg_full.coef_[0][0]\n",
    "X = np.linspace(0, 110000, 1000)\n",
    "plt.plot(X, t0full + t1full * X, \"k\")\n",
    "plt.xlabel(\"GDP per capita (USD)\")\n",
    "\n",
    "plt.show()"
   ]
  },
  {
   "cell_type": "markdown",
   "metadata": {
    "id": "_roDoCs0C1KY"
   },
   "source": [
    "결론적으로 7개 국가를 포함하는 경우와 그렇지 않은 경우\n",
    "상당히 다른 선형회귀 모델이 훈련된다.\n",
    "즉, 모델 훈련이 훈련 데이터 셋에 민감하게 반응하는 **과대 적합** 현상이 발생한다.\n",
    "이런 의미에서 선형회귀 모델은 1인당 GDP와 삶의 만족도 사이의 관계를 모델링 하기에 부적절하다."
   ]
  }
 ],
 "metadata": {
  "colab": {
   "name": "code_ml_landscape.ipynb",
   "provenance": []
  },
  "kernelspec": {
   "display_name": "Python 3 (ipykernel)",
   "language": "python",
   "name": "python3"
  },
  "language_info": {
   "codemirror_mode": {
    "name": "ipython",
    "version": 3
   },
   "file_extension": ".py",
   "mimetype": "text/x-python",
   "name": "python",
   "nbconvert_exporter": "python",
   "pygments_lexer": "ipython3",
   "version": "3.10.9"
  },
  "nav_menu": {},
  "toc": {
   "navigate_menu": true,
   "number_sections": true,
   "sideBar": true,
   "threshold": 6,
   "toc_cell": false,
   "toc_section_display": "block",
   "toc_window_display": true
  },
  "toc_position": {
   "height": "616px",
   "left": "0px",
   "right": "20px",
   "top": "106px",
   "width": "213px"
  }
 },
 "nbformat": 4,
 "nbformat_minor": 1
}
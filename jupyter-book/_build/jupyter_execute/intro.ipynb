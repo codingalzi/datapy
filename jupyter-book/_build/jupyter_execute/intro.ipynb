{
 "cells": [
  {
   "attachments": {},
   "cell_type": "markdown",
   "metadata": {},
   "source": [
    "# 소개"
   ]
  },
  {
   "attachments": {},
   "cell_type": "markdown",
   "metadata": {},
   "source": [
    "[&lt;파이썬 라이브러리를 활용한 데이터 분석(2판)&gt;의 소스코드](https://github.com/wesm/pydata-book)를 \n",
    "담고 있는 주피터 노트북과\n",
    "[&lt;밑바닥부터 시작하는 데이터 과학(2판)&gt;의 소스코드](https://github.com/joelgrus/data-science-from-scratch)를 \n",
    "기본 틀로 삼아\n",
    "파이썬 언어를 이용한 데이터 분석 기초 강의노트 모음집을 제공합니다."
   ]
  },
  {
   "attachments": {},
   "cell_type": "markdown",
   "metadata": {},
   "source": [
    "**감사의 글**\n",
    "\n",
    "소중한 소스코드를 공개한 웨스 맥키니(Wes McKinney)와 조엘 그루스(Joel Grus)에게 \n",
    "진심어린 감사를 전합니다.\n",
    "\n",
    "\n",
    "머신러닝/딥러닝 기술이 획기적으로 발전하면서 데이터 분석 및 인공지능 관련 연구의 \n",
    "중요성이 사회, 경제, 산업의 거의 모든 분야에 지대한 영향을 미치고 있으며,\n",
    "앞으로 그런 경향이 더욱 강화될 것으로 기대된다.\n",
    "\n",
    "본 강의는 데이터 분석의 기본 아이디어와 다양한 활용법을 실전 예제와 \n",
    "함께 전달한다. \n",
    "여기서 다루는 내용은 또한 머신러닝/딥러닝 학습을 위한 기초 지식으로 활용된다."
   ]
  },
  {
   "attachments": {},
   "cell_type": "markdown",
   "metadata": {},
   "source": [
    "## 데이터 과학과 파이썬 데이터 분석"
   ]
  },
  {
   "attachments": {},
   "cell_type": "markdown",
   "metadata": {},
   "source": [
    "데이터 과학이란 **주어진 데이터로부터 수학과 통계 지식을 활용하여 필요한 정보를 추출하는 학문 분야**이다.\n",
    "반면에 파이썬 데이터 분석은 **데이터 과학의 주요 연구 도구**이다. \n",
    "\n",
    "파이썬 데이터 분석 학습을 위해 아래 분야의 기초지식이 요구되지만\n",
    "미적분학, 선형대수, 확률과통계 관련 이론은 여기서는 필요한 최소의 내용만 다룬다.\n",
    "\n",
    "* 파이썬 프로그래밍\n",
    "* 미적분학, 선형대수, 확률과통계"
   ]
  },
  {
   "attachments": {},
   "cell_type": "markdown",
   "metadata": {},
   "source": [
    "**데이터 과학, 인공지능, 머신러닝, 딥러닝**\n",
    "\n",
    "데이터 과학과 인공지능, 머신러닝, 딥러닝의 관계는 아래 그림으로 설명된다.\n",
    "\n",
    "<img src=\"https://raw.githubusercontent.com/codingalzi/datapy/master/jupyter-book/images/ai-ml-relation.png\" style=\"width:500px;\">\n",
    "\n",
    "그림 출처: [교보문고: 에이지 오브 머신러닝](http://www.kyobobook.co.kr/readIT/readITColumnView.laf?thmId=00198&sntnId=14142)\n",
    "\n",
    "위 그림에서 언급된 분야들의 정의는 다음과 같다. \n",
    "\n",
    "* 인공지능: 사고(thinking), 학습(learning) 등 인간의 지적능력을 컴퓨터를 통해 구현하는 \n",
    "    기술 또는 해당 연구 분야\n",
    "* 머신러닝: 컴퓨터가 데이터로부터 스스로 정보를 추출하는 기법 또는 해당 연구 분야.\n",
    "* 딥러닝: 심층 신경망 이론을 기반으로 복잡한 비선형 문제를 해결하는 머신러닝 기법 \n",
    "    또는 해당 연구 분야    \n",
    "\n",
    "역사적 관점에서 바라본 인공지능, 머신러닝, 딥러닝의 관계는 다음과 같다.\n",
    "\n",
    "<img src=\"https://raw.githubusercontent.com/codingalzi/datapy/master/jupyter-book//images/ai-ml-relation2.png\" style=\"width:600px;\">\n",
    "\n",
    "그림 출처: [NVIDIA 블로그](https://blogs.nvidia.com/blog/2016/07/29/whats-difference-artificial-intelligence-machine-learning-deep-learning-ai/)"
   ]
  },
  {
   "attachments": {},
   "cell_type": "markdown",
   "metadata": {},
   "source": [
    "## 주요 학습내용"
   ]
  },
  {
   "cell_type": "markdown",
   "metadata": {},
   "source": [
    "* 파이썬 기초\n",
    "* numpy 활용\n",
    "* pandas 활용\n",
    "* 데이터 불러오기 및 저장\n",
    "* 데이터 전처리: 데이터 정제 및 변환\n",
    "* 데이터 다루기: 조인, 병합, 변형\n",
    "* 데이터 시각화\n",
    "* 데이터 집계와 그룹화\n",
    "* 시계열 데이터"
   ]
  },
  {
   "attachments": {},
   "cell_type": "markdown",
   "metadata": {},
   "source": [
    "## 파이썬 프로그래밍 언어"
   ]
  },
  {
   "cell_type": "markdown",
   "metadata": {},
   "source": [
    "프로그래밍 실습에 사용되는 파이썬(Python)은 현재 데이터 분석 및 머신러닝 분야에서 \n",
    "가장 많이 사용되는 프로그래밍언어이다.\n",
    "\n",
    "[TIOBE Index](https://www.tiobe.com/tiobe-index/) 2022년 12월 기준 가장 많이 사용되는 프로그래밍 언어이며 \n",
    "점유율이 점점 높아지고 있다. \n",
    "\n",
    "<img src=\"https://raw.githubusercontent.com/codingalzi/datapy/master/jupyter-book/images/tiobe-index.jpg\" style=\"width:750px\">\n",
    "\n",
    "파이썬이 데이터 과학 분야에서 인기가 높은 이유는 다음과 같다.\n",
    "\n",
    "* 범용 프로그래밍언어\n",
    "* R, 매트랩, SQL, 엑셀 등 특정 분야에서 유용하게 사용되는 언어들의 기능 지원\n",
    "* 데이터 적재, 시각화, 통계, 자연어 처리, 이미지 처리 등에 필요한 라이브러리 제공\n",
    "* 머신러닝, 데이터 분석, 수치 해석, 통계, 확률 등에 활용될 수 있는 라이브러리 및 도구의 지속적 개발\n",
    "    * [SciPy](https://scipy.org)\n",
    "    * [statsmodels](https://www.statsmodels.org/stable/index.html)\n",
    "    * [scikit-learn](https://scikit-learn.org/)\n",
    "    * [TensorFlow](https://www.tensorflow.org/)\n",
    "    * [Keras](https://keras.io/)\n",
    "    * [PyTorch](https://keras.io/)"
   ]
  },
  {
   "attachments": {},
   "cell_type": "markdown",
   "metadata": {},
   "source": [
    "## 프로그래밍 환경"
   ]
  },
  {
   "attachments": {},
   "cell_type": "markdown",
   "metadata": {},
   "source": [
    "### 오프라인 개발환경"
   ]
  },
  {
   "attachments": {},
   "cell_type": "markdown",
   "metadata": {},
   "source": [
    "[아나콘다(Anaconda)](https://www.anaconda.com)의 주피터 노트북을 이용한다.\n",
    "콘다 한경(conda environment)을 설정하여 파이썬 코드 실행에 필요한 패키지를 미리 설치하고 관리한다."
   ]
  },
  {
   "attachments": {},
   "cell_type": "markdown",
   "metadata": {},
   "source": [
    "**주피터 노트북 실행환경 준비**"
   ]
  },
  {
   "attachments": {},
   "cell_type": "markdown",
   "metadata": {},
   "source": [
    "아래 명령을 임의의 터미널에서 실행하면 `pydata-book` 콘다 환경을 지정할 수 있다.\n",
    "윈도우 사용자의 경우 아나콘다 패키지와 함께 설치된 `Anaconda Prompt (anaconda3)` 터미널을 이용할 수 있다."
   ]
  },
  {
   "attachments": {},
   "cell_type": "markdown",
   "metadata": {},
   "source": [
    "```bash\n",
    "(base) $ conda config --add channels conda-forge\n",
    "(base) $ conda config --set channel_priority strict\n",
    "(base) $ conda create -y -n pydata-book python=3.10\n",
    "(base) $ conda activate pydata-book\n",
    "(pydata-book) $ conda install -y pandas jupyter matplotlib\n",
    "(pydata-book) $ conda install lxml beautifulsoup4 html5lib openpyxl requests sqlalchemy seaborn scipy statsmodels patsy scikit-learn pyarrow pytables numba\n",
    "```"
   ]
  },
  {
   "attachments": {},
   "cell_type": "markdown",
   "metadata": {},
   "source": [
    "**주피터 노트북 실행**"
   ]
  },
  {
   "attachments": {},
   "cell_type": "markdown",
   "metadata": {},
   "source": [
    "`Anaconda Prompt (anaconda3)` 등 임의의 터미널에서 아래 명령을 차례대로 실행하면 주피터 노트북을 열거나 새로 작성할 수 있다."
   ]
  },
  {
   "attachments": {},
   "cell_type": "markdown",
   "metadata": {},
   "source": [
    "```bash\n",
    "(base) $ conda activate pydata-book\n",
    "(pydata-book) $ jupyter notebook\n",
    "```"
   ]
  },
  {
   "attachments": {},
   "cell_type": "markdown",
   "metadata": {},
   "source": [
    "브라우저에 아래와 같은 주피터 서버가 실행되며, 원하는 폴더에서 기존의 노트북을 실행, 수정하거나 새로운 주피터 노트북을 생성할 수 있다.\n",
    "\n",
    "<img src=\"https://raw.githubusercontent.com/codingalzi/datapy/master/jupyter-book/images/JupyterServer.jpg\" style=\"width:750px\">"
   ]
  },
  {
   "attachments": {},
   "cell_type": "markdown",
   "metadata": {},
   "source": [
    "### 온라인 개발환경"
   ]
  },
  {
   "attachments": {},
   "cell_type": "markdown",
   "metadata": {},
   "source": [
    "[구글 코랩](https://colab.research.google.com)의 주피터 노트북을 활용하며 특별히 추가 설정을 할 필요가 없지만 \n",
    "특정 라이브러리를 설치해야하는 경우가 발생할 수 있다. 그럴 때는 `pip` 파이썬 라이브러리 관리자를 이용하면 된다.\n",
    "예를 들어 `beautifulsoup4` 라이브러리를 설치하려면 아래 명령문을 주피터 노트북 코드셀에서 실행하면 된다.\n",
    "\n",
    "```bash\n",
    "!pip install beautifulsoup4\n",
    "```\n",
    "\n",
    "참고: `pip`은 파이썬 명령어가 아니라 쉘(shell) 명령이다. 이런 쉘 명령어를 터미널이 아닌 주피터 노트북 셀에서 실행하려면 느낌표(`!`)를 함께 사용한다."
   ]
  }
 ],
 "metadata": {
  "kernelspec": {
   "display_name": "base",
   "language": "python",
   "name": "python3"
  },
  "language_info": {
   "codemirror_mode": {
    "name": "ipython",
    "version": 3
   },
   "file_extension": ".py",
   "mimetype": "text/x-python",
   "name": "python",
   "nbconvert_exporter": "python",
   "pygments_lexer": "ipython3",
   "version": "3.9.7"
  },
  "vscode": {
   "interpreter": {
    "hash": "ad0f3c8a064f687cbf898a0868fd45ba1c7e928ac8a0404f7c241d812ddc1e76"
   }
  }
 },
 "nbformat": 4,
 "nbformat_minor": 2
}
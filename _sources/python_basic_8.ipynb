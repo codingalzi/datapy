{
 "cells": [
  {
   "cell_type": "markdown",
   "id": "b2978ed7",
   "metadata": {},
   "source": [
    "# 모듈 (준비중)"
   ]
  },
  {
   "cell_type": "markdown",
   "id": "fed1cc9d",
   "metadata": {},
   "source": [
    "모듈 간단히 소개"
   ]
  },
  {
   "cell_type": "markdown",
   "id": "0957012c",
   "metadata": {},
   "source": [
    "- 참고: https://codingalzi.github.io/pybook/modules.html 의 2절까지"
   ]
  }
 ],
 "metadata": {
  "kernelspec": {
   "display_name": "Python 3 (ipykernel)",
   "language": "python",
   "name": "python3"
  },
  "language_info": {
   "codemirror_mode": {
    "name": "ipython",
    "version": 3
   },
   "file_extension": ".py",
   "mimetype": "text/x-python",
   "name": "python",
   "nbconvert_exporter": "python",
   "pygments_lexer": "ipython3",
   "version": "3.10.9"
  }
 },
 "nbformat": 4,
 "nbformat_minor": 5
}

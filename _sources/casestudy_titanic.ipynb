{
 "cells": [
  {
   "attachments": {},
   "cell_type": "markdown",
   "id": "31b6f603",
   "metadata": {
    "id": "31b6f603"
   },
   "source": [
    "(sec:titanic)=\n",
    "# 타이타닉 데이터 분석"
   ]
  },
  {
   "attachments": {},
   "cell_type": "markdown",
   "id": "f9442dc3",
   "metadata": {
    "id": "f9442dc3"
   },
   "source": [
    "**주요 내용**"
   ]
  },
  {
   "attachments": {},
   "cell_type": "markdown",
   "id": "239fb117",
   "metadata": {
    "id": "239fb117"
   },
   "source": [
    "타이타닉<font size='2'>Titanic</font> 데이터셋을 데이터프레임으로 불러와서 전처리 하는 과정을 살펴 본다.\n",
    "\n",
    "타이타닉은 1912년 4월 10일 영국을 떠나 미국 뉴욕으로 향하던 북 대서양 항해 중에 빙산과 충돌하여 침몰한다.\n",
    "탑승객과 승무원 포함 2,224명이 승선했다가 그중 1,502명이 사망한 것으로 알려져 있다. \n",
    "\n",
    "타이타닉 데이터셋은 탑승자의 신원과 관련된 정보와 생존 여부를 포함하며, 탑승자의 정보를 이용하여\n",
    "생존 가능성을 예측하는 머신러닝 모델을 훈련시키는 예제로 자주 활용된다."
   ]
  },
  {
   "attachments": {},
   "cell_type": "markdown",
   "id": "11988da0",
   "metadata": {
    "id": "11988da0"
   },
   "source": [
    "**기본 설정**"
   ]
  },
  {
   "cell_type": "code",
   "execution_count": 1,
   "id": "411895cc",
   "metadata": {
    "id": "411895cc"
   },
   "outputs": [],
   "source": [
    "import pandas as pd\n",
    "import numpy as np"
   ]
  },
  {
   "attachments": {},
   "cell_type": "markdown",
   "id": "48285ae0",
   "metadata": {
    "id": "48285ae0"
   },
   "source": [
    "랜덤 시드, 어레이 내부에 사용되는 부동소수점의 정확도(여기서는 소수점 이하 네자리까지 표시)를 지정한다."
   ]
  },
  {
   "cell_type": "code",
   "execution_count": 2,
   "id": "dc1bbc6b",
   "metadata": {
    "id": "dc1bbc6b"
   },
   "outputs": [],
   "source": [
    "np.random.seed(12345)\n",
    "np.set_printoptions(precision=4, suppress=True)"
   ]
  },
  {
   "attachments": {},
   "cell_type": "markdown",
   "id": "6bae6d0d",
   "metadata": {
    "id": "6bae6d0d"
   },
   "source": [
    "그래프 크기를 지정한다."
   ]
  },
  {
   "cell_type": "code",
   "execution_count": 3,
   "id": "0fbc8d26",
   "metadata": {
    "id": "0fbc8d26"
   },
   "outputs": [],
   "source": [
    "import matplotlib.pyplot as plt\n",
    "\n",
    "plt.rc('figure', figsize=(10, 6))"
   ]
  },
  {
   "attachments": {},
   "cell_type": "markdown",
   "id": "a0f2c96f",
   "metadata": {
    "id": "a0f2c96f"
   },
   "source": [
    "`seaborn` 라이브러리가 보다 세련된 그래프를 그린다."
   ]
  },
  {
   "cell_type": "code",
   "execution_count": 4,
   "id": "881dfa9b",
   "metadata": {
    "id": "881dfa9b"
   },
   "outputs": [],
   "source": [
    "import seaborn as sns"
   ]
  },
  {
   "attachments": {},
   "cell_type": "markdown",
   "id": "1cdc959d",
   "metadata": {
    "id": "1cdc959d"
   },
   "source": [
    "[`seaborn.set_theme()` 함수](https://seaborn.pydata.org/generated/seaborn.set_theme.html)를 이용하면\n",
    "`seaborn` 스타일로 그래프 설정을 지정한다."
   ]
  },
  {
   "cell_type": "code",
   "execution_count": 5,
   "id": "11d83c38",
   "metadata": {
    "id": "11d83c38"
   },
   "outputs": [],
   "source": [
    "sns.set_theme()"
   ]
  },
  {
   "attachments": {},
   "cell_type": "markdown",
   "id": "e93192b3",
   "metadata": {
    "id": "e93192b3"
   },
   "source": [
    "사이킷런<font size='2'>scikit-learn</font> 라이브러리를 일부 이용한다."
   ]
  },
  {
   "cell_type": "code",
   "execution_count": 6,
   "id": "21709185",
   "metadata": {
    "id": "21709185"
   },
   "outputs": [],
   "source": [
    "from sklearn.datasets import fetch_openml"
   ]
  },
  {
   "attachments": {},
   "cell_type": "markdown",
   "id": "be7984aa",
   "metadata": {
    "id": "be7984aa"
   },
   "source": [
    "**주의사항**\n",
    "\n",
    "열의 라벨을 데이터의 **특성**<font size='2'>feature</font>로 부르는\n",
    "관습을 따라 여기서도 특성 표현을 사용한다."
   ]
  },
  {
   "attachments": {},
   "cell_type": "markdown",
   "id": "f7b1be74",
   "metadata": {
    "id": "f7b1be74"
   },
   "source": [
    "## 타이타닉 데이터셋 불러오기"
   ]
  },
  {
   "attachments": {},
   "cell_type": "markdown",
   "id": "2e59d046",
   "metadata": {
    "id": "2e59d046"
   },
   "source": [
    "타이타닉 데이터셋을 불러온다."
   ]
  },
  {
   "attachments": {},
   "cell_type": "markdown",
   "id": "c1b32316",
   "metadata": {
    "id": "c1b32316"
   },
   "source": [
    "- `fetch_openml()`: [openml](https://www.openml.org)에서 제공하는 데이터셋을 가져오는 함수.\n",
    "- 여기서는 [타이타닉 데이터셋](https://www.openml.org/search?type=data&status=active&id=40945) 지정."
   ]
  },
  {
   "cell_type": "code",
   "execution_count": 7,
   "id": "22c2bf39",
   "metadata": {
    "colab": {
     "base_uri": "https://localhost:8080/"
    },
    "id": "22c2bf39",
    "outputId": "003304c7-5382-48df-a889-2f523723d646"
   },
   "outputs": [],
   "source": [
    "X, y = fetch_openml(\"titanic\", version=1, as_frame=True, return_X_y=True)"
   ]
  },
  {
   "attachments": {},
   "cell_type": "markdown",
   "id": "4b44e198",
   "metadata": {
    "id": "4b44e198"
   },
   "source": [
    "- 1309명 승객의 데이터 포함. \n",
    "\n",
    "- `X`: 13개의 열(특성) 사용.\n",
    "\n",
    "| 열 특성 | 의미 |\n",
    "| :--- | :--- |\n",
    "| Pclass | 승객 클래스(1 = 1등석; 2 = 2등석; 3 = 3등석) |\n",
    "| name | 이름 |\n",
    "| sex | 성(male=남성, female=여성) |\n",
    "| age | 나이 |\n",
    "| sibsp | 함께 승선한 형제, 자매, 배우자 수 |\n",
    "| parch | 함께 승선한 부모 자식 수 |\n",
    "| ticket | 티켓 번호 |\n",
    "| fare | 티켓 요금 (영국 파운드) |\n",
    "| cabin | 객실 번호 |\n",
    "| embarked | 승선한 항구 (C = Cherbourg; Q = Queenstown; S = Southampton) |\n",
    "| boat | 침몰시 탑승한 구명보트 번호 |\n",
    "| body | 사망자인 경우 지정된 번호 |\n",
    "| home.dest | 고향/목적지 |"
   ]
  },
  {
   "cell_type": "code",
   "execution_count": 8,
   "id": "e497e958",
   "metadata": {
    "colab": {
     "base_uri": "https://localhost:8080/"
    },
    "id": "e497e958",
    "outputId": "4b9dc190-da23-416a-f2a3-cd3b1e0a0f29"
   },
   "outputs": [
    {
     "data": {
      "text/plain": [
       "(1309, 13)"
      ]
     },
     "execution_count": 8,
     "metadata": {},
     "output_type": "execute_result"
    }
   ],
   "source": [
    "X.shape"
   ]
  },
  {
   "cell_type": "code",
   "execution_count": 9,
   "id": "5199beb5",
   "metadata": {
    "colab": {
     "base_uri": "https://localhost:8080/"
    },
    "id": "5199beb5",
    "outputId": "66ea4a9f-830d-4ef2-c673-0f614fadd7c2"
   },
   "outputs": [
    {
     "data": {
      "text/plain": [
       "Index(['pclass', 'name', 'sex', 'age', 'sibsp', 'parch', 'ticket', 'fare',\n",
       "       'cabin', 'embarked', 'boat', 'body', 'home.dest'],\n",
       "      dtype='object')"
      ]
     },
     "execution_count": 9,
     "metadata": {},
     "output_type": "execute_result"
    }
   ],
   "source": [
    "X.columns"
   ]
  },
  {
   "attachments": {},
   "cell_type": "markdown",
   "id": "deb287d5",
   "metadata": {
    "id": "deb287d5"
   },
   "source": [
    "- `y`: 1309명 승객의 생존 여부를 담은 시리즈. \n",
    "- 시리즈의 이름은 `survived`\n",
    "\n",
    "| 열 특성 | 의미 |\n",
    "| :--- | :--- |\n",
    "| survived | 생존 여부 (0 = 사망; 1 = 생존) |`"
   ]
  },
  {
   "cell_type": "code",
   "execution_count": 10,
   "id": "c604a12b",
   "metadata": {
    "colab": {
     "base_uri": "https://localhost:8080/",
     "height": 35
    },
    "id": "c604a12b",
    "outputId": "32c796fe-2307-450d-a7fc-1839024ce8dd"
   },
   "outputs": [
    {
     "data": {
      "text/plain": [
       "'survived'"
      ]
     },
     "execution_count": 10,
     "metadata": {},
     "output_type": "execute_result"
    }
   ],
   "source": [
    "y.name"
   ]
  },
  {
   "attachments": {},
   "cell_type": "markdown",
   "id": "ebab4c00",
   "metadata": {
    "id": "ebab4c00"
   },
   "source": [
    "값들이 부동소수점이 아닌 범주형(category) 데이터인 문자열로 되어 있다."
   ]
  },
  {
   "cell_type": "code",
   "execution_count": 11,
   "id": "c1ccc741",
   "metadata": {
    "colab": {
     "base_uri": "https://localhost:8080/"
    },
    "id": "c1ccc741",
    "outputId": "ac325ba6-8c1d-4c1f-c35a-d90abfcd7911"
   },
   "outputs": [
    {
     "name": "stdout",
     "output_type": "stream",
     "text": [
      "<class 'pandas.core.series.Series'>\n",
      "RangeIndex: 1309 entries, 0 to 1308\n",
      "Series name: survived\n",
      "Non-Null Count  Dtype   \n",
      "--------------  -----   \n",
      "1309 non-null   category\n",
      "dtypes: category(1)\n",
      "memory usage: 1.5 KB\n"
     ]
    }
   ],
   "source": [
    "y.info()"
   ]
  },
  {
   "attachments": {},
   "cell_type": "markdown",
   "id": "21d0b595",
   "metadata": {
    "id": "21d0b595"
   },
   "source": [
    "보다 원할한 데이터 분석을 위해 정수 자료형으로 변환한다."
   ]
  },
  {
   "cell_type": "code",
   "execution_count": 12,
   "id": "9fd104ad",
   "metadata": {
    "colab": {
     "base_uri": "https://localhost:8080/"
    },
    "id": "9fd104ad",
    "outputId": "d9f30446-6111-4186-94ae-80b6e341fbb0"
   },
   "outputs": [
    {
     "data": {
      "text/plain": [
       "0       1\n",
       "1       1\n",
       "2       0\n",
       "3       0\n",
       "4       0\n",
       "       ..\n",
       "1304    0\n",
       "1305    0\n",
       "1306    0\n",
       "1307    0\n",
       "1308    0\n",
       "Name: survived, Length: 1309, dtype: int32"
      ]
     },
     "execution_count": 12,
     "metadata": {},
     "output_type": "execute_result"
    }
   ],
   "source": [
    "y = y.astype('i4')\n",
    "y"
   ]
  },
  {
   "attachments": {},
   "cell_type": "markdown",
   "id": "16beaaa9",
   "metadata": {
    "id": "16beaaa9"
   },
   "source": [
    "## 데이터 정제"
   ]
  },
  {
   "attachments": {},
   "cell_type": "markdown",
   "id": "bdec225b",
   "metadata": {
    "id": "bdec225b"
   },
   "source": [
    "**데이터 정제**<font size='2'>data cleaning</font>는 부정확하거나 불완전하거나 부적절한 데이터를 탐지하여 수정, 삭제하는 과정을 가리킨다.\n",
    "여기서는 다음 두 가지 과정을 소개한다.\n",
    "\n",
    "- 데이터 분석에 필요하지 않은 특성 제거\n",
    "- 결측치 처리"
   ]
  },
  {
   "attachments": {},
   "cell_type": "markdown",
   "id": "831e826d",
   "metadata": {
    "id": "831e826d"
   },
   "source": [
    "### 불필요 특성 제거"
   ]
  },
  {
   "attachments": {},
   "cell_type": "markdown",
   "id": "3b59807b",
   "metadata": {
    "id": "3b59807b"
   },
   "source": [
    "`'boat'`, `'body'`, `'home.dest'`, `ticket` 등을 특성으로 갖는 열은 생존 여부와 상관 없는 정보이기에 삭제한다."
   ]
  },
  {
   "cell_type": "code",
   "execution_count": 13,
   "id": "7fac0bac",
   "metadata": {
    "colab": {
     "base_uri": "https://localhost:8080/",
     "height": 206
    },
    "id": "7fac0bac",
    "outputId": "7e25974c-41f2-4189-e6b6-1350d20bf4a2"
   },
   "outputs": [
    {
     "data": {
      "text/html": [
       "<div>\n",
       "<style scoped>\n",
       "    .dataframe tbody tr th:only-of-type {\n",
       "        vertical-align: middle;\n",
       "    }\n",
       "\n",
       "    .dataframe tbody tr th {\n",
       "        vertical-align: top;\n",
       "    }\n",
       "\n",
       "    .dataframe thead th {\n",
       "        text-align: right;\n",
       "    }\n",
       "</style>\n",
       "<table border=\"1\" class=\"dataframe\">\n",
       "  <thead>\n",
       "    <tr style=\"text-align: right;\">\n",
       "      <th></th>\n",
       "      <th>pclass</th>\n",
       "      <th>name</th>\n",
       "      <th>sex</th>\n",
       "      <th>age</th>\n",
       "      <th>sibsp</th>\n",
       "      <th>parch</th>\n",
       "      <th>fare</th>\n",
       "      <th>cabin</th>\n",
       "      <th>embarked</th>\n",
       "    </tr>\n",
       "  </thead>\n",
       "  <tbody>\n",
       "    <tr>\n",
       "      <th>0</th>\n",
       "      <td>1.0</td>\n",
       "      <td>Allen, Miss. Elisabeth Walton</td>\n",
       "      <td>female</td>\n",
       "      <td>29.0000</td>\n",
       "      <td>0.0</td>\n",
       "      <td>0.0</td>\n",
       "      <td>211.3375</td>\n",
       "      <td>B5</td>\n",
       "      <td>S</td>\n",
       "    </tr>\n",
       "    <tr>\n",
       "      <th>1</th>\n",
       "      <td>1.0</td>\n",
       "      <td>Allison, Master. Hudson Trevor</td>\n",
       "      <td>male</td>\n",
       "      <td>0.9167</td>\n",
       "      <td>1.0</td>\n",
       "      <td>2.0</td>\n",
       "      <td>151.5500</td>\n",
       "      <td>C22 C26</td>\n",
       "      <td>S</td>\n",
       "    </tr>\n",
       "    <tr>\n",
       "      <th>2</th>\n",
       "      <td>1.0</td>\n",
       "      <td>Allison, Miss. Helen Loraine</td>\n",
       "      <td>female</td>\n",
       "      <td>2.0000</td>\n",
       "      <td>1.0</td>\n",
       "      <td>2.0</td>\n",
       "      <td>151.5500</td>\n",
       "      <td>C22 C26</td>\n",
       "      <td>S</td>\n",
       "    </tr>\n",
       "    <tr>\n",
       "      <th>3</th>\n",
       "      <td>1.0</td>\n",
       "      <td>Allison, Mr. Hudson Joshua Creighton</td>\n",
       "      <td>male</td>\n",
       "      <td>30.0000</td>\n",
       "      <td>1.0</td>\n",
       "      <td>2.0</td>\n",
       "      <td>151.5500</td>\n",
       "      <td>C22 C26</td>\n",
       "      <td>S</td>\n",
       "    </tr>\n",
       "    <tr>\n",
       "      <th>4</th>\n",
       "      <td>1.0</td>\n",
       "      <td>Allison, Mrs. Hudson J C (Bessie Waldo Daniels)</td>\n",
       "      <td>female</td>\n",
       "      <td>25.0000</td>\n",
       "      <td>1.0</td>\n",
       "      <td>2.0</td>\n",
       "      <td>151.5500</td>\n",
       "      <td>C22 C26</td>\n",
       "      <td>S</td>\n",
       "    </tr>\n",
       "  </tbody>\n",
       "</table>\n",
       "</div>"
      ],
      "text/plain": [
       "   pclass                                             name     sex      age  \\\n",
       "0     1.0                    Allen, Miss. Elisabeth Walton  female  29.0000   \n",
       "1     1.0                   Allison, Master. Hudson Trevor    male   0.9167   \n",
       "2     1.0                     Allison, Miss. Helen Loraine  female   2.0000   \n",
       "3     1.0             Allison, Mr. Hudson Joshua Creighton    male  30.0000   \n",
       "4     1.0  Allison, Mrs. Hudson J C (Bessie Waldo Daniels)  female  25.0000   \n",
       "\n",
       "   sibsp  parch      fare    cabin embarked  \n",
       "0    0.0    0.0  211.3375       B5        S  \n",
       "1    1.0    2.0  151.5500  C22 C26        S  \n",
       "2    1.0    2.0  151.5500  C22 C26        S  \n",
       "3    1.0    2.0  151.5500  C22 C26        S  \n",
       "4    1.0    2.0  151.5500  C22 C26        S  "
      ]
     },
     "execution_count": 13,
     "metadata": {},
     "output_type": "execute_result"
    }
   ],
   "source": [
    "X.drop(['boat', 'body', 'home.dest', 'ticket'], axis=1, inplace=True)\n",
    "X.head()"
   ]
  },
  {
   "attachments": {},
   "cell_type": "markdown",
   "id": "7a7959cf",
   "metadata": {
    "id": "7a7959cf"
   },
   "source": [
    "### 결측치 처리"
   ]
  },
  {
   "attachments": {},
   "cell_type": "markdown",
   "id": "5d7f69d0",
   "metadata": {
    "id": "5d7f69d0"
   },
   "source": [
    "결측치의 존재 여부를 각 열에 대해 확인한다."
   ]
  },
  {
   "attachments": {},
   "cell_type": "markdown",
   "id": "5578bb82",
   "metadata": {
    "id": "5578bb82"
   },
   "source": [
    " - `DataFrame.info()` 메서드"
   ]
  },
  {
   "cell_type": "code",
   "execution_count": 14,
   "id": "9772d6d9",
   "metadata": {
    "colab": {
     "base_uri": "https://localhost:8080/"
    },
    "id": "9772d6d9",
    "outputId": "283d6be7-44ea-4f69-bf6e-1219b214b428"
   },
   "outputs": [
    {
     "name": "stdout",
     "output_type": "stream",
     "text": [
      "<class 'pandas.core.frame.DataFrame'>\n",
      "RangeIndex: 1309 entries, 0 to 1308\n",
      "Data columns (total 9 columns):\n",
      " #   Column    Non-Null Count  Dtype   \n",
      "---  ------    --------------  -----   \n",
      " 0   pclass    1309 non-null   float64 \n",
      " 1   name      1309 non-null   object  \n",
      " 2   sex       1309 non-null   category\n",
      " 3   age       1046 non-null   float64 \n",
      " 4   sibsp     1309 non-null   float64 \n",
      " 5   parch     1309 non-null   float64 \n",
      " 6   fare      1308 non-null   float64 \n",
      " 7   cabin     295 non-null    object  \n",
      " 8   embarked  1307 non-null   category\n",
      "dtypes: category(2), float64(5), object(2)\n",
      "memory usage: 74.5+ KB\n"
     ]
    }
   ],
   "source": [
    "X.info()"
   ]
  },
  {
   "attachments": {},
   "cell_type": "markdown",
   "id": "ca034113",
   "metadata": {
    "id": "ca034113"
   },
   "source": [
    "- `DataFrame.isnull()`과 `DataFrame.any()` 메서드"
   ]
  },
  {
   "cell_type": "code",
   "execution_count": 15,
   "id": "0f8ca749",
   "metadata": {
    "colab": {
     "base_uri": "https://localhost:8080/"
    },
    "id": "0f8ca749",
    "outputId": "98b62d8a-2fcc-4778-d4dc-3000ac7c6729"
   },
   "outputs": [
    {
     "data": {
      "text/plain": [
       "pclass      False\n",
       "name        False\n",
       "sex         False\n",
       "age          True\n",
       "sibsp       False\n",
       "parch       False\n",
       "fare         True\n",
       "cabin        True\n",
       "embarked     True\n",
       "dtype: bool"
      ]
     },
     "execution_count": 15,
     "metadata": {},
     "output_type": "execute_result"
    }
   ],
   "source": [
    "X.isnull().any()"
   ]
  },
  {
   "attachments": {},
   "cell_type": "markdown",
   "id": "5e187d5a",
   "metadata": {
    "id": "5e187d5a"
   },
   "source": [
    "결측치의 수와 비율을 각 열에 대해 확인한다."
   ]
  },
  {
   "attachments": {},
   "cell_type": "markdown",
   "id": "20250b69",
   "metadata": {
    "id": "20250b69"
   },
   "source": [
    "- `DataFrame.sum()` 메서드"
   ]
  },
  {
   "cell_type": "code",
   "execution_count": 16,
   "id": "d2affd35",
   "metadata": {
    "colab": {
     "base_uri": "https://localhost:8080/"
    },
    "id": "d2affd35",
    "outputId": "42947924-4f06-4891-82eb-4490b5b6dc27"
   },
   "outputs": [
    {
     "data": {
      "text/plain": [
       "pclass         0\n",
       "name           0\n",
       "sex            0\n",
       "age          263\n",
       "sibsp          0\n",
       "parch          0\n",
       "fare           1\n",
       "cabin       1014\n",
       "embarked       2\n",
       "dtype: int64"
      ]
     },
     "execution_count": 16,
     "metadata": {},
     "output_type": "execute_result"
    }
   ],
   "source": [
    "X.isnull().sum()"
   ]
  },
  {
   "attachments": {},
   "cell_type": "markdown",
   "id": "1a676c18",
   "metadata": {
    "id": "1a676c18"
   },
   "source": [
    "결측치의 비율을 각 열에 대해 계산한다."
   ]
  },
  {
   "attachments": {},
   "cell_type": "markdown",
   "id": "98b1f3b6",
   "metadata": {
    "id": "98b1f3b6"
   },
   "source": [
    "- `len()` 함수"
   ]
  },
  {
   "cell_type": "code",
   "execution_count": 17,
   "id": "10ffcf65",
   "metadata": {
    "colab": {
     "base_uri": "https://localhost:8080/"
    },
    "id": "10ffcf65",
    "outputId": "fe8c09d1-2c9d-463e-a1ab-8c297319880c"
   },
   "outputs": [
    {
     "data": {
      "text/plain": [
       "pclass       0.000000\n",
       "name         0.000000\n",
       "sex          0.000000\n",
       "age         20.091673\n",
       "sibsp        0.000000\n",
       "parch        0.000000\n",
       "fare         0.076394\n",
       "cabin       77.463713\n",
       "embarked     0.152788\n",
       "dtype: float64"
      ]
     },
     "execution_count": 17,
     "metadata": {},
     "output_type": "execute_result"
    }
   ],
   "source": [
    "miss_vals = X.isnull().sum()/len(X) * 100\n",
    "miss_vals"
   ]
  },
  {
   "attachments": {},
   "cell_type": "markdown",
   "id": "cb7f569e",
   "metadata": {
    "id": "cb7f569e"
   },
   "source": [
    "특성별 결측치 비율을 막대그래프로 그린다."
   ]
  },
  {
   "cell_type": "code",
   "execution_count": 18,
   "id": "948f104c",
   "metadata": {
    "colab": {
     "base_uri": "https://localhost:8080/",
     "height": 612
    },
    "id": "948f104c",
    "outputId": "c057c3ab-ae65-495d-e37a-f634ca6c1a0c"
   },
   "outputs": [
    {
     "data": {
      "image/png": "[encoded data removed]",
      "text/plain": [
       "<Figure size 432x288 with 1 Axes>"
      ]
     },
     "metadata": {
      "needs_background": "light"
     },
     "output_type": "display_data"
    }
   ],
   "source": [
    "miss_vals.plot(kind='bar',\n",
    "               title='Missing values in percentage',\n",
    "               ylabel='percentage'\n",
    "              )\n",
    " \n",
    "plt.show()"
   ]
  },
  {
   "attachments": {},
   "cell_type": "markdown",
   "id": "43845632",
   "metadata": {
    "id": "43845632"
   },
   "source": [
    "**`DataFrame.drop()` 메서드**"
   ]
  },
  {
   "attachments": {},
   "cell_type": "markdown",
   "id": "9a97a045",
   "metadata": {
    "id": "9a97a045"
   },
   "source": [
    "많은 결측치가 포함된 객실(`cabin`) 열은 데이터분석에 도움이 되지 않기에 삭제한다.\n",
    "\n",
    "- `inplace=True`: 기존 데이터프레임에서 직접 지정된 열 또는 행 삭제\n",
    "- `inplace=False`: 지정된 열 또는 행을 삭제한 데이터프레임 생성. 기존 데이터프레임은 불변. 기본값으로 사용됨."
   ]
  },
  {
   "cell_type": "code",
   "execution_count": 19,
   "id": "0823ac6f",
   "metadata": {
    "id": "0823ac6f"
   },
   "outputs": [],
   "source": [
    "X.drop(['cabin'], axis=1, inplace=True)"
   ]
  },
  {
   "attachments": {},
   "cell_type": "markdown",
   "id": "b2071a56",
   "metadata": {
    "id": "b2071a56"
   },
   "source": [
    "결측치를 다시 열별로 확인한다."
   ]
  },
  {
   "cell_type": "code",
   "execution_count": 20,
   "id": "4ea99060",
   "metadata": {
    "colab": {
     "base_uri": "https://localhost:8080/"
    },
    "id": "4ea99060",
    "outputId": "bfe4c04b-3177-4e6e-86cf-ecfb5b75b006"
   },
   "outputs": [
    {
     "data": {
      "text/plain": [
       "pclass        0\n",
       "name          0\n",
       "sex           0\n",
       "age         263\n",
       "sibsp         0\n",
       "parch         0\n",
       "fare          1\n",
       "embarked      2\n",
       "dtype: int64"
      ]
     },
     "execution_count": 20,
     "metadata": {},
     "output_type": "execute_result"
    }
   ],
   "source": [
    "X.isnull().sum()"
   ]
  },
  {
   "attachments": {},
   "cell_type": "markdown",
   "id": "df068ee9",
   "metadata": {
    "id": "df068ee9"
   },
   "source": [
    "## 데이터 전처리"
   ]
  },
  {
   "attachments": {},
   "cell_type": "markdown",
   "id": "6977ecbd",
   "metadata": {
    "id": "6977ecbd"
   },
   "source": [
    "**데이터 전처리**<font size='2'>data preprocessing</font>는 \n",
    "본격적인 데이터 분석을 위해 데이터를 조작하는 과정이다.\n",
    "\n",
    "여기서는 다음 과정을 소개한다.\n",
    "\n",
    "- 새로운 특성 추가"
   ]
  },
  {
   "attachments": {},
   "cell_type": "markdown",
   "id": "68f2afba",
   "metadata": {
    "id": "68f2afba"
   },
   "source": [
    "### 새로운 특성"
   ]
  },
  {
   "attachments": {},
   "cell_type": "markdown",
   "id": "8fbf61b1",
   "metadata": {
    "id": "8fbf61b1"
   },
   "source": [
    "형제자매, 배우자, 부모자식 수를 하나로 합쳐서\n",
    "함께 승선한 가족의 수를 값으로 갖는\n",
    "`family` 특성(열)을 생성하여 데이터셋에 추가한다."
   ]
  },
  {
   "attachments": {},
   "cell_type": "markdown",
   "id": "3f6450e8",
   "metadata": {
    "id": "3f6450e8"
   },
   "source": [
    "**`family` 특성 추가**\n",
    "\n",
    "- `pd.concat()` 함수\n",
    "- `DataFrame.sum()` 메서드"
   ]
  },
  {
   "cell_type": "code",
   "execution_count": 21,
   "id": "cc56f76a",
   "metadata": {
    "colab": {
     "base_uri": "https://localhost:8080/",
     "height": 423
    },
    "id": "cc56f76a",
    "outputId": "18bc8ae2-80b9-4208-ef8e-4662555801ec"
   },
   "outputs": [
    {
     "data": {
      "text/html": [
       "<div>\n",
       "<style scoped>\n",
       "    .dataframe tbody tr th:only-of-type {\n",
       "        vertical-align: middle;\n",
       "    }\n",
       "\n",
       "    .dataframe tbody tr th {\n",
       "        vertical-align: top;\n",
       "    }\n",
       "\n",
       "    .dataframe thead th {\n",
       "        text-align: right;\n",
       "    }\n",
       "</style>\n",
       "<table border=\"1\" class=\"dataframe\">\n",
       "  <thead>\n",
       "    <tr style=\"text-align: right;\">\n",
       "      <th></th>\n",
       "      <th>pclass</th>\n",
       "      <th>name</th>\n",
       "      <th>sex</th>\n",
       "      <th>age</th>\n",
       "      <th>sibsp</th>\n",
       "      <th>parch</th>\n",
       "      <th>fare</th>\n",
       "      <th>embarked</th>\n",
       "      <th>family</th>\n",
       "    </tr>\n",
       "  </thead>\n",
       "  <tbody>\n",
       "    <tr>\n",
       "      <th>0</th>\n",
       "      <td>1.0</td>\n",
       "      <td>Allen, Miss. Elisabeth Walton</td>\n",
       "      <td>female</td>\n",
       "      <td>29.0000</td>\n",
       "      <td>0.0</td>\n",
       "      <td>0.0</td>\n",
       "      <td>211.3375</td>\n",
       "      <td>S</td>\n",
       "      <td>0.0</td>\n",
       "    </tr>\n",
       "    <tr>\n",
       "      <th>1</th>\n",
       "      <td>1.0</td>\n",
       "      <td>Allison, Master. Hudson Trevor</td>\n",
       "      <td>male</td>\n",
       "      <td>0.9167</td>\n",
       "      <td>1.0</td>\n",
       "      <td>2.0</td>\n",
       "      <td>151.5500</td>\n",
       "      <td>S</td>\n",
       "      <td>3.0</td>\n",
       "    </tr>\n",
       "    <tr>\n",
       "      <th>2</th>\n",
       "      <td>1.0</td>\n",
       "      <td>Allison, Miss. Helen Loraine</td>\n",
       "      <td>female</td>\n",
       "      <td>2.0000</td>\n",
       "      <td>1.0</td>\n",
       "      <td>2.0</td>\n",
       "      <td>151.5500</td>\n",
       "      <td>S</td>\n",
       "      <td>3.0</td>\n",
       "    </tr>\n",
       "    <tr>\n",
       "      <th>3</th>\n",
       "      <td>1.0</td>\n",
       "      <td>Allison, Mr. Hudson Joshua Creighton</td>\n",
       "      <td>male</td>\n",
       "      <td>30.0000</td>\n",
       "      <td>1.0</td>\n",
       "      <td>2.0</td>\n",
       "      <td>151.5500</td>\n",
       "      <td>S</td>\n",
       "      <td>3.0</td>\n",
       "    </tr>\n",
       "    <tr>\n",
       "      <th>4</th>\n",
       "      <td>1.0</td>\n",
       "      <td>Allison, Mrs. Hudson J C (Bessie Waldo Daniels)</td>\n",
       "      <td>female</td>\n",
       "      <td>25.0000</td>\n",
       "      <td>1.0</td>\n",
       "      <td>2.0</td>\n",
       "      <td>151.5500</td>\n",
       "      <td>S</td>\n",
       "      <td>3.0</td>\n",
       "    </tr>\n",
       "    <tr>\n",
       "      <th>...</th>\n",
       "      <td>...</td>\n",
       "      <td>...</td>\n",
       "      <td>...</td>\n",
       "      <td>...</td>\n",
       "      <td>...</td>\n",
       "      <td>...</td>\n",
       "      <td>...</td>\n",
       "      <td>...</td>\n",
       "      <td>...</td>\n",
       "    </tr>\n",
       "    <tr>\n",
       "      <th>1304</th>\n",
       "      <td>3.0</td>\n",
       "      <td>Zabour, Miss. Hileni</td>\n",
       "      <td>female</td>\n",
       "      <td>14.5000</td>\n",
       "      <td>1.0</td>\n",
       "      <td>0.0</td>\n",
       "      <td>14.4542</td>\n",
       "      <td>C</td>\n",
       "      <td>1.0</td>\n",
       "    </tr>\n",
       "    <tr>\n",
       "      <th>1305</th>\n",
       "      <td>3.0</td>\n",
       "      <td>Zabour, Miss. Thamine</td>\n",
       "      <td>female</td>\n",
       "      <td>NaN</td>\n",
       "      <td>1.0</td>\n",
       "      <td>0.0</td>\n",
       "      <td>14.4542</td>\n",
       "      <td>C</td>\n",
       "      <td>1.0</td>\n",
       "    </tr>\n",
       "    <tr>\n",
       "      <th>1306</th>\n",
       "      <td>3.0</td>\n",
       "      <td>Zakarian, Mr. Mapriededer</td>\n",
       "      <td>male</td>\n",
       "      <td>26.5000</td>\n",
       "      <td>0.0</td>\n",
       "      <td>0.0</td>\n",
       "      <td>7.2250</td>\n",
       "      <td>C</td>\n",
       "      <td>0.0</td>\n",
       "    </tr>\n",
       "    <tr>\n",
       "      <th>1307</th>\n",
       "      <td>3.0</td>\n",
       "      <td>Zakarian, Mr. Ortin</td>\n",
       "      <td>male</td>\n",
       "      <td>27.0000</td>\n",
       "      <td>0.0</td>\n",
       "      <td>0.0</td>\n",
       "      <td>7.2250</td>\n",
       "      <td>C</td>\n",
       "      <td>0.0</td>\n",
       "    </tr>\n",
       "    <tr>\n",
       "      <th>1308</th>\n",
       "      <td>3.0</td>\n",
       "      <td>Zimmerman, Mr. Leo</td>\n",
       "      <td>male</td>\n",
       "      <td>29.0000</td>\n",
       "      <td>0.0</td>\n",
       "      <td>0.0</td>\n",
       "      <td>7.8750</td>\n",
       "      <td>S</td>\n",
       "      <td>0.0</td>\n",
       "    </tr>\n",
       "  </tbody>\n",
       "</table>\n",
       "<p>1309 rows × 9 columns</p>\n",
       "</div>"
      ],
      "text/plain": [
       "      pclass                                             name     sex  \\\n",
       "0        1.0                    Allen, Miss. Elisabeth Walton  female   \n",
       "1        1.0                   Allison, Master. Hudson Trevor    male   \n",
       "2        1.0                     Allison, Miss. Helen Loraine  female   \n",
       "3        1.0             Allison, Mr. Hudson Joshua Creighton    male   \n",
       "4        1.0  Allison, Mrs. Hudson J C (Bessie Waldo Daniels)  female   \n",
       "...      ...                                              ...     ...   \n",
       "1304     3.0                             Zabour, Miss. Hileni  female   \n",
       "1305     3.0                            Zabour, Miss. Thamine  female   \n",
       "1306     3.0                        Zakarian, Mr. Mapriededer    male   \n",
       "1307     3.0                              Zakarian, Mr. Ortin    male   \n",
       "1308     3.0                               Zimmerman, Mr. Leo    male   \n",
       "\n",
       "          age  sibsp  parch      fare embarked  family  \n",
       "0     29.0000    0.0    0.0  211.3375        S     0.0  \n",
       "1      0.9167    1.0    2.0  151.5500        S     3.0  \n",
       "2      2.0000    1.0    2.0  151.5500        S     3.0  \n",
       "3     30.0000    1.0    2.0  151.5500        S     3.0  \n",
       "4     25.0000    1.0    2.0  151.5500        S     3.0  \n",
       "...       ...    ...    ...       ...      ...     ...  \n",
       "1304  14.5000    1.0    0.0   14.4542        C     1.0  \n",
       "1305      NaN    1.0    0.0   14.4542        C     1.0  \n",
       "1306  26.5000    0.0    0.0    7.2250        C     0.0  \n",
       "1307  27.0000    0.0    0.0    7.2250        C     0.0  \n",
       "1308  29.0000    0.0    0.0    7.8750        S     0.0  \n",
       "\n",
       "[1309 rows x 9 columns]"
      ]
     },
     "execution_count": 21,
     "metadata": {},
     "output_type": "execute_result"
    }
   ],
   "source": [
    "X['family'] = pd.concat([X['parch'], X['sibsp']], axis=1).sum(axis=1)\n",
    "X"
   ]
  },
  {
   "attachments": {},
   "cell_type": "markdown",
   "id": "e82a3438",
   "metadata": {
    "id": "e82a3438"
   },
   "source": [
    "이제 `parch`, `sibsp` 두 특성은 필요하지 않기에 데이터셋에서 삭제한다."
   ]
  },
  {
   "attachments": {},
   "cell_type": "markdown",
   "id": "e14e2b66",
   "metadata": {
    "id": "e14e2b66"
   },
   "source": [
    "- `DataFrame.drop()` 메서드"
   ]
  },
  {
   "cell_type": "code",
   "execution_count": 22,
   "id": "c7cebcd9",
   "metadata": {
    "colab": {
     "base_uri": "https://localhost:8080/",
     "height": 423
    },
    "id": "c7cebcd9",
    "outputId": "6e6af025-60ed-4ac6-ce4e-fbdb6c5b779a"
   },
   "outputs": [
    {
     "data": {
      "text/html": [
       "<div>\n",
       "<style scoped>\n",
       "    .dataframe tbody tr th:only-of-type {\n",
       "        vertical-align: middle;\n",
       "    }\n",
       "\n",
       "    .dataframe tbody tr th {\n",
       "        vertical-align: top;\n",
       "    }\n",
       "\n",
       "    .dataframe thead th {\n",
       "        text-align: right;\n",
       "    }\n",
       "</style>\n",
       "<table border=\"1\" class=\"dataframe\">\n",
       "  <thead>\n",
       "    <tr style=\"text-align: right;\">\n",
       "      <th></th>\n",
       "      <th>pclass</th>\n",
       "      <th>name</th>\n",
       "      <th>sex</th>\n",
       "      <th>age</th>\n",
       "      <th>fare</th>\n",
       "      <th>embarked</th>\n",
       "      <th>family</th>\n",
       "    </tr>\n",
       "  </thead>\n",
       "  <tbody>\n",
       "    <tr>\n",
       "      <th>0</th>\n",
       "      <td>1.0</td>\n",
       "      <td>Allen, Miss. Elisabeth Walton</td>\n",
       "      <td>female</td>\n",
       "      <td>29.0000</td>\n",
       "      <td>211.3375</td>\n",
       "      <td>S</td>\n",
       "      <td>0.0</td>\n",
       "    </tr>\n",
       "    <tr>\n",
       "      <th>1</th>\n",
       "      <td>1.0</td>\n",
       "      <td>Allison, Master. Hudson Trevor</td>\n",
       "      <td>male</td>\n",
       "      <td>0.9167</td>\n",
       "      <td>151.5500</td>\n",
       "      <td>S</td>\n",
       "      <td>3.0</td>\n",
       "    </tr>\n",
       "    <tr>\n",
       "      <th>2</th>\n",
       "      <td>1.0</td>\n",
       "      <td>Allison, Miss. Helen Loraine</td>\n",
       "      <td>female</td>\n",
       "      <td>2.0000</td>\n",
       "      <td>151.5500</td>\n",
       "      <td>S</td>\n",
       "      <td>3.0</td>\n",
       "    </tr>\n",
       "    <tr>\n",
       "      <th>3</th>\n",
       "      <td>1.0</td>\n",
       "      <td>Allison, Mr. Hudson Joshua Creighton</td>\n",
       "      <td>male</td>\n",
       "      <td>30.0000</td>\n",
       "      <td>151.5500</td>\n",
       "      <td>S</td>\n",
       "      <td>3.0</td>\n",
       "    </tr>\n",
       "    <tr>\n",
       "      <th>4</th>\n",
       "      <td>1.0</td>\n",
       "      <td>Allison, Mrs. Hudson J C (Bessie Waldo Daniels)</td>\n",
       "      <td>female</td>\n",
       "      <td>25.0000</td>\n",
       "      <td>151.5500</td>\n",
       "      <td>S</td>\n",
       "      <td>3.0</td>\n",
       "    </tr>\n",
       "    <tr>\n",
       "      <th>...</th>\n",
       "      <td>...</td>\n",
       "      <td>...</td>\n",
       "      <td>...</td>\n",
       "      <td>...</td>\n",
       "      <td>...</td>\n",
       "      <td>...</td>\n",
       "      <td>...</td>\n",
       "    </tr>\n",
       "    <tr>\n",
       "      <th>1304</th>\n",
       "      <td>3.0</td>\n",
       "      <td>Zabour, Miss. Hileni</td>\n",
       "      <td>female</td>\n",
       "      <td>14.5000</td>\n",
       "      <td>14.4542</td>\n",
       "      <td>C</td>\n",
       "      <td>1.0</td>\n",
       "    </tr>\n",
       "    <tr>\n",
       "      <th>1305</th>\n",
       "      <td>3.0</td>\n",
       "      <td>Zabour, Miss. Thamine</td>\n",
       "      <td>female</td>\n",
       "      <td>NaN</td>\n",
       "      <td>14.4542</td>\n",
       "      <td>C</td>\n",
       "      <td>1.0</td>\n",
       "    </tr>\n",
       "    <tr>\n",
       "      <th>1306</th>\n",
       "      <td>3.0</td>\n",
       "      <td>Zakarian, Mr. Mapriededer</td>\n",
       "      <td>male</td>\n",
       "      <td>26.5000</td>\n",
       "      <td>7.2250</td>\n",
       "      <td>C</td>\n",
       "      <td>0.0</td>\n",
       "    </tr>\n",
       "    <tr>\n",
       "      <th>1307</th>\n",
       "      <td>3.0</td>\n",
       "      <td>Zakarian, Mr. Ortin</td>\n",
       "      <td>male</td>\n",
       "      <td>27.0000</td>\n",
       "      <td>7.2250</td>\n",
       "      <td>C</td>\n",
       "      <td>0.0</td>\n",
       "    </tr>\n",
       "    <tr>\n",
       "      <th>1308</th>\n",
       "      <td>3.0</td>\n",
       "      <td>Zimmerman, Mr. Leo</td>\n",
       "      <td>male</td>\n",
       "      <td>29.0000</td>\n",
       "      <td>7.8750</td>\n",
       "      <td>S</td>\n",
       "      <td>0.0</td>\n",
       "    </tr>\n",
       "  </tbody>\n",
       "</table>\n",
       "<p>1309 rows × 7 columns</p>\n",
       "</div>"
      ],
      "text/plain": [
       "      pclass                                             name     sex  \\\n",
       "0        1.0                    Allen, Miss. Elisabeth Walton  female   \n",
       "1        1.0                   Allison, Master. Hudson Trevor    male   \n",
       "2        1.0                     Allison, Miss. Helen Loraine  female   \n",
       "3        1.0             Allison, Mr. Hudson Joshua Creighton    male   \n",
       "4        1.0  Allison, Mrs. Hudson J C (Bessie Waldo Daniels)  female   \n",
       "...      ...                                              ...     ...   \n",
       "1304     3.0                             Zabour, Miss. Hileni  female   \n",
       "1305     3.0                            Zabour, Miss. Thamine  female   \n",
       "1306     3.0                        Zakarian, Mr. Mapriededer    male   \n",
       "1307     3.0                              Zakarian, Mr. Ortin    male   \n",
       "1308     3.0                               Zimmerman, Mr. Leo    male   \n",
       "\n",
       "          age      fare embarked  family  \n",
       "0     29.0000  211.3375        S     0.0  \n",
       "1      0.9167  151.5500        S     3.0  \n",
       "2      2.0000  151.5500        S     3.0  \n",
       "3     30.0000  151.5500        S     3.0  \n",
       "4     25.0000  151.5500        S     3.0  \n",
       "...       ...       ...      ...     ...  \n",
       "1304  14.5000   14.4542        C     1.0  \n",
       "1305      NaN   14.4542        C     1.0  \n",
       "1306  26.5000    7.2250        C     0.0  \n",
       "1307  27.0000    7.2250        C     0.0  \n",
       "1308  29.0000    7.8750        S     0.0  \n",
       "\n",
       "[1309 rows x 7 columns]"
      ]
     },
     "execution_count": 22,
     "metadata": {},
     "output_type": "execute_result"
    }
   ],
   "source": [
    "X.drop(['parch', 'sibsp'], axis=1, inplace=True)\n",
    "X"
   ]
  },
  {
   "attachments": {},
   "cell_type": "markdown",
   "id": "2f2a9a52",
   "metadata": {
    "id": "2f2a9a52"
   },
   "source": [
    "**`is_alone` 특성 추가**"
   ]
  },
  {
   "attachments": {},
   "cell_type": "markdown",
   "id": "6d8f533c",
   "metadata": {
    "id": "6d8f533c"
   },
   "source": [
    "`family` 특성을 이용하여 1인 가족 여부를 확인하는 특성 `is_alone`을\n",
    "아래 과정을 따라 추가한다.\n",
    "\n",
    "- 먼저 모든 값을 문자열 `'0'`으로 지정한다.\n",
    "- `family` 특성의 값이 0인 경우 문자열 `'1'`로 처리\n",
    "- 0과 1을 문자열로 지정하여 범주로 처리되도록 함."
   ]
  },
  {
   "cell_type": "code",
   "execution_count": 23,
   "id": "6d070eb6",
   "metadata": {
    "colab": {
     "base_uri": "https://localhost:8080/",
     "height": 423
    },
    "id": "6d070eb6",
    "outputId": "f9d11f2f-c48c-4644-9d26-d9e13efea10b"
   },
   "outputs": [
    {
     "data": {
      "text/html": [
       "<div>\n",
       "<style scoped>\n",
       "    .dataframe tbody tr th:only-of-type {\n",
       "        vertical-align: middle;\n",
       "    }\n",
       "\n",
       "    .dataframe tbody tr th {\n",
       "        vertical-align: top;\n",
       "    }\n",
       "\n",
       "    .dataframe thead th {\n",
       "        text-align: right;\n",
       "    }\n",
       "</style>\n",
       "<table border=\"1\" class=\"dataframe\">\n",
       "  <thead>\n",
       "    <tr style=\"text-align: right;\">\n",
       "      <th></th>\n",
       "      <th>pclass</th>\n",
       "      <th>name</th>\n",
       "      <th>sex</th>\n",
       "      <th>age</th>\n",
       "      <th>fare</th>\n",
       "      <th>embarked</th>\n",
       "      <th>family</th>\n",
       "      <th>is_alone</th>\n",
       "    </tr>\n",
       "  </thead>\n",
       "  <tbody>\n",
       "    <tr>\n",
       "      <th>0</th>\n",
       "      <td>1.0</td>\n",
       "      <td>Allen, Miss. Elisabeth Walton</td>\n",
       "      <td>female</td>\n",
       "      <td>29.0000</td>\n",
       "      <td>211.3375</td>\n",
       "      <td>S</td>\n",
       "      <td>0.0</td>\n",
       "      <td>1</td>\n",
       "    </tr>\n",
       "    <tr>\n",
       "      <th>1</th>\n",
       "      <td>1.0</td>\n",
       "      <td>Allison, Master. Hudson Trevor</td>\n",
       "      <td>male</td>\n",
       "      <td>0.9167</td>\n",
       "      <td>151.5500</td>\n",
       "      <td>S</td>\n",
       "      <td>3.0</td>\n",
       "      <td>0</td>\n",
       "    </tr>\n",
       "    <tr>\n",
       "      <th>2</th>\n",
       "      <td>1.0</td>\n",
       "      <td>Allison, Miss. Helen Loraine</td>\n",
       "      <td>female</td>\n",
       "      <td>2.0000</td>\n",
       "      <td>151.5500</td>\n",
       "      <td>S</td>\n",
       "      <td>3.0</td>\n",
       "      <td>0</td>\n",
       "    </tr>\n",
       "    <tr>\n",
       "      <th>3</th>\n",
       "      <td>1.0</td>\n",
       "      <td>Allison, Mr. Hudson Joshua Creighton</td>\n",
       "      <td>male</td>\n",
       "      <td>30.0000</td>\n",
       "      <td>151.5500</td>\n",
       "      <td>S</td>\n",
       "      <td>3.0</td>\n",
       "      <td>0</td>\n",
       "    </tr>\n",
       "    <tr>\n",
       "      <th>4</th>\n",
       "      <td>1.0</td>\n",
       "      <td>Allison, Mrs. Hudson J C (Bessie Waldo Daniels)</td>\n",
       "      <td>female</td>\n",
       "      <td>25.0000</td>\n",
       "      <td>151.5500</td>\n",
       "      <td>S</td>\n",
       "      <td>3.0</td>\n",
       "      <td>0</td>\n",
       "    </tr>\n",
       "    <tr>\n",
       "      <th>...</th>\n",
       "      <td>...</td>\n",
       "      <td>...</td>\n",
       "      <td>...</td>\n",
       "      <td>...</td>\n",
       "      <td>...</td>\n",
       "      <td>...</td>\n",
       "      <td>...</td>\n",
       "      <td>...</td>\n",
       "    </tr>\n",
       "    <tr>\n",
       "      <th>1304</th>\n",
       "      <td>3.0</td>\n",
       "      <td>Zabour, Miss. Hileni</td>\n",
       "      <td>female</td>\n",
       "      <td>14.5000</td>\n",
       "      <td>14.4542</td>\n",
       "      <td>C</td>\n",
       "      <td>1.0</td>\n",
       "      <td>0</td>\n",
       "    </tr>\n",
       "    <tr>\n",
       "      <th>1305</th>\n",
       "      <td>3.0</td>\n",
       "      <td>Zabour, Miss. Thamine</td>\n",
       "      <td>female</td>\n",
       "      <td>NaN</td>\n",
       "      <td>14.4542</td>\n",
       "      <td>C</td>\n",
       "      <td>1.0</td>\n",
       "      <td>0</td>\n",
       "    </tr>\n",
       "    <tr>\n",
       "      <th>1306</th>\n",
       "      <td>3.0</td>\n",
       "      <td>Zakarian, Mr. Mapriededer</td>\n",
       "      <td>male</td>\n",
       "      <td>26.5000</td>\n",
       "      <td>7.2250</td>\n",
       "      <td>C</td>\n",
       "      <td>0.0</td>\n",
       "      <td>1</td>\n",
       "    </tr>\n",
       "    <tr>\n",
       "      <th>1307</th>\n",
       "      <td>3.0</td>\n",
       "      <td>Zakarian, Mr. Ortin</td>\n",
       "      <td>male</td>\n",
       "      <td>27.0000</td>\n",
       "      <td>7.2250</td>\n",
       "      <td>C</td>\n",
       "      <td>0.0</td>\n",
       "      <td>1</td>\n",
       "    </tr>\n",
       "    <tr>\n",
       "      <th>1308</th>\n",
       "      <td>3.0</td>\n",
       "      <td>Zimmerman, Mr. Leo</td>\n",
       "      <td>male</td>\n",
       "      <td>29.0000</td>\n",
       "      <td>7.8750</td>\n",
       "      <td>S</td>\n",
       "      <td>0.0</td>\n",
       "      <td>1</td>\n",
       "    </tr>\n",
       "  </tbody>\n",
       "</table>\n",
       "<p>1309 rows × 8 columns</p>\n",
       "</div>"
      ],
      "text/plain": [
       "      pclass                                             name     sex  \\\n",
       "0        1.0                    Allen, Miss. Elisabeth Walton  female   \n",
       "1        1.0                   Allison, Master. Hudson Trevor    male   \n",
       "2        1.0                     Allison, Miss. Helen Loraine  female   \n",
       "3        1.0             Allison, Mr. Hudson Joshua Creighton    male   \n",
       "4        1.0  Allison, Mrs. Hudson J C (Bessie Waldo Daniels)  female   \n",
       "...      ...                                              ...     ...   \n",
       "1304     3.0                             Zabour, Miss. Hileni  female   \n",
       "1305     3.0                            Zabour, Miss. Thamine  female   \n",
       "1306     3.0                        Zakarian, Mr. Mapriededer    male   \n",
       "1307     3.0                              Zakarian, Mr. Ortin    male   \n",
       "1308     3.0                               Zimmerman, Mr. Leo    male   \n",
       "\n",
       "          age      fare embarked  family is_alone  \n",
       "0     29.0000  211.3375        S     0.0        1  \n",
       "1      0.9167  151.5500        S     3.0        0  \n",
       "2      2.0000  151.5500        S     3.0        0  \n",
       "3     30.0000  151.5500        S     3.0        0  \n",
       "4     25.0000  151.5500        S     3.0        0  \n",
       "...       ...       ...      ...     ...      ...  \n",
       "1304  14.5000   14.4542        C     1.0        0  \n",
       "1305      NaN   14.4542        C     1.0        0  \n",
       "1306  26.5000    7.2250        C     0.0        1  \n",
       "1307  27.0000    7.2250        C     0.0        1  \n",
       "1308  29.0000    7.8750        S     0.0        1  \n",
       "\n",
       "[1309 rows x 8 columns]"
      ]
     },
     "execution_count": 23,
     "metadata": {},
     "output_type": "execute_result"
    }
   ],
   "source": [
    "X['is_alone'] = '0'\n",
    "mask = X['family'] == 0\n",
    "X.loc[mask, 'is_alone'] = '1'\n",
    "X"
   ]
  },
  {
   "cell_type": "code",
   "execution_count": 24,
   "id": "9f4fbe4d",
   "metadata": {
    "colab": {
     "base_uri": "https://localhost:8080/"
    },
    "id": "9f4fbe4d",
    "outputId": "3d45f675-ffce-4d00-ee99-893b394fda4a"
   },
   "outputs": [
    {
     "data": {
      "text/plain": [
       "0       1\n",
       "1       0\n",
       "2       0\n",
       "3       0\n",
       "4       0\n",
       "       ..\n",
       "1304    0\n",
       "1305    0\n",
       "1306    1\n",
       "1307    1\n",
       "1308    1\n",
       "Name: is_alone, Length: 1309, dtype: object"
      ]
     },
     "execution_count": 24,
     "metadata": {},
     "output_type": "execute_result"
    }
   ],
   "source": [
    "X.is_alone"
   ]
  },
  {
   "attachments": {},
   "cell_type": "markdown",
   "id": "3700fe75",
   "metadata": {
    "id": "3700fe75"
   },
   "source": [
    "**`title` 특성 추가**"
   ]
  },
  {
   "attachments": {},
   "cell_type": "markdown",
   "id": "d45210e7",
   "metadata": {
    "id": "d45210e7"
   },
   "source": [
    "이름 특성을 제거하는 대신 호칭(`title`) 특성을 추가한다.\n",
    "\n",
    "- 호칭이 `name` 특성에 포함됨\n",
    "- 성 바로 앞에 점으로 구분된 문자열이 호칭임.\n",
    "- 문자열 메서드를 활용하여 호칭만 추출.\n",
    "- `str.split()` 메서드의 `expand=True` 키워드 인자: 쪼개진 문자열을 값으로 갖는 데이프레임의 열 생성 여부 결정."
   ]
  },
  {
   "cell_type": "code",
   "execution_count": 25,
   "id": "74bc934e",
   "metadata": {
    "colab": {
     "base_uri": "https://localhost:8080/",
     "height": 206
    },
    "id": "74bc934e",
    "outputId": "3e1c089e-04cc-4800-a968-feda8022a6b9"
   },
   "outputs": [
    {
     "data": {
      "text/html": [
       "<div>\n",
       "<style scoped>\n",
       "    .dataframe tbody tr th:only-of-type {\n",
       "        vertical-align: middle;\n",
       "    }\n",
       "\n",
       "    .dataframe tbody tr th {\n",
       "        vertical-align: top;\n",
       "    }\n",
       "\n",
       "    .dataframe thead th {\n",
       "        text-align: right;\n",
       "    }\n",
       "</style>\n",
       "<table border=\"1\" class=\"dataframe\">\n",
       "  <thead>\n",
       "    <tr style=\"text-align: right;\">\n",
       "      <th></th>\n",
       "      <th>pclass</th>\n",
       "      <th>sex</th>\n",
       "      <th>age</th>\n",
       "      <th>fare</th>\n",
       "      <th>embarked</th>\n",
       "      <th>family</th>\n",
       "      <th>is_alone</th>\n",
       "      <th>title</th>\n",
       "    </tr>\n",
       "  </thead>\n",
       "  <tbody>\n",
       "    <tr>\n",
       "      <th>0</th>\n",
       "      <td>1.0</td>\n",
       "      <td>female</td>\n",
       "      <td>29.0000</td>\n",
       "      <td>211.3375</td>\n",
       "      <td>S</td>\n",
       "      <td>0.0</td>\n",
       "      <td>1</td>\n",
       "      <td>Miss</td>\n",
       "    </tr>\n",
       "    <tr>\n",
       "      <th>1</th>\n",
       "      <td>1.0</td>\n",
       "      <td>male</td>\n",
       "      <td>0.9167</td>\n",
       "      <td>151.5500</td>\n",
       "      <td>S</td>\n",
       "      <td>3.0</td>\n",
       "      <td>0</td>\n",
       "      <td>Master</td>\n",
       "    </tr>\n",
       "    <tr>\n",
       "      <th>2</th>\n",
       "      <td>1.0</td>\n",
       "      <td>female</td>\n",
       "      <td>2.0000</td>\n",
       "      <td>151.5500</td>\n",
       "      <td>S</td>\n",
       "      <td>3.0</td>\n",
       "      <td>0</td>\n",
       "      <td>Miss</td>\n",
       "    </tr>\n",
       "    <tr>\n",
       "      <th>3</th>\n",
       "      <td>1.0</td>\n",
       "      <td>male</td>\n",
       "      <td>30.0000</td>\n",
       "      <td>151.5500</td>\n",
       "      <td>S</td>\n",
       "      <td>3.0</td>\n",
       "      <td>0</td>\n",
       "      <td>Mr</td>\n",
       "    </tr>\n",
       "    <tr>\n",
       "      <th>4</th>\n",
       "      <td>1.0</td>\n",
       "      <td>female</td>\n",
       "      <td>25.0000</td>\n",
       "      <td>151.5500</td>\n",
       "      <td>S</td>\n",
       "      <td>3.0</td>\n",
       "      <td>0</td>\n",
       "      <td>Mrs</td>\n",
       "    </tr>\n",
       "  </tbody>\n",
       "</table>\n",
       "</div>"
      ],
      "text/plain": [
       "   pclass     sex      age      fare embarked  family is_alone   title\n",
       "0     1.0  female  29.0000  211.3375        S     0.0        1    Miss\n",
       "1     1.0    male   0.9167  151.5500        S     3.0        0  Master\n",
       "2     1.0  female   2.0000  151.5500        S     3.0        0    Miss\n",
       "3     1.0    male  30.0000  151.5500        S     3.0        0      Mr\n",
       "4     1.0  female  25.0000  151.5500        S     3.0        0     Mrs"
      ]
     },
     "execution_count": 25,
     "metadata": {},
     "output_type": "execute_result"
    }
   ],
   "source": [
    "X['title'] =  X['name'].str.split(\", \", expand=True)[1].str.split(\".\", expand=True)[0]\n",
    "X.drop([\"name\"], axis=1, inplace=True)\n",
    "\n",
    "X.head()"
   ]
  },
  {
   "attachments": {},
   "cell_type": "markdown",
   "id": "952a4656",
   "metadata": {
    "id": "952a4656"
   },
   "source": [
    "- `pd.crosstab()` 함수"
   ]
  },
  {
   "attachments": {},
   "cell_type": "markdown",
   "id": "6be5310a",
   "metadata": {
    "id": "6be5310a"
   },
   "source": [
    "호칭에 따른 남녀 숫자를 확인한다."
   ]
  },
  {
   "cell_type": "code",
   "execution_count": 26,
   "id": "efceada5",
   "metadata": {
    "colab": {
     "base_uri": "https://localhost:8080/",
     "height": 645
    },
    "id": "efceada5",
    "outputId": "a9416844-7318-4035-e727-79bb63c0e0f6"
   },
   "outputs": [
    {
     "data": {
      "text/html": [
       "<div>\n",
       "<style scoped>\n",
       "    .dataframe tbody tr th:only-of-type {\n",
       "        vertical-align: middle;\n",
       "    }\n",
       "\n",
       "    .dataframe tbody tr th {\n",
       "        vertical-align: top;\n",
       "    }\n",
       "\n",
       "    .dataframe thead th {\n",
       "        text-align: right;\n",
       "    }\n",
       "</style>\n",
       "<table border=\"1\" class=\"dataframe\">\n",
       "  <thead>\n",
       "    <tr style=\"text-align: right;\">\n",
       "      <th>sex</th>\n",
       "      <th>female</th>\n",
       "      <th>male</th>\n",
       "    </tr>\n",
       "    <tr>\n",
       "      <th>title</th>\n",
       "      <th></th>\n",
       "      <th></th>\n",
       "    </tr>\n",
       "  </thead>\n",
       "  <tbody>\n",
       "    <tr>\n",
       "      <th>Capt</th>\n",
       "      <td>0</td>\n",
       "      <td>1</td>\n",
       "    </tr>\n",
       "    <tr>\n",
       "      <th>Col</th>\n",
       "      <td>0</td>\n",
       "      <td>4</td>\n",
       "    </tr>\n",
       "    <tr>\n",
       "      <th>Don</th>\n",
       "      <td>0</td>\n",
       "      <td>1</td>\n",
       "    </tr>\n",
       "    <tr>\n",
       "      <th>Dona</th>\n",
       "      <td>1</td>\n",
       "      <td>0</td>\n",
       "    </tr>\n",
       "    <tr>\n",
       "      <th>Dr</th>\n",
       "      <td>1</td>\n",
       "      <td>7</td>\n",
       "    </tr>\n",
       "    <tr>\n",
       "      <th>Jonkheer</th>\n",
       "      <td>0</td>\n",
       "      <td>1</td>\n",
       "    </tr>\n",
       "    <tr>\n",
       "      <th>Lady</th>\n",
       "      <td>1</td>\n",
       "      <td>0</td>\n",
       "    </tr>\n",
       "    <tr>\n",
       "      <th>Major</th>\n",
       "      <td>0</td>\n",
       "      <td>2</td>\n",
       "    </tr>\n",
       "    <tr>\n",
       "      <th>Master</th>\n",
       "      <td>0</td>\n",
       "      <td>61</td>\n",
       "    </tr>\n",
       "    <tr>\n",
       "      <th>Miss</th>\n",
       "      <td>260</td>\n",
       "      <td>0</td>\n",
       "    </tr>\n",
       "    <tr>\n",
       "      <th>Mlle</th>\n",
       "      <td>2</td>\n",
       "      <td>0</td>\n",
       "    </tr>\n",
       "    <tr>\n",
       "      <th>Mme</th>\n",
       "      <td>1</td>\n",
       "      <td>0</td>\n",
       "    </tr>\n",
       "    <tr>\n",
       "      <th>Mr</th>\n",
       "      <td>0</td>\n",
       "      <td>757</td>\n",
       "    </tr>\n",
       "    <tr>\n",
       "      <th>Mrs</th>\n",
       "      <td>197</td>\n",
       "      <td>0</td>\n",
       "    </tr>\n",
       "    <tr>\n",
       "      <th>Ms</th>\n",
       "      <td>2</td>\n",
       "      <td>0</td>\n",
       "    </tr>\n",
       "    <tr>\n",
       "      <th>Rev</th>\n",
       "      <td>0</td>\n",
       "      <td>8</td>\n",
       "    </tr>\n",
       "    <tr>\n",
       "      <th>Sir</th>\n",
       "      <td>0</td>\n",
       "      <td>1</td>\n",
       "    </tr>\n",
       "    <tr>\n",
       "      <th>the Countess</th>\n",
       "      <td>1</td>\n",
       "      <td>0</td>\n",
       "    </tr>\n",
       "  </tbody>\n",
       "</table>\n",
       "</div>"
      ],
      "text/plain": [
       "sex           female  male\n",
       "title                     \n",
       "Capt               0     1\n",
       "Col                0     4\n",
       "Don                0     1\n",
       "Dona               1     0\n",
       "Dr                 1     7\n",
       "Jonkheer           0     1\n",
       "Lady               1     0\n",
       "Major              0     2\n",
       "Master             0    61\n",
       "Miss             260     0\n",
       "Mlle               2     0\n",
       "Mme                1     0\n",
       "Mr                 0   757\n",
       "Mrs              197     0\n",
       "Ms                 2     0\n",
       "Rev                0     8\n",
       "Sir                0     1\n",
       "the Countess       1     0"
      ]
     },
     "execution_count": 26,
     "metadata": {},
     "output_type": "execute_result"
    }
   ],
   "source": [
    "pd.crosstab(X['title'], X['sex'])"
   ]
  },
  {
   "attachments": {},
   "cell_type": "markdown",
   "id": "68edf313",
   "metadata": {
    "id": "68edf313"
   },
   "source": [
    "**`miss`, `mrs`, `ms` 특성 통합**"
   ]
  },
  {
   "attachments": {},
   "cell_type": "markdown",
   "id": "4bfe1a52",
   "metadata": {
    "id": "4bfe1a52"
   },
   "source": [
    "남성으로 구성된 `Master`와 `Mr`의 생존률에서 차이가 많이 난다."
   ]
  },
  {
   "cell_type": "code",
   "execution_count": 27,
   "id": "74e775ab",
   "metadata": {
    "colab": {
     "base_uri": "https://localhost:8080/"
    },
    "id": "74e775ab",
    "outputId": "318a6db1-a84d-4da9-f9fb-c039b2bcb383"
   },
   "outputs": [
    {
     "name": "stdout",
     "output_type": "stream",
     "text": [
      "Master: 0.023682200152788387\n",
      "Mr: 0.09396485867074103\n"
     ]
    }
   ],
   "source": [
    "print(f\"Master: {np.sum(y[X.title == 'Master']) / len(X.title == 'Master')}\")\n",
    "print(f\"Mr: {np.sum(y[X.title == 'Mr']) / len(X.title == 'Mr')}\")"
   ]
  },
  {
   "attachments": {},
   "cell_type": "markdown",
   "id": "f29a0791",
   "metadata": {
    "id": "f29a0791"
   },
   "source": [
    "반면에 `Miss`와 `Mrs`의 생존율이 거의 비슷하다."
   ]
  },
  {
   "cell_type": "code",
   "execution_count": 28,
   "id": "706c7455",
   "metadata": {
    "colab": {
     "base_uri": "https://localhost:8080/"
    },
    "id": "706c7455",
    "outputId": "fff6c09b-8e5f-4be8-a709-a18b38a6f866"
   },
   "outputs": [
    {
     "name": "stdout",
     "output_type": "stream",
     "text": [
      "Miss: 0.13445378151260504\n",
      "Mrs: 0.11841100076394194\n"
     ]
    }
   ],
   "source": [
    "print(f\"Miss: {np.sum(y[X.title == 'Miss']) / len(X.title == 'Miss')}\")\n",
    "print(f\"Mrs: {np.sum(y[X.title == 'Mrs']) / len(X.title == 'Mrs')}\")"
   ]
  },
  {
   "attachments": {},
   "cell_type": "markdown",
   "id": "c1310e50",
   "metadata": {
    "id": "c1310e50"
   },
   "source": [
    "따라서 `Mrs` 로 통일한다. 또한 `Ms`, `Lady`, `Mlle`, `Mme` 호칭도 1, 2명 뿐이고\n",
    "모두 여성을 가리키기에 역시 `Mrs`로 통일한다."
   ]
  },
  {
   "attachments": {},
   "cell_type": "markdown",
   "id": "7d9e825d",
   "metadata": {
    "id": "7d9e825d"
   },
   "source": [
    "- 부울 마스크와 열 인덱싱 활용"
   ]
  },
  {
   "cell_type": "code",
   "execution_count": 29,
   "id": "54aa80ac",
   "metadata": {
    "colab": {
     "base_uri": "https://localhost:8080/",
     "height": 423
    },
    "id": "54aa80ac",
    "outputId": "c5700fc9-952e-4ad2-fa87-7084326d8d0d"
   },
   "outputs": [
    {
     "data": {
      "text/html": [
       "<div>\n",
       "<style scoped>\n",
       "    .dataframe tbody tr th:only-of-type {\n",
       "        vertical-align: middle;\n",
       "    }\n",
       "\n",
       "    .dataframe tbody tr th {\n",
       "        vertical-align: top;\n",
       "    }\n",
       "\n",
       "    .dataframe thead th {\n",
       "        text-align: right;\n",
       "    }\n",
       "</style>\n",
       "<table border=\"1\" class=\"dataframe\">\n",
       "  <thead>\n",
       "    <tr style=\"text-align: right;\">\n",
       "      <th></th>\n",
       "      <th>pclass</th>\n",
       "      <th>sex</th>\n",
       "      <th>age</th>\n",
       "      <th>fare</th>\n",
       "      <th>embarked</th>\n",
       "      <th>family</th>\n",
       "      <th>is_alone</th>\n",
       "      <th>title</th>\n",
       "    </tr>\n",
       "  </thead>\n",
       "  <tbody>\n",
       "    <tr>\n",
       "      <th>0</th>\n",
       "      <td>1.0</td>\n",
       "      <td>female</td>\n",
       "      <td>29.0000</td>\n",
       "      <td>211.3375</td>\n",
       "      <td>S</td>\n",
       "      <td>0.0</td>\n",
       "      <td>1</td>\n",
       "      <td>Mrs</td>\n",
       "    </tr>\n",
       "    <tr>\n",
       "      <th>1</th>\n",
       "      <td>1.0</td>\n",
       "      <td>male</td>\n",
       "      <td>0.9167</td>\n",
       "      <td>151.5500</td>\n",
       "      <td>S</td>\n",
       "      <td>3.0</td>\n",
       "      <td>0</td>\n",
       "      <td>Master</td>\n",
       "    </tr>\n",
       "    <tr>\n",
       "      <th>2</th>\n",
       "      <td>1.0</td>\n",
       "      <td>female</td>\n",
       "      <td>2.0000</td>\n",
       "      <td>151.5500</td>\n",
       "      <td>S</td>\n",
       "      <td>3.0</td>\n",
       "      <td>0</td>\n",
       "      <td>Mrs</td>\n",
       "    </tr>\n",
       "    <tr>\n",
       "      <th>3</th>\n",
       "      <td>1.0</td>\n",
       "      <td>male</td>\n",
       "      <td>30.0000</td>\n",
       "      <td>151.5500</td>\n",
       "      <td>S</td>\n",
       "      <td>3.0</td>\n",
       "      <td>0</td>\n",
       "      <td>Mr</td>\n",
       "    </tr>\n",
       "    <tr>\n",
       "      <th>4</th>\n",
       "      <td>1.0</td>\n",
       "      <td>female</td>\n",
       "      <td>25.0000</td>\n",
       "      <td>151.5500</td>\n",
       "      <td>S</td>\n",
       "      <td>3.0</td>\n",
       "      <td>0</td>\n",
       "      <td>Mrs</td>\n",
       "    </tr>\n",
       "    <tr>\n",
       "      <th>...</th>\n",
       "      <td>...</td>\n",
       "      <td>...</td>\n",
       "      <td>...</td>\n",
       "      <td>...</td>\n",
       "      <td>...</td>\n",
       "      <td>...</td>\n",
       "      <td>...</td>\n",
       "      <td>...</td>\n",
       "    </tr>\n",
       "    <tr>\n",
       "      <th>1304</th>\n",
       "      <td>3.0</td>\n",
       "      <td>female</td>\n",
       "      <td>14.5000</td>\n",
       "      <td>14.4542</td>\n",
       "      <td>C</td>\n",
       "      <td>1.0</td>\n",
       "      <td>0</td>\n",
       "      <td>Mrs</td>\n",
       "    </tr>\n",
       "    <tr>\n",
       "      <th>1305</th>\n",
       "      <td>3.0</td>\n",
       "      <td>female</td>\n",
       "      <td>NaN</td>\n",
       "      <td>14.4542</td>\n",
       "      <td>C</td>\n",
       "      <td>1.0</td>\n",
       "      <td>0</td>\n",
       "      <td>Mrs</td>\n",
       "    </tr>\n",
       "    <tr>\n",
       "      <th>1306</th>\n",
       "      <td>3.0</td>\n",
       "      <td>male</td>\n",
       "      <td>26.5000</td>\n",
       "      <td>7.2250</td>\n",
       "      <td>C</td>\n",
       "      <td>0.0</td>\n",
       "      <td>1</td>\n",
       "      <td>Mr</td>\n",
       "    </tr>\n",
       "    <tr>\n",
       "      <th>1307</th>\n",
       "      <td>3.0</td>\n",
       "      <td>male</td>\n",
       "      <td>27.0000</td>\n",
       "      <td>7.2250</td>\n",
       "      <td>C</td>\n",
       "      <td>0.0</td>\n",
       "      <td>1</td>\n",
       "      <td>Mr</td>\n",
       "    </tr>\n",
       "    <tr>\n",
       "      <th>1308</th>\n",
       "      <td>3.0</td>\n",
       "      <td>male</td>\n",
       "      <td>29.0000</td>\n",
       "      <td>7.8750</td>\n",
       "      <td>S</td>\n",
       "      <td>0.0</td>\n",
       "      <td>1</td>\n",
       "      <td>Mr</td>\n",
       "    </tr>\n",
       "  </tbody>\n",
       "</table>\n",
       "<p>1309 rows × 8 columns</p>\n",
       "</div>"
      ],
      "text/plain": [
       "      pclass     sex      age      fare embarked  family is_alone   title\n",
       "0        1.0  female  29.0000  211.3375        S     0.0        1     Mrs\n",
       "1        1.0    male   0.9167  151.5500        S     3.0        0  Master\n",
       "2        1.0  female   2.0000  151.5500        S     3.0        0     Mrs\n",
       "3        1.0    male  30.0000  151.5500        S     3.0        0      Mr\n",
       "4        1.0  female  25.0000  151.5500        S     3.0        0     Mrs\n",
       "...      ...     ...      ...       ...      ...     ...      ...     ...\n",
       "1304     3.0  female  14.5000   14.4542        C     1.0        0     Mrs\n",
       "1305     3.0  female      NaN   14.4542        C     1.0        0     Mrs\n",
       "1306     3.0    male  26.5000    7.2250        C     0.0        1      Mr\n",
       "1307     3.0    male  27.0000    7.2250        C     0.0        1      Mr\n",
       "1308     3.0    male  29.0000    7.8750        S     0.0        1      Mr\n",
       "\n",
       "[1309 rows x 8 columns]"
      ]
     },
     "execution_count": 29,
     "metadata": {},
     "output_type": "execute_result"
    }
   ],
   "source": [
    "mask = (X.title == 'Miss') | (X.title == 'Ms') | (X.title == 'Lady') | (X.title == 'Mlle') | (X.title == 'Mme')\n",
    "X.loc[mask, 'title'] = 'Mrs'\n",
    "X"
   ]
  },
  {
   "attachments": {},
   "cell_type": "markdown",
   "id": "b53f739a",
   "metadata": {
    "id": "b53f739a"
   },
   "source": [
    "호칭별 수를 확인하면 다음과 같다."
   ]
  },
  {
   "cell_type": "code",
   "execution_count": 30,
   "id": "7669a090",
   "metadata": {
    "colab": {
     "base_uri": "https://localhost:8080/"
    },
    "id": "7669a090",
    "outputId": "1712b666-aa3f-472d-8ab8-329c34b05e2a"
   },
   "outputs": [
    {
     "data": {
      "text/plain": [
       "Mr              757\n",
       "Mrs             463\n",
       "Master           61\n",
       "Dr                8\n",
       "Rev               8\n",
       "Col               4\n",
       "Major             2\n",
       "Capt              1\n",
       "Sir               1\n",
       "Dona              1\n",
       "Jonkheer          1\n",
       "the Countess      1\n",
       "Don               1\n",
       "Name: title, dtype: int64"
      ]
     },
     "execution_count": 30,
     "metadata": {},
     "output_type": "execute_result"
    }
   ],
   "source": [
    "X.title.value_counts()"
   ]
  },
  {
   "attachments": {},
   "cell_type": "markdown",
   "id": "7768332e",
   "metadata": {
    "id": "7768332e"
   },
   "source": [
    "10명 이하의 사람에게만 사용되는 호칭은 분석에 별로 도움되지 않는다.\n",
    "하지만 여기서는 버리는 대신에 기타 등등을 가리키는 `etc`로 통일시켜 사용한다."
   ]
  },
  {
   "cell_type": "code",
   "execution_count": 31,
   "id": "39dfb61a",
   "metadata": {
    "colab": {
     "base_uri": "https://localhost:8080/"
    },
    "id": "39dfb61a",
    "outputId": "dcf34c21-d1ff-4759-bedc-4d3993141386"
   },
   "outputs": [
    {
     "data": {
      "text/plain": [
       "Mr              False\n",
       "Mrs             False\n",
       "Master          False\n",
       "Dr               True\n",
       "Rev              True\n",
       "Col              True\n",
       "Major            True\n",
       "Capt             True\n",
       "Sir              True\n",
       "Dona             True\n",
       "Jonkheer         True\n",
       "the Countess     True\n",
       "Don              True\n",
       "Name: title, dtype: bool"
      ]
     },
     "execution_count": 31,
     "metadata": {},
     "output_type": "execute_result"
    }
   ],
   "source": [
    "etc_titles = (X['title'].value_counts() < 10)\n",
    "etc_titles"
   ]
  },
  {
   "cell_type": "code",
   "execution_count": 32,
   "id": "a30ec95d",
   "metadata": {
    "colab": {
     "base_uri": "https://localhost:8080/",
     "height": 423
    },
    "id": "a30ec95d",
    "outputId": "b881fb0c-c162-4121-80d6-17df2bba49f0"
   },
   "outputs": [
    {
     "data": {
      "text/html": [
       "<div>\n",
       "<style scoped>\n",
       "    .dataframe tbody tr th:only-of-type {\n",
       "        vertical-align: middle;\n",
       "    }\n",
       "\n",
       "    .dataframe tbody tr th {\n",
       "        vertical-align: top;\n",
       "    }\n",
       "\n",
       "    .dataframe thead th {\n",
       "        text-align: right;\n",
       "    }\n",
       "</style>\n",
       "<table border=\"1\" class=\"dataframe\">\n",
       "  <thead>\n",
       "    <tr style=\"text-align: right;\">\n",
       "      <th></th>\n",
       "      <th>pclass</th>\n",
       "      <th>sex</th>\n",
       "      <th>age</th>\n",
       "      <th>fare</th>\n",
       "      <th>embarked</th>\n",
       "      <th>family</th>\n",
       "      <th>is_alone</th>\n",
       "      <th>title</th>\n",
       "    </tr>\n",
       "  </thead>\n",
       "  <tbody>\n",
       "    <tr>\n",
       "      <th>0</th>\n",
       "      <td>1.0</td>\n",
       "      <td>female</td>\n",
       "      <td>29.0000</td>\n",
       "      <td>211.3375</td>\n",
       "      <td>S</td>\n",
       "      <td>0.0</td>\n",
       "      <td>1</td>\n",
       "      <td>Mrs</td>\n",
       "    </tr>\n",
       "    <tr>\n",
       "      <th>1</th>\n",
       "      <td>1.0</td>\n",
       "      <td>male</td>\n",
       "      <td>0.9167</td>\n",
       "      <td>151.5500</td>\n",
       "      <td>S</td>\n",
       "      <td>3.0</td>\n",
       "      <td>0</td>\n",
       "      <td>Master</td>\n",
       "    </tr>\n",
       "    <tr>\n",
       "      <th>2</th>\n",
       "      <td>1.0</td>\n",
       "      <td>female</td>\n",
       "      <td>2.0000</td>\n",
       "      <td>151.5500</td>\n",
       "      <td>S</td>\n",
       "      <td>3.0</td>\n",
       "      <td>0</td>\n",
       "      <td>Mrs</td>\n",
       "    </tr>\n",
       "    <tr>\n",
       "      <th>3</th>\n",
       "      <td>1.0</td>\n",
       "      <td>male</td>\n",
       "      <td>30.0000</td>\n",
       "      <td>151.5500</td>\n",
       "      <td>S</td>\n",
       "      <td>3.0</td>\n",
       "      <td>0</td>\n",
       "      <td>Mr</td>\n",
       "    </tr>\n",
       "    <tr>\n",
       "      <th>4</th>\n",
       "      <td>1.0</td>\n",
       "      <td>female</td>\n",
       "      <td>25.0000</td>\n",
       "      <td>151.5500</td>\n",
       "      <td>S</td>\n",
       "      <td>3.0</td>\n",
       "      <td>0</td>\n",
       "      <td>Mrs</td>\n",
       "    </tr>\n",
       "    <tr>\n",
       "      <th>...</th>\n",
       "      <td>...</td>\n",
       "      <td>...</td>\n",
       "      <td>...</td>\n",
       "      <td>...</td>\n",
       "      <td>...</td>\n",
       "      <td>...</td>\n",
       "      <td>...</td>\n",
       "      <td>...</td>\n",
       "    </tr>\n",
       "    <tr>\n",
       "      <th>1304</th>\n",
       "      <td>3.0</td>\n",
       "      <td>female</td>\n",
       "      <td>14.5000</td>\n",
       "      <td>14.4542</td>\n",
       "      <td>C</td>\n",
       "      <td>1.0</td>\n",
       "      <td>0</td>\n",
       "      <td>Mrs</td>\n",
       "    </tr>\n",
       "    <tr>\n",
       "      <th>1305</th>\n",
       "      <td>3.0</td>\n",
       "      <td>female</td>\n",
       "      <td>NaN</td>\n",
       "      <td>14.4542</td>\n",
       "      <td>C</td>\n",
       "      <td>1.0</td>\n",
       "      <td>0</td>\n",
       "      <td>Mrs</td>\n",
       "    </tr>\n",
       "    <tr>\n",
       "      <th>1306</th>\n",
       "      <td>3.0</td>\n",
       "      <td>male</td>\n",
       "      <td>26.5000</td>\n",
       "      <td>7.2250</td>\n",
       "      <td>C</td>\n",
       "      <td>0.0</td>\n",
       "      <td>1</td>\n",
       "      <td>Mr</td>\n",
       "    </tr>\n",
       "    <tr>\n",
       "      <th>1307</th>\n",
       "      <td>3.0</td>\n",
       "      <td>male</td>\n",
       "      <td>27.0000</td>\n",
       "      <td>7.2250</td>\n",
       "      <td>C</td>\n",
       "      <td>0.0</td>\n",
       "      <td>1</td>\n",
       "      <td>Mr</td>\n",
       "    </tr>\n",
       "    <tr>\n",
       "      <th>1308</th>\n",
       "      <td>3.0</td>\n",
       "      <td>male</td>\n",
       "      <td>29.0000</td>\n",
       "      <td>7.8750</td>\n",
       "      <td>S</td>\n",
       "      <td>0.0</td>\n",
       "      <td>1</td>\n",
       "      <td>Mr</td>\n",
       "    </tr>\n",
       "  </tbody>\n",
       "</table>\n",
       "<p>1309 rows × 8 columns</p>\n",
       "</div>"
      ],
      "text/plain": [
       "      pclass     sex      age      fare embarked  family is_alone   title\n",
       "0        1.0  female  29.0000  211.3375        S     0.0        1     Mrs\n",
       "1        1.0    male   0.9167  151.5500        S     3.0        0  Master\n",
       "2        1.0  female   2.0000  151.5500        S     3.0        0     Mrs\n",
       "3        1.0    male  30.0000  151.5500        S     3.0        0      Mr\n",
       "4        1.0  female  25.0000  151.5500        S     3.0        0     Mrs\n",
       "...      ...     ...      ...       ...      ...     ...      ...     ...\n",
       "1304     3.0  female  14.5000   14.4542        C     1.0        0     Mrs\n",
       "1305     3.0  female      NaN   14.4542        C     1.0        0     Mrs\n",
       "1306     3.0    male  26.5000    7.2250        C     0.0        1      Mr\n",
       "1307     3.0    male  27.0000    7.2250        C     0.0        1      Mr\n",
       "1308     3.0    male  29.0000    7.8750        S     0.0        1      Mr\n",
       "\n",
       "[1309 rows x 8 columns]"
      ]
     },
     "execution_count": 32,
     "metadata": {},
     "output_type": "execute_result"
    }
   ],
   "source": [
    "X['title'] = X.title.apply(lambda x: 'etc' if etc_titles[x] else x)\n",
    "X"
   ]
  },
  {
   "attachments": {},
   "cell_type": "markdown",
   "id": "3f4641a9",
   "metadata": {
    "id": "3f4641a9"
   },
   "source": [
    "3 개의 호칭만 남는다."
   ]
  },
  {
   "cell_type": "code",
   "execution_count": 33,
   "id": "d7b0c652",
   "metadata": {
    "colab": {
     "base_uri": "https://localhost:8080/"
    },
    "id": "d7b0c652",
    "outputId": "138eca4b-bcc3-4f6f-f2c9-fd52a481a7ec"
   },
   "outputs": [
    {
     "data": {
      "text/plain": [
       "Mr        757\n",
       "Mrs       463\n",
       "Master     61\n",
       "etc        28\n",
       "Name: title, dtype: int64"
      ]
     },
     "execution_count": 33,
     "metadata": {},
     "output_type": "execute_result"
    }
   ],
   "source": [
    "X.title.value_counts()"
   ]
  },
  {
   "attachments": {},
   "cell_type": "markdown",
   "id": "22c3320c",
   "metadata": {
    "id": "22c3320c"
   },
   "source": [
    "## 상관 분석"
   ]
  },
  {
   "attachments": {},
   "cell_type": "markdown",
   "id": "be6756ed",
   "metadata": {
    "id": "be6756ed"
   },
   "source": [
    "타이타닉 호의 침몰 사건에서 생존율과 기타 특성과의 상관 관계를 분석한다.\n",
    "이를 위해 생존 여부 데이터를 `X`와 합친다."
   ]
  },
  {
   "cell_type": "code",
   "execution_count": 34,
   "id": "d51bb51b",
   "metadata": {
    "colab": {
     "base_uri": "https://localhost:8080/",
     "height": 423
    },
    "id": "d51bb51b",
    "outputId": "0c39eadb-53ef-4a5e-e143-a86061dea71f"
   },
   "outputs": [
    {
     "data": {
      "text/html": [
       "<div>\n",
       "<style scoped>\n",
       "    .dataframe tbody tr th:only-of-type {\n",
       "        vertical-align: middle;\n",
       "    }\n",
       "\n",
       "    .dataframe tbody tr th {\n",
       "        vertical-align: top;\n",
       "    }\n",
       "\n",
       "    .dataframe thead th {\n",
       "        text-align: right;\n",
       "    }\n",
       "</style>\n",
       "<table border=\"1\" class=\"dataframe\">\n",
       "  <thead>\n",
       "    <tr style=\"text-align: right;\">\n",
       "      <th></th>\n",
       "      <th>survived</th>\n",
       "      <th>pclass</th>\n",
       "      <th>sex</th>\n",
       "      <th>age</th>\n",
       "      <th>fare</th>\n",
       "      <th>embarked</th>\n",
       "      <th>family</th>\n",
       "      <th>is_alone</th>\n",
       "      <th>title</th>\n",
       "    </tr>\n",
       "  </thead>\n",
       "  <tbody>\n",
       "    <tr>\n",
       "      <th>0</th>\n",
       "      <td>1</td>\n",
       "      <td>1.0</td>\n",
       "      <td>female</td>\n",
       "      <td>29.0000</td>\n",
       "      <td>211.3375</td>\n",
       "      <td>S</td>\n",
       "      <td>0.0</td>\n",
       "      <td>1</td>\n",
       "      <td>Mrs</td>\n",
       "    </tr>\n",
       "    <tr>\n",
       "      <th>1</th>\n",
       "      <td>1</td>\n",
       "      <td>1.0</td>\n",
       "      <td>male</td>\n",
       "      <td>0.9167</td>\n",
       "      <td>151.5500</td>\n",
       "      <td>S</td>\n",
       "      <td>3.0</td>\n",
       "      <td>0</td>\n",
       "      <td>Master</td>\n",
       "    </tr>\n",
       "    <tr>\n",
       "      <th>2</th>\n",
       "      <td>0</td>\n",
       "      <td>1.0</td>\n",
       "      <td>female</td>\n",
       "      <td>2.0000</td>\n",
       "      <td>151.5500</td>\n",
       "      <td>S</td>\n",
       "      <td>3.0</td>\n",
       "      <td>0</td>\n",
       "      <td>Mrs</td>\n",
       "    </tr>\n",
       "    <tr>\n",
       "      <th>3</th>\n",
       "      <td>0</td>\n",
       "      <td>1.0</td>\n",
       "      <td>male</td>\n",
       "      <td>30.0000</td>\n",
       "      <td>151.5500</td>\n",
       "      <td>S</td>\n",
       "      <td>3.0</td>\n",
       "      <td>0</td>\n",
       "      <td>Mr</td>\n",
       "    </tr>\n",
       "    <tr>\n",
       "      <th>4</th>\n",
       "      <td>0</td>\n",
       "      <td>1.0</td>\n",
       "      <td>female</td>\n",
       "      <td>25.0000</td>\n",
       "      <td>151.5500</td>\n",
       "      <td>S</td>\n",
       "      <td>3.0</td>\n",
       "      <td>0</td>\n",
       "      <td>Mrs</td>\n",
       "    </tr>\n",
       "    <tr>\n",
       "      <th>...</th>\n",
       "      <td>...</td>\n",
       "      <td>...</td>\n",
       "      <td>...</td>\n",
       "      <td>...</td>\n",
       "      <td>...</td>\n",
       "      <td>...</td>\n",
       "      <td>...</td>\n",
       "      <td>...</td>\n",
       "      <td>...</td>\n",
       "    </tr>\n",
       "    <tr>\n",
       "      <th>1304</th>\n",
       "      <td>0</td>\n",
       "      <td>3.0</td>\n",
       "      <td>female</td>\n",
       "      <td>14.5000</td>\n",
       "      <td>14.4542</td>\n",
       "      <td>C</td>\n",
       "      <td>1.0</td>\n",
       "      <td>0</td>\n",
       "      <td>Mrs</td>\n",
       "    </tr>\n",
       "    <tr>\n",
       "      <th>1305</th>\n",
       "      <td>0</td>\n",
       "      <td>3.0</td>\n",
       "      <td>female</td>\n",
       "      <td>NaN</td>\n",
       "      <td>14.4542</td>\n",
       "      <td>C</td>\n",
       "      <td>1.0</td>\n",
       "      <td>0</td>\n",
       "      <td>Mrs</td>\n",
       "    </tr>\n",
       "    <tr>\n",
       "      <th>1306</th>\n",
       "      <td>0</td>\n",
       "      <td>3.0</td>\n",
       "      <td>male</td>\n",
       "      <td>26.5000</td>\n",
       "      <td>7.2250</td>\n",
       "      <td>C</td>\n",
       "      <td>0.0</td>\n",
       "      <td>1</td>\n",
       "      <td>Mr</td>\n",
       "    </tr>\n",
       "    <tr>\n",
       "      <th>1307</th>\n",
       "      <td>0</td>\n",
       "      <td>3.0</td>\n",
       "      <td>male</td>\n",
       "      <td>27.0000</td>\n",
       "      <td>7.2250</td>\n",
       "      <td>C</td>\n",
       "      <td>0.0</td>\n",
       "      <td>1</td>\n",
       "      <td>Mr</td>\n",
       "    </tr>\n",
       "    <tr>\n",
       "      <th>1308</th>\n",
       "      <td>0</td>\n",
       "      <td>3.0</td>\n",
       "      <td>male</td>\n",
       "      <td>29.0000</td>\n",
       "      <td>7.8750</td>\n",
       "      <td>S</td>\n",
       "      <td>0.0</td>\n",
       "      <td>1</td>\n",
       "      <td>Mr</td>\n",
       "    </tr>\n",
       "  </tbody>\n",
       "</table>\n",
       "<p>1309 rows × 9 columns</p>\n",
       "</div>"
      ],
      "text/plain": [
       "      survived  pclass     sex      age      fare embarked  family is_alone  \\\n",
       "0            1     1.0  female  29.0000  211.3375        S     0.0        1   \n",
       "1            1     1.0    male   0.9167  151.5500        S     3.0        0   \n",
       "2            0     1.0  female   2.0000  151.5500        S     3.0        0   \n",
       "3            0     1.0    male  30.0000  151.5500        S     3.0        0   \n",
       "4            0     1.0  female  25.0000  151.5500        S     3.0        0   \n",
       "...        ...     ...     ...      ...       ...      ...     ...      ...   \n",
       "1304         0     3.0  female  14.5000   14.4542        C     1.0        0   \n",
       "1305         0     3.0  female      NaN   14.4542        C     1.0        0   \n",
       "1306         0     3.0    male  26.5000    7.2250        C     0.0        1   \n",
       "1307         0     3.0    male  27.0000    7.2250        C     0.0        1   \n",
       "1308         0     3.0    male  29.0000    7.8750        S     0.0        1   \n",
       "\n",
       "       title  \n",
       "0        Mrs  \n",
       "1     Master  \n",
       "2        Mrs  \n",
       "3         Mr  \n",
       "4        Mrs  \n",
       "...      ...  \n",
       "1304     Mrs  \n",
       "1305     Mrs  \n",
       "1306      Mr  \n",
       "1307      Mr  \n",
       "1308      Mr  \n",
       "\n",
       "[1309 rows x 9 columns]"
      ]
     },
     "execution_count": 34,
     "metadata": {},
     "output_type": "execute_result"
    }
   ],
   "source": [
    "X_comb = pd.concat([y, X], axis=1)\n",
    "X_comb"
   ]
  },
  {
   "attachments": {},
   "cell_type": "markdown",
   "id": "9cfaf6bd",
   "metadata": {
    "id": "9cfaf6bd"
   },
   "source": [
    "생존 여부 특성과 다른 특성들과의 상관관계를 확인한다."
   ]
  },
  {
   "attachments": {},
   "cell_type": "markdown",
   "id": "ea1c2030",
   "metadata": {
    "id": "ea1c2030"
   },
   "source": [
    "- `pclass`(승객 클래스) 특성과의 연관성이 가장 높음. 상위 클래스의 승객이 생존률이 높음.\n",
    "- `fare`(티켓 가격) 특성 또한 동일한 이유로 생존 여부에 중요하게 연관됨."
   ]
  },
  {
   "attachments": {},
   "cell_type": "markdown",
   "id": "ee7f6681",
   "metadata": {
    "id": "ee7f6681"
   },
   "source": [
    "### 수치형 특성 상관 관계"
   ]
  },
  {
   "attachments": {},
   "cell_type": "markdown",
   "id": "d56dfbfb",
   "metadata": {
    "id": "d56dfbfb"
   },
   "source": [
    "- `DataFrame.describe()` 메서드: 수치형 특성의 분포를 담은 데이터프레임 생성"
   ]
  },
  {
   "cell_type": "code",
   "execution_count": 35,
   "id": "e9176345",
   "metadata": {
    "colab": {
     "base_uri": "https://localhost:8080/",
     "height": 300
    },
    "id": "e9176345",
    "outputId": "521aaa34-34b7-4245-b2fe-6e94ff98101c"
   },
   "outputs": [
    {
     "data": {
      "text/html": [
       "<div>\n",
       "<style scoped>\n",
       "    .dataframe tbody tr th:only-of-type {\n",
       "        vertical-align: middle;\n",
       "    }\n",
       "\n",
       "    .dataframe tbody tr th {\n",
       "        vertical-align: top;\n",
       "    }\n",
       "\n",
       "    .dataframe thead th {\n",
       "        text-align: right;\n",
       "    }\n",
       "</style>\n",
       "<table border=\"1\" class=\"dataframe\">\n",
       "  <thead>\n",
       "    <tr style=\"text-align: right;\">\n",
       "      <th></th>\n",
       "      <th>survived</th>\n",
       "      <th>pclass</th>\n",
       "      <th>age</th>\n",
       "      <th>fare</th>\n",
       "      <th>family</th>\n",
       "    </tr>\n",
       "  </thead>\n",
       "  <tbody>\n",
       "    <tr>\n",
       "      <th>count</th>\n",
       "      <td>1309.000000</td>\n",
       "      <td>1309.000000</td>\n",
       "      <td>1046.000000</td>\n",
       "      <td>1308.000000</td>\n",
       "      <td>1309.000000</td>\n",
       "    </tr>\n",
       "    <tr>\n",
       "      <th>mean</th>\n",
       "      <td>0.381971</td>\n",
       "      <td>2.294882</td>\n",
       "      <td>29.881135</td>\n",
       "      <td>33.295479</td>\n",
       "      <td>0.883881</td>\n",
       "    </tr>\n",
       "    <tr>\n",
       "      <th>std</th>\n",
       "      <td>0.486055</td>\n",
       "      <td>0.837836</td>\n",
       "      <td>14.413500</td>\n",
       "      <td>51.758668</td>\n",
       "      <td>1.583639</td>\n",
       "    </tr>\n",
       "    <tr>\n",
       "      <th>min</th>\n",
       "      <td>0.000000</td>\n",
       "      <td>1.000000</td>\n",
       "      <td>0.166700</td>\n",
       "      <td>0.000000</td>\n",
       "      <td>0.000000</td>\n",
       "    </tr>\n",
       "    <tr>\n",
       "      <th>25%</th>\n",
       "      <td>0.000000</td>\n",
       "      <td>2.000000</td>\n",
       "      <td>21.000000</td>\n",
       "      <td>7.895800</td>\n",
       "      <td>0.000000</td>\n",
       "    </tr>\n",
       "    <tr>\n",
       "      <th>50%</th>\n",
       "      <td>0.000000</td>\n",
       "      <td>3.000000</td>\n",
       "      <td>28.000000</td>\n",
       "      <td>14.454200</td>\n",
       "      <td>0.000000</td>\n",
       "    </tr>\n",
       "    <tr>\n",
       "      <th>75%</th>\n",
       "      <td>1.000000</td>\n",
       "      <td>3.000000</td>\n",
       "      <td>39.000000</td>\n",
       "      <td>31.275000</td>\n",
       "      <td>1.000000</td>\n",
       "    </tr>\n",
       "    <tr>\n",
       "      <th>max</th>\n",
       "      <td>1.000000</td>\n",
       "      <td>3.000000</td>\n",
       "      <td>80.000000</td>\n",
       "      <td>512.329200</td>\n",
       "      <td>10.000000</td>\n",
       "    </tr>\n",
       "  </tbody>\n",
       "</table>\n",
       "</div>"
      ],
      "text/plain": [
       "          survived       pclass          age         fare       family\n",
       "count  1309.000000  1309.000000  1046.000000  1308.000000  1309.000000\n",
       "mean      0.381971     2.294882    29.881135    33.295479     0.883881\n",
       "std       0.486055     0.837836    14.413500    51.758668     1.583639\n",
       "min       0.000000     1.000000     0.166700     0.000000     0.000000\n",
       "25%       0.000000     2.000000    21.000000     7.895800     0.000000\n",
       "50%       0.000000     3.000000    28.000000    14.454200     0.000000\n",
       "75%       1.000000     3.000000    39.000000    31.275000     1.000000\n",
       "max       1.000000     3.000000    80.000000   512.329200    10.000000"
      ]
     },
     "execution_count": 35,
     "metadata": {},
     "output_type": "execute_result"
    }
   ],
   "source": [
    "X_comb.describe()"
   ]
  },
  {
   "attachments": {},
   "cell_type": "markdown",
   "id": "169baddb",
   "metadata": {
    "id": "169baddb"
   },
   "source": [
    "수치형 특성 목록은 다음과 같다."
   ]
  },
  {
   "cell_type": "code",
   "execution_count": 36,
   "id": "015716ff",
   "metadata": {
    "colab": {
     "base_uri": "https://localhost:8080/"
    },
    "id": "015716ff",
    "outputId": "842371e8-ee49-4dc9-b0e2-e9813856aeb0"
   },
   "outputs": [
    {
     "data": {
      "text/plain": [
       "Index(['survived', 'pclass', 'age', 'fare', 'family'], dtype='object')"
      ]
     },
     "execution_count": 36,
     "metadata": {},
     "output_type": "execute_result"
    }
   ],
   "source": [
    "num_features = X_comb.describe().columns\n",
    "num_features"
   ]
  },
  {
   "attachments": {},
   "cell_type": "markdown",
   "id": "ee66cceb",
   "metadata": {
    "id": "ee66cceb"
   },
   "source": [
    "**피어슨 상관 계수**"
   ]
  },
  {
   "attachments": {},
   "cell_type": "markdown",
   "id": "c9b5e373",
   "metadata": {
    "id": "c9b5e373"
   },
   "source": [
    "수치형 특성들 피어슨 상관 계수<font size='2'>Pearson correlation coefficient</font>를 계산한다."
   ]
  },
  {
   "attachments": {},
   "cell_type": "markdown",
   "id": "a06f8688",
   "metadata": {
    "id": "a06f8688"
   },
   "source": [
    "- `DataFrame.corr()` 함수"
   ]
  },
  {
   "cell_type": "code",
   "execution_count": 37,
   "id": "61a54c05",
   "metadata": {
    "colab": {
     "base_uri": "https://localhost:8080/",
     "height": 206
    },
    "id": "61a54c05",
    "outputId": "9d3a04ec-a3bd-4958-d7bd-70c8b5664baa"
   },
   "outputs": [
    {
     "data": {
      "text/html": [
       "<div>\n",
       "<style scoped>\n",
       "    .dataframe tbody tr th:only-of-type {\n",
       "        vertical-align: middle;\n",
       "    }\n",
       "\n",
       "    .dataframe tbody tr th {\n",
       "        vertical-align: top;\n",
       "    }\n",
       "\n",
       "    .dataframe thead th {\n",
       "        text-align: right;\n",
       "    }\n",
       "</style>\n",
       "<table border=\"1\" class=\"dataframe\">\n",
       "  <thead>\n",
       "    <tr style=\"text-align: right;\">\n",
       "      <th></th>\n",
       "      <th>survived</th>\n",
       "      <th>pclass</th>\n",
       "      <th>age</th>\n",
       "      <th>fare</th>\n",
       "      <th>family</th>\n",
       "    </tr>\n",
       "  </thead>\n",
       "  <tbody>\n",
       "    <tr>\n",
       "      <th>survived</th>\n",
       "      <td>1.000000</td>\n",
       "      <td>-0.312469</td>\n",
       "      <td>-0.055513</td>\n",
       "      <td>0.244265</td>\n",
       "      <td>0.026876</td>\n",
       "    </tr>\n",
       "    <tr>\n",
       "      <th>pclass</th>\n",
       "      <td>-0.312469</td>\n",
       "      <td>1.000000</td>\n",
       "      <td>-0.408106</td>\n",
       "      <td>-0.558629</td>\n",
       "      <td>0.050027</td>\n",
       "    </tr>\n",
       "    <tr>\n",
       "      <th>age</th>\n",
       "      <td>-0.055513</td>\n",
       "      <td>-0.408106</td>\n",
       "      <td>1.000000</td>\n",
       "      <td>0.178739</td>\n",
       "      <td>-0.240230</td>\n",
       "    </tr>\n",
       "    <tr>\n",
       "      <th>fare</th>\n",
       "      <td>0.244265</td>\n",
       "      <td>-0.558629</td>\n",
       "      <td>0.178739</td>\n",
       "      <td>1.000000</td>\n",
       "      <td>0.226492</td>\n",
       "    </tr>\n",
       "    <tr>\n",
       "      <th>family</th>\n",
       "      <td>0.026876</td>\n",
       "      <td>0.050027</td>\n",
       "      <td>-0.240230</td>\n",
       "      <td>0.226492</td>\n",
       "      <td>1.000000</td>\n",
       "    </tr>\n",
       "  </tbody>\n",
       "</table>\n",
       "</div>"
      ],
      "text/plain": [
       "          survived    pclass       age      fare    family\n",
       "survived  1.000000 -0.312469 -0.055513  0.244265  0.026876\n",
       "pclass   -0.312469  1.000000 -0.408106 -0.558629  0.050027\n",
       "age      -0.055513 -0.408106  1.000000  0.178739 -0.240230\n",
       "fare      0.244265 -0.558629  0.178739  1.000000  0.226492\n",
       "family    0.026876  0.050027 -0.240230  0.226492  1.000000"
      ]
     },
     "execution_count": 37,
     "metadata": {},
     "output_type": "execute_result"
    }
   ],
   "source": [
    "corr_df = X_comb[num_features].corr()\n",
    "corr_df"
   ]
  },
  {
   "attachments": {},
   "cell_type": "markdown",
   "id": "b0e28bce",
   "metadata": {
    "id": "b0e28bce"
   },
   "source": [
    "히트맵을 이용하여 보다 명료하게 특성들사이의 선형 상관 관계를 확인한다."
   ]
  },
  {
   "attachments": {},
   "cell_type": "markdown",
   "id": "95d19b79",
   "metadata": {
    "id": "95d19b79"
   },
   "source": [
    "- `sns.heatmap()` 함수"
   ]
  },
  {
   "cell_type": "code",
   "execution_count": 38,
   "id": "4757b07f",
   "metadata": {
    "colab": {
     "base_uri": "https://localhost:8080/",
     "height": 533
    },
    "id": "4757b07f",
    "outputId": "d9105744-be42-4338-fa67-2daf28f7a7a1"
   },
   "outputs": [
    {
     "data": {
      "image/png": "[encoded data removed]",
      "text/plain": [
       "<Figure size 432x288 with 2 Axes>"
      ]
     },
     "metadata": {
      "needs_background": "light"
     },
     "output_type": "display_data"
    }
   ],
   "source": [
    "ax = sns.heatmap(corr_df, annot=True, cmap = \"coolwarm\")"
   ]
  },
  {
   "attachments": {},
   "cell_type": "markdown",
   "id": "be32674d",
   "metadata": {
    "id": "be32674d"
   },
   "source": [
    "**성별 생존률**"
   ]
  },
  {
   "attachments": {},
   "cell_type": "markdown",
   "id": "6482fc92",
   "metadata": {
    "id": "6482fc92"
   },
   "source": [
    "사망자(0)과 생존자(1) 수를 확인한다."
   ]
  },
  {
   "cell_type": "code",
   "execution_count": 39,
   "id": "d1f53b96",
   "metadata": {
    "colab": {
     "base_uri": "https://localhost:8080/"
    },
    "id": "d1f53b96",
    "outputId": "988d8534-68db-4fe8-f2f2-af7fda4f780c"
   },
   "outputs": [
    {
     "data": {
      "text/plain": [
       "0    809\n",
       "1    500\n",
       "Name: survived, dtype: int64"
      ]
     },
     "execution_count": 39,
     "metadata": {},
     "output_type": "execute_result"
    }
   ],
   "source": [
    "survived_sex = X_comb.survived.value_counts()\n",
    "survived_sex"
   ]
  },
  {
   "attachments": {},
   "cell_type": "markdown",
   "id": "97af5938",
   "metadata": {
    "id": "97af5938"
   },
   "source": [
    "막대 그래프로 그린다."
   ]
  },
  {
   "cell_type": "code",
   "execution_count": 40,
   "id": "f1719813",
   "metadata": {
    "colab": {
     "base_uri": "https://localhost:8080/",
     "height": 576
    },
    "id": "f1719813",
    "outputId": "ee61a8cc-57b9-49ef-e9fa-10b5e21dd018"
   },
   "outputs": [
    {
     "data": {
      "image/png": "[encoded data removed]",
      "text/plain": [
       "<Figure size 432x288 with 1 Axes>"
      ]
     },
     "metadata": {
      "needs_background": "light"
     },
     "output_type": "display_data"
    }
   ],
   "source": [
    "fig, ax = plt.subplots()\n",
    "\n",
    "survived_sex.plot(kind='bar', xticks=[0, 1], rot=0)\n",
    "\n",
    "ax.set_xticklabels(['died', 'alive'], fontsize=12)\n",
    "ax.set(xlabel='Survival', ylabel='# of passengers', title='Number of passengers based on their survival')\n",
    "plt.show()"
   ]
  },
  {
   "attachments": {},
   "cell_type": "markdown",
   "id": "0c04c804",
   "metadata": {
    "id": "0c04c804"
   },
   "source": [
    "남성의 생존률을 계산한다."
   ]
  },
  {
   "attachments": {},
   "cell_type": "markdown",
   "id": "1c5f499e",
   "metadata": {
    "id": "1c5f499e"
   },
   "source": [
    "- 남성 생존자 수"
   ]
  },
  {
   "cell_type": "code",
   "execution_count": 41,
   "id": "dea9c5fd",
   "metadata": {
    "colab": {
     "base_uri": "https://localhost:8080/"
    },
    "id": "dea9c5fd",
    "outputId": "fcfc46b5-da70-45ac-a408-0cad2a16fee4"
   },
   "outputs": [
    {
     "data": {
      "text/plain": [
       "161"
      ]
     },
     "execution_count": 41,
     "metadata": {},
     "output_type": "execute_result"
    }
   ],
   "source": [
    "n_men_survived = ((X_comb['survived'][X_comb.sex == 'male']) == 1).sum()\n",
    "n_men_survived"
   ]
  },
  {
   "attachments": {},
   "cell_type": "markdown",
   "id": "ac0e0a19",
   "metadata": {
    "id": "ac0e0a19"
   },
   "source": [
    "- 남성 탑승객 수"
   ]
  },
  {
   "cell_type": "code",
   "execution_count": 42,
   "id": "38573796",
   "metadata": {
    "colab": {
     "base_uri": "https://localhost:8080/"
    },
    "id": "38573796",
    "outputId": "24bc17c6-93c1-4af7-cfa7-fdfb8144a7b6"
   },
   "outputs": [
    {
     "data": {
      "text/plain": [
       "843"
      ]
     },
     "execution_count": 42,
     "metadata": {},
     "output_type": "execute_result"
    }
   ],
   "source": [
    "n_men = X_comb.sex.value_counts().loc['male']\n",
    "n_men"
   ]
  },
  {
   "attachments": {},
   "cell_type": "markdown",
   "id": "b9d15f69",
   "metadata": {
    "id": "b9d15f69"
   },
   "source": [
    "- 남성 생존률"
   ]
  },
  {
   "cell_type": "code",
   "execution_count": 43,
   "id": "c5dd7a1c",
   "metadata": {
    "colab": {
     "base_uri": "https://localhost:8080/"
    },
    "id": "c5dd7a1c",
    "outputId": "764cf488-2cb9-4c96-f10e-7546c52c848c"
   },
   "outputs": [
    {
     "data": {
      "text/plain": [
       "0.19098457888493475"
      ]
     },
     "execution_count": 43,
     "metadata": {},
     "output_type": "execute_result"
    }
   ],
   "source": [
    "n_men_survived / n_men"
   ]
  },
  {
   "attachments": {},
   "cell_type": "markdown",
   "id": "38f16a82",
   "metadata": {
    "id": "38f16a82"
   },
   "source": [
    "- `sns.barplot()` 함수를 이용하면 쉽게 성별 생존률을 확인할 수 있다."
   ]
  },
  {
   "cell_type": "code",
   "execution_count": 44,
   "id": "44341e80",
   "metadata": {
    "colab": {
     "base_uri": "https://localhost:8080/",
     "height": 573
    },
    "id": "44341e80",
    "outputId": "08af075c-7f22-4a59-b6be-bfe5d99a05d2"
   },
   "outputs": [
    {
     "data": {
      "image/png": "[encoded data removed]",
      "text/plain": [
       "<Figure size 432x288 with 1 Axes>"
      ]
     },
     "metadata": {
      "needs_background": "light"
     },
     "output_type": "display_data"
    }
   ],
   "source": [
    "sns.barplot(data=X_comb, \n",
    "            x='sex',\n",
    "            y='survived'\n",
    "           )\n",
    " \n",
    "plt.title('Survival by gender')\n",
    "plt.show()"
   ]
  },
  {
   "attachments": {},
   "cell_type": "markdown",
   "id": "de098795",
   "metadata": {
    "id": "de098795"
   },
   "source": [
    "**연령별 생존자**"
   ]
  },
  {
   "attachments": {},
   "cell_type": "markdown",
   "id": "aadb5605",
   "metadata": {
    "id": "aadb5605"
   },
   "source": [
    "나이 특성엔 결측치가 많다."
   ]
  },
  {
   "cell_type": "code",
   "execution_count": 45,
   "id": "7e843897",
   "metadata": {
    "colab": {
     "base_uri": "https://localhost:8080/"
    },
    "id": "7e843897",
    "outputId": "11984515-df18-4df4-ee45-29ce4233aef3"
   },
   "outputs": [
    {
     "data": {
      "text/plain": [
       "263"
      ]
     },
     "execution_count": 45,
     "metadata": {},
     "output_type": "execute_result"
    }
   ],
   "source": [
    "X_comb.age.isnull().sum()"
   ]
  },
  {
   "attachments": {},
   "cell_type": "markdown",
   "id": "5a695efc",
   "metadata": {
    "id": "5a695efc"
   },
   "source": [
    "- 전체 탑승객의 나이"
   ]
  },
  {
   "cell_type": "code",
   "execution_count": 46,
   "id": "a84efe8b",
   "metadata": {
    "colab": {
     "base_uri": "https://localhost:8080/"
    },
    "id": "a84efe8b",
    "outputId": "d9d83b49-a042-4fa3-c163-fe323df4b8b2"
   },
   "outputs": [
    {
     "data": {
      "text/plain": [
       "0       29.0000\n",
       "1        0.9167\n",
       "2        2.0000\n",
       "3       30.0000\n",
       "4       25.0000\n",
       "         ...   \n",
       "1301    45.5000\n",
       "1304    14.5000\n",
       "1306    26.5000\n",
       "1307    27.0000\n",
       "1308    29.0000\n",
       "Name: age, Length: 1046, dtype: float64"
      ]
     },
     "execution_count": 46,
     "metadata": {},
     "output_type": "execute_result"
    }
   ],
   "source": [
    "X_comb.age.dropna()"
   ]
  },
  {
   "attachments": {},
   "cell_type": "markdown",
   "id": "cd7deae0",
   "metadata": {
    "id": "cd7deae0"
   },
   "source": [
    "- 생존자 나이"
   ]
  },
  {
   "cell_type": "code",
   "execution_count": 47,
   "id": "db4248ff",
   "metadata": {
    "colab": {
     "base_uri": "https://localhost:8080/"
    },
    "id": "db4248ff",
    "outputId": "b5e6e7df-278e-49af-a7fc-6e2b28c006c0"
   },
   "outputs": [
    {
     "data": {
      "text/plain": [
       "0       29.0000\n",
       "1        0.9167\n",
       "5       48.0000\n",
       "6       63.0000\n",
       "8       53.0000\n",
       "         ...   \n",
       "1261    63.0000\n",
       "1277    22.0000\n",
       "1286    38.0000\n",
       "1290    47.0000\n",
       "1300    15.0000\n",
       "Name: age, Length: 427, dtype: float64"
      ]
     },
     "execution_count": 47,
     "metadata": {},
     "output_type": "execute_result"
    }
   ],
   "source": [
    "X_comb['age'][X_comb.survived == 1].dropna()"
   ]
  },
  {
   "attachments": {},
   "cell_type": "markdown",
   "id": "72f83e29",
   "metadata": {
    "id": "72f83e29"
   },
   "source": [
    "전체 탑승자와 생존자를 연령별로 구분하여 히스토그램을 그린다."
   ]
  },
  {
   "cell_type": "code",
   "execution_count": 48,
   "id": "1ba869a5",
   "metadata": {
    "colab": {
     "base_uri": "https://localhost:8080/",
     "height": 573
    },
    "id": "1ba869a5",
    "outputId": "0d04e41f-47a2-4d95-917e-23b6953bb507"
   },
   "outputs": [
    {
     "data": {
      "image/png": "[encoded data removed]",
      "text/plain": [
       "<Figure size 432x288 with 1 Axes>"
      ]
     },
     "metadata": {
      "needs_background": "light"
     },
     "output_type": "display_data"
    }
   ],
   "source": [
    "fig, ax = plt.subplots()\n",
    " \n",
    "ax.hist(X_comb.age.dropna(), label='Total') # 원래는 연령별 전체 탑승자 수. 하지만 생존자 수에 의해 일부 구간 가려짐.\n",
    "ax.hist(X_comb['age'][X_comb.survived == 1].dropna(), label='Survived')\n",
    " \n",
    "plt.ylabel('Survivors')\n",
    "plt.xlabel('Age')\n",
    "plt.title('Survival by age')\n",
    "plt.legend()\n",
    "plt.show()"
   ]
  },
  {
   "attachments": {},
   "cell_type": "markdown",
   "id": "d89af03c",
   "metadata": {
    "id": "d89af03c"
   },
   "source": [
    "**연습 문제**\n",
    "\n",
    "연령별 생존률을 `bar.plot()` 함수를 이용하여 구하라.\n",
    "\n",
    "힌트: 10살 단위로 구간을 나눈다."
   ]
  },
  {
   "attachments": {},
   "cell_type": "markdown",
   "id": "f5d5660d",
   "metadata": {
    "id": "f5d5660d"
   },
   "source": [
    "**탑승자 클래스(1-3등 클래스)별 생존률**"
   ]
  },
  {
   "attachments": {},
   "cell_type": "markdown",
   "id": "68308f10",
   "metadata": {
    "id": "68308f10"
   },
   "source": [
    "- 클래스별 탑승자 수"
   ]
  },
  {
   "cell_type": "code",
   "execution_count": 49,
   "id": "d56f2ef0",
   "metadata": {
    "colab": {
     "base_uri": "https://localhost:8080/",
     "height": 573
    },
    "id": "d56f2ef0",
    "outputId": "94402edd-14f0-4e86-deba-43215b2e5835"
   },
   "outputs": [
    {
     "data": {
      "image/png": "[encoded data removed]",
      "text/plain": [
       "<Figure size 432x288 with 1 Axes>"
      ]
     },
     "metadata": {
      "needs_background": "light"
     },
     "output_type": "display_data"
    }
   ],
   "source": [
    "sns.countplot(x='pclass', data=X_comb)\n",
    "\n",
    "plt.title('Unique survivors by class')\n",
    "plt.show()"
   ]
  },
  {
   "attachments": {},
   "cell_type": "markdown",
   "id": "938e3b32",
   "metadata": {
    "id": "938e3b32"
   },
   "source": [
    "- 클래스별 생존률"
   ]
  },
  {
   "cell_type": "code",
   "execution_count": 50,
   "id": "6a697ec3",
   "metadata": {
    "colab": {
     "base_uri": "https://localhost:8080/",
     "height": 573
    },
    "id": "6a697ec3",
    "outputId": "4da6f892-e495-4fd7-c617-2cbd5a7431cb",
    "scrolled": false
   },
   "outputs": [
    {
     "data": {
      "image/png": "[encoded data removed]",
      "text/plain": [
       "<Figure size 432x288 with 1 Axes>"
      ]
     },
     "metadata": {
      "needs_background": "light"
     },
     "output_type": "display_data"
    }
   ],
   "source": [
    "sns.barplot(x='pclass', y='survived', data=X_comb)\n",
    "\n",
    "plt.title('Percent survivers by class')\n",
    "plt.show()"
   ]
  },
  {
   "attachments": {},
   "cell_type": "markdown",
   "id": "d35d969e",
   "metadata": {
    "id": "d35d969e"
   },
   "source": [
    "**오차 막대**\n",
    "\n",
    "- `errorbar` 옵션 인자\n",
    "    - `ci`: 신뢰 구간<font size='2'>confidence interval</font>\n",
    "    - `pi`: 백분위수 구간<font size='2'>percentile interval</font>\n",
    "    - `se`: 표준 오차<font size='2'>standard error</font>\n",
    "    - `sd`: 표준 편차<font size='2'>standard deviation</font> (기본값)\n",
    "    \n",
    "- 참고: [Statistical estimation and error bars](https://seaborn.pydata.org/tutorial/error_bars.html)"
   ]
  },
  {
   "cell_type": "code",
   "execution_count": 51,
   "id": "90a58650",
   "metadata": {
    "id": "90a58650"
   },
   "outputs": [],
   "source": [
    "plt.close('all')"
   ]
  }
 ],
 "metadata": {
  "colab": {
   "provenance": []
  },
  "kernelspec": {
   "display_name": "Python 3 (ipykernel)",
   "language": "python",
   "name": "python3"
  },
  "language_info": {
   "codemirror_mode": {
    "name": "ipython",
    "version": 3
   },
   "file_extension": ".py",
   "mimetype": "text/x-python",
   "name": "python",
   "nbconvert_exporter": "python",
   "pygments_lexer": "ipython3",
   "version": "3.9.13"
  }
 },
 "nbformat": 4,
 "nbformat_minor": 5
}
